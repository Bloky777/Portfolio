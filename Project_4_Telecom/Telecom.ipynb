{
  "cells": [
    {
      "cell_type": "markdown",
      "id": "312c21c9",
      "metadata": {
        "id": "312c21c9"
      },
      "source": [
        "# Проект \"Телекоммуникации\"\n",
        "Оператор связи «ТелеДом» хочет бороться с оттоком клиентов. Для этого его сотрудники начнут предлагать промокоды и специальные условия всем, кто планирует отказаться от услуг связи. Чтобы заранее находить таких пользователей, «ТелеДому» нужна модель, которая будет предсказывать, разорвёт ли абонент договор. Команда оператора собрала персональные данные о некоторых клиентах, информацию об их тарифах и услугах. Ваша задача — обучить на этих данных модель для прогноза оттока клиентов.\n",
        "\n",
        "Данные представлены в 4 таблицах:\n",
        "\n",
        "- contract_new.csv — информация о договоре;\n",
        "- personal_new.csv — персональные данные клиента;\n",
        "- internet_new.csv — информация об интернет-услугах;\n",
        "- phone_new.csv — информация об услугах телефонии.\n",
        "\n",
        "Во всех файлах столбец customerID содержит код клиента.\n",
        "\n",
        "Оператор предоставляет два основных типа услуг:\n",
        "\n",
        "* Стационарную телефонную связь. Возможно подключение телефонного аппарата к нескольким линиям одновременно.\n",
        "* Интернет. Подключение может быть двух типов: через телефонную линию (DSL, от англ. digital subscriber line, «цифровая абонентская линия») или оптоволоконный кабель (Fiber optic).\n",
        "\n",
        "Также доступны такие услуги:\n",
        "\n",
        "- Интернет-безопасность: антивирус (DeviceProtection) и блокировка небезопасных сайтов (OnlineSecurity);\n",
        "- Выделенная линия технической поддержки (TechSupport);\n",
        "- Облачное хранилище файлов для резервного копирования данных (OnlineBackup);\n",
        "- Стриминговое телевидение (StreamingTV) и каталог фильмов (StreamingMovies).\n",
        "\n",
        "За услуги клиенты могут платить каждый месяц или заключить договор на 1–2 года. Доступны различные способы расчёта и возможность получения электронного чека.\n",
        "\n",
        "**Информация о договорах актуальна на 1 февраля 2020.**"
      ]
    },
    {
      "cell_type": "markdown",
      "id": "9bc16eb9",
      "metadata": {
        "id": "9bc16eb9"
      },
      "source": [
        "## Загрузка данных."
      ]
    },
    {
      "cell_type": "markdown",
      "id": "e16f168b",
      "metadata": {
        "id": "e16f168b"
      },
      "source": [
        "Импортируем и загрузим все необходимые инструменты и библиотеки."
      ]
    },
    {
      "cell_type": "code",
      "execution_count": null,
      "id": "6a6b598f",
      "metadata": {
        "id": "6a6b598f"
      },
      "outputs": [],
      "source": [
        "! pip install snakecase -q"
      ]
    },
    {
      "cell_type": "code",
      "execution_count": null,
      "id": "1ef22201",
      "metadata": {
        "id": "1ef22201"
      },
      "outputs": [],
      "source": [
        "! pip install phik -q"
      ]
    },
    {
      "cell_type": "code",
      "execution_count": null,
      "id": "aa8cbb4a",
      "metadata": {
        "id": "aa8cbb4a"
      },
      "outputs": [],
      "source": [
        "import pandas as pd\n",
        "import numpy as np\n",
        "import seaborn as sns\n",
        "import matplotlib.pyplot as plt\n",
        "import snakecase\n",
        "import phik\n",
        "from phik.report import plot_correlation_matrix\n",
        "\n",
        "from sklearn.model_selection import train_test_split\n",
        "\n",
        "from sklearn.linear_model import LogisticRegression\n",
        "from sklearn.ensemble import RandomForestClassifier\n",
        "from catboost import CatBoostClassifier, Pool\n",
        "from sklearn.metrics import accuracy_score, roc_auc_score, confusion_matrix\n",
        "\n",
        "from sklearn.preprocessing import (\n",
        "    OneHotEncoder,\n",
        "    OrdinalEncoder,\n",
        "    StandardScaler\n",
        ")\n",
        "\n",
        "from sklearn.compose import ColumnTransformer\n",
        "from sklearn.feature_selection import SelectFromModel\n",
        "from sklearn.model_selection import GridSearchCV\n",
        "from sklearn.pipeline import Pipeline, make_pipeline\n",
        "\n",
        "import warnings\n",
        "warnings.filterwarnings('ignore')\n",
        "\n",
        "\n",
        "RANDOM_STATE = 131123"
      ]
    },
    {
      "cell_type": "markdown",
      "id": "0720daa1",
      "metadata": {
        "id": "0720daa1"
      },
      "source": [
        "Загрузим и назовем наши датасеты."
      ]
    },
    {
      "cell_type": "code",
      "execution_count": null,
      "id": "dedcc8c9",
      "metadata": {
        "id": "dedcc8c9"
      },
      "outputs": [],
      "source": [
        "contract_df=pd.read_csv('/datasets/contract_new.csv')\n",
        "personal_df=pd.read_csv('/datasets/personal_new.csv')\n",
        "internet_df=pd.read_csv('/datasets/internet_new.csv')\n",
        "phone_df=pd.read_csv('/datasets/phone_new.csv')"
      ]
    },
    {
      "cell_type": "markdown",
      "id": "8e2de6b7",
      "metadata": {
        "id": "8e2de6b7"
      },
      "source": [
        "## Исследовательский анализ данных."
      ]
    },
    {
      "cell_type": "markdown",
      "id": "6929d58a",
      "metadata": {
        "id": "6929d58a"
      },
      "source": [
        "Создадим функцию дающую краткое представление о датасетах:\n",
        "- отображает случайную выборку из 5 строк;\n",
        "- показыват общую информацию;\n",
        "- описывает числовые и категориальные признаки;\n",
        "- показывает явные пропуски и дубликаты."
      ]
    },
    {
      "cell_type": "code",
      "execution_count": null,
      "id": "a2ac727c",
      "metadata": {
        "id": "a2ac727c"
      },
      "outputs": [],
      "source": [
        "def open_df(df):\n",
        "    display(df.sample(5))\n",
        "    print()\n",
        "    display(df.info())\n",
        "    print()\n",
        "    display(df.describe(include='all'))\n",
        "    print()\n",
        "    print('Явные пропуски в данных')\n",
        "    print(df.isna().sum()/len(df))\n",
        "    print()\n",
        "    print('Явные дубликаты в данных')\n",
        "    print(df.duplicated().sum())\n",
        ""
      ]
    },
    {
      "cell_type": "markdown",
      "id": "146d7d60",
      "metadata": {
        "id": "146d7d60"
      },
      "source": [
        "### Датафрейм с данными по контрактам."
      ]
    },
    {
      "cell_type": "markdown",
      "id": "d6849f45",
      "metadata": {
        "id": "d6849f45"
      },
      "source": [
        "Рассмотрим первый датасет с контрактами."
      ]
    },
    {
      "cell_type": "code",
      "execution_count": null,
      "id": "83fc066d",
      "metadata": {
        "id": "83fc066d",
        "outputId": "171a2044-39d2-4b7b-abe4-6e038cfb061a"
      },
      "outputs": [
        {
          "data": {
            "text/html": [
              "<div>\n",
              "<style scoped>\n",
              "    .dataframe tbody tr th:only-of-type {\n",
              "        vertical-align: middle;\n",
              "    }\n",
              "\n",
              "    .dataframe tbody tr th {\n",
              "        vertical-align: top;\n",
              "    }\n",
              "\n",
              "    .dataframe thead th {\n",
              "        text-align: right;\n",
              "    }\n",
              "</style>\n",
              "<table border=\"1\" class=\"dataframe\">\n",
              "  <thead>\n",
              "    <tr style=\"text-align: right;\">\n",
              "      <th></th>\n",
              "      <th>customerID</th>\n",
              "      <th>BeginDate</th>\n",
              "      <th>EndDate</th>\n",
              "      <th>Type</th>\n",
              "      <th>PaperlessBilling</th>\n",
              "      <th>PaymentMethod</th>\n",
              "      <th>MonthlyCharges</th>\n",
              "      <th>TotalCharges</th>\n",
              "    </tr>\n",
              "  </thead>\n",
              "  <tbody>\n",
              "    <tr>\n",
              "      <th>5671</th>\n",
              "      <td>6370-ZVHDV</td>\n",
              "      <td>2015-01-01</td>\n",
              "      <td>No</td>\n",
              "      <td>Two year</td>\n",
              "      <td>No</td>\n",
              "      <td>Bank transfer (automatic)</td>\n",
              "      <td>25.30</td>\n",
              "      <td>1543.3</td>\n",
              "    </tr>\n",
              "    <tr>\n",
              "      <th>130</th>\n",
              "      <td>2876-GZYZC</td>\n",
              "      <td>2019-01-01</td>\n",
              "      <td>No</td>\n",
              "      <td>Month-to-month</td>\n",
              "      <td>Yes</td>\n",
              "      <td>Electronic check</td>\n",
              "      <td>85.95</td>\n",
              "      <td>1173.22</td>\n",
              "    </tr>\n",
              "    <tr>\n",
              "      <th>6844</th>\n",
              "      <td>6897-UUBNU</td>\n",
              "      <td>2017-09-01</td>\n",
              "      <td>2018-03-01</td>\n",
              "      <td>Month-to-month</td>\n",
              "      <td>No</td>\n",
              "      <td>Mailed check</td>\n",
              "      <td>89.65</td>\n",
              "      <td>537.9</td>\n",
              "    </tr>\n",
              "    <tr>\n",
              "      <th>2858</th>\n",
              "      <td>9512-PHSMG</td>\n",
              "      <td>2019-04-01</td>\n",
              "      <td>No</td>\n",
              "      <td>Month-to-month</td>\n",
              "      <td>Yes</td>\n",
              "      <td>Mailed check</td>\n",
              "      <td>20.55</td>\n",
              "      <td>207.56</td>\n",
              "    </tr>\n",
              "    <tr>\n",
              "      <th>6747</th>\n",
              "      <td>5245-VDBUR</td>\n",
              "      <td>2015-10-01</td>\n",
              "      <td>No</td>\n",
              "      <td>One year</td>\n",
              "      <td>No</td>\n",
              "      <td>Mailed check</td>\n",
              "      <td>35.45</td>\n",
              "      <td>1843.4</td>\n",
              "    </tr>\n",
              "  </tbody>\n",
              "</table>\n",
              "</div>"
            ],
            "text/plain": [
              "      customerID   BeginDate     EndDate            Type PaperlessBilling  \\\n",
              "5671  6370-ZVHDV  2015-01-01          No        Two year               No   \n",
              "130   2876-GZYZC  2019-01-01          No  Month-to-month              Yes   \n",
              "6844  6897-UUBNU  2017-09-01  2018-03-01  Month-to-month               No   \n",
              "2858  9512-PHSMG  2019-04-01          No  Month-to-month              Yes   \n",
              "6747  5245-VDBUR  2015-10-01          No        One year               No   \n",
              "\n",
              "                  PaymentMethod  MonthlyCharges TotalCharges  \n",
              "5671  Bank transfer (automatic)           25.30       1543.3  \n",
              "130            Electronic check           85.95      1173.22  \n",
              "6844               Mailed check           89.65        537.9  \n",
              "2858               Mailed check           20.55       207.56  \n",
              "6747               Mailed check           35.45       1843.4  "
            ]
          },
          "metadata": {},
          "output_type": "display_data"
        },
        {
          "name": "stdout",
          "output_type": "stream",
          "text": [
            "\n",
            "<class 'pandas.core.frame.DataFrame'>\n",
            "RangeIndex: 7043 entries, 0 to 7042\n",
            "Data columns (total 8 columns):\n",
            " #   Column            Non-Null Count  Dtype  \n",
            "---  ------            --------------  -----  \n",
            " 0   customerID        7043 non-null   object \n",
            " 1   BeginDate         7043 non-null   object \n",
            " 2   EndDate           7043 non-null   object \n",
            " 3   Type              7043 non-null   object \n",
            " 4   PaperlessBilling  7043 non-null   object \n",
            " 5   PaymentMethod     7043 non-null   object \n",
            " 6   MonthlyCharges    7043 non-null   float64\n",
            " 7   TotalCharges      7043 non-null   object \n",
            "dtypes: float64(1), object(7)\n",
            "memory usage: 440.3+ KB\n"
          ]
        },
        {
          "data": {
            "text/plain": [
              "None"
            ]
          },
          "metadata": {},
          "output_type": "display_data"
        },
        {
          "name": "stdout",
          "output_type": "stream",
          "text": [
            "\n"
          ]
        },
        {
          "data": {
            "text/html": [
              "<div>\n",
              "<style scoped>\n",
              "    .dataframe tbody tr th:only-of-type {\n",
              "        vertical-align: middle;\n",
              "    }\n",
              "\n",
              "    .dataframe tbody tr th {\n",
              "        vertical-align: top;\n",
              "    }\n",
              "\n",
              "    .dataframe thead th {\n",
              "        text-align: right;\n",
              "    }\n",
              "</style>\n",
              "<table border=\"1\" class=\"dataframe\">\n",
              "  <thead>\n",
              "    <tr style=\"text-align: right;\">\n",
              "      <th></th>\n",
              "      <th>customerID</th>\n",
              "      <th>BeginDate</th>\n",
              "      <th>EndDate</th>\n",
              "      <th>Type</th>\n",
              "      <th>PaperlessBilling</th>\n",
              "      <th>PaymentMethod</th>\n",
              "      <th>MonthlyCharges</th>\n",
              "      <th>TotalCharges</th>\n",
              "    </tr>\n",
              "  </thead>\n",
              "  <tbody>\n",
              "    <tr>\n",
              "      <th>count</th>\n",
              "      <td>7043</td>\n",
              "      <td>7043</td>\n",
              "      <td>7043</td>\n",
              "      <td>7043</td>\n",
              "      <td>7043</td>\n",
              "      <td>7043</td>\n",
              "      <td>7043.000000</td>\n",
              "      <td>7043</td>\n",
              "    </tr>\n",
              "    <tr>\n",
              "      <th>unique</th>\n",
              "      <td>7043</td>\n",
              "      <td>77</td>\n",
              "      <td>67</td>\n",
              "      <td>3</td>\n",
              "      <td>2</td>\n",
              "      <td>4</td>\n",
              "      <td>NaN</td>\n",
              "      <td>6658</td>\n",
              "    </tr>\n",
              "    <tr>\n",
              "      <th>top</th>\n",
              "      <td>1996-DBMUS</td>\n",
              "      <td>2014-02-01</td>\n",
              "      <td>No</td>\n",
              "      <td>Month-to-month</td>\n",
              "      <td>Yes</td>\n",
              "      <td>Electronic check</td>\n",
              "      <td>NaN</td>\n",
              "      <td></td>\n",
              "    </tr>\n",
              "    <tr>\n",
              "      <th>freq</th>\n",
              "      <td>1</td>\n",
              "      <td>366</td>\n",
              "      <td>5942</td>\n",
              "      <td>3875</td>\n",
              "      <td>4171</td>\n",
              "      <td>2365</td>\n",
              "      <td>NaN</td>\n",
              "      <td>11</td>\n",
              "    </tr>\n",
              "    <tr>\n",
              "      <th>mean</th>\n",
              "      <td>NaN</td>\n",
              "      <td>NaN</td>\n",
              "      <td>NaN</td>\n",
              "      <td>NaN</td>\n",
              "      <td>NaN</td>\n",
              "      <td>NaN</td>\n",
              "      <td>64.761692</td>\n",
              "      <td>NaN</td>\n",
              "    </tr>\n",
              "    <tr>\n",
              "      <th>std</th>\n",
              "      <td>NaN</td>\n",
              "      <td>NaN</td>\n",
              "      <td>NaN</td>\n",
              "      <td>NaN</td>\n",
              "      <td>NaN</td>\n",
              "      <td>NaN</td>\n",
              "      <td>30.090047</td>\n",
              "      <td>NaN</td>\n",
              "    </tr>\n",
              "    <tr>\n",
              "      <th>min</th>\n",
              "      <td>NaN</td>\n",
              "      <td>NaN</td>\n",
              "      <td>NaN</td>\n",
              "      <td>NaN</td>\n",
              "      <td>NaN</td>\n",
              "      <td>NaN</td>\n",
              "      <td>18.250000</td>\n",
              "      <td>NaN</td>\n",
              "    </tr>\n",
              "    <tr>\n",
              "      <th>25%</th>\n",
              "      <td>NaN</td>\n",
              "      <td>NaN</td>\n",
              "      <td>NaN</td>\n",
              "      <td>NaN</td>\n",
              "      <td>NaN</td>\n",
              "      <td>NaN</td>\n",
              "      <td>35.500000</td>\n",
              "      <td>NaN</td>\n",
              "    </tr>\n",
              "    <tr>\n",
              "      <th>50%</th>\n",
              "      <td>NaN</td>\n",
              "      <td>NaN</td>\n",
              "      <td>NaN</td>\n",
              "      <td>NaN</td>\n",
              "      <td>NaN</td>\n",
              "      <td>NaN</td>\n",
              "      <td>70.350000</td>\n",
              "      <td>NaN</td>\n",
              "    </tr>\n",
              "    <tr>\n",
              "      <th>75%</th>\n",
              "      <td>NaN</td>\n",
              "      <td>NaN</td>\n",
              "      <td>NaN</td>\n",
              "      <td>NaN</td>\n",
              "      <td>NaN</td>\n",
              "      <td>NaN</td>\n",
              "      <td>89.850000</td>\n",
              "      <td>NaN</td>\n",
              "    </tr>\n",
              "    <tr>\n",
              "      <th>max</th>\n",
              "      <td>NaN</td>\n",
              "      <td>NaN</td>\n",
              "      <td>NaN</td>\n",
              "      <td>NaN</td>\n",
              "      <td>NaN</td>\n",
              "      <td>NaN</td>\n",
              "      <td>118.750000</td>\n",
              "      <td>NaN</td>\n",
              "    </tr>\n",
              "  </tbody>\n",
              "</table>\n",
              "</div>"
            ],
            "text/plain": [
              "        customerID   BeginDate EndDate            Type PaperlessBilling  \\\n",
              "count         7043        7043    7043            7043             7043   \n",
              "unique        7043          77      67               3                2   \n",
              "top     1996-DBMUS  2014-02-01      No  Month-to-month              Yes   \n",
              "freq             1         366    5942            3875             4171   \n",
              "mean           NaN         NaN     NaN             NaN              NaN   \n",
              "std            NaN         NaN     NaN             NaN              NaN   \n",
              "min            NaN         NaN     NaN             NaN              NaN   \n",
              "25%            NaN         NaN     NaN             NaN              NaN   \n",
              "50%            NaN         NaN     NaN             NaN              NaN   \n",
              "75%            NaN         NaN     NaN             NaN              NaN   \n",
              "max            NaN         NaN     NaN             NaN              NaN   \n",
              "\n",
              "           PaymentMethod  MonthlyCharges TotalCharges  \n",
              "count               7043     7043.000000         7043  \n",
              "unique                 4             NaN         6658  \n",
              "top     Electronic check             NaN               \n",
              "freq                2365             NaN           11  \n",
              "mean                 NaN       64.761692          NaN  \n",
              "std                  NaN       30.090047          NaN  \n",
              "min                  NaN       18.250000          NaN  \n",
              "25%                  NaN       35.500000          NaN  \n",
              "50%                  NaN       70.350000          NaN  \n",
              "75%                  NaN       89.850000          NaN  \n",
              "max                  NaN      118.750000          NaN  "
            ]
          },
          "metadata": {},
          "output_type": "display_data"
        },
        {
          "name": "stdout",
          "output_type": "stream",
          "text": [
            "\n",
            "Явные пропуски в данных\n",
            "customerID          0.0\n",
            "BeginDate           0.0\n",
            "EndDate             0.0\n",
            "Type                0.0\n",
            "PaperlessBilling    0.0\n",
            "PaymentMethod       0.0\n",
            "MonthlyCharges      0.0\n",
            "TotalCharges        0.0\n",
            "dtype: float64\n",
            "\n",
            "Явные дубликаты в данных\n",
            "0\n"
          ]
        }
      ],
      "source": [
        "open_df(contract_df)"
      ]
    },
    {
      "cell_type": "markdown",
      "id": "2a31884a",
      "metadata": {
        "id": "2a31884a"
      },
      "source": [
        "В датасете 7043 строк и 8 признаков. По признаку `EndDate` предлагаю сразу создать целевой признак -`ClientLeft`(1-клиент ушел, 0-клиент остался).  \n",
        "Также данных присутствуют признаки с неверными типами данных - изменим это. Для дальнейшего feature engeneering заменим все значения No в признаке `EndDate` на актуальную дату, прописанную в описании проекта `2020-02-01` и сразу на его основе создадим признак - `Duration`.\n",
        "\n",
        "Хотя явных пропусков и дубликатов не выявлено, в столбце TotalCharges самым повторяющимся значением является пустая строка, рассмотрим этот момент подробнее."
      ]
    },
    {
      "cell_type": "code",
      "execution_count": null,
      "id": "8865b4fd",
      "metadata": {
        "id": "8865b4fd"
      },
      "outputs": [],
      "source": [
        "#создали целевой признак.\n",
        "contract_df['ClientLeft'] = contract_df['EndDate'].apply(lambda x: 1 if x != 'No' else 0)"
      ]
    },
    {
      "cell_type": "code",
      "execution_count": null,
      "id": "9f7a6bdb",
      "metadata": {
        "id": "9f7a6bdb",
        "outputId": "04a3163e-e8c7-4c26-9d23-7332cfd9aa5e"
      },
      "outputs": [
        {
          "data": {
            "text/html": [
              "<div>\n",
              "<style scoped>\n",
              "    .dataframe tbody tr th:only-of-type {\n",
              "        vertical-align: middle;\n",
              "    }\n",
              "\n",
              "    .dataframe tbody tr th {\n",
              "        vertical-align: top;\n",
              "    }\n",
              "\n",
              "    .dataframe thead th {\n",
              "        text-align: right;\n",
              "    }\n",
              "</style>\n",
              "<table border=\"1\" class=\"dataframe\">\n",
              "  <thead>\n",
              "    <tr style=\"text-align: right;\">\n",
              "      <th></th>\n",
              "      <th>customerID</th>\n",
              "      <th>BeginDate</th>\n",
              "      <th>EndDate</th>\n",
              "      <th>Type</th>\n",
              "      <th>PaperlessBilling</th>\n",
              "      <th>PaymentMethod</th>\n",
              "      <th>MonthlyCharges</th>\n",
              "      <th>TotalCharges</th>\n",
              "      <th>ClientLeft</th>\n",
              "    </tr>\n",
              "  </thead>\n",
              "  <tbody>\n",
              "    <tr>\n",
              "      <th>0</th>\n",
              "      <td>7590-VHVEG</td>\n",
              "      <td>2020-01-01</td>\n",
              "      <td>No</td>\n",
              "      <td>Month-to-month</td>\n",
              "      <td>Yes</td>\n",
              "      <td>Electronic check</td>\n",
              "      <td>29.85</td>\n",
              "      <td>31.04</td>\n",
              "      <td>0</td>\n",
              "    </tr>\n",
              "    <tr>\n",
              "      <th>1</th>\n",
              "      <td>5575-GNVDE</td>\n",
              "      <td>2017-04-01</td>\n",
              "      <td>No</td>\n",
              "      <td>One year</td>\n",
              "      <td>No</td>\n",
              "      <td>Mailed check</td>\n",
              "      <td>56.95</td>\n",
              "      <td>2071.84</td>\n",
              "      <td>0</td>\n",
              "    </tr>\n",
              "    <tr>\n",
              "      <th>2</th>\n",
              "      <td>3668-QPYBK</td>\n",
              "      <td>2019-10-01</td>\n",
              "      <td>No</td>\n",
              "      <td>Month-to-month</td>\n",
              "      <td>Yes</td>\n",
              "      <td>Mailed check</td>\n",
              "      <td>53.85</td>\n",
              "      <td>226.17</td>\n",
              "      <td>0</td>\n",
              "    </tr>\n",
              "    <tr>\n",
              "      <th>3</th>\n",
              "      <td>7795-CFOCW</td>\n",
              "      <td>2016-05-01</td>\n",
              "      <td>No</td>\n",
              "      <td>One year</td>\n",
              "      <td>No</td>\n",
              "      <td>Bank transfer (automatic)</td>\n",
              "      <td>42.30</td>\n",
              "      <td>1960.6</td>\n",
              "      <td>0</td>\n",
              "    </tr>\n",
              "    <tr>\n",
              "      <th>4</th>\n",
              "      <td>9237-HQITU</td>\n",
              "      <td>2019-09-01</td>\n",
              "      <td>No</td>\n",
              "      <td>Month-to-month</td>\n",
              "      <td>Yes</td>\n",
              "      <td>Electronic check</td>\n",
              "      <td>70.70</td>\n",
              "      <td>353.5</td>\n",
              "      <td>0</td>\n",
              "    </tr>\n",
              "    <tr>\n",
              "      <th>...</th>\n",
              "      <td>...</td>\n",
              "      <td>...</td>\n",
              "      <td>...</td>\n",
              "      <td>...</td>\n",
              "      <td>...</td>\n",
              "      <td>...</td>\n",
              "      <td>...</td>\n",
              "      <td>...</td>\n",
              "      <td>...</td>\n",
              "    </tr>\n",
              "    <tr>\n",
              "      <th>7038</th>\n",
              "      <td>6840-RESVB</td>\n",
              "      <td>2018-02-01</td>\n",
              "      <td>No</td>\n",
              "      <td>One year</td>\n",
              "      <td>Yes</td>\n",
              "      <td>Mailed check</td>\n",
              "      <td>84.80</td>\n",
              "      <td>2035.2</td>\n",
              "      <td>0</td>\n",
              "    </tr>\n",
              "    <tr>\n",
              "      <th>7039</th>\n",
              "      <td>2234-XADUH</td>\n",
              "      <td>2014-02-01</td>\n",
              "      <td>No</td>\n",
              "      <td>One year</td>\n",
              "      <td>Yes</td>\n",
              "      <td>Credit card (automatic)</td>\n",
              "      <td>103.20</td>\n",
              "      <td>7430.4</td>\n",
              "      <td>0</td>\n",
              "    </tr>\n",
              "    <tr>\n",
              "      <th>7040</th>\n",
              "      <td>4801-JZAZL</td>\n",
              "      <td>2019-03-01</td>\n",
              "      <td>No</td>\n",
              "      <td>Month-to-month</td>\n",
              "      <td>Yes</td>\n",
              "      <td>Electronic check</td>\n",
              "      <td>29.60</td>\n",
              "      <td>325.6</td>\n",
              "      <td>0</td>\n",
              "    </tr>\n",
              "    <tr>\n",
              "      <th>7041</th>\n",
              "      <td>8361-LTMKD</td>\n",
              "      <td>2019-07-01</td>\n",
              "      <td>No</td>\n",
              "      <td>Month-to-month</td>\n",
              "      <td>Yes</td>\n",
              "      <td>Mailed check</td>\n",
              "      <td>74.40</td>\n",
              "      <td>520.8</td>\n",
              "      <td>0</td>\n",
              "    </tr>\n",
              "    <tr>\n",
              "      <th>7042</th>\n",
              "      <td>3186-AJIEK</td>\n",
              "      <td>2014-08-01</td>\n",
              "      <td>No</td>\n",
              "      <td>Two year</td>\n",
              "      <td>Yes</td>\n",
              "      <td>Bank transfer (automatic)</td>\n",
              "      <td>105.65</td>\n",
              "      <td>7251.82</td>\n",
              "      <td>0</td>\n",
              "    </tr>\n",
              "  </tbody>\n",
              "</table>\n",
              "<p>7043 rows × 9 columns</p>\n",
              "</div>"
            ],
            "text/plain": [
              "      customerID   BeginDate EndDate            Type PaperlessBilling  \\\n",
              "0     7590-VHVEG  2020-01-01      No  Month-to-month              Yes   \n",
              "1     5575-GNVDE  2017-04-01      No        One year               No   \n",
              "2     3668-QPYBK  2019-10-01      No  Month-to-month              Yes   \n",
              "3     7795-CFOCW  2016-05-01      No        One year               No   \n",
              "4     9237-HQITU  2019-09-01      No  Month-to-month              Yes   \n",
              "...          ...         ...     ...             ...              ...   \n",
              "7038  6840-RESVB  2018-02-01      No        One year              Yes   \n",
              "7039  2234-XADUH  2014-02-01      No        One year              Yes   \n",
              "7040  4801-JZAZL  2019-03-01      No  Month-to-month              Yes   \n",
              "7041  8361-LTMKD  2019-07-01      No  Month-to-month              Yes   \n",
              "7042  3186-AJIEK  2014-08-01      No        Two year              Yes   \n",
              "\n",
              "                  PaymentMethod  MonthlyCharges TotalCharges  ClientLeft  \n",
              "0              Electronic check           29.85        31.04           0  \n",
              "1                  Mailed check           56.95      2071.84           0  \n",
              "2                  Mailed check           53.85       226.17           0  \n",
              "3     Bank transfer (automatic)           42.30       1960.6           0  \n",
              "4              Electronic check           70.70        353.5           0  \n",
              "...                         ...             ...          ...         ...  \n",
              "7038               Mailed check           84.80       2035.2           0  \n",
              "7039    Credit card (automatic)          103.20       7430.4           0  \n",
              "7040           Electronic check           29.60        325.6           0  \n",
              "7041               Mailed check           74.40        520.8           0  \n",
              "7042  Bank transfer (automatic)          105.65      7251.82           0  \n",
              "\n",
              "[7043 rows x 9 columns]"
            ]
          },
          "execution_count": 8,
          "metadata": {},
          "output_type": "execute_result"
        }
      ],
      "source": [
        "contract_df"
      ]
    },
    {
      "cell_type": "code",
      "execution_count": null,
      "id": "cc50457e",
      "metadata": {
        "id": "cc50457e"
      },
      "outputs": [],
      "source": [
        "#изменили тип данных и заполнили пропуски.\n",
        "contract_df['BeginDate'] = pd.to_datetime(contract_df['BeginDate'], errors='coerce')\n",
        "contract_df['EndDate'] = contract_df['EndDate'].replace('No','2020-02-01')\n",
        "contract_df['EndDate'] = pd.to_datetime(contract_df['EndDate'])\n",
        "contract_df['TotalCharges'] = pd.to_numeric(contract_df['TotalCharges'], errors='coerce')"
      ]
    },
    {
      "cell_type": "code",
      "execution_count": null,
      "id": "489fafe2",
      "metadata": {
        "id": "489fafe2"
      },
      "outputs": [],
      "source": [
        "#создали признак Duration\n",
        "contract_df['Duration'] =(contract_df['EndDate'] - contract_df['BeginDate']) / np.timedelta64 ( 1 , 'D')"
      ]
    },
    {
      "cell_type": "code",
      "execution_count": null,
      "id": "e50eb4b7",
      "metadata": {
        "id": "e50eb4b7",
        "outputId": "90a357e7-8c1a-433b-bb51-ac937b281174"
      },
      "outputs": [
        {
          "name": "stdout",
          "output_type": "stream",
          "text": [
            "<class 'pandas.core.frame.DataFrame'>\n",
            "RangeIndex: 7043 entries, 0 to 7042\n",
            "Data columns (total 10 columns):\n",
            " #   Column            Non-Null Count  Dtype         \n",
            "---  ------            --------------  -----         \n",
            " 0   customerID        7043 non-null   object        \n",
            " 1   BeginDate         7043 non-null   datetime64[ns]\n",
            " 2   EndDate           7043 non-null   datetime64[ns]\n",
            " 3   Type              7043 non-null   object        \n",
            " 4   PaperlessBilling  7043 non-null   object        \n",
            " 5   PaymentMethod     7043 non-null   object        \n",
            " 6   MonthlyCharges    7043 non-null   float64       \n",
            " 7   TotalCharges      7032 non-null   float64       \n",
            " 8   ClientLeft        7043 non-null   int64         \n",
            " 9   Duration          7043 non-null   float64       \n",
            "dtypes: datetime64[ns](2), float64(3), int64(1), object(4)\n",
            "memory usage: 550.4+ KB\n"
          ]
        }
      ],
      "source": [
        "contract_df.info()"
      ]
    },
    {
      "cell_type": "code",
      "execution_count": null,
      "id": "59941f22",
      "metadata": {
        "id": "59941f22",
        "outputId": "83213a4d-aef1-4ed0-d5ce-449df051e764"
      },
      "outputs": [
        {
          "data": {
            "text/html": [
              "<div>\n",
              "<style scoped>\n",
              "    .dataframe tbody tr th:only-of-type {\n",
              "        vertical-align: middle;\n",
              "    }\n",
              "\n",
              "    .dataframe tbody tr th {\n",
              "        vertical-align: top;\n",
              "    }\n",
              "\n",
              "    .dataframe thead th {\n",
              "        text-align: right;\n",
              "    }\n",
              "</style>\n",
              "<table border=\"1\" class=\"dataframe\">\n",
              "  <thead>\n",
              "    <tr style=\"text-align: right;\">\n",
              "      <th></th>\n",
              "      <th>customerID</th>\n",
              "      <th>BeginDate</th>\n",
              "      <th>EndDate</th>\n",
              "      <th>Type</th>\n",
              "      <th>PaperlessBilling</th>\n",
              "      <th>PaymentMethod</th>\n",
              "      <th>MonthlyCharges</th>\n",
              "      <th>TotalCharges</th>\n",
              "      <th>ClientLeft</th>\n",
              "      <th>Duration</th>\n",
              "    </tr>\n",
              "  </thead>\n",
              "  <tbody>\n",
              "    <tr>\n",
              "      <th>488</th>\n",
              "      <td>4472-LVYGI</td>\n",
              "      <td>2020-02-01</td>\n",
              "      <td>2020-02-01</td>\n",
              "      <td>Two year</td>\n",
              "      <td>Yes</td>\n",
              "      <td>Bank transfer (automatic)</td>\n",
              "      <td>52.55</td>\n",
              "      <td>NaN</td>\n",
              "      <td>0</td>\n",
              "      <td>0.0</td>\n",
              "    </tr>\n",
              "    <tr>\n",
              "      <th>753</th>\n",
              "      <td>3115-CZMZD</td>\n",
              "      <td>2020-02-01</td>\n",
              "      <td>2020-02-01</td>\n",
              "      <td>Two year</td>\n",
              "      <td>No</td>\n",
              "      <td>Mailed check</td>\n",
              "      <td>20.25</td>\n",
              "      <td>NaN</td>\n",
              "      <td>0</td>\n",
              "      <td>0.0</td>\n",
              "    </tr>\n",
              "    <tr>\n",
              "      <th>936</th>\n",
              "      <td>5709-LVOEQ</td>\n",
              "      <td>2020-02-01</td>\n",
              "      <td>2020-02-01</td>\n",
              "      <td>Two year</td>\n",
              "      <td>No</td>\n",
              "      <td>Mailed check</td>\n",
              "      <td>80.85</td>\n",
              "      <td>NaN</td>\n",
              "      <td>0</td>\n",
              "      <td>0.0</td>\n",
              "    </tr>\n",
              "    <tr>\n",
              "      <th>1082</th>\n",
              "      <td>4367-NUYAO</td>\n",
              "      <td>2020-02-01</td>\n",
              "      <td>2020-02-01</td>\n",
              "      <td>Two year</td>\n",
              "      <td>No</td>\n",
              "      <td>Mailed check</td>\n",
              "      <td>25.75</td>\n",
              "      <td>NaN</td>\n",
              "      <td>0</td>\n",
              "      <td>0.0</td>\n",
              "    </tr>\n",
              "    <tr>\n",
              "      <th>1340</th>\n",
              "      <td>1371-DWPAZ</td>\n",
              "      <td>2020-02-01</td>\n",
              "      <td>2020-02-01</td>\n",
              "      <td>Two year</td>\n",
              "      <td>No</td>\n",
              "      <td>Credit card (automatic)</td>\n",
              "      <td>56.05</td>\n",
              "      <td>NaN</td>\n",
              "      <td>0</td>\n",
              "      <td>0.0</td>\n",
              "    </tr>\n",
              "    <tr>\n",
              "      <th>3331</th>\n",
              "      <td>7644-OMVMY</td>\n",
              "      <td>2020-02-01</td>\n",
              "      <td>2020-02-01</td>\n",
              "      <td>Two year</td>\n",
              "      <td>No</td>\n",
              "      <td>Mailed check</td>\n",
              "      <td>19.85</td>\n",
              "      <td>NaN</td>\n",
              "      <td>0</td>\n",
              "      <td>0.0</td>\n",
              "    </tr>\n",
              "    <tr>\n",
              "      <th>3826</th>\n",
              "      <td>3213-VVOLG</td>\n",
              "      <td>2020-02-01</td>\n",
              "      <td>2020-02-01</td>\n",
              "      <td>Two year</td>\n",
              "      <td>No</td>\n",
              "      <td>Mailed check</td>\n",
              "      <td>25.35</td>\n",
              "      <td>NaN</td>\n",
              "      <td>0</td>\n",
              "      <td>0.0</td>\n",
              "    </tr>\n",
              "    <tr>\n",
              "      <th>4380</th>\n",
              "      <td>2520-SGTTA</td>\n",
              "      <td>2020-02-01</td>\n",
              "      <td>2020-02-01</td>\n",
              "      <td>Two year</td>\n",
              "      <td>No</td>\n",
              "      <td>Mailed check</td>\n",
              "      <td>20.00</td>\n",
              "      <td>NaN</td>\n",
              "      <td>0</td>\n",
              "      <td>0.0</td>\n",
              "    </tr>\n",
              "    <tr>\n",
              "      <th>5218</th>\n",
              "      <td>2923-ARZLG</td>\n",
              "      <td>2020-02-01</td>\n",
              "      <td>2020-02-01</td>\n",
              "      <td>One year</td>\n",
              "      <td>Yes</td>\n",
              "      <td>Mailed check</td>\n",
              "      <td>19.70</td>\n",
              "      <td>NaN</td>\n",
              "      <td>0</td>\n",
              "      <td>0.0</td>\n",
              "    </tr>\n",
              "    <tr>\n",
              "      <th>6670</th>\n",
              "      <td>4075-WKNIU</td>\n",
              "      <td>2020-02-01</td>\n",
              "      <td>2020-02-01</td>\n",
              "      <td>Two year</td>\n",
              "      <td>No</td>\n",
              "      <td>Mailed check</td>\n",
              "      <td>73.35</td>\n",
              "      <td>NaN</td>\n",
              "      <td>0</td>\n",
              "      <td>0.0</td>\n",
              "    </tr>\n",
              "    <tr>\n",
              "      <th>6754</th>\n",
              "      <td>2775-SEFEE</td>\n",
              "      <td>2020-02-01</td>\n",
              "      <td>2020-02-01</td>\n",
              "      <td>Two year</td>\n",
              "      <td>Yes</td>\n",
              "      <td>Bank transfer (automatic)</td>\n",
              "      <td>61.90</td>\n",
              "      <td>NaN</td>\n",
              "      <td>0</td>\n",
              "      <td>0.0</td>\n",
              "    </tr>\n",
              "  </tbody>\n",
              "</table>\n",
              "</div>"
            ],
            "text/plain": [
              "      customerID  BeginDate    EndDate      Type PaperlessBilling  \\\n",
              "488   4472-LVYGI 2020-02-01 2020-02-01  Two year              Yes   \n",
              "753   3115-CZMZD 2020-02-01 2020-02-01  Two year               No   \n",
              "936   5709-LVOEQ 2020-02-01 2020-02-01  Two year               No   \n",
              "1082  4367-NUYAO 2020-02-01 2020-02-01  Two year               No   \n",
              "1340  1371-DWPAZ 2020-02-01 2020-02-01  Two year               No   \n",
              "3331  7644-OMVMY 2020-02-01 2020-02-01  Two year               No   \n",
              "3826  3213-VVOLG 2020-02-01 2020-02-01  Two year               No   \n",
              "4380  2520-SGTTA 2020-02-01 2020-02-01  Two year               No   \n",
              "5218  2923-ARZLG 2020-02-01 2020-02-01  One year              Yes   \n",
              "6670  4075-WKNIU 2020-02-01 2020-02-01  Two year               No   \n",
              "6754  2775-SEFEE 2020-02-01 2020-02-01  Two year              Yes   \n",
              "\n",
              "                  PaymentMethod  MonthlyCharges  TotalCharges  ClientLeft  \\\n",
              "488   Bank transfer (automatic)           52.55           NaN           0   \n",
              "753                Mailed check           20.25           NaN           0   \n",
              "936                Mailed check           80.85           NaN           0   \n",
              "1082               Mailed check           25.75           NaN           0   \n",
              "1340    Credit card (automatic)           56.05           NaN           0   \n",
              "3331               Mailed check           19.85           NaN           0   \n",
              "3826               Mailed check           25.35           NaN           0   \n",
              "4380               Mailed check           20.00           NaN           0   \n",
              "5218               Mailed check           19.70           NaN           0   \n",
              "6670               Mailed check           73.35           NaN           0   \n",
              "6754  Bank transfer (automatic)           61.90           NaN           0   \n",
              "\n",
              "      Duration  \n",
              "488        0.0  \n",
              "753        0.0  \n",
              "936        0.0  \n",
              "1082       0.0  \n",
              "1340       0.0  \n",
              "3331       0.0  \n",
              "3826       0.0  \n",
              "4380       0.0  \n",
              "5218       0.0  \n",
              "6670       0.0  \n",
              "6754       0.0  "
            ]
          },
          "execution_count": 12,
          "metadata": {},
          "output_type": "execute_result"
        }
      ],
      "source": [
        "#рассмотрим пропуски в переменной TotalCharges.\n",
        "contract_df.loc[contract_df['TotalCharges'].isna()]"
      ]
    },
    {
      "cell_type": "markdown",
      "id": "c9e1e6f9",
      "metadata": {
        "id": "c9e1e6f9"
      },
      "source": [
        "Пропуски в этой переменной возникли из-за того что это абсолютно новые клиенты, оформившие договора в день проведения исследования. Предлагаю заполнить их значениями из переменной MonthlyCharges."
      ]
    },
    {
      "cell_type": "code",
      "execution_count": null,
      "id": "d03e5b6d",
      "metadata": {
        "id": "d03e5b6d"
      },
      "outputs": [],
      "source": [
        "contract_df['TotalCharges'] = contract_df['TotalCharges'].fillna(contract_df['MonthlyCharges'])"
      ]
    },
    {
      "cell_type": "markdown",
      "id": "6f502710",
      "metadata": {
        "id": "6f502710"
      },
      "source": [
        "### Датафрейм с персональными данными."
      ]
    },
    {
      "cell_type": "code",
      "execution_count": null,
      "id": "042a338c",
      "metadata": {
        "id": "042a338c",
        "outputId": "b111fbac-878a-4c02-dbb8-3da7555676a4"
      },
      "outputs": [
        {
          "data": {
            "text/html": [
              "<div>\n",
              "<style scoped>\n",
              "    .dataframe tbody tr th:only-of-type {\n",
              "        vertical-align: middle;\n",
              "    }\n",
              "\n",
              "    .dataframe tbody tr th {\n",
              "        vertical-align: top;\n",
              "    }\n",
              "\n",
              "    .dataframe thead th {\n",
              "        text-align: right;\n",
              "    }\n",
              "</style>\n",
              "<table border=\"1\" class=\"dataframe\">\n",
              "  <thead>\n",
              "    <tr style=\"text-align: right;\">\n",
              "      <th></th>\n",
              "      <th>customerID</th>\n",
              "      <th>gender</th>\n",
              "      <th>SeniorCitizen</th>\n",
              "      <th>Partner</th>\n",
              "      <th>Dependents</th>\n",
              "    </tr>\n",
              "  </thead>\n",
              "  <tbody>\n",
              "    <tr>\n",
              "      <th>6855</th>\n",
              "      <td>8738-JOKAR</td>\n",
              "      <td>Female</td>\n",
              "      <td>0</td>\n",
              "      <td>No</td>\n",
              "      <td>No</td>\n",
              "    </tr>\n",
              "    <tr>\n",
              "      <th>3575</th>\n",
              "      <td>9501-UKKNL</td>\n",
              "      <td>Male</td>\n",
              "      <td>0</td>\n",
              "      <td>No</td>\n",
              "      <td>No</td>\n",
              "    </tr>\n",
              "    <tr>\n",
              "      <th>1985</th>\n",
              "      <td>8901-HJXTF</td>\n",
              "      <td>Female</td>\n",
              "      <td>0</td>\n",
              "      <td>Yes</td>\n",
              "      <td>Yes</td>\n",
              "    </tr>\n",
              "    <tr>\n",
              "      <th>2900</th>\n",
              "      <td>0679-IDSTG</td>\n",
              "      <td>Female</td>\n",
              "      <td>1</td>\n",
              "      <td>Yes</td>\n",
              "      <td>Yes</td>\n",
              "    </tr>\n",
              "    <tr>\n",
              "      <th>6141</th>\n",
              "      <td>5385-SUIRI</td>\n",
              "      <td>Male</td>\n",
              "      <td>1</td>\n",
              "      <td>Yes</td>\n",
              "      <td>No</td>\n",
              "    </tr>\n",
              "  </tbody>\n",
              "</table>\n",
              "</div>"
            ],
            "text/plain": [
              "      customerID  gender  SeniorCitizen Partner Dependents\n",
              "6855  8738-JOKAR  Female              0      No         No\n",
              "3575  9501-UKKNL    Male              0      No         No\n",
              "1985  8901-HJXTF  Female              0     Yes        Yes\n",
              "2900  0679-IDSTG  Female              1     Yes        Yes\n",
              "6141  5385-SUIRI    Male              1     Yes         No"
            ]
          },
          "metadata": {},
          "output_type": "display_data"
        },
        {
          "name": "stdout",
          "output_type": "stream",
          "text": [
            "\n",
            "<class 'pandas.core.frame.DataFrame'>\n",
            "RangeIndex: 7043 entries, 0 to 7042\n",
            "Data columns (total 5 columns):\n",
            " #   Column         Non-Null Count  Dtype \n",
            "---  ------         --------------  ----- \n",
            " 0   customerID     7043 non-null   object\n",
            " 1   gender         7043 non-null   object\n",
            " 2   SeniorCitizen  7043 non-null   int64 \n",
            " 3   Partner        7043 non-null   object\n",
            " 4   Dependents     7043 non-null   object\n",
            "dtypes: int64(1), object(4)\n",
            "memory usage: 275.2+ KB\n"
          ]
        },
        {
          "data": {
            "text/plain": [
              "None"
            ]
          },
          "metadata": {},
          "output_type": "display_data"
        },
        {
          "name": "stdout",
          "output_type": "stream",
          "text": [
            "\n"
          ]
        },
        {
          "data": {
            "text/html": [
              "<div>\n",
              "<style scoped>\n",
              "    .dataframe tbody tr th:only-of-type {\n",
              "        vertical-align: middle;\n",
              "    }\n",
              "\n",
              "    .dataframe tbody tr th {\n",
              "        vertical-align: top;\n",
              "    }\n",
              "\n",
              "    .dataframe thead th {\n",
              "        text-align: right;\n",
              "    }\n",
              "</style>\n",
              "<table border=\"1\" class=\"dataframe\">\n",
              "  <thead>\n",
              "    <tr style=\"text-align: right;\">\n",
              "      <th></th>\n",
              "      <th>customerID</th>\n",
              "      <th>gender</th>\n",
              "      <th>SeniorCitizen</th>\n",
              "      <th>Partner</th>\n",
              "      <th>Dependents</th>\n",
              "    </tr>\n",
              "  </thead>\n",
              "  <tbody>\n",
              "    <tr>\n",
              "      <th>count</th>\n",
              "      <td>7043</td>\n",
              "      <td>7043</td>\n",
              "      <td>7043.000000</td>\n",
              "      <td>7043</td>\n",
              "      <td>7043</td>\n",
              "    </tr>\n",
              "    <tr>\n",
              "      <th>unique</th>\n",
              "      <td>7043</td>\n",
              "      <td>2</td>\n",
              "      <td>NaN</td>\n",
              "      <td>2</td>\n",
              "      <td>2</td>\n",
              "    </tr>\n",
              "    <tr>\n",
              "      <th>top</th>\n",
              "      <td>1996-DBMUS</td>\n",
              "      <td>Male</td>\n",
              "      <td>NaN</td>\n",
              "      <td>No</td>\n",
              "      <td>No</td>\n",
              "    </tr>\n",
              "    <tr>\n",
              "      <th>freq</th>\n",
              "      <td>1</td>\n",
              "      <td>3555</td>\n",
              "      <td>NaN</td>\n",
              "      <td>3641</td>\n",
              "      <td>4933</td>\n",
              "    </tr>\n",
              "    <tr>\n",
              "      <th>mean</th>\n",
              "      <td>NaN</td>\n",
              "      <td>NaN</td>\n",
              "      <td>0.162147</td>\n",
              "      <td>NaN</td>\n",
              "      <td>NaN</td>\n",
              "    </tr>\n",
              "    <tr>\n",
              "      <th>std</th>\n",
              "      <td>NaN</td>\n",
              "      <td>NaN</td>\n",
              "      <td>0.368612</td>\n",
              "      <td>NaN</td>\n",
              "      <td>NaN</td>\n",
              "    </tr>\n",
              "    <tr>\n",
              "      <th>min</th>\n",
              "      <td>NaN</td>\n",
              "      <td>NaN</td>\n",
              "      <td>0.000000</td>\n",
              "      <td>NaN</td>\n",
              "      <td>NaN</td>\n",
              "    </tr>\n",
              "    <tr>\n",
              "      <th>25%</th>\n",
              "      <td>NaN</td>\n",
              "      <td>NaN</td>\n",
              "      <td>0.000000</td>\n",
              "      <td>NaN</td>\n",
              "      <td>NaN</td>\n",
              "    </tr>\n",
              "    <tr>\n",
              "      <th>50%</th>\n",
              "      <td>NaN</td>\n",
              "      <td>NaN</td>\n",
              "      <td>0.000000</td>\n",
              "      <td>NaN</td>\n",
              "      <td>NaN</td>\n",
              "    </tr>\n",
              "    <tr>\n",
              "      <th>75%</th>\n",
              "      <td>NaN</td>\n",
              "      <td>NaN</td>\n",
              "      <td>0.000000</td>\n",
              "      <td>NaN</td>\n",
              "      <td>NaN</td>\n",
              "    </tr>\n",
              "    <tr>\n",
              "      <th>max</th>\n",
              "      <td>NaN</td>\n",
              "      <td>NaN</td>\n",
              "      <td>1.000000</td>\n",
              "      <td>NaN</td>\n",
              "      <td>NaN</td>\n",
              "    </tr>\n",
              "  </tbody>\n",
              "</table>\n",
              "</div>"
            ],
            "text/plain": [
              "        customerID gender  SeniorCitizen Partner Dependents\n",
              "count         7043   7043    7043.000000    7043       7043\n",
              "unique        7043      2            NaN       2          2\n",
              "top     1996-DBMUS   Male            NaN      No         No\n",
              "freq             1   3555            NaN    3641       4933\n",
              "mean           NaN    NaN       0.162147     NaN        NaN\n",
              "std            NaN    NaN       0.368612     NaN        NaN\n",
              "min            NaN    NaN       0.000000     NaN        NaN\n",
              "25%            NaN    NaN       0.000000     NaN        NaN\n",
              "50%            NaN    NaN       0.000000     NaN        NaN\n",
              "75%            NaN    NaN       0.000000     NaN        NaN\n",
              "max            NaN    NaN       1.000000     NaN        NaN"
            ]
          },
          "metadata": {},
          "output_type": "display_data"
        },
        {
          "name": "stdout",
          "output_type": "stream",
          "text": [
            "\n",
            "Явные пропуски в данных\n",
            "customerID       0.0\n",
            "gender           0.0\n",
            "SeniorCitizen    0.0\n",
            "Partner          0.0\n",
            "Dependents       0.0\n",
            "dtype: float64\n",
            "\n",
            "Явные дубликаты в данных\n",
            "0\n"
          ]
        }
      ],
      "source": [
        "open_df(personal_df)"
      ]
    },
    {
      "cell_type": "markdown",
      "id": "41dc5dd7",
      "metadata": {
        "id": "41dc5dd7"
      },
      "source": [
        "В датасете 7043 строк и 5 признаков с личной информацией о клиенте. ID клиента, его пол, пенсионер ли он, женат/замужем и есть ли дети. Явных дубликатов и пропусков нет. В столбце `SeniorCitizen` для красоты данных можем изменить тип данных на категориальный."
      ]
    },
    {
      "cell_type": "code",
      "execution_count": null,
      "id": "fedf5bc3",
      "metadata": {
        "id": "fedf5bc3"
      },
      "outputs": [],
      "source": [
        "personal_df['SeniorCitizen'] = personal_df['SeniorCitizen'].replace({1: 'Yes', 0: 'No'})"
      ]
    },
    {
      "cell_type": "markdown",
      "id": "49af7377",
      "metadata": {
        "id": "49af7377"
      },
      "source": [
        "### Датафрейм с интернет услугами."
      ]
    },
    {
      "cell_type": "code",
      "execution_count": null,
      "id": "a278f71f",
      "metadata": {
        "id": "a278f71f",
        "outputId": "57da127b-648b-45a0-d5de-66557ebafb5c"
      },
      "outputs": [
        {
          "data": {
            "text/html": [
              "<div>\n",
              "<style scoped>\n",
              "    .dataframe tbody tr th:only-of-type {\n",
              "        vertical-align: middle;\n",
              "    }\n",
              "\n",
              "    .dataframe tbody tr th {\n",
              "        vertical-align: top;\n",
              "    }\n",
              "\n",
              "    .dataframe thead th {\n",
              "        text-align: right;\n",
              "    }\n",
              "</style>\n",
              "<table border=\"1\" class=\"dataframe\">\n",
              "  <thead>\n",
              "    <tr style=\"text-align: right;\">\n",
              "      <th></th>\n",
              "      <th>customerID</th>\n",
              "      <th>InternetService</th>\n",
              "      <th>OnlineSecurity</th>\n",
              "      <th>OnlineBackup</th>\n",
              "      <th>DeviceProtection</th>\n",
              "      <th>TechSupport</th>\n",
              "      <th>StreamingTV</th>\n",
              "      <th>StreamingMovies</th>\n",
              "    </tr>\n",
              "  </thead>\n",
              "  <tbody>\n",
              "    <tr>\n",
              "      <th>3564</th>\n",
              "      <td>5322-TEUJK</td>\n",
              "      <td>Fiber optic</td>\n",
              "      <td>Yes</td>\n",
              "      <td>Yes</td>\n",
              "      <td>Yes</td>\n",
              "      <td>Yes</td>\n",
              "      <td>Yes</td>\n",
              "      <td>Yes</td>\n",
              "    </tr>\n",
              "    <tr>\n",
              "      <th>3675</th>\n",
              "      <td>5181-OABFK</td>\n",
              "      <td>DSL</td>\n",
              "      <td>Yes</td>\n",
              "      <td>Yes</td>\n",
              "      <td>Yes</td>\n",
              "      <td>No</td>\n",
              "      <td>No</td>\n",
              "      <td>No</td>\n",
              "    </tr>\n",
              "    <tr>\n",
              "      <th>4369</th>\n",
              "      <td>4929-BSTRX</td>\n",
              "      <td>DSL</td>\n",
              "      <td>No</td>\n",
              "      <td>No</td>\n",
              "      <td>No</td>\n",
              "      <td>No</td>\n",
              "      <td>Yes</td>\n",
              "      <td>No</td>\n",
              "    </tr>\n",
              "    <tr>\n",
              "      <th>2179</th>\n",
              "      <td>2691-NZETQ</td>\n",
              "      <td>Fiber optic</td>\n",
              "      <td>No</td>\n",
              "      <td>No</td>\n",
              "      <td>No</td>\n",
              "      <td>No</td>\n",
              "      <td>Yes</td>\n",
              "      <td>No</td>\n",
              "    </tr>\n",
              "    <tr>\n",
              "      <th>5335</th>\n",
              "      <td>9129-UXERG</td>\n",
              "      <td>Fiber optic</td>\n",
              "      <td>No</td>\n",
              "      <td>Yes</td>\n",
              "      <td>No</td>\n",
              "      <td>Yes</td>\n",
              "      <td>Yes</td>\n",
              "      <td>Yes</td>\n",
              "    </tr>\n",
              "  </tbody>\n",
              "</table>\n",
              "</div>"
            ],
            "text/plain": [
              "      customerID InternetService OnlineSecurity OnlineBackup DeviceProtection  \\\n",
              "3564  5322-TEUJK     Fiber optic            Yes          Yes              Yes   \n",
              "3675  5181-OABFK             DSL            Yes          Yes              Yes   \n",
              "4369  4929-BSTRX             DSL             No           No               No   \n",
              "2179  2691-NZETQ     Fiber optic             No           No               No   \n",
              "5335  9129-UXERG     Fiber optic             No          Yes               No   \n",
              "\n",
              "     TechSupport StreamingTV StreamingMovies  \n",
              "3564         Yes         Yes             Yes  \n",
              "3675          No          No              No  \n",
              "4369          No         Yes              No  \n",
              "2179          No         Yes              No  \n",
              "5335         Yes         Yes             Yes  "
            ]
          },
          "metadata": {},
          "output_type": "display_data"
        },
        {
          "name": "stdout",
          "output_type": "stream",
          "text": [
            "\n",
            "<class 'pandas.core.frame.DataFrame'>\n",
            "RangeIndex: 5517 entries, 0 to 5516\n",
            "Data columns (total 8 columns):\n",
            " #   Column            Non-Null Count  Dtype \n",
            "---  ------            --------------  ----- \n",
            " 0   customerID        5517 non-null   object\n",
            " 1   InternetService   5517 non-null   object\n",
            " 2   OnlineSecurity    5517 non-null   object\n",
            " 3   OnlineBackup      5517 non-null   object\n",
            " 4   DeviceProtection  5517 non-null   object\n",
            " 5   TechSupport       5517 non-null   object\n",
            " 6   StreamingTV       5517 non-null   object\n",
            " 7   StreamingMovies   5517 non-null   object\n",
            "dtypes: object(8)\n",
            "memory usage: 344.9+ KB\n"
          ]
        },
        {
          "data": {
            "text/plain": [
              "None"
            ]
          },
          "metadata": {},
          "output_type": "display_data"
        },
        {
          "name": "stdout",
          "output_type": "stream",
          "text": [
            "\n"
          ]
        },
        {
          "data": {
            "text/html": [
              "<div>\n",
              "<style scoped>\n",
              "    .dataframe tbody tr th:only-of-type {\n",
              "        vertical-align: middle;\n",
              "    }\n",
              "\n",
              "    .dataframe tbody tr th {\n",
              "        vertical-align: top;\n",
              "    }\n",
              "\n",
              "    .dataframe thead th {\n",
              "        text-align: right;\n",
              "    }\n",
              "</style>\n",
              "<table border=\"1\" class=\"dataframe\">\n",
              "  <thead>\n",
              "    <tr style=\"text-align: right;\">\n",
              "      <th></th>\n",
              "      <th>customerID</th>\n",
              "      <th>InternetService</th>\n",
              "      <th>OnlineSecurity</th>\n",
              "      <th>OnlineBackup</th>\n",
              "      <th>DeviceProtection</th>\n",
              "      <th>TechSupport</th>\n",
              "      <th>StreamingTV</th>\n",
              "      <th>StreamingMovies</th>\n",
              "    </tr>\n",
              "  </thead>\n",
              "  <tbody>\n",
              "    <tr>\n",
              "      <th>count</th>\n",
              "      <td>5517</td>\n",
              "      <td>5517</td>\n",
              "      <td>5517</td>\n",
              "      <td>5517</td>\n",
              "      <td>5517</td>\n",
              "      <td>5517</td>\n",
              "      <td>5517</td>\n",
              "      <td>5517</td>\n",
              "    </tr>\n",
              "    <tr>\n",
              "      <th>unique</th>\n",
              "      <td>5517</td>\n",
              "      <td>2</td>\n",
              "      <td>2</td>\n",
              "      <td>2</td>\n",
              "      <td>2</td>\n",
              "      <td>2</td>\n",
              "      <td>2</td>\n",
              "      <td>2</td>\n",
              "    </tr>\n",
              "    <tr>\n",
              "      <th>top</th>\n",
              "      <td>1996-DBMUS</td>\n",
              "      <td>Fiber optic</td>\n",
              "      <td>No</td>\n",
              "      <td>No</td>\n",
              "      <td>No</td>\n",
              "      <td>No</td>\n",
              "      <td>No</td>\n",
              "      <td>No</td>\n",
              "    </tr>\n",
              "    <tr>\n",
              "      <th>freq</th>\n",
              "      <td>1</td>\n",
              "      <td>3096</td>\n",
              "      <td>3498</td>\n",
              "      <td>3088</td>\n",
              "      <td>3095</td>\n",
              "      <td>3473</td>\n",
              "      <td>2810</td>\n",
              "      <td>2785</td>\n",
              "    </tr>\n",
              "  </tbody>\n",
              "</table>\n",
              "</div>"
            ],
            "text/plain": [
              "        customerID InternetService OnlineSecurity OnlineBackup  \\\n",
              "count         5517            5517           5517         5517   \n",
              "unique        5517               2              2            2   \n",
              "top     1996-DBMUS     Fiber optic             No           No   \n",
              "freq             1            3096           3498         3088   \n",
              "\n",
              "       DeviceProtection TechSupport StreamingTV StreamingMovies  \n",
              "count              5517        5517        5517            5517  \n",
              "unique                2           2           2               2  \n",
              "top                  No          No          No              No  \n",
              "freq               3095        3473        2810            2785  "
            ]
          },
          "metadata": {},
          "output_type": "display_data"
        },
        {
          "name": "stdout",
          "output_type": "stream",
          "text": [
            "\n",
            "Явные пропуски в данных\n",
            "customerID          0.0\n",
            "InternetService     0.0\n",
            "OnlineSecurity      0.0\n",
            "OnlineBackup        0.0\n",
            "DeviceProtection    0.0\n",
            "TechSupport         0.0\n",
            "StreamingTV         0.0\n",
            "StreamingMovies     0.0\n",
            "dtype: float64\n",
            "\n",
            "Явные дубликаты в данных\n",
            "0\n"
          ]
        }
      ],
      "source": [
        "open_df(internet_df)"
      ]
    },
    {
      "cell_type": "markdown",
      "id": "41fc8d4e",
      "metadata": {
        "id": "41fc8d4e"
      },
      "source": [
        "В данном датафрейме 5517 строк и 8 признаков - id пользователя и наличие у него определнных интернет услуг. Явных пропусков и дубликатов в данных не выявлено."
      ]
    },
    {
      "cell_type": "markdown",
      "id": "25b293dd",
      "metadata": {
        "id": "25b293dd"
      },
      "source": [
        "### Датафрейм с данными по телефонии."
      ]
    },
    {
      "cell_type": "code",
      "execution_count": null,
      "id": "41c565bb",
      "metadata": {
        "id": "41c565bb",
        "outputId": "07cc3c7b-48cc-43de-b1ee-9419f8bd56b1"
      },
      "outputs": [
        {
          "data": {
            "text/html": [
              "<div>\n",
              "<style scoped>\n",
              "    .dataframe tbody tr th:only-of-type {\n",
              "        vertical-align: middle;\n",
              "    }\n",
              "\n",
              "    .dataframe tbody tr th {\n",
              "        vertical-align: top;\n",
              "    }\n",
              "\n",
              "    .dataframe thead th {\n",
              "        text-align: right;\n",
              "    }\n",
              "</style>\n",
              "<table border=\"1\" class=\"dataframe\">\n",
              "  <thead>\n",
              "    <tr style=\"text-align: right;\">\n",
              "      <th></th>\n",
              "      <th>customerID</th>\n",
              "      <th>MultipleLines</th>\n",
              "    </tr>\n",
              "  </thead>\n",
              "  <tbody>\n",
              "    <tr>\n",
              "      <th>3979</th>\n",
              "      <td>1088-CNNKB</td>\n",
              "      <td>Yes</td>\n",
              "    </tr>\n",
              "    <tr>\n",
              "      <th>1054</th>\n",
              "      <td>6242-MBHPK</td>\n",
              "      <td>No</td>\n",
              "    </tr>\n",
              "    <tr>\n",
              "      <th>5877</th>\n",
              "      <td>3985-HOYPM</td>\n",
              "      <td>No</td>\n",
              "    </tr>\n",
              "    <tr>\n",
              "      <th>760</th>\n",
              "      <td>6092-QZVPP</td>\n",
              "      <td>No</td>\n",
              "    </tr>\n",
              "    <tr>\n",
              "      <th>5081</th>\n",
              "      <td>2344-JMOGN</td>\n",
              "      <td>No</td>\n",
              "    </tr>\n",
              "  </tbody>\n",
              "</table>\n",
              "</div>"
            ],
            "text/plain": [
              "      customerID MultipleLines\n",
              "3979  1088-CNNKB           Yes\n",
              "1054  6242-MBHPK            No\n",
              "5877  3985-HOYPM            No\n",
              "760   6092-QZVPP            No\n",
              "5081  2344-JMOGN            No"
            ]
          },
          "metadata": {},
          "output_type": "display_data"
        },
        {
          "name": "stdout",
          "output_type": "stream",
          "text": [
            "\n",
            "<class 'pandas.core.frame.DataFrame'>\n",
            "RangeIndex: 6361 entries, 0 to 6360\n",
            "Data columns (total 2 columns):\n",
            " #   Column         Non-Null Count  Dtype \n",
            "---  ------         --------------  ----- \n",
            " 0   customerID     6361 non-null   object\n",
            " 1   MultipleLines  6361 non-null   object\n",
            "dtypes: object(2)\n",
            "memory usage: 99.5+ KB\n"
          ]
        },
        {
          "data": {
            "text/plain": [
              "None"
            ]
          },
          "metadata": {},
          "output_type": "display_data"
        },
        {
          "name": "stdout",
          "output_type": "stream",
          "text": [
            "\n"
          ]
        },
        {
          "data": {
            "text/html": [
              "<div>\n",
              "<style scoped>\n",
              "    .dataframe tbody tr th:only-of-type {\n",
              "        vertical-align: middle;\n",
              "    }\n",
              "\n",
              "    .dataframe tbody tr th {\n",
              "        vertical-align: top;\n",
              "    }\n",
              "\n",
              "    .dataframe thead th {\n",
              "        text-align: right;\n",
              "    }\n",
              "</style>\n",
              "<table border=\"1\" class=\"dataframe\">\n",
              "  <thead>\n",
              "    <tr style=\"text-align: right;\">\n",
              "      <th></th>\n",
              "      <th>customerID</th>\n",
              "      <th>MultipleLines</th>\n",
              "    </tr>\n",
              "  </thead>\n",
              "  <tbody>\n",
              "    <tr>\n",
              "      <th>count</th>\n",
              "      <td>6361</td>\n",
              "      <td>6361</td>\n",
              "    </tr>\n",
              "    <tr>\n",
              "      <th>unique</th>\n",
              "      <td>6361</td>\n",
              "      <td>2</td>\n",
              "    </tr>\n",
              "    <tr>\n",
              "      <th>top</th>\n",
              "      <td>1996-DBMUS</td>\n",
              "      <td>No</td>\n",
              "    </tr>\n",
              "    <tr>\n",
              "      <th>freq</th>\n",
              "      <td>1</td>\n",
              "      <td>3390</td>\n",
              "    </tr>\n",
              "  </tbody>\n",
              "</table>\n",
              "</div>"
            ],
            "text/plain": [
              "        customerID MultipleLines\n",
              "count         6361          6361\n",
              "unique        6361             2\n",
              "top     1996-DBMUS            No\n",
              "freq             1          3390"
            ]
          },
          "metadata": {},
          "output_type": "display_data"
        },
        {
          "name": "stdout",
          "output_type": "stream",
          "text": [
            "\n",
            "Явные пропуски в данных\n",
            "customerID       0.0\n",
            "MultipleLines    0.0\n",
            "dtype: float64\n",
            "\n",
            "Явные дубликаты в данных\n",
            "0\n"
          ]
        }
      ],
      "source": [
        "open_df(phone_df)"
      ]
    },
    {
      "cell_type": "markdown",
      "id": "8dd631e1",
      "metadata": {
        "id": "8dd631e1"
      },
      "source": [
        "В последнем датафрейме всего 6361 строка и два признака - id пользователя и наличие у него мультиканального соединения."
      ]
    },
    {
      "cell_type": "markdown",
      "id": "6011572d",
      "metadata": {
        "id": "6011572d"
      },
      "source": [
        "**Общий вывод:** В данном разделе проведено предварительное исследование и обработка данных датасетов. Там где необходимо был изменен тип данных и заполнены пропуски. В двух датасетах - Интернет услуги и Телефония - меньшее количество строк, что говорит нам о том, что не все клиенты пользуются одним или другим видами услуг.  \n",
        "Более детальный обзор данных предстоит после их объединения в следующем параграфе."
      ]
    },
    {
      "cell_type": "markdown",
      "id": "74125fb5",
      "metadata": {
        "id": "74125fb5"
      },
      "source": [
        "## Объединение данных и EDA."
      ]
    },
    {
      "cell_type": "markdown",
      "id": "6f2526e3",
      "metadata": {
        "id": "6f2526e3"
      },
      "source": [
        "### Объединение данных."
      ]
    },
    {
      "cell_type": "markdown",
      "id": "beb402dd",
      "metadata": {
        "id": "beb402dd"
      },
      "source": [
        "Объеденим наши датафреймы по индексу - Id клиента."
      ]
    },
    {
      "cell_type": "code",
      "execution_count": null,
      "id": "eef4d4ef",
      "metadata": {
        "id": "eef4d4ef"
      },
      "outputs": [],
      "source": [
        "data = contract_df \\\n",
        "    .merge(personal_df, how='outer', on='customerID')\\\n",
        "    .merge(internet_df, how='outer', on='customerID')\\\n",
        "    .merge(phone_df, how='outer', on='customerID')\\\n",
        "    .reset_index(drop=True)"
      ]
    },
    {
      "cell_type": "code",
      "execution_count": null,
      "id": "ed6eb3e8",
      "metadata": {
        "scrolled": false,
        "id": "ed6eb3e8",
        "outputId": "60a9d39b-80df-4217-9215-f655821a487a"
      },
      "outputs": [
        {
          "data": {
            "text/html": [
              "<div>\n",
              "<style scoped>\n",
              "    .dataframe tbody tr th:only-of-type {\n",
              "        vertical-align: middle;\n",
              "    }\n",
              "\n",
              "    .dataframe tbody tr th {\n",
              "        vertical-align: top;\n",
              "    }\n",
              "\n",
              "    .dataframe thead th {\n",
              "        text-align: right;\n",
              "    }\n",
              "</style>\n",
              "<table border=\"1\" class=\"dataframe\">\n",
              "  <thead>\n",
              "    <tr style=\"text-align: right;\">\n",
              "      <th></th>\n",
              "      <th>customerID</th>\n",
              "      <th>BeginDate</th>\n",
              "      <th>EndDate</th>\n",
              "      <th>Type</th>\n",
              "      <th>PaperlessBilling</th>\n",
              "      <th>PaymentMethod</th>\n",
              "      <th>MonthlyCharges</th>\n",
              "      <th>TotalCharges</th>\n",
              "      <th>ClientLeft</th>\n",
              "      <th>Duration</th>\n",
              "      <th>...</th>\n",
              "      <th>Partner</th>\n",
              "      <th>Dependents</th>\n",
              "      <th>InternetService</th>\n",
              "      <th>OnlineSecurity</th>\n",
              "      <th>OnlineBackup</th>\n",
              "      <th>DeviceProtection</th>\n",
              "      <th>TechSupport</th>\n",
              "      <th>StreamingTV</th>\n",
              "      <th>StreamingMovies</th>\n",
              "      <th>MultipleLines</th>\n",
              "    </tr>\n",
              "  </thead>\n",
              "  <tbody>\n",
              "    <tr>\n",
              "      <th>2146</th>\n",
              "      <td>8894-JVDCV</td>\n",
              "      <td>2014-12-01</td>\n",
              "      <td>2020-02-01</td>\n",
              "      <td>One year</td>\n",
              "      <td>Yes</td>\n",
              "      <td>Credit card (automatic)</td>\n",
              "      <td>115.05</td>\n",
              "      <td>7133.10</td>\n",
              "      <td>0</td>\n",
              "      <td>1888.0</td>\n",
              "      <td>...</td>\n",
              "      <td>No</td>\n",
              "      <td>No</td>\n",
              "      <td>Fiber optic</td>\n",
              "      <td>Yes</td>\n",
              "      <td>Yes</td>\n",
              "      <td>Yes</td>\n",
              "      <td>Yes</td>\n",
              "      <td>Yes</td>\n",
              "      <td>Yes</td>\n",
              "      <td>Yes</td>\n",
              "    </tr>\n",
              "    <tr>\n",
              "      <th>2602</th>\n",
              "      <td>1135-HIORI</td>\n",
              "      <td>2014-10-01</td>\n",
              "      <td>2020-02-01</td>\n",
              "      <td>One year</td>\n",
              "      <td>Yes</td>\n",
              "      <td>Electronic check</td>\n",
              "      <td>111.45</td>\n",
              "      <td>7560.77</td>\n",
              "      <td>0</td>\n",
              "      <td>1949.0</td>\n",
              "      <td>...</td>\n",
              "      <td>Yes</td>\n",
              "      <td>Yes</td>\n",
              "      <td>Fiber optic</td>\n",
              "      <td>No</td>\n",
              "      <td>Yes</td>\n",
              "      <td>Yes</td>\n",
              "      <td>Yes</td>\n",
              "      <td>Yes</td>\n",
              "      <td>Yes</td>\n",
              "      <td>Yes</td>\n",
              "    </tr>\n",
              "    <tr>\n",
              "      <th>1875</th>\n",
              "      <td>9637-CDTKZ</td>\n",
              "      <td>2014-02-01</td>\n",
              "      <td>2020-02-01</td>\n",
              "      <td>Two year</td>\n",
              "      <td>Yes</td>\n",
              "      <td>Credit card (automatic)</td>\n",
              "      <td>114.10</td>\n",
              "      <td>8708.11</td>\n",
              "      <td>0</td>\n",
              "      <td>2191.0</td>\n",
              "      <td>...</td>\n",
              "      <td>Yes</td>\n",
              "      <td>No</td>\n",
              "      <td>Fiber optic</td>\n",
              "      <td>Yes</td>\n",
              "      <td>Yes</td>\n",
              "      <td>Yes</td>\n",
              "      <td>Yes</td>\n",
              "      <td>Yes</td>\n",
              "      <td>Yes</td>\n",
              "      <td>Yes</td>\n",
              "    </tr>\n",
              "    <tr>\n",
              "      <th>3386</th>\n",
              "      <td>1474-JUWSM</td>\n",
              "      <td>2015-04-01</td>\n",
              "      <td>2020-02-01</td>\n",
              "      <td>One year</td>\n",
              "      <td>Yes</td>\n",
              "      <td>Electronic check</td>\n",
              "      <td>68.40</td>\n",
              "      <td>4363.92</td>\n",
              "      <td>0</td>\n",
              "      <td>1767.0</td>\n",
              "      <td>...</td>\n",
              "      <td>Yes</td>\n",
              "      <td>No</td>\n",
              "      <td>DSL</td>\n",
              "      <td>Yes</td>\n",
              "      <td>No</td>\n",
              "      <td>No</td>\n",
              "      <td>Yes</td>\n",
              "      <td>No</td>\n",
              "      <td>Yes</td>\n",
              "      <td>Yes</td>\n",
              "    </tr>\n",
              "    <tr>\n",
              "      <th>725</th>\n",
              "      <td>6549-YMFAW</td>\n",
              "      <td>2019-05-01</td>\n",
              "      <td>2020-02-01</td>\n",
              "      <td>Month-to-month</td>\n",
              "      <td>Yes</td>\n",
              "      <td>Mailed check</td>\n",
              "      <td>21.25</td>\n",
              "      <td>191.25</td>\n",
              "      <td>0</td>\n",
              "      <td>276.0</td>\n",
              "      <td>...</td>\n",
              "      <td>Yes</td>\n",
              "      <td>No</td>\n",
              "      <td>NaN</td>\n",
              "      <td>NaN</td>\n",
              "      <td>NaN</td>\n",
              "      <td>NaN</td>\n",
              "      <td>NaN</td>\n",
              "      <td>NaN</td>\n",
              "      <td>NaN</td>\n",
              "      <td>No</td>\n",
              "    </tr>\n",
              "  </tbody>\n",
              "</table>\n",
              "<p>5 rows × 22 columns</p>\n",
              "</div>"
            ],
            "text/plain": [
              "      customerID  BeginDate    EndDate            Type PaperlessBilling  \\\n",
              "2146  8894-JVDCV 2014-12-01 2020-02-01        One year              Yes   \n",
              "2602  1135-HIORI 2014-10-01 2020-02-01        One year              Yes   \n",
              "1875  9637-CDTKZ 2014-02-01 2020-02-01        Two year              Yes   \n",
              "3386  1474-JUWSM 2015-04-01 2020-02-01        One year              Yes   \n",
              "725   6549-YMFAW 2019-05-01 2020-02-01  Month-to-month              Yes   \n",
              "\n",
              "                PaymentMethod  MonthlyCharges  TotalCharges  ClientLeft  \\\n",
              "2146  Credit card (automatic)          115.05       7133.10           0   \n",
              "2602         Electronic check          111.45       7560.77           0   \n",
              "1875  Credit card (automatic)          114.10       8708.11           0   \n",
              "3386         Electronic check           68.40       4363.92           0   \n",
              "725              Mailed check           21.25        191.25           0   \n",
              "\n",
              "      Duration  ... Partner Dependents InternetService OnlineSecurity  \\\n",
              "2146    1888.0  ...      No         No     Fiber optic            Yes   \n",
              "2602    1949.0  ...     Yes        Yes     Fiber optic             No   \n",
              "1875    2191.0  ...     Yes         No     Fiber optic            Yes   \n",
              "3386    1767.0  ...     Yes         No             DSL            Yes   \n",
              "725      276.0  ...     Yes         No             NaN            NaN   \n",
              "\n",
              "     OnlineBackup DeviceProtection TechSupport StreamingTV StreamingMovies  \\\n",
              "2146          Yes              Yes         Yes         Yes             Yes   \n",
              "2602          Yes              Yes         Yes         Yes             Yes   \n",
              "1875          Yes              Yes         Yes         Yes             Yes   \n",
              "3386           No               No         Yes          No             Yes   \n",
              "725           NaN              NaN         NaN         NaN             NaN   \n",
              "\n",
              "     MultipleLines  \n",
              "2146           Yes  \n",
              "2602           Yes  \n",
              "1875           Yes  \n",
              "3386           Yes  \n",
              "725             No  \n",
              "\n",
              "[5 rows x 22 columns]"
            ]
          },
          "metadata": {},
          "output_type": "display_data"
        },
        {
          "name": "stdout",
          "output_type": "stream",
          "text": [
            "\n",
            "<class 'pandas.core.frame.DataFrame'>\n",
            "RangeIndex: 7043 entries, 0 to 7042\n",
            "Data columns (total 22 columns):\n",
            " #   Column            Non-Null Count  Dtype         \n",
            "---  ------            --------------  -----         \n",
            " 0   customerID        7043 non-null   object        \n",
            " 1   BeginDate         7043 non-null   datetime64[ns]\n",
            " 2   EndDate           7043 non-null   datetime64[ns]\n",
            " 3   Type              7043 non-null   object        \n",
            " 4   PaperlessBilling  7043 non-null   object        \n",
            " 5   PaymentMethod     7043 non-null   object        \n",
            " 6   MonthlyCharges    7043 non-null   float64       \n",
            " 7   TotalCharges      7043 non-null   float64       \n",
            " 8   ClientLeft        7043 non-null   int64         \n",
            " 9   Duration          7043 non-null   float64       \n",
            " 10  gender            7043 non-null   object        \n",
            " 11  SeniorCitizen     7043 non-null   object        \n",
            " 12  Partner           7043 non-null   object        \n",
            " 13  Dependents        7043 non-null   object        \n",
            " 14  InternetService   5517 non-null   object        \n",
            " 15  OnlineSecurity    5517 non-null   object        \n",
            " 16  OnlineBackup      5517 non-null   object        \n",
            " 17  DeviceProtection  5517 non-null   object        \n",
            " 18  TechSupport       5517 non-null   object        \n",
            " 19  StreamingTV       5517 non-null   object        \n",
            " 20  StreamingMovies   5517 non-null   object        \n",
            " 21  MultipleLines     6361 non-null   object        \n",
            "dtypes: datetime64[ns](2), float64(3), int64(1), object(16)\n",
            "memory usage: 1.2+ MB\n"
          ]
        },
        {
          "data": {
            "text/plain": [
              "None"
            ]
          },
          "metadata": {},
          "output_type": "display_data"
        },
        {
          "name": "stdout",
          "output_type": "stream",
          "text": [
            "\n"
          ]
        },
        {
          "data": {
            "text/html": [
              "<div>\n",
              "<style scoped>\n",
              "    .dataframe tbody tr th:only-of-type {\n",
              "        vertical-align: middle;\n",
              "    }\n",
              "\n",
              "    .dataframe tbody tr th {\n",
              "        vertical-align: top;\n",
              "    }\n",
              "\n",
              "    .dataframe thead th {\n",
              "        text-align: right;\n",
              "    }\n",
              "</style>\n",
              "<table border=\"1\" class=\"dataframe\">\n",
              "  <thead>\n",
              "    <tr style=\"text-align: right;\">\n",
              "      <th></th>\n",
              "      <th>customerID</th>\n",
              "      <th>BeginDate</th>\n",
              "      <th>EndDate</th>\n",
              "      <th>Type</th>\n",
              "      <th>PaperlessBilling</th>\n",
              "      <th>PaymentMethod</th>\n",
              "      <th>MonthlyCharges</th>\n",
              "      <th>TotalCharges</th>\n",
              "      <th>ClientLeft</th>\n",
              "      <th>Duration</th>\n",
              "      <th>...</th>\n",
              "      <th>Partner</th>\n",
              "      <th>Dependents</th>\n",
              "      <th>InternetService</th>\n",
              "      <th>OnlineSecurity</th>\n",
              "      <th>OnlineBackup</th>\n",
              "      <th>DeviceProtection</th>\n",
              "      <th>TechSupport</th>\n",
              "      <th>StreamingTV</th>\n",
              "      <th>StreamingMovies</th>\n",
              "      <th>MultipleLines</th>\n",
              "    </tr>\n",
              "  </thead>\n",
              "  <tbody>\n",
              "    <tr>\n",
              "      <th>count</th>\n",
              "      <td>7043</td>\n",
              "      <td>7043</td>\n",
              "      <td>7043</td>\n",
              "      <td>7043</td>\n",
              "      <td>7043</td>\n",
              "      <td>7043</td>\n",
              "      <td>7043.000000</td>\n",
              "      <td>7043.000000</td>\n",
              "      <td>7043.000000</td>\n",
              "      <td>7043.000000</td>\n",
              "      <td>...</td>\n",
              "      <td>7043</td>\n",
              "      <td>7043</td>\n",
              "      <td>5517</td>\n",
              "      <td>5517</td>\n",
              "      <td>5517</td>\n",
              "      <td>5517</td>\n",
              "      <td>5517</td>\n",
              "      <td>5517</td>\n",
              "      <td>5517</td>\n",
              "      <td>6361</td>\n",
              "    </tr>\n",
              "    <tr>\n",
              "      <th>unique</th>\n",
              "      <td>7043</td>\n",
              "      <td>77</td>\n",
              "      <td>67</td>\n",
              "      <td>3</td>\n",
              "      <td>2</td>\n",
              "      <td>4</td>\n",
              "      <td>NaN</td>\n",
              "      <td>NaN</td>\n",
              "      <td>NaN</td>\n",
              "      <td>NaN</td>\n",
              "      <td>...</td>\n",
              "      <td>2</td>\n",
              "      <td>2</td>\n",
              "      <td>2</td>\n",
              "      <td>2</td>\n",
              "      <td>2</td>\n",
              "      <td>2</td>\n",
              "      <td>2</td>\n",
              "      <td>2</td>\n",
              "      <td>2</td>\n",
              "      <td>2</td>\n",
              "    </tr>\n",
              "    <tr>\n",
              "      <th>top</th>\n",
              "      <td>1996-DBMUS</td>\n",
              "      <td>2014-02-01 00:00:00</td>\n",
              "      <td>2020-02-01 00:00:00</td>\n",
              "      <td>Month-to-month</td>\n",
              "      <td>Yes</td>\n",
              "      <td>Electronic check</td>\n",
              "      <td>NaN</td>\n",
              "      <td>NaN</td>\n",
              "      <td>NaN</td>\n",
              "      <td>NaN</td>\n",
              "      <td>...</td>\n",
              "      <td>No</td>\n",
              "      <td>No</td>\n",
              "      <td>Fiber optic</td>\n",
              "      <td>No</td>\n",
              "      <td>No</td>\n",
              "      <td>No</td>\n",
              "      <td>No</td>\n",
              "      <td>No</td>\n",
              "      <td>No</td>\n",
              "      <td>No</td>\n",
              "    </tr>\n",
              "    <tr>\n",
              "      <th>freq</th>\n",
              "      <td>1</td>\n",
              "      <td>366</td>\n",
              "      <td>5942</td>\n",
              "      <td>3875</td>\n",
              "      <td>4171</td>\n",
              "      <td>2365</td>\n",
              "      <td>NaN</td>\n",
              "      <td>NaN</td>\n",
              "      <td>NaN</td>\n",
              "      <td>NaN</td>\n",
              "      <td>...</td>\n",
              "      <td>3641</td>\n",
              "      <td>4933</td>\n",
              "      <td>3096</td>\n",
              "      <td>3498</td>\n",
              "      <td>3088</td>\n",
              "      <td>3095</td>\n",
              "      <td>3473</td>\n",
              "      <td>2810</td>\n",
              "      <td>2785</td>\n",
              "      <td>3390</td>\n",
              "    </tr>\n",
              "    <tr>\n",
              "      <th>first</th>\n",
              "      <td>NaN</td>\n",
              "      <td>2013-10-01 00:00:00</td>\n",
              "      <td>2014-06-01 00:00:00</td>\n",
              "      <td>NaN</td>\n",
              "      <td>NaN</td>\n",
              "      <td>NaN</td>\n",
              "      <td>NaN</td>\n",
              "      <td>NaN</td>\n",
              "      <td>NaN</td>\n",
              "      <td>NaN</td>\n",
              "      <td>...</td>\n",
              "      <td>NaN</td>\n",
              "      <td>NaN</td>\n",
              "      <td>NaN</td>\n",
              "      <td>NaN</td>\n",
              "      <td>NaN</td>\n",
              "      <td>NaN</td>\n",
              "      <td>NaN</td>\n",
              "      <td>NaN</td>\n",
              "      <td>NaN</td>\n",
              "      <td>NaN</td>\n",
              "    </tr>\n",
              "    <tr>\n",
              "      <th>last</th>\n",
              "      <td>NaN</td>\n",
              "      <td>2020-02-01 00:00:00</td>\n",
              "      <td>2020-02-01 00:00:00</td>\n",
              "      <td>NaN</td>\n",
              "      <td>NaN</td>\n",
              "      <td>NaN</td>\n",
              "      <td>NaN</td>\n",
              "      <td>NaN</td>\n",
              "      <td>NaN</td>\n",
              "      <td>NaN</td>\n",
              "      <td>...</td>\n",
              "      <td>NaN</td>\n",
              "      <td>NaN</td>\n",
              "      <td>NaN</td>\n",
              "      <td>NaN</td>\n",
              "      <td>NaN</td>\n",
              "      <td>NaN</td>\n",
              "      <td>NaN</td>\n",
              "      <td>NaN</td>\n",
              "      <td>NaN</td>\n",
              "      <td>NaN</td>\n",
              "    </tr>\n",
              "    <tr>\n",
              "      <th>mean</th>\n",
              "      <td>NaN</td>\n",
              "      <td>NaN</td>\n",
              "      <td>NaN</td>\n",
              "      <td>NaN</td>\n",
              "      <td>NaN</td>\n",
              "      <td>NaN</td>\n",
              "      <td>64.761692</td>\n",
              "      <td>2115.377573</td>\n",
              "      <td>0.156325</td>\n",
              "      <td>898.555729</td>\n",
              "      <td>...</td>\n",
              "      <td>NaN</td>\n",
              "      <td>NaN</td>\n",
              "      <td>NaN</td>\n",
              "      <td>NaN</td>\n",
              "      <td>NaN</td>\n",
              "      <td>NaN</td>\n",
              "      <td>NaN</td>\n",
              "      <td>NaN</td>\n",
              "      <td>NaN</td>\n",
              "      <td>NaN</td>\n",
              "    </tr>\n",
              "    <tr>\n",
              "      <th>std</th>\n",
              "      <td>NaN</td>\n",
              "      <td>NaN</td>\n",
              "      <td>NaN</td>\n",
              "      <td>NaN</td>\n",
              "      <td>NaN</td>\n",
              "      <td>NaN</td>\n",
              "      <td>30.090047</td>\n",
              "      <td>2112.678861</td>\n",
              "      <td>0.363189</td>\n",
              "      <td>683.130510</td>\n",
              "      <td>...</td>\n",
              "      <td>NaN</td>\n",
              "      <td>NaN</td>\n",
              "      <td>NaN</td>\n",
              "      <td>NaN</td>\n",
              "      <td>NaN</td>\n",
              "      <td>NaN</td>\n",
              "      <td>NaN</td>\n",
              "      <td>NaN</td>\n",
              "      <td>NaN</td>\n",
              "      <td>NaN</td>\n",
              "    </tr>\n",
              "    <tr>\n",
              "      <th>min</th>\n",
              "      <td>NaN</td>\n",
              "      <td>NaN</td>\n",
              "      <td>NaN</td>\n",
              "      <td>NaN</td>\n",
              "      <td>NaN</td>\n",
              "      <td>NaN</td>\n",
              "      <td>18.250000</td>\n",
              "      <td>19.050000</td>\n",
              "      <td>0.000000</td>\n",
              "      <td>0.000000</td>\n",
              "      <td>...</td>\n",
              "      <td>NaN</td>\n",
              "      <td>NaN</td>\n",
              "      <td>NaN</td>\n",
              "      <td>NaN</td>\n",
              "      <td>NaN</td>\n",
              "      <td>NaN</td>\n",
              "      <td>NaN</td>\n",
              "      <td>NaN</td>\n",
              "      <td>NaN</td>\n",
              "      <td>NaN</td>\n",
              "    </tr>\n",
              "    <tr>\n",
              "      <th>25%</th>\n",
              "      <td>NaN</td>\n",
              "      <td>NaN</td>\n",
              "      <td>NaN</td>\n",
              "      <td>NaN</td>\n",
              "      <td>NaN</td>\n",
              "      <td>NaN</td>\n",
              "      <td>35.500000</td>\n",
              "      <td>436.750000</td>\n",
              "      <td>0.000000</td>\n",
              "      <td>276.000000</td>\n",
              "      <td>...</td>\n",
              "      <td>NaN</td>\n",
              "      <td>NaN</td>\n",
              "      <td>NaN</td>\n",
              "      <td>NaN</td>\n",
              "      <td>NaN</td>\n",
              "      <td>NaN</td>\n",
              "      <td>NaN</td>\n",
              "      <td>NaN</td>\n",
              "      <td>NaN</td>\n",
              "      <td>NaN</td>\n",
              "    </tr>\n",
              "    <tr>\n",
              "      <th>50%</th>\n",
              "      <td>NaN</td>\n",
              "      <td>NaN</td>\n",
              "      <td>NaN</td>\n",
              "      <td>NaN</td>\n",
              "      <td>NaN</td>\n",
              "      <td>NaN</td>\n",
              "      <td>70.350000</td>\n",
              "      <td>1343.350000</td>\n",
              "      <td>0.000000</td>\n",
              "      <td>761.000000</td>\n",
              "      <td>...</td>\n",
              "      <td>NaN</td>\n",
              "      <td>NaN</td>\n",
              "      <td>NaN</td>\n",
              "      <td>NaN</td>\n",
              "      <td>NaN</td>\n",
              "      <td>NaN</td>\n",
              "      <td>NaN</td>\n",
              "      <td>NaN</td>\n",
              "      <td>NaN</td>\n",
              "      <td>NaN</td>\n",
              "    </tr>\n",
              "    <tr>\n",
              "      <th>75%</th>\n",
              "      <td>NaN</td>\n",
              "      <td>NaN</td>\n",
              "      <td>NaN</td>\n",
              "      <td>NaN</td>\n",
              "      <td>NaN</td>\n",
              "      <td>NaN</td>\n",
              "      <td>89.850000</td>\n",
              "      <td>3236.690000</td>\n",
              "      <td>0.000000</td>\n",
              "      <td>1461.000000</td>\n",
              "      <td>...</td>\n",
              "      <td>NaN</td>\n",
              "      <td>NaN</td>\n",
              "      <td>NaN</td>\n",
              "      <td>NaN</td>\n",
              "      <td>NaN</td>\n",
              "      <td>NaN</td>\n",
              "      <td>NaN</td>\n",
              "      <td>NaN</td>\n",
              "      <td>NaN</td>\n",
              "      <td>NaN</td>\n",
              "    </tr>\n",
              "    <tr>\n",
              "      <th>max</th>\n",
              "      <td>NaN</td>\n",
              "      <td>NaN</td>\n",
              "      <td>NaN</td>\n",
              "      <td>NaN</td>\n",
              "      <td>NaN</td>\n",
              "      <td>NaN</td>\n",
              "      <td>118.750000</td>\n",
              "      <td>9221.380000</td>\n",
              "      <td>1.000000</td>\n",
              "      <td>2314.000000</td>\n",
              "      <td>...</td>\n",
              "      <td>NaN</td>\n",
              "      <td>NaN</td>\n",
              "      <td>NaN</td>\n",
              "      <td>NaN</td>\n",
              "      <td>NaN</td>\n",
              "      <td>NaN</td>\n",
              "      <td>NaN</td>\n",
              "      <td>NaN</td>\n",
              "      <td>NaN</td>\n",
              "      <td>NaN</td>\n",
              "    </tr>\n",
              "  </tbody>\n",
              "</table>\n",
              "<p>13 rows × 22 columns</p>\n",
              "</div>"
            ],
            "text/plain": [
              "        customerID            BeginDate              EndDate            Type  \\\n",
              "count         7043                 7043                 7043            7043   \n",
              "unique        7043                   77                   67               3   \n",
              "top     1996-DBMUS  2014-02-01 00:00:00  2020-02-01 00:00:00  Month-to-month   \n",
              "freq             1                  366                 5942            3875   \n",
              "first          NaN  2013-10-01 00:00:00  2014-06-01 00:00:00             NaN   \n",
              "last           NaN  2020-02-01 00:00:00  2020-02-01 00:00:00             NaN   \n",
              "mean           NaN                  NaN                  NaN             NaN   \n",
              "std            NaN                  NaN                  NaN             NaN   \n",
              "min            NaN                  NaN                  NaN             NaN   \n",
              "25%            NaN                  NaN                  NaN             NaN   \n",
              "50%            NaN                  NaN                  NaN             NaN   \n",
              "75%            NaN                  NaN                  NaN             NaN   \n",
              "max            NaN                  NaN                  NaN             NaN   \n",
              "\n",
              "       PaperlessBilling     PaymentMethod  MonthlyCharges  TotalCharges  \\\n",
              "count              7043              7043     7043.000000   7043.000000   \n",
              "unique                2                 4             NaN           NaN   \n",
              "top                 Yes  Electronic check             NaN           NaN   \n",
              "freq               4171              2365             NaN           NaN   \n",
              "first               NaN               NaN             NaN           NaN   \n",
              "last                NaN               NaN             NaN           NaN   \n",
              "mean                NaN               NaN       64.761692   2115.377573   \n",
              "std                 NaN               NaN       30.090047   2112.678861   \n",
              "min                 NaN               NaN       18.250000     19.050000   \n",
              "25%                 NaN               NaN       35.500000    436.750000   \n",
              "50%                 NaN               NaN       70.350000   1343.350000   \n",
              "75%                 NaN               NaN       89.850000   3236.690000   \n",
              "max                 NaN               NaN      118.750000   9221.380000   \n",
              "\n",
              "         ClientLeft     Duration  ... Partner Dependents InternetService  \\\n",
              "count   7043.000000  7043.000000  ...    7043       7043            5517   \n",
              "unique          NaN          NaN  ...       2          2               2   \n",
              "top             NaN          NaN  ...      No         No     Fiber optic   \n",
              "freq            NaN          NaN  ...    3641       4933            3096   \n",
              "first           NaN          NaN  ...     NaN        NaN             NaN   \n",
              "last            NaN          NaN  ...     NaN        NaN             NaN   \n",
              "mean       0.156325   898.555729  ...     NaN        NaN             NaN   \n",
              "std        0.363189   683.130510  ...     NaN        NaN             NaN   \n",
              "min        0.000000     0.000000  ...     NaN        NaN             NaN   \n",
              "25%        0.000000   276.000000  ...     NaN        NaN             NaN   \n",
              "50%        0.000000   761.000000  ...     NaN        NaN             NaN   \n",
              "75%        0.000000  1461.000000  ...     NaN        NaN             NaN   \n",
              "max        1.000000  2314.000000  ...     NaN        NaN             NaN   \n",
              "\n",
              "       OnlineSecurity OnlineBackup DeviceProtection TechSupport StreamingTV  \\\n",
              "count            5517         5517             5517        5517        5517   \n",
              "unique              2            2                2           2           2   \n",
              "top                No           No               No          No          No   \n",
              "freq             3498         3088             3095        3473        2810   \n",
              "first             NaN          NaN              NaN         NaN         NaN   \n",
              "last              NaN          NaN              NaN         NaN         NaN   \n",
              "mean              NaN          NaN              NaN         NaN         NaN   \n",
              "std               NaN          NaN              NaN         NaN         NaN   \n",
              "min               NaN          NaN              NaN         NaN         NaN   \n",
              "25%               NaN          NaN              NaN         NaN         NaN   \n",
              "50%               NaN          NaN              NaN         NaN         NaN   \n",
              "75%               NaN          NaN              NaN         NaN         NaN   \n",
              "max               NaN          NaN              NaN         NaN         NaN   \n",
              "\n",
              "       StreamingMovies MultipleLines  \n",
              "count             5517          6361  \n",
              "unique               2             2  \n",
              "top                 No            No  \n",
              "freq              2785          3390  \n",
              "first              NaN           NaN  \n",
              "last               NaN           NaN  \n",
              "mean               NaN           NaN  \n",
              "std                NaN           NaN  \n",
              "min                NaN           NaN  \n",
              "25%                NaN           NaN  \n",
              "50%                NaN           NaN  \n",
              "75%                NaN           NaN  \n",
              "max                NaN           NaN  \n",
              "\n",
              "[13 rows x 22 columns]"
            ]
          },
          "metadata": {},
          "output_type": "display_data"
        },
        {
          "name": "stdout",
          "output_type": "stream",
          "text": [
            "\n",
            "Явные пропуски в данных\n",
            "customerID          0.000000\n",
            "BeginDate           0.000000\n",
            "EndDate             0.000000\n",
            "Type                0.000000\n",
            "PaperlessBilling    0.000000\n",
            "PaymentMethod       0.000000\n",
            "MonthlyCharges      0.000000\n",
            "TotalCharges        0.000000\n",
            "ClientLeft          0.000000\n",
            "Duration            0.000000\n",
            "gender              0.000000\n",
            "SeniorCitizen       0.000000\n",
            "Partner             0.000000\n",
            "Dependents          0.000000\n",
            "InternetService     0.216669\n",
            "OnlineSecurity      0.216669\n",
            "OnlineBackup        0.216669\n",
            "DeviceProtection    0.216669\n",
            "TechSupport         0.216669\n",
            "StreamingTV         0.216669\n",
            "StreamingMovies     0.216669\n",
            "MultipleLines       0.096834\n",
            "dtype: float64\n",
            "\n",
            "Явные дубликаты в данных\n",
            "0\n"
          ]
        }
      ],
      "source": [
        "open_df(data)"
      ]
    },
    {
      "cell_type": "markdown",
      "id": "7530c877",
      "metadata": {
        "id": "7530c877"
      },
      "source": [
        "Для удобства переведем все названия столбцов в \"змеиный регистр\"."
      ]
    },
    {
      "cell_type": "code",
      "execution_count": null,
      "id": "de3ec0c3",
      "metadata": {
        "id": "de3ec0c3",
        "outputId": "206af524-b7b6-4618-f62d-892f3fd40498"
      },
      "outputs": [
        {
          "data": {
            "text/plain": [
              "Index(['customer_id', 'begin_date', 'end_date', 'type', 'paperless_billing',\n",
              "       'payment_method', 'monthly_charges', 'total_charges', 'client_left',\n",
              "       'duration', 'gender', 'senior_citizen', 'partner', 'dependents',\n",
              "       'internet_service', 'online_security', 'online_backup',\n",
              "       'device_protection', 'tech_support', 'streaming_tv', 'streaming_movies',\n",
              "       'multiple_lines'],\n",
              "      dtype='object')"
            ]
          },
          "execution_count": 20,
          "metadata": {},
          "output_type": "execute_result"
        }
      ],
      "source": [
        "data.columns = data.columns.to_series().apply(snakecase.convert)\n",
        "data.columns"
      ]
    },
    {
      "cell_type": "markdown",
      "id": "07577549",
      "metadata": {
        "id": "07577549"
      },
      "source": [
        "### Заполнение пропусков."
      ]
    },
    {
      "cell_type": "markdown",
      "id": "ff545f13",
      "metadata": {
        "id": "ff545f13"
      },
      "source": [
        "Как я писал выше, не все клиенты используют ряд предложенных услуг. Считаю разумным заполнить пропуски в последних 8 столбцах значением - 'No'."
      ]
    },
    {
      "cell_type": "code",
      "execution_count": null,
      "id": "4f047189",
      "metadata": {
        "id": "4f047189"
      },
      "outputs": [],
      "source": [
        "data = data.fillna('No')"
      ]
    },
    {
      "cell_type": "markdown",
      "id": "ab2a1bfc",
      "metadata": {
        "id": "ab2a1bfc"
      },
      "source": [
        "### EDA"
      ]
    },
    {
      "cell_type": "markdown",
      "id": "9f9090d7",
      "metadata": {
        "id": "9f9090d7"
      },
      "source": [
        "Рассмотрим все численные + дата признаки более подробно: построим гистограммы для каждого признака и опишем распределение."
      ]
    },
    {
      "cell_type": "markdown",
      "id": "dac7f8e6",
      "metadata": {
        "id": "dac7f8e6"
      },
      "source": [
        "#### Заключение и расторжение контрактов по годам."
      ]
    },
    {
      "cell_type": "code",
      "execution_count": null,
      "id": "69e5e2da",
      "metadata": {
        "id": "69e5e2da",
        "outputId": "8e17bf1f-209b-459e-bbcb-ed6f6bce73f1"
      },
      "outputs": [
        {
          "data": {
            "image/png": "[encoded data removed]",
            "text/plain": [
              "<Figure size 864x576 with 1 Axes>"
            ]
          },
          "metadata": {
            "needs_background": "light"
          },
          "output_type": "display_data"
        }
      ],
      "source": [
        "from datetime import datetime\n",
        "plt.figure(figsize=(12, 8))\n",
        "\n",
        "#график числа заключения контрактов по годам\n",
        "data.begin_date.value_counts().plot()\n",
        "#график расторжения контрактов по годам (исключая дату '2020-02-01')\n",
        "value_to_exclude = datetime.strptime('2020-02-01', '%Y-%m-%d')\n",
        "dates_filtered = data['end_date'][data['end_date'] != value_to_exclude]\n",
        "dates_filtered.value_counts().plot()\n",
        "plt.title(\"График распределения заключения и расторжения контрактов по времени.\",\n",
        "          fontsize=15)\n",
        "plt.xlabel('Год', fontsize=12)\n",
        "plt.ylabel('Количество контрактов', fontsize=12)\n",
        "plt.legend(['Заключение контракта', 'Расторжение контракта'])\n",
        "\n",
        "plt.show()"
      ]
    },
    {
      "cell_type": "markdown",
      "id": "c01b0dc4",
      "metadata": {
        "id": "c01b0dc4"
      },
      "source": [
        "На графике заметно, что в момент начала ведения статистики в 2014 году - возможно начала деятельности организации - был большой приток клиентов. далее наблюдалось относительное плато от года в год до 2019 года, потом резкий рост.  \n",
        "Процент расторжения контрактов увеличивается ежегодно."
      ]
    },
    {
      "cell_type": "markdown",
      "id": "bbf20484",
      "metadata": {
        "id": "bbf20484"
      },
      "source": [
        "#### Распределение месячных и общих оплат, длительности контракта"
      ]
    },
    {
      "cell_type": "code",
      "execution_count": null,
      "id": "cac91e53",
      "metadata": {
        "id": "cac91e53",
        "outputId": "0b9ee89d-0571-467f-ebd9-effaec1d1779"
      },
      "outputs": [
        {
          "data": {
            "image/png": "[encoded data removed]",
            "text/plain": [
              "<Figure size 864x576 with 1 Axes>"
            ]
          },
          "metadata": {
            "needs_background": "light"
          },
          "output_type": "display_data"
        }
      ],
      "source": [
        "plt.figure(figsize=(12, 8))\n",
        "data.monthly_charges.hist(bins=120)\n",
        "plt.title(\"График распределения месячных оплат\",\n",
        "          fontsize=15)\n",
        "plt.xlabel('Сумма в месяц', fontsize=12)\n",
        "plt.ylabel('Количество контрактов', fontsize=12)\n",
        "plt.show()"
      ]
    },
    {
      "cell_type": "markdown",
      "id": "e62ba833",
      "metadata": {
        "id": "e62ba833"
      },
      "source": [
        "Самое большое колличество контрактов стоимостью 20 ед. в месяц. Далее распределение относительно ровное - пики каждые 5 ед., что свидетельствует о ценах на тарифы кратныx 5. Стоимость разнится от 20 до 120."
      ]
    },
    {
      "cell_type": "code",
      "execution_count": null,
      "id": "06c30772",
      "metadata": {
        "id": "06c30772",
        "outputId": "e8b6a548-8e4d-4acd-8bfe-bcb8cc4ddf71"
      },
      "outputs": [
        {
          "data": {
            "image/png": "[encoded data removed]",
            "text/plain": [
              "<Figure size 864x576 with 1 Axes>"
            ]
          },
          "metadata": {
            "needs_background": "light"
          },
          "output_type": "display_data"
        }
      ],
      "source": [
        "plt.figure(figsize=(12, 8))\n",
        "data.total_charges.hist(bins=120)\n",
        "plt.title(\"График распределения итоговой суммы\",\n",
        "          fontsize=15)\n",
        "plt.xlabel('Итоговая сумма', fontsize=12)\n",
        "plt.ylabel('Количество контрактов', fontsize=12)\n",
        "plt.show()"
      ]
    },
    {
      "cell_type": "markdown",
      "id": "9f67dfed",
      "metadata": {
        "id": "9f67dfed"
      },
      "source": [
        "Распределение итоговой суммы потраченной на услуги скошено влево и имеет длинный хвост. Больше всего люди потратили в общем около 1000 ед. на услуги провайдера."
      ]
    },
    {
      "cell_type": "code",
      "execution_count": null,
      "id": "46700f11",
      "metadata": {
        "id": "46700f11",
        "outputId": "34742195-6f56-407b-94c7-218fee3492c1"
      },
      "outputs": [
        {
          "data": {
            "image/png": "[encoded data removed]",
            "text/plain": [
              "<Figure size 864x576 with 1 Axes>"
            ]
          },
          "metadata": {
            "needs_background": "light"
          },
          "output_type": "display_data"
        }
      ],
      "source": [
        "plt.figure(figsize=(12, 8))\n",
        "data.duration.hist(bins=200)\n",
        "plt.title(\"График распределения длительности\",\n",
        "          fontsize=15)\n",
        "plt.xlabel('Длительность', fontsize=12)\n",
        "plt.ylabel('Количество контрактов', fontsize=12)\n",
        "plt.show()"
      ]
    },
    {
      "cell_type": "markdown",
      "id": "f0e7b033",
      "metadata": {
        "id": "f0e7b033"
      },
      "source": [
        "У компании довольно много клиентов, заключивших с ней относительно недолгие договора. Но также есть большое количество клиентов, имеющих долгосрочные отношения с провайдером - 2200 дней."
      ]
    },
    {
      "cell_type": "markdown",
      "id": "31897b4f",
      "metadata": {
        "id": "31897b4f"
      },
      "source": [
        "#### Категориальные признаки, касаемые контракта"
      ]
    },
    {
      "cell_type": "code",
      "execution_count": null,
      "id": "a8d9be82",
      "metadata": {
        "id": "a8d9be82",
        "outputId": "ef94a504-51ff-4a85-a374-984e21cd8f55"
      },
      "outputs": [
        {
          "data": {
            "image/png": "[encoded data removed]",
            "text/plain": [
              "<Figure size 864x360 with 3 Axes>"
            ]
          },
          "metadata": {},
          "output_type": "display_data"
        }
      ],
      "source": [
        "fig = plt.figure(figsize=(12,5))\n",
        "fig.suptitle('Распределение категориальных переменных, касаемых контракта', fontsize=15)\n",
        "\n",
        "ax1 = fig.add_subplot(131)\n",
        "ax1.pie(data.type.value_counts().values,\n",
        "        labels = data.type.unique(),\n",
        "        autopct='%1.2f%%')\n",
        "ax1.set_title('Периодичность оплаты')\n",
        "\n",
        "ax2 = fig.add_subplot(132)\n",
        "ax2.pie(data.payment_method.value_counts().values,\n",
        "        labels = data.payment_method.unique(),\n",
        "        autopct='%1.2f%%')\n",
        "ax2.set_title('Безналичная и другие формы оплаты')\n",
        "\n",
        "ax3 = fig.add_subplot(133)\n",
        "ax3.pie(data.paperless_billing.value_counts().values,\n",
        "        labels = data.paperless_billing.unique(),\n",
        "        autopct='%1.2f%%')\n",
        "ax3.set_title('Электронный чек')\n",
        "\n",
        "plt.show()\n"
      ]
    },
    {
      "cell_type": "markdown",
      "id": "acbc99a2",
      "metadata": {
        "id": "acbc99a2"
      },
      "source": [
        "Больше всего контрактов с помесячной оплатой, безналичным платежом с электронным чеком. Оплат кредиткой, через банковский перевод и электронную почту примерно поровну."
      ]
    },
    {
      "cell_type": "markdown",
      "id": "171cfe80",
      "metadata": {
        "id": "171cfe80"
      },
      "source": [
        "#### Категориальные признаки, касаемые личных данных клиента."
      ]
    },
    {
      "cell_type": "code",
      "execution_count": null,
      "id": "9b3098ff",
      "metadata": {
        "id": "9b3098ff",
        "outputId": "1b22e3e8-4721-443d-d2b4-b6da8f5799b1"
      },
      "outputs": [
        {
          "data": {
            "image/png": "[encoded data removed]",
            "text/plain": [
              "<Figure size 1008x288 with 4 Axes>"
            ]
          },
          "metadata": {},
          "output_type": "display_data"
        }
      ],
      "source": [
        "fig = plt.figure(figsize=(14,4))\n",
        "fig.suptitle('Распределение категориальных переменных, касаемых личных данных', fontsize=15)\n",
        "\n",
        "ax1 = fig.add_subplot(141)\n",
        "ax1.pie(data.gender.value_counts().values,\n",
        "        labels = data.gender.unique(),\n",
        "        autopct='%1.2f%%')\n",
        "ax1.set_title('Распределение по полу')\n",
        "\n",
        "ax2 = fig.add_subplot(142)\n",
        "ax2.pie(data.senior_citizen.value_counts().values,\n",
        "        labels = data.senior_citizen.unique(),\n",
        "        autopct='%1.2f%%')\n",
        "ax2.set_title('Пенсионный возраст')\n",
        "\n",
        "ax3 = fig.add_subplot(143)\n",
        "ax3.pie(data.partner.value_counts().values,\n",
        "        labels = data.partner.unique(),\n",
        "        autopct='%1.2f%%')\n",
        "ax3.set_title('Наличие партнера')\n",
        "\n",
        "ax4 = fig.add_subplot(144)\n",
        "ax4.pie(data.dependents.value_counts().values,\n",
        "        labels = data.dependents.unique(),\n",
        "        autopct='%1.2f%%')\n",
        "ax4.set_title('Наличие иждевецев')\n",
        "\n",
        "\n",
        "plt.show()\n"
      ]
    },
    {
      "cell_type": "markdown",
      "id": "9896f9fc",
      "metadata": {
        "id": "9896f9fc"
      },
      "source": [
        "Мужчин и женщин в датасете представлено поровну. Людей пенсионного возраста сравнительно немного. Одиноких и людей с партнерами примерно одинаковое количество. Больше бездетных и без людей на иждевении."
      ]
    },
    {
      "cell_type": "markdown",
      "id": "c32bbc44",
      "metadata": {
        "id": "c32bbc44"
      },
      "source": [
        "#### Интернет услуги и телефония."
      ]
    },
    {
      "cell_type": "code",
      "execution_count": null,
      "id": "e8b1df10",
      "metadata": {
        "id": "e8b1df10",
        "outputId": "915699f4-f677-4130-88a8-e83af4427e73"
      },
      "outputs": [
        {
          "data": {
            "image/png": "[encoded data removed]",
            "text/plain": [
              "<Figure size 1008x432 with 8 Axes>"
            ]
          },
          "metadata": {},
          "output_type": "display_data"
        }
      ],
      "source": [
        "fig = plt.figure(figsize=(14,6))\n",
        "fig.suptitle('Распределение данных интернет услуг и телефонии', fontsize=15)\n",
        "\n",
        "ax1 = fig.add_subplot(241)\n",
        "ax1.pie(data.internet_service.value_counts().values,\n",
        "        labels = data.internet_service.unique(),\n",
        "        autopct='%1.2f%%')\n",
        "ax1.set_title('Тип подключения')\n",
        "\n",
        "ax2 = fig.add_subplot(242)\n",
        "ax2.pie(data.online_security.value_counts().values,\n",
        "        labels = data.online_security.unique(),\n",
        "        autopct='%1.2f%%')\n",
        "ax2.set_title('Блокировка опасных сайтов')\n",
        "\n",
        "ax3 = fig.add_subplot(243)\n",
        "ax3.pie(data.online_backup.value_counts().values,\n",
        "        labels = data.online_backup.unique(),\n",
        "        autopct='%1.2f%%')\n",
        "ax3.set_title('Наличие облака')\n",
        "\n",
        "ax4 = fig.add_subplot(244)\n",
        "ax4.pie(data.device_protection.value_counts().values,\n",
        "        labels = data.device_protection.unique(),\n",
        "        autopct='%1.2f%%')\n",
        "ax4.set_title('Антивирус')\n",
        "\n",
        "ax5 = fig.add_subplot(245)\n",
        "ax5.pie(data.tech_support.value_counts().values,\n",
        "        labels = data.tech_support.unique(),\n",
        "        autopct='%1.2f%%')\n",
        "ax5.set_title('Выделенная линия техподдержки')\n",
        "\n",
        "ax6 = fig.add_subplot(246)\n",
        "ax6.pie(data.streaming_tv.value_counts().values,\n",
        "        labels = data.streaming_tv.unique(),\n",
        "        autopct='%1.2f%%')\n",
        "ax6.set_title('Стиминговое ТВ')\n",
        "\n",
        "ax7 = fig.add_subplot(247)\n",
        "ax7.pie(data.streaming_movies.value_counts().values,\n",
        "        labels = data.streaming_movies.unique(),\n",
        "        autopct='%1.2f%%')\n",
        "ax7.set_title('Каталог фильмов')\n",
        "\n",
        "ax8 = fig.add_subplot(248)\n",
        "ax8.pie(data.multiple_lines.value_counts().values,\n",
        "        labels = data.multiple_lines.unique(),\n",
        "        autopct='%1.2f%%', colors = ['lightgreen', 'lightpink']\n",
        ")\n",
        "ax8.set_title('Мультиканальная телефония')\n",
        "\n",
        "plt.show()"
      ]
    },
    {
      "cell_type": "markdown",
      "id": "9f351cc5",
      "metadata": {
        "id": "9f351cc5"
      },
      "source": [
        "Самое популярное интернет соединение - DLS. У 20% клиентов отсутствует подключение к интернету. Самая популярная доп-услуга - облачное хранилище, остальные распределены практически одинаково среди интернет пользователей. Мультикональная телефония присутсвует у 42% клиентов."
      ]
    },
    {
      "cell_type": "markdown",
      "id": "ca778dce",
      "metadata": {
        "id": "ca778dce"
      },
      "source": [
        "#### Исследование признаков на мультиколлинеарность."
      ]
    },
    {
      "cell_type": "code",
      "execution_count": null,
      "id": "f2ab79c3",
      "metadata": {
        "id": "f2ab79c3",
        "outputId": "edb060e3-4592-42db-b4f4-e5fd47b2a145"
      },
      "outputs": [
        {
          "name": "stdout",
          "output_type": "stream",
          "text": [
            "interval columns not set, guessing: ['monthly_charges', 'total_charges', 'client_left', 'duration']\n"
          ]
        },
        {
          "data": {
            "image/png": "[encoded data removed]",
            "text/plain": [
              "<Figure size 1152x720 with 2 Axes>"
            ]
          },
          "metadata": {
            "needs_background": "light"
          },
          "output_type": "display_data"
        }
      ],
      "source": [
        "def Pirson_heat():\n",
        "\n",
        "        corr_matrix = data.phik_matrix()\n",
        "        plot_correlation_matrix(corr_matrix.values,\n",
        "                                x_labels=corr_matrix.columns,\n",
        "                                y_labels=corr_matrix.index,\n",
        "                                title=\"Матрица Phi_K-корреляций для признаков\",\n",
        "                                fontsize_factor=1.5,\n",
        "                                figsize=(16, 10));\n",
        "        plt.tight_layout()\n",
        "\n",
        "Pirson_heat()"
      ]
    },
    {
      "cell_type": "markdown",
      "id": "b6c508a5",
      "metadata": {
        "id": "b6c508a5"
      },
      "source": [
        "Из таблицы следует, что переменные `monthly_charges` и  `total_charges` мультиколлинеарны с некоторыми другими - от них стоит избавиться. Также следует удалить бесполезные признаки - `customer_id`, `begin_date`, `end_date`. Также, на мой взгляд необходимо избавиться от признака `streaming_movies` он высоко коллерирует с `streaming_tv`."
      ]
    },
    {
      "cell_type": "code",
      "execution_count": null,
      "id": "719adb40",
      "metadata": {
        "id": "719adb40"
      },
      "outputs": [],
      "source": [
        "data=data.drop(columns=['monthly_charges','total_charges','customer_id','begin_date','end_date','streaming_movies'])"
      ]
    },
    {
      "cell_type": "markdown",
      "id": "022e3fca",
      "metadata": {
        "id": "022e3fca"
      },
      "source": [
        "#### Сбалансированность целевого признака."
      ]
    },
    {
      "cell_type": "code",
      "execution_count": null,
      "id": "1a99be86",
      "metadata": {
        "id": "1a99be86",
        "outputId": "b69804d5-a141-4ebe-e026-310e30373e20"
      },
      "outputs": [
        {
          "data": {
            "image/png": "[encoded data removed]",
            "text/plain": [
              "<Figure size 432x288 with 1 Axes>"
            ]
          },
          "metadata": {
            "needs_background": "light"
          },
          "output_type": "display_data"
        }
      ],
      "source": [
        "sns.countplot(x='client_left', data=data, palette='pastel')\n",
        "plt.title('Распределение целевого признака')\n",
        "plt.show()"
      ]
    },
    {
      "cell_type": "markdown",
      "id": "3780dcac",
      "metadata": {
        "id": "3780dcac"
      },
      "source": [
        "Присутствует очевидный дисбаланс классов. Но так как ключевая метрика в нашем исследовании - ROC-AUC, то балансировать данные не надо."
      ]
    },
    {
      "cell_type": "markdown",
      "id": "412d67bd",
      "metadata": {
        "id": "412d67bd"
      },
      "source": [
        "## Обучение моделей"
      ]
    },
    {
      "cell_type": "markdown",
      "id": "b721a329",
      "metadata": {
        "id": "b721a329"
      },
      "source": [
        "Для нашего исследования я выделил три модели - Логистическую Регрессию, Случайный Лес и Кэтбуст.  \n",
        "\n",
        "Для начала выделим целевой признак и разделим выборку на тестовую и тренировочную."
      ]
    },
    {
      "cell_type": "code",
      "execution_count": null,
      "id": "ef271b97",
      "metadata": {
        "id": "ef271b97",
        "outputId": "498a8861-2f88-4678-c5ed-18239cd6fe15"
      },
      "outputs": [
        {
          "name": "stdout",
          "output_type": "stream",
          "text": [
            "Обучающая выборка составляет 75.00% от генеральной\n",
            "Тестовая выборка составляет 25.00% от генеральной\n"
          ]
        }
      ],
      "source": [
        "#Выделяем тагет и фичи\n",
        "X = data.drop('client_left', axis=1)\n",
        "y=data['client_left']\n",
        "\n",
        "#Определяем числовые и категориальные признаки\n",
        "num_features = ['duration']\n",
        "cat_features = data.drop(['duration', 'client_left'], axis=1).columns.tolist()\n",
        "\n",
        "# разделяем выборку на обучающую и тестовую\n",
        "X_train, X_test, y_train, y_test = train_test_split(X, y, test_size=0.25, random_state=RANDOM_STATE)\n",
        "\n",
        "#проверям размер выборок\n",
        "train_to_general = X_train.shape[0]/data.shape[0]*100\n",
        "test_to_general = X_test.shape[0]/data.shape[0]*100\n",
        "\n",
        "print(f\"Обучающая выборка составляет {train_to_general:.2f}% от генеральной\")\n",
        "print(f\"Тестовая выборка составляет {test_to_general:.2f}% от генеральной\")"
      ]
    },
    {
      "cell_type": "markdown",
      "id": "4bc1bc04",
      "metadata": {
        "id": "4bc1bc04"
      },
      "source": [
        "Масштабируем и закодируем признаки для будущего построения моделей:"
      ]
    },
    {
      "cell_type": "code",
      "execution_count": null,
      "id": "ba3a868c",
      "metadata": {
        "id": "ba3a868c"
      },
      "outputs": [],
      "source": [
        "# Создаем предобработчики для числовых и категориальных признаков\n",
        "num_transformer = StandardScaler()\n",
        "cat_transformer_lr = OneHotEncoder(handle_unknown='error', drop='first')\n",
        "cat_transformer = OneHotEncoder(handle_unknown='ignore')\n",
        "\n",
        "# Создаем ColumnTransformer для Логистической Регрессии\n",
        "preprocessor_lr = ColumnTransformer(\n",
        "    transformers=[\n",
        "        ('num', num_transformer, num_features),\n",
        "        ('cat', cat_transformer_lr, cat_features)\n",
        "    ])\n",
        "\n",
        "# Создаем ColumnTransformer для Рандомного Леса\n",
        "preprocessor_rf = ColumnTransformer(\n",
        "    transformers=[\n",
        "        ('num', num_transformer, num_features),\n",
        "        ('cat', cat_transformer, cat_features)\n",
        "    ])"
      ]
    },
    {
      "cell_type": "markdown",
      "id": "9bbbd94f",
      "metadata": {
        "id": "9bbbd94f"
      },
      "source": [
        "Переходим к непосредственной тренировке моделей. Тренировать их будем через пайплайн"
      ]
    },
    {
      "cell_type": "markdown",
      "id": "57056782",
      "metadata": {
        "id": "57056782"
      },
      "source": [
        "### Logistic Regression"
      ]
    },
    {
      "cell_type": "code",
      "execution_count": null,
      "id": "8e420284",
      "metadata": {
        "id": "8e420284",
        "outputId": "46c91818-f7e5-4fd0-abb0-bb521839ba05"
      },
      "outputs": [
        {
          "name": "stdout",
          "output_type": "stream",
          "text": [
            "LogisticRegression лучшие параметры: {'classifier__C': 1.0, 'classifier__penalty': 'l2', 'classifier__solver': 'liblinear'}\n",
            "LogisticRegression лучшая оценка: 0.7531249146951808\n"
          ]
        }
      ],
      "source": [
        "# Создаем pipeline для модели Logistic Regression\n",
        "lr_pipe = Pipeline(steps=[\n",
        "    ('preprocessor', preprocessor_lr),\n",
        "    ('feature_selection', SelectFromModel(LogisticRegression(random_state=RANDOM_STATE), threshold=0.05)),\n",
        "    ('classifier', LogisticRegression(random_state=RANDOM_STATE))\n",
        "])\n",
        "# Прописываем сетку парметров GridSearch\n",
        "lr_param_grid = {\n",
        "    'classifier__C': [0.1, 1.0],\n",
        "    'classifier__penalty': ['l1', 'l2'],\n",
        "    'classifier__solver': ['liblinear']\n",
        "}\n",
        "\n",
        "lr_grid_search = GridSearchCV(lr_pipe, lr_param_grid, cv=5, scoring='roc_auc', n_jobs=-1)\n",
        "lr_grid_search.fit(X_train, y_train)\n",
        "\n",
        "print(f'LogisticRegression лучшие параметры: {lr_grid_search.best_params_}')\n",
        "print(f'LogisticRegression лучшая оценка: {lr_grid_search.best_score_}')\n"
      ]
    },
    {
      "cell_type": "markdown",
      "id": "9fa55c9d",
      "metadata": {
        "id": "9fa55c9d"
      },
      "source": [
        "### Random Forest."
      ]
    },
    {
      "cell_type": "code",
      "execution_count": null,
      "id": "a0fb562e",
      "metadata": {
        "id": "a0fb562e",
        "outputId": "ad469c89-ad05-4151-b676-320a44646b0f"
      },
      "outputs": [
        {
          "name": "stdout",
          "output_type": "stream",
          "text": [
            "RandomForest лучшие параметры: {'classifier__max_depth': 8, 'classifier__min_samples_leaf': 1, 'classifier__min_samples_split': 2, 'classifier__n_estimators': 200}\n",
            "RandomForest лучшая оценка: 0.8794626475058189\n"
          ]
        }
      ],
      "source": [
        "# Создаем pipeline для модели RandomForest\n",
        "rf_pipe = Pipeline(steps=[\n",
        "    ('preprocessor', preprocessor_rf),\n",
        "    ('feature_selection', SelectFromModel(RandomForestClassifier(random_state=RANDOM_STATE), threshold=0.05)),\n",
        "    ('classifier', RandomForestClassifier(random_state=RANDOM_STATE))\n",
        "])\n",
        "\n",
        "rf_param_grid = {\n",
        "    'classifier__n_estimators': [100, 200, 300],\n",
        "    'classifier__max_depth': [4, 6, 8],\n",
        "    'classifier__min_samples_split': [2, 5, 10],\n",
        "    'classifier__min_samples_leaf': [1, 2, 4]\n",
        "}\n",
        "\n",
        "rf_grid_search = GridSearchCV(rf_pipe, rf_param_grid, cv=5, scoring='roc_auc', n_jobs=-1)\n",
        "rf_grid_search.fit(X_train, y_train)\n",
        "\n",
        "print(f'RandomForest лучшие параметры: {rf_grid_search.best_params_}')\n",
        "print(f'RandomForest лучшая оценка: {rf_grid_search.best_score_}')"
      ]
    },
    {
      "cell_type": "markdown",
      "id": "f126cd4e",
      "metadata": {
        "id": "f126cd4e"
      },
      "source": [
        "### CatBoost  Classifier."
      ]
    },
    {
      "cell_type": "markdown",
      "id": "988df9ff",
      "metadata": {
        "id": "988df9ff"
      },
      "source": [
        "Модель Кэтбуст обучим без пайплайна, а также без предварительного масштабирования и кодирования признаков."
      ]
    },
    {
      "cell_type": "code",
      "execution_count": null,
      "id": "114b685f",
      "metadata": {
        "id": "114b685f"
      },
      "outputs": [],
      "source": [
        "param_fixed={'random_seed':RANDOM_STATE,\n",
        "             'cat_features':cat_features,\n",
        "             'verbose':False}\n",
        "\n",
        "\n",
        "cat_param_grid = {'learning_rate': [0.1,0.2],\n",
        "              'depth': [6, 8]}\n",
        "\n",
        "\n",
        "model_cb = CatBoostClassifier(**param_fixed)"
      ]
    },
    {
      "cell_type": "code",
      "execution_count": null,
      "id": "32932976",
      "metadata": {
        "id": "32932976",
        "outputId": "83ad332d-ccdb-42ab-8384-15cc1a1268b1"
      },
      "outputs": [
        {
          "name": "stdout",
          "output_type": "stream",
          "text": [
            "CatBoost лучшие параметры: {'depth': 6, 'learning_rate': 0.1}\n",
            "CatBoost лучшая оценка: 0.9178997950359596\n"
          ]
        }
      ],
      "source": [
        "cat_grid_search = GridSearchCV(model_cb, cat_param_grid, cv=5, error_score='raise', scoring='roc_auc', n_jobs=-1)\n",
        "cat_grid_search.fit(X_train, y_train)\n",
        "\n",
        "print(f'CatBoost лучшие параметры: {cat_grid_search.best_params_}')\n",
        "print(f'CatBoost лучшая оценка: {cat_grid_search.best_score_}')"
      ]
    },
    {
      "cell_type": "markdown",
      "id": "8fd14ac7",
      "metadata": {
        "id": "8fd14ac7"
      },
      "source": [
        "### Результаты обучения."
      ]
    },
    {
      "cell_type": "markdown",
      "id": "6696cffe",
      "metadata": {
        "id": "6696cffe"
      },
      "source": [
        "Построим таблицу и сравним результаты обучения трех моделей."
      ]
    },
    {
      "cell_type": "code",
      "execution_count": null,
      "id": "93e51c28",
      "metadata": {
        "id": "93e51c28",
        "outputId": "57670fb8-5ac5-4977-9dcd-b5871a49d2cc"
      },
      "outputs": [
        {
          "data": {
            "text/html": [
              "<div>\n",
              "<style scoped>\n",
              "    .dataframe tbody tr th:only-of-type {\n",
              "        vertical-align: middle;\n",
              "    }\n",
              "\n",
              "    .dataframe tbody tr th {\n",
              "        vertical-align: top;\n",
              "    }\n",
              "\n",
              "    .dataframe thead th {\n",
              "        text-align: right;\n",
              "    }\n",
              "</style>\n",
              "<table border=\"1\" class=\"dataframe\">\n",
              "  <thead>\n",
              "    <tr style=\"text-align: right;\">\n",
              "      <th></th>\n",
              "      <th>ROC_AUC</th>\n",
              "    </tr>\n",
              "  </thead>\n",
              "  <tbody>\n",
              "    <tr>\n",
              "      <th>LogisticRegression</th>\n",
              "      <td>0.753125</td>\n",
              "    </tr>\n",
              "    <tr>\n",
              "      <th>RandomForestRegression</th>\n",
              "      <td>0.879463</td>\n",
              "    </tr>\n",
              "    <tr>\n",
              "      <th>CatBoostRegression</th>\n",
              "      <td>0.917900</td>\n",
              "    </tr>\n",
              "  </tbody>\n",
              "</table>\n",
              "</div>"
            ],
            "text/plain": [
              "                         ROC_AUC\n",
              "LogisticRegression      0.753125\n",
              "RandomForestRegression  0.879463\n",
              "CatBoostRegression      0.917900"
            ]
          },
          "execution_count": 38,
          "metadata": {},
          "output_type": "execute_result"
        }
      ],
      "source": [
        "index= ['LogisticRegression', 'RandomForestRegression', 'CatBoostRegression']\n",
        "res=[lr_grid_search.best_score_,rf_grid_search.best_score_,cat_grid_search.best_score_]\n",
        "\n",
        "results= pd.DataFrame({'ROC_AUC':res},index=index)\n",
        "results"
      ]
    },
    {
      "cell_type": "markdown",
      "id": "a1ee7870",
      "metadata": {
        "id": "a1ee7870"
      },
      "source": [
        "С большим отрывом в показателях контрольной метрики лидирует Кэтбуст. Протестируем данную модель."
      ]
    },
    {
      "cell_type": "markdown",
      "id": "5ccaaf82",
      "metadata": {
        "id": "5ccaaf82"
      },
      "source": [
        "## Тестирование лучшей модели."
      ]
    },
    {
      "cell_type": "code",
      "execution_count": null,
      "id": "e8153638",
      "metadata": {
        "id": "e8153638",
        "outputId": "ecfe7d6d-86fd-4218-f0c0-29a9e6bce891"
      },
      "outputs": [
        {
          "name": "stdout",
          "output_type": "stream",
          "text": [
            "ROC AUC на тестовой выборке: 0.9254\n",
            "Точность на тестовой выборке: 0.9233\n"
          ]
        }
      ],
      "source": [
        "best_model = cat_grid_search.best_estimator_\n",
        "\n",
        "y_pred_proba = best_model.predict_proba(X_test)[:, 1]\n",
        "roc_auc = roc_auc_score(y_test, y_pred_proba)\n",
        "\n",
        "best_model_pred = best_model.predict(X_test)\n",
        "best_model_accuracy = accuracy_score(y_test, best_model_pred)\n",
        "\n",
        "print(f'ROC AUC на тестовой выборке: {roc_auc:.4f}')\n",
        "print(f'Точность на тестовой выборке: {best_model_accuracy:.4f}')"
      ]
    },
    {
      "cell_type": "markdown",
      "id": "60de2a53",
      "metadata": {
        "id": "60de2a53"
      },
      "source": [
        "Достаточный результат контрольной метрики на тестовой выборке."
      ]
    },
    {
      "cell_type": "code",
      "execution_count": null,
      "id": "af417e28",
      "metadata": {
        "id": "af417e28",
        "outputId": "d0a9589e-a08f-4784-a46a-97bf56517e3c"
      },
      "outputs": [
        {
          "data": {
            "image/png": "[encoded data removed]",
            "text/plain": [
              "<Figure size 432x288 with 2 Axes>"
            ]
          },
          "metadata": {
            "needs_background": "light"
          },
          "output_type": "display_data"
        }
      ],
      "source": [
        "conf_matrix = confusion_matrix(y_test, best_model_pred)\n",
        "\n",
        "sns.heatmap(conf_matrix, annot=True, fmt='d',annot_kws={\"fontsize\":20}, cmap='Blues')\n",
        "plt.ylabel('Истинные значения', fontsize=16)\n",
        "plt.xlabel('Предсказанные значения', fontsize=16)\n",
        "plt.title('Матрица ошибок', fontsize=25)\n",
        "plt.show()"
      ]
    },
    {
      "cell_type": "markdown",
      "id": "e8fc8b8c",
      "metadata": {
        "id": "e8fc8b8c"
      },
      "source": [
        "Модель правильно предсказала 130 из 148 ушедших клиентов, а также 1455 из 1613 оставшихся. Считаю это хорошим результатом.  \n",
        "Создадим график значимости признаков."
      ]
    },
    {
      "cell_type": "code",
      "execution_count": null,
      "id": "6100cbe2",
      "metadata": {
        "id": "6100cbe2",
        "outputId": "c7fccd4c-7f07-48b9-f50c-6a6ae18a2ef9"
      },
      "outputs": [
        {
          "data": {
            "image/png": "[encoded data removed]",
            "text/plain": [
              "<Figure size 720x432 with 1 Axes>"
            ]
          },
          "metadata": {
            "needs_background": "light"
          },
          "output_type": "display_data"
        }
      ],
      "source": [
        "feature_importance = best_model.feature_importances_\n",
        "feature_names = X_train.columns\n",
        "\n",
        "# Создайте DataFrame для удобства работы с данными\n",
        "feature_importance_df = pd.DataFrame({'Feature': feature_names, 'Importance': feature_importance})\n",
        "feature_importance_df = feature_importance_df.sort_values(by='Importance', ascending=True)\n",
        "\n",
        "# Выведите график важности признаков\n",
        "plt.figure(figsize=(10, 6))\n",
        "plt.barh(feature_importance_df['Feature'], feature_importance_df['Importance'])\n",
        "plt.xlabel('Значение',fontsize=12)\n",
        "plt.ylabel('Признак',fontsize=12)\n",
        "plt.title('Значимость признаков',fontsize=15)\n",
        "plt.show()"
      ]
    },
    {
      "cell_type": "markdown",
      "id": "80f192ad",
      "metadata": {
        "id": "80f192ad"
      },
      "source": [
        "Как видно из полученной схемы - самым важным признаком для прогнозиорвания оттока клиентов является длительность контракта, далее идт тип контракта и способ оплаты."
      ]
    },
    {
      "cell_type": "markdown",
      "id": "6a667a39",
      "metadata": {
        "id": "6a667a39"
      },
      "source": [
        "## Вывод."
      ]
    },
    {
      "cell_type": "markdown",
      "id": "151e8708",
      "metadata": {
        "id": "151e8708"
      },
      "source": [
        "Нам было поручно задание построить лучшую модель прогнозирующую отток клиентов оператора связи \"Теледом\". В ходе выполнения работы были осуществлены следующие этапы:\n",
        "- Загрузка и знакомство с данными,\n",
        "- Исследовательский анализ каждого датафрейма до объединения,\n",
        "- Анализ общего датафрейма, заполнение пропусков, создание новых и выбор полезных фичей,\n",
        "- Подготовка к обучению моделей,\n",
        "- Обучение моделей и выбор лучшей,\n",
        "- Тестирование лучшей модели.\n",
        "\n",
        "На этапе предобработки был выделен целевой признак - client_left (1-клиент ушел, 0-клиент остался) и на основе даты заключения и раторжения контракта был создан признак `duration`.\n",
        "Данные были приведены к нужным форматам. Там где необходимо заполнены пропуски.  \n",
        "Далее датасеты были объединены в общий, а также был произведен разведовательный анализ данных, по итогу которого были выявлены следующие закономерности\n",
        "- в момент основания компании был большой приток клиентов. далее наблюдалось относительное плато от года в год до 2019 года, потом резкий рост.\n",
        "- процент расторжения контрактов увеличивается ежегодно.\n",
        "\n",
        "В количественных признаках:\n",
        "- cамое большое колличество контрактов стоимостью 20 ед. в месяц. Далее распределение относительно ровное - пики каждые 5 ед., что свидетельствует о ценах на тарифы кратныx 5. Стоимость разнится от 20 до 120.\n",
        "- Распределение итоговой суммы потраченной на услуги скошено влево и имеет длинный хвост. Больше всего люди потратили в общем около 1000 ед. на услуги провайдера.\n",
        "\n",
        "В категориальных признаках:\n",
        "- Больше всего контрактов с помесячной оплатой, безналичным платежом с электронным чеком. Оплат кредиткой, через банковский перевод и электронную почту примерно поровну.\n",
        "- Мужчин и женщин в датасете представлено поровну. Людей пенсионного возраста сравнительно немного. Одиноких и людей с партнерами примерно одинаковое количество. Больше бездетных и без людей на иждевении.\n",
        "- Самое популярное интернет соединение - DLS. У 20% клиентов отсутствует подключение к интернету. Самая популярная доп-услуга - облачное хранилище, остальные распределены практически одинаково среди интернет пользователей. Мультикональная телефония присутсвует у 42% клиентов.\n",
        "\n",
        "Целевой признак несбалансирован - ушедших клиентов в 6 раз меньше, чем оставшихся (но на продолжение исследования это никак не влияет, так как наша ключевая метрика - roc-auc, а она устойчива к дисбалансу классов).\n",
        "\n",
        "После проверки на мультиколлинеарность были удалены следующие признаки - `monthly_charges`,`total_charges` и `streaming_movie`. Также за ненадобностью были удалены признаки `'customer_id', 'begin_date', 'end_date'`.\n",
        "\n",
        "Далее были обучены три модели - Логистическая Регрессия, Случайный Лес и Кэтбуст, также для них были подобрано лучшее сочетание гиперпараметров сетодом Гридсёрч.  \n",
        "Лучший результат показал алгоритм Кэтбуст - 0.9179, на тестовой выборке- 0.9254. Вторая метрика (точность) - 0.9233, говорит о том, что модель ошибается менее чем в 0,8 случаях из 10. Модель правильно предсказала 130 из 148 ушедших клиентов, а также 1455 из 1613 оставшихся.  \n",
        "После выделения важности признаков выявили, что самым важным признаком для прогнозиорвания оттока клиентов является длительность контракта, далее идт тип контракта и способ оплаты.\n",
        "\n",
        "По завершению исследования можно объявить следующие рекомендации заказчику:\n",
        "- для прогнозирования оттока клиентов стоит воспользоваться предобученной моделью Кэтбуст с сеткой гиперпарамтров - {'depth': 6, 'learning_rate': 0.1},\n",
        "- сотрудникам компании в первую очередь стоит обратить внимание длительность контракта и его тип."
      ]
    }
  ],
  "metadata": {
    "ExecuteTimeLog": [
      {
        "duration": 424,
        "start_time": "2023-11-14T11:43:34.217Z"
      },
      {
        "duration": 81,
        "start_time": "2023-11-14T11:44:27.829Z"
      },
      {
        "duration": 281,
        "start_time": "2023-11-14T11:45:55.265Z"
      },
      {
        "duration": 3,
        "start_time": "2023-11-14T11:47:01.319Z"
      },
      {
        "duration": 32,
        "start_time": "2023-11-14T11:47:12.572Z"
      },
      {
        "duration": 3,
        "start_time": "2023-11-14T11:47:33.694Z"
      },
      {
        "duration": 17,
        "start_time": "2023-11-14T11:47:34.436Z"
      },
      {
        "duration": 3,
        "start_time": "2023-11-14T11:47:48.674Z"
      },
      {
        "duration": 28,
        "start_time": "2023-11-14T11:47:49.311Z"
      },
      {
        "duration": 5,
        "start_time": "2023-11-14T11:48:25.418Z"
      },
      {
        "duration": 28,
        "start_time": "2023-11-14T11:48:25.657Z"
      },
      {
        "duration": 3,
        "start_time": "2023-11-14T11:51:24.254Z"
      },
      {
        "duration": 34,
        "start_time": "2023-11-14T11:51:24.490Z"
      },
      {
        "duration": 44,
        "start_time": "2023-11-14T11:52:02.770Z"
      },
      {
        "duration": 77,
        "start_time": "2023-11-14T11:53:19.561Z"
      },
      {
        "duration": 3,
        "start_time": "2023-11-14T11:53:42.475Z"
      },
      {
        "duration": 109,
        "start_time": "2023-11-14T11:53:42.776Z"
      },
      {
        "duration": 3,
        "start_time": "2023-11-14T11:54:26.128Z"
      },
      {
        "duration": 35,
        "start_time": "2023-11-14T11:54:26.377Z"
      },
      {
        "duration": 32,
        "start_time": "2023-11-14T11:54:26.759Z"
      },
      {
        "duration": 51,
        "start_time": "2023-11-14T11:54:26.998Z"
      },
      {
        "duration": 30,
        "start_time": "2023-11-14T11:56:08.006Z"
      },
      {
        "duration": 3,
        "start_time": "2023-11-14T11:58:06.423Z"
      },
      {
        "duration": 42,
        "start_time": "2023-11-14T11:58:07.077Z"
      },
      {
        "duration": 4,
        "start_time": "2023-11-14T11:58:36.165Z"
      },
      {
        "duration": 54,
        "start_time": "2023-11-14T11:58:36.653Z"
      },
      {
        "duration": 4,
        "start_time": "2023-11-14T11:58:55.224Z"
      },
      {
        "duration": 50,
        "start_time": "2023-11-14T11:58:55.661Z"
      },
      {
        "duration": 2,
        "start_time": "2023-11-14T11:59:02.693Z"
      },
      {
        "duration": 44,
        "start_time": "2023-11-14T11:59:04.048Z"
      },
      {
        "duration": 40,
        "start_time": "2023-11-14T11:59:04.211Z"
      },
      {
        "duration": 55,
        "start_time": "2023-11-14T11:59:04.459Z"
      },
      {
        "duration": 28,
        "start_time": "2023-11-14T11:59:04.793Z"
      },
      {
        "duration": 4,
        "start_time": "2023-11-14T12:00:59.265Z"
      },
      {
        "duration": 35,
        "start_time": "2023-11-14T12:00:59.655Z"
      },
      {
        "duration": 3,
        "start_time": "2023-11-14T12:01:13.775Z"
      },
      {
        "duration": 35,
        "start_time": "2023-11-14T12:01:14.309Z"
      },
      {
        "duration": 40,
        "start_time": "2023-11-14T12:01:14.873Z"
      },
      {
        "duration": 5,
        "start_time": "2023-11-14T12:01:21.754Z"
      },
      {
        "duration": 37,
        "start_time": "2023-11-14T12:01:21.988Z"
      },
      {
        "duration": 29,
        "start_time": "2023-11-14T12:01:22.135Z"
      },
      {
        "duration": 48,
        "start_time": "2023-11-14T12:01:22.249Z"
      },
      {
        "duration": 36,
        "start_time": "2023-11-14T12:01:22.450Z"
      },
      {
        "duration": 19,
        "start_time": "2023-11-14T12:47:50.659Z"
      },
      {
        "duration": 13,
        "start_time": "2023-11-14T12:48:01.265Z"
      },
      {
        "duration": 10,
        "start_time": "2023-11-14T12:51:35.498Z"
      },
      {
        "duration": 16,
        "start_time": "2023-11-14T12:51:44.195Z"
      },
      {
        "duration": 7,
        "start_time": "2023-11-14T18:53:43.976Z"
      },
      {
        "duration": 435,
        "start_time": "2023-11-14T18:53:46.965Z"
      },
      {
        "duration": 100,
        "start_time": "2023-11-14T18:53:47.988Z"
      },
      {
        "duration": 4,
        "start_time": "2023-11-14T18:53:48.271Z"
      },
      {
        "duration": 101,
        "start_time": "2023-11-14T18:53:48.614Z"
      },
      {
        "duration": 3,
        "start_time": "2023-11-14T18:54:49.465Z"
      },
      {
        "duration": 3,
        "start_time": "2023-11-14T19:00:32.238Z"
      },
      {
        "duration": 57,
        "start_time": "2023-11-14T19:00:32.508Z"
      },
      {
        "duration": 3,
        "start_time": "2023-11-14T19:00:43.927Z"
      },
      {
        "duration": 37,
        "start_time": "2023-11-14T19:00:45.100Z"
      },
      {
        "duration": 3,
        "start_time": "2023-11-14T19:01:02.654Z"
      },
      {
        "duration": 43,
        "start_time": "2023-11-14T19:01:03.123Z"
      },
      {
        "duration": 4,
        "start_time": "2023-11-14T19:02:30.576Z"
      },
      {
        "duration": 10,
        "start_time": "2023-11-14T19:02:31.028Z"
      },
      {
        "duration": 3,
        "start_time": "2023-11-14T19:02:43.680Z"
      },
      {
        "duration": 64,
        "start_time": "2023-11-14T19:02:44.158Z"
      },
      {
        "duration": 10,
        "start_time": "2023-11-14T19:03:18.522Z"
      },
      {
        "duration": 8,
        "start_time": "2023-11-14T19:03:21.056Z"
      },
      {
        "duration": 16,
        "start_time": "2023-11-14T19:03:21.335Z"
      },
      {
        "duration": 17,
        "start_time": "2023-11-14T19:03:21.787Z"
      },
      {
        "duration": 52,
        "start_time": "2023-11-14T19:03:22.307Z"
      },
      {
        "duration": 47,
        "start_time": "2023-11-14T19:03:22.521Z"
      },
      {
        "duration": 28,
        "start_time": "2023-11-14T19:03:22.649Z"
      },
      {
        "duration": 6,
        "start_time": "2023-11-14T19:12:11.802Z"
      },
      {
        "duration": 3,
        "start_time": "2023-11-14T19:46:30.245Z"
      },
      {
        "duration": 72,
        "start_time": "2023-11-14T19:46:30.391Z"
      },
      {
        "duration": 48,
        "start_time": "2023-11-14T19:46:46.948Z"
      },
      {
        "duration": 51,
        "start_time": "2023-11-14T19:46:53.902Z"
      },
      {
        "duration": 31,
        "start_time": "2023-11-14T19:46:54.076Z"
      },
      {
        "duration": 3,
        "start_time": "2023-11-14T19:47:43.989Z"
      },
      {
        "duration": 21,
        "start_time": "2023-11-14T19:47:44.222Z"
      },
      {
        "duration": 3,
        "start_time": "2023-11-14T19:47:57.600Z"
      },
      {
        "duration": 88,
        "start_time": "2023-11-14T19:47:57.795Z"
      },
      {
        "duration": 7,
        "start_time": "2023-11-14T19:54:25.008Z"
      },
      {
        "duration": 73,
        "start_time": "2023-11-14T19:54:25.150Z"
      },
      {
        "duration": 3,
        "start_time": "2023-11-14T19:54:42.875Z"
      },
      {
        "duration": 78,
        "start_time": "2023-11-14T19:54:45.376Z"
      },
      {
        "duration": 3,
        "start_time": "2023-11-14T19:59:50.653Z"
      },
      {
        "duration": 120,
        "start_time": "2023-11-14T19:59:51.232Z"
      },
      {
        "duration": 4,
        "start_time": "2023-11-14T19:59:51.585Z"
      },
      {
        "duration": 85,
        "start_time": "2023-11-14T19:59:51.910Z"
      },
      {
        "duration": 55,
        "start_time": "2023-11-14T19:59:52.218Z"
      },
      {
        "duration": 61,
        "start_time": "2023-11-14T19:59:52.517Z"
      },
      {
        "duration": 34,
        "start_time": "2023-11-14T19:59:52.827Z"
      },
      {
        "duration": 5,
        "start_time": "2023-11-14T19:59:53.161Z"
      },
      {
        "duration": 9,
        "start_time": "2023-11-15T09:50:30.650Z"
      },
      {
        "duration": 42,
        "start_time": "2023-11-15T09:50:31.974Z"
      },
      {
        "duration": 409,
        "start_time": "2023-11-15T09:50:38.155Z"
      },
      {
        "duration": 307,
        "start_time": "2023-11-15T09:50:38.566Z"
      },
      {
        "duration": 4,
        "start_time": "2023-11-15T09:50:39.361Z"
      },
      {
        "duration": 76,
        "start_time": "2023-11-15T09:50:40.102Z"
      },
      {
        "duration": 5,
        "start_time": "2023-11-15T09:51:10.755Z"
      },
      {
        "duration": 81,
        "start_time": "2023-11-15T09:51:11.022Z"
      },
      {
        "duration": 4,
        "start_time": "2023-11-15T09:51:26.345Z"
      },
      {
        "duration": 60,
        "start_time": "2023-11-15T09:51:26.679Z"
      },
      {
        "duration": 3,
        "start_time": "2023-11-15T09:53:41.667Z"
      },
      {
        "duration": 96,
        "start_time": "2023-11-15T09:53:44.013Z"
      },
      {
        "duration": 86,
        "start_time": "2023-11-15T11:44:00.799Z"
      },
      {
        "duration": 803,
        "start_time": "2023-11-15T11:44:09.027Z"
      },
      {
        "duration": 4074,
        "start_time": "2023-11-15T11:45:11.294Z"
      },
      {
        "duration": 13,
        "start_time": "2023-11-15T11:45:33.117Z"
      },
      {
        "duration": 26,
        "start_time": "2023-11-15T11:46:37.807Z"
      },
      {
        "duration": 17,
        "start_time": "2023-11-15T11:46:49.125Z"
      },
      {
        "duration": 68,
        "start_time": "2023-11-15T11:46:49.294Z"
      },
      {
        "duration": 4,
        "start_time": "2023-11-15T11:56:46.178Z"
      },
      {
        "duration": 101,
        "start_time": "2023-11-15T11:56:46.756Z"
      },
      {
        "duration": 6,
        "start_time": "2023-11-15T11:56:47.514Z"
      },
      {
        "duration": 87,
        "start_time": "2023-11-15T11:56:49.204Z"
      },
      {
        "duration": 7,
        "start_time": "2023-11-15T11:57:18.292Z"
      },
      {
        "duration": 16,
        "start_time": "2023-11-15T11:57:34.184Z"
      },
      {
        "duration": 72,
        "start_time": "2023-11-15T11:58:05.990Z"
      },
      {
        "duration": 13,
        "start_time": "2023-11-15T11:58:14.516Z"
      },
      {
        "duration": 23,
        "start_time": "2023-11-15T12:04:20.031Z"
      },
      {
        "duration": 6,
        "start_time": "2023-11-15T12:04:53.547Z"
      },
      {
        "duration": 8,
        "start_time": "2023-11-15T12:05:00.372Z"
      },
      {
        "duration": 15,
        "start_time": "2023-11-15T12:05:06.259Z"
      },
      {
        "duration": 446,
        "start_time": "2023-11-17T13:43:26.665Z"
      },
      {
        "duration": 346,
        "start_time": "2023-11-17T13:43:27.113Z"
      },
      {
        "duration": 7,
        "start_time": "2023-11-17T13:43:27.461Z"
      },
      {
        "duration": 99,
        "start_time": "2023-11-17T13:43:27.920Z"
      },
      {
        "duration": 6,
        "start_time": "2023-11-17T13:43:28.311Z"
      },
      {
        "duration": 23,
        "start_time": "2023-11-17T13:43:28.505Z"
      },
      {
        "duration": 22,
        "start_time": "2023-11-17T13:43:28.986Z"
      },
      {
        "duration": 64,
        "start_time": "2023-11-17T13:43:30.299Z"
      },
      {
        "duration": 72,
        "start_time": "2023-11-17T13:43:30.849Z"
      },
      {
        "duration": 33,
        "start_time": "2023-11-17T13:43:31.310Z"
      },
      {
        "duration": 7,
        "start_time": "2023-11-17T13:43:33.251Z"
      },
      {
        "duration": 6,
        "start_time": "2023-11-17T13:43:33.441Z"
      },
      {
        "duration": 25,
        "start_time": "2023-11-17T13:43:59.586Z"
      },
      {
        "duration": 5,
        "start_time": "2023-11-17T13:58:34.421Z"
      },
      {
        "duration": 13,
        "start_time": "2023-11-17T13:59:37.708Z"
      },
      {
        "duration": 374,
        "start_time": "2023-11-20T15:03:39.249Z"
      },
      {
        "duration": 369,
        "start_time": "2023-11-20T15:03:39.624Z"
      },
      {
        "duration": 4,
        "start_time": "2023-11-20T15:03:40.005Z"
      },
      {
        "duration": 70,
        "start_time": "2023-11-20T15:03:41.096Z"
      },
      {
        "duration": 6,
        "start_time": "2023-11-20T15:03:45.957Z"
      },
      {
        "duration": 35,
        "start_time": "2023-11-20T15:03:48.270Z"
      },
      {
        "duration": 69,
        "start_time": "2023-11-20T15:05:22.633Z"
      },
      {
        "duration": 3,
        "start_time": "2023-11-20T15:05:55.052Z"
      },
      {
        "duration": 11,
        "start_time": "2023-11-20T15:05:58.858Z"
      },
      {
        "duration": 14,
        "start_time": "2023-11-20T15:07:01.996Z"
      },
      {
        "duration": 14,
        "start_time": "2023-11-20T15:07:11.476Z"
      },
      {
        "duration": 13,
        "start_time": "2023-11-20T15:07:12.506Z"
      },
      {
        "duration": 5,
        "start_time": "2023-11-20T15:07:15.592Z"
      },
      {
        "duration": 12,
        "start_time": "2023-11-20T15:07:24.433Z"
      },
      {
        "duration": 15,
        "start_time": "2023-11-20T15:07:32.117Z"
      },
      {
        "duration": 3,
        "start_time": "2023-11-20T15:07:38.680Z"
      },
      {
        "duration": 98,
        "start_time": "2023-11-20T15:07:38.987Z"
      },
      {
        "duration": 4,
        "start_time": "2023-11-20T15:07:40.182Z"
      },
      {
        "duration": 64,
        "start_time": "2023-11-20T15:07:41.408Z"
      },
      {
        "duration": 6,
        "start_time": "2023-11-20T15:07:42.115Z"
      },
      {
        "duration": 62,
        "start_time": "2023-11-20T15:07:43.488Z"
      },
      {
        "duration": 11,
        "start_time": "2023-11-20T15:07:44.470Z"
      },
      {
        "duration": 18,
        "start_time": "2023-11-20T15:07:49.479Z"
      },
      {
        "duration": 3,
        "start_time": "2023-11-20T15:08:24.117Z"
      },
      {
        "duration": 97,
        "start_time": "2023-11-20T15:08:24.292Z"
      },
      {
        "duration": 4,
        "start_time": "2023-11-20T15:08:24.845Z"
      },
      {
        "duration": 60,
        "start_time": "2023-11-20T15:08:25.175Z"
      },
      {
        "duration": 6,
        "start_time": "2023-11-20T15:08:28.878Z"
      },
      {
        "duration": 15,
        "start_time": "2023-11-20T15:08:36.506Z"
      },
      {
        "duration": 11,
        "start_time": "2023-11-20T15:08:45.285Z"
      },
      {
        "duration": 17,
        "start_time": "2023-11-20T15:08:46.918Z"
      },
      {
        "duration": 13,
        "start_time": "2023-11-20T15:08:56.153Z"
      },
      {
        "duration": 13,
        "start_time": "2023-11-20T15:09:15.535Z"
      },
      {
        "duration": 13,
        "start_time": "2023-11-20T15:09:18.808Z"
      },
      {
        "duration": 3,
        "start_time": "2023-11-20T15:11:50.929Z"
      },
      {
        "duration": 100,
        "start_time": "2023-11-20T15:11:51.077Z"
      },
      {
        "duration": 4,
        "start_time": "2023-11-20T15:11:51.781Z"
      },
      {
        "duration": 62,
        "start_time": "2023-11-20T15:11:52.176Z"
      },
      {
        "duration": 6,
        "start_time": "2023-11-20T15:11:54.462Z"
      },
      {
        "duration": 18,
        "start_time": "2023-11-20T15:11:56.761Z"
      },
      {
        "duration": 12,
        "start_time": "2023-11-20T15:12:02.708Z"
      },
      {
        "duration": 18,
        "start_time": "2023-11-20T15:12:08.183Z"
      },
      {
        "duration": 12,
        "start_time": "2023-11-20T15:12:13.339Z"
      },
      {
        "duration": 6,
        "start_time": "2023-11-20T15:12:20.428Z"
      },
      {
        "duration": 13,
        "start_time": "2023-11-20T15:12:21.856Z"
      },
      {
        "duration": 20,
        "start_time": "2023-11-20T15:12:29.031Z"
      },
      {
        "duration": 29,
        "start_time": "2023-11-20T15:38:53.169Z"
      },
      {
        "duration": 118,
        "start_time": "2023-11-20T15:39:07.363Z"
      },
      {
        "duration": 4,
        "start_time": "2023-11-20T15:49:35.128Z"
      },
      {
        "duration": 20,
        "start_time": "2023-11-20T15:49:57.495Z"
      },
      {
        "duration": 1216,
        "start_time": "2023-11-20T15:50:03.697Z"
      },
      {
        "duration": 21,
        "start_time": "2023-11-20T15:50:09.817Z"
      },
      {
        "duration": 407,
        "start_time": "2023-11-20T15:50:21.910Z"
      },
      {
        "duration": 100,
        "start_time": "2023-11-20T15:50:22.319Z"
      },
      {
        "duration": 4,
        "start_time": "2023-11-20T15:50:22.421Z"
      },
      {
        "duration": 112,
        "start_time": "2023-11-20T15:50:22.426Z"
      },
      {
        "duration": 6,
        "start_time": "2023-11-20T15:50:22.540Z"
      },
      {
        "duration": 27,
        "start_time": "2023-11-20T15:50:22.548Z"
      },
      {
        "duration": 35,
        "start_time": "2023-11-20T15:50:22.576Z"
      },
      {
        "duration": 24,
        "start_time": "2023-11-20T15:50:22.613Z"
      },
      {
        "duration": 22,
        "start_time": "2023-11-20T15:50:22.639Z"
      },
      {
        "duration": 17,
        "start_time": "2023-11-20T15:50:22.663Z"
      },
      {
        "duration": 21,
        "start_time": "2023-11-20T15:50:22.682Z"
      },
      {
        "duration": 59,
        "start_time": "2023-11-20T15:50:22.705Z"
      },
      {
        "duration": 5,
        "start_time": "2023-11-20T15:50:22.765Z"
      },
      {
        "duration": 86,
        "start_time": "2023-11-20T15:50:22.772Z"
      },
      {
        "duration": 55,
        "start_time": "2023-11-20T15:50:22.859Z"
      },
      {
        "duration": 27,
        "start_time": "2023-11-20T15:50:22.916Z"
      },
      {
        "duration": 172,
        "start_time": "2023-11-20T15:50:22.945Z"
      },
      {
        "duration": 2,
        "start_time": "2023-11-20T15:54:37.917Z"
      },
      {
        "duration": 126,
        "start_time": "2023-11-20T15:54:45.120Z"
      },
      {
        "duration": 79,
        "start_time": "2023-11-20T15:55:32.976Z"
      },
      {
        "duration": 1108,
        "start_time": "2023-11-20T15:55:48.171Z"
      },
      {
        "duration": 96,
        "start_time": "2023-11-20T15:57:31.771Z"
      },
      {
        "duration": 3977,
        "start_time": "2023-11-20T15:57:35.703Z"
      },
      {
        "duration": 2361,
        "start_time": "2023-11-20T15:58:06.215Z"
      },
      {
        "duration": 5,
        "start_time": "2023-11-20T15:58:08.578Z"
      },
      {
        "duration": 2386,
        "start_time": "2023-11-20T15:59:22.235Z"
      },
      {
        "duration": 3,
        "start_time": "2023-11-20T15:59:25.772Z"
      },
      {
        "duration": 5,
        "start_time": "2023-11-20T16:00:57.175Z"
      },
      {
        "duration": 13,
        "start_time": "2023-11-20T16:01:20.440Z"
      },
      {
        "duration": 4,
        "start_time": "2023-11-20T16:02:34.149Z"
      },
      {
        "duration": 17,
        "start_time": "2023-11-20T16:02:47.476Z"
      },
      {
        "duration": 5,
        "start_time": "2023-11-20T16:02:57.648Z"
      },
      {
        "duration": 1271,
        "start_time": "2023-11-20T16:05:55.151Z"
      },
      {
        "duration": 13,
        "start_time": "2023-11-20T16:13:46.563Z"
      },
      {
        "duration": 21,
        "start_time": "2023-11-20T16:13:51.654Z"
      },
      {
        "duration": 654,
        "start_time": "2023-11-20T16:16:17.964Z"
      },
      {
        "duration": 672,
        "start_time": "2023-11-20T16:16:35.768Z"
      },
      {
        "duration": 648,
        "start_time": "2023-11-20T16:17:08.145Z"
      },
      {
        "duration": 804,
        "start_time": "2023-11-20T16:17:13.842Z"
      },
      {
        "duration": 936,
        "start_time": "2023-11-20T16:17:24.708Z"
      },
      {
        "duration": 1032,
        "start_time": "2023-11-20T16:17:35.305Z"
      },
      {
        "duration": 829,
        "start_time": "2023-11-20T16:17:42.866Z"
      },
      {
        "duration": 1216,
        "start_time": "2023-11-20T16:17:48.807Z"
      },
      {
        "duration": 259,
        "start_time": "2023-11-20T16:18:35.554Z"
      },
      {
        "duration": 280,
        "start_time": "2023-11-20T16:20:14.943Z"
      },
      {
        "duration": 255,
        "start_time": "2023-11-20T16:20:20.983Z"
      },
      {
        "duration": 232,
        "start_time": "2023-11-20T16:20:25.917Z"
      },
      {
        "duration": 199,
        "start_time": "2023-11-20T16:23:40.631Z"
      },
      {
        "duration": 406,
        "start_time": "2023-11-20T16:24:35.671Z"
      },
      {
        "duration": 275,
        "start_time": "2023-11-20T16:25:15.302Z"
      },
      {
        "duration": 243,
        "start_time": "2023-11-20T16:25:54.672Z"
      },
      {
        "duration": 238,
        "start_time": "2023-11-20T16:34:52.684Z"
      },
      {
        "duration": 135,
        "start_time": "2023-11-20T16:35:04.167Z"
      },
      {
        "duration": 184,
        "start_time": "2023-11-20T16:35:38.330Z"
      },
      {
        "duration": 176,
        "start_time": "2023-11-20T16:35:45.387Z"
      },
      {
        "duration": 160,
        "start_time": "2023-11-20T16:35:50.584Z"
      },
      {
        "duration": 171,
        "start_time": "2023-11-20T16:37:51.344Z"
      },
      {
        "duration": 227,
        "start_time": "2023-11-20T16:41:42.506Z"
      },
      {
        "duration": 174,
        "start_time": "2023-11-20T16:42:01.722Z"
      },
      {
        "duration": 185,
        "start_time": "2023-11-20T16:42:27.631Z"
      },
      {
        "duration": 170,
        "start_time": "2023-11-20T16:42:40.012Z"
      },
      {
        "duration": 175,
        "start_time": "2023-11-20T16:46:09.128Z"
      },
      {
        "duration": 177,
        "start_time": "2023-11-20T16:47:15.609Z"
      },
      {
        "duration": 220,
        "start_time": "2023-11-20T16:48:17.295Z"
      },
      {
        "duration": 362,
        "start_time": "2023-11-20T16:48:29.654Z"
      },
      {
        "duration": 2469,
        "start_time": "2023-11-20T17:15:09.335Z"
      },
      {
        "duration": 1446,
        "start_time": "2023-11-20T17:15:11.806Z"
      },
      {
        "duration": 103,
        "start_time": "2023-11-20T17:15:13.254Z"
      },
      {
        "duration": 5,
        "start_time": "2023-11-20T17:15:13.359Z"
      },
      {
        "duration": 90,
        "start_time": "2023-11-20T17:15:13.366Z"
      },
      {
        "duration": 6,
        "start_time": "2023-11-20T17:15:13.458Z"
      },
      {
        "duration": 35,
        "start_time": "2023-11-20T17:15:13.465Z"
      },
      {
        "duration": 14,
        "start_time": "2023-11-20T17:15:13.502Z"
      },
      {
        "duration": 11,
        "start_time": "2023-11-20T17:15:13.518Z"
      },
      {
        "duration": 24,
        "start_time": "2023-11-20T17:15:13.531Z"
      },
      {
        "duration": 23,
        "start_time": "2023-11-20T17:15:13.556Z"
      },
      {
        "duration": 4,
        "start_time": "2023-11-20T17:15:13.581Z"
      },
      {
        "duration": 56,
        "start_time": "2023-11-20T17:15:13.586Z"
      },
      {
        "duration": 4,
        "start_time": "2023-11-20T17:15:13.644Z"
      },
      {
        "duration": 86,
        "start_time": "2023-11-20T17:15:13.650Z"
      },
      {
        "duration": 33,
        "start_time": "2023-11-20T17:15:13.737Z"
      },
      {
        "duration": 27,
        "start_time": "2023-11-20T17:15:13.798Z"
      },
      {
        "duration": 140,
        "start_time": "2023-11-20T17:15:13.826Z"
      },
      {
        "duration": 6,
        "start_time": "2023-11-20T17:15:13.967Z"
      },
      {
        "duration": 29,
        "start_time": "2023-11-20T17:15:13.974Z"
      },
      {
        "duration": 310,
        "start_time": "2023-11-20T17:15:14.005Z"
      },
      {
        "duration": 424,
        "start_time": "2023-11-20T17:16:21.905Z"
      },
      {
        "duration": 164,
        "start_time": "2023-11-20T17:16:28.433Z"
      },
      {
        "duration": 239,
        "start_time": "2023-11-20T17:16:47.566Z"
      },
      {
        "duration": 149,
        "start_time": "2023-11-20T17:17:52.675Z"
      },
      {
        "duration": 155,
        "start_time": "2023-11-20T17:18:47.070Z"
      },
      {
        "duration": 211,
        "start_time": "2023-11-20T17:18:57.695Z"
      },
      {
        "duration": 263,
        "start_time": "2023-11-20T17:19:04.085Z"
      },
      {
        "duration": 147,
        "start_time": "2023-11-20T17:24:40.447Z"
      },
      {
        "duration": 134,
        "start_time": "2023-11-20T17:25:14.726Z"
      },
      {
        "duration": 9,
        "start_time": "2023-11-20T17:25:37.777Z"
      },
      {
        "duration": 10,
        "start_time": "2023-11-20T17:25:44.028Z"
      },
      {
        "duration": 6,
        "start_time": "2023-11-20T17:25:49.264Z"
      },
      {
        "duration": 228,
        "start_time": "2023-11-20T17:26:15.908Z"
      },
      {
        "duration": 293,
        "start_time": "2023-11-20T17:27:25.644Z"
      },
      {
        "duration": 387,
        "start_time": "2023-11-20T17:27:35.421Z"
      },
      {
        "duration": 282,
        "start_time": "2023-11-20T17:28:22.391Z"
      },
      {
        "duration": 283,
        "start_time": "2023-11-20T17:29:42.372Z"
      },
      {
        "duration": 282,
        "start_time": "2023-11-20T17:29:56.775Z"
      },
      {
        "duration": 300,
        "start_time": "2023-11-20T17:37:03.254Z"
      },
      {
        "duration": 376,
        "start_time": "2023-11-20T17:37:08.892Z"
      },
      {
        "duration": 199,
        "start_time": "2023-11-20T17:37:17.511Z"
      },
      {
        "duration": 218,
        "start_time": "2023-11-20T17:37:26.434Z"
      },
      {
        "duration": 362,
        "start_time": "2023-11-20T17:37:36.647Z"
      },
      {
        "duration": 363,
        "start_time": "2023-11-20T17:38:50.352Z"
      },
      {
        "duration": 18,
        "start_time": "2023-11-20T18:09:19.136Z"
      },
      {
        "duration": 443,
        "start_time": "2023-11-20T18:09:30.450Z"
      },
      {
        "duration": 101,
        "start_time": "2023-11-20T18:09:57.272Z"
      },
      {
        "duration": 119,
        "start_time": "2023-11-20T18:11:35.825Z"
      },
      {
        "duration": 203,
        "start_time": "2023-11-20T18:23:15.956Z"
      },
      {
        "duration": 290,
        "start_time": "2023-11-20T18:23:22.647Z"
      },
      {
        "duration": 345,
        "start_time": "2023-11-20T18:23:28.717Z"
      },
      {
        "duration": 5521,
        "start_time": "2023-11-21T10:06:14.945Z"
      },
      {
        "duration": 1661,
        "start_time": "2023-11-21T10:06:20.469Z"
      },
      {
        "duration": 348,
        "start_time": "2023-11-21T10:06:22.132Z"
      },
      {
        "duration": 4,
        "start_time": "2023-11-21T10:06:23.395Z"
      },
      {
        "duration": 75,
        "start_time": "2023-11-21T10:06:23.835Z"
      },
      {
        "duration": 6,
        "start_time": "2023-11-21T10:06:24.130Z"
      },
      {
        "duration": 16,
        "start_time": "2023-11-21T10:06:24.267Z"
      },
      {
        "duration": 14,
        "start_time": "2023-11-21T10:06:24.424Z"
      },
      {
        "duration": 4,
        "start_time": "2023-11-21T10:06:24.558Z"
      },
      {
        "duration": 12,
        "start_time": "2023-11-21T10:06:24.719Z"
      },
      {
        "duration": 15,
        "start_time": "2023-11-21T10:06:24.858Z"
      },
      {
        "duration": 4,
        "start_time": "2023-11-21T10:06:25.142Z"
      },
      {
        "duration": 45,
        "start_time": "2023-11-21T10:06:25.444Z"
      },
      {
        "duration": 5,
        "start_time": "2023-11-21T10:06:25.730Z"
      },
      {
        "duration": 54,
        "start_time": "2023-11-21T10:06:26.053Z"
      },
      {
        "duration": 33,
        "start_time": "2023-11-21T10:06:26.510Z"
      },
      {
        "duration": 26,
        "start_time": "2023-11-21T10:06:27.409Z"
      },
      {
        "duration": 140,
        "start_time": "2023-11-21T10:06:27.571Z"
      },
      {
        "duration": 6,
        "start_time": "2023-11-21T10:06:27.905Z"
      },
      {
        "duration": 11,
        "start_time": "2023-11-21T10:06:28.348Z"
      },
      {
        "duration": 332,
        "start_time": "2023-11-21T10:06:28.932Z"
      },
      {
        "duration": 333,
        "start_time": "2023-11-21T10:06:29.417Z"
      },
      {
        "duration": 393,
        "start_time": "2023-11-21T10:06:29.760Z"
      },
      {
        "duration": 436,
        "start_time": "2023-11-21T10:06:30.155Z"
      },
      {
        "duration": 108,
        "start_time": "2023-11-21T10:06:32.114Z"
      },
      {
        "duration": 475,
        "start_time": "2023-11-21T10:06:40.608Z"
      },
      {
        "duration": 250,
        "start_time": "2023-11-21T10:08:24.306Z"
      },
      {
        "duration": 189,
        "start_time": "2023-11-21T10:08:42.506Z"
      },
      {
        "duration": 178,
        "start_time": "2023-11-21T10:08:48.226Z"
      },
      {
        "duration": 193,
        "start_time": "2023-11-21T10:08:59.305Z"
      },
      {
        "duration": 187,
        "start_time": "2023-11-21T10:09:05.705Z"
      },
      {
        "duration": 188,
        "start_time": "2023-11-21T10:09:35.933Z"
      },
      {
        "duration": 184,
        "start_time": "2023-11-21T10:09:43.674Z"
      },
      {
        "duration": 201,
        "start_time": "2023-11-21T10:09:47.109Z"
      },
      {
        "duration": 172,
        "start_time": "2023-11-21T10:10:57.812Z"
      },
      {
        "duration": 188,
        "start_time": "2023-11-21T10:11:05.609Z"
      },
      {
        "duration": 199,
        "start_time": "2023-11-21T10:12:07.889Z"
      },
      {
        "duration": 219,
        "start_time": "2023-11-21T10:12:50.914Z"
      },
      {
        "duration": 199,
        "start_time": "2023-11-21T10:13:19.680Z"
      },
      {
        "duration": 194,
        "start_time": "2023-11-21T10:13:37.077Z"
      },
      {
        "duration": 302,
        "start_time": "2023-11-21T10:17:03.943Z"
      },
      {
        "duration": 247,
        "start_time": "2023-11-21T10:17:23.743Z"
      },
      {
        "duration": 233,
        "start_time": "2023-11-21T10:32:20.531Z"
      },
      {
        "duration": 246,
        "start_time": "2023-11-21T10:32:50.272Z"
      },
      {
        "duration": 260,
        "start_time": "2023-11-21T10:32:54.541Z"
      },
      {
        "duration": 217,
        "start_time": "2023-11-21T10:33:01.265Z"
      },
      {
        "duration": 215,
        "start_time": "2023-11-21T10:33:05.504Z"
      },
      {
        "duration": 189,
        "start_time": "2023-11-21T10:42:14.111Z"
      },
      {
        "duration": 345,
        "start_time": "2023-11-21T10:42:21.096Z"
      },
      {
        "duration": 2240,
        "start_time": "2023-11-21T10:47:06.528Z"
      },
      {
        "duration": 981,
        "start_time": "2023-11-21T10:47:08.770Z"
      },
      {
        "duration": 103,
        "start_time": "2023-11-21T10:47:10.764Z"
      },
      {
        "duration": 3,
        "start_time": "2023-11-21T10:47:11.265Z"
      },
      {
        "duration": 67,
        "start_time": "2023-11-21T10:47:11.783Z"
      },
      {
        "duration": 6,
        "start_time": "2023-11-21T10:47:12.136Z"
      },
      {
        "duration": 16,
        "start_time": "2023-11-21T10:47:12.289Z"
      },
      {
        "duration": 13,
        "start_time": "2023-11-21T10:47:12.458Z"
      },
      {
        "duration": 5,
        "start_time": "2023-11-21T10:47:12.629Z"
      },
      {
        "duration": 12,
        "start_time": "2023-11-21T10:47:12.802Z"
      },
      {
        "duration": 16,
        "start_time": "2023-11-21T10:47:12.975Z"
      },
      {
        "duration": 3,
        "start_time": "2023-11-21T10:47:13.320Z"
      },
      {
        "duration": 48,
        "start_time": "2023-11-21T10:47:13.660Z"
      },
      {
        "duration": 4,
        "start_time": "2023-11-21T10:47:13.968Z"
      },
      {
        "duration": 55,
        "start_time": "2023-11-21T10:47:14.305Z"
      },
      {
        "duration": 33,
        "start_time": "2023-11-21T10:47:14.810Z"
      },
      {
        "duration": 26,
        "start_time": "2023-11-21T10:47:15.854Z"
      },
      {
        "duration": 139,
        "start_time": "2023-11-21T10:47:16.040Z"
      },
      {
        "duration": 5,
        "start_time": "2023-11-21T10:47:16.383Z"
      },
      {
        "duration": 11,
        "start_time": "2023-11-21T10:47:16.919Z"
      },
      {
        "duration": 290,
        "start_time": "2023-11-21T10:47:17.686Z"
      },
      {
        "duration": 276,
        "start_time": "2023-11-21T10:47:18.242Z"
      },
      {
        "duration": 349,
        "start_time": "2023-11-21T10:47:18.607Z"
      },
      {
        "duration": 386,
        "start_time": "2023-11-21T10:47:18.979Z"
      },
      {
        "duration": 248,
        "start_time": "2023-11-21T10:47:19.524Z"
      },
      {
        "duration": 258,
        "start_time": "2023-11-21T10:47:20.354Z"
      },
      {
        "duration": 266,
        "start_time": "2023-11-21T10:47:20.657Z"
      },
      {
        "duration": 354,
        "start_time": "2023-11-21T10:48:40.830Z"
      },
      {
        "duration": 248,
        "start_time": "2023-11-21T10:48:59.885Z"
      },
      {
        "duration": 310,
        "start_time": "2023-11-21T10:53:54.057Z"
      },
      {
        "duration": 221,
        "start_time": "2023-11-21T10:54:33.098Z"
      },
      {
        "duration": 483,
        "start_time": "2023-11-21T10:55:02.862Z"
      },
      {
        "duration": 329,
        "start_time": "2023-11-21T10:56:27.985Z"
      },
      {
        "duration": 240,
        "start_time": "2023-11-21T10:56:52.463Z"
      },
      {
        "duration": 362,
        "start_time": "2023-11-21T11:01:37.790Z"
      },
      {
        "duration": 270,
        "start_time": "2023-11-21T11:01:47.926Z"
      },
      {
        "duration": 478,
        "start_time": "2023-11-21T11:02:00.095Z"
      },
      {
        "duration": 13,
        "start_time": "2023-11-21T11:05:58.260Z"
      },
      {
        "duration": 3595,
        "start_time": "2023-11-21T11:06:27.993Z"
      },
      {
        "duration": 17,
        "start_time": "2023-11-21T11:06:32.835Z"
      },
      {
        "duration": 18661,
        "start_time": "2023-11-21T11:06:40.312Z"
      },
      {
        "duration": 510,
        "start_time": "2023-11-21T11:11:38.283Z"
      },
      {
        "duration": 22115,
        "start_time": "2023-11-21T11:12:32.463Z"
      },
      {
        "duration": 22588,
        "start_time": "2023-11-21T11:13:20.246Z"
      },
      {
        "duration": 21643,
        "start_time": "2023-11-21T11:13:57.673Z"
      },
      {
        "duration": 22206,
        "start_time": "2023-11-21T11:14:33.598Z"
      },
      {
        "duration": 21228,
        "start_time": "2023-11-21T11:15:41.519Z"
      },
      {
        "duration": 21743,
        "start_time": "2023-11-21T11:17:32.971Z"
      },
      {
        "duration": 13,
        "start_time": "2023-11-21T11:24:16.759Z"
      },
      {
        "duration": 13,
        "start_time": "2023-11-21T11:24:26.003Z"
      },
      {
        "duration": 5,
        "start_time": "2023-11-21T11:25:27.137Z"
      },
      {
        "duration": 17,
        "start_time": "2023-11-21T11:25:33.526Z"
      },
      {
        "duration": 14,
        "start_time": "2023-11-21T11:29:43.032Z"
      },
      {
        "duration": 2388,
        "start_time": "2023-11-21T11:29:50.853Z"
      },
      {
        "duration": 2341,
        "start_time": "2023-11-21T11:29:53.244Z"
      },
      {
        "duration": 1425,
        "start_time": "2023-11-21T11:29:55.588Z"
      },
      {
        "duration": 91,
        "start_time": "2023-11-21T11:29:57.015Z"
      },
      {
        "duration": 3,
        "start_time": "2023-11-21T11:29:57.108Z"
      },
      {
        "duration": 79,
        "start_time": "2023-11-21T11:29:57.113Z"
      },
      {
        "duration": 5,
        "start_time": "2023-11-21T11:29:57.194Z"
      },
      {
        "duration": 39,
        "start_time": "2023-11-21T11:29:57.200Z"
      },
      {
        "duration": 24,
        "start_time": "2023-11-21T11:29:57.241Z"
      },
      {
        "duration": 7,
        "start_time": "2023-11-21T11:29:57.267Z"
      },
      {
        "duration": 30,
        "start_time": "2023-11-21T11:29:57.275Z"
      },
      {
        "duration": 29,
        "start_time": "2023-11-21T11:29:57.307Z"
      },
      {
        "duration": 6,
        "start_time": "2023-11-21T11:29:57.337Z"
      },
      {
        "duration": 58,
        "start_time": "2023-11-21T11:29:57.345Z"
      },
      {
        "duration": 4,
        "start_time": "2023-11-21T11:29:57.404Z"
      },
      {
        "duration": 71,
        "start_time": "2023-11-21T11:29:57.410Z"
      },
      {
        "duration": 29,
        "start_time": "2023-11-21T11:29:57.482Z"
      },
      {
        "duration": 24,
        "start_time": "2023-11-21T11:29:57.512Z"
      },
      {
        "duration": 160,
        "start_time": "2023-11-21T11:29:57.537Z"
      },
      {
        "duration": 5,
        "start_time": "2023-11-21T11:29:57.699Z"
      },
      {
        "duration": 44,
        "start_time": "2023-11-21T11:29:57.706Z"
      },
      {
        "duration": 310,
        "start_time": "2023-11-21T11:29:57.752Z"
      },
      {
        "duration": 283,
        "start_time": "2023-11-21T11:29:58.071Z"
      },
      {
        "duration": 491,
        "start_time": "2023-11-21T11:29:58.356Z"
      },
      {
        "duration": 406,
        "start_time": "2023-11-21T11:29:58.849Z"
      },
      {
        "duration": 247,
        "start_time": "2023-11-21T11:29:59.256Z"
      },
      {
        "duration": 276,
        "start_time": "2023-11-21T11:29:59.505Z"
      },
      {
        "duration": 541,
        "start_time": "2023-11-21T11:29:59.784Z"
      },
      {
        "duration": 22631,
        "start_time": "2023-11-21T11:30:00.327Z"
      },
      {
        "duration": 13,
        "start_time": "2023-11-21T11:30:22.959Z"
      },
      {
        "duration": 45,
        "start_time": "2023-11-21T11:30:22.974Z"
      },
      {
        "duration": 132,
        "start_time": "2023-11-21T11:43:03.875Z"
      },
      {
        "duration": 122,
        "start_time": "2023-11-21T11:43:32.475Z"
      },
      {
        "duration": 12,
        "start_time": "2023-11-21T11:43:39.319Z"
      },
      {
        "duration": 71,
        "start_time": "2023-11-21T12:46:49.910Z"
      },
      {
        "duration": 12,
        "start_time": "2023-11-21T12:48:22.088Z"
      },
      {
        "duration": 113,
        "start_time": "2023-11-21T12:48:27.973Z"
      },
      {
        "duration": 98,
        "start_time": "2023-11-21T12:48:41.930Z"
      },
      {
        "duration": 195,
        "start_time": "2023-11-21T12:50:27.420Z"
      },
      {
        "duration": 93,
        "start_time": "2023-11-21T12:50:46.097Z"
      },
      {
        "duration": 10,
        "start_time": "2023-11-21T12:56:54.527Z"
      },
      {
        "duration": 2991,
        "start_time": "2023-11-21T12:57:10.974Z"
      },
      {
        "duration": 2595,
        "start_time": "2023-11-21T13:37:56.039Z"
      },
      {
        "duration": 2604,
        "start_time": "2023-11-21T13:37:58.637Z"
      },
      {
        "duration": 1464,
        "start_time": "2023-11-21T13:38:01.243Z"
      },
      {
        "duration": 91,
        "start_time": "2023-11-21T13:38:02.709Z"
      },
      {
        "duration": 3,
        "start_time": "2023-11-21T13:38:02.802Z"
      },
      {
        "duration": 103,
        "start_time": "2023-11-21T13:38:02.806Z"
      },
      {
        "duration": 5,
        "start_time": "2023-11-21T13:38:02.910Z"
      },
      {
        "duration": 19,
        "start_time": "2023-11-21T13:38:02.917Z"
      },
      {
        "duration": 24,
        "start_time": "2023-11-21T13:38:02.937Z"
      },
      {
        "duration": 18,
        "start_time": "2023-11-21T13:38:02.963Z"
      },
      {
        "duration": 35,
        "start_time": "2023-11-21T13:38:02.982Z"
      },
      {
        "duration": 24,
        "start_time": "2023-11-21T13:38:03.019Z"
      },
      {
        "duration": 3,
        "start_time": "2023-11-21T13:38:03.045Z"
      },
      {
        "duration": 55,
        "start_time": "2023-11-21T13:38:03.050Z"
      },
      {
        "duration": 4,
        "start_time": "2023-11-21T13:38:03.106Z"
      },
      {
        "duration": 74,
        "start_time": "2023-11-21T13:38:03.112Z"
      },
      {
        "duration": 29,
        "start_time": "2023-11-21T13:38:03.188Z"
      },
      {
        "duration": 22,
        "start_time": "2023-11-21T13:38:03.219Z"
      },
      {
        "duration": 150,
        "start_time": "2023-11-21T13:38:03.243Z"
      },
      {
        "duration": 5,
        "start_time": "2023-11-21T13:38:03.395Z"
      },
      {
        "duration": 16,
        "start_time": "2023-11-21T13:38:03.401Z"
      },
      {
        "duration": 313,
        "start_time": "2023-11-21T13:38:03.418Z"
      },
      {
        "duration": 281,
        "start_time": "2023-11-21T13:38:03.732Z"
      },
      {
        "duration": 346,
        "start_time": "2023-11-21T13:38:04.015Z"
      },
      {
        "duration": 359,
        "start_time": "2023-11-21T13:38:04.363Z"
      },
      {
        "duration": 218,
        "start_time": "2023-11-21T13:38:04.724Z"
      },
      {
        "duration": 254,
        "start_time": "2023-11-21T13:38:04.943Z"
      },
      {
        "duration": 481,
        "start_time": "2023-11-21T13:38:05.200Z"
      },
      {
        "duration": 22780,
        "start_time": "2023-11-21T13:38:05.682Z"
      },
      {
        "duration": 22302,
        "start_time": "2023-11-21T13:38:28.464Z"
      },
      {
        "duration": 4,
        "start_time": "2023-11-21T13:38:50.771Z"
      },
      {
        "duration": 101,
        "start_time": "2023-11-21T13:38:50.777Z"
      },
      {
        "duration": 2788,
        "start_time": "2023-11-21T13:38:50.880Z"
      },
      {
        "duration": 5,
        "start_time": "2023-11-21T14:53:37.914Z"
      },
      {
        "duration": 16,
        "start_time": "2023-11-21T15:06:18.784Z"
      },
      {
        "duration": 111,
        "start_time": "2023-11-21T15:10:26.924Z"
      },
      {
        "duration": 10,
        "start_time": "2023-11-21T15:11:11.536Z"
      },
      {
        "duration": 10,
        "start_time": "2023-11-21T15:11:20.508Z"
      },
      {
        "duration": 10,
        "start_time": "2023-11-21T15:12:00.821Z"
      },
      {
        "duration": 11,
        "start_time": "2023-11-21T15:32:06.953Z"
      },
      {
        "duration": 7,
        "start_time": "2023-11-21T15:32:50.056Z"
      },
      {
        "duration": 4,
        "start_time": "2023-11-21T15:32:55.130Z"
      },
      {
        "duration": 3,
        "start_time": "2023-11-21T15:33:27.981Z"
      },
      {
        "duration": 11,
        "start_time": "2023-11-21T15:33:49.824Z"
      },
      {
        "duration": 6,
        "start_time": "2023-11-21T15:34:17.816Z"
      },
      {
        "duration": 10,
        "start_time": "2023-11-21T15:34:25.211Z"
      },
      {
        "duration": 11,
        "start_time": "2023-11-21T15:34:38.172Z"
      },
      {
        "duration": 11562,
        "start_time": "2023-11-21T15:34:48.611Z"
      },
      {
        "duration": 341191,
        "start_time": "2023-11-21T15:35:47.264Z"
      },
      {
        "duration": 3420,
        "start_time": "2023-11-21T15:57:55.403Z"
      },
      {
        "duration": 4,
        "start_time": "2023-11-21T16:00:51.262Z"
      },
      {
        "duration": 42,
        "start_time": "2023-11-21T16:01:00.469Z"
      },
      {
        "duration": 3377,
        "start_time": "2023-11-21T16:01:27.190Z"
      },
      {
        "duration": 14,
        "start_time": "2023-11-21T16:03:30.386Z"
      },
      {
        "duration": 3322,
        "start_time": "2023-11-21T16:03:55.448Z"
      },
      {
        "duration": 3193,
        "start_time": "2023-11-21T16:04:19.791Z"
      },
      {
        "duration": 10,
        "start_time": "2023-11-21T16:05:48.015Z"
      },
      {
        "duration": 4,
        "start_time": "2023-11-21T16:06:13.362Z"
      },
      {
        "duration": 61,
        "start_time": "2023-11-21T16:06:22.860Z"
      },
      {
        "duration": 1154012,
        "start_time": "2023-11-21T16:11:54.654Z"
      },
      {
        "duration": 17,
        "start_time": "2023-11-21T16:36:40.989Z"
      },
      {
        "duration": 17,
        "start_time": "2023-11-21T16:40:04.937Z"
      },
      {
        "duration": 30,
        "start_time": "2023-11-21T16:42:00.899Z"
      },
      {
        "duration": 30,
        "start_time": "2023-11-21T16:42:24.433Z"
      },
      {
        "duration": 271,
        "start_time": "2023-11-21T16:45:30.632Z"
      },
      {
        "duration": 11,
        "start_time": "2023-11-21T16:46:22.742Z"
      },
      {
        "duration": 14,
        "start_time": "2023-11-21T16:47:37.980Z"
      },
      {
        "duration": 5,
        "start_time": "2023-11-21T16:48:01.882Z"
      },
      {
        "duration": 14,
        "start_time": "2023-11-21T16:48:54.172Z"
      },
      {
        "duration": 12,
        "start_time": "2023-11-21T16:49:18.732Z"
      },
      {
        "duration": 10,
        "start_time": "2023-11-21T16:49:32.901Z"
      },
      {
        "duration": 5,
        "start_time": "2023-11-21T16:49:38.766Z"
      },
      {
        "duration": 10,
        "start_time": "2023-11-21T16:49:57.223Z"
      },
      {
        "duration": 11,
        "start_time": "2023-11-21T16:53:13.650Z"
      },
      {
        "duration": 11,
        "start_time": "2023-11-21T16:53:29.296Z"
      },
      {
        "duration": 14,
        "start_time": "2023-11-21T16:53:33.038Z"
      },
      {
        "duration": 11,
        "start_time": "2023-11-21T16:53:37.711Z"
      },
      {
        "duration": 29,
        "start_time": "2023-11-21T16:55:14.141Z"
      },
      {
        "duration": 2,
        "start_time": "2023-11-21T17:00:37.737Z"
      },
      {
        "duration": 30,
        "start_time": "2023-11-21T17:00:56.618Z"
      },
      {
        "duration": 30,
        "start_time": "2023-11-21T17:01:45.760Z"
      },
      {
        "duration": 12,
        "start_time": "2023-11-21T17:02:39.480Z"
      },
      {
        "duration": 3,
        "start_time": "2023-11-21T17:03:00.226Z"
      },
      {
        "duration": 9,
        "start_time": "2023-11-21T17:03:14.079Z"
      },
      {
        "duration": 3,
        "start_time": "2023-11-21T17:03:19.050Z"
      },
      {
        "duration": 11,
        "start_time": "2023-11-21T17:08:08.699Z"
      },
      {
        "duration": 10,
        "start_time": "2023-11-21T17:12:45.130Z"
      },
      {
        "duration": 18,
        "start_time": "2023-11-21T17:13:02.832Z"
      },
      {
        "duration": 16,
        "start_time": "2023-11-21T17:13:51.354Z"
      },
      {
        "duration": 88,
        "start_time": "2023-11-21T17:20:43.166Z"
      },
      {
        "duration": 87,
        "start_time": "2023-11-21T17:21:02.052Z"
      },
      {
        "duration": 100,
        "start_time": "2023-11-21T17:23:29.783Z"
      },
      {
        "duration": 4,
        "start_time": "2023-11-21T17:23:33.555Z"
      },
      {
        "duration": 9,
        "start_time": "2023-11-21T17:23:39.099Z"
      },
      {
        "duration": 8,
        "start_time": "2023-11-21T17:23:42.231Z"
      },
      {
        "duration": 12,
        "start_time": "2023-11-21T17:31:01.579Z"
      },
      {
        "duration": 12,
        "start_time": "2023-11-21T17:31:06.591Z"
      },
      {
        "duration": 7,
        "start_time": "2023-11-21T17:31:13.736Z"
      },
      {
        "duration": 5,
        "start_time": "2023-11-21T17:33:38.969Z"
      },
      {
        "duration": 13,
        "start_time": "2023-11-21T17:40:13.171Z"
      },
      {
        "duration": 54,
        "start_time": "2023-11-21T17:40:28.440Z"
      },
      {
        "duration": 1180055,
        "start_time": "2023-11-21T17:44:21.801Z"
      },
      {
        "duration": 3282,
        "start_time": "2023-11-21T18:45:39.003Z"
      },
      {
        "duration": 447,
        "start_time": "2023-11-21T19:10:09.563Z"
      },
      {
        "duration": 2567,
        "start_time": "2023-11-21T19:10:27.205Z"
      },
      {
        "duration": 2612,
        "start_time": "2023-11-21T19:10:29.775Z"
      },
      {
        "duration": 1402,
        "start_time": "2023-11-21T19:10:32.389Z"
      },
      {
        "duration": 100,
        "start_time": "2023-11-21T19:10:33.793Z"
      },
      {
        "duration": 4,
        "start_time": "2023-11-21T19:10:33.895Z"
      },
      {
        "duration": 76,
        "start_time": "2023-11-21T19:10:33.900Z"
      },
      {
        "duration": 6,
        "start_time": "2023-11-21T19:10:33.978Z"
      },
      {
        "duration": 16,
        "start_time": "2023-11-21T19:10:33.985Z"
      },
      {
        "duration": 13,
        "start_time": "2023-11-21T19:10:34.002Z"
      },
      {
        "duration": 4,
        "start_time": "2023-11-21T19:10:34.016Z"
      },
      {
        "duration": 52,
        "start_time": "2023-11-21T19:10:34.021Z"
      },
      {
        "duration": 25,
        "start_time": "2023-11-21T19:10:34.074Z"
      },
      {
        "duration": 3,
        "start_time": "2023-11-21T19:10:34.101Z"
      },
      {
        "duration": 51,
        "start_time": "2023-11-21T19:10:34.107Z"
      },
      {
        "duration": 14,
        "start_time": "2023-11-21T19:10:34.160Z"
      },
      {
        "duration": 52,
        "start_time": "2023-11-21T19:10:34.175Z"
      },
      {
        "duration": 54,
        "start_time": "2023-11-21T19:10:34.229Z"
      },
      {
        "duration": 24,
        "start_time": "2023-11-21T19:10:34.285Z"
      },
      {
        "duration": 143,
        "start_time": "2023-11-21T19:10:34.310Z"
      },
      {
        "duration": 18,
        "start_time": "2023-11-21T19:10:34.455Z"
      },
      {
        "duration": 18,
        "start_time": "2023-11-21T19:10:34.474Z"
      },
      {
        "duration": 302,
        "start_time": "2023-11-21T19:10:34.493Z"
      },
      {
        "duration": 360,
        "start_time": "2023-11-21T19:10:34.797Z"
      },
      {
        "duration": 273,
        "start_time": "2023-11-21T19:10:35.159Z"
      },
      {
        "duration": 368,
        "start_time": "2023-11-21T19:10:35.433Z"
      },
      {
        "duration": 224,
        "start_time": "2023-11-21T19:10:35.803Z"
      },
      {
        "duration": 255,
        "start_time": "2023-11-21T19:10:36.029Z"
      },
      {
        "duration": 546,
        "start_time": "2023-11-21T19:10:36.286Z"
      },
      {
        "duration": 22972,
        "start_time": "2023-11-21T19:10:36.833Z"
      },
      {
        "duration": 4,
        "start_time": "2023-11-21T19:10:59.806Z"
      },
      {
        "duration": 176,
        "start_time": "2023-11-21T19:10:59.812Z"
      },
      {
        "duration": 9,
        "start_time": "2023-11-21T19:10:59.990Z"
      },
      {
        "duration": 17,
        "start_time": "2023-11-21T19:11:00.001Z"
      },
      {
        "duration": 12558,
        "start_time": "2023-11-21T19:11:00.020Z"
      },
      {
        "duration": 338382,
        "start_time": "2023-11-21T19:11:12.580Z"
      },
      {
        "duration": 3309,
        "start_time": "2023-11-21T19:16:50.964Z"
      },
      {
        "duration": 0,
        "start_time": "2023-11-21T19:16:54.274Z"
      },
      {
        "duration": 0,
        "start_time": "2023-11-21T19:16:54.276Z"
      },
      {
        "duration": 0,
        "start_time": "2023-11-21T19:16:54.276Z"
      },
      {
        "duration": 14,
        "start_time": "2023-11-21T19:22:19.871Z"
      },
      {
        "duration": 4,
        "start_time": "2023-11-21T19:24:26.250Z"
      },
      {
        "duration": 1136066,
        "start_time": "2023-11-21T19:24:31.240Z"
      },
      {
        "duration": 8,
        "start_time": "2023-11-21T19:48:33.004Z"
      },
      {
        "duration": 30,
        "start_time": "2023-11-21T19:48:34.700Z"
      },
      {
        "duration": 286,
        "start_time": "2023-11-21T19:48:35.445Z"
      },
      {
        "duration": 3,
        "start_time": "2023-11-21T19:49:16.119Z"
      },
      {
        "duration": 3,
        "start_time": "2023-11-21T19:49:33.551Z"
      },
      {
        "duration": 20,
        "start_time": "2023-11-21T19:50:47.589Z"
      },
      {
        "duration": 17,
        "start_time": "2023-11-21T19:50:55.737Z"
      },
      {
        "duration": 86,
        "start_time": "2023-11-21T19:52:12.460Z"
      },
      {
        "duration": 11,
        "start_time": "2023-11-21T19:52:44.686Z"
      },
      {
        "duration": 7,
        "start_time": "2023-11-21T19:52:55.853Z"
      },
      {
        "duration": 3214,
        "start_time": "2023-11-21T19:52:57.760Z"
      },
      {
        "duration": 16,
        "start_time": "2023-11-21T19:53:52.485Z"
      },
      {
        "duration": 5,
        "start_time": "2023-11-21T20:24:53.754Z"
      },
      {
        "duration": 3062,
        "start_time": "2023-11-21T20:25:09.884Z"
      },
      {
        "duration": 51,
        "start_time": "2023-11-22T11:19:08.808Z"
      },
      {
        "duration": 3625,
        "start_time": "2023-11-22T11:19:12.203Z"
      },
      {
        "duration": 3238,
        "start_time": "2023-11-22T11:19:15.830Z"
      },
      {
        "duration": 1838,
        "start_time": "2023-11-22T11:19:19.070Z"
      },
      {
        "duration": 345,
        "start_time": "2023-11-22T11:19:20.909Z"
      },
      {
        "duration": 4,
        "start_time": "2023-11-22T11:19:24.008Z"
      },
      {
        "duration": 77,
        "start_time": "2023-11-22T11:19:25.446Z"
      },
      {
        "duration": 6,
        "start_time": "2023-11-22T11:19:26.404Z"
      },
      {
        "duration": 16,
        "start_time": "2023-11-22T11:19:26.835Z"
      },
      {
        "duration": 12,
        "start_time": "2023-11-22T11:19:27.329Z"
      },
      {
        "duration": 6,
        "start_time": "2023-11-22T11:19:27.677Z"
      },
      {
        "duration": 20,
        "start_time": "2023-11-22T11:19:27.969Z"
      },
      {
        "duration": 24,
        "start_time": "2023-11-22T11:19:28.169Z"
      },
      {
        "duration": 3,
        "start_time": "2023-11-22T11:19:28.811Z"
      },
      {
        "duration": 48,
        "start_time": "2023-11-22T11:19:29.408Z"
      },
      {
        "duration": 5,
        "start_time": "2023-11-22T11:19:30.213Z"
      },
      {
        "duration": 66,
        "start_time": "2023-11-22T11:19:31.244Z"
      },
      {
        "duration": 31,
        "start_time": "2023-11-22T11:19:32.524Z"
      },
      {
        "duration": 23,
        "start_time": "2023-11-22T11:19:34.726Z"
      },
      {
        "duration": 124,
        "start_time": "2023-11-22T11:19:35.195Z"
      },
      {
        "duration": 5,
        "start_time": "2023-11-22T11:19:36.095Z"
      },
      {
        "duration": 11,
        "start_time": "2023-11-22T11:19:37.385Z"
      },
      {
        "duration": 330,
        "start_time": "2023-11-22T11:19:39.064Z"
      },
      {
        "duration": 301,
        "start_time": "2023-11-22T11:19:40.461Z"
      },
      {
        "duration": 394,
        "start_time": "2023-11-22T11:19:41.356Z"
      },
      {
        "duration": 382,
        "start_time": "2023-11-22T11:19:42.196Z"
      },
      {
        "duration": 228,
        "start_time": "2023-11-22T11:19:43.321Z"
      },
      {
        "duration": 270,
        "start_time": "2023-11-22T11:19:45.544Z"
      },
      {
        "duration": 480,
        "start_time": "2023-11-22T11:19:46.630Z"
      },
      {
        "duration": 23156,
        "start_time": "2023-11-22T11:19:48.285Z"
      },
      {
        "duration": 5,
        "start_time": "2023-11-22T11:20:11.442Z"
      },
      {
        "duration": 180,
        "start_time": "2023-11-22T11:20:15.087Z"
      },
      {
        "duration": 10,
        "start_time": "2023-11-22T11:20:17.593Z"
      },
      {
        "duration": 5,
        "start_time": "2023-11-22T11:20:20.779Z"
      },
      {
        "duration": 13674,
        "start_time": "2023-11-22T11:20:23.111Z"
      },
      {
        "duration": 369156,
        "start_time": "2023-11-22T11:20:36.787Z"
      },
      {
        "duration": 83,
        "start_time": "2023-11-22T11:29:05.886Z"
      },
      {
        "duration": 4,
        "start_time": "2023-11-22T11:29:15.513Z"
      },
      {
        "duration": 3,
        "start_time": "2023-11-22T11:29:45.255Z"
      },
      {
        "duration": 9,
        "start_time": "2023-11-22T11:29:55.243Z"
      },
      {
        "duration": 747,
        "start_time": "2023-11-22T11:30:07.152Z"
      },
      {
        "duration": 3,
        "start_time": "2023-11-22T11:30:59.593Z"
      },
      {
        "duration": 136526,
        "start_time": "2023-11-22T11:31:00.733Z"
      },
      {
        "duration": 51,
        "start_time": "2023-11-22T11:33:59.090Z"
      },
      {
        "duration": 2533,
        "start_time": "2023-11-22T11:34:07.407Z"
      },
      {
        "duration": 2590,
        "start_time": "2023-11-22T11:34:09.943Z"
      },
      {
        "duration": 1518,
        "start_time": "2023-11-22T11:34:12.536Z"
      },
      {
        "duration": 96,
        "start_time": "2023-11-22T11:34:14.056Z"
      },
      {
        "duration": 4,
        "start_time": "2023-11-22T11:34:14.154Z"
      },
      {
        "duration": 90,
        "start_time": "2023-11-22T11:34:14.160Z"
      },
      {
        "duration": 6,
        "start_time": "2023-11-22T11:34:14.251Z"
      },
      {
        "duration": 36,
        "start_time": "2023-11-22T11:34:14.258Z"
      },
      {
        "duration": 22,
        "start_time": "2023-11-22T11:34:14.296Z"
      },
      {
        "duration": 35,
        "start_time": "2023-11-22T11:34:14.320Z"
      },
      {
        "duration": 131,
        "start_time": "2023-11-22T11:34:14.357Z"
      },
      {
        "duration": 62,
        "start_time": "2023-11-22T11:34:14.490Z"
      },
      {
        "duration": 4,
        "start_time": "2023-11-22T11:34:14.554Z"
      },
      {
        "duration": 59,
        "start_time": "2023-11-22T11:34:14.560Z"
      },
      {
        "duration": 4,
        "start_time": "2023-11-22T11:34:14.620Z"
      },
      {
        "duration": 83,
        "start_time": "2023-11-22T11:34:14.626Z"
      },
      {
        "duration": 32,
        "start_time": "2023-11-22T11:34:14.711Z"
      },
      {
        "duration": 49,
        "start_time": "2023-11-22T11:34:14.745Z"
      },
      {
        "duration": 159,
        "start_time": "2023-11-22T11:34:14.796Z"
      },
      {
        "duration": 5,
        "start_time": "2023-11-22T11:34:14.957Z"
      },
      {
        "duration": 17,
        "start_time": "2023-11-22T11:34:14.974Z"
      },
      {
        "duration": 348,
        "start_time": "2023-11-22T11:34:14.993Z"
      },
      {
        "duration": 386,
        "start_time": "2023-11-22T11:34:15.536Z"
      },
      {
        "duration": 311,
        "start_time": "2023-11-22T11:34:15.924Z"
      },
      {
        "duration": 396,
        "start_time": "2023-11-22T11:34:16.239Z"
      },
      {
        "duration": 236,
        "start_time": "2023-11-22T11:34:17.100Z"
      },
      {
        "duration": 273,
        "start_time": "2023-11-22T11:34:17.338Z"
      },
      {
        "duration": 599,
        "start_time": "2023-11-22T11:34:17.837Z"
      },
      {
        "duration": 24037,
        "start_time": "2023-11-22T11:34:18.438Z"
      },
      {
        "duration": 6,
        "start_time": "2023-11-22T11:34:42.479Z"
      },
      {
        "duration": 122,
        "start_time": "2023-11-22T11:34:42.488Z"
      },
      {
        "duration": 11,
        "start_time": "2023-11-22T11:34:42.612Z"
      },
      {
        "duration": 4,
        "start_time": "2023-11-22T11:34:42.624Z"
      },
      {
        "duration": 14143,
        "start_time": "2023-11-22T11:34:42.630Z"
      },
      {
        "duration": 348890,
        "start_time": "2023-11-22T11:34:56.775Z"
      },
      {
        "duration": 7,
        "start_time": "2023-11-22T11:40:45.666Z"
      },
      {
        "duration": 176059,
        "start_time": "2023-11-22T11:40:45.674Z"
      },
      {
        "duration": 8,
        "start_time": "2023-11-22T11:44:34.028Z"
      },
      {
        "duration": 23,
        "start_time": "2023-11-22T11:44:36.897Z"
      },
      {
        "duration": 182,
        "start_time": "2023-11-22T11:47:17.266Z"
      },
      {
        "duration": 187,
        "start_time": "2023-11-22T11:49:12.063Z"
      },
      {
        "duration": 269,
        "start_time": "2023-11-22T11:49:45.092Z"
      },
      {
        "duration": 2410,
        "start_time": "2023-11-22T12:43:16.151Z"
      },
      {
        "duration": 2412,
        "start_time": "2023-11-22T12:43:18.564Z"
      },
      {
        "duration": 6,
        "start_time": "2023-11-22T12:43:20.978Z"
      },
      {
        "duration": 107,
        "start_time": "2023-11-22T12:43:20.986Z"
      },
      {
        "duration": 4,
        "start_time": "2023-11-22T12:43:21.095Z"
      },
      {
        "duration": 89,
        "start_time": "2023-11-22T12:43:21.101Z"
      },
      {
        "duration": 6,
        "start_time": "2023-11-22T12:43:21.192Z"
      },
      {
        "duration": 36,
        "start_time": "2023-11-22T12:43:21.199Z"
      },
      {
        "duration": 37,
        "start_time": "2023-11-22T12:43:21.237Z"
      },
      {
        "duration": 15,
        "start_time": "2023-11-22T12:43:21.277Z"
      },
      {
        "duration": 14,
        "start_time": "2023-11-22T12:43:21.294Z"
      },
      {
        "duration": 29,
        "start_time": "2023-11-22T12:43:21.310Z"
      },
      {
        "duration": 3,
        "start_time": "2023-11-22T12:43:21.341Z"
      },
      {
        "duration": 64,
        "start_time": "2023-11-22T12:43:21.345Z"
      },
      {
        "duration": 10,
        "start_time": "2023-11-22T12:43:21.410Z"
      },
      {
        "duration": 75,
        "start_time": "2023-11-22T12:43:21.422Z"
      },
      {
        "duration": 32,
        "start_time": "2023-11-22T12:43:21.500Z"
      },
      {
        "duration": 24,
        "start_time": "2023-11-22T12:43:22.509Z"
      },
      {
        "duration": 121,
        "start_time": "2023-11-22T12:43:22.717Z"
      },
      {
        "duration": 5,
        "start_time": "2023-11-22T12:43:23.083Z"
      },
      {
        "duration": 9,
        "start_time": "2023-11-22T12:43:23.798Z"
      },
      {
        "duration": 220,
        "start_time": "2023-11-22T12:43:24.573Z"
      },
      {
        "duration": 274,
        "start_time": "2023-11-22T12:43:24.973Z"
      },
      {
        "duration": 417,
        "start_time": "2023-11-22T12:43:25.506Z"
      },
      {
        "duration": 405,
        "start_time": "2023-11-22T12:43:25.924Z"
      },
      {
        "duration": 252,
        "start_time": "2023-11-22T12:43:26.331Z"
      },
      {
        "duration": 272,
        "start_time": "2023-11-22T12:43:26.852Z"
      },
      {
        "duration": 507,
        "start_time": "2023-11-22T12:43:27.434Z"
      },
      {
        "duration": 23070,
        "start_time": "2023-11-22T12:43:27.963Z"
      },
      {
        "duration": 5,
        "start_time": "2023-11-22T12:43:51.034Z"
      },
      {
        "duration": 124,
        "start_time": "2023-11-22T12:43:51.040Z"
      },
      {
        "duration": 11,
        "start_time": "2023-11-22T12:43:51.167Z"
      },
      {
        "duration": 4,
        "start_time": "2023-11-22T12:43:51.179Z"
      },
      {
        "duration": 13089,
        "start_time": "2023-11-22T12:43:51.184Z"
      },
      {
        "duration": 356391,
        "start_time": "2023-11-22T12:44:04.275Z"
      },
      {
        "duration": 4,
        "start_time": "2023-11-22T12:50:00.668Z"
      },
      {
        "duration": 174056,
        "start_time": "2023-11-22T12:50:00.674Z"
      },
      {
        "duration": 8,
        "start_time": "2023-11-22T12:52:54.732Z"
      },
      {
        "duration": 41,
        "start_time": "2023-11-22T12:52:54.741Z"
      },
      {
        "duration": 276,
        "start_time": "2023-11-22T12:52:54.785Z"
      },
      {
        "duration": 191,
        "start_time": "2023-11-22T12:52:55.062Z"
      },
      {
        "duration": 5903,
        "start_time": "2023-11-22T13:10:47.753Z"
      },
      {
        "duration": 2002,
        "start_time": "2023-11-22T13:18:54.324Z"
      },
      {
        "duration": 1711,
        "start_time": "2023-11-22T13:33:16.243Z"
      },
      {
        "duration": 3209,
        "start_time": "2023-11-22T13:33:45.795Z"
      },
      {
        "duration": 3803,
        "start_time": "2023-11-22T16:17:04.161Z"
      },
      {
        "duration": 3238,
        "start_time": "2023-11-22T16:17:07.966Z"
      },
      {
        "duration": 1641,
        "start_time": "2023-11-22T16:17:11.206Z"
      },
      {
        "duration": 350,
        "start_time": "2023-11-22T16:17:12.849Z"
      },
      {
        "duration": 4,
        "start_time": "2023-11-22T16:17:13.200Z"
      },
      {
        "duration": 76,
        "start_time": "2023-11-22T16:17:13.205Z"
      },
      {
        "duration": 6,
        "start_time": "2023-11-22T16:17:13.283Z"
      },
      {
        "duration": 55,
        "start_time": "2023-11-22T16:17:13.290Z"
      },
      {
        "duration": 12,
        "start_time": "2023-11-22T16:17:13.347Z"
      },
      {
        "duration": 3,
        "start_time": "2023-11-22T16:17:13.362Z"
      },
      {
        "duration": 19,
        "start_time": "2023-11-22T16:17:13.367Z"
      },
      {
        "duration": 14,
        "start_time": "2023-11-22T16:17:13.387Z"
      },
      {
        "duration": 3,
        "start_time": "2023-11-22T16:17:13.403Z"
      },
      {
        "duration": 47,
        "start_time": "2023-11-22T16:17:13.407Z"
      },
      {
        "duration": 4,
        "start_time": "2023-11-22T16:17:13.455Z"
      },
      {
        "duration": 73,
        "start_time": "2023-11-22T16:17:13.460Z"
      },
      {
        "duration": 31,
        "start_time": "2023-11-22T16:17:13.534Z"
      },
      {
        "duration": 54,
        "start_time": "2023-11-22T16:17:13.566Z"
      },
      {
        "duration": 146,
        "start_time": "2023-11-22T16:17:13.622Z"
      },
      {
        "duration": 7,
        "start_time": "2023-11-22T16:17:13.769Z"
      },
      {
        "duration": 14,
        "start_time": "2023-11-22T16:17:13.778Z"
      },
      {
        "duration": 315,
        "start_time": "2023-11-22T16:17:13.815Z"
      },
      {
        "duration": 361,
        "start_time": "2023-11-22T16:17:14.132Z"
      },
      {
        "duration": 276,
        "start_time": "2023-11-22T16:17:14.495Z"
      },
      {
        "duration": 421,
        "start_time": "2023-11-22T16:17:14.772Z"
      },
      {
        "duration": 237,
        "start_time": "2023-11-22T16:17:15.194Z"
      },
      {
        "duration": 245,
        "start_time": "2023-11-22T16:17:15.433Z"
      },
      {
        "duration": 575,
        "start_time": "2023-11-22T16:17:15.681Z"
      },
      {
        "duration": 22250,
        "start_time": "2023-11-22T16:17:16.258Z"
      },
      {
        "duration": 4,
        "start_time": "2023-11-22T16:17:38.510Z"
      },
      {
        "duration": 188,
        "start_time": "2023-11-22T16:17:38.516Z"
      },
      {
        "duration": 17,
        "start_time": "2023-11-22T16:17:38.706Z"
      },
      {
        "duration": 12,
        "start_time": "2023-11-22T16:17:38.725Z"
      },
      {
        "duration": 12482,
        "start_time": "2023-11-22T16:17:38.739Z"
      },
      {
        "duration": 346548,
        "start_time": "2023-11-22T16:17:51.223Z"
      },
      {
        "duration": 3,
        "start_time": "2023-11-22T16:23:37.773Z"
      },
      {
        "duration": 173549,
        "start_time": "2023-11-22T16:23:37.777Z"
      },
      {
        "duration": 8,
        "start_time": "2023-11-22T16:26:31.327Z"
      },
      {
        "duration": 65,
        "start_time": "2023-11-22T16:26:31.336Z"
      },
      {
        "duration": 280,
        "start_time": "2023-11-22T16:26:31.402Z"
      },
      {
        "duration": 204,
        "start_time": "2023-11-22T16:26:31.714Z"
      }
    ],
    "kernelspec": {
      "display_name": "Python 3 (ipykernel)",
      "language": "python",
      "name": "python3"
    },
    "language_info": {
      "codemirror_mode": {
        "name": "ipython",
        "version": 3
      },
      "file_extension": ".py",
      "mimetype": "text/x-python",
      "name": "python",
      "nbconvert_exporter": "python",
      "pygments_lexer": "ipython3",
      "version": "3.9.5"
    },
    "toc": {
      "base_numbering": 1,
      "nav_menu": {},
      "number_sections": true,
      "sideBar": true,
      "skip_h1_title": true,
      "title_cell": "Table of Contents",
      "title_sidebar": "Contents",
      "toc_cell": false,
      "toc_position": {},
      "toc_section_display": true,
      "toc_window_display": true
    },
    "colab": {
      "provenance": []
    }
  },
  "nbformat": 4,
  "nbformat_minor": 5
}