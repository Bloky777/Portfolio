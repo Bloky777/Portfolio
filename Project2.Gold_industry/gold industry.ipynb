{
  "cells": [
    {
      "cell_type": "markdown",
      "metadata": {
        "id": "L5Ytp32wvc0x"
      },
      "source": [
        "# Восстановление золота из руды"
      ]
    },
    {
      "cell_type": "markdown",
      "metadata": {
        "id": "KoypAb0Ivc0x"
      },
      "source": [
        "Перед нами стоит задача - подготовить прототип модели машинного обучения для компании, которая разрабатывает решения для эффективной работы промышленных предприятий.\n",
        "\n",
        "Модель должна предсказать коэффициент восстановления золота из золотосодержащей руды. Используйте данные с параметрами добычи и очистки.\n",
        "Полученная нами модель поможет оптимизировать производство, чтобы не запускать предприятие с убыточными характеристиками.\n",
        "\n",
        "Необходимо:\n",
        "1. Подготовить данные;\n",
        "2. Провести исследовательский анализ данных;\n",
        "3. Построить и обучить модель машинного обучения."
      ]
    },
    {
      "cell_type": "markdown",
      "metadata": {
        "id": "pdGUU61jvc0z"
      },
      "source": [
        "## Подготовка данных"
      ]
    },
    {
      "cell_type": "markdown",
      "metadata": {
        "id": "550DVnaSvc0z"
      },
      "source": [
        "Имортируем необходимые нам библиотеки."
      ]
    },
    {
      "cell_type": "code",
      "execution_count": null,
      "metadata": {
        "id": "YykY5-Vjvc0z"
      },
      "outputs": [],
      "source": [
        "import pandas as pd\n",
        "import matplotlib.pyplot as plt\n",
        "import seaborn as sns\n",
        "import numpy as np\n",
        "\n",
        "from sklearn.linear_model import LinearRegression\n",
        "from sklearn.tree import DecisionTreeRegressor\n",
        "from sklearn.ensemble import RandomForestRegressor\n",
        "from sklearn.model_selection import cross_val_score\n",
        "from sklearn.model_selection import GridSearchCV\n",
        "from sklearn.metrics import mean_absolute_error,make_scorer\n",
        "from sklearn.preprocessing import StandardScaler\n",
        "from sklearn.dummy import DummyRegressor\n"
      ]
    },
    {
      "cell_type": "markdown",
      "metadata": {
        "id": "L-cnKrjGvc01"
      },
      "source": [
        "Прочитаем тренировочный датасет."
      ]
    },
    {
      "cell_type": "code",
      "execution_count": null,
      "metadata": {
        "scrolled": true,
        "id": "LhMwEJJVvc01",
        "outputId": "0f2a3748-d165-4038-dca2-a7dcc5856057"
      },
      "outputs": [
        {
          "data": {
            "text/html": [
              "<div>\n",
              "<style scoped>\n",
              "    .dataframe tbody tr th:only-of-type {\n",
              "        vertical-align: middle;\n",
              "    }\n",
              "\n",
              "    .dataframe tbody tr th {\n",
              "        vertical-align: top;\n",
              "    }\n",
              "\n",
              "    .dataframe thead th {\n",
              "        text-align: right;\n",
              "    }\n",
              "</style>\n",
              "<table border=\"1\" class=\"dataframe\">\n",
              "  <thead>\n",
              "    <tr style=\"text-align: right;\">\n",
              "      <th></th>\n",
              "      <th>date</th>\n",
              "      <th>rougher.input.feed_au</th>\n",
              "      <th>rougher.input.feed_ag</th>\n",
              "      <th>rougher.input.feed_pb</th>\n",
              "      <th>rougher.input.feed_sol</th>\n",
              "      <th>rougher.input.feed_rate</th>\n",
              "      <th>rougher.input.feed_size</th>\n",
              "      <th>rougher.input.floatbank10_sulfate</th>\n",
              "      <th>rougher.input.floatbank10_xanthate</th>\n",
              "      <th>rougher.state.floatbank10_a_air</th>\n",
              "      <th>...</th>\n",
              "      <th>secondary_cleaner.output.tail_sol</th>\n",
              "      <th>final.output.concentrate_au</th>\n",
              "      <th>final.output.concentrate_ag</th>\n",
              "      <th>final.output.concentrate_pb</th>\n",
              "      <th>final.output.concentrate_sol</th>\n",
              "      <th>final.output.recovery</th>\n",
              "      <th>final.output.tail_au</th>\n",
              "      <th>final.output.tail_ag</th>\n",
              "      <th>final.output.tail_pb</th>\n",
              "      <th>final.output.tail_sol</th>\n",
              "    </tr>\n",
              "  </thead>\n",
              "  <tbody>\n",
              "    <tr>\n",
              "      <th>0</th>\n",
              "      <td>2016-01-15 00:00:00</td>\n",
              "      <td>6.486150</td>\n",
              "      <td>6.100378</td>\n",
              "      <td>2.284912</td>\n",
              "      <td>36.808594</td>\n",
              "      <td>523.546326</td>\n",
              "      <td>55.486599</td>\n",
              "      <td>11.986616</td>\n",
              "      <td>6.007990</td>\n",
              "      <td>999.706909</td>\n",
              "      <td>...</td>\n",
              "      <td>8.764648</td>\n",
              "      <td>42.192020</td>\n",
              "      <td>6.055403</td>\n",
              "      <td>9.889648</td>\n",
              "      <td>5.507324</td>\n",
              "      <td>70.541216</td>\n",
              "      <td>2.143149</td>\n",
              "      <td>10.411962</td>\n",
              "      <td>0.895447</td>\n",
              "      <td>16.904297</td>\n",
              "    </tr>\n",
              "    <tr>\n",
              "      <th>1</th>\n",
              "      <td>2016-01-15 01:00:00</td>\n",
              "      <td>6.478583</td>\n",
              "      <td>6.161113</td>\n",
              "      <td>2.266033</td>\n",
              "      <td>35.753385</td>\n",
              "      <td>525.290581</td>\n",
              "      <td>57.278666</td>\n",
              "      <td>11.971193</td>\n",
              "      <td>6.005766</td>\n",
              "      <td>1000.286398</td>\n",
              "      <td>...</td>\n",
              "      <td>9.001494</td>\n",
              "      <td>42.701629</td>\n",
              "      <td>6.029369</td>\n",
              "      <td>9.968944</td>\n",
              "      <td>5.257781</td>\n",
              "      <td>69.266198</td>\n",
              "      <td>2.224930</td>\n",
              "      <td>10.462676</td>\n",
              "      <td>0.927452</td>\n",
              "      <td>16.634514</td>\n",
              "    </tr>\n",
              "    <tr>\n",
              "      <th>2</th>\n",
              "      <td>2016-01-15 02:00:00</td>\n",
              "      <td>6.362222</td>\n",
              "      <td>6.116455</td>\n",
              "      <td>2.159622</td>\n",
              "      <td>35.971630</td>\n",
              "      <td>530.026610</td>\n",
              "      <td>57.510649</td>\n",
              "      <td>11.920603</td>\n",
              "      <td>6.197377</td>\n",
              "      <td>999.719565</td>\n",
              "      <td>...</td>\n",
              "      <td>8.842896</td>\n",
              "      <td>42.657501</td>\n",
              "      <td>6.055926</td>\n",
              "      <td>10.213995</td>\n",
              "      <td>5.383759</td>\n",
              "      <td>68.116445</td>\n",
              "      <td>2.257889</td>\n",
              "      <td>10.507046</td>\n",
              "      <td>0.953716</td>\n",
              "      <td>16.208849</td>\n",
              "    </tr>\n",
              "    <tr>\n",
              "      <th>3</th>\n",
              "      <td>2016-01-15 03:00:00</td>\n",
              "      <td>6.118189</td>\n",
              "      <td>6.043309</td>\n",
              "      <td>2.037807</td>\n",
              "      <td>36.862241</td>\n",
              "      <td>542.590390</td>\n",
              "      <td>57.792734</td>\n",
              "      <td>11.630094</td>\n",
              "      <td>6.203177</td>\n",
              "      <td>999.814770</td>\n",
              "      <td>...</td>\n",
              "      <td>9.122857</td>\n",
              "      <td>42.689819</td>\n",
              "      <td>6.047977</td>\n",
              "      <td>9.977019</td>\n",
              "      <td>4.858634</td>\n",
              "      <td>68.347543</td>\n",
              "      <td>2.146849</td>\n",
              "      <td>10.422762</td>\n",
              "      <td>0.883763</td>\n",
              "      <td>16.532835</td>\n",
              "    </tr>\n",
              "    <tr>\n",
              "      <th>4</th>\n",
              "      <td>2016-01-15 04:00:00</td>\n",
              "      <td>5.663707</td>\n",
              "      <td>6.060915</td>\n",
              "      <td>1.786875</td>\n",
              "      <td>34.347666</td>\n",
              "      <td>540.531893</td>\n",
              "      <td>56.047189</td>\n",
              "      <td>10.957755</td>\n",
              "      <td>6.198826</td>\n",
              "      <td>999.678690</td>\n",
              "      <td>...</td>\n",
              "      <td>8.871028</td>\n",
              "      <td>42.774141</td>\n",
              "      <td>6.148599</td>\n",
              "      <td>10.142511</td>\n",
              "      <td>4.939416</td>\n",
              "      <td>66.927016</td>\n",
              "      <td>2.055292</td>\n",
              "      <td>10.360302</td>\n",
              "      <td>0.792826</td>\n",
              "      <td>16.525686</td>\n",
              "    </tr>\n",
              "    <tr>\n",
              "      <th>...</th>\n",
              "      <td>...</td>\n",
              "      <td>...</td>\n",
              "      <td>...</td>\n",
              "      <td>...</td>\n",
              "      <td>...</td>\n",
              "      <td>...</td>\n",
              "      <td>...</td>\n",
              "      <td>...</td>\n",
              "      <td>...</td>\n",
              "      <td>...</td>\n",
              "      <td>...</td>\n",
              "      <td>...</td>\n",
              "      <td>...</td>\n",
              "      <td>...</td>\n",
              "      <td>...</td>\n",
              "      <td>...</td>\n",
              "      <td>...</td>\n",
              "      <td>...</td>\n",
              "      <td>...</td>\n",
              "      <td>...</td>\n",
              "      <td>...</td>\n",
              "    </tr>\n",
              "    <tr>\n",
              "      <th>14574</th>\n",
              "      <td>2017-12-09 09:59:59</td>\n",
              "      <td>4.599524</td>\n",
              "      <td>5.822083</td>\n",
              "      <td>4.255546</td>\n",
              "      <td>37.480479</td>\n",
              "      <td>559.895089</td>\n",
              "      <td>85.247019</td>\n",
              "      <td>6.775864</td>\n",
              "      <td>9.005425</td>\n",
              "      <td>1200.454685</td>\n",
              "      <td>...</td>\n",
              "      <td>0.000000</td>\n",
              "      <td>47.765393</td>\n",
              "      <td>2.925574</td>\n",
              "      <td>10.855586</td>\n",
              "      <td>7.053796</td>\n",
              "      <td>64.054699</td>\n",
              "      <td>1.761994</td>\n",
              "      <td>8.578502</td>\n",
              "      <td>3.365823</td>\n",
              "      <td>10.603464</td>\n",
              "    </tr>\n",
              "    <tr>\n",
              "      <th>14575</th>\n",
              "      <td>2017-12-09 10:59:59</td>\n",
              "      <td>4.658125</td>\n",
              "      <td>5.844800</td>\n",
              "      <td>4.241564</td>\n",
              "      <td>37.395565</td>\n",
              "      <td>561.464855</td>\n",
              "      <td>83.860651</td>\n",
              "      <td>6.770561</td>\n",
              "      <td>9.000889</td>\n",
              "      <td>1200.958146</td>\n",
              "      <td>...</td>\n",
              "      <td>0.000000</td>\n",
              "      <td>46.956275</td>\n",
              "      <td>3.076566</td>\n",
              "      <td>11.542302</td>\n",
              "      <td>6.929418</td>\n",
              "      <td>68.643324</td>\n",
              "      <td>1.567363</td>\n",
              "      <td>8.792890</td>\n",
              "      <td>3.120351</td>\n",
              "      <td>10.184715</td>\n",
              "    </tr>\n",
              "    <tr>\n",
              "      <th>14576</th>\n",
              "      <td>2017-12-09 11:59:59</td>\n",
              "      <td>5.335862</td>\n",
              "      <td>6.091855</td>\n",
              "      <td>4.617558</td>\n",
              "      <td>37.369774</td>\n",
              "      <td>560.889077</td>\n",
              "      <td>85.718304</td>\n",
              "      <td>7.762770</td>\n",
              "      <td>9.158609</td>\n",
              "      <td>1199.245914</td>\n",
              "      <td>...</td>\n",
              "      <td>0.000000</td>\n",
              "      <td>46.713954</td>\n",
              "      <td>3.224920</td>\n",
              "      <td>11.356233</td>\n",
              "      <td>6.803482</td>\n",
              "      <td>73.755150</td>\n",
              "      <td>1.529220</td>\n",
              "      <td>8.769645</td>\n",
              "      <td>3.141541</td>\n",
              "      <td>10.403181</td>\n",
              "    </tr>\n",
              "    <tr>\n",
              "      <th>14577</th>\n",
              "      <td>2017-12-09 12:59:59</td>\n",
              "      <td>4.838619</td>\n",
              "      <td>6.121323</td>\n",
              "      <td>4.144989</td>\n",
              "      <td>38.591551</td>\n",
              "      <td>559.031805</td>\n",
              "      <td>119.499241</td>\n",
              "      <td>7.356687</td>\n",
              "      <td>9.304952</td>\n",
              "      <td>1196.569267</td>\n",
              "      <td>...</td>\n",
              "      <td>0.000000</td>\n",
              "      <td>46.866780</td>\n",
              "      <td>3.195978</td>\n",
              "      <td>11.349355</td>\n",
              "      <td>6.862249</td>\n",
              "      <td>69.049291</td>\n",
              "      <td>1.612542</td>\n",
              "      <td>8.897321</td>\n",
              "      <td>3.130493</td>\n",
              "      <td>10.549470</td>\n",
              "    </tr>\n",
              "    <tr>\n",
              "      <th>14578</th>\n",
              "      <td>2017-12-09 13:59:59</td>\n",
              "      <td>4.525061</td>\n",
              "      <td>5.970515</td>\n",
              "      <td>4.020002</td>\n",
              "      <td>40.074026</td>\n",
              "      <td>555.682872</td>\n",
              "      <td>122.262690</td>\n",
              "      <td>6.586020</td>\n",
              "      <td>9.299606</td>\n",
              "      <td>1204.866639</td>\n",
              "      <td>...</td>\n",
              "      <td>0.000000</td>\n",
              "      <td>46.795691</td>\n",
              "      <td>3.109998</td>\n",
              "      <td>11.434366</td>\n",
              "      <td>6.886013</td>\n",
              "      <td>67.002189</td>\n",
              "      <td>1.596616</td>\n",
              "      <td>8.529606</td>\n",
              "      <td>2.911418</td>\n",
              "      <td>11.115147</td>\n",
              "    </tr>\n",
              "  </tbody>\n",
              "</table>\n",
              "<p>14579 rows × 87 columns</p>\n",
              "</div>"
            ],
            "text/plain": [
              "                      date  rougher.input.feed_au  rougher.input.feed_ag  \\\n",
              "0      2016-01-15 00:00:00               6.486150               6.100378   \n",
              "1      2016-01-15 01:00:00               6.478583               6.161113   \n",
              "2      2016-01-15 02:00:00               6.362222               6.116455   \n",
              "3      2016-01-15 03:00:00               6.118189               6.043309   \n",
              "4      2016-01-15 04:00:00               5.663707               6.060915   \n",
              "...                    ...                    ...                    ...   \n",
              "14574  2017-12-09 09:59:59               4.599524               5.822083   \n",
              "14575  2017-12-09 10:59:59               4.658125               5.844800   \n",
              "14576  2017-12-09 11:59:59               5.335862               6.091855   \n",
              "14577  2017-12-09 12:59:59               4.838619               6.121323   \n",
              "14578  2017-12-09 13:59:59               4.525061               5.970515   \n",
              "\n",
              "       rougher.input.feed_pb  rougher.input.feed_sol  rougher.input.feed_rate  \\\n",
              "0                   2.284912               36.808594               523.546326   \n",
              "1                   2.266033               35.753385               525.290581   \n",
              "2                   2.159622               35.971630               530.026610   \n",
              "3                   2.037807               36.862241               542.590390   \n",
              "4                   1.786875               34.347666               540.531893   \n",
              "...                      ...                     ...                      ...   \n",
              "14574               4.255546               37.480479               559.895089   \n",
              "14575               4.241564               37.395565               561.464855   \n",
              "14576               4.617558               37.369774               560.889077   \n",
              "14577               4.144989               38.591551               559.031805   \n",
              "14578               4.020002               40.074026               555.682872   \n",
              "\n",
              "       rougher.input.feed_size  rougher.input.floatbank10_sulfate  \\\n",
              "0                    55.486599                          11.986616   \n",
              "1                    57.278666                          11.971193   \n",
              "2                    57.510649                          11.920603   \n",
              "3                    57.792734                          11.630094   \n",
              "4                    56.047189                          10.957755   \n",
              "...                        ...                                ...   \n",
              "14574                85.247019                           6.775864   \n",
              "14575                83.860651                           6.770561   \n",
              "14576                85.718304                           7.762770   \n",
              "14577               119.499241                           7.356687   \n",
              "14578               122.262690                           6.586020   \n",
              "\n",
              "       rougher.input.floatbank10_xanthate  rougher.state.floatbank10_a_air  \\\n",
              "0                                6.007990                       999.706909   \n",
              "1                                6.005766                      1000.286398   \n",
              "2                                6.197377                       999.719565   \n",
              "3                                6.203177                       999.814770   \n",
              "4                                6.198826                       999.678690   \n",
              "...                                   ...                              ...   \n",
              "14574                            9.005425                      1200.454685   \n",
              "14575                            9.000889                      1200.958146   \n",
              "14576                            9.158609                      1199.245914   \n",
              "14577                            9.304952                      1196.569267   \n",
              "14578                            9.299606                      1204.866639   \n",
              "\n",
              "       ...  secondary_cleaner.output.tail_sol  final.output.concentrate_au  \\\n",
              "0      ...                           8.764648                    42.192020   \n",
              "1      ...                           9.001494                    42.701629   \n",
              "2      ...                           8.842896                    42.657501   \n",
              "3      ...                           9.122857                    42.689819   \n",
              "4      ...                           8.871028                    42.774141   \n",
              "...    ...                                ...                          ...   \n",
              "14574  ...                           0.000000                    47.765393   \n",
              "14575  ...                           0.000000                    46.956275   \n",
              "14576  ...                           0.000000                    46.713954   \n",
              "14577  ...                           0.000000                    46.866780   \n",
              "14578  ...                           0.000000                    46.795691   \n",
              "\n",
              "       final.output.concentrate_ag  final.output.concentrate_pb  \\\n",
              "0                         6.055403                     9.889648   \n",
              "1                         6.029369                     9.968944   \n",
              "2                         6.055926                    10.213995   \n",
              "3                         6.047977                     9.977019   \n",
              "4                         6.148599                    10.142511   \n",
              "...                            ...                          ...   \n",
              "14574                     2.925574                    10.855586   \n",
              "14575                     3.076566                    11.542302   \n",
              "14576                     3.224920                    11.356233   \n",
              "14577                     3.195978                    11.349355   \n",
              "14578                     3.109998                    11.434366   \n",
              "\n",
              "       final.output.concentrate_sol  final.output.recovery  \\\n",
              "0                          5.507324              70.541216   \n",
              "1                          5.257781              69.266198   \n",
              "2                          5.383759              68.116445   \n",
              "3                          4.858634              68.347543   \n",
              "4                          4.939416              66.927016   \n",
              "...                             ...                    ...   \n",
              "14574                      7.053796              64.054699   \n",
              "14575                      6.929418              68.643324   \n",
              "14576                      6.803482              73.755150   \n",
              "14577                      6.862249              69.049291   \n",
              "14578                      6.886013              67.002189   \n",
              "\n",
              "       final.output.tail_au  final.output.tail_ag  final.output.tail_pb  \\\n",
              "0                  2.143149             10.411962              0.895447   \n",
              "1                  2.224930             10.462676              0.927452   \n",
              "2                  2.257889             10.507046              0.953716   \n",
              "3                  2.146849             10.422762              0.883763   \n",
              "4                  2.055292             10.360302              0.792826   \n",
              "...                     ...                   ...                   ...   \n",
              "14574              1.761994              8.578502              3.365823   \n",
              "14575              1.567363              8.792890              3.120351   \n",
              "14576              1.529220              8.769645              3.141541   \n",
              "14577              1.612542              8.897321              3.130493   \n",
              "14578              1.596616              8.529606              2.911418   \n",
              "\n",
              "       final.output.tail_sol  \n",
              "0                  16.904297  \n",
              "1                  16.634514  \n",
              "2                  16.208849  \n",
              "3                  16.532835  \n",
              "4                  16.525686  \n",
              "...                      ...  \n",
              "14574              10.603464  \n",
              "14575              10.184715  \n",
              "14576              10.403181  \n",
              "14577              10.549470  \n",
              "14578              11.115147  \n",
              "\n",
              "[14579 rows x 87 columns]"
            ]
          },
          "execution_count": 44,
          "metadata": {},
          "output_type": "execute_result"
        }
      ],
      "source": [
        "data_train = pd.read_csv('/datasets/gold_industry_train.csv')\n",
        "data_train"
      ]
    },
    {
      "cell_type": "code",
      "execution_count": null,
      "metadata": {
        "scrolled": true,
        "id": "plGq7YQyvc03",
        "outputId": "66f821d0-db45-438d-c888-2e8d3f0a6a42"
      },
      "outputs": [
        {
          "name": "stdout",
          "output_type": "stream",
          "text": [
            "<class 'pandas.core.frame.DataFrame'>\n",
            "RangeIndex: 14579 entries, 0 to 14578\n",
            "Data columns (total 87 columns):\n",
            " #   Column                                              Non-Null Count  Dtype  \n",
            "---  ------                                              --------------  -----  \n",
            " 0   date                                                14579 non-null  object \n",
            " 1   rougher.input.feed_au                               14579 non-null  float64\n",
            " 2   rougher.input.feed_ag                               14579 non-null  float64\n",
            " 3   rougher.input.feed_pb                               14507 non-null  float64\n",
            " 4   rougher.input.feed_sol                              14502 non-null  float64\n",
            " 5   rougher.input.feed_rate                             14572 non-null  float64\n",
            " 6   rougher.input.feed_size                             14478 non-null  float64\n",
            " 7   rougher.input.floatbank10_sulfate                   14548 non-null  float64\n",
            " 8   rougher.input.floatbank10_xanthate                  14572 non-null  float64\n",
            " 9   rougher.state.floatbank10_a_air                     14579 non-null  float64\n",
            " 10  rougher.state.floatbank10_a_level                   14579 non-null  float64\n",
            " 11  rougher.state.floatbank10_b_air                     14579 non-null  float64\n",
            " 12  rougher.state.floatbank10_b_level                   14579 non-null  float64\n",
            " 13  rougher.state.floatbank10_c_air                     14579 non-null  float64\n",
            " 14  rougher.state.floatbank10_c_level                   14579 non-null  float64\n",
            " 15  rougher.state.floatbank10_d_air                     14579 non-null  float64\n",
            " 16  rougher.state.floatbank10_d_level                   14579 non-null  float64\n",
            " 17  rougher.state.floatbank10_e_air                     14150 non-null  float64\n",
            " 18  rougher.state.floatbank10_e_level                   14579 non-null  float64\n",
            " 19  rougher.state.floatbank10_f_air                     14579 non-null  float64\n",
            " 20  rougher.state.floatbank10_f_level                   14579 non-null  float64\n",
            " 21  rougher.input.floatbank11_sulfate                   14543 non-null  float64\n",
            " 22  rougher.input.floatbank11_xanthate                  14172 non-null  float64\n",
            " 23  rougher.calculation.sulfate_to_au_concentrate       14578 non-null  float64\n",
            " 24  rougher.calculation.floatbank10_sulfate_to_au_feed  14578 non-null  float64\n",
            " 25  rougher.calculation.floatbank11_sulfate_to_au_feed  14578 non-null  float64\n",
            " 26  rougher.calculation.au_pb_ratio                     14579 non-null  float64\n",
            " 27  rougher.output.concentrate_au                       14579 non-null  float64\n",
            " 28  rougher.output.concentrate_ag                       14579 non-null  float64\n",
            " 29  rougher.output.concentrate_pb                       14579 non-null  float64\n",
            " 30  rougher.output.concentrate_sol                      14561 non-null  float64\n",
            " 31  rougher.output.recovery                             14579 non-null  float64\n",
            " 32  rougher.output.tail_au                              14579 non-null  float64\n",
            " 33  rougher.output.tail_ag                              14578 non-null  float64\n",
            " 34  rougher.output.tail_pb                              14579 non-null  float64\n",
            " 35  rougher.output.tail_sol                             14579 non-null  float64\n",
            " 36  primary_cleaner.input.sulfate                       14556 non-null  float64\n",
            " 37  primary_cleaner.input.depressant                    14551 non-null  float64\n",
            " 38  primary_cleaner.input.feed_size                     14579 non-null  float64\n",
            " 39  primary_cleaner.input.xanthate                      14518 non-null  float64\n",
            " 40  primary_cleaner.state.floatbank8_a_air              14576 non-null  float64\n",
            " 41  primary_cleaner.state.floatbank8_a_level            14579 non-null  float64\n",
            " 42  primary_cleaner.state.floatbank8_b_air              14576 non-null  float64\n",
            " 43  primary_cleaner.state.floatbank8_b_level            14579 non-null  float64\n",
            " 44  primary_cleaner.state.floatbank8_c_air              14579 non-null  float64\n",
            " 45  primary_cleaner.state.floatbank8_c_level            14579 non-null  float64\n",
            " 46  primary_cleaner.state.floatbank8_d_air              14578 non-null  float64\n",
            " 47  primary_cleaner.state.floatbank8_d_level            14579 non-null  float64\n",
            " 48  primary_cleaner.output.concentrate_au               14579 non-null  float64\n",
            " 49  primary_cleaner.output.concentrate_ag               14579 non-null  float64\n",
            " 50  primary_cleaner.output.concentrate_pb               14491 non-null  float64\n",
            " 51  primary_cleaner.output.concentrate_sol              14314 non-null  float64\n",
            " 52  primary_cleaner.output.tail_au                      14579 non-null  float64\n",
            " 53  primary_cleaner.output.tail_ag                      14575 non-null  float64\n",
            " 54  primary_cleaner.output.tail_pb                      14573 non-null  float64\n",
            " 55  primary_cleaner.output.tail_sol                     14534 non-null  float64\n",
            " 56  secondary_cleaner.state.floatbank2_a_air            14485 non-null  float64\n",
            " 57  secondary_cleaner.state.floatbank2_a_level          14579 non-null  float64\n",
            " 58  secondary_cleaner.state.floatbank2_b_air            14557 non-null  float64\n",
            " 59  secondary_cleaner.state.floatbank2_b_level          14579 non-null  float64\n",
            " 60  secondary_cleaner.state.floatbank3_a_air            14567 non-null  float64\n",
            " 61  secondary_cleaner.state.floatbank3_a_level          14579 non-null  float64\n",
            " 62  secondary_cleaner.state.floatbank3_b_air            14579 non-null  float64\n",
            " 63  secondary_cleaner.state.floatbank3_b_level          14579 non-null  float64\n",
            " 64  secondary_cleaner.state.floatbank4_a_air            14574 non-null  float64\n",
            " 65  secondary_cleaner.state.floatbank4_a_level          14579 non-null  float64\n",
            " 66  secondary_cleaner.state.floatbank4_b_air            14579 non-null  float64\n",
            " 67  secondary_cleaner.state.floatbank4_b_level          14579 non-null  float64\n",
            " 68  secondary_cleaner.state.floatbank5_a_air            14579 non-null  float64\n",
            " 69  secondary_cleaner.state.floatbank5_a_level          14579 non-null  float64\n",
            " 70  secondary_cleaner.state.floatbank5_b_air            14579 non-null  float64\n",
            " 71  secondary_cleaner.state.floatbank5_b_level          14579 non-null  float64\n",
            " 72  secondary_cleaner.state.floatbank6_a_air            14578 non-null  float64\n",
            " 73  secondary_cleaner.state.floatbank6_a_level          14579 non-null  float64\n",
            " 74  secondary_cleaner.output.tail_au                    14579 non-null  float64\n",
            " 75  secondary_cleaner.output.tail_ag                    14578 non-null  float64\n",
            " 76  secondary_cleaner.output.tail_pb                    14575 non-null  float64\n",
            " 77  secondary_cleaner.output.tail_sol                   13659 non-null  float64\n",
            " 78  final.output.concentrate_au                         14579 non-null  float64\n",
            " 79  final.output.concentrate_ag                         14578 non-null  float64\n",
            " 80  final.output.concentrate_pb                         14578 non-null  float64\n",
            " 81  final.output.concentrate_sol                        14387 non-null  float64\n",
            " 82  final.output.recovery                               14579 non-null  float64\n",
            " 83  final.output.tail_au                                14579 non-null  float64\n",
            " 84  final.output.tail_ag                                14578 non-null  float64\n",
            " 85  final.output.tail_pb                                14504 non-null  float64\n",
            " 86  final.output.tail_sol                               14574 non-null  float64\n",
            "dtypes: float64(86), object(1)\n",
            "memory usage: 9.7+ MB\n"
          ]
        }
      ],
      "source": [
        "data_train.info()"
      ]
    },
    {
      "cell_type": "markdown",
      "metadata": {
        "id": "0AKNKGOIvc03"
      },
      "source": [
        "Данные имеют 86 признаков, в некотрых из них присутствуют пропуски. В признаке дата - тип object, предлагаю сразу изменить его на date."
      ]
    },
    {
      "cell_type": "code",
      "execution_count": null,
      "metadata": {
        "id": "M2wZwEXWvc04"
      },
      "outputs": [],
      "source": [
        "data_train['date'] = pd.to_datetime(data_train['date'])"
      ]
    },
    {
      "cell_type": "markdown",
      "metadata": {
        "id": "9Ejr1uuHvc04"
      },
      "source": [
        "Прочитаем тестовый датасет и выведем общую информацию."
      ]
    },
    {
      "cell_type": "code",
      "execution_count": null,
      "metadata": {
        "scrolled": true,
        "id": "BPHXS55Fvc04",
        "outputId": "e29e2f1b-67e4-46df-fab4-486354383c80"
      },
      "outputs": [
        {
          "data": {
            "text/html": [
              "<div>\n",
              "<style scoped>\n",
              "    .dataframe tbody tr th:only-of-type {\n",
              "        vertical-align: middle;\n",
              "    }\n",
              "\n",
              "    .dataframe tbody tr th {\n",
              "        vertical-align: top;\n",
              "    }\n",
              "\n",
              "    .dataframe thead th {\n",
              "        text-align: right;\n",
              "    }\n",
              "</style>\n",
              "<table border=\"1\" class=\"dataframe\">\n",
              "  <thead>\n",
              "    <tr style=\"text-align: right;\">\n",
              "      <th></th>\n",
              "      <th>date</th>\n",
              "      <th>rougher.input.feed_au</th>\n",
              "      <th>rougher.input.feed_ag</th>\n",
              "      <th>rougher.input.feed_pb</th>\n",
              "      <th>rougher.input.feed_sol</th>\n",
              "      <th>rougher.input.feed_rate</th>\n",
              "      <th>rougher.input.feed_size</th>\n",
              "      <th>rougher.input.floatbank10_sulfate</th>\n",
              "      <th>rougher.input.floatbank10_xanthate</th>\n",
              "      <th>rougher.state.floatbank10_a_air</th>\n",
              "      <th>...</th>\n",
              "      <th>secondary_cleaner.state.floatbank4_a_air</th>\n",
              "      <th>secondary_cleaner.state.floatbank4_a_level</th>\n",
              "      <th>secondary_cleaner.state.floatbank4_b_air</th>\n",
              "      <th>secondary_cleaner.state.floatbank4_b_level</th>\n",
              "      <th>secondary_cleaner.state.floatbank5_a_air</th>\n",
              "      <th>secondary_cleaner.state.floatbank5_a_level</th>\n",
              "      <th>secondary_cleaner.state.floatbank5_b_air</th>\n",
              "      <th>secondary_cleaner.state.floatbank5_b_level</th>\n",
              "      <th>secondary_cleaner.state.floatbank6_a_air</th>\n",
              "      <th>secondary_cleaner.state.floatbank6_a_level</th>\n",
              "    </tr>\n",
              "  </thead>\n",
              "  <tbody>\n",
              "    <tr>\n",
              "      <th>0</th>\n",
              "      <td>2017-12-09 14:59:59</td>\n",
              "      <td>4.365491</td>\n",
              "      <td>6.158718</td>\n",
              "      <td>3.875727</td>\n",
              "      <td>39.135119</td>\n",
              "      <td>555.820208</td>\n",
              "      <td>94.544358</td>\n",
              "      <td>6.146982</td>\n",
              "      <td>9.308612</td>\n",
              "      <td>1196.238112</td>\n",
              "      <td>...</td>\n",
              "      <td>23.018622</td>\n",
              "      <td>-500.492702</td>\n",
              "      <td>20.020205</td>\n",
              "      <td>-500.220296</td>\n",
              "      <td>17.963512</td>\n",
              "      <td>-499.939490</td>\n",
              "      <td>12.990306</td>\n",
              "      <td>-500.080993</td>\n",
              "      <td>19.990336</td>\n",
              "      <td>-499.191575</td>\n",
              "    </tr>\n",
              "    <tr>\n",
              "      <th>1</th>\n",
              "      <td>2017-12-09 15:59:59</td>\n",
              "      <td>4.362781</td>\n",
              "      <td>6.048130</td>\n",
              "      <td>3.902537</td>\n",
              "      <td>39.713906</td>\n",
              "      <td>544.731687</td>\n",
              "      <td>123.742430</td>\n",
              "      <td>6.210119</td>\n",
              "      <td>9.297709</td>\n",
              "      <td>1201.904177</td>\n",
              "      <td>...</td>\n",
              "      <td>23.024963</td>\n",
              "      <td>-501.153409</td>\n",
              "      <td>20.054122</td>\n",
              "      <td>-500.314711</td>\n",
              "      <td>17.979515</td>\n",
              "      <td>-499.272871</td>\n",
              "      <td>12.992404</td>\n",
              "      <td>-499.976268</td>\n",
              "      <td>20.013986</td>\n",
              "      <td>-500.625471</td>\n",
              "    </tr>\n",
              "    <tr>\n",
              "      <th>2</th>\n",
              "      <td>2017-12-09 16:59:59</td>\n",
              "      <td>5.081681</td>\n",
              "      <td>6.082745</td>\n",
              "      <td>4.564078</td>\n",
              "      <td>37.208683</td>\n",
              "      <td>558.155110</td>\n",
              "      <td>82.610855</td>\n",
              "      <td>7.363824</td>\n",
              "      <td>9.003562</td>\n",
              "      <td>1200.826926</td>\n",
              "      <td>...</td>\n",
              "      <td>22.993827</td>\n",
              "      <td>-501.559663</td>\n",
              "      <td>20.029144</td>\n",
              "      <td>-500.000662</td>\n",
              "      <td>18.012723</td>\n",
              "      <td>-500.024764</td>\n",
              "      <td>13.016445</td>\n",
              "      <td>-500.058432</td>\n",
              "      <td>19.973767</td>\n",
              "      <td>-501.394155</td>\n",
              "    </tr>\n",
              "    <tr>\n",
              "      <th>3</th>\n",
              "      <td>2017-12-09 17:59:59</td>\n",
              "      <td>5.145949</td>\n",
              "      <td>6.084374</td>\n",
              "      <td>4.768124</td>\n",
              "      <td>36.808874</td>\n",
              "      <td>539.713765</td>\n",
              "      <td>77.984784</td>\n",
              "      <td>6.927072</td>\n",
              "      <td>8.955597</td>\n",
              "      <td>1199.292489</td>\n",
              "      <td>...</td>\n",
              "      <td>23.032807</td>\n",
              "      <td>-501.287889</td>\n",
              "      <td>19.977466</td>\n",
              "      <td>-500.159903</td>\n",
              "      <td>17.980463</td>\n",
              "      <td>-500.504602</td>\n",
              "      <td>12.949071</td>\n",
              "      <td>-500.009937</td>\n",
              "      <td>20.010332</td>\n",
              "      <td>-508.337973</td>\n",
              "    </tr>\n",
              "    <tr>\n",
              "      <th>4</th>\n",
              "      <td>2017-12-09 18:59:59</td>\n",
              "      <td>5.735249</td>\n",
              "      <td>6.165220</td>\n",
              "      <td>4.512346</td>\n",
              "      <td>37.810642</td>\n",
              "      <td>558.713584</td>\n",
              "      <td>86.434874</td>\n",
              "      <td>7.823471</td>\n",
              "      <td>7.490356</td>\n",
              "      <td>1198.005449</td>\n",
              "      <td>...</td>\n",
              "      <td>23.001911</td>\n",
              "      <td>-499.947838</td>\n",
              "      <td>20.023735</td>\n",
              "      <td>-499.713680</td>\n",
              "      <td>17.990955</td>\n",
              "      <td>-500.334769</td>\n",
              "      <td>13.007523</td>\n",
              "      <td>-499.968459</td>\n",
              "      <td>19.995999</td>\n",
              "      <td>-499.788805</td>\n",
              "    </tr>\n",
              "    <tr>\n",
              "      <th>...</th>\n",
              "      <td>...</td>\n",
              "      <td>...</td>\n",
              "      <td>...</td>\n",
              "      <td>...</td>\n",
              "      <td>...</td>\n",
              "      <td>...</td>\n",
              "      <td>...</td>\n",
              "      <td>...</td>\n",
              "      <td>...</td>\n",
              "      <td>...</td>\n",
              "      <td>...</td>\n",
              "      <td>...</td>\n",
              "      <td>...</td>\n",
              "      <td>...</td>\n",
              "      <td>...</td>\n",
              "      <td>...</td>\n",
              "      <td>...</td>\n",
              "      <td>...</td>\n",
              "      <td>...</td>\n",
              "      <td>...</td>\n",
              "      <td>...</td>\n",
              "    </tr>\n",
              "    <tr>\n",
              "      <th>4855</th>\n",
              "      <td>2018-08-18 06:59:59</td>\n",
              "      <td>6.620245</td>\n",
              "      <td>5.992592</td>\n",
              "      <td>2.589242</td>\n",
              "      <td>39.934641</td>\n",
              "      <td>578.654582</td>\n",
              "      <td>63.473450</td>\n",
              "      <td>14.688804</td>\n",
              "      <td>6.898599</td>\n",
              "      <td>999.688257</td>\n",
              "      <td>...</td>\n",
              "      <td>14.003057</td>\n",
              "      <td>-503.152258</td>\n",
              "      <td>12.016724</td>\n",
              "      <td>-501.136446</td>\n",
              "      <td>10.041864</td>\n",
              "      <td>-499.338844</td>\n",
              "      <td>8.007022</td>\n",
              "      <td>-500.279583</td>\n",
              "      <td>14.001271</td>\n",
              "      <td>-602.072365</td>\n",
              "    </tr>\n",
              "    <tr>\n",
              "      <th>4856</th>\n",
              "      <td>2018-08-18 07:59:59</td>\n",
              "      <td>6.741324</td>\n",
              "      <td>6.158617</td>\n",
              "      <td>2.647185</td>\n",
              "      <td>40.176307</td>\n",
              "      <td>571.622005</td>\n",
              "      <td>62.815291</td>\n",
              "      <td>14.892720</td>\n",
              "      <td>6.903204</td>\n",
              "      <td>1000.479783</td>\n",
              "      <td>...</td>\n",
              "      <td>14.031220</td>\n",
              "      <td>-503.471307</td>\n",
              "      <td>11.966426</td>\n",
              "      <td>-500.656842</td>\n",
              "      <td>10.051620</td>\n",
              "      <td>-498.318772</td>\n",
              "      <td>8.018091</td>\n",
              "      <td>-499.696138</td>\n",
              "      <td>13.958937</td>\n",
              "      <td>-599.213013</td>\n",
              "    </tr>\n",
              "    <tr>\n",
              "      <th>4857</th>\n",
              "      <td>2018-08-18 08:59:59</td>\n",
              "      <td>6.627458</td>\n",
              "      <td>6.015149</td>\n",
              "      <td>2.466127</td>\n",
              "      <td>39.841423</td>\n",
              "      <td>563.733146</td>\n",
              "      <td>61.287347</td>\n",
              "      <td>13.723692</td>\n",
              "      <td>6.700148</td>\n",
              "      <td>1000.014718</td>\n",
              "      <td>...</td>\n",
              "      <td>13.996317</td>\n",
              "      <td>-502.995300</td>\n",
              "      <td>11.980055</td>\n",
              "      <td>-500.607751</td>\n",
              "      <td>9.964501</td>\n",
              "      <td>-499.261719</td>\n",
              "      <td>8.065048</td>\n",
              "      <td>-499.492395</td>\n",
              "      <td>13.997801</td>\n",
              "      <td>-600.621416</td>\n",
              "    </tr>\n",
              "    <tr>\n",
              "      <th>4858</th>\n",
              "      <td>2018-08-18 09:59:59</td>\n",
              "      <td>6.702243</td>\n",
              "      <td>6.097592</td>\n",
              "      <td>2.278955</td>\n",
              "      <td>37.728375</td>\n",
              "      <td>549.812490</td>\n",
              "      <td>59.637037</td>\n",
              "      <td>13.746510</td>\n",
              "      <td>6.706417</td>\n",
              "      <td>999.635748</td>\n",
              "      <td>...</td>\n",
              "      <td>13.983963</td>\n",
              "      <td>-503.675714</td>\n",
              "      <td>11.928745</td>\n",
              "      <td>-500.583183</td>\n",
              "      <td>9.970359</td>\n",
              "      <td>-498.822343</td>\n",
              "      <td>8.016377</td>\n",
              "      <td>-499.013145</td>\n",
              "      <td>14.000032</td>\n",
              "      <td>-600.024741</td>\n",
              "    </tr>\n",
              "    <tr>\n",
              "      <th>4859</th>\n",
              "      <td>2018-08-18 10:59:59</td>\n",
              "      <td>6.633002</td>\n",
              "      <td>5.908793</td>\n",
              "      <td>2.440899</td>\n",
              "      <td>36.958540</td>\n",
              "      <td>573.076049</td>\n",
              "      <td>58.509262</td>\n",
              "      <td>13.707775</td>\n",
              "      <td>6.820245</td>\n",
              "      <td>1000.589156</td>\n",
              "      <td>...</td>\n",
              "      <td>13.989632</td>\n",
              "      <td>-503.195299</td>\n",
              "      <td>12.052233</td>\n",
              "      <td>-500.928547</td>\n",
              "      <td>9.962574</td>\n",
              "      <td>-502.986357</td>\n",
              "      <td>7.979219</td>\n",
              "      <td>-500.146835</td>\n",
              "      <td>13.981614</td>\n",
              "      <td>-598.070855</td>\n",
              "    </tr>\n",
              "  </tbody>\n",
              "</table>\n",
              "<p>4860 rows × 53 columns</p>\n",
              "</div>"
            ],
            "text/plain": [
              "                     date  rougher.input.feed_au  rougher.input.feed_ag  \\\n",
              "0     2017-12-09 14:59:59               4.365491               6.158718   \n",
              "1     2017-12-09 15:59:59               4.362781               6.048130   \n",
              "2     2017-12-09 16:59:59               5.081681               6.082745   \n",
              "3     2017-12-09 17:59:59               5.145949               6.084374   \n",
              "4     2017-12-09 18:59:59               5.735249               6.165220   \n",
              "...                   ...                    ...                    ...   \n",
              "4855  2018-08-18 06:59:59               6.620245               5.992592   \n",
              "4856  2018-08-18 07:59:59               6.741324               6.158617   \n",
              "4857  2018-08-18 08:59:59               6.627458               6.015149   \n",
              "4858  2018-08-18 09:59:59               6.702243               6.097592   \n",
              "4859  2018-08-18 10:59:59               6.633002               5.908793   \n",
              "\n",
              "      rougher.input.feed_pb  rougher.input.feed_sol  rougher.input.feed_rate  \\\n",
              "0                  3.875727               39.135119               555.820208   \n",
              "1                  3.902537               39.713906               544.731687   \n",
              "2                  4.564078               37.208683               558.155110   \n",
              "3                  4.768124               36.808874               539.713765   \n",
              "4                  4.512346               37.810642               558.713584   \n",
              "...                     ...                     ...                      ...   \n",
              "4855               2.589242               39.934641               578.654582   \n",
              "4856               2.647185               40.176307               571.622005   \n",
              "4857               2.466127               39.841423               563.733146   \n",
              "4858               2.278955               37.728375               549.812490   \n",
              "4859               2.440899               36.958540               573.076049   \n",
              "\n",
              "      rougher.input.feed_size  rougher.input.floatbank10_sulfate  \\\n",
              "0                   94.544358                           6.146982   \n",
              "1                  123.742430                           6.210119   \n",
              "2                   82.610855                           7.363824   \n",
              "3                   77.984784                           6.927072   \n",
              "4                   86.434874                           7.823471   \n",
              "...                       ...                                ...   \n",
              "4855                63.473450                          14.688804   \n",
              "4856                62.815291                          14.892720   \n",
              "4857                61.287347                          13.723692   \n",
              "4858                59.637037                          13.746510   \n",
              "4859                58.509262                          13.707775   \n",
              "\n",
              "      rougher.input.floatbank10_xanthate  rougher.state.floatbank10_a_air  \\\n",
              "0                               9.308612                      1196.238112   \n",
              "1                               9.297709                      1201.904177   \n",
              "2                               9.003562                      1200.826926   \n",
              "3                               8.955597                      1199.292489   \n",
              "4                               7.490356                      1198.005449   \n",
              "...                                  ...                              ...   \n",
              "4855                            6.898599                       999.688257   \n",
              "4856                            6.903204                      1000.479783   \n",
              "4857                            6.700148                      1000.014718   \n",
              "4858                            6.706417                       999.635748   \n",
              "4859                            6.820245                      1000.589156   \n",
              "\n",
              "      ...  secondary_cleaner.state.floatbank4_a_air  \\\n",
              "0     ...                                 23.018622   \n",
              "1     ...                                 23.024963   \n",
              "2     ...                                 22.993827   \n",
              "3     ...                                 23.032807   \n",
              "4     ...                                 23.001911   \n",
              "...   ...                                       ...   \n",
              "4855  ...                                 14.003057   \n",
              "4856  ...                                 14.031220   \n",
              "4857  ...                                 13.996317   \n",
              "4858  ...                                 13.983963   \n",
              "4859  ...                                 13.989632   \n",
              "\n",
              "      secondary_cleaner.state.floatbank4_a_level  \\\n",
              "0                                    -500.492702   \n",
              "1                                    -501.153409   \n",
              "2                                    -501.559663   \n",
              "3                                    -501.287889   \n",
              "4                                    -499.947838   \n",
              "...                                          ...   \n",
              "4855                                 -503.152258   \n",
              "4856                                 -503.471307   \n",
              "4857                                 -502.995300   \n",
              "4858                                 -503.675714   \n",
              "4859                                 -503.195299   \n",
              "\n",
              "      secondary_cleaner.state.floatbank4_b_air  \\\n",
              "0                                    20.020205   \n",
              "1                                    20.054122   \n",
              "2                                    20.029144   \n",
              "3                                    19.977466   \n",
              "4                                    20.023735   \n",
              "...                                        ...   \n",
              "4855                                 12.016724   \n",
              "4856                                 11.966426   \n",
              "4857                                 11.980055   \n",
              "4858                                 11.928745   \n",
              "4859                                 12.052233   \n",
              "\n",
              "      secondary_cleaner.state.floatbank4_b_level  \\\n",
              "0                                    -500.220296   \n",
              "1                                    -500.314711   \n",
              "2                                    -500.000662   \n",
              "3                                    -500.159903   \n",
              "4                                    -499.713680   \n",
              "...                                          ...   \n",
              "4855                                 -501.136446   \n",
              "4856                                 -500.656842   \n",
              "4857                                 -500.607751   \n",
              "4858                                 -500.583183   \n",
              "4859                                 -500.928547   \n",
              "\n",
              "      secondary_cleaner.state.floatbank5_a_air  \\\n",
              "0                                    17.963512   \n",
              "1                                    17.979515   \n",
              "2                                    18.012723   \n",
              "3                                    17.980463   \n",
              "4                                    17.990955   \n",
              "...                                        ...   \n",
              "4855                                 10.041864   \n",
              "4856                                 10.051620   \n",
              "4857                                  9.964501   \n",
              "4858                                  9.970359   \n",
              "4859                                  9.962574   \n",
              "\n",
              "      secondary_cleaner.state.floatbank5_a_level  \\\n",
              "0                                    -499.939490   \n",
              "1                                    -499.272871   \n",
              "2                                    -500.024764   \n",
              "3                                    -500.504602   \n",
              "4                                    -500.334769   \n",
              "...                                          ...   \n",
              "4855                                 -499.338844   \n",
              "4856                                 -498.318772   \n",
              "4857                                 -499.261719   \n",
              "4858                                 -498.822343   \n",
              "4859                                 -502.986357   \n",
              "\n",
              "      secondary_cleaner.state.floatbank5_b_air  \\\n",
              "0                                    12.990306   \n",
              "1                                    12.992404   \n",
              "2                                    13.016445   \n",
              "3                                    12.949071   \n",
              "4                                    13.007523   \n",
              "...                                        ...   \n",
              "4855                                  8.007022   \n",
              "4856                                  8.018091   \n",
              "4857                                  8.065048   \n",
              "4858                                  8.016377   \n",
              "4859                                  7.979219   \n",
              "\n",
              "      secondary_cleaner.state.floatbank5_b_level  \\\n",
              "0                                    -500.080993   \n",
              "1                                    -499.976268   \n",
              "2                                    -500.058432   \n",
              "3                                    -500.009937   \n",
              "4                                    -499.968459   \n",
              "...                                          ...   \n",
              "4855                                 -500.279583   \n",
              "4856                                 -499.696138   \n",
              "4857                                 -499.492395   \n",
              "4858                                 -499.013145   \n",
              "4859                                 -500.146835   \n",
              "\n",
              "      secondary_cleaner.state.floatbank6_a_air  \\\n",
              "0                                    19.990336   \n",
              "1                                    20.013986   \n",
              "2                                    19.973767   \n",
              "3                                    20.010332   \n",
              "4                                    19.995999   \n",
              "...                                        ...   \n",
              "4855                                 14.001271   \n",
              "4856                                 13.958937   \n",
              "4857                                 13.997801   \n",
              "4858                                 14.000032   \n",
              "4859                                 13.981614   \n",
              "\n",
              "      secondary_cleaner.state.floatbank6_a_level  \n",
              "0                                    -499.191575  \n",
              "1                                    -500.625471  \n",
              "2                                    -501.394155  \n",
              "3                                    -508.337973  \n",
              "4                                    -499.788805  \n",
              "...                                          ...  \n",
              "4855                                 -602.072365  \n",
              "4856                                 -599.213013  \n",
              "4857                                 -600.621416  \n",
              "4858                                 -600.024741  \n",
              "4859                                 -598.070855  \n",
              "\n",
              "[4860 rows x 53 columns]"
            ]
          },
          "execution_count": 47,
          "metadata": {},
          "output_type": "execute_result"
        }
      ],
      "source": [
        "data_test=pd.read_csv('/datasets/gold_industry_test.csv')\n",
        "data_test"
      ]
    },
    {
      "cell_type": "code",
      "execution_count": null,
      "metadata": {
        "scrolled": true,
        "id": "mrgJwzDxvc05",
        "outputId": "896dd733-58b3-484b-b2a1-6a884e14ea0e"
      },
      "outputs": [
        {
          "name": "stdout",
          "output_type": "stream",
          "text": [
            "<class 'pandas.core.frame.DataFrame'>\n",
            "RangeIndex: 4860 entries, 0 to 4859\n",
            "Data columns (total 53 columns):\n",
            " #   Column                                      Non-Null Count  Dtype  \n",
            "---  ------                                      --------------  -----  \n",
            " 0   date                                        4860 non-null   object \n",
            " 1   rougher.input.feed_au                       4860 non-null   float64\n",
            " 2   rougher.input.feed_ag                       4860 non-null   float64\n",
            " 3   rougher.input.feed_pb                       4832 non-null   float64\n",
            " 4   rougher.input.feed_sol                      4838 non-null   float64\n",
            " 5   rougher.input.feed_rate                     4856 non-null   float64\n",
            " 6   rougher.input.feed_size                     4816 non-null   float64\n",
            " 7   rougher.input.floatbank10_sulfate           4857 non-null   float64\n",
            " 8   rougher.input.floatbank10_xanthate          4859 non-null   float64\n",
            " 9   rougher.state.floatbank10_a_air             4859 non-null   float64\n",
            " 10  rougher.state.floatbank10_a_level           4859 non-null   float64\n",
            " 11  rougher.state.floatbank10_b_air             4859 non-null   float64\n",
            " 12  rougher.state.floatbank10_b_level           4859 non-null   float64\n",
            " 13  rougher.state.floatbank10_c_air             4859 non-null   float64\n",
            " 14  rougher.state.floatbank10_c_level           4859 non-null   float64\n",
            " 15  rougher.state.floatbank10_d_air             4860 non-null   float64\n",
            " 16  rougher.state.floatbank10_d_level           4860 non-null   float64\n",
            " 17  rougher.state.floatbank10_e_air             4853 non-null   float64\n",
            " 18  rougher.state.floatbank10_e_level           4860 non-null   float64\n",
            " 19  rougher.state.floatbank10_f_air             4860 non-null   float64\n",
            " 20  rougher.state.floatbank10_f_level           4860 non-null   float64\n",
            " 21  rougher.input.floatbank11_sulfate           4852 non-null   float64\n",
            " 22  rougher.input.floatbank11_xanthate          4814 non-null   float64\n",
            " 23  primary_cleaner.input.sulfate               4859 non-null   float64\n",
            " 24  primary_cleaner.input.depressant            4851 non-null   float64\n",
            " 25  primary_cleaner.input.feed_size             4860 non-null   float64\n",
            " 26  primary_cleaner.input.xanthate              4817 non-null   float64\n",
            " 27  primary_cleaner.state.floatbank8_a_air      4859 non-null   float64\n",
            " 28  primary_cleaner.state.floatbank8_a_level    4859 non-null   float64\n",
            " 29  primary_cleaner.state.floatbank8_b_air      4859 non-null   float64\n",
            " 30  primary_cleaner.state.floatbank8_b_level    4859 non-null   float64\n",
            " 31  primary_cleaner.state.floatbank8_c_air      4858 non-null   float64\n",
            " 32  primary_cleaner.state.floatbank8_c_level    4859 non-null   float64\n",
            " 33  primary_cleaner.state.floatbank8_d_air      4858 non-null   float64\n",
            " 34  primary_cleaner.state.floatbank8_d_level    4859 non-null   float64\n",
            " 35  secondary_cleaner.state.floatbank2_a_air    4734 non-null   float64\n",
            " 36  secondary_cleaner.state.floatbank2_a_level  4859 non-null   float64\n",
            " 37  secondary_cleaner.state.floatbank2_b_air    4859 non-null   float64\n",
            " 38  secondary_cleaner.state.floatbank2_b_level  4859 non-null   float64\n",
            " 39  secondary_cleaner.state.floatbank3_a_air    4859 non-null   float64\n",
            " 40  secondary_cleaner.state.floatbank3_a_level  4859 non-null   float64\n",
            " 41  secondary_cleaner.state.floatbank3_b_air    4859 non-null   float64\n",
            " 42  secondary_cleaner.state.floatbank3_b_level  4859 non-null   float64\n",
            " 43  secondary_cleaner.state.floatbank4_a_air    4859 non-null   float64\n",
            " 44  secondary_cleaner.state.floatbank4_a_level  4859 non-null   float64\n",
            " 45  secondary_cleaner.state.floatbank4_b_air    4859 non-null   float64\n",
            " 46  secondary_cleaner.state.floatbank4_b_level  4859 non-null   float64\n",
            " 47  secondary_cleaner.state.floatbank5_a_air    4859 non-null   float64\n",
            " 48  secondary_cleaner.state.floatbank5_a_level  4859 non-null   float64\n",
            " 49  secondary_cleaner.state.floatbank5_b_air    4859 non-null   float64\n",
            " 50  secondary_cleaner.state.floatbank5_b_level  4859 non-null   float64\n",
            " 51  secondary_cleaner.state.floatbank6_a_air    4859 non-null   float64\n",
            " 52  secondary_cleaner.state.floatbank6_a_level  4859 non-null   float64\n",
            "dtypes: float64(52), object(1)\n",
            "memory usage: 2.0+ MB\n"
          ]
        }
      ],
      "source": [
        "data_test.info()"
      ]
    },
    {
      "cell_type": "markdown",
      "metadata": {
        "id": "HJ2P1oVNvc05"
      },
      "source": [
        "Признаков уже меньше - 52. Есть пропуски и тип данных в date снова неверен."
      ]
    },
    {
      "cell_type": "code",
      "execution_count": null,
      "metadata": {
        "id": "FVdz3mjLvc06"
      },
      "outputs": [],
      "source": [
        "data_test['date'] = pd.to_datetime(data_test['date'])"
      ]
    },
    {
      "cell_type": "markdown",
      "metadata": {
        "id": "sYw9ryt4vc06"
      },
      "source": [
        "Изучим полный датасет."
      ]
    },
    {
      "cell_type": "code",
      "execution_count": null,
      "metadata": {
        "scrolled": true,
        "id": "-YNTPcs1vc06",
        "outputId": "ac77ef2f-f64e-4cb8-a786-f599cf43dce4"
      },
      "outputs": [
        {
          "data": {
            "text/html": [
              "<div>\n",
              "<style scoped>\n",
              "    .dataframe tbody tr th:only-of-type {\n",
              "        vertical-align: middle;\n",
              "    }\n",
              "\n",
              "    .dataframe tbody tr th {\n",
              "        vertical-align: top;\n",
              "    }\n",
              "\n",
              "    .dataframe thead th {\n",
              "        text-align: right;\n",
              "    }\n",
              "</style>\n",
              "<table border=\"1\" class=\"dataframe\">\n",
              "  <thead>\n",
              "    <tr style=\"text-align: right;\">\n",
              "      <th></th>\n",
              "      <th>date</th>\n",
              "      <th>rougher.input.feed_au</th>\n",
              "      <th>rougher.input.feed_ag</th>\n",
              "      <th>rougher.input.feed_pb</th>\n",
              "      <th>rougher.input.feed_sol</th>\n",
              "      <th>rougher.input.feed_rate</th>\n",
              "      <th>rougher.input.feed_size</th>\n",
              "      <th>rougher.input.floatbank10_sulfate</th>\n",
              "      <th>rougher.input.floatbank10_xanthate</th>\n",
              "      <th>rougher.state.floatbank10_a_air</th>\n",
              "      <th>...</th>\n",
              "      <th>secondary_cleaner.output.tail_sol</th>\n",
              "      <th>final.output.concentrate_au</th>\n",
              "      <th>final.output.concentrate_ag</th>\n",
              "      <th>final.output.concentrate_pb</th>\n",
              "      <th>final.output.concentrate_sol</th>\n",
              "      <th>final.output.recovery</th>\n",
              "      <th>final.output.tail_au</th>\n",
              "      <th>final.output.tail_ag</th>\n",
              "      <th>final.output.tail_pb</th>\n",
              "      <th>final.output.tail_sol</th>\n",
              "    </tr>\n",
              "  </thead>\n",
              "  <tbody>\n",
              "    <tr>\n",
              "      <th>0</th>\n",
              "      <td>2016-01-15 00:00:00</td>\n",
              "      <td>6.486150</td>\n",
              "      <td>6.100378</td>\n",
              "      <td>2.284912</td>\n",
              "      <td>36.808594</td>\n",
              "      <td>523.546326</td>\n",
              "      <td>55.486599</td>\n",
              "      <td>11.986616</td>\n",
              "      <td>6.007990</td>\n",
              "      <td>999.706909</td>\n",
              "      <td>...</td>\n",
              "      <td>8.764648</td>\n",
              "      <td>42.192020</td>\n",
              "      <td>6.055403</td>\n",
              "      <td>9.889648</td>\n",
              "      <td>5.507324</td>\n",
              "      <td>70.541216</td>\n",
              "      <td>2.143149</td>\n",
              "      <td>10.411962</td>\n",
              "      <td>0.895447</td>\n",
              "      <td>16.904297</td>\n",
              "    </tr>\n",
              "    <tr>\n",
              "      <th>1</th>\n",
              "      <td>2016-01-15 01:00:00</td>\n",
              "      <td>6.478583</td>\n",
              "      <td>6.161113</td>\n",
              "      <td>2.266033</td>\n",
              "      <td>35.753385</td>\n",
              "      <td>525.290581</td>\n",
              "      <td>57.278666</td>\n",
              "      <td>11.971193</td>\n",
              "      <td>6.005766</td>\n",
              "      <td>1000.286398</td>\n",
              "      <td>...</td>\n",
              "      <td>9.001494</td>\n",
              "      <td>42.701629</td>\n",
              "      <td>6.029369</td>\n",
              "      <td>9.968944</td>\n",
              "      <td>5.257781</td>\n",
              "      <td>69.266198</td>\n",
              "      <td>2.224930</td>\n",
              "      <td>10.462676</td>\n",
              "      <td>0.927452</td>\n",
              "      <td>16.634514</td>\n",
              "    </tr>\n",
              "    <tr>\n",
              "      <th>2</th>\n",
              "      <td>2016-01-15 02:00:00</td>\n",
              "      <td>6.362222</td>\n",
              "      <td>6.116455</td>\n",
              "      <td>2.159622</td>\n",
              "      <td>35.971630</td>\n",
              "      <td>530.026610</td>\n",
              "      <td>57.510649</td>\n",
              "      <td>11.920603</td>\n",
              "      <td>6.197377</td>\n",
              "      <td>999.719565</td>\n",
              "      <td>...</td>\n",
              "      <td>8.842896</td>\n",
              "      <td>42.657501</td>\n",
              "      <td>6.055926</td>\n",
              "      <td>10.213995</td>\n",
              "      <td>5.383759</td>\n",
              "      <td>68.116445</td>\n",
              "      <td>2.257889</td>\n",
              "      <td>10.507046</td>\n",
              "      <td>0.953716</td>\n",
              "      <td>16.208849</td>\n",
              "    </tr>\n",
              "    <tr>\n",
              "      <th>3</th>\n",
              "      <td>2016-01-15 03:00:00</td>\n",
              "      <td>6.118189</td>\n",
              "      <td>6.043309</td>\n",
              "      <td>2.037807</td>\n",
              "      <td>36.862241</td>\n",
              "      <td>542.590390</td>\n",
              "      <td>57.792734</td>\n",
              "      <td>11.630094</td>\n",
              "      <td>6.203177</td>\n",
              "      <td>999.814770</td>\n",
              "      <td>...</td>\n",
              "      <td>9.122857</td>\n",
              "      <td>42.689819</td>\n",
              "      <td>6.047977</td>\n",
              "      <td>9.977019</td>\n",
              "      <td>4.858634</td>\n",
              "      <td>68.347543</td>\n",
              "      <td>2.146849</td>\n",
              "      <td>10.422762</td>\n",
              "      <td>0.883763</td>\n",
              "      <td>16.532835</td>\n",
              "    </tr>\n",
              "    <tr>\n",
              "      <th>4</th>\n",
              "      <td>2016-01-15 04:00:00</td>\n",
              "      <td>5.663707</td>\n",
              "      <td>6.060915</td>\n",
              "      <td>1.786875</td>\n",
              "      <td>34.347666</td>\n",
              "      <td>540.531893</td>\n",
              "      <td>56.047189</td>\n",
              "      <td>10.957755</td>\n",
              "      <td>6.198826</td>\n",
              "      <td>999.678690</td>\n",
              "      <td>...</td>\n",
              "      <td>8.871028</td>\n",
              "      <td>42.774141</td>\n",
              "      <td>6.148599</td>\n",
              "      <td>10.142511</td>\n",
              "      <td>4.939416</td>\n",
              "      <td>66.927016</td>\n",
              "      <td>2.055292</td>\n",
              "      <td>10.360302</td>\n",
              "      <td>0.792826</td>\n",
              "      <td>16.525686</td>\n",
              "    </tr>\n",
              "    <tr>\n",
              "      <th>...</th>\n",
              "      <td>...</td>\n",
              "      <td>...</td>\n",
              "      <td>...</td>\n",
              "      <td>...</td>\n",
              "      <td>...</td>\n",
              "      <td>...</td>\n",
              "      <td>...</td>\n",
              "      <td>...</td>\n",
              "      <td>...</td>\n",
              "      <td>...</td>\n",
              "      <td>...</td>\n",
              "      <td>...</td>\n",
              "      <td>...</td>\n",
              "      <td>...</td>\n",
              "      <td>...</td>\n",
              "      <td>...</td>\n",
              "      <td>...</td>\n",
              "      <td>...</td>\n",
              "      <td>...</td>\n",
              "      <td>...</td>\n",
              "      <td>...</td>\n",
              "    </tr>\n",
              "    <tr>\n",
              "      <th>19434</th>\n",
              "      <td>2018-08-18 06:59:59</td>\n",
              "      <td>6.620245</td>\n",
              "      <td>5.992592</td>\n",
              "      <td>2.589242</td>\n",
              "      <td>39.934641</td>\n",
              "      <td>578.654582</td>\n",
              "      <td>63.473450</td>\n",
              "      <td>14.688804</td>\n",
              "      <td>6.898599</td>\n",
              "      <td>999.688257</td>\n",
              "      <td>...</td>\n",
              "      <td>10.013738</td>\n",
              "      <td>42.435181</td>\n",
              "      <td>5.719113</td>\n",
              "      <td>10.621027</td>\n",
              "      <td>6.459561</td>\n",
              "      <td>68.786981</td>\n",
              "      <td>2.314786</td>\n",
              "      <td>10.286797</td>\n",
              "      <td>1.171459</td>\n",
              "      <td>19.131121</td>\n",
              "    </tr>\n",
              "    <tr>\n",
              "      <th>19435</th>\n",
              "      <td>2018-08-18 07:59:59</td>\n",
              "      <td>6.741324</td>\n",
              "      <td>6.158617</td>\n",
              "      <td>2.647185</td>\n",
              "      <td>40.176307</td>\n",
              "      <td>571.622005</td>\n",
              "      <td>62.815291</td>\n",
              "      <td>14.892720</td>\n",
              "      <td>6.903204</td>\n",
              "      <td>1000.479783</td>\n",
              "      <td>...</td>\n",
              "      <td>9.841210</td>\n",
              "      <td>43.440341</td>\n",
              "      <td>5.410126</td>\n",
              "      <td>10.868937</td>\n",
              "      <td>6.258693</td>\n",
              "      <td>67.839536</td>\n",
              "      <td>2.423143</td>\n",
              "      <td>10.382891</td>\n",
              "      <td>1.239738</td>\n",
              "      <td>18.544924</td>\n",
              "    </tr>\n",
              "    <tr>\n",
              "      <th>19436</th>\n",
              "      <td>2018-08-18 08:59:59</td>\n",
              "      <td>6.627458</td>\n",
              "      <td>6.015149</td>\n",
              "      <td>2.466127</td>\n",
              "      <td>39.841423</td>\n",
              "      <td>563.733146</td>\n",
              "      <td>61.287347</td>\n",
              "      <td>13.723692</td>\n",
              "      <td>6.700148</td>\n",
              "      <td>1000.014718</td>\n",
              "      <td>...</td>\n",
              "      <td>10.119344</td>\n",
              "      <td>44.284117</td>\n",
              "      <td>5.437716</td>\n",
              "      <td>9.781181</td>\n",
              "      <td>6.057627</td>\n",
              "      <td>70.847012</td>\n",
              "      <td>2.161256</td>\n",
              "      <td>10.324415</td>\n",
              "      <td>0.961210</td>\n",
              "      <td>18.185262</td>\n",
              "    </tr>\n",
              "    <tr>\n",
              "      <th>19437</th>\n",
              "      <td>2018-08-18 09:59:59</td>\n",
              "      <td>6.702243</td>\n",
              "      <td>6.097592</td>\n",
              "      <td>2.278955</td>\n",
              "      <td>37.728375</td>\n",
              "      <td>549.812490</td>\n",
              "      <td>59.637037</td>\n",
              "      <td>13.746510</td>\n",
              "      <td>6.706417</td>\n",
              "      <td>999.635748</td>\n",
              "      <td>...</td>\n",
              "      <td>9.876374</td>\n",
              "      <td>43.339714</td>\n",
              "      <td>5.664983</td>\n",
              "      <td>10.168953</td>\n",
              "      <td>5.484318</td>\n",
              "      <td>72.659046</td>\n",
              "      <td>2.064422</td>\n",
              "      <td>10.475957</td>\n",
              "      <td>1.050592</td>\n",
              "      <td>17.525656</td>\n",
              "    </tr>\n",
              "    <tr>\n",
              "      <th>19438</th>\n",
              "      <td>2018-08-18 10:59:59</td>\n",
              "      <td>6.633002</td>\n",
              "      <td>5.908793</td>\n",
              "      <td>2.440899</td>\n",
              "      <td>36.958540</td>\n",
              "      <td>573.076049</td>\n",
              "      <td>58.509262</td>\n",
              "      <td>13.707775</td>\n",
              "      <td>6.820245</td>\n",
              "      <td>1000.589156</td>\n",
              "      <td>...</td>\n",
              "      <td>9.813732</td>\n",
              "      <td>43.235220</td>\n",
              "      <td>5.687063</td>\n",
              "      <td>9.980404</td>\n",
              "      <td>5.282514</td>\n",
              "      <td>70.279619</td>\n",
              "      <td>2.209593</td>\n",
              "      <td>10.487013</td>\n",
              "      <td>1.159805</td>\n",
              "      <td>17.483979</td>\n",
              "    </tr>\n",
              "  </tbody>\n",
              "</table>\n",
              "<p>19439 rows × 87 columns</p>\n",
              "</div>"
            ],
            "text/plain": [
              "                      date  rougher.input.feed_au  rougher.input.feed_ag  \\\n",
              "0      2016-01-15 00:00:00               6.486150               6.100378   \n",
              "1      2016-01-15 01:00:00               6.478583               6.161113   \n",
              "2      2016-01-15 02:00:00               6.362222               6.116455   \n",
              "3      2016-01-15 03:00:00               6.118189               6.043309   \n",
              "4      2016-01-15 04:00:00               5.663707               6.060915   \n",
              "...                    ...                    ...                    ...   \n",
              "19434  2018-08-18 06:59:59               6.620245               5.992592   \n",
              "19435  2018-08-18 07:59:59               6.741324               6.158617   \n",
              "19436  2018-08-18 08:59:59               6.627458               6.015149   \n",
              "19437  2018-08-18 09:59:59               6.702243               6.097592   \n",
              "19438  2018-08-18 10:59:59               6.633002               5.908793   \n",
              "\n",
              "       rougher.input.feed_pb  rougher.input.feed_sol  rougher.input.feed_rate  \\\n",
              "0                   2.284912               36.808594               523.546326   \n",
              "1                   2.266033               35.753385               525.290581   \n",
              "2                   2.159622               35.971630               530.026610   \n",
              "3                   2.037807               36.862241               542.590390   \n",
              "4                   1.786875               34.347666               540.531893   \n",
              "...                      ...                     ...                      ...   \n",
              "19434               2.589242               39.934641               578.654582   \n",
              "19435               2.647185               40.176307               571.622005   \n",
              "19436               2.466127               39.841423               563.733146   \n",
              "19437               2.278955               37.728375               549.812490   \n",
              "19438               2.440899               36.958540               573.076049   \n",
              "\n",
              "       rougher.input.feed_size  rougher.input.floatbank10_sulfate  \\\n",
              "0                    55.486599                          11.986616   \n",
              "1                    57.278666                          11.971193   \n",
              "2                    57.510649                          11.920603   \n",
              "3                    57.792734                          11.630094   \n",
              "4                    56.047189                          10.957755   \n",
              "...                        ...                                ...   \n",
              "19434                63.473450                          14.688804   \n",
              "19435                62.815291                          14.892720   \n",
              "19436                61.287347                          13.723692   \n",
              "19437                59.637037                          13.746510   \n",
              "19438                58.509262                          13.707775   \n",
              "\n",
              "       rougher.input.floatbank10_xanthate  rougher.state.floatbank10_a_air  \\\n",
              "0                                6.007990                       999.706909   \n",
              "1                                6.005766                      1000.286398   \n",
              "2                                6.197377                       999.719565   \n",
              "3                                6.203177                       999.814770   \n",
              "4                                6.198826                       999.678690   \n",
              "...                                   ...                              ...   \n",
              "19434                            6.898599                       999.688257   \n",
              "19435                            6.903204                      1000.479783   \n",
              "19436                            6.700148                      1000.014718   \n",
              "19437                            6.706417                       999.635748   \n",
              "19438                            6.820245                      1000.589156   \n",
              "\n",
              "       ...  secondary_cleaner.output.tail_sol  final.output.concentrate_au  \\\n",
              "0      ...                           8.764648                    42.192020   \n",
              "1      ...                           9.001494                    42.701629   \n",
              "2      ...                           8.842896                    42.657501   \n",
              "3      ...                           9.122857                    42.689819   \n",
              "4      ...                           8.871028                    42.774141   \n",
              "...    ...                                ...                          ...   \n",
              "19434  ...                          10.013738                    42.435181   \n",
              "19435  ...                           9.841210                    43.440341   \n",
              "19436  ...                          10.119344                    44.284117   \n",
              "19437  ...                           9.876374                    43.339714   \n",
              "19438  ...                           9.813732                    43.235220   \n",
              "\n",
              "       final.output.concentrate_ag  final.output.concentrate_pb  \\\n",
              "0                         6.055403                     9.889648   \n",
              "1                         6.029369                     9.968944   \n",
              "2                         6.055926                    10.213995   \n",
              "3                         6.047977                     9.977019   \n",
              "4                         6.148599                    10.142511   \n",
              "...                            ...                          ...   \n",
              "19434                     5.719113                    10.621027   \n",
              "19435                     5.410126                    10.868937   \n",
              "19436                     5.437716                     9.781181   \n",
              "19437                     5.664983                    10.168953   \n",
              "19438                     5.687063                     9.980404   \n",
              "\n",
              "       final.output.concentrate_sol  final.output.recovery  \\\n",
              "0                          5.507324              70.541216   \n",
              "1                          5.257781              69.266198   \n",
              "2                          5.383759              68.116445   \n",
              "3                          4.858634              68.347543   \n",
              "4                          4.939416              66.927016   \n",
              "...                             ...                    ...   \n",
              "19434                      6.459561              68.786981   \n",
              "19435                      6.258693              67.839536   \n",
              "19436                      6.057627              70.847012   \n",
              "19437                      5.484318              72.659046   \n",
              "19438                      5.282514              70.279619   \n",
              "\n",
              "       final.output.tail_au  final.output.tail_ag  final.output.tail_pb  \\\n",
              "0                  2.143149             10.411962              0.895447   \n",
              "1                  2.224930             10.462676              0.927452   \n",
              "2                  2.257889             10.507046              0.953716   \n",
              "3                  2.146849             10.422762              0.883763   \n",
              "4                  2.055292             10.360302              0.792826   \n",
              "...                     ...                   ...                   ...   \n",
              "19434              2.314786             10.286797              1.171459   \n",
              "19435              2.423143             10.382891              1.239738   \n",
              "19436              2.161256             10.324415              0.961210   \n",
              "19437              2.064422             10.475957              1.050592   \n",
              "19438              2.209593             10.487013              1.159805   \n",
              "\n",
              "       final.output.tail_sol  \n",
              "0                  16.904297  \n",
              "1                  16.634514  \n",
              "2                  16.208849  \n",
              "3                  16.532835  \n",
              "4                  16.525686  \n",
              "...                      ...  \n",
              "19434              19.131121  \n",
              "19435              18.544924  \n",
              "19436              18.185262  \n",
              "19437              17.525656  \n",
              "19438              17.483979  \n",
              "\n",
              "[19439 rows x 87 columns]"
            ]
          },
          "execution_count": 50,
          "metadata": {},
          "output_type": "execute_result"
        }
      ],
      "source": [
        "data_full=pd.read_csv('/datasets/gold_industry_full.csv')\n",
        "data_full"
      ]
    },
    {
      "cell_type": "code",
      "execution_count": null,
      "metadata": {
        "scrolled": true,
        "id": "bGJSlOUVvc06",
        "outputId": "af2db810-1beb-4dd7-9ff1-a6481d4bac0f"
      },
      "outputs": [
        {
          "name": "stdout",
          "output_type": "stream",
          "text": [
            "<class 'pandas.core.frame.DataFrame'>\n",
            "RangeIndex: 19439 entries, 0 to 19438\n",
            "Data columns (total 87 columns):\n",
            " #   Column                                              Non-Null Count  Dtype  \n",
            "---  ------                                              --------------  -----  \n",
            " 0   date                                                19439 non-null  object \n",
            " 1   rougher.input.feed_au                               19439 non-null  float64\n",
            " 2   rougher.input.feed_ag                               19439 non-null  float64\n",
            " 3   rougher.input.feed_pb                               19339 non-null  float64\n",
            " 4   rougher.input.feed_sol                              19340 non-null  float64\n",
            " 5   rougher.input.feed_rate                             19428 non-null  float64\n",
            " 6   rougher.input.feed_size                             19294 non-null  float64\n",
            " 7   rougher.input.floatbank10_sulfate                   19405 non-null  float64\n",
            " 8   rougher.input.floatbank10_xanthate                  19431 non-null  float64\n",
            " 9   rougher.state.floatbank10_a_air                     19438 non-null  float64\n",
            " 10  rougher.state.floatbank10_a_level                   19438 non-null  float64\n",
            " 11  rougher.state.floatbank10_b_air                     19438 non-null  float64\n",
            " 12  rougher.state.floatbank10_b_level                   19438 non-null  float64\n",
            " 13  rougher.state.floatbank10_c_air                     19438 non-null  float64\n",
            " 14  rougher.state.floatbank10_c_level                   19438 non-null  float64\n",
            " 15  rougher.state.floatbank10_d_air                     19439 non-null  float64\n",
            " 16  rougher.state.floatbank10_d_level                   19439 non-null  float64\n",
            " 17  rougher.state.floatbank10_e_air                     19003 non-null  float64\n",
            " 18  rougher.state.floatbank10_e_level                   19439 non-null  float64\n",
            " 19  rougher.state.floatbank10_f_air                     19439 non-null  float64\n",
            " 20  rougher.state.floatbank10_f_level                   19439 non-null  float64\n",
            " 21  rougher.input.floatbank11_sulfate                   19395 non-null  float64\n",
            " 22  rougher.input.floatbank11_xanthate                  18986 non-null  float64\n",
            " 23  rougher.calculation.sulfate_to_au_concentrate       19437 non-null  float64\n",
            " 24  rougher.calculation.floatbank10_sulfate_to_au_feed  19437 non-null  float64\n",
            " 25  rougher.calculation.floatbank11_sulfate_to_au_feed  19437 non-null  float64\n",
            " 26  rougher.calculation.au_pb_ratio                     19439 non-null  float64\n",
            " 27  rougher.output.concentrate_au                       19439 non-null  float64\n",
            " 28  rougher.output.concentrate_ag                       19439 non-null  float64\n",
            " 29  rougher.output.concentrate_pb                       19439 non-null  float64\n",
            " 30  rougher.output.concentrate_sol                      19416 non-null  float64\n",
            " 31  rougher.output.recovery                             19439 non-null  float64\n",
            " 32  rougher.output.tail_au                              19439 non-null  float64\n",
            " 33  rougher.output.tail_ag                              19438 non-null  float64\n",
            " 34  rougher.output.tail_pb                              19439 non-null  float64\n",
            " 35  rougher.output.tail_sol                             19439 non-null  float64\n",
            " 36  primary_cleaner.input.sulfate                       19415 non-null  float64\n",
            " 37  primary_cleaner.input.depressant                    19402 non-null  float64\n",
            " 38  primary_cleaner.input.feed_size                     19439 non-null  float64\n",
            " 39  primary_cleaner.input.xanthate                      19335 non-null  float64\n",
            " 40  primary_cleaner.state.floatbank8_a_air              19435 non-null  float64\n",
            " 41  primary_cleaner.state.floatbank8_a_level            19438 non-null  float64\n",
            " 42  primary_cleaner.state.floatbank8_b_air              19435 non-null  float64\n",
            " 43  primary_cleaner.state.floatbank8_b_level            19438 non-null  float64\n",
            " 44  primary_cleaner.state.floatbank8_c_air              19437 non-null  float64\n",
            " 45  primary_cleaner.state.floatbank8_c_level            19438 non-null  float64\n",
            " 46  primary_cleaner.state.floatbank8_d_air              19436 non-null  float64\n",
            " 47  primary_cleaner.state.floatbank8_d_level            19438 non-null  float64\n",
            " 48  primary_cleaner.output.concentrate_au               19439 non-null  float64\n",
            " 49  primary_cleaner.output.concentrate_ag               19439 non-null  float64\n",
            " 50  primary_cleaner.output.concentrate_pb               19323 non-null  float64\n",
            " 51  primary_cleaner.output.concentrate_sol              19069 non-null  float64\n",
            " 52  primary_cleaner.output.tail_au                      19439 non-null  float64\n",
            " 53  primary_cleaner.output.tail_ag                      19435 non-null  float64\n",
            " 54  primary_cleaner.output.tail_pb                      19418 non-null  float64\n",
            " 55  primary_cleaner.output.tail_sol                     19377 non-null  float64\n",
            " 56  secondary_cleaner.state.floatbank2_a_air            19219 non-null  float64\n",
            " 57  secondary_cleaner.state.floatbank2_a_level          19438 non-null  float64\n",
            " 58  secondary_cleaner.state.floatbank2_b_air            19416 non-null  float64\n",
            " 59  secondary_cleaner.state.floatbank2_b_level          19438 non-null  float64\n",
            " 60  secondary_cleaner.state.floatbank3_a_air            19426 non-null  float64\n",
            " 61  secondary_cleaner.state.floatbank3_a_level          19438 non-null  float64\n",
            " 62  secondary_cleaner.state.floatbank3_b_air            19438 non-null  float64\n",
            " 63  secondary_cleaner.state.floatbank3_b_level          19438 non-null  float64\n",
            " 64  secondary_cleaner.state.floatbank4_a_air            19433 non-null  float64\n",
            " 65  secondary_cleaner.state.floatbank4_a_level          19438 non-null  float64\n",
            " 66  secondary_cleaner.state.floatbank4_b_air            19438 non-null  float64\n",
            " 67  secondary_cleaner.state.floatbank4_b_level          19438 non-null  float64\n",
            " 68  secondary_cleaner.state.floatbank5_a_air            19438 non-null  float64\n",
            " 69  secondary_cleaner.state.floatbank5_a_level          19438 non-null  float64\n",
            " 70  secondary_cleaner.state.floatbank5_b_air            19438 non-null  float64\n",
            " 71  secondary_cleaner.state.floatbank5_b_level          19438 non-null  float64\n",
            " 72  secondary_cleaner.state.floatbank6_a_air            19437 non-null  float64\n",
            " 73  secondary_cleaner.state.floatbank6_a_level          19438 non-null  float64\n",
            " 74  secondary_cleaner.output.tail_au                    19439 non-null  float64\n",
            " 75  secondary_cleaner.output.tail_ag                    19437 non-null  float64\n",
            " 76  secondary_cleaner.output.tail_pb                    19427 non-null  float64\n",
            " 77  secondary_cleaner.output.tail_sol                   17691 non-null  float64\n",
            " 78  final.output.concentrate_au                         19439 non-null  float64\n",
            " 79  final.output.concentrate_ag                         19438 non-null  float64\n",
            " 80  final.output.concentrate_pb                         19438 non-null  float64\n",
            " 81  final.output.concentrate_sol                        19228 non-null  float64\n",
            " 82  final.output.recovery                               19439 non-null  float64\n",
            " 83  final.output.tail_au                                19439 non-null  float64\n",
            " 84  final.output.tail_ag                                19438 non-null  float64\n",
            " 85  final.output.tail_pb                                19338 non-null  float64\n",
            " 86  final.output.tail_sol                               19433 non-null  float64\n",
            "dtypes: float64(86), object(1)\n",
            "memory usage: 12.9+ MB\n"
          ]
        }
      ],
      "source": [
        "data_full.info()"
      ]
    },
    {
      "cell_type": "markdown",
      "metadata": {
        "id": "kGsM5ltLvc07"
      },
      "source": [
        "Можно предположить, что признаки, отсутствующие в тестовой выборке находяться в полном датасете. Изменим тип данных в признаке date."
      ]
    },
    {
      "cell_type": "code",
      "execution_count": null,
      "metadata": {
        "id": "cSattLfOvc07"
      },
      "outputs": [],
      "source": [
        "data_full['date'] = pd.to_datetime(data_full['date'])"
      ]
    },
    {
      "cell_type": "markdown",
      "metadata": {
        "id": "IHXjITJIvc07"
      },
      "source": [
        "Выясним правильно ли рассчитана эффективность обогащения. Вычислим её на обучающей выборке и найдите MAE между нашими расчётами и значением признака."
      ]
    },
    {
      "cell_type": "code",
      "execution_count": null,
      "metadata": {
        "id": "BTXREePlvc07",
        "outputId": "a366fc8e-a548-431f-a6d4-95bd076d60b9"
      },
      "outputs": [
        {
          "data": {
            "text/html": [
              "<div>\n",
              "<style scoped>\n",
              "    .dataframe tbody tr th:only-of-type {\n",
              "        vertical-align: middle;\n",
              "    }\n",
              "\n",
              "    .dataframe tbody tr th {\n",
              "        vertical-align: top;\n",
              "    }\n",
              "\n",
              "    .dataframe thead th {\n",
              "        text-align: right;\n",
              "    }\n",
              "</style>\n",
              "<table border=\"1\" class=\"dataframe\">\n",
              "  <thead>\n",
              "    <tr style=\"text-align: right;\">\n",
              "      <th></th>\n",
              "      <th>rougher.output.recovery</th>\n",
              "      <th>rougher.recovery</th>\n",
              "    </tr>\n",
              "  </thead>\n",
              "  <tbody>\n",
              "    <tr>\n",
              "      <th>0</th>\n",
              "      <td>87.107763</td>\n",
              "      <td>87.107763</td>\n",
              "    </tr>\n",
              "    <tr>\n",
              "      <th>1</th>\n",
              "      <td>86.843261</td>\n",
              "      <td>86.843261</td>\n",
              "    </tr>\n",
              "    <tr>\n",
              "      <th>2</th>\n",
              "      <td>86.842308</td>\n",
              "      <td>86.842308</td>\n",
              "    </tr>\n",
              "    <tr>\n",
              "      <th>3</th>\n",
              "      <td>87.226430</td>\n",
              "      <td>87.226430</td>\n",
              "    </tr>\n",
              "    <tr>\n",
              "      <th>4</th>\n",
              "      <td>86.688794</td>\n",
              "      <td>86.688794</td>\n",
              "    </tr>\n",
              "    <tr>\n",
              "      <th>...</th>\n",
              "      <td>...</td>\n",
              "      <td>...</td>\n",
              "    </tr>\n",
              "    <tr>\n",
              "      <th>14574</th>\n",
              "      <td>87.684717</td>\n",
              "      <td>87.684717</td>\n",
              "    </tr>\n",
              "    <tr>\n",
              "      <th>14575</th>\n",
              "      <td>90.677361</td>\n",
              "      <td>90.677361</td>\n",
              "    </tr>\n",
              "    <tr>\n",
              "      <th>14576</th>\n",
              "      <td>89.574376</td>\n",
              "      <td>89.574376</td>\n",
              "    </tr>\n",
              "    <tr>\n",
              "      <th>14577</th>\n",
              "      <td>87.724007</td>\n",
              "      <td>87.724007</td>\n",
              "    </tr>\n",
              "    <tr>\n",
              "      <th>14578</th>\n",
              "      <td>88.890579</td>\n",
              "      <td>88.890579</td>\n",
              "    </tr>\n",
              "  </tbody>\n",
              "</table>\n",
              "<p>14579 rows × 2 columns</p>\n",
              "</div>"
            ],
            "text/plain": [
              "       rougher.output.recovery  rougher.recovery\n",
              "0                    87.107763         87.107763\n",
              "1                    86.843261         86.843261\n",
              "2                    86.842308         86.842308\n",
              "3                    87.226430         87.226430\n",
              "4                    86.688794         86.688794\n",
              "...                        ...               ...\n",
              "14574                87.684717         87.684717\n",
              "14575                90.677361         90.677361\n",
              "14576                89.574376         89.574376\n",
              "14577                87.724007         87.724007\n",
              "14578                88.890579         88.890579\n",
              "\n",
              "[14579 rows x 2 columns]"
            ]
          },
          "execution_count": 56,
          "metadata": {},
          "output_type": "execute_result"
        }
      ],
      "source": [
        "data_train['rougher.recovery']=(data_train['rougher.output.concentrate_au']*(\n",
        "    data_train['rougher.input.feed_au']-data_train['rougher.output.tail_au']))/(\n",
        "    data_train['rougher.input.feed_au']*(\n",
        "    data_train['rougher.output.concentrate_au']-data_train['rougher.output.tail_au']))*100\n",
        "data_train[['rougher.output.recovery','rougher.recovery']]\n"
      ]
    },
    {
      "cell_type": "code",
      "execution_count": null,
      "metadata": {
        "id": "v6ZJuv0vvc07",
        "outputId": "c3a49663-598b-4431-b4d5-72d20f1a6da0"
      },
      "outputs": [
        {
          "data": {
            "text/plain": [
              "9.83758577644259e-15"
            ]
          },
          "execution_count": 57,
          "metadata": {},
          "output_type": "execute_result"
        }
      ],
      "source": [
        "MAE = mean_absolute_error(data_train['rougher.recovery'],data_train['rougher.output.recovery'])\n",
        "MAE"
      ]
    },
    {
      "cell_type": "markdown",
      "metadata": {
        "id": "IhWW4D0Yvc07"
      },
      "source": [
        "Получили очень маленькое значение  MAE, что свидетельствует о том, что признак в обучающих данных рассчитан верно."
      ]
    },
    {
      "cell_type": "code",
      "execution_count": null,
      "metadata": {
        "id": "3HWtMUNmvc08"
      },
      "outputs": [],
      "source": [
        "data_train=data_train.drop('rougher.recovery',axis=1)"
      ]
    },
    {
      "cell_type": "markdown",
      "metadata": {
        "id": "FryXu7btvc08"
      },
      "source": [
        "Выясним какие признаки отсутсвуют в тестовом наборе данных."
      ]
    },
    {
      "cell_type": "code",
      "execution_count": null,
      "metadata": {
        "scrolled": true,
        "id": "AuUlOYTlvc08",
        "outputId": "3732c78b-cc16-4cf1-8b91-4067a8c943dc"
      },
      "outputs": [
        {
          "data": {
            "text/html": [
              "<div>\n",
              "<style scoped>\n",
              "    .dataframe tbody tr th:only-of-type {\n",
              "        vertical-align: middle;\n",
              "    }\n",
              "\n",
              "    .dataframe tbody tr th {\n",
              "        vertical-align: top;\n",
              "    }\n",
              "\n",
              "    .dataframe thead th {\n",
              "        text-align: right;\n",
              "    }\n",
              "</style>\n",
              "<table border=\"1\" class=\"dataframe\">\n",
              "  <thead>\n",
              "    <tr style=\"text-align: right;\">\n",
              "      <th></th>\n",
              "      <th>Train</th>\n",
              "      <th>Test</th>\n",
              "    </tr>\n",
              "  </thead>\n",
              "  <tbody>\n",
              "    <tr>\n",
              "      <th>0</th>\n",
              "      <td>date</td>\n",
              "      <td>date</td>\n",
              "    </tr>\n",
              "    <tr>\n",
              "      <th>1</th>\n",
              "      <td>rougher.input.feed_au</td>\n",
              "      <td>rougher.input.feed_au</td>\n",
              "    </tr>\n",
              "    <tr>\n",
              "      <th>2</th>\n",
              "      <td>rougher.input.feed_ag</td>\n",
              "      <td>rougher.input.feed_ag</td>\n",
              "    </tr>\n",
              "    <tr>\n",
              "      <th>3</th>\n",
              "      <td>rougher.input.feed_pb</td>\n",
              "      <td>rougher.input.feed_pb</td>\n",
              "    </tr>\n",
              "    <tr>\n",
              "      <th>4</th>\n",
              "      <td>rougher.input.feed_sol</td>\n",
              "      <td>rougher.input.feed_sol</td>\n",
              "    </tr>\n",
              "    <tr>\n",
              "      <th>5</th>\n",
              "      <td>rougher.input.feed_rate</td>\n",
              "      <td>rougher.input.feed_rate</td>\n",
              "    </tr>\n",
              "    <tr>\n",
              "      <th>6</th>\n",
              "      <td>rougher.input.feed_size</td>\n",
              "      <td>rougher.input.feed_size</td>\n",
              "    </tr>\n",
              "    <tr>\n",
              "      <th>7</th>\n",
              "      <td>rougher.input.floatbank10_sulfate</td>\n",
              "      <td>rougher.input.floatbank10_sulfate</td>\n",
              "    </tr>\n",
              "    <tr>\n",
              "      <th>8</th>\n",
              "      <td>rougher.input.floatbank10_xanthate</td>\n",
              "      <td>rougher.input.floatbank10_xanthate</td>\n",
              "    </tr>\n",
              "    <tr>\n",
              "      <th>9</th>\n",
              "      <td>rougher.state.floatbank10_a_air</td>\n",
              "      <td>rougher.state.floatbank10_a_air</td>\n",
              "    </tr>\n",
              "    <tr>\n",
              "      <th>10</th>\n",
              "      <td>rougher.state.floatbank10_a_level</td>\n",
              "      <td>rougher.state.floatbank10_a_level</td>\n",
              "    </tr>\n",
              "    <tr>\n",
              "      <th>11</th>\n",
              "      <td>rougher.state.floatbank10_b_air</td>\n",
              "      <td>rougher.state.floatbank10_b_air</td>\n",
              "    </tr>\n",
              "    <tr>\n",
              "      <th>12</th>\n",
              "      <td>rougher.state.floatbank10_b_level</td>\n",
              "      <td>rougher.state.floatbank10_b_level</td>\n",
              "    </tr>\n",
              "    <tr>\n",
              "      <th>13</th>\n",
              "      <td>rougher.state.floatbank10_c_air</td>\n",
              "      <td>rougher.state.floatbank10_c_air</td>\n",
              "    </tr>\n",
              "    <tr>\n",
              "      <th>14</th>\n",
              "      <td>rougher.state.floatbank10_c_level</td>\n",
              "      <td>rougher.state.floatbank10_c_level</td>\n",
              "    </tr>\n",
              "    <tr>\n",
              "      <th>15</th>\n",
              "      <td>rougher.state.floatbank10_d_air</td>\n",
              "      <td>rougher.state.floatbank10_d_air</td>\n",
              "    </tr>\n",
              "    <tr>\n",
              "      <th>16</th>\n",
              "      <td>rougher.state.floatbank10_d_level</td>\n",
              "      <td>rougher.state.floatbank10_d_level</td>\n",
              "    </tr>\n",
              "    <tr>\n",
              "      <th>17</th>\n",
              "      <td>rougher.state.floatbank10_e_air</td>\n",
              "      <td>rougher.state.floatbank10_e_air</td>\n",
              "    </tr>\n",
              "    <tr>\n",
              "      <th>18</th>\n",
              "      <td>rougher.state.floatbank10_e_level</td>\n",
              "      <td>rougher.state.floatbank10_e_level</td>\n",
              "    </tr>\n",
              "    <tr>\n",
              "      <th>19</th>\n",
              "      <td>rougher.state.floatbank10_f_air</td>\n",
              "      <td>rougher.state.floatbank10_f_air</td>\n",
              "    </tr>\n",
              "    <tr>\n",
              "      <th>20</th>\n",
              "      <td>rougher.state.floatbank10_f_level</td>\n",
              "      <td>rougher.state.floatbank10_f_level</td>\n",
              "    </tr>\n",
              "    <tr>\n",
              "      <th>21</th>\n",
              "      <td>rougher.input.floatbank11_sulfate</td>\n",
              "      <td>rougher.input.floatbank11_sulfate</td>\n",
              "    </tr>\n",
              "    <tr>\n",
              "      <th>22</th>\n",
              "      <td>rougher.input.floatbank11_xanthate</td>\n",
              "      <td>rougher.input.floatbank11_xanthate</td>\n",
              "    </tr>\n",
              "    <tr>\n",
              "      <th>23</th>\n",
              "      <td>rougher.calculation.sulfate_to_au_concentrate</td>\n",
              "      <td>-</td>\n",
              "    </tr>\n",
              "    <tr>\n",
              "      <th>24</th>\n",
              "      <td>rougher.calculation.floatbank10_sulfate_to_au_...</td>\n",
              "      <td>-</td>\n",
              "    </tr>\n",
              "    <tr>\n",
              "      <th>25</th>\n",
              "      <td>rougher.calculation.floatbank11_sulfate_to_au_...</td>\n",
              "      <td>-</td>\n",
              "    </tr>\n",
              "    <tr>\n",
              "      <th>26</th>\n",
              "      <td>rougher.calculation.au_pb_ratio</td>\n",
              "      <td>-</td>\n",
              "    </tr>\n",
              "    <tr>\n",
              "      <th>27</th>\n",
              "      <td>rougher.output.concentrate_au</td>\n",
              "      <td>-</td>\n",
              "    </tr>\n",
              "    <tr>\n",
              "      <th>28</th>\n",
              "      <td>rougher.output.concentrate_ag</td>\n",
              "      <td>-</td>\n",
              "    </tr>\n",
              "    <tr>\n",
              "      <th>29</th>\n",
              "      <td>rougher.output.concentrate_pb</td>\n",
              "      <td>-</td>\n",
              "    </tr>\n",
              "    <tr>\n",
              "      <th>30</th>\n",
              "      <td>rougher.output.concentrate_sol</td>\n",
              "      <td>-</td>\n",
              "    </tr>\n",
              "    <tr>\n",
              "      <th>31</th>\n",
              "      <td>rougher.output.recovery</td>\n",
              "      <td>-</td>\n",
              "    </tr>\n",
              "    <tr>\n",
              "      <th>32</th>\n",
              "      <td>rougher.output.tail_au</td>\n",
              "      <td>-</td>\n",
              "    </tr>\n",
              "    <tr>\n",
              "      <th>33</th>\n",
              "      <td>rougher.output.tail_ag</td>\n",
              "      <td>-</td>\n",
              "    </tr>\n",
              "    <tr>\n",
              "      <th>34</th>\n",
              "      <td>rougher.output.tail_pb</td>\n",
              "      <td>-</td>\n",
              "    </tr>\n",
              "    <tr>\n",
              "      <th>35</th>\n",
              "      <td>rougher.output.tail_sol</td>\n",
              "      <td>-</td>\n",
              "    </tr>\n",
              "    <tr>\n",
              "      <th>36</th>\n",
              "      <td>primary_cleaner.input.sulfate</td>\n",
              "      <td>primary_cleaner.input.sulfate</td>\n",
              "    </tr>\n",
              "    <tr>\n",
              "      <th>37</th>\n",
              "      <td>primary_cleaner.input.depressant</td>\n",
              "      <td>primary_cleaner.input.depressant</td>\n",
              "    </tr>\n",
              "    <tr>\n",
              "      <th>38</th>\n",
              "      <td>primary_cleaner.input.feed_size</td>\n",
              "      <td>primary_cleaner.input.feed_size</td>\n",
              "    </tr>\n",
              "    <tr>\n",
              "      <th>39</th>\n",
              "      <td>primary_cleaner.input.xanthate</td>\n",
              "      <td>primary_cleaner.input.xanthate</td>\n",
              "    </tr>\n",
              "    <tr>\n",
              "      <th>40</th>\n",
              "      <td>primary_cleaner.state.floatbank8_a_air</td>\n",
              "      <td>primary_cleaner.state.floatbank8_a_air</td>\n",
              "    </tr>\n",
              "    <tr>\n",
              "      <th>41</th>\n",
              "      <td>primary_cleaner.state.floatbank8_a_level</td>\n",
              "      <td>primary_cleaner.state.floatbank8_a_level</td>\n",
              "    </tr>\n",
              "    <tr>\n",
              "      <th>42</th>\n",
              "      <td>primary_cleaner.state.floatbank8_b_air</td>\n",
              "      <td>primary_cleaner.state.floatbank8_b_air</td>\n",
              "    </tr>\n",
              "    <tr>\n",
              "      <th>43</th>\n",
              "      <td>primary_cleaner.state.floatbank8_b_level</td>\n",
              "      <td>primary_cleaner.state.floatbank8_b_level</td>\n",
              "    </tr>\n",
              "    <tr>\n",
              "      <th>44</th>\n",
              "      <td>primary_cleaner.state.floatbank8_c_air</td>\n",
              "      <td>primary_cleaner.state.floatbank8_c_air</td>\n",
              "    </tr>\n",
              "    <tr>\n",
              "      <th>45</th>\n",
              "      <td>primary_cleaner.state.floatbank8_c_level</td>\n",
              "      <td>primary_cleaner.state.floatbank8_c_level</td>\n",
              "    </tr>\n",
              "    <tr>\n",
              "      <th>46</th>\n",
              "      <td>primary_cleaner.state.floatbank8_d_air</td>\n",
              "      <td>primary_cleaner.state.floatbank8_d_air</td>\n",
              "    </tr>\n",
              "    <tr>\n",
              "      <th>47</th>\n",
              "      <td>primary_cleaner.state.floatbank8_d_level</td>\n",
              "      <td>primary_cleaner.state.floatbank8_d_level</td>\n",
              "    </tr>\n",
              "    <tr>\n",
              "      <th>48</th>\n",
              "      <td>primary_cleaner.output.concentrate_au</td>\n",
              "      <td>-</td>\n",
              "    </tr>\n",
              "    <tr>\n",
              "      <th>49</th>\n",
              "      <td>primary_cleaner.output.concentrate_ag</td>\n",
              "      <td>-</td>\n",
              "    </tr>\n",
              "    <tr>\n",
              "      <th>50</th>\n",
              "      <td>primary_cleaner.output.concentrate_pb</td>\n",
              "      <td>-</td>\n",
              "    </tr>\n",
              "    <tr>\n",
              "      <th>51</th>\n",
              "      <td>primary_cleaner.output.concentrate_sol</td>\n",
              "      <td>-</td>\n",
              "    </tr>\n",
              "    <tr>\n",
              "      <th>52</th>\n",
              "      <td>primary_cleaner.output.tail_au</td>\n",
              "      <td>-</td>\n",
              "    </tr>\n",
              "    <tr>\n",
              "      <th>53</th>\n",
              "      <td>primary_cleaner.output.tail_ag</td>\n",
              "      <td>-</td>\n",
              "    </tr>\n",
              "    <tr>\n",
              "      <th>54</th>\n",
              "      <td>primary_cleaner.output.tail_pb</td>\n",
              "      <td>-</td>\n",
              "    </tr>\n",
              "    <tr>\n",
              "      <th>55</th>\n",
              "      <td>primary_cleaner.output.tail_sol</td>\n",
              "      <td>-</td>\n",
              "    </tr>\n",
              "    <tr>\n",
              "      <th>56</th>\n",
              "      <td>secondary_cleaner.state.floatbank2_a_air</td>\n",
              "      <td>secondary_cleaner.state.floatbank2_a_air</td>\n",
              "    </tr>\n",
              "    <tr>\n",
              "      <th>57</th>\n",
              "      <td>secondary_cleaner.state.floatbank2_a_level</td>\n",
              "      <td>secondary_cleaner.state.floatbank2_a_level</td>\n",
              "    </tr>\n",
              "    <tr>\n",
              "      <th>58</th>\n",
              "      <td>secondary_cleaner.state.floatbank2_b_air</td>\n",
              "      <td>secondary_cleaner.state.floatbank2_b_air</td>\n",
              "    </tr>\n",
              "    <tr>\n",
              "      <th>59</th>\n",
              "      <td>secondary_cleaner.state.floatbank2_b_level</td>\n",
              "      <td>secondary_cleaner.state.floatbank2_b_level</td>\n",
              "    </tr>\n",
              "    <tr>\n",
              "      <th>60</th>\n",
              "      <td>secondary_cleaner.state.floatbank3_a_air</td>\n",
              "      <td>secondary_cleaner.state.floatbank3_a_air</td>\n",
              "    </tr>\n",
              "    <tr>\n",
              "      <th>61</th>\n",
              "      <td>secondary_cleaner.state.floatbank3_a_level</td>\n",
              "      <td>secondary_cleaner.state.floatbank3_a_level</td>\n",
              "    </tr>\n",
              "    <tr>\n",
              "      <th>62</th>\n",
              "      <td>secondary_cleaner.state.floatbank3_b_air</td>\n",
              "      <td>secondary_cleaner.state.floatbank3_b_air</td>\n",
              "    </tr>\n",
              "    <tr>\n",
              "      <th>63</th>\n",
              "      <td>secondary_cleaner.state.floatbank3_b_level</td>\n",
              "      <td>secondary_cleaner.state.floatbank3_b_level</td>\n",
              "    </tr>\n",
              "    <tr>\n",
              "      <th>64</th>\n",
              "      <td>secondary_cleaner.state.floatbank4_a_air</td>\n",
              "      <td>secondary_cleaner.state.floatbank4_a_air</td>\n",
              "    </tr>\n",
              "    <tr>\n",
              "      <th>65</th>\n",
              "      <td>secondary_cleaner.state.floatbank4_a_level</td>\n",
              "      <td>secondary_cleaner.state.floatbank4_a_level</td>\n",
              "    </tr>\n",
              "    <tr>\n",
              "      <th>66</th>\n",
              "      <td>secondary_cleaner.state.floatbank4_b_air</td>\n",
              "      <td>secondary_cleaner.state.floatbank4_b_air</td>\n",
              "    </tr>\n",
              "    <tr>\n",
              "      <th>67</th>\n",
              "      <td>secondary_cleaner.state.floatbank4_b_level</td>\n",
              "      <td>secondary_cleaner.state.floatbank4_b_level</td>\n",
              "    </tr>\n",
              "    <tr>\n",
              "      <th>68</th>\n",
              "      <td>secondary_cleaner.state.floatbank5_a_air</td>\n",
              "      <td>secondary_cleaner.state.floatbank5_a_air</td>\n",
              "    </tr>\n",
              "    <tr>\n",
              "      <th>69</th>\n",
              "      <td>secondary_cleaner.state.floatbank5_a_level</td>\n",
              "      <td>secondary_cleaner.state.floatbank5_a_level</td>\n",
              "    </tr>\n",
              "    <tr>\n",
              "      <th>70</th>\n",
              "      <td>secondary_cleaner.state.floatbank5_b_air</td>\n",
              "      <td>secondary_cleaner.state.floatbank5_b_air</td>\n",
              "    </tr>\n",
              "    <tr>\n",
              "      <th>71</th>\n",
              "      <td>secondary_cleaner.state.floatbank5_b_level</td>\n",
              "      <td>secondary_cleaner.state.floatbank5_b_level</td>\n",
              "    </tr>\n",
              "    <tr>\n",
              "      <th>72</th>\n",
              "      <td>secondary_cleaner.state.floatbank6_a_air</td>\n",
              "      <td>secondary_cleaner.state.floatbank6_a_air</td>\n",
              "    </tr>\n",
              "    <tr>\n",
              "      <th>73</th>\n",
              "      <td>secondary_cleaner.state.floatbank6_a_level</td>\n",
              "      <td>secondary_cleaner.state.floatbank6_a_level</td>\n",
              "    </tr>\n",
              "    <tr>\n",
              "      <th>74</th>\n",
              "      <td>secondary_cleaner.output.tail_au</td>\n",
              "      <td>-</td>\n",
              "    </tr>\n",
              "    <tr>\n",
              "      <th>75</th>\n",
              "      <td>secondary_cleaner.output.tail_ag</td>\n",
              "      <td>-</td>\n",
              "    </tr>\n",
              "    <tr>\n",
              "      <th>76</th>\n",
              "      <td>secondary_cleaner.output.tail_pb</td>\n",
              "      <td>-</td>\n",
              "    </tr>\n",
              "    <tr>\n",
              "      <th>77</th>\n",
              "      <td>secondary_cleaner.output.tail_sol</td>\n",
              "      <td>-</td>\n",
              "    </tr>\n",
              "    <tr>\n",
              "      <th>78</th>\n",
              "      <td>final.output.concentrate_au</td>\n",
              "      <td>-</td>\n",
              "    </tr>\n",
              "    <tr>\n",
              "      <th>79</th>\n",
              "      <td>final.output.concentrate_ag</td>\n",
              "      <td>-</td>\n",
              "    </tr>\n",
              "    <tr>\n",
              "      <th>80</th>\n",
              "      <td>final.output.concentrate_pb</td>\n",
              "      <td>-</td>\n",
              "    </tr>\n",
              "    <tr>\n",
              "      <th>81</th>\n",
              "      <td>final.output.concentrate_sol</td>\n",
              "      <td>-</td>\n",
              "    </tr>\n",
              "    <tr>\n",
              "      <th>82</th>\n",
              "      <td>final.output.recovery</td>\n",
              "      <td>-</td>\n",
              "    </tr>\n",
              "    <tr>\n",
              "      <th>83</th>\n",
              "      <td>final.output.tail_au</td>\n",
              "      <td>-</td>\n",
              "    </tr>\n",
              "    <tr>\n",
              "      <th>84</th>\n",
              "      <td>final.output.tail_ag</td>\n",
              "      <td>-</td>\n",
              "    </tr>\n",
              "    <tr>\n",
              "      <th>85</th>\n",
              "      <td>final.output.tail_pb</td>\n",
              "      <td>-</td>\n",
              "    </tr>\n",
              "    <tr>\n",
              "      <th>86</th>\n",
              "      <td>final.output.tail_sol</td>\n",
              "      <td>-</td>\n",
              "    </tr>\n",
              "  </tbody>\n",
              "</table>\n",
              "</div>"
            ],
            "text/plain": [
              "                                                Train  \\\n",
              "0                                                date   \n",
              "1                               rougher.input.feed_au   \n",
              "2                               rougher.input.feed_ag   \n",
              "3                               rougher.input.feed_pb   \n",
              "4                              rougher.input.feed_sol   \n",
              "5                             rougher.input.feed_rate   \n",
              "6                             rougher.input.feed_size   \n",
              "7                   rougher.input.floatbank10_sulfate   \n",
              "8                  rougher.input.floatbank10_xanthate   \n",
              "9                     rougher.state.floatbank10_a_air   \n",
              "10                  rougher.state.floatbank10_a_level   \n",
              "11                    rougher.state.floatbank10_b_air   \n",
              "12                  rougher.state.floatbank10_b_level   \n",
              "13                    rougher.state.floatbank10_c_air   \n",
              "14                  rougher.state.floatbank10_c_level   \n",
              "15                    rougher.state.floatbank10_d_air   \n",
              "16                  rougher.state.floatbank10_d_level   \n",
              "17                    rougher.state.floatbank10_e_air   \n",
              "18                  rougher.state.floatbank10_e_level   \n",
              "19                    rougher.state.floatbank10_f_air   \n",
              "20                  rougher.state.floatbank10_f_level   \n",
              "21                  rougher.input.floatbank11_sulfate   \n",
              "22                 rougher.input.floatbank11_xanthate   \n",
              "23      rougher.calculation.sulfate_to_au_concentrate   \n",
              "24  rougher.calculation.floatbank10_sulfate_to_au_...   \n",
              "25  rougher.calculation.floatbank11_sulfate_to_au_...   \n",
              "26                    rougher.calculation.au_pb_ratio   \n",
              "27                      rougher.output.concentrate_au   \n",
              "28                      rougher.output.concentrate_ag   \n",
              "29                      rougher.output.concentrate_pb   \n",
              "30                     rougher.output.concentrate_sol   \n",
              "31                            rougher.output.recovery   \n",
              "32                             rougher.output.tail_au   \n",
              "33                             rougher.output.tail_ag   \n",
              "34                             rougher.output.tail_pb   \n",
              "35                            rougher.output.tail_sol   \n",
              "36                      primary_cleaner.input.sulfate   \n",
              "37                   primary_cleaner.input.depressant   \n",
              "38                    primary_cleaner.input.feed_size   \n",
              "39                     primary_cleaner.input.xanthate   \n",
              "40             primary_cleaner.state.floatbank8_a_air   \n",
              "41           primary_cleaner.state.floatbank8_a_level   \n",
              "42             primary_cleaner.state.floatbank8_b_air   \n",
              "43           primary_cleaner.state.floatbank8_b_level   \n",
              "44             primary_cleaner.state.floatbank8_c_air   \n",
              "45           primary_cleaner.state.floatbank8_c_level   \n",
              "46             primary_cleaner.state.floatbank8_d_air   \n",
              "47           primary_cleaner.state.floatbank8_d_level   \n",
              "48              primary_cleaner.output.concentrate_au   \n",
              "49              primary_cleaner.output.concentrate_ag   \n",
              "50              primary_cleaner.output.concentrate_pb   \n",
              "51             primary_cleaner.output.concentrate_sol   \n",
              "52                     primary_cleaner.output.tail_au   \n",
              "53                     primary_cleaner.output.tail_ag   \n",
              "54                     primary_cleaner.output.tail_pb   \n",
              "55                    primary_cleaner.output.tail_sol   \n",
              "56           secondary_cleaner.state.floatbank2_a_air   \n",
              "57         secondary_cleaner.state.floatbank2_a_level   \n",
              "58           secondary_cleaner.state.floatbank2_b_air   \n",
              "59         secondary_cleaner.state.floatbank2_b_level   \n",
              "60           secondary_cleaner.state.floatbank3_a_air   \n",
              "61         secondary_cleaner.state.floatbank3_a_level   \n",
              "62           secondary_cleaner.state.floatbank3_b_air   \n",
              "63         secondary_cleaner.state.floatbank3_b_level   \n",
              "64           secondary_cleaner.state.floatbank4_a_air   \n",
              "65         secondary_cleaner.state.floatbank4_a_level   \n",
              "66           secondary_cleaner.state.floatbank4_b_air   \n",
              "67         secondary_cleaner.state.floatbank4_b_level   \n",
              "68           secondary_cleaner.state.floatbank5_a_air   \n",
              "69         secondary_cleaner.state.floatbank5_a_level   \n",
              "70           secondary_cleaner.state.floatbank5_b_air   \n",
              "71         secondary_cleaner.state.floatbank5_b_level   \n",
              "72           secondary_cleaner.state.floatbank6_a_air   \n",
              "73         secondary_cleaner.state.floatbank6_a_level   \n",
              "74                   secondary_cleaner.output.tail_au   \n",
              "75                   secondary_cleaner.output.tail_ag   \n",
              "76                   secondary_cleaner.output.tail_pb   \n",
              "77                  secondary_cleaner.output.tail_sol   \n",
              "78                        final.output.concentrate_au   \n",
              "79                        final.output.concentrate_ag   \n",
              "80                        final.output.concentrate_pb   \n",
              "81                       final.output.concentrate_sol   \n",
              "82                              final.output.recovery   \n",
              "83                               final.output.tail_au   \n",
              "84                               final.output.tail_ag   \n",
              "85                               final.output.tail_pb   \n",
              "86                              final.output.tail_sol   \n",
              "\n",
              "                                          Test  \n",
              "0                                         date  \n",
              "1                        rougher.input.feed_au  \n",
              "2                        rougher.input.feed_ag  \n",
              "3                        rougher.input.feed_pb  \n",
              "4                       rougher.input.feed_sol  \n",
              "5                      rougher.input.feed_rate  \n",
              "6                      rougher.input.feed_size  \n",
              "7            rougher.input.floatbank10_sulfate  \n",
              "8           rougher.input.floatbank10_xanthate  \n",
              "9              rougher.state.floatbank10_a_air  \n",
              "10           rougher.state.floatbank10_a_level  \n",
              "11             rougher.state.floatbank10_b_air  \n",
              "12           rougher.state.floatbank10_b_level  \n",
              "13             rougher.state.floatbank10_c_air  \n",
              "14           rougher.state.floatbank10_c_level  \n",
              "15             rougher.state.floatbank10_d_air  \n",
              "16           rougher.state.floatbank10_d_level  \n",
              "17             rougher.state.floatbank10_e_air  \n",
              "18           rougher.state.floatbank10_e_level  \n",
              "19             rougher.state.floatbank10_f_air  \n",
              "20           rougher.state.floatbank10_f_level  \n",
              "21           rougher.input.floatbank11_sulfate  \n",
              "22          rougher.input.floatbank11_xanthate  \n",
              "23                                           -  \n",
              "24                                           -  \n",
              "25                                           -  \n",
              "26                                           -  \n",
              "27                                           -  \n",
              "28                                           -  \n",
              "29                                           -  \n",
              "30                                           -  \n",
              "31                                           -  \n",
              "32                                           -  \n",
              "33                                           -  \n",
              "34                                           -  \n",
              "35                                           -  \n",
              "36               primary_cleaner.input.sulfate  \n",
              "37            primary_cleaner.input.depressant  \n",
              "38             primary_cleaner.input.feed_size  \n",
              "39              primary_cleaner.input.xanthate  \n",
              "40      primary_cleaner.state.floatbank8_a_air  \n",
              "41    primary_cleaner.state.floatbank8_a_level  \n",
              "42      primary_cleaner.state.floatbank8_b_air  \n",
              "43    primary_cleaner.state.floatbank8_b_level  \n",
              "44      primary_cleaner.state.floatbank8_c_air  \n",
              "45    primary_cleaner.state.floatbank8_c_level  \n",
              "46      primary_cleaner.state.floatbank8_d_air  \n",
              "47    primary_cleaner.state.floatbank8_d_level  \n",
              "48                                           -  \n",
              "49                                           -  \n",
              "50                                           -  \n",
              "51                                           -  \n",
              "52                                           -  \n",
              "53                                           -  \n",
              "54                                           -  \n",
              "55                                           -  \n",
              "56    secondary_cleaner.state.floatbank2_a_air  \n",
              "57  secondary_cleaner.state.floatbank2_a_level  \n",
              "58    secondary_cleaner.state.floatbank2_b_air  \n",
              "59  secondary_cleaner.state.floatbank2_b_level  \n",
              "60    secondary_cleaner.state.floatbank3_a_air  \n",
              "61  secondary_cleaner.state.floatbank3_a_level  \n",
              "62    secondary_cleaner.state.floatbank3_b_air  \n",
              "63  secondary_cleaner.state.floatbank3_b_level  \n",
              "64    secondary_cleaner.state.floatbank4_a_air  \n",
              "65  secondary_cleaner.state.floatbank4_a_level  \n",
              "66    secondary_cleaner.state.floatbank4_b_air  \n",
              "67  secondary_cleaner.state.floatbank4_b_level  \n",
              "68    secondary_cleaner.state.floatbank5_a_air  \n",
              "69  secondary_cleaner.state.floatbank5_a_level  \n",
              "70    secondary_cleaner.state.floatbank5_b_air  \n",
              "71  secondary_cleaner.state.floatbank5_b_level  \n",
              "72    secondary_cleaner.state.floatbank6_a_air  \n",
              "73  secondary_cleaner.state.floatbank6_a_level  \n",
              "74                                           -  \n",
              "75                                           -  \n",
              "76                                           -  \n",
              "77                                           -  \n",
              "78                                           -  \n",
              "79                                           -  \n",
              "80                                           -  \n",
              "81                                           -  \n",
              "82                                           -  \n",
              "83                                           -  \n",
              "84                                           -  \n",
              "85                                           -  \n",
              "86                                           -  "
            ]
          },
          "metadata": {},
          "output_type": "display_data"
        }
      ],
      "source": [
        "columns_train = data_train.columns.tolist()\n",
        "columns_test = data_test.columns.tolist()\n",
        "\n",
        "columns_both = pd.DataFrame(columns=['Train', 'Test'])\n",
        "\n",
        "for value in columns_train:\n",
        "    if value in columns_test:\n",
        "        columns_both = columns_both.append({'Train': value, 'Test': value}, ignore_index=True)\n",
        "    else:\n",
        "        columns_both = columns_both.append({'Train': value, 'Test': '-'}, ignore_index=True)\n",
        "\n",
        "pd.set_option('display.max_rows', None)\n",
        "display(columns_both)"
      ]
    },
    {
      "cell_type": "code",
      "execution_count": null,
      "metadata": {
        "id": "EmxmJ1rGvc09"
      },
      "outputs": [],
      "source": [
        "pd.set_option('display.max_rows', 10)"
      ]
    },
    {
      "cell_type": "markdown",
      "metadata": {
        "id": "OqICrd8dvc09"
      },
      "source": [
        "В тестовой выборке отсутсвуют калькуляционные признаки на этапе флотации, а также признаки описывающие значения на выходе как концентратов металлов и растворенных веществ как в руде, так и в хвостах, на всех этапах обработки. Как и представлено в задании, некоторые параметры недоступны, потому что замеряются и/или рассчитываются значительно позже."
      ]
    },
    {
      "cell_type": "markdown",
      "metadata": {
        "id": "RuBYtL7Jvc09"
      },
      "source": [
        "**Добавим целевые признаки в тестовую выборку из полной.**"
      ]
    },
    {
      "cell_type": "code",
      "execution_count": null,
      "metadata": {
        "scrolled": true,
        "id": "54jXQh5yvc0-"
      },
      "outputs": [],
      "source": [
        "columns_to_merge=['date','rougher.output.recovery','final.output.recovery']\n",
        "data_test = pd.merge(data_test, data_full[columns_to_merge], on='date', how='left')"
      ]
    },
    {
      "cell_type": "code",
      "execution_count": null,
      "metadata": {
        "scrolled": true,
        "id": "iUt-6d0wvc0-",
        "outputId": "2dc75068-1959-49b9-822d-a5eb4bd37ada"
      },
      "outputs": [
        {
          "data": {
            "text/plain": [
              "Index(['date', 'rougher.input.feed_au', 'rougher.input.feed_ag',\n",
              "       'rougher.input.feed_pb', 'rougher.input.feed_sol',\n",
              "       'rougher.input.feed_rate', 'rougher.input.feed_size',\n",
              "       'rougher.input.floatbank10_sulfate',\n",
              "       'rougher.input.floatbank10_xanthate', 'rougher.state.floatbank10_a_air',\n",
              "       'rougher.state.floatbank10_a_level', 'rougher.state.floatbank10_b_air',\n",
              "       'rougher.state.floatbank10_b_level', 'rougher.state.floatbank10_c_air',\n",
              "       'rougher.state.floatbank10_c_level', 'rougher.state.floatbank10_d_air',\n",
              "       'rougher.state.floatbank10_d_level', 'rougher.state.floatbank10_e_air',\n",
              "       'rougher.state.floatbank10_e_level', 'rougher.state.floatbank10_f_air',\n",
              "       'rougher.state.floatbank10_f_level',\n",
              "       'rougher.input.floatbank11_sulfate',\n",
              "       'rougher.input.floatbank11_xanthate', 'primary_cleaner.input.sulfate',\n",
              "       'primary_cleaner.input.depressant', 'primary_cleaner.input.feed_size',\n",
              "       'primary_cleaner.input.xanthate',\n",
              "       'primary_cleaner.state.floatbank8_a_air',\n",
              "       'primary_cleaner.state.floatbank8_a_level',\n",
              "       'primary_cleaner.state.floatbank8_b_air',\n",
              "       'primary_cleaner.state.floatbank8_b_level',\n",
              "       'primary_cleaner.state.floatbank8_c_air',\n",
              "       'primary_cleaner.state.floatbank8_c_level',\n",
              "       'primary_cleaner.state.floatbank8_d_air',\n",
              "       'primary_cleaner.state.floatbank8_d_level',\n",
              "       'secondary_cleaner.state.floatbank2_a_air',\n",
              "       'secondary_cleaner.state.floatbank2_a_level',\n",
              "       'secondary_cleaner.state.floatbank2_b_air',\n",
              "       'secondary_cleaner.state.floatbank2_b_level',\n",
              "       'secondary_cleaner.state.floatbank3_a_air',\n",
              "       'secondary_cleaner.state.floatbank3_a_level',\n",
              "       'secondary_cleaner.state.floatbank3_b_air',\n",
              "       'secondary_cleaner.state.floatbank3_b_level',\n",
              "       'secondary_cleaner.state.floatbank4_a_air',\n",
              "       'secondary_cleaner.state.floatbank4_a_level',\n",
              "       'secondary_cleaner.state.floatbank4_b_air',\n",
              "       'secondary_cleaner.state.floatbank4_b_level',\n",
              "       'secondary_cleaner.state.floatbank5_a_air',\n",
              "       'secondary_cleaner.state.floatbank5_a_level',\n",
              "       'secondary_cleaner.state.floatbank5_b_air',\n",
              "       'secondary_cleaner.state.floatbank5_b_level',\n",
              "       'secondary_cleaner.state.floatbank6_a_air',\n",
              "       'secondary_cleaner.state.floatbank6_a_level', 'rougher.output.recovery',\n",
              "       'final.output.recovery'],\n",
              "      dtype='object')"
            ]
          },
          "execution_count": 122,
          "metadata": {},
          "output_type": "execute_result"
        }
      ],
      "source": [
        "data_test.columns"
      ]
    },
    {
      "cell_type": "markdown",
      "metadata": {
        "id": "sGwzCbT5vc1E"
      },
      "source": [
        "**Проверим наши выборки на наличие дубликатов.**"
      ]
    },
    {
      "cell_type": "code",
      "execution_count": null,
      "metadata": {
        "id": "diBefBjpvc1E",
        "outputId": "40a2574f-0aba-4925-cf9e-4479bc76d8b2"
      },
      "outputs": [
        {
          "name": "stdout",
          "output_type": "stream",
          "text": [
            "Количество дубликатов в тренировочном датасете: 0\n"
          ]
        }
      ],
      "source": [
        "print('Количество дубликатов в тренировочном датасете:', data_train.duplicated().sum())"
      ]
    },
    {
      "cell_type": "code",
      "execution_count": null,
      "metadata": {
        "id": "RO5FzpWjvc1E",
        "outputId": "34d45ac1-7f03-4de6-ffb1-6aaec70ad7b3"
      },
      "outputs": [
        {
          "name": "stdout",
          "output_type": "stream",
          "text": [
            "Количество дубликатов в тестовом датасете: 0\n"
          ]
        }
      ],
      "source": [
        "print('Количество дубликатов в тестовом датасете:', data_test.duplicated().sum())"
      ]
    },
    {
      "cell_type": "markdown",
      "metadata": {
        "id": "Ntbl5Pkpvc1E"
      },
      "source": [
        "**Пропуски в данных предлагаю заполнить методом интерполяции по датаиндексу:**"
      ]
    },
    {
      "cell_type": "code",
      "execution_count": null,
      "metadata": {
        "scrolled": true,
        "id": "bSDWwL5Ovc1E",
        "outputId": "531cba9a-0a98-44f4-9c9b-f5456b1eb7c9"
      },
      "outputs": [
        {
          "name": "stdout",
          "output_type": "stream",
          "text": [
            "Пропусков в тренировочном датасете: 0\n"
          ]
        }
      ],
      "source": [
        "data_train.set_index('date', inplace=True)\n",
        "\n",
        "data_train = data_train.interpolate(method='time')\n",
        "\n",
        "print('Пропусков в тренировочном датасете:', data_train.isna().sum().sum())"
      ]
    },
    {
      "cell_type": "code",
      "execution_count": null,
      "metadata": {
        "id": "XQYuAXfPvc1F",
        "outputId": "aeb1d1ce-bd98-47a9-937c-7843ae9dd174"
      },
      "outputs": [
        {
          "name": "stdout",
          "output_type": "stream",
          "text": [
            "Пропусков в тестовом датасете: 0\n"
          ]
        }
      ],
      "source": [
        "data_test.set_index('date', inplace=True)\n",
        "\n",
        "data_test = data_test.interpolate(method='time')\n",
        "\n",
        "print('Пропусков в тестовом датасете:', data_test.isna().sum().sum())"
      ]
    },
    {
      "cell_type": "markdown",
      "metadata": {
        "id": "RBU5tWmPvc1F"
      },
      "source": [
        "## Анализ данных"
      ]
    },
    {
      "cell_type": "markdown",
      "metadata": {
        "id": "oiJFqT92vc1F"
      },
      "source": [
        "Рассмотрим концентрации металлов и растворенных веществ на разных стадиях обработки. Для начала создадим 4 датасета с данными по каждому металлу и растворенным веществам ('sol')."
      ]
    },
    {
      "cell_type": "code",
      "execution_count": null,
      "metadata": {
        "scrolled": false,
        "id": "AdlmHkdNvc1F"
      },
      "outputs": [],
      "source": [
        "concetrate_au=data_full[['rougher.input.feed_au','rougher.output.concentrate_au',\n",
        "                          'primary_cleaner.output.concentrate_au','final.output.concentrate_au']\n",
        "                        ]\n",
        "concetrate_ag=data_full[['rougher.input.feed_ag','rougher.output.concentrate_ag',\n",
        "                          'primary_cleaner.output.concentrate_ag','final.output.concentrate_ag']\n",
        "                        ]\n",
        "concetrate_pb=data_full[['rougher.input.feed_pb','rougher.output.concentrate_pb',\n",
        "                          'primary_cleaner.output.concentrate_pb','final.output.concentrate_pb']\n",
        "                        ]\n",
        "concetrate_sol=data_full[['rougher.input.feed_sol','rougher.output.concentrate_sol',\n",
        "                          'primary_cleaner.output.concentrate_sol','final.output.concentrate_sol']\n",
        "                        ]"
      ]
    },
    {
      "cell_type": "markdown",
      "metadata": {
        "id": "BEST8CeVvc1G"
      },
      "source": [
        "Построим функцию, которая бы возвращала гистограммы, медиану и среднее значение признаков на ней для различных этапов (сырье,флотация, очистка и финал)."
      ]
    },
    {
      "cell_type": "code",
      "execution_count": null,
      "metadata": {
        "id": "bMdtZgiYvc1G"
      },
      "outputs": [],
      "source": [
        "def plot_histograms(dataframe, bins):\n",
        "    fig, axes = plt.subplots(2,2, figsize=(10, 8))\n",
        "    columns = dataframe.columns\n",
        "\n",
        "    for i, ax in enumerate(axes.flatten()):\n",
        "        ax.hist(dataframe[columns[i]], bins=bins)\n",
        "        ax.axvline(dataframe[columns[i]].mean(), color='r', linestyle='--', linewidth=2, label='Ср знач')\n",
        "        ax.axvline(dataframe[columns[i]].median(), color='y', linestyle='--', linewidth=2, label='Медиана')\n",
        "        ax.set_title(columns[i])\n",
        "        ax.legend()\n",
        "\n",
        "    plt.tight_layout()\n",
        "    plt.show()"
      ]
    },
    {
      "cell_type": "markdown",
      "metadata": {
        "id": "JAri39U5vc1G"
      },
      "source": [
        "**Распредление концентрата золота на различных этапах.**"
      ]
    },
    {
      "cell_type": "code",
      "execution_count": null,
      "metadata": {
        "id": "BhqQjqEFvc1G",
        "outputId": "d88e0b72-b47c-4257-8bc1-346081d488fb"
      },
      "outputs": [
        {
          "data": {
            "image/png": "[encoded data removed]",
            "text/plain": [
              "<Figure size 720x576 with 4 Axes>"
            ]
          },
          "metadata": {
            "needs_background": "light"
          },
          "output_type": "display_data"
        },
        {
          "data": {
            "text/html": [
              "<div>\n",
              "<style scoped>\n",
              "    .dataframe tbody tr th:only-of-type {\n",
              "        vertical-align: middle;\n",
              "    }\n",
              "\n",
              "    .dataframe tbody tr th {\n",
              "        vertical-align: top;\n",
              "    }\n",
              "\n",
              "    .dataframe thead th {\n",
              "        text-align: right;\n",
              "    }\n",
              "</style>\n",
              "<table border=\"1\" class=\"dataframe\">\n",
              "  <thead>\n",
              "    <tr style=\"text-align: right;\">\n",
              "      <th></th>\n",
              "      <th>rougher.input.feed_au</th>\n",
              "      <th>rougher.output.concentrate_au</th>\n",
              "      <th>primary_cleaner.output.concentrate_au</th>\n",
              "      <th>final.output.concentrate_au</th>\n",
              "    </tr>\n",
              "  </thead>\n",
              "  <tbody>\n",
              "    <tr>\n",
              "      <th>count</th>\n",
              "      <td>19439.000000</td>\n",
              "      <td>19439.000000</td>\n",
              "      <td>19439.000000</td>\n",
              "      <td>19439.000000</td>\n",
              "    </tr>\n",
              "    <tr>\n",
              "      <th>mean</th>\n",
              "      <td>8.266097</td>\n",
              "      <td>19.772000</td>\n",
              "      <td>32.119400</td>\n",
              "      <td>44.076513</td>\n",
              "    </tr>\n",
              "    <tr>\n",
              "      <th>std</th>\n",
              "      <td>1.955092</td>\n",
              "      <td>3.753600</td>\n",
              "      <td>5.627611</td>\n",
              "      <td>5.129784</td>\n",
              "    </tr>\n",
              "    <tr>\n",
              "      <th>min</th>\n",
              "      <td>0.010000</td>\n",
              "      <td>0.000000</td>\n",
              "      <td>0.000000</td>\n",
              "      <td>0.000000</td>\n",
              "    </tr>\n",
              "    <tr>\n",
              "      <th>25%</th>\n",
              "      <td>6.854384</td>\n",
              "      <td>18.802523</td>\n",
              "      <td>30.463140</td>\n",
              "      <td>43.402215</td>\n",
              "    </tr>\n",
              "    <tr>\n",
              "      <th>50%</th>\n",
              "      <td>8.125839</td>\n",
              "      <td>20.280214</td>\n",
              "      <td>32.841295</td>\n",
              "      <td>45.011244</td>\n",
              "    </tr>\n",
              "    <tr>\n",
              "      <th>75%</th>\n",
              "      <td>9.769917</td>\n",
              "      <td>21.717843</td>\n",
              "      <td>35.048006</td>\n",
              "      <td>46.275313</td>\n",
              "    </tr>\n",
              "    <tr>\n",
              "      <th>max</th>\n",
              "      <td>13.731330</td>\n",
              "      <td>28.824507</td>\n",
              "      <td>45.933934</td>\n",
              "      <td>52.756638</td>\n",
              "    </tr>\n",
              "  </tbody>\n",
              "</table>\n",
              "</div>"
            ],
            "text/plain": [
              "       rougher.input.feed_au  rougher.output.concentrate_au  \\\n",
              "count           19439.000000                   19439.000000   \n",
              "mean                8.266097                      19.772000   \n",
              "std                 1.955092                       3.753600   \n",
              "min                 0.010000                       0.000000   \n",
              "25%                 6.854384                      18.802523   \n",
              "50%                 8.125839                      20.280214   \n",
              "75%                 9.769917                      21.717843   \n",
              "max                13.731330                      28.824507   \n",
              "\n",
              "       primary_cleaner.output.concentrate_au  final.output.concentrate_au  \n",
              "count                           19439.000000                 19439.000000  \n",
              "mean                               32.119400                    44.076513  \n",
              "std                                 5.627611                     5.129784  \n",
              "min                                 0.000000                     0.000000  \n",
              "25%                                30.463140                    43.402215  \n",
              "50%                                32.841295                    45.011244  \n",
              "75%                                35.048006                    46.275313  \n",
              "max                                45.933934                    52.756638  "
            ]
          },
          "execution_count": 129,
          "metadata": {},
          "output_type": "execute_result"
        }
      ],
      "source": [
        "plot_histograms(concetrate_au,100)\n",
        "concetrate_au.describe()"
      ]
    },
    {
      "cell_type": "markdown",
      "metadata": {
        "id": "0y63qxkzvc1G"
      },
      "source": [
        "В исходном сырье концетрация золота сильно разнится от 4 до 12 едениц, к финальному этапу оно увеличивается до диапазона от 40 до 50 ед.и становится сосредоточена около этих значений.  \n",
        "После этапа флотации в распределении очевидно наблюдаются выбросы - большое количество околонулевых значений, на мой взгляд это может быть связано с минимальным содержанием золота в руде."
      ]
    },
    {
      "cell_type": "markdown",
      "metadata": {
        "id": "wlEbRXzmvc1H"
      },
      "source": [
        "**Распредление концентрата серебра.**"
      ]
    },
    {
      "cell_type": "code",
      "execution_count": null,
      "metadata": {
        "id": "rijydCNQvc1H",
        "outputId": "49e92009-da31-48c7-ee0f-53ec9856b990"
      },
      "outputs": [
        {
          "data": {
            "image/png": "[encoded data removed]",
            "text/plain": [
              "<Figure size 720x576 with 4 Axes>"
            ]
          },
          "metadata": {
            "needs_background": "light"
          },
          "output_type": "display_data"
        },
        {
          "data": {
            "text/html": [
              "<div>\n",
              "<style scoped>\n",
              "    .dataframe tbody tr th:only-of-type {\n",
              "        vertical-align: middle;\n",
              "    }\n",
              "\n",
              "    .dataframe tbody tr th {\n",
              "        vertical-align: top;\n",
              "    }\n",
              "\n",
              "    .dataframe thead th {\n",
              "        text-align: right;\n",
              "    }\n",
              "</style>\n",
              "<table border=\"1\" class=\"dataframe\">\n",
              "  <thead>\n",
              "    <tr style=\"text-align: right;\">\n",
              "      <th></th>\n",
              "      <th>rougher.input.feed_ag</th>\n",
              "      <th>rougher.output.concentrate_ag</th>\n",
              "      <th>primary_cleaner.output.concentrate_ag</th>\n",
              "      <th>final.output.concentrate_ag</th>\n",
              "    </tr>\n",
              "  </thead>\n",
              "  <tbody>\n",
              "    <tr>\n",
              "      <th>count</th>\n",
              "      <td>19439.000000</td>\n",
              "      <td>19439.000000</td>\n",
              "      <td>19439.000000</td>\n",
              "      <td>19438.000000</td>\n",
              "    </tr>\n",
              "    <tr>\n",
              "      <th>mean</th>\n",
              "      <td>8.794927</td>\n",
              "      <td>11.994759</td>\n",
              "      <td>8.442408</td>\n",
              "      <td>5.168470</td>\n",
              "    </tr>\n",
              "    <tr>\n",
              "      <th>std</th>\n",
              "      <td>1.936847</td>\n",
              "      <td>2.733862</td>\n",
              "      <td>2.054465</td>\n",
              "      <td>1.372348</td>\n",
              "    </tr>\n",
              "    <tr>\n",
              "      <th>min</th>\n",
              "      <td>0.010000</td>\n",
              "      <td>0.000000</td>\n",
              "      <td>0.000000</td>\n",
              "      <td>0.000000</td>\n",
              "    </tr>\n",
              "    <tr>\n",
              "      <th>25%</th>\n",
              "      <td>7.237967</td>\n",
              "      <td>10.628337</td>\n",
              "      <td>7.263288</td>\n",
              "      <td>4.251240</td>\n",
              "    </tr>\n",
              "    <tr>\n",
              "      <th>50%</th>\n",
              "      <td>8.593574</td>\n",
              "      <td>12.098115</td>\n",
              "      <td>8.507298</td>\n",
              "      <td>5.066094</td>\n",
              "    </tr>\n",
              "    <tr>\n",
              "      <th>75%</th>\n",
              "      <td>10.213771</td>\n",
              "      <td>13.736996</td>\n",
              "      <td>9.809001</td>\n",
              "      <td>5.895527</td>\n",
              "    </tr>\n",
              "    <tr>\n",
              "      <th>max</th>\n",
              "      <td>14.596026</td>\n",
              "      <td>24.480271</td>\n",
              "      <td>16.081632</td>\n",
              "      <td>16.001945</td>\n",
              "    </tr>\n",
              "  </tbody>\n",
              "</table>\n",
              "</div>"
            ],
            "text/plain": [
              "       rougher.input.feed_ag  rougher.output.concentrate_ag  \\\n",
              "count           19439.000000                   19439.000000   \n",
              "mean                8.794927                      11.994759   \n",
              "std                 1.936847                       2.733862   \n",
              "min                 0.010000                       0.000000   \n",
              "25%                 7.237967                      10.628337   \n",
              "50%                 8.593574                      12.098115   \n",
              "75%                10.213771                      13.736996   \n",
              "max                14.596026                      24.480271   \n",
              "\n",
              "       primary_cleaner.output.concentrate_ag  final.output.concentrate_ag  \n",
              "count                           19439.000000                 19438.000000  \n",
              "mean                                8.442408                     5.168470  \n",
              "std                                 2.054465                     1.372348  \n",
              "min                                 0.000000                     0.000000  \n",
              "25%                                 7.263288                     4.251240  \n",
              "50%                                 8.507298                     5.066094  \n",
              "75%                                 9.809001                     5.895527  \n",
              "max                                16.081632                    16.001945  "
            ]
          },
          "execution_count": 130,
          "metadata": {},
          "output_type": "execute_result"
        }
      ],
      "source": [
        "plot_histograms(concetrate_ag,100)\n",
        "concetrate_ag.describe()"
      ]
    },
    {
      "cell_type": "markdown",
      "metadata": {
        "id": "cyI9PmBXvc1H"
      },
      "source": [
        "Серебро в изначальном сырье распределено неравномерно - его масса варьируется от 4 до 14 ед. К финальному этапу среднее кол-во едениц серебра становится равным от 4 до 7 едениц. Также наблюдается большое кодичество околонулевых значений на всех этапах."
      ]
    },
    {
      "cell_type": "markdown",
      "metadata": {
        "id": "lR63tJy8vc1H"
      },
      "source": [
        "**Распределение концентрата свинца.**"
      ]
    },
    {
      "cell_type": "code",
      "execution_count": null,
      "metadata": {
        "id": "AhCjqDwovc1H",
        "outputId": "3efce60d-4e03-465b-a878-b4c4aaf819da"
      },
      "outputs": [
        {
          "data": {
            "image/png": "[encoded data removed]",
            "text/plain": [
              "<Figure size 720x576 with 4 Axes>"
            ]
          },
          "metadata": {
            "needs_background": "light"
          },
          "output_type": "display_data"
        },
        {
          "data": {
            "text/html": [
              "<div>\n",
              "<style scoped>\n",
              "    .dataframe tbody tr th:only-of-type {\n",
              "        vertical-align: middle;\n",
              "    }\n",
              "\n",
              "    .dataframe tbody tr th {\n",
              "        vertical-align: top;\n",
              "    }\n",
              "\n",
              "    .dataframe thead th {\n",
              "        text-align: right;\n",
              "    }\n",
              "</style>\n",
              "<table border=\"1\" class=\"dataframe\">\n",
              "  <thead>\n",
              "    <tr style=\"text-align: right;\">\n",
              "      <th></th>\n",
              "      <th>rougher.input.feed_pb</th>\n",
              "      <th>rougher.output.concentrate_pb</th>\n",
              "      <th>primary_cleaner.output.concentrate_pb</th>\n",
              "      <th>final.output.concentrate_pb</th>\n",
              "    </tr>\n",
              "  </thead>\n",
              "  <tbody>\n",
              "    <tr>\n",
              "      <th>count</th>\n",
              "      <td>19339.000000</td>\n",
              "      <td>19439.000000</td>\n",
              "      <td>19323.000000</td>\n",
              "      <td>19438.000000</td>\n",
              "    </tr>\n",
              "    <tr>\n",
              "      <th>mean</th>\n",
              "      <td>3.598085</td>\n",
              "      <td>7.606272</td>\n",
              "      <td>9.829530</td>\n",
              "      <td>9.978895</td>\n",
              "    </tr>\n",
              "    <tr>\n",
              "      <th>std</th>\n",
              "      <td>1.049486</td>\n",
              "      <td>1.796757</td>\n",
              "      <td>2.556843</td>\n",
              "      <td>1.669240</td>\n",
              "    </tr>\n",
              "    <tr>\n",
              "      <th>min</th>\n",
              "      <td>0.010000</td>\n",
              "      <td>0.000000</td>\n",
              "      <td>0.000000</td>\n",
              "      <td>0.000000</td>\n",
              "    </tr>\n",
              "    <tr>\n",
              "      <th>25%</th>\n",
              "      <td>2.887280</td>\n",
              "      <td>6.725987</td>\n",
              "      <td>8.702328</td>\n",
              "      <td>9.137262</td>\n",
              "    </tr>\n",
              "    <tr>\n",
              "      <th>50%</th>\n",
              "      <td>3.534895</td>\n",
              "      <td>7.742580</td>\n",
              "      <td>10.152433</td>\n",
              "      <td>10.102433</td>\n",
              "    </tr>\n",
              "    <tr>\n",
              "      <th>75%</th>\n",
              "      <td>4.244161</td>\n",
              "      <td>8.565199</td>\n",
              "      <td>11.424971</td>\n",
              "      <td>11.035769</td>\n",
              "    </tr>\n",
              "    <tr>\n",
              "      <th>max</th>\n",
              "      <td>7.142594</td>\n",
              "      <td>13.617072</td>\n",
              "      <td>17.081278</td>\n",
              "      <td>17.031899</td>\n",
              "    </tr>\n",
              "  </tbody>\n",
              "</table>\n",
              "</div>"
            ],
            "text/plain": [
              "       rougher.input.feed_pb  rougher.output.concentrate_pb  \\\n",
              "count           19339.000000                   19439.000000   \n",
              "mean                3.598085                       7.606272   \n",
              "std                 1.049486                       1.796757   \n",
              "min                 0.010000                       0.000000   \n",
              "25%                 2.887280                       6.725987   \n",
              "50%                 3.534895                       7.742580   \n",
              "75%                 4.244161                       8.565199   \n",
              "max                 7.142594                      13.617072   \n",
              "\n",
              "       primary_cleaner.output.concentrate_pb  final.output.concentrate_pb  \n",
              "count                           19323.000000                 19438.000000  \n",
              "mean                                9.829530                     9.978895  \n",
              "std                                 2.556843                     1.669240  \n",
              "min                                 0.000000                     0.000000  \n",
              "25%                                 8.702328                     9.137262  \n",
              "50%                                10.152433                    10.102433  \n",
              "75%                                11.424971                    11.035769  \n",
              "max                                17.081278                    17.031899  "
            ]
          },
          "execution_count": 131,
          "metadata": {},
          "output_type": "execute_result"
        }
      ],
      "source": [
        "plot_histograms(concetrate_pb,100)\n",
        "concetrate_pb.describe()"
      ]
    },
    {
      "cell_type": "markdown",
      "metadata": {
        "id": "_RlO6TEYvc1I"
      },
      "source": [
        "Содержание свинца на начальных этапах довольно низко, к концу обработки увеличивается и становится в среднем равно 10 ед. Также как и с остальными металлами, наблюдается большое число околонулевых значений."
      ]
    },
    {
      "cell_type": "markdown",
      "metadata": {
        "id": "R20m31s3vc1I"
      },
      "source": [
        "**Распределение растворенных веществ.**"
      ]
    },
    {
      "cell_type": "code",
      "execution_count": null,
      "metadata": {
        "id": "nEv1xVSZvc1I",
        "outputId": "b11bff3a-5afa-4027-cd8d-b4fd8071f958"
      },
      "outputs": [
        {
          "data": {
            "image/png": "[encoded data removed]",
            "text/plain": [
              "<Figure size 720x576 with 4 Axes>"
            ]
          },
          "metadata": {
            "needs_background": "light"
          },
          "output_type": "display_data"
        },
        {
          "data": {
            "text/html": [
              "<div>\n",
              "<style scoped>\n",
              "    .dataframe tbody tr th:only-of-type {\n",
              "        vertical-align: middle;\n",
              "    }\n",
              "\n",
              "    .dataframe tbody tr th {\n",
              "        vertical-align: top;\n",
              "    }\n",
              "\n",
              "    .dataframe thead th {\n",
              "        text-align: right;\n",
              "    }\n",
              "</style>\n",
              "<table border=\"1\" class=\"dataframe\">\n",
              "  <thead>\n",
              "    <tr style=\"text-align: right;\">\n",
              "      <th></th>\n",
              "      <th>rougher.input.feed_sol</th>\n",
              "      <th>rougher.output.concentrate_sol</th>\n",
              "      <th>primary_cleaner.output.concentrate_sol</th>\n",
              "      <th>final.output.concentrate_sol</th>\n",
              "    </tr>\n",
              "  </thead>\n",
              "  <tbody>\n",
              "    <tr>\n",
              "      <th>count</th>\n",
              "      <td>19340.000000</td>\n",
              "      <td>19416.000000</td>\n",
              "      <td>19069.000000</td>\n",
              "      <td>19228.000000</td>\n",
              "    </tr>\n",
              "    <tr>\n",
              "      <th>mean</th>\n",
              "      <td>36.695114</td>\n",
              "      <td>28.805571</td>\n",
              "      <td>10.489499</td>\n",
              "      <td>9.501224</td>\n",
              "    </tr>\n",
              "    <tr>\n",
              "      <th>std</th>\n",
              "      <td>5.145445</td>\n",
              "      <td>5.944207</td>\n",
              "      <td>3.909639</td>\n",
              "      <td>2.787537</td>\n",
              "    </tr>\n",
              "    <tr>\n",
              "      <th>min</th>\n",
              "      <td>0.010000</td>\n",
              "      <td>0.000000</td>\n",
              "      <td>0.000000</td>\n",
              "      <td>0.000000</td>\n",
              "    </tr>\n",
              "    <tr>\n",
              "      <th>25%</th>\n",
              "      <td>34.207799</td>\n",
              "      <td>27.224120</td>\n",
              "      <td>7.893893</td>\n",
              "      <td>7.722820</td>\n",
              "    </tr>\n",
              "    <tr>\n",
              "      <th>50%</th>\n",
              "      <td>37.202650</td>\n",
              "      <td>29.835345</td>\n",
              "      <td>10.314632</td>\n",
              "      <td>9.218961</td>\n",
              "    </tr>\n",
              "    <tr>\n",
              "      <th>75%</th>\n",
              "      <td>40.039133</td>\n",
              "      <td>32.189933</td>\n",
              "      <td>13.446702</td>\n",
              "      <td>10.947813</td>\n",
              "    </tr>\n",
              "    <tr>\n",
              "      <th>max</th>\n",
              "      <td>53.477742</td>\n",
              "      <td>38.351193</td>\n",
              "      <td>22.458114</td>\n",
              "      <td>19.615720</td>\n",
              "    </tr>\n",
              "  </tbody>\n",
              "</table>\n",
              "</div>"
            ],
            "text/plain": [
              "       rougher.input.feed_sol  rougher.output.concentrate_sol  \\\n",
              "count            19340.000000                    19416.000000   \n",
              "mean                36.695114                       28.805571   \n",
              "std                  5.145445                        5.944207   \n",
              "min                  0.010000                        0.000000   \n",
              "25%                 34.207799                       27.224120   \n",
              "50%                 37.202650                       29.835345   \n",
              "75%                 40.039133                       32.189933   \n",
              "max                 53.477742                       38.351193   \n",
              "\n",
              "       primary_cleaner.output.concentrate_sol  final.output.concentrate_sol  \n",
              "count                            19069.000000                  19228.000000  \n",
              "mean                                10.489499                      9.501224  \n",
              "std                                  3.909639                      2.787537  \n",
              "min                                  0.000000                      0.000000  \n",
              "25%                                  7.893893                      7.722820  \n",
              "50%                                 10.314632                      9.218961  \n",
              "75%                                 13.446702                     10.947813  \n",
              "max                                 22.458114                     19.615720  "
            ]
          },
          "execution_count": 132,
          "metadata": {},
          "output_type": "execute_result"
        }
      ],
      "source": [
        "plot_histograms(concetrate_sol,100)\n",
        "concetrate_sol.describe()"
      ]
    },
    {
      "cell_type": "markdown",
      "metadata": {
        "id": "GZqOS_QTvc1I"
      },
      "source": [
        "Концентрация остальных растворенных в сырье веществ к концу обработки заметно спадает."
      ]
    },
    {
      "cell_type": "markdown",
      "metadata": {
        "id": "LxltqPrXvc1J"
      },
      "source": [
        "**Обратим внимание на размер гранул сырья для обработки в двух выборках:**"
      ]
    },
    {
      "cell_type": "code",
      "execution_count": null,
      "metadata": {
        "id": "HT3BNdyuvc1J",
        "outputId": "c00107a8-7df1-4435-8499-fb7a96ee5063"
      },
      "outputs": [
        {
          "data": {
            "image/png": "[encoded data removed]",
            "text/plain": [
              "<Figure size 720x432 with 1 Axes>"
            ]
          },
          "metadata": {
            "needs_background": "light"
          },
          "output_type": "display_data"
        }
      ],
      "source": [
        "plt.figure(figsize=(10,6))\n",
        "plt.boxplot([data_train['rougher.input.feed_size'],data_test['rougher.input.feed_size']]);\n",
        "plt.title(\"Распределение размеров гранул в тренировочной и тестовой выборках\", fontsize=15, pad=20);\n",
        "plt.xticks([1, 2], ['Тренировочная выборка', 'Тестовая выборка'], fontsize=12)\n",
        "plt.ylim(0,120);"
      ]
    },
    {
      "cell_type": "markdown",
      "metadata": {
        "id": "miFdx3Hfvc1J"
      },
      "source": [
        "Несмотря на наличие выбросов, данные о размерах гранул исходного сырья в тренировочной и тестовой выборках распределены похоже, следовательно можно продолжать исследование."
      ]
    },
    {
      "cell_type": "markdown",
      "metadata": {
        "id": "AZufUcXcvc1J"
      },
      "source": [
        "**Для каждого этапа найдём полученную полную концентрацию металлов на выходе.**"
      ]
    },
    {
      "cell_type": "markdown",
      "metadata": {
        "id": "LSBXgdTNvc1J"
      },
      "source": [
        "Построим функцию возвращающую датасет с суммарным знаением концентрации металлов в продукте на разных стадиях очистки."
      ]
    },
    {
      "cell_type": "code",
      "execution_count": null,
      "metadata": {
        "id": "LIpHpqs-vc1K"
      },
      "outputs": [],
      "source": [
        "def concentrate_metal_func(data):\n",
        "    data['rougher.input.feed_metal']=(data['rougher.input.feed_au']\n",
        "                                        +data['rougher.input.feed_ag']\n",
        "                                        +data['rougher.input.feed_pb'])\n",
        "    data['rougher.output.concentrate_metal']=(data['rougher.output.concentrate_au']\n",
        "                                                +data['rougher.output.concentrate_ag']\n",
        "                                                +data['rougher.output.concentrate_pb'])\n",
        "    data['primary_cleaner.output.concentrate_metal']=(data['primary_cleaner.output.concentrate_au']\n",
        "                                                        +data['primary_cleaner.output.concentrate_ag']\n",
        "                                                        +data['primary_cleaner.output.concentrate_pb'])\n",
        "    data['final.output.concentrate_metal']=(data['final.output.concentrate_au']\n",
        "                                              +data['final.output.concentrate_ag']\n",
        "                                              +data['final.output.concentrate_pb'])\n",
        "\n",
        "    concentrate_metal=data[['rougher.input.feed_metal',\n",
        "                              'rougher.output.concentrate_metal',\n",
        "                              'primary_cleaner.output.concentrate_metal',\n",
        "                              'final.output.concentrate_metal']\n",
        "                            ]\n",
        "    return concentrate_metal"
      ]
    },
    {
      "cell_type": "markdown",
      "metadata": {
        "id": "qRF1r3kSvc1K"
      },
      "source": [
        "Визуализируем сводные данные."
      ]
    },
    {
      "cell_type": "code",
      "execution_count": null,
      "metadata": {
        "id": "2QIxPkOAvc1K",
        "outputId": "f0de93b5-14fd-4596-e3f9-e5b59e1a5389"
      },
      "outputs": [
        {
          "data": {
            "image/png": "[encoded data removed]",
            "text/plain": [
              "<Figure size 1080x360 with 1 Axes>"
            ]
          },
          "metadata": {
            "needs_background": "light"
          },
          "output_type": "display_data"
        }
      ],
      "source": [
        "concentrate_metal_full=concentrate_metal_func(data_full)\n",
        "plt.figure(figsize=(15,5))\n",
        "concentrate_metal_full['rougher.input.feed_metal'].hist(bins=40, alpha=0.8,\n",
        "                                                        label='rougher.input.feed_metal');\n",
        "concentrate_metal_full['rougher.output.concentrate_metal'].hist(bins=40, alpha=0.7,\n",
        "                                                                label='rougher.output.concentrate_metal');\n",
        "concentrate_metal_full['primary_cleaner.output.concentrate_metal'].hist(bins=40,\n",
        "                                                                        alpha=0.7,\n",
        "                                                                        label='primary_cleaner.output.concentrate_metal');\n",
        "concentrate_metal_full['final.output.concentrate_metal'].hist(bins=40, alpha=0.7,\n",
        "                                                              label='final.output.concentrate_metal');\n",
        "plt.title('Суммарная концентрация металлов на разных этапах очистки', fontsize=15);\n",
        "plt.xlabel('Концентрация');\n",
        "plt.ylabel('Количество');\n",
        "plt.legend();"
      ]
    },
    {
      "cell_type": "markdown",
      "metadata": {
        "id": "QsTtIvxXvc1K"
      },
      "source": [
        "Как и следовало ожидать количество значений с высокой концентрацией металлов увеличивается с каждым этапом очистки.\n",
        "На выходе после каждого этапа присутствуют околонулевые значения. Предлагаю их отбросить, так как это  определенно выбросы - ведь так как мы выяснили, что некотрые значения вписаны в таблицу уже после процесса обработки сырья."
      ]
    },
    {
      "cell_type": "code",
      "execution_count": null,
      "metadata": {
        "id": "ACs8z0aJvc1L"
      },
      "outputs": [],
      "source": [
        "def drop_NA(data):\n",
        "    data=data[(data[['rougher.input.feed_metal',\n",
        "                              'rougher.output.concentrate_metal',\n",
        "                              'primary_cleaner.output.concentrate_metal',\n",
        "                              'final.output.concentrate_metal']]>2).all(axis=1)]\n",
        "    data=data.drop(['rougher.input.feed_metal',\n",
        "                              'rougher.output.concentrate_metal',\n",
        "                              'primary_cleaner.output.concentrate_metal',\n",
        "                              'final.output.concentrate_metal'], axis=1)\n",
        "\n",
        "    return data"
      ]
    },
    {
      "cell_type": "code",
      "execution_count": null,
      "metadata": {
        "id": "Tp--8SjMvc1L",
        "outputId": "30136a53-e7a2-4b2c-dba0-1d076183d820"
      },
      "outputs": [
        {
          "data": {
            "text/plain": [
              "13877"
            ]
          },
          "execution_count": 137,
          "metadata": {},
          "output_type": "execute_result"
        }
      ],
      "source": [
        "concentrate_metal_func(data_train)\n",
        "data_train=drop_NA(data_train)\n",
        "print('Количество строк в тренировочном датасете после обработки =',data_train.shape[0])"
      ]
    },
    {
      "cell_type": "markdown",
      "metadata": {
        "id": "nMcBPDfWvc1L"
      },
      "source": [
        "## Модель"
      ]
    },
    {
      "cell_type": "code",
      "execution_count": null,
      "metadata": {
        "id": "3l2jmWtRvc1M"
      },
      "outputs": [],
      "source": [
        "RS=12345"
      ]
    },
    {
      "cell_type": "markdown",
      "metadata": {
        "id": "nYukgAZkvc1M"
      },
      "source": [
        "Построим функцию для вычисления SMAPE:"
      ]
    },
    {
      "cell_type": "code",
      "execution_count": null,
      "metadata": {
        "id": "7BOvlT1mvc1M"
      },
      "outputs": [],
      "source": [
        "def smape(A, F):\n",
        "    return 100/len(A) * np.sum(2 * np.abs(F - A) / (np.abs(A) + np.abs(F)))"
      ]
    },
    {
      "cell_type": "code",
      "execution_count": null,
      "metadata": {
        "id": "wPH8MUXavc1N"
      },
      "outputs": [],
      "source": [
        "smape_scorer = make_scorer(smape, greater_is_better=False)"
      ]
    },
    {
      "cell_type": "markdown",
      "metadata": {
        "id": "SmypH_osvc1N"
      },
      "source": [
        "Для изучения моделей нам необходимо сделать два предикта - на выборке с результатами флотации и на общей. У каждой будут общие фичи, но в таргете заложим два два - 'rougher.output.recovery','final.output.recovery'."
      ]
    },
    {
      "cell_type": "code",
      "execution_count": null,
      "metadata": {
        "id": "9pWGrb_Ivc1N"
      },
      "outputs": [],
      "source": [
        "features_columns = list(data_test.columns[:-2])\n",
        "target_columns = ['rougher.output.recovery','final.output.recovery']"
      ]
    },
    {
      "cell_type": "markdown",
      "metadata": {
        "id": "KNmIVFsLvc1O"
      },
      "source": [
        "Масштабируем фичи."
      ]
    },
    {
      "cell_type": "code",
      "execution_count": null,
      "metadata": {
        "id": "zeQ7Vueyvc1O"
      },
      "outputs": [],
      "source": [
        "scaler = StandardScaler()"
      ]
    },
    {
      "cell_type": "code",
      "execution_count": null,
      "metadata": {
        "id": "ZTizgxSfvc1O"
      },
      "outputs": [],
      "source": [
        "X_train = data_train[features_columns]\n",
        "X_train = scaler.fit_transform(X_train)\n",
        "y_train = data_train[target_columns]"
      ]
    },
    {
      "cell_type": "markdown",
      "metadata": {
        "id": "BvhJXe26vc1O"
      },
      "source": [
        "Проверим три модели - Линейную Регрессию, Дерево Решений и Случайный Лес. Подберем лучшее значение гиперпараметров кросс-валидацией."
      ]
    },
    {
      "cell_type": "markdown",
      "metadata": {
        "id": "oTmsoJbKvc1O"
      },
      "source": [
        "**Модель Линейной Регрессии:**"
      ]
    },
    {
      "cell_type": "code",
      "execution_count": null,
      "metadata": {
        "id": "_nfT7JPAvc1P",
        "outputId": "e3285da2-4120-4c7d-d61f-5fe2fbaeb373"
      },
      "outputs": [
        {
          "name": "stdout",
          "output_type": "stream",
          "text": [
            "Итоговое SMAPE модели Линейной Регрессии: 8.980136185076764\n",
            "CPU times: user 1.8 s, sys: 5.18 s, total: 6.98 s\n",
            "Wall time: 6.96 s\n"
          ]
        }
      ],
      "source": [
        "%%time\n",
        "lr = LinearRegression()\n",
        "scores_rougher = cross_val_score(lr,X_train, y_train['rougher.output.recovery'], cv=5, scoring=smape_scorer)\n",
        "scores_final = cross_val_score(lr, X_train,y_train['final.output.recovery'], cv=5, scoring=smape_scorer)\n",
        "final_smape = np.mean(abs(scores_final) * 0.75) + np.mean(abs(scores_rougher) * 0.25)\n",
        "print(\"Итоговое SMAPE модели Линейной Регрессии:\", final_smape)"
      ]
    },
    {
      "cell_type": "markdown",
      "metadata": {
        "id": "3CJkwvaTvc1P"
      },
      "source": [
        "**Модель Дерева Решений:**"
      ]
    },
    {
      "cell_type": "code",
      "execution_count": null,
      "metadata": {
        "id": "xcacCYwvvc1P",
        "outputId": "6b1b4a4e-e240-410f-9827-7d3ed4df5aee"
      },
      "outputs": [
        {
          "name": "stdout",
          "output_type": "stream",
          "text": [
            "Лучшие параметры для модели Дерева решений на флотацию: {'max_depth': 5}\n",
            "Лучшие финальные параметры для модели Дерева решений: {'max_depth': 2}\n",
            "Итоговое SMAPE модели Дерева решений: = 8.326329355803265\n",
            "CPU times: user 24.4 s, sys: 92.7 ms, total: 24.5 s\n",
            "Wall time: 24.7 s\n"
          ]
        }
      ],
      "source": [
        "%%time\n",
        "dt = DecisionTreeRegressor(random_state=RS)\n",
        "\n",
        "params={'max_depth':[x for x in range(1,10)]}\n",
        "\n",
        "grid_dt_rough=GridSearchCV(dt,params,cv=5,scoring=smape_scorer)\n",
        "grid_dt_rough.fit(X_train,y_train['rougher.output.recovery'])\n",
        "\n",
        "grid_dt_final=GridSearchCV(dt,params,cv=5,scoring=smape_scorer)\n",
        "grid_dt_final.fit(X_train,y_train['final.output.recovery'])\n",
        "\n",
        "print('Лучшие параметры для модели Дерева решений на флотацию:', grid_dt_rough.best_params_)\n",
        "print('Лучшие финальные параметры для модели Дерева решений:', grid_dt_final.best_params_)\n",
        "print('Итоговое SMAPE модели Дерева решений: =', abs(grid_dt_rough.best_score_)*0.25 + abs(grid_dt_final.best_score_)*0.75)"
      ]
    },
    {
      "cell_type": "markdown",
      "metadata": {
        "id": "uHzdGgFpvc1P"
      },
      "source": [
        "**Модель Случайного Леса:**"
      ]
    },
    {
      "cell_type": "code",
      "execution_count": null,
      "metadata": {
        "id": "oy9SlyMavc1Q",
        "outputId": "2a5c7f4f-96ad-4af8-a4aa-2abb41541230"
      },
      "outputs": [
        {
          "name": "stdout",
          "output_type": "stream",
          "text": [
            "Лучшие параметры для модели Случайного Леса на флотацию: {'max_depth': 4, 'n_estimators': 10}\n",
            "Лучший SMAPE для модели Случайного Леса на флотацию: 6.485028020727559\n",
            "CPU times: user 13min 28s, sys: 3.31 s, total: 13min 31s\n",
            "Wall time: 13min 32s\n"
          ]
        }
      ],
      "source": [
        "%%time\n",
        "rf = RandomForestRegressor(random_state=RS)\n",
        "\n",
        "params = {'n_estimators':[x for x in range(0,100,10)], 'max_depth': [x for x in range(1,5)]}\n",
        "\n",
        "grid_rf_rougher = GridSearchCV(rf, params, scoring=smape_scorer, cv=5)\n",
        "grid_rf_rougher.fit(X_train, y_train['rougher.output.recovery'])\n",
        "\n",
        "print('Лучшие параметры для модели Случайного Леса на флотацию:', grid_rf_rougher.best_params_)\n",
        "print('Лучший SMAPE для модели Случайного Леса на флотацию:', abs(grid_rf_rougher.best_score_))"
      ]
    },
    {
      "cell_type": "code",
      "execution_count": null,
      "metadata": {
        "id": "i29KX0s-vc1Q",
        "outputId": "3ac20d6d-210d-4103-a0bf-a644263b5b0e"
      },
      "outputs": [
        {
          "name": "stdout",
          "output_type": "stream",
          "text": [
            "Лучшие финальные параметры для модели Случайного Леса: {'max_depth': 2, 'n_estimators': 10}\n",
            "Лучший финальный SMAPE для модели Случайного Леса: 8.774229769525848\n",
            "\n",
            "Итоговое SMAPE модели Случайного Леса = 8.201929332326277\n",
            "CPU times: user 13min 17s, sys: 2.87 s, total: 13min 19s\n",
            "Wall time: 13min 20s\n"
          ]
        }
      ],
      "source": [
        "%%time\n",
        "grid_rf_final = GridSearchCV(rf, params, scoring=smape_scorer, cv=5)\n",
        "grid_rf_final.fit(X_train, y_train['final.output.recovery'])\n",
        "\n",
        "print('Лучшие финальные параметры для модели Случайного Леса:', grid_rf_final.best_params_)\n",
        "print('Лучший финальный SMAPE для модели Случайного Леса:', abs(grid_rf_final.best_score_))\n",
        "print()\n",
        "print('Итоговое SMAPE модели Случайного Леса =', abs(grid_rf_rougher.best_score_)*0.25 + abs(grid_rf_final.best_score_)*0.75)"
      ]
    },
    {
      "cell_type": "markdown",
      "metadata": {
        "id": "-OvBvHMEvc1Q"
      },
      "source": [
        "Лучший показатель итогового SMAPE у модели Случайного Леса. Используем эту модель для расчета SMAPE на тестовой выборке."
      ]
    },
    {
      "cell_type": "markdown",
      "metadata": {
        "id": "fCX_sXwyvc1Q"
      },
      "source": [
        "**Расчет SMAPE лучшей модели на тестовой выборке:**"
      ]
    },
    {
      "cell_type": "code",
      "execution_count": null,
      "metadata": {
        "id": "xuUuqCsDvc1Q"
      },
      "outputs": [],
      "source": [
        "X_test = data_test[features_columns]\n",
        "X_test=scaler.transform(X_test)\n",
        "y_test = data_test[target_columns]"
      ]
    },
    {
      "cell_type": "code",
      "execution_count": null,
      "metadata": {
        "id": "gvFEuhEGvc1R",
        "outputId": "88bf00c5-31ac-4cc7-c01b-6f6cfcae5dc0"
      },
      "outputs": [
        {
          "data": {
            "text/plain": [
              "7.373809433919645"
            ]
          },
          "execution_count": 152,
          "metadata": {},
          "output_type": "execute_result"
        }
      ],
      "source": [
        "rd_rougher = RandomForestRegressor(random_state=RS, max_depth=4, n_estimators=10)\n",
        "rd_rougher.fit(X_train, y_train['rougher.output.recovery'])\n",
        "pred_rough=rd_rougher.predict(X_test)\n",
        "smape_rough=smape(pred_rough,y_test['rougher.output.recovery'])\n",
        "\n",
        "rd_final = RandomForestRegressor(random_state=RS, max_depth=2, n_estimators=10)\n",
        "rd_final.fit(X_train, y_train['final.output.recovery'])\n",
        "pred_final=rd_final.predict(X_test)\n",
        "smape_final=smape(pred_final,y_test['final.output.recovery'])\n",
        "\n",
        "smape_test=abs(smape_final*0.75)+abs(smape_rough*0.25)\n",
        "smape_test"
      ]
    },
    {
      "cell_type": "markdown",
      "metadata": {
        "id": "2HnH5WQ5vc1R"
      },
      "source": [
        "SMAPE на тестовой выборке получилось равным ~ 7.37%."
      ]
    },
    {
      "cell_type": "markdown",
      "metadata": {
        "id": "tQ7RyjP8vc1R"
      },
      "source": [
        "**Проверка модели на адекватность.**"
      ]
    },
    {
      "cell_type": "code",
      "execution_count": null,
      "metadata": {
        "id": "nRdoyZDgvc1R",
        "outputId": "2c19a202-9638-47a0-b028-393012fab006"
      },
      "outputs": [
        {
          "data": {
            "text/plain": [
              "8.469085825154052"
            ]
          },
          "execution_count": 150,
          "metadata": {},
          "output_type": "execute_result"
        }
      ],
      "source": [
        "dr = DummyRegressor()\n",
        "dr.fit(X_train, y_train['rougher.output.recovery'])\n",
        "pred_dr_rough=dr.predict(X_test)\n",
        "smape_dr_rough=smape(pred_dr_rough,y_test['rougher.output.recovery'])\n",
        "\n",
        "dr.fit(X_train, y_train['final.output.recovery'])\n",
        "pred_dr_final=dr.predict(X_test)\n",
        "smape_dr_final=smape(pred_dr_final,y_test['final.output.recovery'])\n",
        "\n",
        "smape_check=abs(smape_dr_final*0.75)+abs(smape_dr_rough*0.25)\n",
        "smape_check"
      ]
    },
    {
      "cell_type": "markdown",
      "metadata": {
        "id": "KI9RCEwsvc1S"
      },
      "source": [
        "SMAPE константной модели значительно больше полученного, следовательно модель адекватно и ее можно брать в работу."
      ]
    },
    {
      "cell_type": "markdown",
      "metadata": {
        "id": "uCFm9Mj_vc1S"
      },
      "source": [
        "## Общий вывод.\n",
        "\n",
        "В нашем распоряжении были относительно сырые тренировочные и тестовые данные по обработке золотосодержащей руды. Перед нами стояла задача расчитать метрику  SMAPE для двух этапов очистки.  \n",
        "Для выполнения задачи - поиска оптимальной модели, предсказывающий коэффициент восстановления золота, мы провели обработку имеющихся датасетов: добавили в тестовый недостающие значения таргетов, заполнили пропуски интерполяцией по дата-индексу, избавились от околонулевых значений содержания общего колличества металлов в концентрате после обработки.  \n",
        "Проанализировав обработанные данные мы выявили несколько закономерностей: концентрация золота на всех этапах прогресирует, а концентрация остальных металлов, а также раствореных веществ убывает.  \n",
        "Выбрав несколько моделей регрессии, мы выявили лучший показатель SMAPE = 8.2% у модели Случайного Леса с гиперпараметрами max_depth = 4, n_estimators=10 на этапе флотации, и max_depth=2, n_estimators=10 на финальном этапе.\n",
        "На тестовой выборке SMAPE = 7.37%, случайная же модель продемонстрировала этот показатель = 8.46%, что подтверждает адекватность нашей модели."
      ]
    },
    {
      "cell_type": "code",
      "execution_count": null,
      "metadata": {
        "id": "JupajP8evc1T"
      },
      "outputs": [],
      "source": []
    }
  ],
  "metadata": {
    "ExecuteTimeLog": [
      {
        "duration": 462,
        "start_time": "2023-06-13T12:57:58.512Z"
      },
      {
        "duration": 489,
        "start_time": "2023-06-13T13:00:45.609Z"
      },
      {
        "duration": 257,
        "start_time": "2023-06-13T13:00:55.500Z"
      },
      {
        "duration": 436,
        "start_time": "2023-06-13T13:00:59.546Z"
      },
      {
        "duration": 50,
        "start_time": "2023-06-13T13:01:08.933Z"
      },
      {
        "duration": 11,
        "start_time": "2023-06-13T13:01:17.585Z"
      },
      {
        "duration": 956,
        "start_time": "2023-06-13T13:01:55.929Z"
      },
      {
        "duration": 298,
        "start_time": "2023-06-13T13:02:02.792Z"
      },
      {
        "duration": 47,
        "start_time": "2023-06-13T13:03:09.594Z"
      },
      {
        "duration": 51,
        "start_time": "2023-06-14T11:08:34.491Z"
      },
      {
        "duration": 558,
        "start_time": "2023-06-14T11:08:39.356Z"
      },
      {
        "duration": 1667,
        "start_time": "2023-06-14T11:08:39.916Z"
      },
      {
        "duration": 390,
        "start_time": "2023-06-14T11:08:51.682Z"
      },
      {
        "duration": 29,
        "start_time": "2023-06-14T11:08:52.205Z"
      },
      {
        "duration": 57,
        "start_time": "2023-06-14T11:09:00.174Z"
      },
      {
        "duration": 411,
        "start_time": "2023-06-14T11:09:37.793Z"
      },
      {
        "duration": 158,
        "start_time": "2023-06-14T11:09:44.231Z"
      },
      {
        "duration": 14,
        "start_time": "2023-06-14T11:10:00.282Z"
      },
      {
        "duration": 3,
        "start_time": "2023-06-14T11:13:50.779Z"
      },
      {
        "duration": 3,
        "start_time": "2023-06-14T11:14:23.545Z"
      },
      {
        "duration": 13,
        "start_time": "2023-06-14T11:17:25.957Z"
      },
      {
        "duration": 24,
        "start_time": "2023-06-14T11:17:33.135Z"
      },
      {
        "duration": 23,
        "start_time": "2023-06-14T11:17:47.760Z"
      },
      {
        "duration": 5,
        "start_time": "2023-06-14T11:20:22.492Z"
      },
      {
        "duration": 5,
        "start_time": "2023-06-14T11:20:46.505Z"
      },
      {
        "duration": 14,
        "start_time": "2023-06-14T11:22:35.352Z"
      },
      {
        "duration": 3,
        "start_time": "2023-06-14T11:25:14.452Z"
      },
      {
        "duration": 5,
        "start_time": "2023-06-14T11:25:19.096Z"
      },
      {
        "duration": 81,
        "start_time": "2023-06-14T11:35:56.964Z"
      },
      {
        "duration": 11,
        "start_time": "2023-06-14T11:36:13.674Z"
      },
      {
        "duration": 171,
        "start_time": "2023-06-14T11:36:34.408Z"
      },
      {
        "duration": 187,
        "start_time": "2023-06-14T11:36:51.923Z"
      },
      {
        "duration": 197,
        "start_time": "2023-06-14T11:40:03.086Z"
      },
      {
        "duration": 196,
        "start_time": "2023-06-14T11:40:40.633Z"
      },
      {
        "duration": 275,
        "start_time": "2023-06-14T11:42:20.208Z"
      },
      {
        "duration": 118,
        "start_time": "2023-06-14T11:42:26.962Z"
      },
      {
        "duration": 242,
        "start_time": "2023-06-14T11:42:47.567Z"
      },
      {
        "duration": 118,
        "start_time": "2023-06-14T11:44:23.221Z"
      },
      {
        "duration": 1998,
        "start_time": "2023-06-14T11:44:32.630Z"
      },
      {
        "duration": 415,
        "start_time": "2023-06-14T11:44:35.628Z"
      },
      {
        "duration": 8677,
        "start_time": "2023-06-14T11:44:45.526Z"
      },
      {
        "duration": 477,
        "start_time": "2023-06-14T11:45:28.248Z"
      },
      {
        "duration": 337,
        "start_time": "2023-06-14T11:45:28.727Z"
      },
      {
        "duration": 57,
        "start_time": "2023-06-14T11:45:29.066Z"
      },
      {
        "duration": 136,
        "start_time": "2023-06-14T11:45:29.125Z"
      },
      {
        "duration": 237,
        "start_time": "2023-06-14T11:45:29.263Z"
      },
      {
        "duration": 97,
        "start_time": "2023-06-14T11:45:29.502Z"
      },
      {
        "duration": 14,
        "start_time": "2023-06-14T11:45:29.601Z"
      },
      {
        "duration": 388,
        "start_time": "2023-06-14T11:45:29.617Z"
      },
      {
        "duration": 195,
        "start_time": "2023-06-14T11:45:30.007Z"
      },
      {
        "duration": 13,
        "start_time": "2023-06-14T11:45:30.204Z"
      },
      {
        "duration": 18,
        "start_time": "2023-06-14T12:02:18.877Z"
      },
      {
        "duration": 110,
        "start_time": "2023-06-14T12:57:16.427Z"
      },
      {
        "duration": 1731,
        "start_time": "2023-06-14T12:57:24.992Z"
      },
      {
        "duration": 7,
        "start_time": "2023-06-14T12:57:34.203Z"
      },
      {
        "duration": 7,
        "start_time": "2023-06-14T12:59:07.895Z"
      },
      {
        "duration": 191,
        "start_time": "2023-06-14T12:59:18.852Z"
      },
      {
        "duration": 1455,
        "start_time": "2023-06-14T12:59:41.392Z"
      },
      {
        "duration": 1517,
        "start_time": "2023-06-14T12:59:46.945Z"
      },
      {
        "duration": 924,
        "start_time": "2023-06-14T12:59:56.534Z"
      },
      {
        "duration": 28,
        "start_time": "2023-06-14T13:00:35.852Z"
      },
      {
        "duration": 18,
        "start_time": "2023-06-14T13:00:51.436Z"
      },
      {
        "duration": 1148,
        "start_time": "2023-06-14T13:01:44.845Z"
      },
      {
        "duration": 4,
        "start_time": "2023-06-14T13:14:18.019Z"
      },
      {
        "duration": 5,
        "start_time": "2023-06-14T13:14:23.750Z"
      },
      {
        "duration": 5,
        "start_time": "2023-06-14T13:16:48.688Z"
      },
      {
        "duration": 187,
        "start_time": "2023-06-14T14:17:24.921Z"
      },
      {
        "duration": 76,
        "start_time": "2023-06-14T14:18:42.852Z"
      },
      {
        "duration": 3,
        "start_time": "2023-06-14T14:18:57.280Z"
      },
      {
        "duration": 8163,
        "start_time": "2023-06-14T14:18:57.285Z"
      },
      {
        "duration": 1450,
        "start_time": "2023-06-14T14:19:22.697Z"
      },
      {
        "duration": 365,
        "start_time": "2023-06-14T14:19:24.150Z"
      },
      {
        "duration": 17,
        "start_time": "2023-06-14T14:19:24.516Z"
      },
      {
        "duration": 147,
        "start_time": "2023-06-14T14:19:24.536Z"
      },
      {
        "duration": 277,
        "start_time": "2023-06-14T14:19:24.685Z"
      },
      {
        "duration": 132,
        "start_time": "2023-06-14T14:19:24.968Z"
      },
      {
        "duration": 14,
        "start_time": "2023-06-14T14:19:25.102Z"
      },
      {
        "duration": 424,
        "start_time": "2023-06-14T14:19:25.118Z"
      },
      {
        "duration": 27,
        "start_time": "2023-06-14T14:19:25.543Z"
      },
      {
        "duration": 23,
        "start_time": "2023-06-14T14:19:25.573Z"
      },
      {
        "duration": 5,
        "start_time": "2023-06-14T14:19:25.598Z"
      },
      {
        "duration": 137,
        "start_time": "2023-06-14T14:19:25.605Z"
      },
      {
        "duration": 0,
        "start_time": "2023-06-14T14:19:25.743Z"
      },
      {
        "duration": 16,
        "start_time": "2023-06-14T14:19:44.623Z"
      },
      {
        "duration": 14,
        "start_time": "2023-06-14T14:19:49.270Z"
      },
      {
        "duration": 9,
        "start_time": "2023-06-14T14:20:30.035Z"
      },
      {
        "duration": 14,
        "start_time": "2023-06-14T14:20:54.929Z"
      },
      {
        "duration": 18,
        "start_time": "2023-06-14T14:21:08.401Z"
      },
      {
        "duration": 8,
        "start_time": "2023-06-14T14:21:12.101Z"
      },
      {
        "duration": 177,
        "start_time": "2023-06-14T14:21:16.118Z"
      },
      {
        "duration": 10,
        "start_time": "2023-06-14T14:34:01.978Z"
      },
      {
        "duration": 9,
        "start_time": "2023-06-14T14:34:28.011Z"
      },
      {
        "duration": 22,
        "start_time": "2023-06-14T14:34:49.183Z"
      },
      {
        "duration": 3,
        "start_time": "2023-06-14T14:35:06.785Z"
      },
      {
        "duration": 11,
        "start_time": "2023-06-14T14:35:19.303Z"
      },
      {
        "duration": 4,
        "start_time": "2023-06-14T14:35:29.307Z"
      },
      {
        "duration": 4,
        "start_time": "2023-06-14T14:35:32.748Z"
      },
      {
        "duration": 5,
        "start_time": "2023-06-14T14:35:42.395Z"
      },
      {
        "duration": 10,
        "start_time": "2023-06-14T14:35:49.377Z"
      },
      {
        "duration": 9,
        "start_time": "2023-06-14T14:35:53.333Z"
      },
      {
        "duration": 10,
        "start_time": "2023-06-14T14:35:58.799Z"
      },
      {
        "duration": 10,
        "start_time": "2023-06-14T14:36:01.949Z"
      },
      {
        "duration": 12,
        "start_time": "2023-06-14T14:37:08.296Z"
      },
      {
        "duration": 14,
        "start_time": "2023-06-14T14:37:12.956Z"
      },
      {
        "duration": 5,
        "start_time": "2023-06-14T14:37:21.940Z"
      },
      {
        "duration": 5,
        "start_time": "2023-06-14T14:38:09.431Z"
      },
      {
        "duration": 5,
        "start_time": "2023-06-14T14:38:15.041Z"
      },
      {
        "duration": 579,
        "start_time": "2023-06-14T14:42:30.443Z"
      },
      {
        "duration": 28,
        "start_time": "2023-06-14T14:42:57.179Z"
      },
      {
        "duration": 2182,
        "start_time": "2023-06-14T14:43:09.073Z"
      },
      {
        "duration": 1382,
        "start_time": "2023-06-14T14:44:04.710Z"
      },
      {
        "duration": 348,
        "start_time": "2023-06-14T14:44:06.095Z"
      },
      {
        "duration": 30,
        "start_time": "2023-06-14T14:44:06.444Z"
      },
      {
        "duration": 142,
        "start_time": "2023-06-14T14:44:06.476Z"
      },
      {
        "duration": 265,
        "start_time": "2023-06-14T14:44:06.621Z"
      },
      {
        "duration": 109,
        "start_time": "2023-06-14T14:44:06.888Z"
      },
      {
        "duration": 13,
        "start_time": "2023-06-14T14:44:06.998Z"
      },
      {
        "duration": 422,
        "start_time": "2023-06-14T14:44:07.013Z"
      },
      {
        "duration": 31,
        "start_time": "2023-06-14T14:44:07.437Z"
      },
      {
        "duration": 23,
        "start_time": "2023-06-14T14:44:07.471Z"
      },
      {
        "duration": 5,
        "start_time": "2023-06-14T14:44:07.496Z"
      },
      {
        "duration": 25,
        "start_time": "2023-06-14T14:44:07.502Z"
      },
      {
        "duration": 199,
        "start_time": "2023-06-14T14:44:07.528Z"
      },
      {
        "duration": 5,
        "start_time": "2023-06-14T14:44:07.730Z"
      },
      {
        "duration": 53,
        "start_time": "2023-06-14T14:44:07.736Z"
      },
      {
        "duration": 48,
        "start_time": "2023-06-14T14:44:20.405Z"
      },
      {
        "duration": 36,
        "start_time": "2023-06-14T14:44:31.681Z"
      },
      {
        "duration": 57,
        "start_time": "2023-06-14T14:44:47.216Z"
      },
      {
        "duration": 56,
        "start_time": "2023-06-14T14:46:39.050Z"
      },
      {
        "duration": 107,
        "start_time": "2023-06-14T14:46:54.641Z"
      },
      {
        "duration": 3,
        "start_time": "2023-06-14T14:47:18.807Z"
      },
      {
        "duration": 19,
        "start_time": "2023-06-14T14:47:38.100Z"
      },
      {
        "duration": 58,
        "start_time": "2023-06-14T18:12:35.195Z"
      },
      {
        "duration": 1837,
        "start_time": "2023-06-14T18:12:39.528Z"
      },
      {
        "duration": 1423,
        "start_time": "2023-06-14T18:12:41.367Z"
      },
      {
        "duration": 29,
        "start_time": "2023-06-14T18:12:42.792Z"
      },
      {
        "duration": 136,
        "start_time": "2023-06-14T18:12:42.823Z"
      },
      {
        "duration": 264,
        "start_time": "2023-06-14T18:12:42.961Z"
      },
      {
        "duration": 291,
        "start_time": "2023-06-14T18:12:43.228Z"
      },
      {
        "duration": 19,
        "start_time": "2023-06-14T18:12:43.521Z"
      },
      {
        "duration": 1592,
        "start_time": "2023-06-14T18:12:43.542Z"
      },
      {
        "duration": 17,
        "start_time": "2023-06-14T18:12:45.136Z"
      },
      {
        "duration": 39,
        "start_time": "2023-06-14T18:12:45.155Z"
      },
      {
        "duration": 12,
        "start_time": "2023-06-14T18:12:45.203Z"
      },
      {
        "duration": 10,
        "start_time": "2023-06-14T18:12:45.217Z"
      },
      {
        "duration": 193,
        "start_time": "2023-06-14T18:12:45.229Z"
      },
      {
        "duration": 3,
        "start_time": "2023-06-14T18:12:54.660Z"
      },
      {
        "duration": 3,
        "start_time": "2023-06-14T18:14:39.342Z"
      },
      {
        "duration": 5,
        "start_time": "2023-06-14T18:14:41.999Z"
      },
      {
        "duration": 3,
        "start_time": "2023-06-14T18:14:44.843Z"
      },
      {
        "duration": 377,
        "start_time": "2023-06-14T18:14:44.847Z"
      },
      {
        "duration": 16,
        "start_time": "2023-06-14T18:14:45.226Z"
      },
      {
        "duration": 156,
        "start_time": "2023-06-14T18:14:45.243Z"
      },
      {
        "duration": 237,
        "start_time": "2023-06-14T18:14:45.402Z"
      },
      {
        "duration": 110,
        "start_time": "2023-06-14T18:14:45.641Z"
      },
      {
        "duration": 11,
        "start_time": "2023-06-14T18:14:45.753Z"
      },
      {
        "duration": 440,
        "start_time": "2023-06-14T18:14:45.771Z"
      },
      {
        "duration": 18,
        "start_time": "2023-06-14T18:14:46.214Z"
      },
      {
        "duration": 18,
        "start_time": "2023-06-14T18:14:46.234Z"
      },
      {
        "duration": 12,
        "start_time": "2023-06-14T18:14:46.271Z"
      },
      {
        "duration": 50,
        "start_time": "2023-06-14T18:14:46.285Z"
      },
      {
        "duration": 204,
        "start_time": "2023-06-14T18:14:46.337Z"
      },
      {
        "duration": 4,
        "start_time": "2023-06-14T18:14:52.496Z"
      },
      {
        "duration": 3,
        "start_time": "2023-06-14T18:14:52.931Z"
      },
      {
        "duration": 60,
        "start_time": "2023-06-14T18:14:54.332Z"
      },
      {
        "duration": 44,
        "start_time": "2023-06-14T18:15:12.798Z"
      },
      {
        "duration": 32,
        "start_time": "2023-06-14T18:15:37.704Z"
      },
      {
        "duration": 19,
        "start_time": "2023-06-14T18:20:52.416Z"
      },
      {
        "duration": 44,
        "start_time": "2023-06-14T18:21:00.032Z"
      },
      {
        "duration": 49,
        "start_time": "2023-06-14T18:21:06.042Z"
      },
      {
        "duration": 4,
        "start_time": "2023-06-14T18:25:12.285Z"
      },
      {
        "duration": 5,
        "start_time": "2023-06-14T18:25:28.988Z"
      },
      {
        "duration": 4,
        "start_time": "2023-06-14T18:25:32.290Z"
      },
      {
        "duration": 529,
        "start_time": "2023-06-14T18:25:32.296Z"
      },
      {
        "duration": 26,
        "start_time": "2023-06-14T18:25:32.829Z"
      },
      {
        "duration": 155,
        "start_time": "2023-06-14T18:25:32.857Z"
      },
      {
        "duration": 270,
        "start_time": "2023-06-14T18:25:33.014Z"
      },
      {
        "duration": 107,
        "start_time": "2023-06-14T18:25:33.287Z"
      },
      {
        "duration": 13,
        "start_time": "2023-06-14T18:25:33.396Z"
      },
      {
        "duration": 532,
        "start_time": "2023-06-14T18:25:33.410Z"
      },
      {
        "duration": 24,
        "start_time": "2023-06-14T18:25:33.949Z"
      },
      {
        "duration": 20,
        "start_time": "2023-06-14T18:25:33.975Z"
      },
      {
        "duration": 9,
        "start_time": "2023-06-14T18:25:33.997Z"
      },
      {
        "duration": 34,
        "start_time": "2023-06-14T18:25:34.007Z"
      },
      {
        "duration": 233,
        "start_time": "2023-06-14T18:25:34.045Z"
      },
      {
        "duration": 3,
        "start_time": "2023-06-14T18:25:34.280Z"
      },
      {
        "duration": 9,
        "start_time": "2023-06-14T18:25:34.284Z"
      },
      {
        "duration": 71,
        "start_time": "2023-06-14T18:25:34.294Z"
      },
      {
        "duration": 50,
        "start_time": "2023-06-14T18:25:53.737Z"
      },
      {
        "duration": 41,
        "start_time": "2023-06-14T18:26:02.507Z"
      },
      {
        "duration": 24,
        "start_time": "2023-06-14T18:26:48.302Z"
      },
      {
        "duration": 3,
        "start_time": "2023-06-14T18:27:23.582Z"
      },
      {
        "duration": 411,
        "start_time": "2023-06-14T18:27:23.587Z"
      },
      {
        "duration": 28,
        "start_time": "2023-06-14T18:27:23.999Z"
      },
      {
        "duration": 157,
        "start_time": "2023-06-14T18:27:24.029Z"
      },
      {
        "duration": 268,
        "start_time": "2023-06-14T18:27:24.188Z"
      },
      {
        "duration": 110,
        "start_time": "2023-06-14T18:27:24.458Z"
      },
      {
        "duration": 18,
        "start_time": "2023-06-14T18:27:24.570Z"
      },
      {
        "duration": 534,
        "start_time": "2023-06-14T18:27:24.590Z"
      },
      {
        "duration": 22,
        "start_time": "2023-06-14T18:27:25.126Z"
      },
      {
        "duration": 49,
        "start_time": "2023-06-14T18:27:25.150Z"
      },
      {
        "duration": 6,
        "start_time": "2023-06-14T18:27:25.201Z"
      },
      {
        "duration": 50,
        "start_time": "2023-06-14T18:27:25.210Z"
      },
      {
        "duration": 214,
        "start_time": "2023-06-14T18:27:25.263Z"
      },
      {
        "duration": 3,
        "start_time": "2023-06-14T18:27:25.479Z"
      },
      {
        "duration": 21,
        "start_time": "2023-06-14T18:27:25.483Z"
      },
      {
        "duration": 48,
        "start_time": "2023-06-14T18:27:31.498Z"
      },
      {
        "duration": 4,
        "start_time": "2023-06-14T18:27:31.885Z"
      },
      {
        "duration": 37,
        "start_time": "2023-06-14T18:27:52.990Z"
      },
      {
        "duration": 25,
        "start_time": "2023-06-14T18:28:05.578Z"
      },
      {
        "duration": 25,
        "start_time": "2023-06-14T18:28:05.806Z"
      },
      {
        "duration": 7,
        "start_time": "2023-06-14T18:28:14.244Z"
      },
      {
        "duration": 385,
        "start_time": "2023-06-14T18:28:14.258Z"
      },
      {
        "duration": 18,
        "start_time": "2023-06-14T18:28:14.651Z"
      },
      {
        "duration": 159,
        "start_time": "2023-06-14T18:28:14.671Z"
      },
      {
        "duration": 259,
        "start_time": "2023-06-14T18:28:14.839Z"
      },
      {
        "duration": 108,
        "start_time": "2023-06-14T18:28:15.100Z"
      },
      {
        "duration": 21,
        "start_time": "2023-06-14T18:28:15.219Z"
      },
      {
        "duration": 449,
        "start_time": "2023-06-14T18:28:15.242Z"
      },
      {
        "duration": 17,
        "start_time": "2023-06-14T18:28:15.692Z"
      },
      {
        "duration": 30,
        "start_time": "2023-06-14T18:28:15.726Z"
      },
      {
        "duration": 8,
        "start_time": "2023-06-14T18:28:15.759Z"
      },
      {
        "duration": 9,
        "start_time": "2023-06-14T18:28:15.769Z"
      },
      {
        "duration": 200,
        "start_time": "2023-06-14T18:28:15.780Z"
      },
      {
        "duration": 2,
        "start_time": "2023-06-14T18:28:15.983Z"
      },
      {
        "duration": 6,
        "start_time": "2023-06-14T18:28:15.987Z"
      },
      {
        "duration": 63,
        "start_time": "2023-06-14T18:28:15.995Z"
      },
      {
        "duration": 5,
        "start_time": "2023-06-14T18:28:16.060Z"
      },
      {
        "duration": 40,
        "start_time": "2023-06-14T18:28:16.067Z"
      },
      {
        "duration": 34,
        "start_time": "2023-06-14T18:28:20.834Z"
      },
      {
        "duration": 18,
        "start_time": "2023-06-14T18:28:21.796Z"
      },
      {
        "duration": 8669,
        "start_time": "2023-06-14T18:39:57.253Z"
      },
      {
        "duration": 8705,
        "start_time": "2023-06-14T18:40:21.558Z"
      },
      {
        "duration": 667,
        "start_time": "2023-06-14T18:41:51.702Z"
      },
      {
        "duration": 1470,
        "start_time": "2023-06-14T18:42:14.633Z"
      },
      {
        "duration": 1001,
        "start_time": "2023-06-14T18:42:37.809Z"
      },
      {
        "duration": 1406,
        "start_time": "2023-06-14T18:42:50.778Z"
      },
      {
        "duration": 344,
        "start_time": "2023-06-14T18:44:31.866Z"
      },
      {
        "duration": 3,
        "start_time": "2023-06-14T18:44:51.973Z"
      },
      {
        "duration": 2676,
        "start_time": "2023-06-14T18:44:52.370Z"
      },
      {
        "duration": 2817,
        "start_time": "2023-06-14T18:47:30.495Z"
      },
      {
        "duration": 7230,
        "start_time": "2023-06-14T18:47:44.607Z"
      },
      {
        "duration": 472,
        "start_time": "2023-06-14T18:50:00.433Z"
      },
      {
        "duration": 630,
        "start_time": "2023-06-14T19:02:53.835Z"
      },
      {
        "duration": 21,
        "start_time": "2023-06-14T19:12:26.390Z"
      },
      {
        "duration": 13,
        "start_time": "2023-06-14T19:12:34.453Z"
      },
      {
        "duration": 76,
        "start_time": "2023-06-14T19:12:49.208Z"
      },
      {
        "duration": 40,
        "start_time": "2023-06-14T19:12:59.982Z"
      },
      {
        "duration": 6,
        "start_time": "2023-06-14T19:13:49.287Z"
      },
      {
        "duration": 509,
        "start_time": "2023-06-14T19:13:49.298Z"
      },
      {
        "duration": 458,
        "start_time": "2023-06-14T19:13:52.346Z"
      },
      {
        "duration": 19,
        "start_time": "2023-06-14T19:13:57.538Z"
      },
      {
        "duration": 207,
        "start_time": "2023-06-14T19:13:58.499Z"
      },
      {
        "duration": 66,
        "start_time": "2023-06-14T19:14:00.515Z"
      },
      {
        "duration": 14,
        "start_time": "2023-06-14T19:14:26.189Z"
      },
      {
        "duration": 762,
        "start_time": "2023-06-14T19:14:27.985Z"
      },
      {
        "duration": 57,
        "start_time": "2023-06-14T19:14:33.532Z"
      },
      {
        "duration": 33,
        "start_time": "2023-06-14T19:14:59.939Z"
      },
      {
        "duration": 38,
        "start_time": "2023-06-14T19:15:00.798Z"
      },
      {
        "duration": 24,
        "start_time": "2023-06-14T19:15:02.013Z"
      },
      {
        "duration": 7,
        "start_time": "2023-06-14T19:15:02.898Z"
      },
      {
        "duration": 275,
        "start_time": "2023-06-14T19:15:03.300Z"
      },
      {
        "duration": 16,
        "start_time": "2023-06-14T19:15:03.641Z"
      },
      {
        "duration": 12,
        "start_time": "2023-06-14T19:15:03.918Z"
      },
      {
        "duration": 38,
        "start_time": "2023-06-14T19:15:04.070Z"
      },
      {
        "duration": 7,
        "start_time": "2023-06-14T19:15:04.295Z"
      },
      {
        "duration": 89,
        "start_time": "2023-06-14T19:15:04.603Z"
      },
      {
        "duration": 83,
        "start_time": "2023-06-14T19:15:04.711Z"
      },
      {
        "duration": 37,
        "start_time": "2023-06-14T19:15:04.809Z"
      },
      {
        "duration": 45,
        "start_time": "2023-06-14T19:15:19.390Z"
      },
      {
        "duration": 76,
        "start_time": "2023-06-14T19:15:41.808Z"
      },
      {
        "duration": 59,
        "start_time": "2023-06-14T19:15:54.444Z"
      },
      {
        "duration": 71,
        "start_time": "2023-06-14T19:16:02.478Z"
      },
      {
        "duration": 6,
        "start_time": "2023-06-14T19:29:16.900Z"
      },
      {
        "duration": 5,
        "start_time": "2023-06-14T19:29:22.189Z"
      },
      {
        "duration": 1019,
        "start_time": "2023-06-14T19:29:41.846Z"
      },
      {
        "duration": 449,
        "start_time": "2023-06-14T19:29:58.415Z"
      },
      {
        "duration": 740,
        "start_time": "2023-06-14T19:30:07.291Z"
      },
      {
        "duration": 836,
        "start_time": "2023-06-14T19:30:23.921Z"
      },
      {
        "duration": 1338,
        "start_time": "2023-06-14T19:30:49.750Z"
      },
      {
        "duration": 19,
        "start_time": "2023-06-14T19:32:11.101Z"
      },
      {
        "duration": 925,
        "start_time": "2023-06-14T19:33:09.346Z"
      },
      {
        "duration": 1557,
        "start_time": "2023-06-14T19:33:49.114Z"
      },
      {
        "duration": 1027,
        "start_time": "2023-06-14T19:33:58.482Z"
      },
      {
        "duration": 1102,
        "start_time": "2023-06-14T19:35:30.495Z"
      },
      {
        "duration": 1354,
        "start_time": "2023-06-14T19:36:15.120Z"
      },
      {
        "duration": 1034,
        "start_time": "2023-06-14T19:39:37.556Z"
      },
      {
        "duration": 1801,
        "start_time": "2023-06-14T19:41:32.233Z"
      },
      {
        "duration": 273,
        "start_time": "2023-06-14T19:45:41.892Z"
      },
      {
        "duration": 241,
        "start_time": "2023-06-14T19:45:55.398Z"
      },
      {
        "duration": 250,
        "start_time": "2023-06-14T19:46:11.280Z"
      },
      {
        "duration": 270,
        "start_time": "2023-06-14T19:46:32.739Z"
      },
      {
        "duration": 275,
        "start_time": "2023-06-14T19:46:52.436Z"
      },
      {
        "duration": 262,
        "start_time": "2023-06-14T19:46:57.015Z"
      },
      {
        "duration": 359,
        "start_time": "2023-06-14T19:47:07.546Z"
      },
      {
        "duration": 280,
        "start_time": "2023-06-14T19:47:13.907Z"
      },
      {
        "duration": 275,
        "start_time": "2023-06-14T19:47:39.562Z"
      },
      {
        "duration": 224,
        "start_time": "2023-06-14T19:48:25.947Z"
      },
      {
        "duration": 245,
        "start_time": "2023-06-14T19:49:40.346Z"
      },
      {
        "duration": 356,
        "start_time": "2023-06-14T19:49:48.385Z"
      },
      {
        "duration": 411,
        "start_time": "2023-06-14T19:50:14.302Z"
      },
      {
        "duration": 15,
        "start_time": "2023-06-14T19:50:59.955Z"
      },
      {
        "duration": 35,
        "start_time": "2023-06-14T19:51:17.506Z"
      },
      {
        "duration": 1139,
        "start_time": "2023-06-14T19:55:25.992Z"
      },
      {
        "duration": 1580,
        "start_time": "2023-06-14T19:55:33.001Z"
      },
      {
        "duration": 1522,
        "start_time": "2023-06-14T19:55:51.958Z"
      },
      {
        "duration": 1663,
        "start_time": "2023-06-14T19:56:21.087Z"
      },
      {
        "duration": 2630,
        "start_time": "2023-06-14T19:56:55.147Z"
      },
      {
        "duration": 1538,
        "start_time": "2023-06-14T19:57:03.907Z"
      },
      {
        "duration": 35,
        "start_time": "2023-06-14T20:00:00.050Z"
      },
      {
        "duration": 22,
        "start_time": "2023-06-14T20:00:37.343Z"
      },
      {
        "duration": 24,
        "start_time": "2023-06-14T20:00:59.848Z"
      },
      {
        "duration": 13,
        "start_time": "2023-06-14T20:03:40.140Z"
      },
      {
        "duration": 32,
        "start_time": "2023-06-14T20:05:28.493Z"
      },
      {
        "duration": 1482,
        "start_time": "2023-06-14T20:05:58.859Z"
      },
      {
        "duration": 1723,
        "start_time": "2023-06-15T19:08:26.831Z"
      },
      {
        "duration": 1704,
        "start_time": "2023-06-15T19:08:28.556Z"
      },
      {
        "duration": 7,
        "start_time": "2023-06-15T19:08:30.262Z"
      },
      {
        "duration": 501,
        "start_time": "2023-06-15T19:08:30.271Z"
      },
      {
        "duration": 3,
        "start_time": "2023-06-15T20:40:14.234Z"
      },
      {
        "duration": 371,
        "start_time": "2023-06-15T20:40:14.240Z"
      },
      {
        "duration": 12,
        "start_time": "2023-06-15T20:40:14.612Z"
      },
      {
        "duration": 134,
        "start_time": "2023-06-15T20:40:14.626Z"
      },
      {
        "duration": 12,
        "start_time": "2023-06-15T20:40:14.763Z"
      },
      {
        "duration": 18,
        "start_time": "2023-06-15T20:40:14.776Z"
      },
      {
        "duration": 2295,
        "start_time": "2023-06-15T20:40:14.795Z"
      },
      {
        "duration": 19,
        "start_time": "2023-06-15T20:40:17.092Z"
      },
      {
        "duration": 21,
        "start_time": "2023-06-15T20:40:17.116Z"
      },
      {
        "duration": 50,
        "start_time": "2023-06-15T20:40:17.145Z"
      },
      {
        "duration": 6,
        "start_time": "2023-06-15T20:40:17.198Z"
      },
      {
        "duration": 42,
        "start_time": "2023-06-15T20:40:17.206Z"
      },
      {
        "duration": 212,
        "start_time": "2023-06-15T20:40:17.258Z"
      },
      {
        "duration": 2,
        "start_time": "2023-06-15T20:40:17.473Z"
      },
      {
        "duration": 7,
        "start_time": "2023-06-15T20:40:17.477Z"
      },
      {
        "duration": 55,
        "start_time": "2023-06-15T20:40:17.486Z"
      },
      {
        "duration": 6,
        "start_time": "2023-06-15T20:40:17.551Z"
      },
      {
        "duration": 41,
        "start_time": "2023-06-15T20:40:17.559Z"
      },
      {
        "duration": 31,
        "start_time": "2023-06-15T20:40:17.602Z"
      },
      {
        "duration": 12,
        "start_time": "2023-06-15T20:40:17.640Z"
      },
      {
        "duration": 1230,
        "start_time": "2023-06-15T20:40:58.721Z"
      },
      {
        "duration": 1361,
        "start_time": "2023-06-15T20:41:18.911Z"
      },
      {
        "duration": 1385,
        "start_time": "2023-06-15T20:41:36.845Z"
      },
      {
        "duration": 1247,
        "start_time": "2023-06-15T20:42:07.902Z"
      },
      {
        "duration": 1242,
        "start_time": "2023-06-15T20:42:44.368Z"
      },
      {
        "duration": 1156,
        "start_time": "2023-06-15T20:42:52.153Z"
      },
      {
        "duration": 443,
        "start_time": "2023-06-15T20:43:39.592Z"
      },
      {
        "duration": 334,
        "start_time": "2023-06-15T20:45:25.135Z"
      },
      {
        "duration": 5,
        "start_time": "2023-06-15T20:50:14.659Z"
      },
      {
        "duration": 1339,
        "start_time": "2023-06-15T20:51:26.250Z"
      },
      {
        "duration": 1402,
        "start_time": "2023-06-15T20:51:45.364Z"
      },
      {
        "duration": 21,
        "start_time": "2023-06-15T20:52:10.938Z"
      },
      {
        "duration": 983,
        "start_time": "2023-06-15T20:52:15.403Z"
      },
      {
        "duration": 5,
        "start_time": "2023-06-15T20:52:36.062Z"
      },
      {
        "duration": 1480,
        "start_time": "2023-06-15T20:52:36.771Z"
      },
      {
        "duration": 6,
        "start_time": "2023-06-15T20:55:50.040Z"
      },
      {
        "duration": 1343,
        "start_time": "2023-06-15T20:55:50.826Z"
      },
      {
        "duration": 5,
        "start_time": "2023-06-15T20:58:39.529Z"
      },
      {
        "duration": 1248,
        "start_time": "2023-06-15T20:58:40.143Z"
      },
      {
        "duration": 5,
        "start_time": "2023-06-15T21:00:10.556Z"
      },
      {
        "duration": 1788,
        "start_time": "2023-06-15T21:00:11.295Z"
      },
      {
        "duration": 4,
        "start_time": "2023-06-15T21:00:30.543Z"
      },
      {
        "duration": 2729,
        "start_time": "2023-06-15T21:00:39.571Z"
      },
      {
        "duration": 6,
        "start_time": "2023-06-15T21:00:57.325Z"
      },
      {
        "duration": 2978,
        "start_time": "2023-06-15T21:00:58.091Z"
      },
      {
        "duration": 4,
        "start_time": "2023-06-15T21:06:15.174Z"
      },
      {
        "duration": 2061,
        "start_time": "2023-06-15T21:06:15.461Z"
      },
      {
        "duration": 7,
        "start_time": "2023-06-15T21:06:23.059Z"
      },
      {
        "duration": 2833,
        "start_time": "2023-06-15T21:06:23.370Z"
      },
      {
        "duration": 4,
        "start_time": "2023-06-15T21:08:10.675Z"
      },
      {
        "duration": 683,
        "start_time": "2023-06-15T21:08:33.507Z"
      },
      {
        "duration": 4,
        "start_time": "2023-06-15T21:08:52.335Z"
      },
      {
        "duration": 1358,
        "start_time": "2023-06-15T21:08:52.627Z"
      },
      {
        "duration": 7,
        "start_time": "2023-06-15T21:09:35.927Z"
      },
      {
        "duration": 528,
        "start_time": "2023-06-15T21:09:36.161Z"
      },
      {
        "duration": 5,
        "start_time": "2023-06-15T21:09:42.042Z"
      },
      {
        "duration": 1666,
        "start_time": "2023-06-15T21:09:42.374Z"
      },
      {
        "duration": 6,
        "start_time": "2023-06-15T21:10:08.175Z"
      },
      {
        "duration": 1926,
        "start_time": "2023-06-15T21:10:08.539Z"
      },
      {
        "duration": 1055,
        "start_time": "2023-06-15T21:12:33.425Z"
      },
      {
        "duration": 9,
        "start_time": "2023-06-15T21:12:39.427Z"
      },
      {
        "duration": 5,
        "start_time": "2023-06-15T21:12:41.427Z"
      },
      {
        "duration": 7,
        "start_time": "2023-06-15T21:12:50.477Z"
      },
      {
        "duration": 5,
        "start_time": "2023-06-15T21:12:50.841Z"
      },
      {
        "duration": 1882,
        "start_time": "2023-06-15T21:12:55.641Z"
      },
      {
        "duration": 5,
        "start_time": "2023-06-15T21:13:33.373Z"
      },
      {
        "duration": 1872,
        "start_time": "2023-06-15T21:13:33.959Z"
      },
      {
        "duration": 4,
        "start_time": "2023-06-15T21:13:55.855Z"
      },
      {
        "duration": 2162,
        "start_time": "2023-06-15T21:13:56.160Z"
      },
      {
        "duration": 4,
        "start_time": "2023-06-15T21:14:20.929Z"
      },
      {
        "duration": 1746,
        "start_time": "2023-06-15T21:14:22.163Z"
      },
      {
        "duration": 1287,
        "start_time": "2023-06-15T21:14:23.910Z"
      },
      {
        "duration": 6,
        "start_time": "2023-06-15T21:18:58.430Z"
      },
      {
        "duration": 1967,
        "start_time": "2023-06-15T21:19:03.022Z"
      },
      {
        "duration": 2452,
        "start_time": "2023-06-15T21:19:18.734Z"
      },
      {
        "duration": 2040,
        "start_time": "2023-06-15T21:29:15.911Z"
      },
      {
        "duration": 97,
        "start_time": "2023-06-15T21:29:49.607Z"
      },
      {
        "duration": 2256,
        "start_time": "2023-06-15T21:30:12.239Z"
      },
      {
        "duration": 2158,
        "start_time": "2023-06-15T21:31:18.159Z"
      },
      {
        "duration": 2190,
        "start_time": "2023-06-15T21:32:12.811Z"
      },
      {
        "duration": 1496,
        "start_time": "2023-06-15T21:36:35.626Z"
      },
      {
        "duration": 1536,
        "start_time": "2023-06-16T07:24:44.603Z"
      },
      {
        "duration": 953,
        "start_time": "2023-06-16T07:24:46.141Z"
      },
      {
        "duration": 7,
        "start_time": "2023-06-16T07:24:47.096Z"
      },
      {
        "duration": 171,
        "start_time": "2023-06-16T07:24:47.105Z"
      },
      {
        "duration": 10,
        "start_time": "2023-06-16T07:24:47.278Z"
      },
      {
        "duration": 11,
        "start_time": "2023-06-16T07:24:47.289Z"
      },
      {
        "duration": 1149,
        "start_time": "2023-06-16T07:24:47.301Z"
      },
      {
        "duration": 16,
        "start_time": "2023-06-16T07:24:48.451Z"
      },
      {
        "duration": 25,
        "start_time": "2023-06-16T07:24:48.468Z"
      },
      {
        "duration": 34,
        "start_time": "2023-06-16T07:24:48.495Z"
      },
      {
        "duration": 5,
        "start_time": "2023-06-16T07:24:48.530Z"
      },
      {
        "duration": 18,
        "start_time": "2023-06-16T07:24:48.537Z"
      },
      {
        "duration": 180,
        "start_time": "2023-06-16T07:24:48.557Z"
      },
      {
        "duration": 13,
        "start_time": "2023-06-16T07:24:48.739Z"
      },
      {
        "duration": 27,
        "start_time": "2023-06-16T07:24:48.754Z"
      },
      {
        "duration": 45,
        "start_time": "2023-06-16T07:24:48.783Z"
      },
      {
        "duration": 2,
        "start_time": "2023-06-16T07:24:48.830Z"
      },
      {
        "duration": 42,
        "start_time": "2023-06-16T07:24:48.834Z"
      },
      {
        "duration": 10,
        "start_time": "2023-06-16T07:24:48.878Z"
      },
      {
        "duration": 30,
        "start_time": "2023-06-16T07:24:48.890Z"
      },
      {
        "duration": 28,
        "start_time": "2023-06-16T07:24:48.922Z"
      },
      {
        "duration": 29,
        "start_time": "2023-06-16T07:24:48.951Z"
      },
      {
        "duration": 1775,
        "start_time": "2023-06-16T07:24:48.982Z"
      },
      {
        "duration": 1560,
        "start_time": "2023-06-16T07:24:50.758Z"
      },
      {
        "duration": 1774,
        "start_time": "2023-06-16T07:24:52.319Z"
      },
      {
        "duration": 1650,
        "start_time": "2023-06-16T07:24:54.095Z"
      },
      {
        "duration": 237,
        "start_time": "2023-06-16T07:24:55.747Z"
      },
      {
        "duration": 809,
        "start_time": "2023-06-16T07:24:55.986Z"
      },
      {
        "duration": 5,
        "start_time": "2023-06-16T07:25:38.417Z"
      },
      {
        "duration": 1675,
        "start_time": "2023-06-16T07:25:39.489Z"
      },
      {
        "duration": 5,
        "start_time": "2023-06-16T07:26:00.041Z"
      },
      {
        "duration": 1880,
        "start_time": "2023-06-16T07:26:00.806Z"
      },
      {
        "duration": 1587,
        "start_time": "2023-06-16T07:26:06.456Z"
      },
      {
        "duration": 1795,
        "start_time": "2023-06-16T07:26:09.842Z"
      },
      {
        "duration": 1916,
        "start_time": "2023-06-16T07:26:15.765Z"
      },
      {
        "duration": 4,
        "start_time": "2023-06-16T07:27:16.413Z"
      },
      {
        "duration": 1647,
        "start_time": "2023-06-16T07:27:17.050Z"
      },
      {
        "duration": 1810,
        "start_time": "2023-06-16T07:27:18.699Z"
      },
      {
        "duration": 1914,
        "start_time": "2023-06-16T07:27:20.511Z"
      },
      {
        "duration": 1800,
        "start_time": "2023-06-16T07:27:22.428Z"
      },
      {
        "duration": 282,
        "start_time": "2023-06-16T07:27:24.231Z"
      },
      {
        "duration": 1097,
        "start_time": "2023-06-16T07:27:24.516Z"
      },
      {
        "duration": 1965,
        "start_time": "2023-06-16T12:39:19.790Z"
      },
      {
        "duration": 2663,
        "start_time": "2023-06-16T12:39:21.758Z"
      },
      {
        "duration": 10,
        "start_time": "2023-06-16T12:39:24.428Z"
      },
      {
        "duration": 1225,
        "start_time": "2023-06-16T12:39:24.439Z"
      },
      {
        "duration": 19,
        "start_time": "2023-06-16T12:39:25.666Z"
      },
      {
        "duration": 8,
        "start_time": "2023-06-16T12:39:25.687Z"
      },
      {
        "duration": 2817,
        "start_time": "2023-06-16T12:39:25.697Z"
      },
      {
        "duration": 30,
        "start_time": "2023-06-16T12:39:28.517Z"
      },
      {
        "duration": 44,
        "start_time": "2023-06-16T12:39:28.549Z"
      },
      {
        "duration": 72,
        "start_time": "2023-06-16T12:39:28.596Z"
      },
      {
        "duration": 11,
        "start_time": "2023-06-16T12:39:28.672Z"
      },
      {
        "duration": 25,
        "start_time": "2023-06-16T12:39:28.686Z"
      },
      {
        "duration": 242,
        "start_time": "2023-06-16T12:39:28.717Z"
      },
      {
        "duration": 3,
        "start_time": "2023-06-16T12:39:28.965Z"
      },
      {
        "duration": 14,
        "start_time": "2023-06-16T12:39:28.970Z"
      },
      {
        "duration": 44,
        "start_time": "2023-06-16T12:39:28.995Z"
      },
      {
        "duration": 14,
        "start_time": "2023-06-16T12:39:29.052Z"
      },
      {
        "duration": 101,
        "start_time": "2023-06-16T12:39:29.081Z"
      },
      {
        "duration": 15,
        "start_time": "2023-06-16T12:39:29.186Z"
      },
      {
        "duration": 9,
        "start_time": "2023-06-16T12:39:29.204Z"
      },
      {
        "duration": 19,
        "start_time": "2023-06-16T12:39:29.215Z"
      },
      {
        "duration": 14,
        "start_time": "2023-06-16T12:39:29.240Z"
      },
      {
        "duration": 2581,
        "start_time": "2023-06-16T12:39:29.256Z"
      },
      {
        "duration": 2051,
        "start_time": "2023-06-16T12:39:31.842Z"
      },
      {
        "duration": 2623,
        "start_time": "2023-06-16T12:39:33.898Z"
      },
      {
        "duration": 1961,
        "start_time": "2023-06-16T12:39:36.523Z"
      },
      {
        "duration": 375,
        "start_time": "2023-06-16T12:39:38.486Z"
      },
      {
        "duration": 1203,
        "start_time": "2023-06-16T12:39:38.863Z"
      },
      {
        "duration": 43,
        "start_time": "2023-06-16T16:41:53.642Z"
      },
      {
        "duration": 1520,
        "start_time": "2023-06-16T16:41:58.134Z"
      },
      {
        "duration": 1241,
        "start_time": "2023-06-16T16:41:59.656Z"
      },
      {
        "duration": 8,
        "start_time": "2023-06-16T16:42:00.898Z"
      },
      {
        "duration": 790,
        "start_time": "2023-06-16T16:42:00.909Z"
      },
      {
        "duration": 20,
        "start_time": "2023-06-16T16:42:01.700Z"
      },
      {
        "duration": 26,
        "start_time": "2023-06-16T16:42:01.722Z"
      },
      {
        "duration": 1689,
        "start_time": "2023-06-16T16:42:01.749Z"
      },
      {
        "duration": 15,
        "start_time": "2023-06-16T16:42:03.440Z"
      },
      {
        "duration": 29,
        "start_time": "2023-06-16T16:42:03.457Z"
      },
      {
        "duration": 34,
        "start_time": "2023-06-16T16:42:03.489Z"
      },
      {
        "duration": 7,
        "start_time": "2023-06-16T16:42:03.524Z"
      },
      {
        "duration": 10,
        "start_time": "2023-06-16T16:42:03.532Z"
      },
      {
        "duration": 202,
        "start_time": "2023-06-16T16:42:03.543Z"
      },
      {
        "duration": 3,
        "start_time": "2023-06-16T16:42:03.746Z"
      },
      {
        "duration": 10,
        "start_time": "2023-06-16T16:42:03.751Z"
      },
      {
        "duration": 55,
        "start_time": "2023-06-16T16:42:03.762Z"
      },
      {
        "duration": 5,
        "start_time": "2023-06-16T16:42:03.820Z"
      },
      {
        "duration": 49,
        "start_time": "2023-06-16T16:42:03.827Z"
      },
      {
        "duration": 12,
        "start_time": "2023-06-16T16:42:03.878Z"
      },
      {
        "duration": 16,
        "start_time": "2023-06-16T16:42:03.892Z"
      },
      {
        "duration": 10,
        "start_time": "2023-06-16T16:42:03.910Z"
      },
      {
        "duration": 10,
        "start_time": "2023-06-16T16:42:03.923Z"
      },
      {
        "duration": 1864,
        "start_time": "2023-06-16T16:42:03.935Z"
      },
      {
        "duration": 0,
        "start_time": "2023-06-16T16:42:05.801Z"
      },
      {
        "duration": 0,
        "start_time": "2023-06-16T16:42:05.802Z"
      },
      {
        "duration": 0,
        "start_time": "2023-06-16T16:42:05.806Z"
      },
      {
        "duration": 0,
        "start_time": "2023-06-16T16:42:05.807Z"
      },
      {
        "duration": 0,
        "start_time": "2023-06-16T16:42:05.808Z"
      },
      {
        "duration": 1401,
        "start_time": "2023-06-16T16:43:05.111Z"
      },
      {
        "duration": 1625,
        "start_time": "2023-06-16T16:43:43.406Z"
      },
      {
        "duration": 1650,
        "start_time": "2023-06-16T16:44:00.081Z"
      },
      {
        "duration": 1489,
        "start_time": "2023-06-16T16:45:05.229Z"
      },
      {
        "duration": 247,
        "start_time": "2023-06-16T16:45:23.521Z"
      },
      {
        "duration": 919,
        "start_time": "2023-06-16T16:45:39.888Z"
      },
      {
        "duration": 17,
        "start_time": "2023-06-16T16:55:03.951Z"
      },
      {
        "duration": 13,
        "start_time": "2023-06-16T16:55:43.383Z"
      },
      {
        "duration": 9,
        "start_time": "2023-06-16T16:55:50.009Z"
      },
      {
        "duration": 1556,
        "start_time": "2023-06-16T16:56:20.941Z"
      },
      {
        "duration": 226,
        "start_time": "2023-06-16T17:01:29.431Z"
      },
      {
        "duration": 1775,
        "start_time": "2023-06-16T17:05:49.817Z"
      },
      {
        "duration": 11,
        "start_time": "2023-06-16T17:06:38.467Z"
      },
      {
        "duration": 6,
        "start_time": "2023-06-16T17:06:39.123Z"
      },
      {
        "duration": 9,
        "start_time": "2023-06-16T17:06:53.876Z"
      },
      {
        "duration": 1287,
        "start_time": "2023-06-16T17:07:05.313Z"
      },
      {
        "duration": 283,
        "start_time": "2023-06-16T17:07:06.603Z"
      },
      {
        "duration": 6,
        "start_time": "2023-06-16T17:07:06.887Z"
      },
      {
        "duration": 99,
        "start_time": "2023-06-16T17:07:06.895Z"
      },
      {
        "duration": 10,
        "start_time": "2023-06-16T17:07:06.996Z"
      },
      {
        "duration": 4,
        "start_time": "2023-06-16T17:07:07.008Z"
      },
      {
        "duration": 354,
        "start_time": "2023-06-16T17:07:07.013Z"
      },
      {
        "duration": 21,
        "start_time": "2023-06-16T17:07:07.368Z"
      },
      {
        "duration": 21,
        "start_time": "2023-06-16T17:07:07.391Z"
      },
      {
        "duration": 27,
        "start_time": "2023-06-16T17:07:07.415Z"
      },
      {
        "duration": 6,
        "start_time": "2023-06-16T17:07:07.444Z"
      },
      {
        "duration": 13,
        "start_time": "2023-06-16T17:07:07.452Z"
      },
      {
        "duration": 200,
        "start_time": "2023-06-16T17:07:07.467Z"
      },
      {
        "duration": 7,
        "start_time": "2023-06-16T17:07:07.669Z"
      },
      {
        "duration": 5,
        "start_time": "2023-06-16T17:07:07.677Z"
      },
      {
        "duration": 38,
        "start_time": "2023-06-16T17:07:07.683Z"
      },
      {
        "duration": 2,
        "start_time": "2023-06-16T17:07:07.723Z"
      },
      {
        "duration": 46,
        "start_time": "2023-06-16T17:07:07.727Z"
      },
      {
        "duration": 9,
        "start_time": "2023-06-16T17:07:07.774Z"
      },
      {
        "duration": 5,
        "start_time": "2023-06-16T17:07:07.785Z"
      },
      {
        "duration": 6,
        "start_time": "2023-06-16T17:07:07.792Z"
      },
      {
        "duration": 14,
        "start_time": "2023-06-16T17:07:07.799Z"
      },
      {
        "duration": 1593,
        "start_time": "2023-06-16T17:07:07.814Z"
      },
      {
        "duration": 1574,
        "start_time": "2023-06-16T17:07:09.409Z"
      },
      {
        "duration": 1746,
        "start_time": "2023-06-16T17:07:10.985Z"
      },
      {
        "duration": 1666,
        "start_time": "2023-06-16T17:07:12.732Z"
      },
      {
        "duration": 8,
        "start_time": "2023-06-16T17:07:14.399Z"
      },
      {
        "duration": 1480,
        "start_time": "2023-06-16T17:07:14.409Z"
      },
      {
        "duration": 254,
        "start_time": "2023-06-16T17:07:15.891Z"
      },
      {
        "duration": 917,
        "start_time": "2023-06-16T17:07:16.147Z"
      },
      {
        "duration": 4,
        "start_time": "2023-06-16T17:16:23.794Z"
      },
      {
        "duration": 40,
        "start_time": "2023-06-16T17:16:57.982Z"
      },
      {
        "duration": 32,
        "start_time": "2023-06-16T17:16:59.231Z"
      },
      {
        "duration": 33,
        "start_time": "2023-06-16T17:17:28.273Z"
      },
      {
        "duration": 28,
        "start_time": "2023-06-16T17:17:28.721Z"
      },
      {
        "duration": 11,
        "start_time": "2023-06-16T17:33:04.873Z"
      },
      {
        "duration": 3,
        "start_time": "2023-06-16T17:52:28.353Z"
      },
      {
        "duration": 299,
        "start_time": "2023-06-16T17:52:28.363Z"
      },
      {
        "duration": 6,
        "start_time": "2023-06-16T17:52:28.664Z"
      },
      {
        "duration": 105,
        "start_time": "2023-06-16T17:52:28.671Z"
      },
      {
        "duration": 12,
        "start_time": "2023-06-16T17:52:28.777Z"
      },
      {
        "duration": 22,
        "start_time": "2023-06-16T17:52:28.791Z"
      },
      {
        "duration": 399,
        "start_time": "2023-06-16T17:52:28.815Z"
      },
      {
        "duration": 15,
        "start_time": "2023-06-16T17:52:29.215Z"
      },
      {
        "duration": 7,
        "start_time": "2023-06-16T17:52:29.231Z"
      },
      {
        "duration": 18,
        "start_time": "2023-06-16T17:52:29.239Z"
      },
      {
        "duration": 5,
        "start_time": "2023-06-16T17:52:29.259Z"
      },
      {
        "duration": 14,
        "start_time": "2023-06-16T17:52:29.265Z"
      },
      {
        "duration": 188,
        "start_time": "2023-06-16T17:52:29.281Z"
      },
      {
        "duration": 3,
        "start_time": "2023-06-16T17:52:29.470Z"
      },
      {
        "duration": 19,
        "start_time": "2023-06-16T17:52:29.475Z"
      },
      {
        "duration": 31,
        "start_time": "2023-06-16T17:52:29.496Z"
      },
      {
        "duration": 3,
        "start_time": "2023-06-16T17:52:29.530Z"
      },
      {
        "duration": 118,
        "start_time": "2023-06-16T17:52:29.535Z"
      },
      {
        "duration": 106,
        "start_time": "2023-06-16T17:52:38.395Z"
      },
      {
        "duration": 29,
        "start_time": "2023-06-16T17:52:38.788Z"
      },
      {
        "duration": 41,
        "start_time": "2023-06-16T17:53:56.758Z"
      },
      {
        "duration": 92,
        "start_time": "2023-06-16T17:54:16.305Z"
      },
      {
        "duration": 2,
        "start_time": "2023-06-16T17:54:28.067Z"
      },
      {
        "duration": 280,
        "start_time": "2023-06-16T17:54:28.071Z"
      },
      {
        "duration": 7,
        "start_time": "2023-06-16T17:54:28.353Z"
      },
      {
        "duration": 83,
        "start_time": "2023-06-16T17:54:28.362Z"
      },
      {
        "duration": 11,
        "start_time": "2023-06-16T17:54:28.447Z"
      },
      {
        "duration": 4,
        "start_time": "2023-06-16T17:54:28.459Z"
      },
      {
        "duration": 347,
        "start_time": "2023-06-16T17:54:28.464Z"
      },
      {
        "duration": 14,
        "start_time": "2023-06-16T17:54:28.812Z"
      },
      {
        "duration": 5,
        "start_time": "2023-06-16T17:54:28.828Z"
      },
      {
        "duration": 21,
        "start_time": "2023-06-16T17:54:28.835Z"
      },
      {
        "duration": 4,
        "start_time": "2023-06-16T17:54:28.858Z"
      },
      {
        "duration": 7,
        "start_time": "2023-06-16T17:54:28.863Z"
      },
      {
        "duration": 180,
        "start_time": "2023-06-16T17:54:28.871Z"
      },
      {
        "duration": 3,
        "start_time": "2023-06-16T17:54:29.053Z"
      },
      {
        "duration": 4,
        "start_time": "2023-06-16T17:54:29.058Z"
      },
      {
        "duration": 26,
        "start_time": "2023-06-16T17:54:29.063Z"
      },
      {
        "duration": 3,
        "start_time": "2023-06-16T17:54:29.106Z"
      },
      {
        "duration": 114,
        "start_time": "2023-06-16T17:54:29.110Z"
      },
      {
        "duration": 29,
        "start_time": "2023-06-16T17:54:29.225Z"
      },
      {
        "duration": 26,
        "start_time": "2023-06-16T17:54:30.736Z"
      },
      {
        "duration": 40,
        "start_time": "2023-06-16T17:54:31.340Z"
      },
      {
        "duration": 13,
        "start_time": "2023-06-16T17:54:55.392Z"
      },
      {
        "duration": 2,
        "start_time": "2023-06-16T17:55:02.886Z"
      },
      {
        "duration": 319,
        "start_time": "2023-06-16T17:55:02.890Z"
      },
      {
        "duration": 10,
        "start_time": "2023-06-16T17:55:03.211Z"
      },
      {
        "duration": 99,
        "start_time": "2023-06-16T17:55:03.226Z"
      },
      {
        "duration": 11,
        "start_time": "2023-06-16T17:55:03.327Z"
      },
      {
        "duration": 5,
        "start_time": "2023-06-16T17:55:03.339Z"
      },
      {
        "duration": 353,
        "start_time": "2023-06-16T17:55:03.345Z"
      },
      {
        "duration": 17,
        "start_time": "2023-06-16T17:55:03.700Z"
      },
      {
        "duration": 6,
        "start_time": "2023-06-16T17:55:03.719Z"
      },
      {
        "duration": 45,
        "start_time": "2023-06-16T17:55:03.727Z"
      },
      {
        "duration": 4,
        "start_time": "2023-06-16T17:55:03.774Z"
      },
      {
        "duration": 10,
        "start_time": "2023-06-16T17:55:03.779Z"
      },
      {
        "duration": 195,
        "start_time": "2023-06-16T17:55:03.790Z"
      },
      {
        "duration": 9,
        "start_time": "2023-06-16T17:55:03.986Z"
      },
      {
        "duration": 10,
        "start_time": "2023-06-16T17:55:03.997Z"
      },
      {
        "duration": 31,
        "start_time": "2023-06-16T17:55:04.010Z"
      },
      {
        "duration": 3,
        "start_time": "2023-06-16T17:55:04.043Z"
      },
      {
        "duration": 135,
        "start_time": "2023-06-16T17:55:04.048Z"
      },
      {
        "duration": 49,
        "start_time": "2023-06-16T17:55:04.185Z"
      },
      {
        "duration": 25,
        "start_time": "2023-06-16T17:55:11.545Z"
      },
      {
        "duration": 3,
        "start_time": "2023-06-16T17:55:22.036Z"
      },
      {
        "duration": 3,
        "start_time": "2023-06-16T17:55:22.549Z"
      },
      {
        "duration": 6,
        "start_time": "2023-06-16T17:55:23.780Z"
      },
      {
        "duration": 4,
        "start_time": "2023-06-16T17:55:24.541Z"
      },
      {
        "duration": 1899,
        "start_time": "2023-06-16T17:55:26.054Z"
      },
      {
        "duration": 1941,
        "start_time": "2023-06-16T17:55:57.369Z"
      },
      {
        "duration": 1707,
        "start_time": "2023-06-16T17:56:13.446Z"
      },
      {
        "duration": 1843,
        "start_time": "2023-06-16T17:56:19.426Z"
      },
      {
        "duration": 6,
        "start_time": "2023-06-16T17:56:30.195Z"
      },
      {
        "duration": 1710,
        "start_time": "2023-06-16T17:56:30.866Z"
      },
      {
        "duration": 346,
        "start_time": "2023-06-16T17:56:49.078Z"
      },
      {
        "duration": 856,
        "start_time": "2023-06-16T17:56:53.886Z"
      },
      {
        "duration": 1803,
        "start_time": "2023-06-17T10:11:41.229Z"
      },
      {
        "duration": 2273,
        "start_time": "2023-06-17T10:11:43.034Z"
      },
      {
        "duration": 7,
        "start_time": "2023-06-17T10:11:45.308Z"
      },
      {
        "duration": 1089,
        "start_time": "2023-06-17T10:11:45.317Z"
      },
      {
        "duration": 13,
        "start_time": "2023-06-17T10:11:46.408Z"
      },
      {
        "duration": 5,
        "start_time": "2023-06-17T10:11:46.423Z"
      },
      {
        "duration": 2500,
        "start_time": "2023-06-17T10:11:46.429Z"
      },
      {
        "duration": 21,
        "start_time": "2023-06-17T10:11:48.931Z"
      },
      {
        "duration": 12,
        "start_time": "2023-06-17T10:11:48.961Z"
      },
      {
        "duration": 41,
        "start_time": "2023-06-17T10:11:48.975Z"
      },
      {
        "duration": 9,
        "start_time": "2023-06-17T10:11:49.018Z"
      },
      {
        "duration": 13,
        "start_time": "2023-06-17T10:11:49.029Z"
      },
      {
        "duration": 241,
        "start_time": "2023-06-17T10:11:49.044Z"
      },
      {
        "duration": 5,
        "start_time": "2023-06-17T10:11:49.296Z"
      },
      {
        "duration": 5,
        "start_time": "2023-06-17T10:11:49.303Z"
      },
      {
        "duration": 37,
        "start_time": "2023-06-17T10:11:49.309Z"
      },
      {
        "duration": 4,
        "start_time": "2023-06-17T10:11:49.355Z"
      },
      {
        "duration": 156,
        "start_time": "2023-06-17T10:11:49.360Z"
      },
      {
        "duration": 47,
        "start_time": "2023-06-17T10:11:49.518Z"
      },
      {
        "duration": 56,
        "start_time": "2023-06-17T10:11:49.567Z"
      },
      {
        "duration": 39,
        "start_time": "2023-06-17T10:11:49.625Z"
      },
      {
        "duration": 7,
        "start_time": "2023-06-17T10:11:49.666Z"
      },
      {
        "duration": 23,
        "start_time": "2023-06-17T10:11:49.675Z"
      },
      {
        "duration": 2123,
        "start_time": "2023-06-17T10:11:49.700Z"
      },
      {
        "duration": 2078,
        "start_time": "2023-06-17T10:11:51.825Z"
      },
      {
        "duration": 2324,
        "start_time": "2023-06-17T10:11:53.905Z"
      },
      {
        "duration": 2209,
        "start_time": "2023-06-17T10:11:56.231Z"
      },
      {
        "duration": 18,
        "start_time": "2023-06-17T10:11:58.442Z"
      },
      {
        "duration": 2178,
        "start_time": "2023-06-17T10:11:58.462Z"
      },
      {
        "duration": 382,
        "start_time": "2023-06-17T10:12:00.642Z"
      },
      {
        "duration": 1408,
        "start_time": "2023-06-17T10:12:01.026Z"
      },
      {
        "duration": 5,
        "start_time": "2023-06-17T10:12:02.437Z"
      },
      {
        "duration": 93,
        "start_time": "2023-06-17T10:24:57.850Z"
      },
      {
        "duration": 4,
        "start_time": "2023-06-17T10:26:04.202Z"
      },
      {
        "duration": 1385,
        "start_time": "2023-06-17T10:26:21.404Z"
      },
      {
        "duration": 7,
        "start_time": "2023-06-17T10:27:07.408Z"
      },
      {
        "duration": 25,
        "start_time": "2023-06-17T10:27:21.915Z"
      },
      {
        "duration": 24,
        "start_time": "2023-06-17T10:37:48.107Z"
      },
      {
        "duration": 3,
        "start_time": "2023-06-17T10:38:33.303Z"
      },
      {
        "duration": 383,
        "start_time": "2023-06-17T10:38:33.308Z"
      },
      {
        "duration": 11,
        "start_time": "2023-06-17T10:38:33.693Z"
      },
      {
        "duration": 134,
        "start_time": "2023-06-17T10:38:33.706Z"
      },
      {
        "duration": 24,
        "start_time": "2023-06-17T10:38:33.842Z"
      },
      {
        "duration": 16,
        "start_time": "2023-06-17T10:38:33.872Z"
      },
      {
        "duration": 505,
        "start_time": "2023-06-17T10:38:33.901Z"
      },
      {
        "duration": 28,
        "start_time": "2023-06-17T10:38:34.414Z"
      },
      {
        "duration": 23,
        "start_time": "2023-06-17T10:38:34.444Z"
      },
      {
        "duration": 50,
        "start_time": "2023-06-17T10:38:34.470Z"
      },
      {
        "duration": 14,
        "start_time": "2023-06-17T10:38:34.522Z"
      },
      {
        "duration": 9,
        "start_time": "2023-06-17T10:38:34.539Z"
      },
      {
        "duration": 241,
        "start_time": "2023-06-17T10:38:34.550Z"
      },
      {
        "duration": 11,
        "start_time": "2023-06-17T10:38:34.795Z"
      },
      {
        "duration": 3,
        "start_time": "2023-06-17T10:38:34.810Z"
      },
      {
        "duration": 39,
        "start_time": "2023-06-17T10:38:34.815Z"
      },
      {
        "duration": 9,
        "start_time": "2023-06-17T10:38:34.857Z"
      },
      {
        "duration": 157,
        "start_time": "2023-06-17T10:38:34.869Z"
      },
      {
        "duration": 68,
        "start_time": "2023-06-17T10:38:35.028Z"
      },
      {
        "duration": 61,
        "start_time": "2023-06-17T10:38:35.099Z"
      },
      {
        "duration": 40,
        "start_time": "2023-06-17T10:38:35.167Z"
      },
      {
        "duration": 6,
        "start_time": "2023-06-17T10:38:35.209Z"
      },
      {
        "duration": 10,
        "start_time": "2023-06-17T10:38:35.216Z"
      },
      {
        "duration": 2092,
        "start_time": "2023-06-17T10:38:35.228Z"
      },
      {
        "duration": 2061,
        "start_time": "2023-06-17T10:38:37.322Z"
      },
      {
        "duration": 2132,
        "start_time": "2023-06-17T10:38:39.388Z"
      },
      {
        "duration": 2069,
        "start_time": "2023-06-17T10:38:41.523Z"
      },
      {
        "duration": 9,
        "start_time": "2023-06-17T10:38:43.596Z"
      },
      {
        "duration": 2073,
        "start_time": "2023-06-17T10:38:43.607Z"
      },
      {
        "duration": 529,
        "start_time": "2023-06-17T10:38:45.682Z"
      },
      {
        "duration": 1194,
        "start_time": "2023-06-17T10:38:46.213Z"
      },
      {
        "duration": 73,
        "start_time": "2023-06-17T10:39:56.577Z"
      },
      {
        "duration": 5,
        "start_time": "2023-06-17T10:41:05.431Z"
      },
      {
        "duration": 6,
        "start_time": "2023-06-17T10:41:24.943Z"
      },
      {
        "duration": 183,
        "start_time": "2023-06-17T10:48:13.729Z"
      },
      {
        "duration": 4,
        "start_time": "2023-06-17T10:49:25.016Z"
      },
      {
        "duration": 4,
        "start_time": "2023-06-17T10:54:13.724Z"
      },
      {
        "duration": 3,
        "start_time": "2023-06-17T10:54:27.360Z"
      },
      {
        "duration": 3,
        "start_time": "2023-06-17T10:58:22.809Z"
      },
      {
        "duration": 58,
        "start_time": "2023-06-17T11:06:28.805Z"
      },
      {
        "duration": 24,
        "start_time": "2023-06-17T11:06:41.123Z"
      },
      {
        "duration": 4,
        "start_time": "2023-06-17T11:12:45.342Z"
      },
      {
        "duration": 4,
        "start_time": "2023-06-17T11:13:05.631Z"
      },
      {
        "duration": 1060,
        "start_time": "2023-06-17T11:13:17.834Z"
      },
      {
        "duration": 3,
        "start_time": "2023-06-17T11:13:32.742Z"
      },
      {
        "duration": 310,
        "start_time": "2023-06-17T11:13:32.748Z"
      },
      {
        "duration": 7,
        "start_time": "2023-06-17T11:13:33.060Z"
      },
      {
        "duration": 96,
        "start_time": "2023-06-17T11:13:33.069Z"
      },
      {
        "duration": 13,
        "start_time": "2023-06-17T11:13:33.167Z"
      },
      {
        "duration": 5,
        "start_time": "2023-06-17T11:13:33.182Z"
      },
      {
        "duration": 385,
        "start_time": "2023-06-17T11:13:33.189Z"
      },
      {
        "duration": 18,
        "start_time": "2023-06-17T11:13:33.576Z"
      },
      {
        "duration": 8,
        "start_time": "2023-06-17T11:13:33.596Z"
      },
      {
        "duration": 23,
        "start_time": "2023-06-17T11:13:33.606Z"
      },
      {
        "duration": 5,
        "start_time": "2023-06-17T11:13:33.650Z"
      },
      {
        "duration": 18,
        "start_time": "2023-06-17T11:13:33.657Z"
      },
      {
        "duration": 188,
        "start_time": "2023-06-17T11:13:33.677Z"
      },
      {
        "duration": 2,
        "start_time": "2023-06-17T11:13:33.867Z"
      },
      {
        "duration": 12,
        "start_time": "2023-06-17T11:13:33.871Z"
      },
      {
        "duration": 29,
        "start_time": "2023-06-17T11:13:33.884Z"
      },
      {
        "duration": 3,
        "start_time": "2023-06-17T11:13:33.915Z"
      },
      {
        "duration": 162,
        "start_time": "2023-06-17T11:13:33.919Z"
      },
      {
        "duration": 44,
        "start_time": "2023-06-17T11:13:34.083Z"
      },
      {
        "duration": 62,
        "start_time": "2023-06-17T11:13:34.129Z"
      },
      {
        "duration": 34,
        "start_time": "2023-06-17T11:13:34.193Z"
      },
      {
        "duration": 23,
        "start_time": "2023-06-17T11:13:34.229Z"
      },
      {
        "duration": 14,
        "start_time": "2023-06-17T11:13:34.254Z"
      },
      {
        "duration": 1821,
        "start_time": "2023-06-17T11:13:34.271Z"
      },
      {
        "duration": 1739,
        "start_time": "2023-06-17T11:13:36.094Z"
      },
      {
        "duration": 1942,
        "start_time": "2023-06-17T11:13:37.836Z"
      },
      {
        "duration": 1838,
        "start_time": "2023-06-17T11:13:39.780Z"
      },
      {
        "duration": 8,
        "start_time": "2023-06-17T11:13:41.620Z"
      },
      {
        "duration": 1708,
        "start_time": "2023-06-17T11:13:41.630Z"
      },
      {
        "duration": 294,
        "start_time": "2023-06-17T11:13:43.339Z"
      },
      {
        "duration": 4,
        "start_time": "2023-06-17T11:13:43.635Z"
      },
      {
        "duration": 4,
        "start_time": "2023-06-17T11:13:43.833Z"
      },
      {
        "duration": 1110,
        "start_time": "2023-06-17T11:13:53.004Z"
      },
      {
        "duration": 4,
        "start_time": "2023-06-17T11:15:11.823Z"
      },
      {
        "duration": 373,
        "start_time": "2023-06-17T11:15:22.247Z"
      },
      {
        "duration": 1016,
        "start_time": "2023-06-17T11:15:36.631Z"
      },
      {
        "duration": 968,
        "start_time": "2023-06-17T11:15:59.820Z"
      },
      {
        "duration": 5039,
        "start_time": "2023-06-17T11:18:08.340Z"
      },
      {
        "duration": 17,
        "start_time": "2023-06-17T11:18:58.646Z"
      },
      {
        "duration": 3,
        "start_time": "2023-06-17T11:20:36.343Z"
      },
      {
        "duration": 10,
        "start_time": "2023-06-17T11:21:05.528Z"
      },
      {
        "duration": 15,
        "start_time": "2023-06-17T11:21:16.276Z"
      },
      {
        "duration": 3,
        "start_time": "2023-06-17T11:21:57.112Z"
      },
      {
        "duration": 14,
        "start_time": "2023-06-17T11:21:57.504Z"
      },
      {
        "duration": 17,
        "start_time": "2023-06-17T11:22:18.004Z"
      },
      {
        "duration": 3,
        "start_time": "2023-06-17T11:22:26.826Z"
      },
      {
        "duration": 302,
        "start_time": "2023-06-17T11:22:26.831Z"
      },
      {
        "duration": 6,
        "start_time": "2023-06-17T11:22:27.135Z"
      },
      {
        "duration": 103,
        "start_time": "2023-06-17T11:22:27.150Z"
      },
      {
        "duration": 12,
        "start_time": "2023-06-17T11:22:27.255Z"
      },
      {
        "duration": 10,
        "start_time": "2023-06-17T11:22:27.268Z"
      },
      {
        "duration": 383,
        "start_time": "2023-06-17T11:22:27.279Z"
      },
      {
        "duration": 18,
        "start_time": "2023-06-17T11:22:27.664Z"
      },
      {
        "duration": 7,
        "start_time": "2023-06-17T11:22:27.684Z"
      },
      {
        "duration": 27,
        "start_time": "2023-06-17T11:22:27.693Z"
      },
      {
        "duration": 28,
        "start_time": "2023-06-17T11:22:27.722Z"
      },
      {
        "duration": 5,
        "start_time": "2023-06-17T11:22:27.752Z"
      },
      {
        "duration": 182,
        "start_time": "2023-06-17T11:22:27.759Z"
      },
      {
        "duration": 4,
        "start_time": "2023-06-17T11:22:27.952Z"
      },
      {
        "duration": 6,
        "start_time": "2023-06-17T11:22:27.958Z"
      },
      {
        "duration": 44,
        "start_time": "2023-06-17T11:22:27.966Z"
      },
      {
        "duration": 2,
        "start_time": "2023-06-17T11:22:28.012Z"
      },
      {
        "duration": 130,
        "start_time": "2023-06-17T11:22:28.016Z"
      },
      {
        "duration": 34,
        "start_time": "2023-06-17T11:22:28.147Z"
      },
      {
        "duration": 41,
        "start_time": "2023-06-17T11:22:28.183Z"
      },
      {
        "duration": 49,
        "start_time": "2023-06-17T11:22:28.226Z"
      },
      {
        "duration": 6,
        "start_time": "2023-06-17T11:22:28.277Z"
      },
      {
        "duration": 13,
        "start_time": "2023-06-17T11:22:28.285Z"
      },
      {
        "duration": 1862,
        "start_time": "2023-06-17T11:22:28.299Z"
      },
      {
        "duration": 1874,
        "start_time": "2023-06-17T11:22:30.162Z"
      },
      {
        "duration": 1818,
        "start_time": "2023-06-17T11:22:32.037Z"
      },
      {
        "duration": 2055,
        "start_time": "2023-06-17T11:22:33.857Z"
      },
      {
        "duration": 6,
        "start_time": "2023-06-17T11:22:35.913Z"
      },
      {
        "duration": 1650,
        "start_time": "2023-06-17T11:22:35.921Z"
      },
      {
        "duration": 450,
        "start_time": "2023-06-17T11:22:37.573Z"
      },
      {
        "duration": 5,
        "start_time": "2023-06-17T11:22:38.024Z"
      },
      {
        "duration": 934,
        "start_time": "2023-06-17T11:22:38.030Z"
      },
      {
        "duration": 1040,
        "start_time": "2023-06-17T11:22:38.966Z"
      },
      {
        "duration": 939,
        "start_time": "2023-06-17T11:22:40.009Z"
      },
      {
        "duration": 17,
        "start_time": "2023-06-17T11:22:40.950Z"
      },
      {
        "duration": 15,
        "start_time": "2023-06-17T11:22:46.670Z"
      },
      {
        "duration": 3,
        "start_time": "2023-06-17T11:22:50.661Z"
      },
      {
        "duration": 27,
        "start_time": "2023-06-17T11:22:52.474Z"
      },
      {
        "duration": 16,
        "start_time": "2023-06-17T11:23:07.141Z"
      },
      {
        "duration": 3,
        "start_time": "2023-06-17T11:23:14.908Z"
      },
      {
        "duration": 313,
        "start_time": "2023-06-17T11:23:14.913Z"
      },
      {
        "duration": 6,
        "start_time": "2023-06-17T11:23:15.228Z"
      },
      {
        "duration": 154,
        "start_time": "2023-06-17T11:23:15.236Z"
      },
      {
        "duration": 13,
        "start_time": "2023-06-17T11:23:15.393Z"
      },
      {
        "duration": 6,
        "start_time": "2023-06-17T11:23:15.408Z"
      },
      {
        "duration": 402,
        "start_time": "2023-06-17T11:23:15.415Z"
      },
      {
        "duration": 17,
        "start_time": "2023-06-17T11:23:15.818Z"
      },
      {
        "duration": 19,
        "start_time": "2023-06-17T11:23:15.837Z"
      },
      {
        "duration": 24,
        "start_time": "2023-06-17T11:23:15.857Z"
      },
      {
        "duration": 5,
        "start_time": "2023-06-17T11:23:15.883Z"
      },
      {
        "duration": 11,
        "start_time": "2023-06-17T11:23:15.889Z"
      },
      {
        "duration": 196,
        "start_time": "2023-06-17T11:23:15.902Z"
      },
      {
        "duration": 19,
        "start_time": "2023-06-17T11:23:16.101Z"
      },
      {
        "duration": 31,
        "start_time": "2023-06-17T11:23:16.122Z"
      },
      {
        "duration": 41,
        "start_time": "2023-06-17T11:23:16.155Z"
      },
      {
        "duration": 3,
        "start_time": "2023-06-17T11:23:16.198Z"
      },
      {
        "duration": 134,
        "start_time": "2023-06-17T11:23:16.202Z"
      },
      {
        "duration": 36,
        "start_time": "2023-06-17T11:23:16.338Z"
      },
      {
        "duration": 41,
        "start_time": "2023-06-17T11:23:16.375Z"
      },
      {
        "duration": 42,
        "start_time": "2023-06-17T11:23:16.418Z"
      },
      {
        "duration": 7,
        "start_time": "2023-06-17T11:23:16.462Z"
      },
      {
        "duration": 7,
        "start_time": "2023-06-17T11:23:16.471Z"
      },
      {
        "duration": 1896,
        "start_time": "2023-06-17T11:23:16.480Z"
      },
      {
        "duration": 1920,
        "start_time": "2023-06-17T11:23:18.378Z"
      },
      {
        "duration": 1693,
        "start_time": "2023-06-17T11:23:20.300Z"
      },
      {
        "duration": 1897,
        "start_time": "2023-06-17T11:23:21.994Z"
      },
      {
        "duration": 7,
        "start_time": "2023-06-17T11:23:23.892Z"
      },
      {
        "duration": 1779,
        "start_time": "2023-06-17T11:23:23.900Z"
      },
      {
        "duration": 479,
        "start_time": "2023-06-17T11:23:25.681Z"
      },
      {
        "duration": 5,
        "start_time": "2023-06-17T11:23:26.162Z"
      },
      {
        "duration": 933,
        "start_time": "2023-06-17T11:23:26.168Z"
      },
      {
        "duration": 1066,
        "start_time": "2023-06-17T11:23:27.103Z"
      },
      {
        "duration": 919,
        "start_time": "2023-06-17T11:23:28.171Z"
      },
      {
        "duration": 16,
        "start_time": "2023-06-17T11:23:29.092Z"
      },
      {
        "duration": 23,
        "start_time": "2023-06-17T11:24:11.123Z"
      },
      {
        "duration": 19,
        "start_time": "2023-06-17T11:24:36.627Z"
      },
      {
        "duration": 4,
        "start_time": "2023-06-17T11:25:51.151Z"
      },
      {
        "duration": 310,
        "start_time": "2023-06-17T11:25:51.157Z"
      },
      {
        "duration": 7,
        "start_time": "2023-06-17T11:25:51.469Z"
      },
      {
        "duration": 99,
        "start_time": "2023-06-17T11:25:51.479Z"
      },
      {
        "duration": 13,
        "start_time": "2023-06-17T11:25:51.580Z"
      },
      {
        "duration": 9,
        "start_time": "2023-06-17T11:25:51.595Z"
      },
      {
        "duration": 406,
        "start_time": "2023-06-17T11:25:51.606Z"
      },
      {
        "duration": 17,
        "start_time": "2023-06-17T11:25:52.014Z"
      },
      {
        "duration": 24,
        "start_time": "2023-06-17T11:25:52.032Z"
      },
      {
        "duration": 50,
        "start_time": "2023-06-17T11:25:52.059Z"
      },
      {
        "duration": 5,
        "start_time": "2023-06-17T11:25:52.110Z"
      },
      {
        "duration": 13,
        "start_time": "2023-06-17T11:25:52.116Z"
      },
      {
        "duration": 232,
        "start_time": "2023-06-17T11:25:52.131Z"
      },
      {
        "duration": 49,
        "start_time": "2023-06-17T11:25:52.365Z"
      },
      {
        "duration": 31,
        "start_time": "2023-06-17T11:25:52.416Z"
      },
      {
        "duration": 84,
        "start_time": "2023-06-17T11:25:52.449Z"
      },
      {
        "duration": 4,
        "start_time": "2023-06-17T11:25:52.535Z"
      },
      {
        "duration": 137,
        "start_time": "2023-06-17T11:25:52.541Z"
      },
      {
        "duration": 33,
        "start_time": "2023-06-17T11:25:52.680Z"
      },
      {
        "duration": 51,
        "start_time": "2023-06-17T11:25:52.715Z"
      },
      {
        "duration": 26,
        "start_time": "2023-06-17T11:25:52.768Z"
      },
      {
        "duration": 19,
        "start_time": "2023-06-17T11:25:52.795Z"
      },
      {
        "duration": 18,
        "start_time": "2023-06-17T11:25:52.815Z"
      },
      {
        "duration": 1929,
        "start_time": "2023-06-17T11:25:52.835Z"
      },
      {
        "duration": 1833,
        "start_time": "2023-06-17T11:25:54.766Z"
      },
      {
        "duration": 1724,
        "start_time": "2023-06-17T11:25:56.601Z"
      },
      {
        "duration": 1899,
        "start_time": "2023-06-17T11:25:58.327Z"
      },
      {
        "duration": 6,
        "start_time": "2023-06-17T11:26:00.230Z"
      },
      {
        "duration": 1731,
        "start_time": "2023-06-17T11:26:00.238Z"
      },
      {
        "duration": 493,
        "start_time": "2023-06-17T11:26:01.971Z"
      },
      {
        "duration": 5,
        "start_time": "2023-06-17T11:26:02.467Z"
      },
      {
        "duration": 976,
        "start_time": "2023-06-17T11:26:02.474Z"
      },
      {
        "duration": 1040,
        "start_time": "2023-06-17T11:26:06.025Z"
      },
      {
        "duration": 875,
        "start_time": "2023-06-17T11:26:08.761Z"
      },
      {
        "duration": 13,
        "start_time": "2023-06-17T11:26:25.404Z"
      },
      {
        "duration": 16,
        "start_time": "2023-06-17T11:26:40.343Z"
      },
      {
        "duration": 3,
        "start_time": "2023-06-17T11:26:51.081Z"
      },
      {
        "duration": 25,
        "start_time": "2023-06-17T11:26:52.554Z"
      },
      {
        "duration": 19,
        "start_time": "2023-06-17T11:26:56.242Z"
      },
      {
        "duration": 4,
        "start_time": "2023-06-17T11:28:38.381Z"
      },
      {
        "duration": 319,
        "start_time": "2023-06-17T11:28:38.387Z"
      },
      {
        "duration": 7,
        "start_time": "2023-06-17T11:28:38.708Z"
      },
      {
        "duration": 90,
        "start_time": "2023-06-17T11:28:38.717Z"
      },
      {
        "duration": 13,
        "start_time": "2023-06-17T11:28:38.809Z"
      },
      {
        "duration": 5,
        "start_time": "2023-06-17T11:28:38.823Z"
      },
      {
        "duration": 381,
        "start_time": "2023-06-17T11:28:38.830Z"
      },
      {
        "duration": 16,
        "start_time": "2023-06-17T11:28:39.213Z"
      },
      {
        "duration": 20,
        "start_time": "2023-06-17T11:28:39.230Z"
      },
      {
        "duration": 19,
        "start_time": "2023-06-17T11:28:39.252Z"
      },
      {
        "duration": 4,
        "start_time": "2023-06-17T11:28:39.274Z"
      },
      {
        "duration": 16,
        "start_time": "2023-06-17T11:28:39.280Z"
      },
      {
        "duration": 189,
        "start_time": "2023-06-17T11:28:39.298Z"
      },
      {
        "duration": 7,
        "start_time": "2023-06-17T11:28:39.489Z"
      },
      {
        "duration": 5,
        "start_time": "2023-06-17T11:28:39.497Z"
      },
      {
        "duration": 27,
        "start_time": "2023-06-17T11:28:39.504Z"
      },
      {
        "duration": 18,
        "start_time": "2023-06-17T11:28:39.532Z"
      },
      {
        "duration": 126,
        "start_time": "2023-06-17T11:28:39.552Z"
      },
      {
        "duration": 36,
        "start_time": "2023-06-17T11:28:39.680Z"
      },
      {
        "duration": 53,
        "start_time": "2023-06-17T11:28:39.718Z"
      },
      {
        "duration": 27,
        "start_time": "2023-06-17T11:28:39.772Z"
      },
      {
        "duration": 7,
        "start_time": "2023-06-17T11:28:39.800Z"
      },
      {
        "duration": 7,
        "start_time": "2023-06-17T11:28:39.809Z"
      },
      {
        "duration": 1976,
        "start_time": "2023-06-17T11:28:39.817Z"
      },
      {
        "duration": 1919,
        "start_time": "2023-06-17T11:28:41.795Z"
      },
      {
        "duration": 1809,
        "start_time": "2023-06-17T11:28:43.716Z"
      },
      {
        "duration": 2001,
        "start_time": "2023-06-17T11:28:45.526Z"
      },
      {
        "duration": 6,
        "start_time": "2023-06-17T11:28:47.529Z"
      },
      {
        "duration": 1717,
        "start_time": "2023-06-17T11:28:47.540Z"
      },
      {
        "duration": 442,
        "start_time": "2023-06-17T11:28:49.259Z"
      },
      {
        "duration": 4,
        "start_time": "2023-06-17T11:28:49.703Z"
      },
      {
        "duration": 983,
        "start_time": "2023-06-17T11:28:49.708Z"
      },
      {
        "duration": 1085,
        "start_time": "2023-06-17T11:28:50.693Z"
      },
      {
        "duration": 13,
        "start_time": "2023-06-17T11:28:51.780Z"
      },
      {
        "duration": 16,
        "start_time": "2023-06-17T11:28:51.795Z"
      },
      {
        "duration": 4,
        "start_time": "2023-06-17T11:28:51.812Z"
      },
      {
        "duration": 40,
        "start_time": "2023-06-17T11:28:51.817Z"
      },
      {
        "duration": 16,
        "start_time": "2023-06-17T11:28:51.859Z"
      },
      {
        "duration": 0,
        "start_time": "2023-06-17T11:28:51.877Z"
      },
      {
        "duration": 0,
        "start_time": "2023-06-17T11:28:51.878Z"
      },
      {
        "duration": 0,
        "start_time": "2023-06-17T11:28:51.879Z"
      },
      {
        "duration": 3,
        "start_time": "2023-06-17T11:37:12.640Z"
      },
      {
        "duration": 3,
        "start_time": "2023-06-17T11:37:23.830Z"
      },
      {
        "duration": 6,
        "start_time": "2023-06-17T11:38:41.347Z"
      },
      {
        "duration": 2,
        "start_time": "2023-06-17T11:42:14.083Z"
      },
      {
        "duration": 69,
        "start_time": "2023-06-17T11:42:51.501Z"
      },
      {
        "duration": 10,
        "start_time": "2023-06-17T11:42:58.328Z"
      },
      {
        "duration": 10,
        "start_time": "2023-06-17T11:43:52.141Z"
      },
      {
        "duration": 9,
        "start_time": "2023-06-17T11:47:17.209Z"
      },
      {
        "duration": 9,
        "start_time": "2023-06-17T11:48:29.383Z"
      },
      {
        "duration": 14,
        "start_time": "2023-06-17T11:48:40.975Z"
      },
      {
        "duration": 255,
        "start_time": "2023-06-17T11:50:30.596Z"
      },
      {
        "duration": 15,
        "start_time": "2023-06-17T12:07:32.259Z"
      },
      {
        "duration": 15,
        "start_time": "2023-06-17T12:07:39.714Z"
      },
      {
        "duration": 268,
        "start_time": "2023-06-17T12:08:05.183Z"
      },
      {
        "duration": 145,
        "start_time": "2023-06-17T12:09:20.605Z"
      },
      {
        "duration": 131,
        "start_time": "2023-06-17T12:09:31.726Z"
      },
      {
        "duration": 12,
        "start_time": "2023-06-17T12:11:01.907Z"
      },
      {
        "duration": 3,
        "start_time": "2023-06-17T12:11:26.752Z"
      },
      {
        "duration": 4,
        "start_time": "2023-06-17T12:11:31.496Z"
      },
      {
        "duration": 323,
        "start_time": "2023-06-17T12:11:31.502Z"
      },
      {
        "duration": 6,
        "start_time": "2023-06-17T12:11:31.827Z"
      },
      {
        "duration": 103,
        "start_time": "2023-06-17T12:11:31.834Z"
      },
      {
        "duration": 12,
        "start_time": "2023-06-17T12:11:31.939Z"
      },
      {
        "duration": 7,
        "start_time": "2023-06-17T12:11:31.953Z"
      },
      {
        "duration": 375,
        "start_time": "2023-06-17T12:11:31.961Z"
      },
      {
        "duration": 24,
        "start_time": "2023-06-17T12:11:32.338Z"
      },
      {
        "duration": 8,
        "start_time": "2023-06-17T12:11:32.363Z"
      },
      {
        "duration": 22,
        "start_time": "2023-06-17T12:11:32.372Z"
      },
      {
        "duration": 5,
        "start_time": "2023-06-17T12:11:32.396Z"
      },
      {
        "duration": 7,
        "start_time": "2023-06-17T12:11:32.403Z"
      },
      {
        "duration": 210,
        "start_time": "2023-06-17T12:11:32.411Z"
      },
      {
        "duration": 3,
        "start_time": "2023-06-17T12:11:32.624Z"
      },
      {
        "duration": 13,
        "start_time": "2023-06-17T12:11:32.628Z"
      },
      {
        "duration": 36,
        "start_time": "2023-06-17T12:11:32.651Z"
      },
      {
        "duration": 3,
        "start_time": "2023-06-17T12:11:32.689Z"
      },
      {
        "duration": 133,
        "start_time": "2023-06-17T12:11:32.693Z"
      },
      {
        "duration": 37,
        "start_time": "2023-06-17T12:11:32.827Z"
      },
      {
        "duration": 41,
        "start_time": "2023-06-17T12:11:32.865Z"
      },
      {
        "duration": 42,
        "start_time": "2023-06-17T12:11:32.908Z"
      },
      {
        "duration": 6,
        "start_time": "2023-06-17T12:11:32.952Z"
      },
      {
        "duration": 9,
        "start_time": "2023-06-17T12:11:32.960Z"
      },
      {
        "duration": 1760,
        "start_time": "2023-06-17T12:11:32.970Z"
      },
      {
        "duration": 1895,
        "start_time": "2023-06-17T12:11:34.732Z"
      },
      {
        "duration": 1923,
        "start_time": "2023-06-17T12:11:36.629Z"
      },
      {
        "duration": 1644,
        "start_time": "2023-06-17T12:11:38.553Z"
      },
      {
        "duration": 6,
        "start_time": "2023-06-17T12:11:40.199Z"
      },
      {
        "duration": 1879,
        "start_time": "2023-06-17T12:11:40.206Z"
      },
      {
        "duration": 287,
        "start_time": "2023-06-17T12:11:42.086Z"
      },
      {
        "duration": 4,
        "start_time": "2023-06-17T12:11:42.375Z"
      },
      {
        "duration": 1099,
        "start_time": "2023-06-17T12:11:42.381Z"
      },
      {
        "duration": 1026,
        "start_time": "2023-06-17T12:11:43.482Z"
      },
      {
        "duration": 12,
        "start_time": "2023-06-17T12:11:44.510Z"
      },
      {
        "duration": 31,
        "start_time": "2023-06-17T12:11:44.524Z"
      },
      {
        "duration": 4,
        "start_time": "2023-06-17T12:11:44.556Z"
      },
      {
        "duration": 19,
        "start_time": "2023-06-17T12:11:44.561Z"
      },
      {
        "duration": 2,
        "start_time": "2023-06-17T12:11:44.582Z"
      },
      {
        "duration": 5,
        "start_time": "2023-06-17T12:11:44.586Z"
      },
      {
        "duration": 6,
        "start_time": "2023-06-17T12:11:44.592Z"
      },
      {
        "duration": 6,
        "start_time": "2023-06-17T12:11:44.601Z"
      },
      {
        "duration": 11,
        "start_time": "2023-06-17T12:11:44.608Z"
      },
      {
        "duration": 230,
        "start_time": "2023-06-17T12:11:44.620Z"
      },
      {
        "duration": 298,
        "start_time": "2023-06-17T12:11:44.853Z"
      },
      {
        "duration": 99,
        "start_time": "2023-06-17T12:11:45.153Z"
      },
      {
        "duration": 5,
        "start_time": "2023-06-17T12:12:53.740Z"
      },
      {
        "duration": 12,
        "start_time": "2023-06-17T12:12:57.315Z"
      },
      {
        "duration": 4,
        "start_time": "2023-06-17T12:23:39.277Z"
      },
      {
        "duration": 22,
        "start_time": "2023-06-17T12:23:47.002Z"
      },
      {
        "duration": 4,
        "start_time": "2023-06-17T12:24:03.845Z"
      },
      {
        "duration": 27,
        "start_time": "2023-06-17T12:24:08.489Z"
      },
      {
        "duration": 4,
        "start_time": "2023-06-17T12:24:25.533Z"
      },
      {
        "duration": 17,
        "start_time": "2023-06-17T12:24:29.955Z"
      },
      {
        "duration": 20,
        "start_time": "2023-06-17T12:24:38.774Z"
      },
      {
        "duration": 3,
        "start_time": "2023-06-17T12:25:53.474Z"
      },
      {
        "duration": 358,
        "start_time": "2023-06-17T12:25:53.479Z"
      },
      {
        "duration": 13,
        "start_time": "2023-06-17T12:25:53.839Z"
      },
      {
        "duration": 95,
        "start_time": "2023-06-17T12:25:53.854Z"
      },
      {
        "duration": 14,
        "start_time": "2023-06-17T12:25:53.952Z"
      },
      {
        "duration": 4,
        "start_time": "2023-06-17T12:25:53.968Z"
      },
      {
        "duration": 442,
        "start_time": "2023-06-17T12:25:53.974Z"
      },
      {
        "duration": 17,
        "start_time": "2023-06-17T12:25:54.418Z"
      },
      {
        "duration": 21,
        "start_time": "2023-06-17T12:25:54.436Z"
      },
      {
        "duration": 24,
        "start_time": "2023-06-17T12:25:54.459Z"
      },
      {
        "duration": 6,
        "start_time": "2023-06-17T12:25:54.486Z"
      },
      {
        "duration": 9,
        "start_time": "2023-06-17T12:25:54.494Z"
      },
      {
        "duration": 207,
        "start_time": "2023-06-17T12:25:54.505Z"
      },
      {
        "duration": 12,
        "start_time": "2023-06-17T12:25:54.714Z"
      },
      {
        "duration": 18,
        "start_time": "2023-06-17T12:25:54.728Z"
      },
      {
        "duration": 31,
        "start_time": "2023-06-17T12:25:54.747Z"
      },
      {
        "duration": 3,
        "start_time": "2023-06-17T12:25:54.780Z"
      },
      {
        "duration": 132,
        "start_time": "2023-06-17T12:25:54.784Z"
      },
      {
        "duration": 42,
        "start_time": "2023-06-17T12:25:54.917Z"
      },
      {
        "duration": 42,
        "start_time": "2023-06-17T12:25:54.961Z"
      },
      {
        "duration": 48,
        "start_time": "2023-06-17T12:25:55.005Z"
      },
      {
        "duration": 7,
        "start_time": "2023-06-17T12:25:55.055Z"
      },
      {
        "duration": 16,
        "start_time": "2023-06-17T12:25:55.063Z"
      },
      {
        "duration": 1979,
        "start_time": "2023-06-17T12:25:55.081Z"
      },
      {
        "duration": 1974,
        "start_time": "2023-06-17T12:25:57.062Z"
      },
      {
        "duration": 1780,
        "start_time": "2023-06-17T12:25:59.038Z"
      },
      {
        "duration": 2054,
        "start_time": "2023-06-17T12:26:00.820Z"
      },
      {
        "duration": 6,
        "start_time": "2023-06-17T12:26:02.876Z"
      },
      {
        "duration": 1881,
        "start_time": "2023-06-17T12:26:02.886Z"
      },
      {
        "duration": 455,
        "start_time": "2023-06-17T12:26:04.769Z"
      },
      {
        "duration": 4,
        "start_time": "2023-06-17T12:26:05.226Z"
      },
      {
        "duration": 935,
        "start_time": "2023-06-17T12:26:05.231Z"
      },
      {
        "duration": 1077,
        "start_time": "2023-06-17T12:26:06.167Z"
      },
      {
        "duration": 14,
        "start_time": "2023-06-17T12:26:07.249Z"
      },
      {
        "duration": 26,
        "start_time": "2023-06-17T12:26:07.265Z"
      },
      {
        "duration": 3,
        "start_time": "2023-06-17T12:26:07.293Z"
      },
      {
        "duration": 18,
        "start_time": "2023-06-17T12:26:07.298Z"
      },
      {
        "duration": 4,
        "start_time": "2023-06-17T12:26:07.318Z"
      },
      {
        "duration": 21,
        "start_time": "2023-06-17T12:26:07.323Z"
      },
      {
        "duration": 15,
        "start_time": "2023-06-17T12:26:07.351Z"
      },
      {
        "duration": 183,
        "start_time": "2023-06-17T12:26:07.368Z"
      },
      {
        "duration": 308,
        "start_time": "2023-06-17T12:26:07.649Z"
      },
      {
        "duration": 197,
        "start_time": "2023-06-17T12:26:09.952Z"
      },
      {
        "duration": 19,
        "start_time": "2023-06-17T12:26:10.928Z"
      },
      {
        "duration": 3,
        "start_time": "2023-06-17T12:27:16.362Z"
      },
      {
        "duration": 292,
        "start_time": "2023-06-17T12:27:16.367Z"
      },
      {
        "duration": 7,
        "start_time": "2023-06-17T12:27:16.661Z"
      },
      {
        "duration": 90,
        "start_time": "2023-06-17T12:27:16.670Z"
      },
      {
        "duration": 13,
        "start_time": "2023-06-17T12:27:16.763Z"
      },
      {
        "duration": 6,
        "start_time": "2023-06-17T12:27:16.778Z"
      },
      {
        "duration": 372,
        "start_time": "2023-06-17T12:27:16.785Z"
      },
      {
        "duration": 18,
        "start_time": "2023-06-17T12:27:17.159Z"
      },
      {
        "duration": 8,
        "start_time": "2023-06-17T12:27:17.180Z"
      },
      {
        "duration": 20,
        "start_time": "2023-06-17T12:27:17.189Z"
      },
      {
        "duration": 5,
        "start_time": "2023-06-17T12:27:17.211Z"
      },
      {
        "duration": 38,
        "start_time": "2023-06-17T12:27:17.217Z"
      },
      {
        "duration": 178,
        "start_time": "2023-06-17T12:27:17.256Z"
      },
      {
        "duration": 15,
        "start_time": "2023-06-17T12:27:17.435Z"
      },
      {
        "duration": 4,
        "start_time": "2023-06-17T12:27:17.451Z"
      },
      {
        "duration": 27,
        "start_time": "2023-06-17T12:27:17.456Z"
      },
      {
        "duration": 3,
        "start_time": "2023-06-17T12:27:17.484Z"
      },
      {
        "duration": 141,
        "start_time": "2023-06-17T12:27:17.489Z"
      },
      {
        "duration": 42,
        "start_time": "2023-06-17T12:27:17.632Z"
      },
      {
        "duration": 40,
        "start_time": "2023-06-17T12:27:17.675Z"
      },
      {
        "duration": 39,
        "start_time": "2023-06-17T12:27:17.717Z"
      },
      {
        "duration": 6,
        "start_time": "2023-06-17T12:27:17.758Z"
      },
      {
        "duration": 9,
        "start_time": "2023-06-17T12:27:17.765Z"
      },
      {
        "duration": 1705,
        "start_time": "2023-06-17T12:27:17.776Z"
      },
      {
        "duration": 1926,
        "start_time": "2023-06-17T12:27:19.483Z"
      },
      {
        "duration": 1973,
        "start_time": "2023-06-17T12:27:21.411Z"
      },
      {
        "duration": 1849,
        "start_time": "2023-06-17T12:27:23.385Z"
      },
      {
        "duration": 18,
        "start_time": "2023-06-17T12:27:25.236Z"
      },
      {
        "duration": 1928,
        "start_time": "2023-06-17T12:27:25.259Z"
      },
      {
        "duration": 278,
        "start_time": "2023-06-17T12:27:27.189Z"
      },
      {
        "duration": 4,
        "start_time": "2023-06-17T12:27:27.469Z"
      },
      {
        "duration": 1125,
        "start_time": "2023-06-17T12:27:27.475Z"
      },
      {
        "duration": 908,
        "start_time": "2023-06-17T12:27:28.602Z"
      },
      {
        "duration": 13,
        "start_time": "2023-06-17T12:27:29.512Z"
      },
      {
        "duration": 34,
        "start_time": "2023-06-17T12:27:29.526Z"
      },
      {
        "duration": 3,
        "start_time": "2023-06-17T12:27:29.563Z"
      },
      {
        "duration": 17,
        "start_time": "2023-06-17T12:27:29.568Z"
      },
      {
        "duration": 3,
        "start_time": "2023-06-17T12:27:29.587Z"
      },
      {
        "duration": 6,
        "start_time": "2023-06-17T12:27:29.592Z"
      },
      {
        "duration": 5,
        "start_time": "2023-06-17T12:27:29.599Z"
      },
      {
        "duration": 13,
        "start_time": "2023-06-17T12:27:29.606Z"
      },
      {
        "duration": 39,
        "start_time": "2023-06-17T12:27:29.620Z"
      },
      {
        "duration": 594,
        "start_time": "2023-06-17T12:27:29.661Z"
      },
      {
        "duration": 449,
        "start_time": "2023-06-17T12:27:33.002Z"
      },
      {
        "duration": 20,
        "start_time": "2023-06-17T12:27:33.962Z"
      },
      {
        "duration": 400,
        "start_time": "2023-06-17T12:27:46.851Z"
      },
      {
        "duration": 666,
        "start_time": "2023-06-17T12:27:52.396Z"
      },
      {
        "duration": 4,
        "start_time": "2023-06-17T12:40:49.110Z"
      },
      {
        "duration": 4,
        "start_time": "2023-06-17T12:42:51.973Z"
      },
      {
        "duration": 102,
        "start_time": "2023-06-17T13:06:12.438Z"
      },
      {
        "duration": 4,
        "start_time": "2023-06-17T13:06:22.806Z"
      },
      {
        "duration": 4,
        "start_time": "2023-06-17T13:07:22.326Z"
      },
      {
        "duration": 5,
        "start_time": "2023-06-17T13:08:23.917Z"
      },
      {
        "duration": 6,
        "start_time": "2023-06-17T13:08:24.216Z"
      },
      {
        "duration": 1457,
        "start_time": "2023-06-17T13:09:38.796Z"
      },
      {
        "duration": 5,
        "start_time": "2023-06-17T13:10:34.348Z"
      },
      {
        "duration": 1562,
        "start_time": "2023-06-17T13:10:37.412Z"
      },
      {
        "duration": 11,
        "start_time": "2023-06-17T13:13:18.226Z"
      },
      {
        "duration": 17,
        "start_time": "2023-06-17T13:13:26.022Z"
      },
      {
        "duration": 297,
        "start_time": "2023-06-17T13:13:34.602Z"
      },
      {
        "duration": 282,
        "start_time": "2023-06-17T13:13:57.113Z"
      },
      {
        "duration": 20,
        "start_time": "2023-06-17T13:20:58.675Z"
      },
      {
        "duration": 68,
        "start_time": "2023-06-17T13:22:11.373Z"
      },
      {
        "duration": 990,
        "start_time": "2023-06-17T13:22:27.622Z"
      },
      {
        "duration": 644,
        "start_time": "2023-06-17T13:23:15.002Z"
      },
      {
        "duration": 1616,
        "start_time": "2023-06-17T13:23:28.478Z"
      },
      {
        "duration": 328,
        "start_time": "2023-06-17T13:23:30.097Z"
      },
      {
        "duration": 8,
        "start_time": "2023-06-17T13:23:30.427Z"
      },
      {
        "duration": 111,
        "start_time": "2023-06-17T13:23:30.450Z"
      },
      {
        "duration": 16,
        "start_time": "2023-06-17T13:23:30.562Z"
      },
      {
        "duration": 20,
        "start_time": "2023-06-17T13:23:30.580Z"
      },
      {
        "duration": 444,
        "start_time": "2023-06-17T13:23:30.602Z"
      },
      {
        "duration": 23,
        "start_time": "2023-06-17T13:23:31.050Z"
      },
      {
        "duration": 14,
        "start_time": "2023-06-17T13:23:31.075Z"
      },
      {
        "duration": 49,
        "start_time": "2023-06-17T13:23:31.093Z"
      },
      {
        "duration": 32,
        "start_time": "2023-06-17T13:23:31.144Z"
      },
      {
        "duration": 58,
        "start_time": "2023-06-17T13:23:31.178Z"
      },
      {
        "duration": 217,
        "start_time": "2023-06-17T13:23:31.239Z"
      },
      {
        "duration": 30,
        "start_time": "2023-06-17T13:23:31.457Z"
      },
      {
        "duration": 20,
        "start_time": "2023-06-17T13:23:31.489Z"
      },
      {
        "duration": 60,
        "start_time": "2023-06-17T13:23:31.511Z"
      },
      {
        "duration": 4,
        "start_time": "2023-06-17T13:23:31.572Z"
      },
      {
        "duration": 151,
        "start_time": "2023-06-17T13:23:31.578Z"
      },
      {
        "duration": 45,
        "start_time": "2023-06-17T13:23:31.730Z"
      },
      {
        "duration": 41,
        "start_time": "2023-06-17T13:23:31.777Z"
      },
      {
        "duration": 43,
        "start_time": "2023-06-17T13:23:31.820Z"
      },
      {
        "duration": 10,
        "start_time": "2023-06-17T13:23:31.865Z"
      },
      {
        "duration": 16,
        "start_time": "2023-06-17T13:23:31.876Z"
      },
      {
        "duration": 2007,
        "start_time": "2023-06-17T13:23:31.893Z"
      },
      {
        "duration": 1926,
        "start_time": "2023-06-17T13:23:33.901Z"
      },
      {
        "duration": 1907,
        "start_time": "2023-06-17T13:23:35.829Z"
      },
      {
        "duration": 1969,
        "start_time": "2023-06-17T13:23:37.738Z"
      },
      {
        "duration": 6,
        "start_time": "2023-06-17T13:23:39.710Z"
      },
      {
        "duration": 1755,
        "start_time": "2023-06-17T13:23:39.717Z"
      },
      {
        "duration": 406,
        "start_time": "2023-06-17T13:23:41.474Z"
      },
      {
        "duration": 4,
        "start_time": "2023-06-17T13:23:41.881Z"
      },
      {
        "duration": 982,
        "start_time": "2023-06-17T13:23:41.887Z"
      },
      {
        "duration": 1042,
        "start_time": "2023-06-17T13:23:42.871Z"
      },
      {
        "duration": 12,
        "start_time": "2023-06-17T13:23:43.914Z"
      },
      {
        "duration": 27,
        "start_time": "2023-06-17T13:23:43.928Z"
      },
      {
        "duration": 5,
        "start_time": "2023-06-17T13:23:43.957Z"
      },
      {
        "duration": 22,
        "start_time": "2023-06-17T13:23:43.964Z"
      },
      {
        "duration": 2,
        "start_time": "2023-06-17T13:23:43.988Z"
      },
      {
        "duration": 11,
        "start_time": "2023-06-17T13:23:43.992Z"
      },
      {
        "duration": 4,
        "start_time": "2023-06-17T13:23:44.004Z"
      },
      {
        "duration": 17,
        "start_time": "2023-06-17T13:23:44.010Z"
      },
      {
        "duration": 47,
        "start_time": "2023-06-17T13:23:44.029Z"
      },
      {
        "duration": 1273,
        "start_time": "2023-06-17T13:23:44.078Z"
      },
      {
        "duration": 696,
        "start_time": "2023-06-17T13:23:45.353Z"
      },
      {
        "duration": 85979,
        "start_time": "2023-06-17T13:24:52.538Z"
      },
      {
        "duration": 626,
        "start_time": "2023-06-17T13:26:34.725Z"
      },
      {
        "duration": 1603,
        "start_time": "2023-06-17T13:26:46.929Z"
      },
      {
        "duration": 302,
        "start_time": "2023-06-17T13:26:48.533Z"
      },
      {
        "duration": 13,
        "start_time": "2023-06-17T13:26:48.837Z"
      },
      {
        "duration": 106,
        "start_time": "2023-06-17T13:26:48.852Z"
      },
      {
        "duration": 13,
        "start_time": "2023-06-17T13:26:48.960Z"
      },
      {
        "duration": 4,
        "start_time": "2023-06-17T13:26:48.975Z"
      },
      {
        "duration": 421,
        "start_time": "2023-06-17T13:26:48.980Z"
      },
      {
        "duration": 18,
        "start_time": "2023-06-17T13:26:49.403Z"
      },
      {
        "duration": 8,
        "start_time": "2023-06-17T13:26:49.422Z"
      },
      {
        "duration": 38,
        "start_time": "2023-06-17T13:26:49.431Z"
      },
      {
        "duration": 4,
        "start_time": "2023-06-17T13:26:49.470Z"
      },
      {
        "duration": 25,
        "start_time": "2023-06-17T13:26:49.476Z"
      },
      {
        "duration": 185,
        "start_time": "2023-06-17T13:26:49.502Z"
      },
      {
        "duration": 6,
        "start_time": "2023-06-17T13:26:49.690Z"
      },
      {
        "duration": 5,
        "start_time": "2023-06-17T13:26:49.698Z"
      },
      {
        "duration": 33,
        "start_time": "2023-06-17T13:26:49.704Z"
      },
      {
        "duration": 3,
        "start_time": "2023-06-17T13:26:49.750Z"
      },
      {
        "duration": 132,
        "start_time": "2023-06-17T13:26:49.755Z"
      },
      {
        "duration": 33,
        "start_time": "2023-06-17T13:26:49.889Z"
      },
      {
        "duration": 58,
        "start_time": "2023-06-17T13:26:49.923Z"
      },
      {
        "duration": 27,
        "start_time": "2023-06-17T13:26:49.983Z"
      },
      {
        "duration": 7,
        "start_time": "2023-06-17T13:26:50.012Z"
      },
      {
        "duration": 29,
        "start_time": "2023-06-17T13:26:50.021Z"
      },
      {
        "duration": 1858,
        "start_time": "2023-06-17T13:26:50.052Z"
      },
      {
        "duration": 1900,
        "start_time": "2023-06-17T13:26:51.912Z"
      },
      {
        "duration": 1914,
        "start_time": "2023-06-17T13:26:53.814Z"
      },
      {
        "duration": 2007,
        "start_time": "2023-06-17T13:26:55.731Z"
      },
      {
        "duration": 15,
        "start_time": "2023-06-17T13:26:57.740Z"
      },
      {
        "duration": 1777,
        "start_time": "2023-06-17T13:26:57.757Z"
      },
      {
        "duration": 442,
        "start_time": "2023-06-17T13:26:59.536Z"
      },
      {
        "duration": 6,
        "start_time": "2023-06-17T13:26:59.980Z"
      },
      {
        "duration": 986,
        "start_time": "2023-06-17T13:26:59.988Z"
      },
      {
        "duration": 1081,
        "start_time": "2023-06-17T13:27:00.975Z"
      },
      {
        "duration": 15,
        "start_time": "2023-06-17T13:27:02.059Z"
      },
      {
        "duration": 16,
        "start_time": "2023-06-17T13:27:02.076Z"
      },
      {
        "duration": 4,
        "start_time": "2023-06-17T13:27:02.095Z"
      },
      {
        "duration": 49,
        "start_time": "2023-06-17T13:27:02.101Z"
      },
      {
        "duration": 3,
        "start_time": "2023-06-17T13:27:02.151Z"
      },
      {
        "duration": 25,
        "start_time": "2023-06-17T13:27:02.155Z"
      },
      {
        "duration": 11,
        "start_time": "2023-06-17T13:27:02.181Z"
      },
      {
        "duration": 23,
        "start_time": "2023-06-17T13:27:02.196Z"
      },
      {
        "duration": 17,
        "start_time": "2023-06-17T13:27:02.221Z"
      },
      {
        "duration": 721,
        "start_time": "2023-06-17T13:27:02.240Z"
      },
      {
        "duration": 656,
        "start_time": "2023-06-17T13:27:02.967Z"
      },
      {
        "duration": 4,
        "start_time": "2023-06-17T13:27:21.416Z"
      },
      {
        "duration": 531,
        "start_time": "2023-06-17T13:27:21.963Z"
      },
      {
        "duration": 503,
        "start_time": "2023-06-17T13:28:11.664Z"
      },
      {
        "duration": 4,
        "start_time": "2023-06-17T13:28:20.864Z"
      },
      {
        "duration": 644,
        "start_time": "2023-06-17T13:28:37.108Z"
      },
      {
        "duration": 1473,
        "start_time": "2023-06-17T13:29:24.372Z"
      },
      {
        "duration": 312,
        "start_time": "2023-06-17T13:29:25.847Z"
      },
      {
        "duration": 7,
        "start_time": "2023-06-17T13:29:26.161Z"
      },
      {
        "duration": 104,
        "start_time": "2023-06-17T13:29:26.171Z"
      },
      {
        "duration": 12,
        "start_time": "2023-06-17T13:29:26.277Z"
      },
      {
        "duration": 5,
        "start_time": "2023-06-17T13:29:26.291Z"
      },
      {
        "duration": 407,
        "start_time": "2023-06-17T13:29:26.297Z"
      },
      {
        "duration": 18,
        "start_time": "2023-06-17T13:29:26.705Z"
      },
      {
        "duration": 8,
        "start_time": "2023-06-17T13:29:26.725Z"
      },
      {
        "duration": 24,
        "start_time": "2023-06-17T13:29:26.751Z"
      },
      {
        "duration": 5,
        "start_time": "2023-06-17T13:29:26.776Z"
      },
      {
        "duration": 9,
        "start_time": "2023-06-17T13:29:26.782Z"
      },
      {
        "duration": 208,
        "start_time": "2023-06-17T13:29:26.793Z"
      },
      {
        "duration": 9,
        "start_time": "2023-06-17T13:29:27.003Z"
      },
      {
        "duration": 5,
        "start_time": "2023-06-17T13:29:27.013Z"
      },
      {
        "duration": 49,
        "start_time": "2023-06-17T13:29:27.020Z"
      },
      {
        "duration": 3,
        "start_time": "2023-06-17T13:29:27.071Z"
      },
      {
        "duration": 135,
        "start_time": "2023-06-17T13:29:27.075Z"
      },
      {
        "duration": 40,
        "start_time": "2023-06-17T13:29:27.211Z"
      },
      {
        "duration": 44,
        "start_time": "2023-06-17T13:29:27.253Z"
      },
      {
        "duration": 32,
        "start_time": "2023-06-17T13:29:27.299Z"
      },
      {
        "duration": 6,
        "start_time": "2023-06-17T13:29:27.351Z"
      },
      {
        "duration": 18,
        "start_time": "2023-06-17T13:29:27.359Z"
      },
      {
        "duration": 1841,
        "start_time": "2023-06-17T13:29:27.379Z"
      },
      {
        "duration": 2043,
        "start_time": "2023-06-17T13:29:29.222Z"
      },
      {
        "duration": 1915,
        "start_time": "2023-06-17T13:29:31.268Z"
      },
      {
        "duration": 2054,
        "start_time": "2023-06-17T13:29:33.185Z"
      },
      {
        "duration": 8,
        "start_time": "2023-06-17T13:29:35.249Z"
      },
      {
        "duration": 1782,
        "start_time": "2023-06-17T13:29:35.258Z"
      },
      {
        "duration": 450,
        "start_time": "2023-06-17T13:29:37.042Z"
      },
      {
        "duration": 5,
        "start_time": "2023-06-17T13:29:37.493Z"
      },
      {
        "duration": 1051,
        "start_time": "2023-06-17T13:29:37.499Z"
      },
      {
        "duration": 1132,
        "start_time": "2023-06-17T13:29:38.551Z"
      },
      {
        "duration": 14,
        "start_time": "2023-06-17T13:29:39.685Z"
      },
      {
        "duration": 15,
        "start_time": "2023-06-17T13:29:39.702Z"
      },
      {
        "duration": 3,
        "start_time": "2023-06-17T13:29:39.720Z"
      },
      {
        "duration": 24,
        "start_time": "2023-06-17T13:29:39.749Z"
      },
      {
        "duration": 5,
        "start_time": "2023-06-17T13:29:39.775Z"
      },
      {
        "duration": 5,
        "start_time": "2023-06-17T13:29:39.782Z"
      },
      {
        "duration": 7,
        "start_time": "2023-06-17T13:29:39.788Z"
      },
      {
        "duration": 22,
        "start_time": "2023-06-17T13:29:39.797Z"
      },
      {
        "duration": 35,
        "start_time": "2023-06-17T13:29:39.820Z"
      },
      {
        "duration": 1119,
        "start_time": "2023-06-17T13:29:39.860Z"
      },
      {
        "duration": 851,
        "start_time": "2023-06-17T13:29:40.986Z"
      },
      {
        "duration": 602,
        "start_time": "2023-06-17T13:30:13.666Z"
      },
      {
        "duration": 3,
        "start_time": "2023-06-17T13:31:25.911Z"
      },
      {
        "duration": 687,
        "start_time": "2023-06-17T13:31:30.838Z"
      },
      {
        "duration": 4,
        "start_time": "2023-06-17T13:31:57.294Z"
      },
      {
        "duration": 315,
        "start_time": "2023-06-17T13:33:12.739Z"
      },
      {
        "duration": 4,
        "start_time": "2023-06-17T13:34:58.747Z"
      },
      {
        "duration": 3,
        "start_time": "2023-06-17T13:35:35.678Z"
      },
      {
        "duration": 4,
        "start_time": "2023-06-17T13:35:51.964Z"
      },
      {
        "duration": 3,
        "start_time": "2023-06-17T13:36:08.409Z"
      },
      {
        "duration": 1630,
        "start_time": "2023-06-17T13:41:58.511Z"
      },
      {
        "duration": 356,
        "start_time": "2023-06-17T13:42:00.143Z"
      },
      {
        "duration": 10,
        "start_time": "2023-06-17T13:42:00.501Z"
      },
      {
        "duration": 160,
        "start_time": "2023-06-17T13:42:00.513Z"
      },
      {
        "duration": 13,
        "start_time": "2023-06-17T13:42:00.676Z"
      },
      {
        "duration": 20,
        "start_time": "2023-06-17T13:42:00.691Z"
      },
      {
        "duration": 445,
        "start_time": "2023-06-17T13:42:00.713Z"
      },
      {
        "duration": 22,
        "start_time": "2023-06-17T13:42:01.160Z"
      },
      {
        "duration": 51,
        "start_time": "2023-06-17T13:42:01.184Z"
      },
      {
        "duration": 76,
        "start_time": "2023-06-17T13:42:01.237Z"
      },
      {
        "duration": 33,
        "start_time": "2023-06-17T13:42:01.315Z"
      },
      {
        "duration": 63,
        "start_time": "2023-06-17T13:42:01.350Z"
      },
      {
        "duration": 269,
        "start_time": "2023-06-17T13:42:01.415Z"
      },
      {
        "duration": 20,
        "start_time": "2023-06-17T13:42:01.688Z"
      },
      {
        "duration": 27,
        "start_time": "2023-06-17T13:42:01.711Z"
      },
      {
        "duration": 63,
        "start_time": "2023-06-17T13:42:01.740Z"
      },
      {
        "duration": 9,
        "start_time": "2023-06-17T13:42:01.805Z"
      },
      {
        "duration": 184,
        "start_time": "2023-06-17T13:42:01.816Z"
      },
      {
        "duration": 34,
        "start_time": "2023-06-17T13:42:02.002Z"
      },
      {
        "duration": 56,
        "start_time": "2023-06-17T13:42:02.037Z"
      },
      {
        "duration": 32,
        "start_time": "2023-06-17T13:42:02.095Z"
      },
      {
        "duration": 28,
        "start_time": "2023-06-17T13:42:02.129Z"
      },
      {
        "duration": 23,
        "start_time": "2023-06-17T13:42:02.159Z"
      },
      {
        "duration": 2205,
        "start_time": "2023-06-17T13:42:02.184Z"
      },
      {
        "duration": 2088,
        "start_time": "2023-06-17T13:42:04.391Z"
      },
      {
        "duration": 2059,
        "start_time": "2023-06-17T13:42:06.481Z"
      },
      {
        "duration": 2152,
        "start_time": "2023-06-17T13:42:08.542Z"
      },
      {
        "duration": 7,
        "start_time": "2023-06-17T13:42:10.696Z"
      },
      {
        "duration": 2032,
        "start_time": "2023-06-17T13:42:10.705Z"
      },
      {
        "duration": 448,
        "start_time": "2023-06-17T13:42:12.739Z"
      },
      {
        "duration": 4,
        "start_time": "2023-06-17T13:42:13.189Z"
      },
      {
        "duration": 1080,
        "start_time": "2023-06-17T13:42:13.195Z"
      },
      {
        "duration": 1098,
        "start_time": "2023-06-17T13:42:14.277Z"
      },
      {
        "duration": 13,
        "start_time": "2023-06-17T13:42:15.376Z"
      },
      {
        "duration": 29,
        "start_time": "2023-06-17T13:42:15.390Z"
      },
      {
        "duration": 24,
        "start_time": "2023-06-17T13:42:15.421Z"
      },
      {
        "duration": 76,
        "start_time": "2023-06-17T13:42:15.447Z"
      },
      {
        "duration": 15,
        "start_time": "2023-06-17T13:42:15.525Z"
      },
      {
        "duration": 15,
        "start_time": "2023-06-17T13:42:15.541Z"
      },
      {
        "duration": 20,
        "start_time": "2023-06-17T13:42:15.559Z"
      },
      {
        "duration": 37,
        "start_time": "2023-06-17T13:42:15.583Z"
      },
      {
        "duration": 24,
        "start_time": "2023-06-17T13:42:15.622Z"
      },
      {
        "duration": 2219,
        "start_time": "2023-06-17T13:42:15.648Z"
      },
      {
        "duration": 192588,
        "start_time": "2023-06-17T13:42:17.869Z"
      },
      {
        "duration": 3,
        "start_time": "2023-06-17T13:48:51.045Z"
      },
      {
        "duration": 4,
        "start_time": "2023-06-17T13:49:30.313Z"
      },
      {
        "duration": 88192,
        "start_time": "2023-06-17T13:49:33.779Z"
      },
      {
        "duration": 104616,
        "start_time": "2023-06-17T13:53:12.535Z"
      },
      {
        "duration": 6,
        "start_time": "2023-06-17T14:08:32.870Z"
      },
      {
        "duration": 1635,
        "start_time": "2023-06-17T14:12:39.415Z"
      },
      {
        "duration": 1679,
        "start_time": "2023-06-17T14:13:04.974Z"
      },
      {
        "duration": 1664,
        "start_time": "2023-06-17T14:14:33.889Z"
      },
      {
        "duration": 1515,
        "start_time": "2023-06-17T14:15:26.034Z"
      },
      {
        "duration": 1692,
        "start_time": "2023-06-17T14:15:53.465Z"
      },
      {
        "duration": 80,
        "start_time": "2023-06-17T14:18:05.000Z"
      },
      {
        "duration": 135,
        "start_time": "2023-06-17T14:18:10.209Z"
      },
      {
        "duration": 4402,
        "start_time": "2023-06-17T14:18:40.864Z"
      },
      {
        "duration": 3996,
        "start_time": "2023-06-17T14:18:45.275Z"
      },
      {
        "duration": 79,
        "start_time": "2023-06-17T14:18:49.278Z"
      },
      {
        "duration": 3853,
        "start_time": "2023-06-17T14:21:41.105Z"
      },
      {
        "duration": 29,
        "start_time": "2023-06-17T14:34:01.648Z"
      },
      {
        "duration": 15,
        "start_time": "2023-06-17T14:35:45.775Z"
      },
      {
        "duration": 11,
        "start_time": "2023-06-17T14:36:04.642Z"
      },
      {
        "duration": 11,
        "start_time": "2023-06-17T14:36:22.779Z"
      },
      {
        "duration": 18,
        "start_time": "2023-06-17T14:36:36.416Z"
      },
      {
        "duration": 11,
        "start_time": "2023-06-17T14:38:39.669Z"
      },
      {
        "duration": 10,
        "start_time": "2023-06-17T14:38:51.625Z"
      },
      {
        "duration": 1531,
        "start_time": "2023-06-17T14:39:04.009Z"
      },
      {
        "duration": 312,
        "start_time": "2023-06-17T14:39:05.542Z"
      },
      {
        "duration": 11,
        "start_time": "2023-06-17T14:39:05.856Z"
      },
      {
        "duration": 105,
        "start_time": "2023-06-17T14:39:05.869Z"
      },
      {
        "duration": 13,
        "start_time": "2023-06-17T14:39:05.976Z"
      },
      {
        "duration": 4,
        "start_time": "2023-06-17T14:39:05.991Z"
      },
      {
        "duration": 400,
        "start_time": "2023-06-17T14:39:05.997Z"
      },
      {
        "duration": 17,
        "start_time": "2023-06-17T14:39:06.398Z"
      },
      {
        "duration": 7,
        "start_time": "2023-06-17T14:39:06.417Z"
      },
      {
        "duration": 44,
        "start_time": "2023-06-17T14:39:06.426Z"
      },
      {
        "duration": 5,
        "start_time": "2023-06-17T14:39:06.472Z"
      },
      {
        "duration": 17,
        "start_time": "2023-06-17T14:39:06.479Z"
      },
      {
        "duration": 192,
        "start_time": "2023-06-17T14:39:06.498Z"
      },
      {
        "duration": 2,
        "start_time": "2023-06-17T14:39:06.695Z"
      },
      {
        "duration": 5,
        "start_time": "2023-06-17T14:39:06.699Z"
      },
      {
        "duration": 54,
        "start_time": "2023-06-17T14:39:06.706Z"
      },
      {
        "duration": 4,
        "start_time": "2023-06-17T14:39:06.762Z"
      },
      {
        "duration": 146,
        "start_time": "2023-06-17T14:39:06.768Z"
      },
      {
        "duration": 46,
        "start_time": "2023-06-17T14:39:06.916Z"
      },
      {
        "duration": 43,
        "start_time": "2023-06-17T14:39:06.964Z"
      },
      {
        "duration": 43,
        "start_time": "2023-06-17T14:39:07.009Z"
      },
      {
        "duration": 9,
        "start_time": "2023-06-17T14:39:07.058Z"
      },
      {
        "duration": 8,
        "start_time": "2023-06-17T14:39:07.068Z"
      },
      {
        "duration": 1937,
        "start_time": "2023-06-17T14:39:07.078Z"
      },
      {
        "duration": 1951,
        "start_time": "2023-06-17T14:39:09.017Z"
      },
      {
        "duration": 2019,
        "start_time": "2023-06-17T14:39:10.969Z"
      },
      {
        "duration": 2021,
        "start_time": "2023-06-17T14:39:12.990Z"
      },
      {
        "duration": 7,
        "start_time": "2023-06-17T14:39:15.013Z"
      },
      {
        "duration": 1889,
        "start_time": "2023-06-17T14:39:15.021Z"
      },
      {
        "duration": 300,
        "start_time": "2023-06-17T14:39:16.913Z"
      },
      {
        "duration": 4,
        "start_time": "2023-06-17T14:39:17.215Z"
      },
      {
        "duration": 996,
        "start_time": "2023-06-17T14:39:17.220Z"
      },
      {
        "duration": 1143,
        "start_time": "2023-06-17T14:39:18.219Z"
      },
      {
        "duration": 13,
        "start_time": "2023-06-17T14:39:19.364Z"
      },
      {
        "duration": 29,
        "start_time": "2023-06-17T14:39:19.378Z"
      },
      {
        "duration": 5,
        "start_time": "2023-06-17T14:39:19.409Z"
      },
      {
        "duration": 28,
        "start_time": "2023-06-17T14:39:19.416Z"
      },
      {
        "duration": 8,
        "start_time": "2023-06-17T14:39:19.449Z"
      },
      {
        "duration": 9,
        "start_time": "2023-06-17T14:39:19.459Z"
      },
      {
        "duration": 5,
        "start_time": "2023-06-17T14:39:19.469Z"
      },
      {
        "duration": 15,
        "start_time": "2023-06-17T14:39:19.477Z"
      },
      {
        "duration": 18,
        "start_time": "2023-06-17T14:39:19.493Z"
      },
      {
        "duration": 5557,
        "start_time": "2023-06-17T14:39:19.512Z"
      },
      {
        "duration": 271,
        "start_time": "2023-06-17T14:39:25.071Z"
      },
      {
        "duration": 0,
        "start_time": "2023-06-17T14:39:25.356Z"
      },
      {
        "duration": 0,
        "start_time": "2023-06-17T14:39:25.357Z"
      },
      {
        "duration": 560799,
        "start_time": "2023-06-17T14:40:12.533Z"
      },
      {
        "duration": 0,
        "start_time": "2023-06-17T14:49:33.334Z"
      },
      {
        "duration": 3923,
        "start_time": "2023-06-17T14:49:36.834Z"
      },
      {
        "duration": 4,
        "start_time": "2023-06-17T14:50:19.234Z"
      },
      {
        "duration": 3590,
        "start_time": "2023-06-17T14:50:22.561Z"
      },
      {
        "duration": 5,
        "start_time": "2023-06-17T14:50:59.346Z"
      },
      {
        "duration": 10577,
        "start_time": "2023-06-17T14:51:03.873Z"
      },
      {
        "duration": 3,
        "start_time": "2023-06-17T14:51:22.574Z"
      },
      {
        "duration": 8,
        "start_time": "2023-06-17T14:53:16.479Z"
      },
      {
        "duration": 5,
        "start_time": "2023-06-17T14:55:32.447Z"
      },
      {
        "duration": 486,
        "start_time": "2023-06-17T14:55:35.764Z"
      },
      {
        "duration": 3,
        "start_time": "2023-06-17T14:56:15.517Z"
      },
      {
        "duration": 791,
        "start_time": "2023-06-17T14:56:18.680Z"
      },
      {
        "duration": 3,
        "start_time": "2023-06-17T14:57:11.402Z"
      },
      {
        "duration": 1946,
        "start_time": "2023-06-17T14:57:14.107Z"
      },
      {
        "duration": 3,
        "start_time": "2023-06-17T14:58:05.686Z"
      },
      {
        "duration": 7634,
        "start_time": "2023-06-17T14:58:08.420Z"
      },
      {
        "duration": 69094,
        "start_time": "2023-06-17T14:59:58.699Z"
      },
      {
        "duration": 0,
        "start_time": "2023-06-17T15:01:07.796Z"
      },
      {
        "duration": 1612,
        "start_time": "2023-06-17T15:05:07.124Z"
      },
      {
        "duration": 326,
        "start_time": "2023-06-17T15:05:08.738Z"
      },
      {
        "duration": 7,
        "start_time": "2023-06-17T15:05:09.066Z"
      },
      {
        "duration": 102,
        "start_time": "2023-06-17T15:05:09.075Z"
      },
      {
        "duration": 12,
        "start_time": "2023-06-17T15:05:09.179Z"
      },
      {
        "duration": 4,
        "start_time": "2023-06-17T15:05:09.193Z"
      },
      {
        "duration": 398,
        "start_time": "2023-06-17T15:05:09.198Z"
      },
      {
        "duration": 17,
        "start_time": "2023-06-17T15:05:09.597Z"
      },
      {
        "duration": 7,
        "start_time": "2023-06-17T15:05:09.616Z"
      },
      {
        "duration": 46,
        "start_time": "2023-06-17T15:05:09.624Z"
      },
      {
        "duration": 5,
        "start_time": "2023-06-17T15:05:09.672Z"
      },
      {
        "duration": 9,
        "start_time": "2023-06-17T15:05:09.679Z"
      },
      {
        "duration": 194,
        "start_time": "2023-06-17T15:05:09.689Z"
      },
      {
        "duration": 2,
        "start_time": "2023-06-17T15:05:09.886Z"
      },
      {
        "duration": 6,
        "start_time": "2023-06-17T15:05:09.890Z"
      },
      {
        "duration": 33,
        "start_time": "2023-06-17T15:05:09.897Z"
      },
      {
        "duration": 8,
        "start_time": "2023-06-17T15:05:09.950Z"
      },
      {
        "duration": 133,
        "start_time": "2023-06-17T15:05:09.963Z"
      },
      {
        "duration": 34,
        "start_time": "2023-06-17T15:05:10.097Z"
      },
      {
        "duration": 57,
        "start_time": "2023-06-17T15:05:10.132Z"
      },
      {
        "duration": 26,
        "start_time": "2023-06-17T15:05:10.191Z"
      },
      {
        "duration": 6,
        "start_time": "2023-06-17T15:05:10.219Z"
      },
      {
        "duration": 28,
        "start_time": "2023-06-17T15:05:10.226Z"
      },
      {
        "duration": 1968,
        "start_time": "2023-06-17T15:05:10.264Z"
      },
      {
        "duration": 2057,
        "start_time": "2023-06-17T15:05:12.233Z"
      },
      {
        "duration": 1875,
        "start_time": "2023-06-17T15:05:14.293Z"
      },
      {
        "duration": 2015,
        "start_time": "2023-06-17T15:05:16.170Z"
      },
      {
        "duration": 7,
        "start_time": "2023-06-17T15:05:18.186Z"
      },
      {
        "duration": 1919,
        "start_time": "2023-06-17T15:05:18.195Z"
      },
      {
        "duration": 332,
        "start_time": "2023-06-17T15:05:20.116Z"
      },
      {
        "duration": 17,
        "start_time": "2023-06-17T15:05:20.452Z"
      },
      {
        "duration": 964,
        "start_time": "2023-06-17T15:05:20.471Z"
      },
      {
        "duration": 1155,
        "start_time": "2023-06-17T15:05:21.436Z"
      },
      {
        "duration": 14,
        "start_time": "2023-06-17T15:05:22.593Z"
      },
      {
        "duration": 15,
        "start_time": "2023-06-17T15:05:22.609Z"
      },
      {
        "duration": 33,
        "start_time": "2023-06-17T15:05:22.626Z"
      },
      {
        "duration": 23,
        "start_time": "2023-06-17T15:05:22.660Z"
      },
      {
        "duration": 3,
        "start_time": "2023-06-17T15:05:22.685Z"
      },
      {
        "duration": 6,
        "start_time": "2023-06-17T15:05:22.690Z"
      },
      {
        "duration": 10,
        "start_time": "2023-06-17T15:05:22.698Z"
      },
      {
        "duration": 4,
        "start_time": "2023-06-17T15:05:22.712Z"
      },
      {
        "duration": 32,
        "start_time": "2023-06-17T15:05:22.718Z"
      },
      {
        "duration": 26,
        "start_time": "2023-06-17T15:05:22.756Z"
      },
      {
        "duration": 7773,
        "start_time": "2023-06-17T15:05:22.783Z"
      },
      {
        "duration": 256686,
        "start_time": "2023-06-17T15:05:30.559Z"
      },
      {
        "duration": 0,
        "start_time": "2023-06-17T15:09:47.250Z"
      },
      {
        "duration": 0,
        "start_time": "2023-06-17T15:09:47.252Z"
      },
      {
        "duration": 10,
        "start_time": "2023-06-17T15:09:53.385Z"
      },
      {
        "duration": 4,
        "start_time": "2023-06-17T15:10:11.860Z"
      },
      {
        "duration": 92066,
        "start_time": "2023-06-17T15:10:21.924Z"
      },
      {
        "duration": 11,
        "start_time": "2023-06-17T15:11:53.992Z"
      },
      {
        "duration": 5,
        "start_time": "2023-06-17T15:11:59.998Z"
      },
      {
        "duration": 355,
        "start_time": "2023-06-17T15:12:00.005Z"
      },
      {
        "duration": 7,
        "start_time": "2023-06-17T15:12:00.362Z"
      },
      {
        "duration": 124,
        "start_time": "2023-06-17T15:12:00.371Z"
      },
      {
        "duration": 12,
        "start_time": "2023-06-17T15:12:00.498Z"
      },
      {
        "duration": 20,
        "start_time": "2023-06-17T15:12:00.511Z"
      },
      {
        "duration": 412,
        "start_time": "2023-06-17T15:12:00.533Z"
      },
      {
        "duration": 16,
        "start_time": "2023-06-17T15:12:00.947Z"
      },
      {
        "duration": 28,
        "start_time": "2023-06-17T15:12:00.964Z"
      },
      {
        "duration": 76,
        "start_time": "2023-06-17T15:12:00.993Z"
      },
      {
        "duration": 21,
        "start_time": "2023-06-17T15:12:01.072Z"
      },
      {
        "duration": 30,
        "start_time": "2023-06-17T15:12:01.094Z"
      },
      {
        "duration": 233,
        "start_time": "2023-06-17T15:12:01.126Z"
      },
      {
        "duration": 43,
        "start_time": "2023-06-17T15:12:01.361Z"
      },
      {
        "duration": 40,
        "start_time": "2023-06-17T15:12:01.406Z"
      },
      {
        "duration": 71,
        "start_time": "2023-06-17T15:12:01.449Z"
      },
      {
        "duration": 6,
        "start_time": "2023-06-17T15:12:01.522Z"
      },
      {
        "duration": 158,
        "start_time": "2023-06-17T15:12:01.530Z"
      },
      {
        "duration": 37,
        "start_time": "2023-06-17T15:12:01.689Z"
      },
      {
        "duration": 50,
        "start_time": "2023-06-17T15:12:01.727Z"
      },
      {
        "duration": 10,
        "start_time": "2023-06-17T15:12:06.005Z"
      },
      {
        "duration": 22,
        "start_time": "2023-06-17T15:12:06.781Z"
      },
      {
        "duration": 12,
        "start_time": "2023-06-17T15:12:22.028Z"
      },
      {
        "duration": 4,
        "start_time": "2023-06-17T15:12:34.695Z"
      },
      {
        "duration": 298,
        "start_time": "2023-06-17T15:12:34.700Z"
      },
      {
        "duration": 6,
        "start_time": "2023-06-17T15:12:35.000Z"
      },
      {
        "duration": 101,
        "start_time": "2023-06-17T15:12:35.007Z"
      },
      {
        "duration": 12,
        "start_time": "2023-06-17T15:12:35.110Z"
      },
      {
        "duration": 5,
        "start_time": "2023-06-17T15:12:35.123Z"
      },
      {
        "duration": 381,
        "start_time": "2023-06-17T15:12:35.129Z"
      },
      {
        "duration": 17,
        "start_time": "2023-06-17T15:12:35.513Z"
      },
      {
        "duration": 7,
        "start_time": "2023-06-17T15:12:35.531Z"
      },
      {
        "duration": 21,
        "start_time": "2023-06-17T15:12:35.551Z"
      },
      {
        "duration": 5,
        "start_time": "2023-06-17T15:12:35.574Z"
      },
      {
        "duration": 13,
        "start_time": "2023-06-17T15:12:35.581Z"
      },
      {
        "duration": 187,
        "start_time": "2023-06-17T15:12:35.596Z"
      },
      {
        "duration": 2,
        "start_time": "2023-06-17T15:12:35.785Z"
      },
      {
        "duration": 4,
        "start_time": "2023-06-17T15:12:35.788Z"
      },
      {
        "duration": 78,
        "start_time": "2023-06-17T15:12:35.794Z"
      },
      {
        "duration": 4,
        "start_time": "2023-06-17T15:12:35.873Z"
      },
      {
        "duration": 142,
        "start_time": "2023-06-17T15:12:35.878Z"
      },
      {
        "duration": 115,
        "start_time": "2023-06-17T15:12:38.560Z"
      },
      {
        "duration": 34,
        "start_time": "2023-06-17T15:12:39.206Z"
      },
      {
        "duration": 43,
        "start_time": "2023-06-17T15:12:39.765Z"
      },
      {
        "duration": 21,
        "start_time": "2023-06-17T15:12:43.853Z"
      },
      {
        "duration": 13,
        "start_time": "2023-06-17T15:13:02.266Z"
      },
      {
        "duration": 10,
        "start_time": "2023-06-17T15:13:19.481Z"
      },
      {
        "duration": 3,
        "start_time": "2023-06-17T15:13:22.971Z"
      },
      {
        "duration": 333,
        "start_time": "2023-06-17T15:13:22.981Z"
      },
      {
        "duration": 7,
        "start_time": "2023-06-17T15:13:23.316Z"
      },
      {
        "duration": 106,
        "start_time": "2023-06-17T15:13:23.324Z"
      },
      {
        "duration": 12,
        "start_time": "2023-06-17T15:13:23.432Z"
      },
      {
        "duration": 5,
        "start_time": "2023-06-17T15:13:23.451Z"
      },
      {
        "duration": 404,
        "start_time": "2023-06-17T15:13:23.457Z"
      },
      {
        "duration": 17,
        "start_time": "2023-06-17T15:13:23.863Z"
      },
      {
        "duration": 8,
        "start_time": "2023-06-17T15:13:23.881Z"
      },
      {
        "duration": 23,
        "start_time": "2023-06-17T15:13:23.890Z"
      },
      {
        "duration": 5,
        "start_time": "2023-06-17T15:13:23.914Z"
      },
      {
        "duration": 30,
        "start_time": "2023-06-17T15:13:23.921Z"
      },
      {
        "duration": 187,
        "start_time": "2023-06-17T15:13:23.953Z"
      },
      {
        "duration": 12,
        "start_time": "2023-06-17T15:13:24.142Z"
      },
      {
        "duration": 4,
        "start_time": "2023-06-17T15:13:24.157Z"
      },
      {
        "duration": 33,
        "start_time": "2023-06-17T15:13:24.163Z"
      },
      {
        "duration": 4,
        "start_time": "2023-06-17T15:13:24.198Z"
      },
      {
        "duration": 186,
        "start_time": "2023-06-17T15:13:24.204Z"
      },
      {
        "duration": 43,
        "start_time": "2023-06-17T15:13:24.392Z"
      },
      {
        "duration": 50,
        "start_time": "2023-06-17T15:13:24.436Z"
      },
      {
        "duration": 11,
        "start_time": "2023-06-17T15:13:28.762Z"
      },
      {
        "duration": 20,
        "start_time": "2023-06-17T15:13:30.114Z"
      },
      {
        "duration": 4,
        "start_time": "2023-06-17T15:13:47.988Z"
      },
      {
        "duration": 434,
        "start_time": "2023-06-17T15:13:47.995Z"
      },
      {
        "duration": 7,
        "start_time": "2023-06-17T15:13:48.431Z"
      },
      {
        "duration": 108,
        "start_time": "2023-06-17T15:13:48.439Z"
      },
      {
        "duration": 12,
        "start_time": "2023-06-17T15:13:48.549Z"
      },
      {
        "duration": 5,
        "start_time": "2023-06-17T15:13:48.563Z"
      },
      {
        "duration": 368,
        "start_time": "2023-06-17T15:13:48.570Z"
      },
      {
        "duration": 25,
        "start_time": "2023-06-17T15:13:48.940Z"
      },
      {
        "duration": 9,
        "start_time": "2023-06-17T15:13:48.966Z"
      },
      {
        "duration": 20,
        "start_time": "2023-06-17T15:13:48.977Z"
      },
      {
        "duration": 6,
        "start_time": "2023-06-17T15:13:48.999Z"
      },
      {
        "duration": 23,
        "start_time": "2023-06-17T15:13:49.006Z"
      },
      {
        "duration": 179,
        "start_time": "2023-06-17T15:13:49.049Z"
      },
      {
        "duration": 3,
        "start_time": "2023-06-17T15:13:49.230Z"
      },
      {
        "duration": 3,
        "start_time": "2023-06-17T15:13:49.251Z"
      },
      {
        "duration": 40,
        "start_time": "2023-06-17T15:13:49.256Z"
      },
      {
        "duration": 4,
        "start_time": "2023-06-17T15:13:49.298Z"
      },
      {
        "duration": 131,
        "start_time": "2023-06-17T15:13:49.304Z"
      },
      {
        "duration": 41,
        "start_time": "2023-06-17T15:13:49.437Z"
      },
      {
        "duration": 34,
        "start_time": "2023-06-17T15:13:49.480Z"
      },
      {
        "duration": 10,
        "start_time": "2023-06-17T15:13:52.938Z"
      },
      {
        "duration": 20,
        "start_time": "2023-06-17T15:13:54.804Z"
      },
      {
        "duration": 4,
        "start_time": "2023-06-17T15:14:08.092Z"
      },
      {
        "duration": 353,
        "start_time": "2023-06-17T15:14:08.097Z"
      },
      {
        "duration": 7,
        "start_time": "2023-06-17T15:14:08.451Z"
      },
      {
        "duration": 104,
        "start_time": "2023-06-17T15:14:08.461Z"
      },
      {
        "duration": 12,
        "start_time": "2023-06-17T15:14:08.567Z"
      },
      {
        "duration": 9,
        "start_time": "2023-06-17T15:14:08.580Z"
      },
      {
        "duration": 417,
        "start_time": "2023-06-17T15:14:08.591Z"
      },
      {
        "duration": 18,
        "start_time": "2023-06-17T15:14:09.009Z"
      },
      {
        "duration": 21,
        "start_time": "2023-06-17T15:14:09.029Z"
      },
      {
        "duration": 25,
        "start_time": "2023-06-17T15:14:09.051Z"
      },
      {
        "duration": 5,
        "start_time": "2023-06-17T15:14:09.079Z"
      },
      {
        "duration": 10,
        "start_time": "2023-06-17T15:14:09.085Z"
      },
      {
        "duration": 194,
        "start_time": "2023-06-17T15:14:09.096Z"
      },
      {
        "duration": 4,
        "start_time": "2023-06-17T15:14:09.292Z"
      },
      {
        "duration": 5,
        "start_time": "2023-06-17T15:14:09.298Z"
      },
      {
        "duration": 45,
        "start_time": "2023-06-17T15:14:09.305Z"
      },
      {
        "duration": 4,
        "start_time": "2023-06-17T15:14:09.351Z"
      },
      {
        "duration": 131,
        "start_time": "2023-06-17T15:14:09.357Z"
      },
      {
        "duration": 31,
        "start_time": "2023-06-17T15:14:09.490Z"
      },
      {
        "duration": 44,
        "start_time": "2023-06-17T15:14:09.522Z"
      },
      {
        "duration": 20,
        "start_time": "2023-06-17T15:14:09.567Z"
      },
      {
        "duration": 7,
        "start_time": "2023-06-17T15:14:09.588Z"
      },
      {
        "duration": 8,
        "start_time": "2023-06-17T15:14:09.597Z"
      },
      {
        "duration": 1792,
        "start_time": "2023-06-17T15:14:09.608Z"
      },
      {
        "duration": 1904,
        "start_time": "2023-06-17T15:14:11.402Z"
      },
      {
        "duration": 1760,
        "start_time": "2023-06-17T15:14:13.307Z"
      },
      {
        "duration": 1958,
        "start_time": "2023-06-17T15:14:15.069Z"
      },
      {
        "duration": 7,
        "start_time": "2023-06-17T15:14:17.028Z"
      },
      {
        "duration": 1705,
        "start_time": "2023-06-17T15:14:17.050Z"
      },
      {
        "duration": 416,
        "start_time": "2023-06-17T15:14:18.756Z"
      },
      {
        "duration": 5,
        "start_time": "2023-06-17T15:14:19.174Z"
      },
      {
        "duration": 886,
        "start_time": "2023-06-17T15:14:19.181Z"
      },
      {
        "duration": 1017,
        "start_time": "2023-06-17T15:14:20.069Z"
      },
      {
        "duration": 3,
        "start_time": "2023-06-17T15:14:21.088Z"
      },
      {
        "duration": 19,
        "start_time": "2023-06-17T15:14:21.093Z"
      },
      {
        "duration": 3,
        "start_time": "2023-06-17T15:14:21.114Z"
      },
      {
        "duration": 8,
        "start_time": "2023-06-17T15:14:21.118Z"
      },
      {
        "duration": 23,
        "start_time": "2023-06-17T15:14:21.127Z"
      },
      {
        "duration": 17,
        "start_time": "2023-06-17T15:14:21.151Z"
      },
      {
        "duration": 15,
        "start_time": "2023-06-17T15:14:21.170Z"
      },
      {
        "duration": 13,
        "start_time": "2023-06-17T15:14:21.187Z"
      },
      {
        "duration": 3652,
        "start_time": "2023-06-17T15:14:21.201Z"
      },
      {
        "duration": 1640,
        "start_time": "2023-06-17T15:17:15.171Z"
      },
      {
        "duration": 328,
        "start_time": "2023-06-17T15:17:16.813Z"
      },
      {
        "duration": 13,
        "start_time": "2023-06-17T15:17:17.144Z"
      },
      {
        "duration": 116,
        "start_time": "2023-06-17T15:17:17.159Z"
      },
      {
        "duration": 13,
        "start_time": "2023-06-17T15:17:17.279Z"
      },
      {
        "duration": 6,
        "start_time": "2023-06-17T15:17:17.293Z"
      },
      {
        "duration": 414,
        "start_time": "2023-06-17T15:17:17.301Z"
      },
      {
        "duration": 17,
        "start_time": "2023-06-17T15:17:17.716Z"
      },
      {
        "duration": 20,
        "start_time": "2023-06-17T15:17:17.735Z"
      },
      {
        "duration": 25,
        "start_time": "2023-06-17T15:17:17.757Z"
      },
      {
        "duration": 6,
        "start_time": "2023-06-17T15:17:17.784Z"
      },
      {
        "duration": 9,
        "start_time": "2023-06-17T15:17:17.791Z"
      },
      {
        "duration": 210,
        "start_time": "2023-06-17T15:17:17.801Z"
      },
      {
        "duration": 3,
        "start_time": "2023-06-17T15:17:18.014Z"
      },
      {
        "duration": 17,
        "start_time": "2023-06-17T15:17:18.018Z"
      },
      {
        "duration": 167,
        "start_time": "2023-06-17T15:17:18.037Z"
      },
      {
        "duration": 0,
        "start_time": "2023-06-17T15:17:18.206Z"
      },
      {
        "duration": 0,
        "start_time": "2023-06-17T15:17:18.208Z"
      },
      {
        "duration": 0,
        "start_time": "2023-06-17T15:17:18.209Z"
      },
      {
        "duration": 0,
        "start_time": "2023-06-17T15:17:18.211Z"
      },
      {
        "duration": 0,
        "start_time": "2023-06-17T15:17:18.213Z"
      },
      {
        "duration": 0,
        "start_time": "2023-06-17T15:17:18.214Z"
      },
      {
        "duration": 0,
        "start_time": "2023-06-17T15:17:18.216Z"
      },
      {
        "duration": 0,
        "start_time": "2023-06-17T15:17:18.218Z"
      },
      {
        "duration": 0,
        "start_time": "2023-06-17T15:17:18.219Z"
      },
      {
        "duration": 0,
        "start_time": "2023-06-17T15:17:18.221Z"
      },
      {
        "duration": 0,
        "start_time": "2023-06-17T15:17:18.222Z"
      },
      {
        "duration": 0,
        "start_time": "2023-06-17T15:17:18.250Z"
      },
      {
        "duration": 1,
        "start_time": "2023-06-17T15:17:18.251Z"
      },
      {
        "duration": 0,
        "start_time": "2023-06-17T15:17:18.253Z"
      },
      {
        "duration": 0,
        "start_time": "2023-06-17T15:17:18.254Z"
      },
      {
        "duration": 0,
        "start_time": "2023-06-17T15:17:18.255Z"
      },
      {
        "duration": 0,
        "start_time": "2023-06-17T15:17:18.257Z"
      },
      {
        "duration": 0,
        "start_time": "2023-06-17T15:17:18.258Z"
      },
      {
        "duration": 0,
        "start_time": "2023-06-17T15:17:18.259Z"
      },
      {
        "duration": 0,
        "start_time": "2023-06-17T15:17:18.260Z"
      },
      {
        "duration": 0,
        "start_time": "2023-06-17T15:17:18.261Z"
      },
      {
        "duration": 0,
        "start_time": "2023-06-17T15:17:18.263Z"
      },
      {
        "duration": 0,
        "start_time": "2023-06-17T15:17:18.264Z"
      },
      {
        "duration": 0,
        "start_time": "2023-06-17T15:17:18.266Z"
      },
      {
        "duration": 0,
        "start_time": "2023-06-17T15:17:18.267Z"
      },
      {
        "duration": 0,
        "start_time": "2023-06-17T15:17:18.268Z"
      },
      {
        "duration": 0,
        "start_time": "2023-06-17T15:17:18.270Z"
      },
      {
        "duration": 0,
        "start_time": "2023-06-17T15:17:18.271Z"
      },
      {
        "duration": 0,
        "start_time": "2023-06-17T15:17:18.272Z"
      },
      {
        "duration": 3,
        "start_time": "2023-06-17T15:17:59.701Z"
      },
      {
        "duration": 323,
        "start_time": "2023-06-17T15:17:59.706Z"
      },
      {
        "duration": 6,
        "start_time": "2023-06-17T15:18:00.031Z"
      },
      {
        "duration": 120,
        "start_time": "2023-06-17T15:18:00.039Z"
      },
      {
        "duration": 13,
        "start_time": "2023-06-17T15:18:00.160Z"
      },
      {
        "duration": 20,
        "start_time": "2023-06-17T15:18:00.174Z"
      },
      {
        "duration": 415,
        "start_time": "2023-06-17T15:18:00.196Z"
      },
      {
        "duration": 18,
        "start_time": "2023-06-17T15:18:00.613Z"
      },
      {
        "duration": 24,
        "start_time": "2023-06-17T15:18:00.634Z"
      },
      {
        "duration": 56,
        "start_time": "2023-06-17T15:18:00.660Z"
      },
      {
        "duration": 41,
        "start_time": "2023-06-17T15:18:00.718Z"
      },
      {
        "duration": 39,
        "start_time": "2023-06-17T15:18:00.761Z"
      },
      {
        "duration": 205,
        "start_time": "2023-06-17T15:18:00.802Z"
      },
      {
        "duration": 5,
        "start_time": "2023-06-17T15:18:01.008Z"
      },
      {
        "duration": 42,
        "start_time": "2023-06-17T15:18:01.014Z"
      },
      {
        "duration": 3,
        "start_time": "2023-06-17T15:18:01.778Z"
      },
      {
        "duration": 31,
        "start_time": "2023-06-17T15:18:02.183Z"
      },
      {
        "duration": 29,
        "start_time": "2023-06-17T15:18:10.881Z"
      },
      {
        "duration": 23,
        "start_time": "2023-06-17T15:18:31.641Z"
      },
      {
        "duration": 22,
        "start_time": "2023-06-17T15:18:46.480Z"
      },
      {
        "duration": 119,
        "start_time": "2023-06-17T15:19:05.638Z"
      },
      {
        "duration": 29,
        "start_time": "2023-06-17T15:19:06.481Z"
      },
      {
        "duration": 33,
        "start_time": "2023-06-17T15:19:09.371Z"
      },
      {
        "duration": 122,
        "start_time": "2023-06-17T15:20:12.687Z"
      },
      {
        "duration": 19,
        "start_time": "2023-06-17T15:20:40.370Z"
      },
      {
        "duration": 115,
        "start_time": "2023-06-17T15:20:53.173Z"
      },
      {
        "duration": 21,
        "start_time": "2023-06-17T15:20:53.874Z"
      },
      {
        "duration": 15,
        "start_time": "2023-06-17T15:23:05.007Z"
      },
      {
        "duration": 12,
        "start_time": "2023-06-17T15:23:07.121Z"
      },
      {
        "duration": 4,
        "start_time": "2023-06-17T15:23:17.171Z"
      },
      {
        "duration": 320,
        "start_time": "2023-06-17T15:23:17.178Z"
      },
      {
        "duration": 7,
        "start_time": "2023-06-17T15:23:17.499Z"
      },
      {
        "duration": 100,
        "start_time": "2023-06-17T15:23:17.507Z"
      },
      {
        "duration": 16,
        "start_time": "2023-06-17T15:23:17.609Z"
      },
      {
        "duration": 5,
        "start_time": "2023-06-17T15:23:17.627Z"
      },
      {
        "duration": 405,
        "start_time": "2023-06-17T15:23:17.656Z"
      },
      {
        "duration": 16,
        "start_time": "2023-06-17T15:23:18.068Z"
      },
      {
        "duration": 9,
        "start_time": "2023-06-17T15:23:18.086Z"
      },
      {
        "duration": 19,
        "start_time": "2023-06-17T15:23:18.096Z"
      },
      {
        "duration": 5,
        "start_time": "2023-06-17T15:23:18.117Z"
      },
      {
        "duration": 34,
        "start_time": "2023-06-17T15:23:18.124Z"
      },
      {
        "duration": 205,
        "start_time": "2023-06-17T15:23:18.161Z"
      },
      {
        "duration": 8,
        "start_time": "2023-06-17T15:23:18.369Z"
      },
      {
        "duration": 14,
        "start_time": "2023-06-17T15:23:18.378Z"
      },
      {
        "duration": 18,
        "start_time": "2023-06-17T15:23:18.393Z"
      },
      {
        "duration": 3,
        "start_time": "2023-06-17T15:23:18.412Z"
      },
      {
        "duration": 147,
        "start_time": "2023-06-17T15:23:18.416Z"
      },
      {
        "duration": 33,
        "start_time": "2023-06-17T15:23:18.566Z"
      },
      {
        "duration": 61,
        "start_time": "2023-06-17T15:23:18.601Z"
      },
      {
        "duration": 22,
        "start_time": "2023-06-17T15:23:18.664Z"
      },
      {
        "duration": 20,
        "start_time": "2023-06-17T15:25:10.469Z"
      },
      {
        "duration": 4,
        "start_time": "2023-06-17T15:28:58.986Z"
      },
      {
        "duration": 308,
        "start_time": "2023-06-17T15:28:58.992Z"
      },
      {
        "duration": 6,
        "start_time": "2023-06-17T15:28:59.302Z"
      },
      {
        "duration": 101,
        "start_time": "2023-06-17T15:28:59.310Z"
      },
      {
        "duration": 13,
        "start_time": "2023-06-17T15:28:59.413Z"
      },
      {
        "duration": 5,
        "start_time": "2023-06-17T15:28:59.428Z"
      },
      {
        "duration": 389,
        "start_time": "2023-06-17T15:28:59.450Z"
      },
      {
        "duration": 23,
        "start_time": "2023-06-17T15:28:59.841Z"
      },
      {
        "duration": 8,
        "start_time": "2023-06-17T15:28:59.866Z"
      },
      {
        "duration": 21,
        "start_time": "2023-06-17T15:28:59.876Z"
      },
      {
        "duration": 5,
        "start_time": "2023-06-17T15:28:59.899Z"
      },
      {
        "duration": 21,
        "start_time": "2023-06-17T15:28:59.905Z"
      },
      {
        "duration": 199,
        "start_time": "2023-06-17T15:28:59.927Z"
      },
      {
        "duration": 2,
        "start_time": "2023-06-17T15:29:00.128Z"
      },
      {
        "duration": 39,
        "start_time": "2023-06-17T15:29:00.132Z"
      },
      {
        "duration": 29,
        "start_time": "2023-06-17T15:29:00.172Z"
      },
      {
        "duration": 160,
        "start_time": "2023-06-17T15:29:00.203Z"
      },
      {
        "duration": 131,
        "start_time": "2023-06-17T15:29:00.365Z"
      },
      {
        "duration": 32,
        "start_time": "2023-06-17T15:29:00.498Z"
      },
      {
        "duration": 33,
        "start_time": "2023-06-17T15:29:00.532Z"
      },
      {
        "duration": 4,
        "start_time": "2023-06-17T15:29:03.168Z"
      },
      {
        "duration": 338,
        "start_time": "2023-06-17T15:29:03.174Z"
      },
      {
        "duration": 8,
        "start_time": "2023-06-17T15:29:03.514Z"
      },
      {
        "duration": 101,
        "start_time": "2023-06-17T15:29:03.524Z"
      },
      {
        "duration": 13,
        "start_time": "2023-06-17T15:29:03.627Z"
      },
      {
        "duration": 24,
        "start_time": "2023-06-17T15:29:03.641Z"
      },
      {
        "duration": 407,
        "start_time": "2023-06-17T15:29:03.666Z"
      },
      {
        "duration": 24,
        "start_time": "2023-06-17T15:29:04.075Z"
      },
      {
        "duration": 11,
        "start_time": "2023-06-17T15:29:04.101Z"
      },
      {
        "duration": 56,
        "start_time": "2023-06-17T15:29:04.114Z"
      },
      {
        "duration": 6,
        "start_time": "2023-06-17T15:29:04.174Z"
      },
      {
        "duration": 16,
        "start_time": "2023-06-17T15:29:04.182Z"
      },
      {
        "duration": 232,
        "start_time": "2023-06-17T15:29:04.200Z"
      },
      {
        "duration": 4,
        "start_time": "2023-06-17T15:29:04.434Z"
      },
      {
        "duration": 19,
        "start_time": "2023-06-17T15:29:04.452Z"
      },
      {
        "duration": 3,
        "start_time": "2023-06-17T15:29:04.473Z"
      },
      {
        "duration": 145,
        "start_time": "2023-06-17T15:29:04.478Z"
      },
      {
        "duration": 55,
        "start_time": "2023-06-17T15:29:04.625Z"
      },
      {
        "duration": 42,
        "start_time": "2023-06-17T15:29:04.682Z"
      },
      {
        "duration": 41,
        "start_time": "2023-06-17T15:29:04.726Z"
      },
      {
        "duration": 8,
        "start_time": "2023-06-17T15:29:04.769Z"
      },
      {
        "duration": 6,
        "start_time": "2023-06-17T15:29:04.779Z"
      },
      {
        "duration": 1848,
        "start_time": "2023-06-17T15:29:04.787Z"
      },
      {
        "duration": 1985,
        "start_time": "2023-06-17T15:29:06.636Z"
      },
      {
        "duration": 1814,
        "start_time": "2023-06-17T15:29:08.623Z"
      },
      {
        "duration": 2048,
        "start_time": "2023-06-17T15:29:10.439Z"
      },
      {
        "duration": 7,
        "start_time": "2023-06-17T15:29:12.489Z"
      },
      {
        "duration": 1970,
        "start_time": "2023-06-17T15:29:12.498Z"
      },
      {
        "duration": 309,
        "start_time": "2023-06-17T15:29:14.471Z"
      },
      {
        "duration": 4,
        "start_time": "2023-06-17T15:29:14.782Z"
      },
      {
        "duration": 999,
        "start_time": "2023-06-17T15:29:14.788Z"
      },
      {
        "duration": 1120,
        "start_time": "2023-06-17T15:29:15.789Z"
      },
      {
        "duration": 3,
        "start_time": "2023-06-17T15:29:16.911Z"
      },
      {
        "duration": 24,
        "start_time": "2023-06-17T15:29:16.916Z"
      },
      {
        "duration": 9,
        "start_time": "2023-06-17T15:29:16.941Z"
      },
      {
        "duration": 11,
        "start_time": "2023-06-17T15:29:16.951Z"
      },
      {
        "duration": 4,
        "start_time": "2023-06-17T15:29:16.965Z"
      },
      {
        "duration": 4,
        "start_time": "2023-06-17T15:29:16.971Z"
      },
      {
        "duration": 14,
        "start_time": "2023-06-17T15:29:16.977Z"
      },
      {
        "duration": 19,
        "start_time": "2023-06-17T15:29:16.993Z"
      },
      {
        "duration": 5049,
        "start_time": "2023-06-17T15:29:17.014Z"
      },
      {
        "duration": 234202,
        "start_time": "2023-06-17T15:29:22.065Z"
      },
      {
        "duration": 0,
        "start_time": "2023-06-17T15:33:16.268Z"
      },
      {
        "duration": 0,
        "start_time": "2023-06-17T15:33:16.270Z"
      },
      {
        "duration": 0,
        "start_time": "2023-06-17T15:33:16.271Z"
      },
      {
        "duration": 96516,
        "start_time": "2023-06-17T15:33:18.748Z"
      },
      {
        "duration": 4,
        "start_time": "2023-06-17T15:38:09.942Z"
      },
      {
        "duration": 4,
        "start_time": "2023-06-17T15:38:12.831Z"
      },
      {
        "duration": 4,
        "start_time": "2023-06-17T15:38:42.783Z"
      },
      {
        "duration": 3,
        "start_time": "2023-06-17T15:38:58.405Z"
      },
      {
        "duration": 3,
        "start_time": "2023-06-17T15:38:59.212Z"
      },
      {
        "duration": 5,
        "start_time": "2023-06-17T15:38:59.529Z"
      },
      {
        "duration": 4,
        "start_time": "2023-06-17T15:39:19.542Z"
      },
      {
        "duration": 5,
        "start_time": "2023-06-17T15:40:09.295Z"
      },
      {
        "duration": 4,
        "start_time": "2023-06-17T15:40:11.842Z"
      },
      {
        "duration": 4,
        "start_time": "2023-06-17T15:40:12.102Z"
      },
      {
        "duration": 5,
        "start_time": "2023-06-17T15:40:12.327Z"
      },
      {
        "duration": 5,
        "start_time": "2023-06-17T15:40:19.544Z"
      },
      {
        "duration": 8,
        "start_time": "2023-06-17T15:40:21.566Z"
      },
      {
        "duration": 3,
        "start_time": "2023-06-17T15:40:31.823Z"
      },
      {
        "duration": 6,
        "start_time": "2023-06-17T15:40:32.351Z"
      },
      {
        "duration": 3,
        "start_time": "2023-06-17T15:40:44.103Z"
      },
      {
        "duration": 8,
        "start_time": "2023-06-17T15:40:45.902Z"
      },
      {
        "duration": 7,
        "start_time": "2023-06-17T15:40:50.365Z"
      },
      {
        "duration": 106,
        "start_time": "2023-06-17T15:41:04.662Z"
      },
      {
        "duration": 9,
        "start_time": "2023-06-17T15:41:09.446Z"
      },
      {
        "duration": 3,
        "start_time": "2023-06-17T15:41:10.909Z"
      },
      {
        "duration": 7,
        "start_time": "2023-06-17T15:41:12.533Z"
      },
      {
        "duration": 4,
        "start_time": "2023-06-17T15:41:31.149Z"
      },
      {
        "duration": 8,
        "start_time": "2023-06-17T15:41:32.195Z"
      },
      {
        "duration": 3,
        "start_time": "2023-06-17T15:41:33.513Z"
      },
      {
        "duration": 7,
        "start_time": "2023-06-17T15:41:36.201Z"
      },
      {
        "duration": 3,
        "start_time": "2023-06-17T15:44:08.231Z"
      },
      {
        "duration": 5,
        "start_time": "2023-06-17T15:44:10.780Z"
      },
      {
        "duration": 4,
        "start_time": "2023-06-17T15:44:30.756Z"
      },
      {
        "duration": 5,
        "start_time": "2023-06-17T15:44:33.390Z"
      },
      {
        "duration": 4260,
        "start_time": "2023-06-17T15:44:39.290Z"
      },
      {
        "duration": 66,
        "start_time": "2023-06-17T15:45:15.343Z"
      },
      {
        "duration": 5509,
        "start_time": "2023-06-17T15:45:26.449Z"
      },
      {
        "duration": 4271,
        "start_time": "2023-06-17T15:46:42.086Z"
      },
      {
        "duration": 4056,
        "start_time": "2023-06-17T15:51:33.300Z"
      },
      {
        "duration": 3,
        "start_time": "2023-06-17T15:53:39.362Z"
      },
      {
        "duration": 6,
        "start_time": "2023-06-17T15:53:41.773Z"
      },
      {
        "duration": 4,
        "start_time": "2023-06-17T15:54:02.945Z"
      },
      {
        "duration": 6,
        "start_time": "2023-06-17T15:54:05.760Z"
      },
      {
        "duration": 4436,
        "start_time": "2023-06-17T15:54:22.417Z"
      },
      {
        "duration": 11,
        "start_time": "2023-06-17T15:55:16.025Z"
      },
      {
        "duration": 12,
        "start_time": "2023-06-17T15:55:33.942Z"
      },
      {
        "duration": 11,
        "start_time": "2023-06-17T16:00:17.036Z"
      },
      {
        "duration": 34,
        "start_time": "2023-06-17T16:00:29.556Z"
      },
      {
        "duration": 25,
        "start_time": "2023-06-17T16:01:00.894Z"
      },
      {
        "duration": 49,
        "start_time": "2023-06-17T16:02:18.592Z"
      },
      {
        "duration": 2793,
        "start_time": "2023-06-17T16:02:25.560Z"
      },
      {
        "duration": 6,
        "start_time": "2023-06-17T16:06:04.999Z"
      },
      {
        "duration": 6,
        "start_time": "2023-06-17T16:06:07.399Z"
      },
      {
        "duration": 2978,
        "start_time": "2023-06-17T16:06:11.173Z"
      },
      {
        "duration": 3,
        "start_time": "2023-06-17T16:06:44.579Z"
      },
      {
        "duration": 3282,
        "start_time": "2023-06-17T16:06:44.870Z"
      },
      {
        "duration": 4,
        "start_time": "2023-06-17T16:07:00.846Z"
      },
      {
        "duration": 8,
        "start_time": "2023-06-17T16:07:03.208Z"
      },
      {
        "duration": 2861,
        "start_time": "2023-06-17T16:07:19.895Z"
      },
      {
        "duration": 357,
        "start_time": "2023-06-17T16:07:54.692Z"
      },
      {
        "duration": 6,
        "start_time": "2023-06-17T16:08:07.092Z"
      },
      {
        "duration": 4311,
        "start_time": "2023-06-17T16:08:30.741Z"
      },
      {
        "duration": 69,
        "start_time": "2023-06-17T17:29:29.427Z"
      },
      {
        "duration": 310,
        "start_time": "2023-06-17T17:32:49.464Z"
      },
      {
        "duration": 294,
        "start_time": "2023-06-17T17:33:26.811Z"
      },
      {
        "duration": 279,
        "start_time": "2023-06-17T17:33:31.065Z"
      },
      {
        "duration": 486,
        "start_time": "2023-06-17T17:34:39.038Z"
      },
      {
        "duration": 340,
        "start_time": "2023-06-17T17:35:12.390Z"
      },
      {
        "duration": 297,
        "start_time": "2023-06-17T17:35:27.565Z"
      },
      {
        "duration": 331,
        "start_time": "2023-06-17T17:35:43.400Z"
      },
      {
        "duration": 423,
        "start_time": "2023-06-17T17:36:52.504Z"
      },
      {
        "duration": 466,
        "start_time": "2023-06-17T17:37:00.400Z"
      },
      {
        "duration": 445,
        "start_time": "2023-06-17T17:37:10.526Z"
      },
      {
        "duration": 331,
        "start_time": "2023-06-17T17:37:33.055Z"
      },
      {
        "duration": 352,
        "start_time": "2023-06-17T17:37:36.427Z"
      },
      {
        "duration": 364,
        "start_time": "2023-06-17T17:37:41.155Z"
      },
      {
        "duration": 394,
        "start_time": "2023-06-17T17:37:45.140Z"
      },
      {
        "duration": 476,
        "start_time": "2023-06-17T17:38:45.967Z"
      },
      {
        "duration": 410,
        "start_time": "2023-06-17T17:39:12.410Z"
      },
      {
        "duration": 447,
        "start_time": "2023-06-17T17:39:15.893Z"
      },
      {
        "duration": 302,
        "start_time": "2023-06-17T17:41:55.413Z"
      },
      {
        "duration": 201,
        "start_time": "2023-06-17T17:42:03.701Z"
      },
      {
        "duration": 217,
        "start_time": "2023-06-17T17:44:35.093Z"
      },
      {
        "duration": 237,
        "start_time": "2023-06-17T17:44:54.518Z"
      },
      {
        "duration": 124,
        "start_time": "2023-06-17T17:45:17.499Z"
      },
      {
        "duration": 173,
        "start_time": "2023-06-17T17:45:34.333Z"
      },
      {
        "duration": 126,
        "start_time": "2023-06-17T17:45:36.954Z"
      },
      {
        "duration": 120,
        "start_time": "2023-06-17T17:46:59.016Z"
      },
      {
        "duration": 125,
        "start_time": "2023-06-17T17:47:07.371Z"
      },
      {
        "duration": 131,
        "start_time": "2023-06-17T17:47:29.657Z"
      },
      {
        "duration": 144,
        "start_time": "2023-06-17T17:47:38.471Z"
      },
      {
        "duration": 134,
        "start_time": "2023-06-17T17:47:52.171Z"
      },
      {
        "duration": 149,
        "start_time": "2023-06-17T17:47:58.021Z"
      },
      {
        "duration": 140,
        "start_time": "2023-06-17T17:48:01.782Z"
      },
      {
        "duration": 108,
        "start_time": "2023-06-17T17:48:20.031Z"
      },
      {
        "duration": 126,
        "start_time": "2023-06-17T17:48:24.965Z"
      },
      {
        "duration": 146,
        "start_time": "2023-06-17T17:48:49.298Z"
      },
      {
        "duration": 160,
        "start_time": "2023-06-17T17:48:57.186Z"
      },
      {
        "duration": 180,
        "start_time": "2023-06-17T17:49:16.790Z"
      },
      {
        "duration": 140,
        "start_time": "2023-06-17T17:49:28.937Z"
      },
      {
        "duration": 296,
        "start_time": "2023-06-17T17:50:15.444Z"
      },
      {
        "duration": 173,
        "start_time": "2023-06-17T17:53:20.888Z"
      },
      {
        "duration": 136,
        "start_time": "2023-06-17T17:54:33.075Z"
      },
      {
        "duration": 195,
        "start_time": "2023-06-17T17:54:44.529Z"
      },
      {
        "duration": 193,
        "start_time": "2023-06-17T17:54:50.916Z"
      },
      {
        "duration": 146,
        "start_time": "2023-06-17T17:55:02.515Z"
      },
      {
        "duration": 142,
        "start_time": "2023-06-17T17:56:07.130Z"
      },
      {
        "duration": 180,
        "start_time": "2023-06-17T17:56:24.198Z"
      },
      {
        "duration": 149,
        "start_time": "2023-06-17T17:56:29.065Z"
      },
      {
        "duration": 148,
        "start_time": "2023-06-17T17:57:30.573Z"
      },
      {
        "duration": 12,
        "start_time": "2023-06-17T17:58:54.708Z"
      },
      {
        "duration": 9729,
        "start_time": "2023-06-17T17:59:12.341Z"
      },
      {
        "duration": 4580,
        "start_time": "2023-06-17T18:03:58.380Z"
      },
      {
        "duration": 16,
        "start_time": "2023-06-17T18:05:22.587Z"
      },
      {
        "duration": 11249,
        "start_time": "2023-06-17T18:05:24.832Z"
      },
      {
        "duration": 1686,
        "start_time": "2023-06-18T07:02:07.862Z"
      },
      {
        "duration": 1301,
        "start_time": "2023-06-18T07:02:09.550Z"
      },
      {
        "duration": 9,
        "start_time": "2023-06-18T07:02:10.853Z"
      },
      {
        "duration": 405,
        "start_time": "2023-06-18T07:02:10.864Z"
      },
      {
        "duration": 12,
        "start_time": "2023-06-18T07:02:11.271Z"
      },
      {
        "duration": 5,
        "start_time": "2023-06-18T07:02:11.285Z"
      },
      {
        "duration": 1668,
        "start_time": "2023-06-18T07:02:11.292Z"
      },
      {
        "duration": 18,
        "start_time": "2023-06-18T07:02:12.962Z"
      },
      {
        "duration": 9,
        "start_time": "2023-06-18T07:02:12.981Z"
      },
      {
        "duration": 36,
        "start_time": "2023-06-18T07:02:12.992Z"
      },
      {
        "duration": 5,
        "start_time": "2023-06-18T07:02:13.030Z"
      },
      {
        "duration": 40,
        "start_time": "2023-06-18T07:02:13.050Z"
      },
      {
        "duration": 174,
        "start_time": "2023-06-18T07:02:13.092Z"
      },
      {
        "duration": 3,
        "start_time": "2023-06-18T07:02:13.269Z"
      },
      {
        "duration": 23,
        "start_time": "2023-06-18T07:02:13.273Z"
      },
      {
        "duration": 2,
        "start_time": "2023-06-18T07:02:13.298Z"
      },
      {
        "duration": 136,
        "start_time": "2023-06-18T07:02:13.302Z"
      },
      {
        "duration": 40,
        "start_time": "2023-06-18T07:02:13.440Z"
      },
      {
        "duration": 34,
        "start_time": "2023-06-18T07:02:13.482Z"
      },
      {
        "duration": 34,
        "start_time": "2023-06-18T07:02:13.517Z"
      },
      {
        "duration": 6,
        "start_time": "2023-06-18T07:02:13.553Z"
      },
      {
        "duration": 8,
        "start_time": "2023-06-18T07:02:13.562Z"
      },
      {
        "duration": 2002,
        "start_time": "2023-06-18T07:02:13.572Z"
      },
      {
        "duration": 1848,
        "start_time": "2023-06-18T07:02:15.576Z"
      },
      {
        "duration": 1738,
        "start_time": "2023-06-18T07:02:17.426Z"
      },
      {
        "duration": 1985,
        "start_time": "2023-06-18T07:02:19.166Z"
      },
      {
        "duration": 141,
        "start_time": "2023-06-18T07:02:21.153Z"
      },
      {
        "duration": 4,
        "start_time": "2023-06-18T07:02:21.296Z"
      },
      {
        "duration": 977,
        "start_time": "2023-06-18T07:02:21.302Z"
      },
      {
        "duration": 1060,
        "start_time": "2023-06-18T07:02:22.282Z"
      },
      {
        "duration": 7,
        "start_time": "2023-06-18T07:02:23.343Z"
      },
      {
        "duration": 40,
        "start_time": "2023-06-18T07:02:23.351Z"
      },
      {
        "duration": 2,
        "start_time": "2023-06-18T07:02:23.393Z"
      },
      {
        "duration": 9,
        "start_time": "2023-06-18T07:02:23.397Z"
      },
      {
        "duration": 6,
        "start_time": "2023-06-18T07:02:23.408Z"
      },
      {
        "duration": 23,
        "start_time": "2023-06-18T07:02:23.416Z"
      },
      {
        "duration": 136,
        "start_time": "2023-06-18T07:02:23.441Z"
      },
      {
        "duration": 0,
        "start_time": "2023-06-18T07:02:23.579Z"
      },
      {
        "duration": 0,
        "start_time": "2023-06-18T07:02:23.580Z"
      },
      {
        "duration": 0,
        "start_time": "2023-06-18T07:02:23.581Z"
      },
      {
        "duration": 9,
        "start_time": "2023-06-18T07:30:16.099Z"
      },
      {
        "duration": 3,
        "start_time": "2023-06-18T07:30:16.799Z"
      },
      {
        "duration": 3745,
        "start_time": "2023-06-18T07:30:17.106Z"
      },
      {
        "duration": 3,
        "start_time": "2023-06-18T07:35:41.853Z"
      },
      {
        "duration": 4205,
        "start_time": "2023-06-18T07:35:49.449Z"
      },
      {
        "duration": 4,
        "start_time": "2023-06-18T07:36:46.725Z"
      },
      {
        "duration": 4467,
        "start_time": "2023-06-18T07:37:07.998Z"
      },
      {
        "duration": 5,
        "start_time": "2023-06-18T07:38:32.373Z"
      },
      {
        "duration": 2,
        "start_time": "2023-06-18T07:39:00.339Z"
      },
      {
        "duration": 4770,
        "start_time": "2023-06-18T07:39:00.691Z"
      },
      {
        "duration": 4,
        "start_time": "2023-06-18T07:39:46.492Z"
      },
      {
        "duration": 4,
        "start_time": "2023-06-18T07:39:54.114Z"
      },
      {
        "duration": 3853,
        "start_time": "2023-06-18T07:39:54.410Z"
      },
      {
        "duration": 5,
        "start_time": "2023-06-18T07:39:59.269Z"
      },
      {
        "duration": 4,
        "start_time": "2023-06-18T07:39:59.466Z"
      },
      {
        "duration": 4,
        "start_time": "2023-06-18T07:40:41.471Z"
      },
      {
        "duration": 11,
        "start_time": "2023-06-18T07:48:48.576Z"
      },
      {
        "duration": 3,
        "start_time": "2023-06-18T08:37:09.554Z"
      },
      {
        "duration": 4,
        "start_time": "2023-06-18T08:37:17.808Z"
      },
      {
        "duration": 354,
        "start_time": "2023-06-18T08:37:17.817Z"
      },
      {
        "duration": 7,
        "start_time": "2023-06-18T08:37:18.174Z"
      },
      {
        "duration": 123,
        "start_time": "2023-06-18T08:37:18.183Z"
      },
      {
        "duration": 15,
        "start_time": "2023-06-18T08:37:18.308Z"
      },
      {
        "duration": 5,
        "start_time": "2023-06-18T08:37:18.325Z"
      },
      {
        "duration": 398,
        "start_time": "2023-06-18T08:37:18.332Z"
      },
      {
        "duration": 32,
        "start_time": "2023-06-18T08:37:18.732Z"
      },
      {
        "duration": 10,
        "start_time": "2023-06-18T08:37:18.766Z"
      },
      {
        "duration": 32,
        "start_time": "2023-06-18T08:37:18.778Z"
      },
      {
        "duration": 6,
        "start_time": "2023-06-18T08:37:18.813Z"
      },
      {
        "duration": 7,
        "start_time": "2023-06-18T08:37:18.821Z"
      },
      {
        "duration": 228,
        "start_time": "2023-06-18T08:37:18.829Z"
      },
      {
        "duration": 3,
        "start_time": "2023-06-18T08:37:19.059Z"
      },
      {
        "duration": 21,
        "start_time": "2023-06-18T08:37:19.064Z"
      },
      {
        "duration": 3,
        "start_time": "2023-06-18T08:37:19.086Z"
      },
      {
        "duration": 154,
        "start_time": "2023-06-18T08:37:19.090Z"
      },
      {
        "duration": 53,
        "start_time": "2023-06-18T08:37:19.245Z"
      },
      {
        "duration": 51,
        "start_time": "2023-06-18T08:37:19.300Z"
      },
      {
        "duration": 21,
        "start_time": "2023-06-18T08:37:19.353Z"
      },
      {
        "duration": 7,
        "start_time": "2023-06-18T08:37:19.376Z"
      },
      {
        "duration": 10,
        "start_time": "2023-06-18T08:37:19.384Z"
      },
      {
        "duration": 2075,
        "start_time": "2023-06-18T08:37:19.395Z"
      },
      {
        "duration": 1925,
        "start_time": "2023-06-18T08:37:21.472Z"
      },
      {
        "duration": 2185,
        "start_time": "2023-06-18T08:37:23.399Z"
      },
      {
        "duration": 2243,
        "start_time": "2023-06-18T08:37:25.586Z"
      },
      {
        "duration": 157,
        "start_time": "2023-06-18T08:37:27.831Z"
      },
      {
        "duration": 5,
        "start_time": "2023-06-18T08:37:27.990Z"
      },
      {
        "duration": 1005,
        "start_time": "2023-06-18T08:37:27.999Z"
      },
      {
        "duration": 1145,
        "start_time": "2023-06-18T08:37:29.006Z"
      },
      {
        "duration": 4,
        "start_time": "2023-06-18T08:37:30.154Z"
      },
      {
        "duration": 60,
        "start_time": "2023-06-18T08:37:30.160Z"
      },
      {
        "duration": 27,
        "start_time": "2023-06-18T08:37:30.222Z"
      },
      {
        "duration": 25,
        "start_time": "2023-06-18T08:37:30.251Z"
      },
      {
        "duration": 34,
        "start_time": "2023-06-18T08:37:30.278Z"
      },
      {
        "duration": 14,
        "start_time": "2023-06-18T08:37:30.314Z"
      },
      {
        "duration": 25,
        "start_time": "2023-06-18T08:37:30.331Z"
      },
      {
        "duration": 22,
        "start_time": "2023-06-18T08:37:30.358Z"
      },
      {
        "duration": 5568,
        "start_time": "2023-06-18T08:37:30.382Z"
      },
      {
        "duration": 5,
        "start_time": "2023-06-18T08:37:35.953Z"
      },
      {
        "duration": 138,
        "start_time": "2023-06-18T08:37:35.960Z"
      },
      {
        "duration": 36,
        "start_time": "2023-06-18T08:38:06.485Z"
      },
      {
        "duration": 31,
        "start_time": "2023-06-18T08:38:50.273Z"
      },
      {
        "duration": 4,
        "start_time": "2023-06-18T08:38:55.438Z"
      },
      {
        "duration": 344,
        "start_time": "2023-06-18T08:38:55.444Z"
      },
      {
        "duration": 34,
        "start_time": "2023-06-18T08:38:55.791Z"
      },
      {
        "duration": 10,
        "start_time": "2023-06-18T08:38:55.827Z"
      },
      {
        "duration": 100,
        "start_time": "2023-06-18T08:38:55.849Z"
      },
      {
        "duration": 16,
        "start_time": "2023-06-18T08:38:55.951Z"
      },
      {
        "duration": 7,
        "start_time": "2023-06-18T08:38:55.969Z"
      },
      {
        "duration": 432,
        "start_time": "2023-06-18T08:38:55.979Z"
      },
      {
        "duration": 23,
        "start_time": "2023-06-18T08:38:56.413Z"
      },
      {
        "duration": 30,
        "start_time": "2023-06-18T08:38:56.437Z"
      },
      {
        "duration": 25,
        "start_time": "2023-06-18T08:38:56.470Z"
      },
      {
        "duration": 6,
        "start_time": "2023-06-18T08:38:56.497Z"
      },
      {
        "duration": 12,
        "start_time": "2023-06-18T08:38:56.505Z"
      },
      {
        "duration": 257,
        "start_time": "2023-06-18T08:38:56.519Z"
      },
      {
        "duration": 4,
        "start_time": "2023-06-18T08:38:56.778Z"
      },
      {
        "duration": 24,
        "start_time": "2023-06-18T08:38:56.784Z"
      },
      {
        "duration": 3,
        "start_time": "2023-06-18T08:38:56.811Z"
      },
      {
        "duration": 169,
        "start_time": "2023-06-18T08:38:56.816Z"
      },
      {
        "duration": 46,
        "start_time": "2023-06-18T08:38:56.987Z"
      },
      {
        "duration": 65,
        "start_time": "2023-06-18T08:38:57.035Z"
      },
      {
        "duration": 21,
        "start_time": "2023-06-18T08:38:57.102Z"
      },
      {
        "duration": 7,
        "start_time": "2023-06-18T08:38:57.125Z"
      },
      {
        "duration": 11,
        "start_time": "2023-06-18T08:38:57.151Z"
      },
      {
        "duration": 2091,
        "start_time": "2023-06-18T08:38:57.164Z"
      },
      {
        "duration": 2303,
        "start_time": "2023-06-18T08:38:59.257Z"
      },
      {
        "duration": 2255,
        "start_time": "2023-06-18T08:39:01.563Z"
      },
      {
        "duration": 2137,
        "start_time": "2023-06-18T08:39:03.820Z"
      },
      {
        "duration": 149,
        "start_time": "2023-06-18T08:39:05.959Z"
      },
      {
        "duration": 4,
        "start_time": "2023-06-18T08:39:06.111Z"
      },
      {
        "duration": 1165,
        "start_time": "2023-06-18T08:39:06.117Z"
      },
      {
        "duration": 1071,
        "start_time": "2023-06-18T08:39:07.284Z"
      },
      {
        "duration": 5,
        "start_time": "2023-06-18T08:39:08.357Z"
      },
      {
        "duration": 23,
        "start_time": "2023-06-18T08:39:08.365Z"
      },
      {
        "duration": 3,
        "start_time": "2023-06-18T08:39:08.390Z"
      },
      {
        "duration": 5,
        "start_time": "2023-06-18T08:39:08.395Z"
      },
      {
        "duration": 8,
        "start_time": "2023-06-18T08:39:08.402Z"
      },
      {
        "duration": 16,
        "start_time": "2023-06-18T08:39:08.412Z"
      },
      {
        "duration": 47,
        "start_time": "2023-06-18T08:39:08.450Z"
      },
      {
        "duration": 6,
        "start_time": "2023-06-18T08:39:08.498Z"
      },
      {
        "duration": 5,
        "start_time": "2023-06-18T08:39:08.506Z"
      },
      {
        "duration": 8744,
        "start_time": "2023-06-18T08:39:08.513Z"
      },
      {
        "duration": 92,
        "start_time": "2023-06-18T08:39:17.260Z"
      },
      {
        "duration": 5,
        "start_time": "2023-06-18T08:39:17.354Z"
      },
      {
        "duration": 23,
        "start_time": "2023-06-18T08:39:24.623Z"
      },
      {
        "duration": 4,
        "start_time": "2023-06-18T08:39:31.347Z"
      },
      {
        "duration": 380,
        "start_time": "2023-06-18T08:39:31.353Z"
      },
      {
        "duration": 23,
        "start_time": "2023-06-18T08:39:31.736Z"
      },
      {
        "duration": 20,
        "start_time": "2023-06-18T08:39:31.761Z"
      },
      {
        "duration": 122,
        "start_time": "2023-06-18T08:39:31.784Z"
      },
      {
        "duration": 14,
        "start_time": "2023-06-18T08:39:31.907Z"
      },
      {
        "duration": 37,
        "start_time": "2023-06-18T08:39:31.923Z"
      },
      {
        "duration": 393,
        "start_time": "2023-06-18T08:39:31.962Z"
      },
      {
        "duration": 20,
        "start_time": "2023-06-18T08:39:32.357Z"
      },
      {
        "duration": 10,
        "start_time": "2023-06-18T08:39:32.378Z"
      },
      {
        "duration": 27,
        "start_time": "2023-06-18T08:39:32.392Z"
      },
      {
        "duration": 32,
        "start_time": "2023-06-18T08:39:32.421Z"
      },
      {
        "duration": 14,
        "start_time": "2023-06-18T08:39:32.457Z"
      },
      {
        "duration": 242,
        "start_time": "2023-06-18T08:39:32.473Z"
      },
      {
        "duration": 3,
        "start_time": "2023-06-18T08:39:32.717Z"
      },
      {
        "duration": 39,
        "start_time": "2023-06-18T08:39:32.722Z"
      },
      {
        "duration": 3,
        "start_time": "2023-06-18T08:39:32.764Z"
      },
      {
        "duration": 140,
        "start_time": "2023-06-18T08:39:32.770Z"
      },
      {
        "duration": 53,
        "start_time": "2023-06-18T08:39:32.912Z"
      },
      {
        "duration": 39,
        "start_time": "2023-06-18T08:39:32.967Z"
      },
      {
        "duration": 43,
        "start_time": "2023-06-18T08:39:33.007Z"
      },
      {
        "duration": 7,
        "start_time": "2023-06-18T08:39:33.052Z"
      },
      {
        "duration": 7,
        "start_time": "2023-06-18T08:39:33.061Z"
      },
      {
        "duration": 1906,
        "start_time": "2023-06-18T08:39:33.070Z"
      },
      {
        "duration": 2011,
        "start_time": "2023-06-18T08:39:34.978Z"
      },
      {
        "duration": 1889,
        "start_time": "2023-06-18T08:39:36.992Z"
      },
      {
        "duration": 2235,
        "start_time": "2023-06-18T08:39:38.883Z"
      },
      {
        "duration": 152,
        "start_time": "2023-06-18T08:39:41.121Z"
      },
      {
        "duration": 4,
        "start_time": "2023-06-18T08:39:41.277Z"
      },
      {
        "duration": 1104,
        "start_time": "2023-06-18T08:39:41.283Z"
      },
      {
        "duration": 1051,
        "start_time": "2023-06-18T08:39:42.389Z"
      },
      {
        "duration": 8,
        "start_time": "2023-06-18T08:39:43.442Z"
      },
      {
        "duration": 22,
        "start_time": "2023-06-18T08:39:43.452Z"
      },
      {
        "duration": 2,
        "start_time": "2023-06-18T08:39:43.476Z"
      },
      {
        "duration": 6,
        "start_time": "2023-06-18T08:39:43.480Z"
      },
      {
        "duration": 6,
        "start_time": "2023-06-18T08:39:43.488Z"
      },
      {
        "duration": 8,
        "start_time": "2023-06-18T08:39:43.495Z"
      },
      {
        "duration": 55,
        "start_time": "2023-06-18T08:39:43.504Z"
      },
      {
        "duration": 6,
        "start_time": "2023-06-18T08:39:43.561Z"
      },
      {
        "duration": 4,
        "start_time": "2023-06-18T08:39:43.569Z"
      },
      {
        "duration": 4380,
        "start_time": "2023-06-18T08:39:43.575Z"
      },
      {
        "duration": 6,
        "start_time": "2023-06-18T08:39:47.957Z"
      },
      {
        "duration": 7,
        "start_time": "2023-06-18T08:39:48.053Z"
      },
      {
        "duration": 29,
        "start_time": "2023-06-18T08:40:56.746Z"
      },
      {
        "duration": 8,
        "start_time": "2023-06-18T08:42:38.431Z"
      },
      {
        "duration": 378,
        "start_time": "2023-06-18T08:42:38.441Z"
      },
      {
        "duration": 17,
        "start_time": "2023-06-18T08:42:38.821Z"
      },
      {
        "duration": 10,
        "start_time": "2023-06-18T08:42:38.849Z"
      },
      {
        "duration": 115,
        "start_time": "2023-06-18T08:42:38.861Z"
      },
      {
        "duration": 19,
        "start_time": "2023-06-18T08:42:38.979Z"
      },
      {
        "duration": 7,
        "start_time": "2023-06-18T08:42:39.000Z"
      },
      {
        "duration": 414,
        "start_time": "2023-06-18T08:42:39.009Z"
      },
      {
        "duration": 28,
        "start_time": "2023-06-18T08:42:39.425Z"
      },
      {
        "duration": 12,
        "start_time": "2023-06-18T08:42:39.455Z"
      },
      {
        "duration": 25,
        "start_time": "2023-06-18T08:42:39.469Z"
      },
      {
        "duration": 7,
        "start_time": "2023-06-18T08:42:39.495Z"
      },
      {
        "duration": 10,
        "start_time": "2023-06-18T08:42:39.504Z"
      },
      {
        "duration": 314,
        "start_time": "2023-06-18T08:42:39.517Z"
      },
      {
        "duration": 3,
        "start_time": "2023-06-18T08:42:39.833Z"
      },
      {
        "duration": 40,
        "start_time": "2023-06-18T08:42:39.838Z"
      },
      {
        "duration": 3,
        "start_time": "2023-06-18T08:42:39.881Z"
      },
      {
        "duration": 153,
        "start_time": "2023-06-18T08:42:39.886Z"
      },
      {
        "duration": 50,
        "start_time": "2023-06-18T08:42:40.042Z"
      },
      {
        "duration": 56,
        "start_time": "2023-06-18T08:42:40.094Z"
      },
      {
        "duration": 32,
        "start_time": "2023-06-18T08:42:40.152Z"
      },
      {
        "duration": 13,
        "start_time": "2023-06-18T08:42:40.186Z"
      },
      {
        "duration": 8,
        "start_time": "2023-06-18T08:42:40.201Z"
      },
      {
        "duration": 2326,
        "start_time": "2023-06-18T08:42:40.213Z"
      },
      {
        "duration": 2317,
        "start_time": "2023-06-18T08:42:42.542Z"
      },
      {
        "duration": 2163,
        "start_time": "2023-06-18T08:42:44.862Z"
      },
      {
        "duration": 2276,
        "start_time": "2023-06-18T08:42:47.027Z"
      },
      {
        "duration": 161,
        "start_time": "2023-06-18T08:42:49.305Z"
      },
      {
        "duration": 5,
        "start_time": "2023-06-18T08:42:49.468Z"
      },
      {
        "duration": 1040,
        "start_time": "2023-06-18T08:42:49.474Z"
      },
      {
        "duration": 1485,
        "start_time": "2023-06-18T08:42:50.517Z"
      },
      {
        "duration": 3,
        "start_time": "2023-06-18T08:42:52.006Z"
      },
      {
        "duration": 29,
        "start_time": "2023-06-18T08:42:52.011Z"
      },
      {
        "duration": 33,
        "start_time": "2023-06-18T08:42:52.043Z"
      },
      {
        "duration": 3,
        "start_time": "2023-06-18T08:42:55.460Z"
      },
      {
        "duration": 4,
        "start_time": "2023-06-18T08:42:56.357Z"
      },
      {
        "duration": 12,
        "start_time": "2023-06-18T08:43:24.244Z"
      },
      {
        "duration": 13,
        "start_time": "2023-06-18T08:43:37.930Z"
      },
      {
        "duration": 5,
        "start_time": "2023-06-18T08:46:49.009Z"
      },
      {
        "duration": 4,
        "start_time": "2023-06-18T08:47:27.511Z"
      },
      {
        "duration": 6,
        "start_time": "2023-06-18T08:50:37.539Z"
      },
      {
        "duration": 6,
        "start_time": "2023-06-18T08:58:57.939Z"
      },
      {
        "duration": 3489,
        "start_time": "2023-06-18T08:59:08.663Z"
      },
      {
        "duration": 5,
        "start_time": "2023-06-18T08:59:44.658Z"
      },
      {
        "duration": 4,
        "start_time": "2023-06-18T08:59:54.302Z"
      },
      {
        "duration": 3396,
        "start_time": "2023-06-18T08:59:54.559Z"
      },
      {
        "duration": 4,
        "start_time": "2023-06-18T09:00:06.748Z"
      },
      {
        "duration": 4,
        "start_time": "2023-06-18T09:00:07.234Z"
      },
      {
        "duration": 79,
        "start_time": "2023-06-18T09:00:20.636Z"
      },
      {
        "duration": 0,
        "start_time": "2023-06-18T09:04:26.980Z"
      },
      {
        "duration": 1,
        "start_time": "2023-06-18T09:04:26.981Z"
      },
      {
        "duration": 5,
        "start_time": "2023-06-18T09:04:28.760Z"
      },
      {
        "duration": 345,
        "start_time": "2023-06-18T09:04:28.768Z"
      },
      {
        "duration": 16,
        "start_time": "2023-06-18T09:04:29.115Z"
      },
      {
        "duration": 22,
        "start_time": "2023-06-18T09:04:29.134Z"
      },
      {
        "duration": 106,
        "start_time": "2023-06-18T09:04:29.158Z"
      },
      {
        "duration": 14,
        "start_time": "2023-06-18T09:04:29.266Z"
      },
      {
        "duration": 27,
        "start_time": "2023-06-18T09:04:29.282Z"
      },
      {
        "duration": 425,
        "start_time": "2023-06-18T09:04:29.311Z"
      },
      {
        "duration": 24,
        "start_time": "2023-06-18T09:04:29.738Z"
      },
      {
        "duration": 9,
        "start_time": "2023-06-18T09:04:29.764Z"
      },
      {
        "duration": 28,
        "start_time": "2023-06-18T09:04:29.775Z"
      },
      {
        "duration": 9,
        "start_time": "2023-06-18T09:04:29.805Z"
      },
      {
        "duration": 15,
        "start_time": "2023-06-18T09:04:29.816Z"
      },
      {
        "duration": 238,
        "start_time": "2023-06-18T09:04:29.833Z"
      },
      {
        "duration": 20,
        "start_time": "2023-06-18T09:04:30.073Z"
      },
      {
        "duration": 57,
        "start_time": "2023-06-18T09:04:30.095Z"
      },
      {
        "duration": 9,
        "start_time": "2023-06-18T09:04:30.154Z"
      },
      {
        "duration": 214,
        "start_time": "2023-06-18T09:04:30.164Z"
      },
      {
        "duration": 35,
        "start_time": "2023-06-18T09:04:30.379Z"
      },
      {
        "duration": 47,
        "start_time": "2023-06-18T09:04:30.416Z"
      },
      {
        "duration": 23,
        "start_time": "2023-06-18T09:04:30.465Z"
      },
      {
        "duration": 47,
        "start_time": "2023-06-18T09:04:30.490Z"
      },
      {
        "duration": 39,
        "start_time": "2023-06-18T09:04:30.539Z"
      },
      {
        "duration": 2209,
        "start_time": "2023-06-18T09:04:30.580Z"
      },
      {
        "duration": 1921,
        "start_time": "2023-06-18T09:04:32.791Z"
      },
      {
        "duration": 2104,
        "start_time": "2023-06-18T09:04:34.714Z"
      },
      {
        "duration": 2283,
        "start_time": "2023-06-18T09:04:36.820Z"
      },
      {
        "duration": 154,
        "start_time": "2023-06-18T09:04:39.107Z"
      },
      {
        "duration": 4,
        "start_time": "2023-06-18T09:04:39.263Z"
      },
      {
        "duration": 984,
        "start_time": "2023-06-18T09:04:39.269Z"
      },
      {
        "duration": 1156,
        "start_time": "2023-06-18T09:04:40.256Z"
      },
      {
        "duration": 4,
        "start_time": "2023-06-18T09:04:41.414Z"
      },
      {
        "duration": 68,
        "start_time": "2023-06-18T09:04:41.420Z"
      },
      {
        "duration": 3,
        "start_time": "2023-06-18T09:04:41.490Z"
      },
      {
        "duration": 6,
        "start_time": "2023-06-18T09:04:41.495Z"
      },
      {
        "duration": 5,
        "start_time": "2023-06-18T09:04:41.502Z"
      },
      {
        "duration": 9,
        "start_time": "2023-06-18T09:04:41.508Z"
      },
      {
        "duration": 16,
        "start_time": "2023-06-18T09:04:41.518Z"
      },
      {
        "duration": 5,
        "start_time": "2023-06-18T09:04:41.536Z"
      },
      {
        "duration": 3506,
        "start_time": "2023-06-18T09:04:41.543Z"
      },
      {
        "duration": 6,
        "start_time": "2023-06-18T09:04:45.051Z"
      },
      {
        "duration": 94,
        "start_time": "2023-06-18T09:04:45.059Z"
      },
      {
        "duration": 67,
        "start_time": "2023-06-18T09:04:45.155Z"
      },
      {
        "duration": 11,
        "start_time": "2023-06-18T09:05:54.756Z"
      },
      {
        "duration": 39185,
        "start_time": "2023-06-18T09:06:04.970Z"
      },
      {
        "duration": 4,
        "start_time": "2023-06-18T09:07:26.547Z"
      },
      {
        "duration": 322,
        "start_time": "2023-06-18T09:07:26.554Z"
      },
      {
        "duration": 17,
        "start_time": "2023-06-18T09:07:26.877Z"
      },
      {
        "duration": 10,
        "start_time": "2023-06-18T09:07:26.897Z"
      },
      {
        "duration": 124,
        "start_time": "2023-06-18T09:07:26.908Z"
      },
      {
        "duration": 20,
        "start_time": "2023-06-18T09:07:27.034Z"
      },
      {
        "duration": 7,
        "start_time": "2023-06-18T09:07:27.056Z"
      },
      {
        "duration": 412,
        "start_time": "2023-06-18T09:07:27.065Z"
      },
      {
        "duration": 20,
        "start_time": "2023-06-18T09:07:27.479Z"
      },
      {
        "duration": 9,
        "start_time": "2023-06-18T09:07:27.503Z"
      },
      {
        "duration": 44,
        "start_time": "2023-06-18T09:07:27.514Z"
      },
      {
        "duration": 7,
        "start_time": "2023-06-18T09:07:27.559Z"
      },
      {
        "duration": 14,
        "start_time": "2023-06-18T09:07:27.569Z"
      },
      {
        "duration": 236,
        "start_time": "2023-06-18T09:07:27.585Z"
      },
      {
        "duration": 5,
        "start_time": "2023-06-18T09:07:27.823Z"
      },
      {
        "duration": 45,
        "start_time": "2023-06-18T09:07:27.830Z"
      },
      {
        "duration": 3,
        "start_time": "2023-06-18T09:07:27.876Z"
      },
      {
        "duration": 168,
        "start_time": "2023-06-18T09:07:27.881Z"
      },
      {
        "duration": 37,
        "start_time": "2023-06-18T09:07:28.051Z"
      },
      {
        "duration": 60,
        "start_time": "2023-06-18T09:07:28.090Z"
      },
      {
        "duration": 27,
        "start_time": "2023-06-18T09:07:28.152Z"
      },
      {
        "duration": 9,
        "start_time": "2023-06-18T09:07:28.182Z"
      },
      {
        "duration": 8,
        "start_time": "2023-06-18T09:07:28.193Z"
      },
      {
        "duration": 2195,
        "start_time": "2023-06-18T09:07:28.204Z"
      },
      {
        "duration": 2157,
        "start_time": "2023-06-18T09:07:30.402Z"
      },
      {
        "duration": 2303,
        "start_time": "2023-06-18T09:07:32.562Z"
      },
      {
        "duration": 2108,
        "start_time": "2023-06-18T09:07:34.867Z"
      },
      {
        "duration": 163,
        "start_time": "2023-06-18T09:07:36.978Z"
      },
      {
        "duration": 7,
        "start_time": "2023-06-18T09:07:37.143Z"
      },
      {
        "duration": 1192,
        "start_time": "2023-06-18T09:07:37.153Z"
      },
      {
        "duration": 989,
        "start_time": "2023-06-18T09:07:38.349Z"
      },
      {
        "duration": 11,
        "start_time": "2023-06-18T09:07:39.340Z"
      },
      {
        "duration": 49,
        "start_time": "2023-06-18T09:07:39.353Z"
      },
      {
        "duration": 6,
        "start_time": "2023-06-18T09:07:39.404Z"
      },
      {
        "duration": 8,
        "start_time": "2023-06-18T09:07:39.412Z"
      },
      {
        "duration": 6,
        "start_time": "2023-06-18T09:07:39.422Z"
      },
      {
        "duration": 9,
        "start_time": "2023-06-18T09:07:39.430Z"
      },
      {
        "duration": 12,
        "start_time": "2023-06-18T09:07:39.441Z"
      },
      {
        "duration": 6,
        "start_time": "2023-06-18T09:07:39.455Z"
      },
      {
        "duration": 1588,
        "start_time": "2023-06-18T09:07:39.463Z"
      },
      {
        "duration": 4,
        "start_time": "2023-06-18T09:07:41.053Z"
      },
      {
        "duration": 9,
        "start_time": "2023-06-18T09:07:41.059Z"
      },
      {
        "duration": 39304,
        "start_time": "2023-06-18T09:07:41.071Z"
      },
      {
        "duration": 0,
        "start_time": "2023-06-18T09:08:20.377Z"
      },
      {
        "duration": 0,
        "start_time": "2023-06-18T09:08:20.379Z"
      },
      {
        "duration": 0,
        "start_time": "2023-06-18T09:08:20.380Z"
      },
      {
        "duration": 0,
        "start_time": "2023-06-18T09:08:20.381Z"
      },
      {
        "duration": 0,
        "start_time": "2023-06-18T09:08:20.383Z"
      },
      {
        "duration": 0,
        "start_time": "2023-06-18T09:08:20.384Z"
      },
      {
        "duration": 4,
        "start_time": "2023-06-18T09:08:21.448Z"
      },
      {
        "duration": 362,
        "start_time": "2023-06-18T09:08:21.455Z"
      },
      {
        "duration": 32,
        "start_time": "2023-06-18T09:08:21.819Z"
      },
      {
        "duration": 11,
        "start_time": "2023-06-18T09:08:21.854Z"
      },
      {
        "duration": 149,
        "start_time": "2023-06-18T09:08:21.867Z"
      },
      {
        "duration": 12,
        "start_time": "2023-06-18T09:08:22.018Z"
      },
      {
        "duration": 19,
        "start_time": "2023-06-18T09:08:22.032Z"
      },
      {
        "duration": 400,
        "start_time": "2023-06-18T09:08:22.053Z"
      },
      {
        "duration": 26,
        "start_time": "2023-06-18T09:08:22.456Z"
      },
      {
        "duration": 11,
        "start_time": "2023-06-18T09:08:22.486Z"
      },
      {
        "duration": 43,
        "start_time": "2023-06-18T09:08:22.499Z"
      },
      {
        "duration": 6,
        "start_time": "2023-06-18T09:08:22.551Z"
      },
      {
        "duration": 9,
        "start_time": "2023-06-18T09:08:22.559Z"
      },
      {
        "duration": 223,
        "start_time": "2023-06-18T09:08:22.571Z"
      },
      {
        "duration": 6,
        "start_time": "2023-06-18T09:08:22.796Z"
      },
      {
        "duration": 30,
        "start_time": "2023-06-18T09:08:22.804Z"
      },
      {
        "duration": 14,
        "start_time": "2023-06-18T09:08:22.836Z"
      },
      {
        "duration": 138,
        "start_time": "2023-06-18T09:08:22.852Z"
      },
      {
        "duration": 35,
        "start_time": "2023-06-18T09:08:22.992Z"
      },
      {
        "duration": 47,
        "start_time": "2023-06-18T09:08:23.029Z"
      },
      {
        "duration": 17,
        "start_time": "2023-06-18T09:08:23.078Z"
      },
      {
        "duration": 9,
        "start_time": "2023-06-18T09:08:23.097Z"
      },
      {
        "duration": 18,
        "start_time": "2023-06-18T09:08:23.108Z"
      },
      {
        "duration": 1894,
        "start_time": "2023-06-18T09:08:23.128Z"
      },
      {
        "duration": 2072,
        "start_time": "2023-06-18T09:08:25.024Z"
      },
      {
        "duration": 1907,
        "start_time": "2023-06-18T09:08:27.098Z"
      },
      {
        "duration": 1995,
        "start_time": "2023-06-18T09:08:29.007Z"
      },
      {
        "duration": 161,
        "start_time": "2023-06-18T09:08:31.007Z"
      },
      {
        "duration": 5,
        "start_time": "2023-06-18T09:08:31.171Z"
      },
      {
        "duration": 1115,
        "start_time": "2023-06-18T09:08:31.178Z"
      },
      {
        "duration": 1085,
        "start_time": "2023-06-18T09:08:32.295Z"
      },
      {
        "duration": 4,
        "start_time": "2023-06-18T09:08:33.382Z"
      },
      {
        "duration": 35,
        "start_time": "2023-06-18T09:08:33.388Z"
      },
      {
        "duration": 3,
        "start_time": "2023-06-18T09:08:33.425Z"
      },
      {
        "duration": 8,
        "start_time": "2023-06-18T09:08:33.430Z"
      },
      {
        "duration": 16,
        "start_time": "2023-06-18T09:08:33.440Z"
      },
      {
        "duration": 7,
        "start_time": "2023-06-18T09:08:33.458Z"
      },
      {
        "duration": 46,
        "start_time": "2023-06-18T09:08:33.467Z"
      },
      {
        "duration": 5,
        "start_time": "2023-06-18T09:08:33.515Z"
      },
      {
        "duration": 64,
        "start_time": "2023-06-18T09:08:33.522Z"
      },
      {
        "duration": 5,
        "start_time": "2023-06-18T09:08:33.588Z"
      },
      {
        "duration": 21,
        "start_time": "2023-06-18T09:08:33.595Z"
      },
      {
        "duration": 47,
        "start_time": "2023-06-18T09:08:33.618Z"
      },
      {
        "duration": 13,
        "start_time": "2023-06-18T09:08:33.667Z"
      },
      {
        "duration": 4,
        "start_time": "2023-06-18T09:10:37.567Z"
      },
      {
        "duration": 378,
        "start_time": "2023-06-18T09:10:37.573Z"
      },
      {
        "duration": 17,
        "start_time": "2023-06-18T09:10:37.954Z"
      },
      {
        "duration": 13,
        "start_time": "2023-06-18T09:10:37.973Z"
      },
      {
        "duration": 112,
        "start_time": "2023-06-18T09:10:37.988Z"
      },
      {
        "duration": 13,
        "start_time": "2023-06-18T09:10:38.102Z"
      },
      {
        "duration": 4,
        "start_time": "2023-06-18T09:10:38.117Z"
      },
      {
        "duration": 412,
        "start_time": "2023-06-18T09:10:38.123Z"
      },
      {
        "duration": 23,
        "start_time": "2023-06-18T09:10:38.537Z"
      },
      {
        "duration": 10,
        "start_time": "2023-06-18T09:10:38.563Z"
      },
      {
        "duration": 27,
        "start_time": "2023-06-18T09:10:38.575Z"
      },
      {
        "duration": 6,
        "start_time": "2023-06-18T09:10:38.605Z"
      },
      {
        "duration": 16,
        "start_time": "2023-06-18T09:10:38.612Z"
      },
      {
        "duration": 235,
        "start_time": "2023-06-18T09:10:38.629Z"
      },
      {
        "duration": 12,
        "start_time": "2023-06-18T09:10:38.865Z"
      },
      {
        "duration": 23,
        "start_time": "2023-06-18T09:10:38.879Z"
      },
      {
        "duration": 3,
        "start_time": "2023-06-18T09:10:38.904Z"
      },
      {
        "duration": 145,
        "start_time": "2023-06-18T09:10:38.908Z"
      },
      {
        "duration": 34,
        "start_time": "2023-06-18T09:10:39.055Z"
      },
      {
        "duration": 33,
        "start_time": "2023-06-18T09:10:39.091Z"
      },
      {
        "duration": 39,
        "start_time": "2023-06-18T09:10:39.125Z"
      },
      {
        "duration": 7,
        "start_time": "2023-06-18T09:10:39.166Z"
      },
      {
        "duration": 10,
        "start_time": "2023-06-18T09:10:39.175Z"
      },
      {
        "duration": 2129,
        "start_time": "2023-06-18T09:10:39.186Z"
      },
      {
        "duration": 1984,
        "start_time": "2023-06-18T09:10:41.317Z"
      },
      {
        "duration": 1885,
        "start_time": "2023-06-18T09:10:43.303Z"
      },
      {
        "duration": 2119,
        "start_time": "2023-06-18T09:10:45.190Z"
      },
      {
        "duration": 164,
        "start_time": "2023-06-18T09:10:47.313Z"
      },
      {
        "duration": 6,
        "start_time": "2023-06-18T09:10:47.479Z"
      },
      {
        "duration": 1029,
        "start_time": "2023-06-18T09:10:47.487Z"
      },
      {
        "duration": 1160,
        "start_time": "2023-06-18T09:10:48.518Z"
      },
      {
        "duration": 4,
        "start_time": "2023-06-18T09:10:49.680Z"
      },
      {
        "duration": 19,
        "start_time": "2023-06-18T09:10:49.685Z"
      },
      {
        "duration": 3,
        "start_time": "2023-06-18T09:10:49.706Z"
      },
      {
        "duration": 4,
        "start_time": "2023-06-18T09:10:49.710Z"
      },
      {
        "duration": 6,
        "start_time": "2023-06-18T09:10:49.715Z"
      },
      {
        "duration": 7,
        "start_time": "2023-06-18T09:10:49.750Z"
      },
      {
        "duration": 17,
        "start_time": "2023-06-18T09:10:49.759Z"
      },
      {
        "duration": 7,
        "start_time": "2023-06-18T09:10:49.779Z"
      },
      {
        "duration": 3168,
        "start_time": "2023-06-18T09:10:49.788Z"
      },
      {
        "duration": 95,
        "start_time": "2023-06-18T09:10:52.958Z"
      },
      {
        "duration": 18,
        "start_time": "2023-06-18T09:10:53.056Z"
      },
      {
        "duration": 1519,
        "start_time": "2023-06-18T09:11:38.504Z"
      },
      {
        "duration": 360,
        "start_time": "2023-06-18T09:11:40.025Z"
      },
      {
        "duration": 17,
        "start_time": "2023-06-18T09:11:40.387Z"
      },
      {
        "duration": 8,
        "start_time": "2023-06-18T09:11:40.406Z"
      },
      {
        "duration": 118,
        "start_time": "2023-06-18T09:11:40.417Z"
      },
      {
        "duration": 25,
        "start_time": "2023-06-18T09:11:40.536Z"
      },
      {
        "duration": 7,
        "start_time": "2023-06-18T09:11:40.563Z"
      },
      {
        "duration": 412,
        "start_time": "2023-06-18T09:11:40.572Z"
      },
      {
        "duration": 18,
        "start_time": "2023-06-18T09:11:40.986Z"
      },
      {
        "duration": 14,
        "start_time": "2023-06-18T09:11:41.006Z"
      },
      {
        "duration": 46,
        "start_time": "2023-06-18T09:11:41.022Z"
      },
      {
        "duration": 5,
        "start_time": "2023-06-18T09:11:41.070Z"
      },
      {
        "duration": 11,
        "start_time": "2023-06-18T09:11:41.077Z"
      },
      {
        "duration": 213,
        "start_time": "2023-06-18T09:11:41.091Z"
      },
      {
        "duration": 27,
        "start_time": "2023-06-18T09:11:41.306Z"
      },
      {
        "duration": 43,
        "start_time": "2023-06-18T09:11:41.335Z"
      },
      {
        "duration": 6,
        "start_time": "2023-06-18T09:11:41.380Z"
      },
      {
        "duration": 134,
        "start_time": "2023-06-18T09:11:41.388Z"
      },
      {
        "duration": 43,
        "start_time": "2023-06-18T09:11:41.524Z"
      },
      {
        "duration": 38,
        "start_time": "2023-06-18T09:11:41.568Z"
      },
      {
        "duration": 44,
        "start_time": "2023-06-18T09:11:41.607Z"
      },
      {
        "duration": 7,
        "start_time": "2023-06-18T09:11:41.653Z"
      },
      {
        "duration": 20,
        "start_time": "2023-06-18T09:11:41.662Z"
      },
      {
        "duration": 2002,
        "start_time": "2023-06-18T09:11:41.684Z"
      },
      {
        "duration": 1981,
        "start_time": "2023-06-18T09:11:43.688Z"
      },
      {
        "duration": 2033,
        "start_time": "2023-06-18T09:11:45.671Z"
      },
      {
        "duration": 2072,
        "start_time": "2023-06-18T09:11:47.705Z"
      },
      {
        "duration": 146,
        "start_time": "2023-06-18T09:11:49.779Z"
      },
      {
        "duration": 4,
        "start_time": "2023-06-18T09:11:49.927Z"
      },
      {
        "duration": 1004,
        "start_time": "2023-06-18T09:11:49.933Z"
      },
      {
        "duration": 1140,
        "start_time": "2023-06-18T09:11:50.938Z"
      },
      {
        "duration": 4,
        "start_time": "2023-06-18T09:11:52.080Z"
      },
      {
        "duration": 37,
        "start_time": "2023-06-18T09:11:52.085Z"
      },
      {
        "duration": 8,
        "start_time": "2023-06-18T09:11:52.124Z"
      },
      {
        "duration": 26,
        "start_time": "2023-06-18T09:11:52.134Z"
      },
      {
        "duration": 18,
        "start_time": "2023-06-18T09:11:52.161Z"
      },
      {
        "duration": 22,
        "start_time": "2023-06-18T09:11:52.181Z"
      },
      {
        "duration": 22,
        "start_time": "2023-06-18T09:11:52.205Z"
      },
      {
        "duration": 30,
        "start_time": "2023-06-18T09:11:52.229Z"
      },
      {
        "duration": 4293,
        "start_time": "2023-06-18T09:11:52.261Z"
      },
      {
        "duration": 266,
        "start_time": "2023-06-18T09:11:56.558Z"
      },
      {
        "duration": 0,
        "start_time": "2023-06-18T09:11:56.826Z"
      },
      {
        "duration": 0,
        "start_time": "2023-06-18T09:11:56.827Z"
      },
      {
        "duration": 5,
        "start_time": "2023-06-18T09:12:58.652Z"
      },
      {
        "duration": 504,
        "start_time": "2023-06-18T09:12:58.660Z"
      },
      {
        "duration": 25,
        "start_time": "2023-06-18T09:12:59.166Z"
      },
      {
        "duration": 11,
        "start_time": "2023-06-18T09:12:59.195Z"
      },
      {
        "duration": 158,
        "start_time": "2023-06-18T09:12:59.208Z"
      },
      {
        "duration": 20,
        "start_time": "2023-06-18T09:12:59.368Z"
      },
      {
        "duration": 6,
        "start_time": "2023-06-18T09:12:59.391Z"
      },
      {
        "duration": 578,
        "start_time": "2023-06-18T09:12:59.402Z"
      },
      {
        "duration": 27,
        "start_time": "2023-06-18T09:12:59.984Z"
      },
      {
        "duration": 8,
        "start_time": "2023-06-18T09:13:00.014Z"
      },
      {
        "duration": 92,
        "start_time": "2023-06-18T09:13:00.024Z"
      },
      {
        "duration": 23,
        "start_time": "2023-06-18T09:13:00.118Z"
      },
      {
        "duration": 30,
        "start_time": "2023-06-18T09:13:00.144Z"
      },
      {
        "duration": 320,
        "start_time": "2023-06-18T09:13:00.176Z"
      },
      {
        "duration": 29,
        "start_time": "2023-06-18T09:13:00.498Z"
      },
      {
        "duration": 49,
        "start_time": "2023-06-18T09:13:00.530Z"
      },
      {
        "duration": 33,
        "start_time": "2023-06-18T09:13:00.581Z"
      },
      {
        "duration": 192,
        "start_time": "2023-06-18T09:13:00.617Z"
      },
      {
        "duration": 40,
        "start_time": "2023-06-18T09:13:00.811Z"
      },
      {
        "duration": 39,
        "start_time": "2023-06-18T09:13:00.853Z"
      },
      {
        "duration": 24,
        "start_time": "2023-06-18T09:13:00.894Z"
      },
      {
        "duration": 60,
        "start_time": "2023-06-18T09:13:00.920Z"
      },
      {
        "duration": 46,
        "start_time": "2023-06-18T09:13:00.982Z"
      },
      {
        "duration": 2191,
        "start_time": "2023-06-18T09:13:01.033Z"
      },
      {
        "duration": 2158,
        "start_time": "2023-06-18T09:13:03.226Z"
      },
      {
        "duration": 2182,
        "start_time": "2023-06-18T09:13:05.387Z"
      },
      {
        "duration": 2204,
        "start_time": "2023-06-18T09:13:07.572Z"
      },
      {
        "duration": 219,
        "start_time": "2023-06-18T09:13:09.778Z"
      },
      {
        "duration": 8,
        "start_time": "2023-06-18T09:13:09.999Z"
      },
      {
        "duration": 1042,
        "start_time": "2023-06-18T09:13:10.009Z"
      },
      {
        "duration": 1148,
        "start_time": "2023-06-18T09:13:11.053Z"
      },
      {
        "duration": 4,
        "start_time": "2023-06-18T09:13:12.203Z"
      },
      {
        "duration": 22,
        "start_time": "2023-06-18T09:13:12.208Z"
      },
      {
        "duration": 18,
        "start_time": "2023-06-18T09:13:12.233Z"
      },
      {
        "duration": 3,
        "start_time": "2023-06-18T09:13:12.254Z"
      },
      {
        "duration": 5,
        "start_time": "2023-06-18T09:13:12.259Z"
      },
      {
        "duration": 6,
        "start_time": "2023-06-18T09:13:12.266Z"
      },
      {
        "duration": 9,
        "start_time": "2023-06-18T09:13:12.274Z"
      },
      {
        "duration": 6,
        "start_time": "2023-06-18T09:13:12.285Z"
      },
      {
        "duration": 7467,
        "start_time": "2023-06-18T09:13:12.292Z"
      },
      {
        "duration": 135,
        "start_time": "2023-06-18T09:13:19.762Z"
      },
      {
        "duration": 0,
        "start_time": "2023-06-18T09:13:19.898Z"
      },
      {
        "duration": 0,
        "start_time": "2023-06-18T09:13:19.952Z"
      },
      {
        "duration": 26454,
        "start_time": "2023-06-18T09:14:12.844Z"
      },
      {
        "duration": 40276,
        "start_time": "2023-06-18T09:15:21.172Z"
      },
      {
        "duration": 2086,
        "start_time": "2023-06-18T09:22:05.307Z"
      },
      {
        "duration": 370,
        "start_time": "2023-06-18T09:22:07.396Z"
      },
      {
        "duration": 19,
        "start_time": "2023-06-18T09:22:07.768Z"
      },
      {
        "duration": 9,
        "start_time": "2023-06-18T09:22:07.789Z"
      },
      {
        "duration": 125,
        "start_time": "2023-06-18T09:22:07.800Z"
      },
      {
        "duration": 14,
        "start_time": "2023-06-18T09:22:07.927Z"
      },
      {
        "duration": 26,
        "start_time": "2023-06-18T09:22:07.950Z"
      },
      {
        "duration": 509,
        "start_time": "2023-06-18T09:22:07.978Z"
      },
      {
        "duration": 27,
        "start_time": "2023-06-18T09:22:08.489Z"
      },
      {
        "duration": 33,
        "start_time": "2023-06-18T09:22:08.517Z"
      },
      {
        "duration": 30,
        "start_time": "2023-06-18T09:22:08.553Z"
      },
      {
        "duration": 6,
        "start_time": "2023-06-18T09:22:08.587Z"
      },
      {
        "duration": 18,
        "start_time": "2023-06-18T09:22:08.595Z"
      },
      {
        "duration": 268,
        "start_time": "2023-06-18T09:22:08.618Z"
      },
      {
        "duration": 3,
        "start_time": "2023-06-18T09:22:08.888Z"
      },
      {
        "duration": 33,
        "start_time": "2023-06-18T09:22:08.894Z"
      },
      {
        "duration": 3,
        "start_time": "2023-06-18T09:22:08.932Z"
      },
      {
        "duration": 159,
        "start_time": "2023-06-18T09:22:08.949Z"
      },
      {
        "duration": 59,
        "start_time": "2023-06-18T09:22:09.110Z"
      },
      {
        "duration": 21,
        "start_time": "2023-06-18T09:22:09.171Z"
      },
      {
        "duration": 15,
        "start_time": "2023-06-18T09:22:09.196Z"
      },
      {
        "duration": 9,
        "start_time": "2023-06-18T09:22:09.214Z"
      },
      {
        "duration": 29,
        "start_time": "2023-06-18T09:22:09.225Z"
      },
      {
        "duration": 2158,
        "start_time": "2023-06-18T09:22:09.256Z"
      },
      {
        "duration": 2417,
        "start_time": "2023-06-18T09:22:11.416Z"
      },
      {
        "duration": 1979,
        "start_time": "2023-06-18T09:22:13.835Z"
      },
      {
        "duration": 2712,
        "start_time": "2023-06-18T09:22:15.816Z"
      },
      {
        "duration": 197,
        "start_time": "2023-06-18T09:22:18.530Z"
      },
      {
        "duration": 6,
        "start_time": "2023-06-18T09:22:18.728Z"
      },
      {
        "duration": 1090,
        "start_time": "2023-06-18T09:22:18.736Z"
      },
      {
        "duration": 1170,
        "start_time": "2023-06-18T09:22:19.828Z"
      },
      {
        "duration": 4,
        "start_time": "2023-06-18T09:22:21.000Z"
      },
      {
        "duration": 52,
        "start_time": "2023-06-18T09:22:21.006Z"
      },
      {
        "duration": 3,
        "start_time": "2023-06-18T09:22:21.060Z"
      },
      {
        "duration": 12,
        "start_time": "2023-06-18T09:22:21.065Z"
      },
      {
        "duration": 6,
        "start_time": "2023-06-18T09:22:21.079Z"
      },
      {
        "duration": 15,
        "start_time": "2023-06-18T09:22:21.087Z"
      },
      {
        "duration": 38,
        "start_time": "2023-06-18T09:22:21.104Z"
      },
      {
        "duration": 40,
        "start_time": "2023-06-18T09:22:21.144Z"
      },
      {
        "duration": 3368,
        "start_time": "2023-06-18T09:22:21.186Z"
      },
      {
        "duration": 1688,
        "start_time": "2023-06-18T09:24:42.511Z"
      },
      {
        "duration": 376,
        "start_time": "2023-06-18T09:24:44.201Z"
      },
      {
        "duration": 26,
        "start_time": "2023-06-18T09:24:44.579Z"
      },
      {
        "duration": 11,
        "start_time": "2023-06-18T09:24:44.608Z"
      },
      {
        "duration": 118,
        "start_time": "2023-06-18T09:24:44.622Z"
      },
      {
        "duration": 18,
        "start_time": "2023-06-18T09:24:44.742Z"
      },
      {
        "duration": 6,
        "start_time": "2023-06-18T09:24:44.767Z"
      },
      {
        "duration": 511,
        "start_time": "2023-06-18T09:24:44.775Z"
      },
      {
        "duration": 25,
        "start_time": "2023-06-18T09:24:45.288Z"
      },
      {
        "duration": 12,
        "start_time": "2023-06-18T09:24:45.315Z"
      },
      {
        "duration": 49,
        "start_time": "2023-06-18T09:24:45.329Z"
      },
      {
        "duration": 6,
        "start_time": "2023-06-18T09:24:45.380Z"
      },
      {
        "duration": 10,
        "start_time": "2023-06-18T09:24:45.388Z"
      },
      {
        "duration": 300,
        "start_time": "2023-06-18T09:24:45.402Z"
      },
      {
        "duration": 3,
        "start_time": "2023-06-18T09:24:45.704Z"
      },
      {
        "duration": 40,
        "start_time": "2023-06-18T09:24:45.710Z"
      },
      {
        "duration": 3,
        "start_time": "2023-06-18T09:24:45.752Z"
      },
      {
        "duration": 152,
        "start_time": "2023-06-18T09:24:45.757Z"
      },
      {
        "duration": 46,
        "start_time": "2023-06-18T09:24:45.911Z"
      },
      {
        "duration": 49,
        "start_time": "2023-06-18T09:24:45.959Z"
      },
      {
        "duration": 55,
        "start_time": "2023-06-18T09:24:46.010Z"
      },
      {
        "duration": 9,
        "start_time": "2023-06-18T09:24:46.067Z"
      },
      {
        "duration": 56,
        "start_time": "2023-06-18T09:24:46.078Z"
      },
      {
        "duration": 2214,
        "start_time": "2023-06-18T09:24:46.136Z"
      },
      {
        "duration": 2162,
        "start_time": "2023-06-18T09:24:48.352Z"
      },
      {
        "duration": 1925,
        "start_time": "2023-06-18T09:24:50.516Z"
      },
      {
        "duration": 2301,
        "start_time": "2023-06-18T09:24:52.450Z"
      },
      {
        "duration": 200,
        "start_time": "2023-06-18T09:24:54.753Z"
      },
      {
        "duration": 6,
        "start_time": "2023-06-18T09:24:54.955Z"
      },
      {
        "duration": 1152,
        "start_time": "2023-06-18T09:24:54.963Z"
      },
      {
        "duration": 1220,
        "start_time": "2023-06-18T09:24:56.117Z"
      },
      {
        "duration": 4,
        "start_time": "2023-06-18T09:24:57.339Z"
      },
      {
        "duration": 25,
        "start_time": "2023-06-18T09:24:57.350Z"
      },
      {
        "duration": 3,
        "start_time": "2023-06-18T09:24:57.377Z"
      },
      {
        "duration": 18,
        "start_time": "2023-06-18T09:24:57.382Z"
      },
      {
        "duration": 30,
        "start_time": "2023-06-18T09:24:57.402Z"
      },
      {
        "duration": 10,
        "start_time": "2023-06-18T09:24:57.434Z"
      },
      {
        "duration": 15,
        "start_time": "2023-06-18T09:24:57.447Z"
      },
      {
        "duration": 9,
        "start_time": "2023-06-18T09:24:57.464Z"
      },
      {
        "duration": 4931,
        "start_time": "2023-06-18T09:24:57.475Z"
      },
      {
        "duration": 263473,
        "start_time": "2023-06-18T09:25:02.414Z"
      },
      {
        "duration": 435927,
        "start_time": "2023-06-18T09:29:25.889Z"
      },
      {
        "duration": 123,
        "start_time": "2023-06-18T09:36:41.849Z"
      },
      {
        "duration": 4,
        "start_time": "2023-06-18T09:49:42.633Z"
      },
      {
        "duration": 6,
        "start_time": "2023-06-18T09:49:43.114Z"
      },
      {
        "duration": 7,
        "start_time": "2023-06-18T09:49:43.516Z"
      },
      {
        "duration": 3,
        "start_time": "2023-06-18T09:49:46.724Z"
      },
      {
        "duration": 5220,
        "start_time": "2023-06-18T09:49:46.940Z"
      },
      {
        "duration": 6,
        "start_time": "2023-06-18T09:50:21.070Z"
      },
      {
        "duration": 3,
        "start_time": "2023-06-18T09:50:22.224Z"
      },
      {
        "duration": 5189,
        "start_time": "2023-06-18T09:50:22.496Z"
      },
      {
        "duration": 0,
        "start_time": "2023-06-18T09:51:48.490Z"
      },
      {
        "duration": 6,
        "start_time": "2023-06-18T09:54:11.141Z"
      },
      {
        "duration": 6,
        "start_time": "2023-06-18T09:54:11.401Z"
      },
      {
        "duration": 3,
        "start_time": "2023-06-18T09:54:12.009Z"
      },
      {
        "duration": 4852,
        "start_time": "2023-06-18T09:54:12.331Z"
      },
      {
        "duration": 34133,
        "start_time": "2023-06-18T09:55:22.985Z"
      },
      {
        "duration": 0,
        "start_time": "2023-06-18T09:55:57.121Z"
      },
      {
        "duration": 29,
        "start_time": "2023-06-18T09:55:58.720Z"
      },
      {
        "duration": 8,
        "start_time": "2023-06-18T09:56:08.870Z"
      },
      {
        "duration": 4,
        "start_time": "2023-06-18T09:57:16.141Z"
      },
      {
        "duration": 389,
        "start_time": "2023-06-18T09:57:16.149Z"
      },
      {
        "duration": 25,
        "start_time": "2023-06-18T09:57:16.540Z"
      },
      {
        "duration": 9,
        "start_time": "2023-06-18T09:57:16.567Z"
      },
      {
        "duration": 119,
        "start_time": "2023-06-18T09:57:16.579Z"
      },
      {
        "duration": 13,
        "start_time": "2023-06-18T09:57:16.700Z"
      },
      {
        "duration": 10,
        "start_time": "2023-06-18T09:57:16.715Z"
      },
      {
        "duration": 470,
        "start_time": "2023-06-18T09:57:16.727Z"
      },
      {
        "duration": 18,
        "start_time": "2023-06-18T09:57:17.199Z"
      },
      {
        "duration": 8,
        "start_time": "2023-06-18T09:57:17.218Z"
      },
      {
        "duration": 56,
        "start_time": "2023-06-18T09:57:17.229Z"
      },
      {
        "duration": 5,
        "start_time": "2023-06-18T09:57:17.287Z"
      },
      {
        "duration": 7,
        "start_time": "2023-06-18T09:57:17.293Z"
      },
      {
        "duration": 224,
        "start_time": "2023-06-18T09:57:17.302Z"
      },
      {
        "duration": 3,
        "start_time": "2023-06-18T09:57:17.527Z"
      },
      {
        "duration": 43,
        "start_time": "2023-06-18T09:57:17.533Z"
      },
      {
        "duration": 5,
        "start_time": "2023-06-18T09:57:17.578Z"
      },
      {
        "duration": 144,
        "start_time": "2023-06-18T09:57:17.586Z"
      },
      {
        "duration": 44,
        "start_time": "2023-06-18T09:57:17.732Z"
      },
      {
        "duration": 38,
        "start_time": "2023-06-18T09:57:17.778Z"
      },
      {
        "duration": 41,
        "start_time": "2023-06-18T09:57:17.819Z"
      },
      {
        "duration": 9,
        "start_time": "2023-06-18T09:57:17.871Z"
      },
      {
        "duration": 8,
        "start_time": "2023-06-18T09:57:17.881Z"
      },
      {
        "duration": 2267,
        "start_time": "2023-06-18T09:57:17.891Z"
      },
      {
        "duration": 1965,
        "start_time": "2023-06-18T09:57:20.161Z"
      },
      {
        "duration": 2049,
        "start_time": "2023-06-18T09:57:22.128Z"
      },
      {
        "duration": 2117,
        "start_time": "2023-06-18T09:57:24.179Z"
      },
      {
        "duration": 152,
        "start_time": "2023-06-18T09:57:26.298Z"
      },
      {
        "duration": 4,
        "start_time": "2023-06-18T09:57:26.455Z"
      },
      {
        "duration": 1082,
        "start_time": "2023-06-18T09:57:26.462Z"
      },
      {
        "duration": 1268,
        "start_time": "2023-06-18T09:57:27.546Z"
      },
      {
        "duration": 4,
        "start_time": "2023-06-18T09:57:28.816Z"
      },
      {
        "duration": 24,
        "start_time": "2023-06-18T09:57:28.821Z"
      },
      {
        "duration": 3,
        "start_time": "2023-06-18T09:57:28.855Z"
      },
      {
        "duration": 16,
        "start_time": "2023-06-18T09:57:28.860Z"
      },
      {
        "duration": 13,
        "start_time": "2023-06-18T09:57:28.878Z"
      },
      {
        "duration": 9,
        "start_time": "2023-06-18T09:57:28.893Z"
      },
      {
        "duration": 16,
        "start_time": "2023-06-18T09:57:28.904Z"
      },
      {
        "duration": 12,
        "start_time": "2023-06-18T09:57:28.921Z"
      },
      {
        "duration": 3,
        "start_time": "2023-06-18T09:57:28.934Z"
      },
      {
        "duration": 1638,
        "start_time": "2023-06-18T09:57:28.939Z"
      },
      {
        "duration": 50104,
        "start_time": "2023-06-18T09:57:30.578Z"
      },
      {
        "duration": 0,
        "start_time": "2023-06-18T09:58:20.685Z"
      },
      {
        "duration": 0,
        "start_time": "2023-06-18T09:58:20.687Z"
      },
      {
        "duration": 0,
        "start_time": "2023-06-18T09:58:20.688Z"
      },
      {
        "duration": 35,
        "start_time": "2023-06-18T09:58:25.299Z"
      },
      {
        "duration": 9,
        "start_time": "2023-06-18T09:58:45.722Z"
      },
      {
        "duration": 31,
        "start_time": "2023-06-18T09:58:46.104Z"
      },
      {
        "duration": 3,
        "start_time": "2023-06-18T09:58:51.379Z"
      },
      {
        "duration": 4739,
        "start_time": "2023-06-18T09:58:51.816Z"
      },
      {
        "duration": 4,
        "start_time": "2023-06-18T09:59:03.610Z"
      },
      {
        "duration": 411,
        "start_time": "2023-06-18T09:59:03.618Z"
      },
      {
        "duration": 45,
        "start_time": "2023-06-18T09:59:04.032Z"
      },
      {
        "duration": 10,
        "start_time": "2023-06-18T09:59:04.082Z"
      },
      {
        "duration": 135,
        "start_time": "2023-06-18T09:59:04.095Z"
      },
      {
        "duration": 26,
        "start_time": "2023-06-18T09:59:04.232Z"
      },
      {
        "duration": 14,
        "start_time": "2023-06-18T09:59:04.274Z"
      },
      {
        "duration": 460,
        "start_time": "2023-06-18T09:59:04.291Z"
      },
      {
        "duration": 24,
        "start_time": "2023-06-18T09:59:04.753Z"
      },
      {
        "duration": 8,
        "start_time": "2023-06-18T09:59:04.785Z"
      },
      {
        "duration": 24,
        "start_time": "2023-06-18T09:59:04.796Z"
      },
      {
        "duration": 35,
        "start_time": "2023-06-18T09:59:04.822Z"
      },
      {
        "duration": 12,
        "start_time": "2023-06-18T09:59:04.859Z"
      },
      {
        "duration": 236,
        "start_time": "2023-06-18T09:59:04.874Z"
      },
      {
        "duration": 2,
        "start_time": "2023-06-18T09:59:05.112Z"
      },
      {
        "duration": 37,
        "start_time": "2023-06-18T09:59:05.116Z"
      },
      {
        "duration": 4,
        "start_time": "2023-06-18T09:59:05.155Z"
      },
      {
        "duration": 165,
        "start_time": "2023-06-18T09:59:05.161Z"
      },
      {
        "duration": 62,
        "start_time": "2023-06-18T09:59:05.328Z"
      },
      {
        "duration": 42,
        "start_time": "2023-06-18T09:59:05.392Z"
      },
      {
        "duration": 40,
        "start_time": "2023-06-18T09:59:05.436Z"
      },
      {
        "duration": 8,
        "start_time": "2023-06-18T09:59:05.479Z"
      },
      {
        "duration": 12,
        "start_time": "2023-06-18T09:59:05.490Z"
      },
      {
        "duration": 1955,
        "start_time": "2023-06-18T09:59:05.504Z"
      },
      {
        "duration": 2129,
        "start_time": "2023-06-18T09:59:07.462Z"
      },
      {
        "duration": 1696,
        "start_time": "2023-06-18T09:59:12.129Z"
      },
      {
        "duration": 409,
        "start_time": "2023-06-18T09:59:13.828Z"
      },
      {
        "duration": 33,
        "start_time": "2023-06-18T09:59:14.239Z"
      },
      {
        "duration": 12,
        "start_time": "2023-06-18T09:59:14.281Z"
      },
      {
        "duration": 123,
        "start_time": "2023-06-18T09:59:14.296Z"
      },
      {
        "duration": 33,
        "start_time": "2023-06-18T09:59:14.423Z"
      },
      {
        "duration": 7,
        "start_time": "2023-06-18T09:59:14.458Z"
      },
      {
        "duration": 470,
        "start_time": "2023-06-18T09:59:14.468Z"
      },
      {
        "duration": 32,
        "start_time": "2023-06-18T09:59:14.940Z"
      },
      {
        "duration": 12,
        "start_time": "2023-06-18T09:59:14.977Z"
      },
      {
        "duration": 30,
        "start_time": "2023-06-18T09:59:14.991Z"
      },
      {
        "duration": 16,
        "start_time": "2023-06-18T09:59:15.023Z"
      },
      {
        "duration": 19,
        "start_time": "2023-06-18T09:59:15.040Z"
      },
      {
        "duration": 219,
        "start_time": "2023-06-18T09:59:15.065Z"
      },
      {
        "duration": 3,
        "start_time": "2023-06-18T09:59:15.285Z"
      },
      {
        "duration": 44,
        "start_time": "2023-06-18T09:59:15.290Z"
      },
      {
        "duration": 11,
        "start_time": "2023-06-18T09:59:15.336Z"
      },
      {
        "duration": 158,
        "start_time": "2023-06-18T09:59:15.349Z"
      },
      {
        "duration": 49,
        "start_time": "2023-06-18T09:59:15.508Z"
      },
      {
        "duration": 43,
        "start_time": "2023-06-18T09:59:15.563Z"
      },
      {
        "duration": 22,
        "start_time": "2023-06-18T09:59:15.608Z"
      },
      {
        "duration": 7,
        "start_time": "2023-06-18T09:59:15.632Z"
      },
      {
        "duration": 5,
        "start_time": "2023-06-18T09:59:15.655Z"
      },
      {
        "duration": 2115,
        "start_time": "2023-06-18T09:59:15.662Z"
      },
      {
        "duration": 2092,
        "start_time": "2023-06-18T09:59:17.780Z"
      },
      {
        "duration": 1953,
        "start_time": "2023-06-18T09:59:19.875Z"
      },
      {
        "duration": 2068,
        "start_time": "2023-06-18T09:59:21.830Z"
      },
      {
        "duration": 169,
        "start_time": "2023-06-18T09:59:23.900Z"
      },
      {
        "duration": 8,
        "start_time": "2023-06-18T09:59:24.071Z"
      },
      {
        "duration": 1264,
        "start_time": "2023-06-18T09:59:24.081Z"
      },
      {
        "duration": 1335,
        "start_time": "2023-06-18T09:59:25.351Z"
      },
      {
        "duration": 4,
        "start_time": "2023-06-18T09:59:26.688Z"
      },
      {
        "duration": 24,
        "start_time": "2023-06-18T09:59:26.693Z"
      },
      {
        "duration": 3,
        "start_time": "2023-06-18T09:59:26.719Z"
      },
      {
        "duration": 5,
        "start_time": "2023-06-18T09:59:26.723Z"
      },
      {
        "duration": 29,
        "start_time": "2023-06-18T09:59:26.729Z"
      },
      {
        "duration": 54,
        "start_time": "2023-06-18T09:59:26.762Z"
      },
      {
        "duration": 12,
        "start_time": "2023-06-18T09:59:26.818Z"
      },
      {
        "duration": 46,
        "start_time": "2023-06-18T09:59:26.832Z"
      },
      {
        "duration": 5,
        "start_time": "2023-06-18T09:59:26.880Z"
      },
      {
        "duration": 5085,
        "start_time": "2023-06-18T09:59:26.890Z"
      },
      {
        "duration": 129076,
        "start_time": "2023-06-18T09:59:31.997Z"
      },
      {
        "duration": 0,
        "start_time": "2023-06-18T10:01:41.076Z"
      },
      {
        "duration": 0,
        "start_time": "2023-06-18T10:01:41.077Z"
      },
      {
        "duration": 0,
        "start_time": "2023-06-18T10:01:41.079Z"
      },
      {
        "duration": 4,
        "start_time": "2023-06-18T10:01:43.104Z"
      },
      {
        "duration": 13,
        "start_time": "2023-06-18T10:01:43.402Z"
      },
      {
        "duration": 13,
        "start_time": "2023-06-18T10:02:00.114Z"
      },
      {
        "duration": 14,
        "start_time": "2023-06-18T10:02:07.200Z"
      },
      {
        "duration": 78,
        "start_time": "2023-06-18T10:19:43.318Z"
      },
      {
        "duration": 26,
        "start_time": "2023-06-18T10:19:54.749Z"
      },
      {
        "duration": 5,
        "start_time": "2023-06-18T10:20:06.064Z"
      },
      {
        "duration": 353,
        "start_time": "2023-06-18T10:20:06.071Z"
      },
      {
        "duration": 29,
        "start_time": "2023-06-18T10:20:06.426Z"
      },
      {
        "duration": 14,
        "start_time": "2023-06-18T10:20:06.457Z"
      },
      {
        "duration": 138,
        "start_time": "2023-06-18T10:20:06.473Z"
      },
      {
        "duration": 12,
        "start_time": "2023-06-18T10:20:06.613Z"
      },
      {
        "duration": 5,
        "start_time": "2023-06-18T10:20:06.626Z"
      },
      {
        "duration": 599,
        "start_time": "2023-06-18T10:20:06.632Z"
      },
      {
        "duration": 22,
        "start_time": "2023-06-18T10:20:07.254Z"
      },
      {
        "duration": 8,
        "start_time": "2023-06-18T10:20:07.277Z"
      },
      {
        "duration": 27,
        "start_time": "2023-06-18T10:20:07.286Z"
      },
      {
        "duration": 5,
        "start_time": "2023-06-18T10:20:07.315Z"
      },
      {
        "duration": 35,
        "start_time": "2023-06-18T10:20:07.322Z"
      },
      {
        "duration": 206,
        "start_time": "2023-06-18T10:20:07.359Z"
      },
      {
        "duration": 4,
        "start_time": "2023-06-18T10:20:07.568Z"
      },
      {
        "duration": 19,
        "start_time": "2023-06-18T10:20:11.951Z"
      },
      {
        "duration": 15,
        "start_time": "2023-06-18T10:20:38.613Z"
      },
      {
        "duration": 11,
        "start_time": "2023-06-18T10:20:57.997Z"
      },
      {
        "duration": 11,
        "start_time": "2023-06-18T10:21:22.808Z"
      },
      {
        "duration": 10,
        "start_time": "2023-06-18T10:21:38.895Z"
      },
      {
        "duration": 10,
        "start_time": "2023-06-18T10:21:42.225Z"
      },
      {
        "duration": 5,
        "start_time": "2023-06-18T10:21:44.877Z"
      },
      {
        "duration": 3,
        "start_time": "2023-06-18T10:22:47.912Z"
      },
      {
        "duration": 4,
        "start_time": "2023-06-18T10:22:48.673Z"
      },
      {
        "duration": 2,
        "start_time": "2023-06-18T10:22:49.142Z"
      },
      {
        "duration": 13,
        "start_time": "2023-06-18T10:25:48.795Z"
      },
      {
        "duration": 12,
        "start_time": "2023-06-18T10:26:02.803Z"
      },
      {
        "duration": 5,
        "start_time": "2023-06-18T10:26:30.001Z"
      },
      {
        "duration": 413,
        "start_time": "2023-06-18T10:26:30.009Z"
      },
      {
        "duration": 27,
        "start_time": "2023-06-18T10:26:30.424Z"
      },
      {
        "duration": 16,
        "start_time": "2023-06-18T10:26:30.455Z"
      },
      {
        "duration": 139,
        "start_time": "2023-06-18T10:26:30.474Z"
      },
      {
        "duration": 12,
        "start_time": "2023-06-18T10:26:30.615Z"
      },
      {
        "duration": 34,
        "start_time": "2023-06-18T10:26:30.628Z"
      },
      {
        "duration": 459,
        "start_time": "2023-06-18T10:26:30.669Z"
      },
      {
        "duration": 33,
        "start_time": "2023-06-18T10:26:31.130Z"
      },
      {
        "duration": 56,
        "start_time": "2023-06-18T10:26:31.167Z"
      },
      {
        "duration": 46,
        "start_time": "2023-06-18T10:26:31.227Z"
      },
      {
        "duration": 27,
        "start_time": "2023-06-18T10:26:31.276Z"
      },
      {
        "duration": 53,
        "start_time": "2023-06-18T10:26:31.305Z"
      },
      {
        "duration": 232,
        "start_time": "2023-06-18T10:26:31.361Z"
      },
      {
        "duration": 22,
        "start_time": "2023-06-18T10:26:31.594Z"
      },
      {
        "duration": 32,
        "start_time": "2023-06-18T10:26:31.618Z"
      },
      {
        "duration": 152,
        "start_time": "2023-06-18T10:26:31.660Z"
      },
      {
        "duration": 23,
        "start_time": "2023-06-18T10:26:31.814Z"
      },
      {
        "duration": 55,
        "start_time": "2023-06-18T10:26:31.839Z"
      },
      {
        "duration": 15,
        "start_time": "2023-06-18T10:26:31.895Z"
      },
      {
        "duration": 7,
        "start_time": "2023-06-18T10:26:31.912Z"
      },
      {
        "duration": 8,
        "start_time": "2023-06-18T10:26:31.921Z"
      },
      {
        "duration": 2095,
        "start_time": "2023-06-18T10:26:31.931Z"
      },
      {
        "duration": 2080,
        "start_time": "2023-06-18T10:26:34.028Z"
      },
      {
        "duration": 2283,
        "start_time": "2023-06-18T10:26:36.110Z"
      },
      {
        "duration": 2188,
        "start_time": "2023-06-18T10:26:38.395Z"
      },
      {
        "duration": 181,
        "start_time": "2023-06-18T10:26:40.586Z"
      },
      {
        "duration": 7,
        "start_time": "2023-06-18T10:26:40.771Z"
      },
      {
        "duration": 1080,
        "start_time": "2023-06-18T10:26:40.783Z"
      },
      {
        "duration": 1224,
        "start_time": "2023-06-18T10:26:41.865Z"
      },
      {
        "duration": 0,
        "start_time": "2023-06-18T10:26:43.091Z"
      },
      {
        "duration": 0,
        "start_time": "2023-06-18T10:26:43.092Z"
      },
      {
        "duration": 0,
        "start_time": "2023-06-18T10:26:43.093Z"
      },
      {
        "duration": 0,
        "start_time": "2023-06-18T10:26:43.094Z"
      },
      {
        "duration": 1,
        "start_time": "2023-06-18T10:26:43.095Z"
      },
      {
        "duration": 0,
        "start_time": "2023-06-18T10:26:43.097Z"
      },
      {
        "duration": 0,
        "start_time": "2023-06-18T10:26:43.098Z"
      },
      {
        "duration": 0,
        "start_time": "2023-06-18T10:26:43.099Z"
      },
      {
        "duration": 0,
        "start_time": "2023-06-18T10:26:43.100Z"
      },
      {
        "duration": 0,
        "start_time": "2023-06-18T10:26:43.101Z"
      },
      {
        "duration": 0,
        "start_time": "2023-06-18T10:26:43.103Z"
      },
      {
        "duration": 0,
        "start_time": "2023-06-18T10:26:43.104Z"
      },
      {
        "duration": 0,
        "start_time": "2023-06-18T10:26:43.105Z"
      },
      {
        "duration": 7,
        "start_time": "2023-06-18T10:30:40.731Z"
      },
      {
        "duration": 7,
        "start_time": "2023-06-18T10:30:41.677Z"
      },
      {
        "duration": 2197,
        "start_time": "2023-06-18T10:30:43.079Z"
      },
      {
        "duration": 2254,
        "start_time": "2023-06-18T10:30:48.710Z"
      },
      {
        "duration": 2079,
        "start_time": "2023-06-18T10:30:50.972Z"
      },
      {
        "duration": 2293,
        "start_time": "2023-06-18T10:30:53.053Z"
      },
      {
        "duration": 157,
        "start_time": "2023-06-18T10:30:55.351Z"
      },
      {
        "duration": 1044,
        "start_time": "2023-06-18T10:31:10.291Z"
      },
      {
        "duration": 5,
        "start_time": "2023-06-18T10:31:26.295Z"
      },
      {
        "duration": 1247,
        "start_time": "2023-06-18T10:31:26.610Z"
      },
      {
        "duration": 1857,
        "start_time": "2023-06-18T10:31:42.861Z"
      },
      {
        "duration": 418,
        "start_time": "2023-06-18T10:31:44.728Z"
      },
      {
        "duration": 28,
        "start_time": "2023-06-18T10:31:45.149Z"
      },
      {
        "duration": 24,
        "start_time": "2023-06-18T10:31:45.181Z"
      },
      {
        "duration": 122,
        "start_time": "2023-06-18T10:31:45.207Z"
      },
      {
        "duration": 12,
        "start_time": "2023-06-18T10:31:45.331Z"
      },
      {
        "duration": 9,
        "start_time": "2023-06-18T10:31:45.354Z"
      },
      {
        "duration": 477,
        "start_time": "2023-06-18T10:31:45.364Z"
      },
      {
        "duration": 29,
        "start_time": "2023-06-18T10:31:45.843Z"
      },
      {
        "duration": 9,
        "start_time": "2023-06-18T10:31:45.880Z"
      },
      {
        "duration": 29,
        "start_time": "2023-06-18T10:31:45.891Z"
      },
      {
        "duration": 5,
        "start_time": "2023-06-18T10:31:45.922Z"
      },
      {
        "duration": 31,
        "start_time": "2023-06-18T10:31:45.929Z"
      },
      {
        "duration": 222,
        "start_time": "2023-06-18T10:31:45.969Z"
      },
      {
        "duration": 4,
        "start_time": "2023-06-18T10:31:46.192Z"
      },
      {
        "duration": 16,
        "start_time": "2023-06-18T10:31:46.197Z"
      },
      {
        "duration": 163,
        "start_time": "2023-06-18T10:31:46.215Z"
      },
      {
        "duration": 23,
        "start_time": "2023-06-18T10:31:46.380Z"
      },
      {
        "duration": 32,
        "start_time": "2023-06-18T10:31:46.405Z"
      },
      {
        "duration": 27,
        "start_time": "2023-06-18T10:31:46.450Z"
      },
      {
        "duration": 9,
        "start_time": "2023-06-18T10:31:46.482Z"
      },
      {
        "duration": 23,
        "start_time": "2023-06-18T10:31:46.494Z"
      },
      {
        "duration": 2018,
        "start_time": "2023-06-18T10:31:46.518Z"
      },
      {
        "duration": 2140,
        "start_time": "2023-06-18T10:31:48.538Z"
      },
      {
        "duration": 2056,
        "start_time": "2023-06-18T10:31:50.680Z"
      },
      {
        "duration": 2167,
        "start_time": "2023-06-18T10:31:52.738Z"
      },
      {
        "duration": 175,
        "start_time": "2023-06-18T10:31:54.907Z"
      },
      {
        "duration": 19,
        "start_time": "2023-06-18T10:31:55.086Z"
      },
      {
        "duration": 1092,
        "start_time": "2023-06-18T10:31:55.107Z"
      },
      {
        "duration": 4,
        "start_time": "2023-06-18T10:31:56.200Z"
      },
      {
        "duration": 139,
        "start_time": "2023-06-18T10:31:56.205Z"
      },
      {
        "duration": 0,
        "start_time": "2023-06-18T10:31:56.349Z"
      },
      {
        "duration": 0,
        "start_time": "2023-06-18T10:31:56.351Z"
      },
      {
        "duration": 0,
        "start_time": "2023-06-18T10:31:56.352Z"
      },
      {
        "duration": 0,
        "start_time": "2023-06-18T10:31:56.353Z"
      },
      {
        "duration": 0,
        "start_time": "2023-06-18T10:31:56.357Z"
      },
      {
        "duration": 0,
        "start_time": "2023-06-18T10:31:56.358Z"
      },
      {
        "duration": 0,
        "start_time": "2023-06-18T10:31:56.359Z"
      },
      {
        "duration": 0,
        "start_time": "2023-06-18T10:31:56.361Z"
      },
      {
        "duration": 0,
        "start_time": "2023-06-18T10:31:56.363Z"
      },
      {
        "duration": 1,
        "start_time": "2023-06-18T10:31:56.364Z"
      },
      {
        "duration": 0,
        "start_time": "2023-06-18T10:31:56.366Z"
      },
      {
        "duration": 19,
        "start_time": "2023-06-18T10:32:52.878Z"
      },
      {
        "duration": 29,
        "start_time": "2023-06-18T10:34:57.555Z"
      },
      {
        "duration": 27,
        "start_time": "2023-06-18T10:36:23.773Z"
      },
      {
        "duration": 31,
        "start_time": "2023-06-18T10:36:41.331Z"
      },
      {
        "duration": 3,
        "start_time": "2023-06-18T10:40:00.702Z"
      },
      {
        "duration": 3,
        "start_time": "2023-06-18T10:40:51.776Z"
      },
      {
        "duration": 13,
        "start_time": "2023-06-18T10:47:03.510Z"
      },
      {
        "duration": 3,
        "start_time": "2023-06-18T10:47:06.718Z"
      },
      {
        "duration": 9,
        "start_time": "2023-06-18T10:47:06.876Z"
      },
      {
        "duration": 14,
        "start_time": "2023-06-18T10:48:16.165Z"
      },
      {
        "duration": 3,
        "start_time": "2023-06-18T10:48:21.722Z"
      },
      {
        "duration": 3,
        "start_time": "2023-06-18T10:48:21.914Z"
      },
      {
        "duration": 247,
        "start_time": "2023-06-18T10:52:04.075Z"
      },
      {
        "duration": 1654,
        "start_time": "2023-06-18T10:52:20.124Z"
      },
      {
        "duration": 392,
        "start_time": "2023-06-18T10:52:21.780Z"
      },
      {
        "duration": 20,
        "start_time": "2023-06-18T10:52:22.174Z"
      },
      {
        "duration": 8,
        "start_time": "2023-06-18T10:52:22.195Z"
      },
      {
        "duration": 122,
        "start_time": "2023-06-18T10:52:22.205Z"
      },
      {
        "duration": 13,
        "start_time": "2023-06-18T10:52:22.329Z"
      },
      {
        "duration": 15,
        "start_time": "2023-06-18T10:52:22.350Z"
      },
      {
        "duration": 491,
        "start_time": "2023-06-18T10:52:22.375Z"
      },
      {
        "duration": 25,
        "start_time": "2023-06-18T10:52:22.867Z"
      },
      {
        "duration": 19,
        "start_time": "2023-06-18T10:52:22.894Z"
      },
      {
        "duration": 29,
        "start_time": "2023-06-18T10:52:22.915Z"
      },
      {
        "duration": 22,
        "start_time": "2023-06-18T10:52:22.951Z"
      },
      {
        "duration": 25,
        "start_time": "2023-06-18T10:52:22.975Z"
      },
      {
        "duration": 233,
        "start_time": "2023-06-18T10:52:23.004Z"
      },
      {
        "duration": 16,
        "start_time": "2023-06-18T10:52:23.239Z"
      },
      {
        "duration": 24,
        "start_time": "2023-06-18T10:52:23.263Z"
      },
      {
        "duration": 195,
        "start_time": "2023-06-18T10:52:23.289Z"
      },
      {
        "duration": 33,
        "start_time": "2023-06-18T10:52:23.495Z"
      },
      {
        "duration": 40,
        "start_time": "2023-06-18T10:52:23.530Z"
      },
      {
        "duration": 19,
        "start_time": "2023-06-18T10:52:23.572Z"
      },
      {
        "duration": 49,
        "start_time": "2023-06-18T10:52:23.593Z"
      },
      {
        "duration": 71,
        "start_time": "2023-06-18T10:52:23.644Z"
      },
      {
        "duration": 2189,
        "start_time": "2023-06-18T10:52:23.717Z"
      },
      {
        "duration": 2134,
        "start_time": "2023-06-18T10:52:25.908Z"
      },
      {
        "duration": 2026,
        "start_time": "2023-06-18T10:52:28.043Z"
      },
      {
        "duration": 2111,
        "start_time": "2023-06-18T10:52:30.070Z"
      },
      {
        "duration": 149,
        "start_time": "2023-06-18T10:52:32.184Z"
      },
      {
        "duration": 5,
        "start_time": "2023-06-18T10:52:32.334Z"
      },
      {
        "duration": 1388,
        "start_time": "2023-06-18T10:52:32.340Z"
      },
      {
        "duration": 3,
        "start_time": "2023-06-18T10:52:33.730Z"
      },
      {
        "duration": 39,
        "start_time": "2023-06-18T10:52:33.735Z"
      },
      {
        "duration": 3,
        "start_time": "2023-06-18T10:52:33.780Z"
      },
      {
        "duration": 8,
        "start_time": "2023-06-18T10:52:33.784Z"
      },
      {
        "duration": 12,
        "start_time": "2023-06-18T10:52:33.794Z"
      },
      {
        "duration": 29,
        "start_time": "2023-06-18T10:52:33.808Z"
      },
      {
        "duration": 39,
        "start_time": "2023-06-18T10:52:33.839Z"
      },
      {
        "duration": 61,
        "start_time": "2023-06-18T10:52:33.883Z"
      },
      {
        "duration": 147,
        "start_time": "2023-06-18T10:52:33.946Z"
      },
      {
        "duration": 0,
        "start_time": "2023-06-18T10:52:34.095Z"
      },
      {
        "duration": 0,
        "start_time": "2023-06-18T10:52:34.096Z"
      },
      {
        "duration": 33,
        "start_time": "2023-06-18T10:53:04.856Z"
      },
      {
        "duration": 3,
        "start_time": "2023-06-18T10:53:17.723Z"
      },
      {
        "duration": 7,
        "start_time": "2023-06-18T10:53:18.267Z"
      },
      {
        "duration": 25,
        "start_time": "2023-06-18T10:53:19.015Z"
      },
      {
        "duration": 10,
        "start_time": "2023-06-18T10:53:25.633Z"
      },
      {
        "duration": 8514,
        "start_time": "2023-06-18T10:53:30.263Z"
      },
      {
        "duration": 109416,
        "start_time": "2023-06-18T10:56:43.195Z"
      },
      {
        "duration": 1106482,
        "start_time": "2023-06-18T10:59:15.813Z"
      },
      {
        "duration": 11,
        "start_time": "2023-06-18T11:19:55.404Z"
      },
      {
        "duration": 5,
        "start_time": "2023-06-18T11:20:02.293Z"
      },
      {
        "duration": 442,
        "start_time": "2023-06-18T11:20:02.300Z"
      },
      {
        "duration": 34,
        "start_time": "2023-06-18T11:20:02.744Z"
      },
      {
        "duration": 11,
        "start_time": "2023-06-18T11:20:02.782Z"
      },
      {
        "duration": 113,
        "start_time": "2023-06-18T11:20:02.795Z"
      },
      {
        "duration": 16,
        "start_time": "2023-06-18T11:20:02.911Z"
      },
      {
        "duration": 10,
        "start_time": "2023-06-18T11:20:02.929Z"
      },
      {
        "duration": 488,
        "start_time": "2023-06-18T11:20:02.940Z"
      },
      {
        "duration": 36,
        "start_time": "2023-06-18T11:20:03.430Z"
      },
      {
        "duration": 10,
        "start_time": "2023-06-18T11:20:03.475Z"
      },
      {
        "duration": 21,
        "start_time": "2023-06-18T11:20:03.487Z"
      },
      {
        "duration": 5,
        "start_time": "2023-06-18T11:20:03.510Z"
      },
      {
        "duration": 7,
        "start_time": "2023-06-18T11:20:03.516Z"
      },
      {
        "duration": 185,
        "start_time": "2023-06-18T11:20:03.526Z"
      },
      {
        "duration": 3,
        "start_time": "2023-06-18T11:20:03.712Z"
      },
      {
        "duration": 15,
        "start_time": "2023-06-18T11:20:03.716Z"
      },
      {
        "duration": 158,
        "start_time": "2023-06-18T11:20:03.733Z"
      },
      {
        "duration": 23,
        "start_time": "2023-06-18T11:20:03.893Z"
      },
      {
        "duration": 56,
        "start_time": "2023-06-18T11:20:03.918Z"
      },
      {
        "duration": 22,
        "start_time": "2023-06-18T11:20:03.981Z"
      },
      {
        "duration": 9,
        "start_time": "2023-06-18T11:20:04.005Z"
      },
      {
        "duration": 8,
        "start_time": "2023-06-18T11:20:04.016Z"
      },
      {
        "duration": 2083,
        "start_time": "2023-06-18T11:20:04.026Z"
      },
      {
        "duration": 2079,
        "start_time": "2023-06-18T11:20:06.111Z"
      },
      {
        "duration": 2033,
        "start_time": "2023-06-18T11:20:08.192Z"
      },
      {
        "duration": 1907,
        "start_time": "2023-06-18T11:20:10.227Z"
      },
      {
        "duration": 154,
        "start_time": "2023-06-18T11:20:12.136Z"
      },
      {
        "duration": 4,
        "start_time": "2023-06-18T11:20:12.292Z"
      },
      {
        "duration": 1219,
        "start_time": "2023-06-18T11:20:12.297Z"
      },
      {
        "duration": 4,
        "start_time": "2023-06-18T11:20:13.517Z"
      },
      {
        "duration": 38,
        "start_time": "2023-06-18T11:20:13.522Z"
      },
      {
        "duration": 3,
        "start_time": "2023-06-18T11:20:13.561Z"
      },
      {
        "duration": 7,
        "start_time": "2023-06-18T11:20:13.566Z"
      },
      {
        "duration": 9,
        "start_time": "2023-06-18T11:20:13.574Z"
      },
      {
        "duration": 3,
        "start_time": "2023-06-18T11:20:13.585Z"
      },
      {
        "duration": 14,
        "start_time": "2023-06-18T11:20:13.589Z"
      },
      {
        "duration": 6,
        "start_time": "2023-06-18T11:20:13.605Z"
      },
      {
        "duration": 6076,
        "start_time": "2023-06-18T11:20:13.613Z"
      },
      {
        "duration": 3,
        "start_time": "2023-06-18T11:20:19.691Z"
      },
      {
        "duration": 281145,
        "start_time": "2023-06-18T11:20:19.753Z"
      },
      {
        "duration": 60,
        "start_time": "2023-06-18T11:25:00.901Z"
      },
      {
        "duration": 3,
        "start_time": "2023-06-18T11:25:57.372Z"
      },
      {
        "duration": 23247,
        "start_time": "2023-06-18T11:26:06.864Z"
      },
      {
        "duration": 23142,
        "start_time": "2023-06-18T11:27:10.533Z"
      },
      {
        "duration": 23435,
        "start_time": "2023-06-18T11:28:25.758Z"
      },
      {
        "duration": 23226,
        "start_time": "2023-06-18T11:29:06.417Z"
      },
      {
        "duration": 23871,
        "start_time": "2023-06-18T11:30:38.570Z"
      },
      {
        "duration": 48600,
        "start_time": "2023-06-18T11:31:49.891Z"
      },
      {
        "duration": 47262,
        "start_time": "2023-06-18T11:37:03.522Z"
      },
      {
        "duration": 1031883,
        "start_time": "2023-06-18T11:45:10.733Z"
      },
      {
        "duration": 513579,
        "start_time": "2023-06-18T12:04:35.299Z"
      },
      {
        "duration": 4,
        "start_time": "2023-06-18T12:13:08.880Z"
      },
      {
        "duration": 510587,
        "start_time": "2023-06-18T12:23:28.993Z"
      },
      {
        "duration": 1721219,
        "start_time": "2023-06-18T13:02:50.562Z"
      },
      {
        "duration": 1697899,
        "start_time": "2023-06-18T13:31:31.783Z"
      },
      {
        "duration": 1993,
        "start_time": "2023-06-19T18:35:33.230Z"
      },
      {
        "duration": 1318,
        "start_time": "2023-06-19T18:35:35.226Z"
      },
      {
        "duration": 23,
        "start_time": "2023-06-19T18:35:36.546Z"
      },
      {
        "duration": 16,
        "start_time": "2023-06-19T18:35:36.571Z"
      },
      {
        "duration": 428,
        "start_time": "2023-06-19T18:35:36.590Z"
      },
      {
        "duration": 14,
        "start_time": "2023-06-19T18:35:37.020Z"
      },
      {
        "duration": 5,
        "start_time": "2023-06-19T18:35:37.036Z"
      },
      {
        "duration": 1631,
        "start_time": "2023-06-19T18:35:37.043Z"
      },
      {
        "duration": 23,
        "start_time": "2023-06-19T18:35:38.677Z"
      },
      {
        "duration": 19,
        "start_time": "2023-06-19T18:35:38.702Z"
      },
      {
        "duration": 37,
        "start_time": "2023-06-19T18:35:38.724Z"
      },
      {
        "duration": 6,
        "start_time": "2023-06-19T18:35:38.763Z"
      },
      {
        "duration": 24,
        "start_time": "2023-06-19T18:35:38.771Z"
      },
      {
        "duration": 200,
        "start_time": "2023-06-19T18:35:38.798Z"
      },
      {
        "duration": 3,
        "start_time": "2023-06-19T18:35:39.000Z"
      },
      {
        "duration": 66,
        "start_time": "2023-06-19T18:35:39.005Z"
      },
      {
        "duration": 141,
        "start_time": "2023-06-19T18:35:39.073Z"
      },
      {
        "duration": 25,
        "start_time": "2023-06-19T18:35:39.216Z"
      },
      {
        "duration": 33,
        "start_time": "2023-06-19T18:35:39.243Z"
      },
      {
        "duration": 15,
        "start_time": "2023-06-19T18:35:39.278Z"
      },
      {
        "duration": 7,
        "start_time": "2023-06-19T18:35:39.295Z"
      },
      {
        "duration": 9,
        "start_time": "2023-06-19T18:35:39.305Z"
      },
      {
        "duration": 2217,
        "start_time": "2023-06-19T18:35:39.316Z"
      },
      {
        "duration": 2148,
        "start_time": "2023-06-19T18:35:41.536Z"
      },
      {
        "duration": 1886,
        "start_time": "2023-06-19T18:35:43.686Z"
      },
      {
        "duration": 2164,
        "start_time": "2023-06-19T18:35:45.574Z"
      },
      {
        "duration": 171,
        "start_time": "2023-06-19T18:35:47.740Z"
      },
      {
        "duration": 6,
        "start_time": "2023-06-19T18:35:47.913Z"
      },
      {
        "duration": 1236,
        "start_time": "2023-06-19T18:35:47.921Z"
      },
      {
        "duration": 4,
        "start_time": "2023-06-19T18:35:49.159Z"
      },
      {
        "duration": 39,
        "start_time": "2023-06-19T18:35:49.165Z"
      },
      {
        "duration": 3,
        "start_time": "2023-06-19T18:35:49.206Z"
      },
      {
        "duration": 5,
        "start_time": "2023-06-19T18:35:49.211Z"
      },
      {
        "duration": 4,
        "start_time": "2023-06-19T18:35:49.218Z"
      },
      {
        "duration": 5,
        "start_time": "2023-06-19T18:35:49.225Z"
      },
      {
        "duration": 30,
        "start_time": "2023-06-19T18:35:49.232Z"
      },
      {
        "duration": 9,
        "start_time": "2023-06-19T18:35:49.265Z"
      },
      {
        "duration": 3183,
        "start_time": "2023-06-19T18:35:49.276Z"
      },
      {
        "duration": 45747,
        "start_time": "2023-06-19T18:35:52.463Z"
      },
      {
        "duration": 1617522,
        "start_time": "2023-06-19T18:36:38.212Z"
      },
      {
        "duration": 1632994,
        "start_time": "2023-06-19T19:03:35.739Z"
      },
      {
        "duration": 760,
        "start_time": "2023-06-19T19:30:48.735Z"
      },
      {
        "duration": 0,
        "start_time": "2023-06-19T19:30:49.498Z"
      },
      {
        "duration": 494,
        "start_time": "2023-06-19T19:31:14.394Z"
      },
      {
        "duration": 413541,
        "start_time": "2023-06-19T19:31:38.425Z"
      },
      {
        "duration": 414539,
        "start_time": "2023-06-19T19:39:56.444Z"
      },
      {
        "duration": 16,
        "start_time": "2023-06-19T19:47:06.144Z"
      },
      {
        "duration": 10,
        "start_time": "2023-06-19T19:47:12.041Z"
      },
      {
        "duration": 1344,
        "start_time": "2023-06-19T19:47:22.398Z"
      },
      {
        "duration": 638,
        "start_time": "2023-06-19T19:50:18.369Z"
      },
      {
        "duration": 111,
        "start_time": "2023-06-19T19:50:36.148Z"
      },
      {
        "duration": 14,
        "start_time": "2023-06-19T19:50:43.055Z"
      },
      {
        "duration": 619,
        "start_time": "2023-06-19T19:50:50.615Z"
      },
      {
        "duration": 0,
        "start_time": "2023-06-19T19:50:51.236Z"
      },
      {
        "duration": 1421,
        "start_time": "2023-06-19T19:51:24.634Z"
      },
      {
        "duration": 1192,
        "start_time": "2023-06-19T19:51:52.755Z"
      },
      {
        "duration": 1122,
        "start_time": "2023-06-19T19:55:17.124Z"
      },
      {
        "duration": 519,
        "start_time": "2023-06-19T19:55:26.001Z"
      },
      {
        "duration": 100652,
        "start_time": "2023-06-19T19:55:35.230Z"
      },
      {
        "duration": 525,
        "start_time": "2023-06-19T19:57:23.191Z"
      },
      {
        "duration": 12,
        "start_time": "2023-06-19T19:59:10.941Z"
      },
      {
        "duration": 14,
        "start_time": "2023-06-19T19:59:28.196Z"
      },
      {
        "duration": 19,
        "start_time": "2023-06-19T19:59:47.817Z"
      },
      {
        "duration": 18,
        "start_time": "2023-06-19T20:00:07.693Z"
      },
      {
        "duration": 176641,
        "start_time": "2023-06-19T20:04:44.589Z"
      },
      {
        "duration": 167611,
        "start_time": "2023-06-19T20:07:41.233Z"
      },
      {
        "duration": 112180,
        "start_time": "2023-06-19T20:12:07.930Z"
      },
      {
        "duration": 103238,
        "start_time": "2023-06-19T20:14:00.112Z"
      },
      {
        "duration": 1536,
        "start_time": "2023-06-19T20:20:09.701Z"
      },
      {
        "duration": 336,
        "start_time": "2023-06-19T20:20:11.239Z"
      },
      {
        "duration": 18,
        "start_time": "2023-06-19T20:20:11.576Z"
      },
      {
        "duration": 8,
        "start_time": "2023-06-19T20:20:11.596Z"
      },
      {
        "duration": 118,
        "start_time": "2023-06-19T20:20:11.606Z"
      },
      {
        "duration": 17,
        "start_time": "2023-06-19T20:20:11.726Z"
      },
      {
        "duration": 6,
        "start_time": "2023-06-19T20:20:11.756Z"
      },
      {
        "duration": 490,
        "start_time": "2023-06-19T20:20:11.764Z"
      },
      {
        "duration": 21,
        "start_time": "2023-06-19T20:20:12.256Z"
      },
      {
        "duration": 8,
        "start_time": "2023-06-19T20:20:12.279Z"
      },
      {
        "duration": 36,
        "start_time": "2023-06-19T20:20:12.288Z"
      },
      {
        "duration": 9,
        "start_time": "2023-06-19T20:20:12.326Z"
      },
      {
        "duration": 24,
        "start_time": "2023-06-19T20:20:12.337Z"
      },
      {
        "duration": 196,
        "start_time": "2023-06-19T20:20:12.365Z"
      },
      {
        "duration": 5,
        "start_time": "2023-06-19T20:20:12.563Z"
      },
      {
        "duration": 28,
        "start_time": "2023-06-19T20:20:12.570Z"
      },
      {
        "duration": 139,
        "start_time": "2023-06-19T20:20:12.599Z"
      },
      {
        "duration": 32,
        "start_time": "2023-06-19T20:20:12.740Z"
      },
      {
        "duration": 198,
        "start_time": "2023-06-19T20:20:12.773Z"
      },
      {
        "duration": 0,
        "start_time": "2023-06-19T20:20:12.973Z"
      },
      {
        "duration": 0,
        "start_time": "2023-06-19T20:20:12.974Z"
      },
      {
        "duration": 0,
        "start_time": "2023-06-19T20:20:12.975Z"
      },
      {
        "duration": 0,
        "start_time": "2023-06-19T20:20:12.976Z"
      },
      {
        "duration": 0,
        "start_time": "2023-06-19T20:20:12.977Z"
      },
      {
        "duration": 0,
        "start_time": "2023-06-19T20:20:12.979Z"
      },
      {
        "duration": 0,
        "start_time": "2023-06-19T20:20:12.980Z"
      },
      {
        "duration": 0,
        "start_time": "2023-06-19T20:20:12.981Z"
      },
      {
        "duration": 0,
        "start_time": "2023-06-19T20:20:12.982Z"
      },
      {
        "duration": 0,
        "start_time": "2023-06-19T20:20:12.983Z"
      },
      {
        "duration": 0,
        "start_time": "2023-06-19T20:20:12.984Z"
      },
      {
        "duration": 0,
        "start_time": "2023-06-19T20:20:12.986Z"
      },
      {
        "duration": 0,
        "start_time": "2023-06-19T20:20:12.988Z"
      },
      {
        "duration": 0,
        "start_time": "2023-06-19T20:20:12.990Z"
      },
      {
        "duration": 0,
        "start_time": "2023-06-19T20:20:12.993Z"
      },
      {
        "duration": 0,
        "start_time": "2023-06-19T20:20:12.994Z"
      },
      {
        "duration": 0,
        "start_time": "2023-06-19T20:20:12.995Z"
      },
      {
        "duration": 0,
        "start_time": "2023-06-19T20:20:12.996Z"
      },
      {
        "duration": 0,
        "start_time": "2023-06-19T20:20:12.998Z"
      },
      {
        "duration": 0,
        "start_time": "2023-06-19T20:20:12.999Z"
      },
      {
        "duration": 0,
        "start_time": "2023-06-19T20:20:13.001Z"
      },
      {
        "duration": 0,
        "start_time": "2023-06-19T20:20:13.002Z"
      },
      {
        "duration": 1576,
        "start_time": "2023-06-19T20:20:25.816Z"
      },
      {
        "duration": 349,
        "start_time": "2023-06-19T20:20:27.394Z"
      },
      {
        "duration": 20,
        "start_time": "2023-06-19T20:20:27.744Z"
      },
      {
        "duration": 8,
        "start_time": "2023-06-19T20:20:27.766Z"
      },
      {
        "duration": 123,
        "start_time": "2023-06-19T20:20:27.776Z"
      },
      {
        "duration": 14,
        "start_time": "2023-06-19T20:20:27.901Z"
      },
      {
        "duration": 5,
        "start_time": "2023-06-19T20:20:27.916Z"
      },
      {
        "duration": 427,
        "start_time": "2023-06-19T20:20:27.923Z"
      },
      {
        "duration": 23,
        "start_time": "2023-06-19T20:20:28.352Z"
      },
      {
        "duration": 11,
        "start_time": "2023-06-19T20:20:28.379Z"
      },
      {
        "duration": 27,
        "start_time": "2023-06-19T20:20:28.392Z"
      },
      {
        "duration": 5,
        "start_time": "2023-06-19T20:20:28.421Z"
      },
      {
        "duration": 10,
        "start_time": "2023-06-19T20:20:28.456Z"
      },
      {
        "duration": 202,
        "start_time": "2023-06-19T20:20:28.469Z"
      },
      {
        "duration": 9,
        "start_time": "2023-06-19T20:20:28.673Z"
      },
      {
        "duration": 30,
        "start_time": "2023-06-19T20:20:28.684Z"
      },
      {
        "duration": 144,
        "start_time": "2023-06-19T20:20:28.716Z"
      },
      {
        "duration": 25,
        "start_time": "2023-06-19T20:20:28.862Z"
      },
      {
        "duration": 214,
        "start_time": "2023-06-19T20:20:28.889Z"
      },
      {
        "duration": 0,
        "start_time": "2023-06-19T20:20:29.105Z"
      },
      {
        "duration": 0,
        "start_time": "2023-06-19T20:20:29.106Z"
      },
      {
        "duration": 0,
        "start_time": "2023-06-19T20:20:29.107Z"
      },
      {
        "duration": 0,
        "start_time": "2023-06-19T20:20:29.108Z"
      },
      {
        "duration": 0,
        "start_time": "2023-06-19T20:20:29.110Z"
      },
      {
        "duration": 0,
        "start_time": "2023-06-19T20:20:29.111Z"
      },
      {
        "duration": 0,
        "start_time": "2023-06-19T20:20:29.112Z"
      },
      {
        "duration": 0,
        "start_time": "2023-06-19T20:20:29.113Z"
      },
      {
        "duration": 0,
        "start_time": "2023-06-19T20:20:29.115Z"
      },
      {
        "duration": 0,
        "start_time": "2023-06-19T20:20:29.116Z"
      },
      {
        "duration": 0,
        "start_time": "2023-06-19T20:20:29.118Z"
      },
      {
        "duration": 0,
        "start_time": "2023-06-19T20:20:29.119Z"
      },
      {
        "duration": 0,
        "start_time": "2023-06-19T20:20:29.120Z"
      },
      {
        "duration": 0,
        "start_time": "2023-06-19T20:20:29.122Z"
      },
      {
        "duration": 0,
        "start_time": "2023-06-19T20:20:29.124Z"
      },
      {
        "duration": 0,
        "start_time": "2023-06-19T20:20:29.125Z"
      },
      {
        "duration": 0,
        "start_time": "2023-06-19T20:20:29.127Z"
      },
      {
        "duration": 0,
        "start_time": "2023-06-19T20:20:29.128Z"
      },
      {
        "duration": 0,
        "start_time": "2023-06-19T20:20:29.130Z"
      },
      {
        "duration": 0,
        "start_time": "2023-06-19T20:20:29.131Z"
      },
      {
        "duration": 0,
        "start_time": "2023-06-19T20:20:29.133Z"
      },
      {
        "duration": 0,
        "start_time": "2023-06-19T20:20:29.134Z"
      },
      {
        "duration": 14,
        "start_time": "2023-06-19T20:22:18.178Z"
      },
      {
        "duration": 15,
        "start_time": "2023-06-19T20:22:25.651Z"
      },
      {
        "duration": 4,
        "start_time": "2023-06-19T20:22:34.430Z"
      },
      {
        "duration": 356,
        "start_time": "2023-06-19T20:22:34.436Z"
      },
      {
        "duration": 16,
        "start_time": "2023-06-19T20:22:34.794Z"
      },
      {
        "duration": 8,
        "start_time": "2023-06-19T20:22:34.813Z"
      },
      {
        "duration": 112,
        "start_time": "2023-06-19T20:22:34.823Z"
      },
      {
        "duration": 22,
        "start_time": "2023-06-19T20:22:34.937Z"
      },
      {
        "duration": 6,
        "start_time": "2023-06-19T20:22:34.961Z"
      },
      {
        "duration": 380,
        "start_time": "2023-06-19T20:22:34.969Z"
      },
      {
        "duration": 20,
        "start_time": "2023-06-19T20:22:35.352Z"
      },
      {
        "duration": 15,
        "start_time": "2023-06-19T20:22:35.374Z"
      },
      {
        "duration": 48,
        "start_time": "2023-06-19T20:22:35.391Z"
      },
      {
        "duration": 5,
        "start_time": "2023-06-19T20:22:35.441Z"
      },
      {
        "duration": 31,
        "start_time": "2023-06-19T20:22:35.448Z"
      },
      {
        "duration": 231,
        "start_time": "2023-06-19T20:22:35.480Z"
      },
      {
        "duration": 10,
        "start_time": "2023-06-19T20:22:35.713Z"
      },
      {
        "duration": 38,
        "start_time": "2023-06-19T20:22:35.724Z"
      },
      {
        "duration": 141,
        "start_time": "2023-06-19T20:22:35.763Z"
      },
      {
        "duration": 23,
        "start_time": "2023-06-19T20:22:35.906Z"
      },
      {
        "duration": 13,
        "start_time": "2023-06-19T20:22:37.619Z"
      },
      {
        "duration": 13,
        "start_time": "2023-06-19T20:22:44.924Z"
      },
      {
        "duration": 15,
        "start_time": "2023-06-19T20:22:54.447Z"
      },
      {
        "duration": 5,
        "start_time": "2023-06-19T20:23:01.591Z"
      },
      {
        "duration": 415,
        "start_time": "2023-06-19T20:23:01.599Z"
      },
      {
        "duration": 17,
        "start_time": "2023-06-19T20:23:02.016Z"
      },
      {
        "duration": 22,
        "start_time": "2023-06-19T20:23:02.036Z"
      },
      {
        "duration": 136,
        "start_time": "2023-06-19T20:23:02.060Z"
      },
      {
        "duration": 13,
        "start_time": "2023-06-19T20:23:02.198Z"
      },
      {
        "duration": 18,
        "start_time": "2023-06-19T20:23:02.213Z"
      },
      {
        "duration": 434,
        "start_time": "2023-06-19T20:23:02.233Z"
      },
      {
        "duration": 21,
        "start_time": "2023-06-19T20:23:02.668Z"
      },
      {
        "duration": 9,
        "start_time": "2023-06-19T20:23:02.692Z"
      },
      {
        "duration": 26,
        "start_time": "2023-06-19T20:23:02.703Z"
      },
      {
        "duration": 30,
        "start_time": "2023-06-19T20:23:02.731Z"
      },
      {
        "duration": 7,
        "start_time": "2023-06-19T20:23:02.762Z"
      },
      {
        "duration": 206,
        "start_time": "2023-06-19T20:23:02.771Z"
      },
      {
        "duration": 3,
        "start_time": "2023-06-19T20:23:02.978Z"
      },
      {
        "duration": 13,
        "start_time": "2023-06-19T20:23:02.983Z"
      },
      {
        "duration": 139,
        "start_time": "2023-06-19T20:23:02.998Z"
      },
      {
        "duration": 34,
        "start_time": "2023-06-19T20:23:03.139Z"
      },
      {
        "duration": 93,
        "start_time": "2023-06-19T20:23:05.496Z"
      },
      {
        "duration": 45,
        "start_time": "2023-06-19T20:23:46.803Z"
      },
      {
        "duration": 22,
        "start_time": "2023-06-19T20:24:00.639Z"
      },
      {
        "duration": 9,
        "start_time": "2023-06-19T20:24:03.358Z"
      },
      {
        "duration": 7,
        "start_time": "2023-06-19T20:24:03.958Z"
      },
      {
        "duration": 1855,
        "start_time": "2023-06-19T20:24:04.361Z"
      },
      {
        "duration": 1987,
        "start_time": "2023-06-19T20:24:06.218Z"
      },
      {
        "duration": 1809,
        "start_time": "2023-06-19T20:24:08.207Z"
      },
      {
        "duration": 1946,
        "start_time": "2023-06-19T20:24:10.018Z"
      },
      {
        "duration": 152,
        "start_time": "2023-06-19T20:24:11.965Z"
      },
      {
        "duration": 4,
        "start_time": "2023-06-19T20:24:12.119Z"
      },
      {
        "duration": 1068,
        "start_time": "2023-06-19T20:24:12.125Z"
      },
      {
        "duration": 4,
        "start_time": "2023-06-19T20:24:13.195Z"
      },
      {
        "duration": 32,
        "start_time": "2023-06-19T20:24:17.638Z"
      },
      {
        "duration": 3,
        "start_time": "2023-06-19T20:24:19.104Z"
      },
      {
        "duration": 4,
        "start_time": "2023-06-19T20:24:20.695Z"
      },
      {
        "duration": 2,
        "start_time": "2023-06-19T20:24:21.492Z"
      },
      {
        "duration": 3,
        "start_time": "2023-06-19T20:24:30.613Z"
      },
      {
        "duration": 6,
        "start_time": "2023-06-19T20:24:31.088Z"
      },
      {
        "duration": 9,
        "start_time": "2023-06-19T20:24:31.365Z"
      },
      {
        "duration": 2978,
        "start_time": "2023-06-19T20:24:32.084Z"
      },
      {
        "duration": 44977,
        "start_time": "2023-06-19T20:24:39.064Z"
      },
      {
        "duration": 24274,
        "start_time": "2023-06-19T20:25:34.855Z"
      },
      {
        "duration": 4018,
        "start_time": "2023-06-19T20:26:31.140Z"
      },
      {
        "duration": 25075,
        "start_time": "2023-06-19T20:26:35.160Z"
      },
      {
        "duration": 1600,
        "start_time": "2023-06-19T20:31:08.676Z"
      },
      {
        "duration": 357,
        "start_time": "2023-06-19T20:31:10.279Z"
      },
      {
        "duration": 31,
        "start_time": "2023-06-19T20:31:10.641Z"
      },
      {
        "duration": 11,
        "start_time": "2023-06-19T20:31:10.675Z"
      },
      {
        "duration": 110,
        "start_time": "2023-06-19T20:31:10.689Z"
      },
      {
        "duration": 18,
        "start_time": "2023-06-19T20:31:10.801Z"
      },
      {
        "duration": 23,
        "start_time": "2023-06-19T20:31:10.821Z"
      },
      {
        "duration": 417,
        "start_time": "2023-06-19T20:31:10.846Z"
      },
      {
        "duration": 34,
        "start_time": "2023-06-19T20:31:11.265Z"
      },
      {
        "duration": 10,
        "start_time": "2023-06-19T20:31:11.301Z"
      },
      {
        "duration": 30,
        "start_time": "2023-06-19T20:31:11.313Z"
      },
      {
        "duration": 20,
        "start_time": "2023-06-19T20:31:11.345Z"
      },
      {
        "duration": 26,
        "start_time": "2023-06-19T20:31:11.369Z"
      },
      {
        "duration": 191,
        "start_time": "2023-06-19T20:31:11.397Z"
      },
      {
        "duration": 18,
        "start_time": "2023-06-19T20:31:11.590Z"
      },
      {
        "duration": 23,
        "start_time": "2023-06-19T20:31:11.610Z"
      },
      {
        "duration": 169,
        "start_time": "2023-06-19T20:31:11.635Z"
      },
      {
        "duration": 35,
        "start_time": "2023-06-19T20:31:11.805Z"
      },
      {
        "duration": 61,
        "start_time": "2023-06-19T20:31:11.842Z"
      },
      {
        "duration": 18,
        "start_time": "2023-06-19T20:31:11.905Z"
      },
      {
        "duration": 7,
        "start_time": "2023-06-19T20:31:11.925Z"
      },
      {
        "duration": 5,
        "start_time": "2023-06-19T20:31:11.957Z"
      },
      {
        "duration": 2046,
        "start_time": "2023-06-19T20:31:11.964Z"
      },
      {
        "duration": 2338,
        "start_time": "2023-06-19T20:31:14.013Z"
      },
      {
        "duration": 1969,
        "start_time": "2023-06-19T20:31:16.357Z"
      },
      {
        "duration": 2238,
        "start_time": "2023-06-19T20:31:18.328Z"
      },
      {
        "duration": 189,
        "start_time": "2023-06-19T20:31:20.568Z"
      },
      {
        "duration": 5,
        "start_time": "2023-06-19T20:31:20.759Z"
      },
      {
        "duration": 1267,
        "start_time": "2023-06-19T20:31:20.766Z"
      },
      {
        "duration": 5,
        "start_time": "2023-06-19T20:31:22.035Z"
      },
      {
        "duration": 39,
        "start_time": "2023-06-19T20:31:22.042Z"
      },
      {
        "duration": 1289,
        "start_time": "2023-06-19T20:31:22.083Z"
      },
      {
        "duration": 0,
        "start_time": "2023-06-19T20:31:23.375Z"
      },
      {
        "duration": 0,
        "start_time": "2023-06-19T20:31:23.376Z"
      },
      {
        "duration": 0,
        "start_time": "2023-06-19T20:31:23.378Z"
      },
      {
        "duration": 0,
        "start_time": "2023-06-19T20:31:23.380Z"
      },
      {
        "duration": 0,
        "start_time": "2023-06-19T20:31:23.381Z"
      },
      {
        "duration": 0,
        "start_time": "2023-06-19T20:31:23.383Z"
      },
      {
        "duration": 0,
        "start_time": "2023-06-19T20:31:23.384Z"
      },
      {
        "duration": 0,
        "start_time": "2023-06-19T20:31:23.386Z"
      },
      {
        "duration": 0,
        "start_time": "2023-06-19T20:31:23.387Z"
      },
      {
        "duration": 0,
        "start_time": "2023-06-19T20:31:23.389Z"
      },
      {
        "duration": 14,
        "start_time": "2023-06-19T20:31:48.956Z"
      },
      {
        "duration": 19,
        "start_time": "2023-06-19T20:31:52.605Z"
      },
      {
        "duration": 20,
        "start_time": "2023-06-19T20:31:58.023Z"
      },
      {
        "duration": 3,
        "start_time": "2023-06-19T20:32:10.300Z"
      },
      {
        "duration": 24,
        "start_time": "2023-06-19T20:32:10.658Z"
      },
      {
        "duration": 4,
        "start_time": "2023-06-19T20:32:14.424Z"
      },
      {
        "duration": 24,
        "start_time": "2023-06-19T20:32:14.669Z"
      },
      {
        "duration": 6,
        "start_time": "2023-06-19T20:32:20.600Z"
      },
      {
        "duration": 360,
        "start_time": "2023-06-19T20:32:20.609Z"
      },
      {
        "duration": 18,
        "start_time": "2023-06-19T20:32:20.971Z"
      },
      {
        "duration": 10,
        "start_time": "2023-06-19T20:32:20.992Z"
      },
      {
        "duration": 118,
        "start_time": "2023-06-19T20:32:21.004Z"
      },
      {
        "duration": 15,
        "start_time": "2023-06-19T20:32:21.123Z"
      },
      {
        "duration": 18,
        "start_time": "2023-06-19T20:32:21.141Z"
      },
      {
        "duration": 407,
        "start_time": "2023-06-19T20:32:21.161Z"
      },
      {
        "duration": 19,
        "start_time": "2023-06-19T20:32:21.570Z"
      },
      {
        "duration": 10,
        "start_time": "2023-06-19T20:32:21.591Z"
      },
      {
        "duration": 33,
        "start_time": "2023-06-19T20:32:21.603Z"
      },
      {
        "duration": 21,
        "start_time": "2023-06-19T20:32:21.642Z"
      },
      {
        "duration": 11,
        "start_time": "2023-06-19T20:32:21.665Z"
      },
      {
        "duration": 256,
        "start_time": "2023-06-19T20:32:21.678Z"
      },
      {
        "duration": 3,
        "start_time": "2023-06-19T20:32:21.937Z"
      },
      {
        "duration": 26,
        "start_time": "2023-06-19T20:32:21.942Z"
      },
      {
        "duration": 158,
        "start_time": "2023-06-19T20:32:21.970Z"
      },
      {
        "duration": 43,
        "start_time": "2023-06-19T20:32:22.131Z"
      },
      {
        "duration": 52,
        "start_time": "2023-06-19T20:32:22.176Z"
      },
      {
        "duration": 36,
        "start_time": "2023-06-19T20:32:22.230Z"
      },
      {
        "duration": 14,
        "start_time": "2023-06-19T20:32:22.268Z"
      },
      {
        "duration": 25,
        "start_time": "2023-06-19T20:32:22.285Z"
      },
      {
        "duration": 2006,
        "start_time": "2023-06-19T20:32:22.312Z"
      },
      {
        "duration": 2026,
        "start_time": "2023-06-19T20:32:24.320Z"
      },
      {
        "duration": 2079,
        "start_time": "2023-06-19T20:32:26.348Z"
      },
      {
        "duration": 1979,
        "start_time": "2023-06-19T20:32:28.429Z"
      },
      {
        "duration": 158,
        "start_time": "2023-06-19T20:32:30.410Z"
      },
      {
        "duration": 5,
        "start_time": "2023-06-19T20:32:30.571Z"
      },
      {
        "duration": 1213,
        "start_time": "2023-06-19T20:32:30.578Z"
      },
      {
        "duration": 7,
        "start_time": "2023-06-19T20:32:39.308Z"
      },
      {
        "duration": 50,
        "start_time": "2023-06-19T20:32:39.706Z"
      },
      {
        "duration": 31,
        "start_time": "2023-06-19T20:32:54.127Z"
      },
      {
        "duration": 1119,
        "start_time": "2023-06-19T20:33:19.413Z"
      },
      {
        "duration": 3,
        "start_time": "2023-06-19T20:33:35.936Z"
      },
      {
        "duration": 4,
        "start_time": "2023-06-19T20:33:36.251Z"
      },
      {
        "duration": 3,
        "start_time": "2023-06-19T20:33:36.367Z"
      },
      {
        "duration": 3,
        "start_time": "2023-06-19T20:33:36.595Z"
      },
      {
        "duration": 10,
        "start_time": "2023-06-19T20:33:36.824Z"
      },
      {
        "duration": 6,
        "start_time": "2023-06-19T20:33:37.002Z"
      },
      {
        "duration": 3702,
        "start_time": "2023-06-19T20:33:37.658Z"
      },
      {
        "duration": 24972,
        "start_time": "2023-06-19T20:34:30.342Z"
      },
      {
        "duration": 4,
        "start_time": "2023-06-19T20:40:56.772Z"
      },
      {
        "duration": 346,
        "start_time": "2023-06-19T20:40:56.794Z"
      },
      {
        "duration": 31,
        "start_time": "2023-06-19T20:40:57.143Z"
      },
      {
        "duration": 9,
        "start_time": "2023-06-19T20:40:57.177Z"
      },
      {
        "duration": 120,
        "start_time": "2023-06-19T20:40:57.189Z"
      },
      {
        "duration": 16,
        "start_time": "2023-06-19T20:40:57.312Z"
      },
      {
        "duration": 27,
        "start_time": "2023-06-19T20:40:57.331Z"
      },
      {
        "duration": 413,
        "start_time": "2023-06-19T20:40:57.360Z"
      },
      {
        "duration": 25,
        "start_time": "2023-06-19T20:40:57.775Z"
      },
      {
        "duration": 12,
        "start_time": "2023-06-19T20:40:57.802Z"
      },
      {
        "duration": 49,
        "start_time": "2023-06-19T20:40:57.816Z"
      },
      {
        "duration": 5,
        "start_time": "2023-06-19T20:40:57.867Z"
      },
      {
        "duration": 8,
        "start_time": "2023-06-19T20:40:57.874Z"
      },
      {
        "duration": 208,
        "start_time": "2023-06-19T20:40:57.885Z"
      },
      {
        "duration": 3,
        "start_time": "2023-06-19T20:40:58.097Z"
      },
      {
        "duration": 21,
        "start_time": "2023-06-19T20:40:58.102Z"
      },
      {
        "duration": 208,
        "start_time": "2023-06-19T20:40:58.124Z"
      },
      {
        "duration": 46,
        "start_time": "2023-06-19T20:40:58.334Z"
      },
      {
        "duration": 47,
        "start_time": "2023-06-19T20:40:58.383Z"
      },
      {
        "duration": 40,
        "start_time": "2023-06-19T20:40:58.432Z"
      },
      {
        "duration": 7,
        "start_time": "2023-06-19T20:40:58.474Z"
      },
      {
        "duration": 12,
        "start_time": "2023-06-19T20:40:58.483Z"
      },
      {
        "duration": 2243,
        "start_time": "2023-06-19T20:40:58.497Z"
      },
      {
        "duration": 2266,
        "start_time": "2023-06-19T20:41:00.743Z"
      },
      {
        "duration": 2123,
        "start_time": "2023-06-19T20:41:03.010Z"
      },
      {
        "duration": 2169,
        "start_time": "2023-06-19T20:41:05.135Z"
      },
      {
        "duration": 172,
        "start_time": "2023-06-19T20:41:07.306Z"
      },
      {
        "duration": 5,
        "start_time": "2023-06-19T20:41:07.480Z"
      },
      {
        "duration": 1121,
        "start_time": "2023-06-19T20:41:07.487Z"
      },
      {
        "duration": 14,
        "start_time": "2023-06-19T20:41:08.610Z"
      },
      {
        "duration": 38,
        "start_time": "2023-06-19T20:41:08.626Z"
      },
      {
        "duration": 4,
        "start_time": "2023-06-19T20:41:08.666Z"
      },
      {
        "duration": 5,
        "start_time": "2023-06-19T20:41:08.672Z"
      },
      {
        "duration": 4,
        "start_time": "2023-06-19T20:41:08.679Z"
      },
      {
        "duration": 4,
        "start_time": "2023-06-19T20:41:08.685Z"
      },
      {
        "duration": 8,
        "start_time": "2023-06-19T20:41:08.691Z"
      },
      {
        "duration": 8,
        "start_time": "2023-06-19T20:41:11.651Z"
      },
      {
        "duration": 12,
        "start_time": "2023-06-19T20:41:13.136Z"
      },
      {
        "duration": 21,
        "start_time": "2023-06-19T20:41:52.457Z"
      },
      {
        "duration": 8,
        "start_time": "2023-06-19T20:41:53.855Z"
      },
      {
        "duration": 5896,
        "start_time": "2023-06-19T20:41:54.462Z"
      },
      {
        "duration": 24210,
        "start_time": "2023-06-19T20:42:04.208Z"
      },
      {
        "duration": 8,
        "start_time": "2023-06-19T20:43:22.505Z"
      },
      {
        "duration": 549863,
        "start_time": "2023-06-19T20:43:45.849Z"
      },
      {
        "duration": 562333,
        "start_time": "2023-06-19T20:52:55.714Z"
      },
      {
        "duration": 824475,
        "start_time": "2023-06-19T21:03:22.943Z"
      },
      {
        "duration": 809929,
        "start_time": "2023-06-19T21:17:07.420Z"
      },
      {
        "duration": 11,
        "start_time": "2023-06-19T21:37:57.653Z"
      },
      {
        "duration": 10263,
        "start_time": "2023-06-19T21:43:18.631Z"
      },
      {
        "duration": 10083,
        "start_time": "2023-06-19T21:44:00.286Z"
      },
      {
        "duration": 10702,
        "start_time": "2023-06-19T21:45:22.688Z"
      },
      {
        "duration": 890,
        "start_time": "2023-06-19T21:45:37.795Z"
      },
      {
        "duration": 11015,
        "start_time": "2023-06-19T21:45:45.093Z"
      },
      {
        "duration": 912,
        "start_time": "2023-06-19T21:45:57.657Z"
      },
      {
        "duration": 4,
        "start_time": "2023-06-19T21:46:45.196Z"
      },
      {
        "duration": 11214,
        "start_time": "2023-06-19T21:47:18.491Z"
      },
      {
        "duration": 1951,
        "start_time": "2023-06-20T08:02:18.004Z"
      },
      {
        "duration": 2044,
        "start_time": "2023-06-20T08:02:19.959Z"
      },
      {
        "duration": 29,
        "start_time": "2023-06-20T08:02:22.005Z"
      },
      {
        "duration": 12,
        "start_time": "2023-06-20T08:02:22.036Z"
      },
      {
        "duration": 792,
        "start_time": "2023-06-20T08:02:22.050Z"
      },
      {
        "duration": 12,
        "start_time": "2023-06-20T08:02:22.844Z"
      },
      {
        "duration": 6,
        "start_time": "2023-06-20T08:02:22.858Z"
      },
      {
        "duration": 2463,
        "start_time": "2023-06-20T08:02:22.865Z"
      },
      {
        "duration": 17,
        "start_time": "2023-06-20T08:02:25.329Z"
      },
      {
        "duration": 8,
        "start_time": "2023-06-20T08:02:25.347Z"
      },
      {
        "duration": 47,
        "start_time": "2023-06-20T08:02:25.357Z"
      },
      {
        "duration": 6,
        "start_time": "2023-06-20T08:02:25.408Z"
      },
      {
        "duration": 9,
        "start_time": "2023-06-20T08:02:25.416Z"
      },
      {
        "duration": 247,
        "start_time": "2023-06-20T08:02:25.428Z"
      },
      {
        "duration": 6,
        "start_time": "2023-06-20T08:02:25.677Z"
      },
      {
        "duration": 30,
        "start_time": "2023-06-20T08:02:25.686Z"
      },
      {
        "duration": 154,
        "start_time": "2023-06-20T08:02:25.717Z"
      },
      {
        "duration": 42,
        "start_time": "2023-06-20T08:02:25.874Z"
      },
      {
        "duration": 58,
        "start_time": "2023-06-20T08:02:25.918Z"
      },
      {
        "duration": 26,
        "start_time": "2023-06-20T08:02:25.978Z"
      },
      {
        "duration": 7,
        "start_time": "2023-06-20T08:02:26.006Z"
      },
      {
        "duration": 5,
        "start_time": "2023-06-20T08:02:26.015Z"
      },
      {
        "duration": 2062,
        "start_time": "2023-06-20T08:02:26.022Z"
      },
      {
        "duration": 1893,
        "start_time": "2023-06-20T08:02:28.086Z"
      },
      {
        "duration": 2167,
        "start_time": "2023-06-20T08:02:29.982Z"
      },
      {
        "duration": 2141,
        "start_time": "2023-06-20T08:02:32.152Z"
      },
      {
        "duration": 188,
        "start_time": "2023-06-20T08:02:34.296Z"
      },
      {
        "duration": 6,
        "start_time": "2023-06-20T08:02:34.487Z"
      },
      {
        "duration": 1128,
        "start_time": "2023-06-20T08:02:34.495Z"
      },
      {
        "duration": 3,
        "start_time": "2023-06-20T08:02:35.625Z"
      },
      {
        "duration": 47,
        "start_time": "2023-06-20T08:02:35.630Z"
      },
      {
        "duration": 5,
        "start_time": "2023-06-20T08:02:35.683Z"
      },
      {
        "duration": 17,
        "start_time": "2023-06-20T08:02:35.690Z"
      },
      {
        "duration": 179,
        "start_time": "2023-06-20T08:02:35.709Z"
      },
      {
        "duration": 0,
        "start_time": "2023-06-20T08:02:35.890Z"
      },
      {
        "duration": 0,
        "start_time": "2023-06-20T08:02:35.891Z"
      },
      {
        "duration": 0,
        "start_time": "2023-06-20T08:02:35.893Z"
      },
      {
        "duration": 0,
        "start_time": "2023-06-20T08:02:35.894Z"
      },
      {
        "duration": 0,
        "start_time": "2023-06-20T08:02:35.896Z"
      },
      {
        "duration": 0,
        "start_time": "2023-06-20T08:02:35.898Z"
      },
      {
        "duration": 0,
        "start_time": "2023-06-20T08:02:35.899Z"
      },
      {
        "duration": 0,
        "start_time": "2023-06-20T08:02:35.900Z"
      },
      {
        "duration": 0,
        "start_time": "2023-06-20T08:02:35.902Z"
      },
      {
        "duration": 0,
        "start_time": "2023-06-20T08:02:35.903Z"
      },
      {
        "duration": 0,
        "start_time": "2023-06-20T08:02:36.076Z"
      },
      {
        "duration": 5,
        "start_time": "2023-06-20T08:03:34.747Z"
      },
      {
        "duration": 5,
        "start_time": "2023-06-20T08:03:38.815Z"
      },
      {
        "duration": 428,
        "start_time": "2023-06-20T08:03:38.822Z"
      },
      {
        "duration": 36,
        "start_time": "2023-06-20T08:03:39.252Z"
      },
      {
        "duration": 13,
        "start_time": "2023-06-20T08:03:39.290Z"
      },
      {
        "duration": 112,
        "start_time": "2023-06-20T08:03:39.308Z"
      },
      {
        "duration": 13,
        "start_time": "2023-06-20T08:03:39.421Z"
      },
      {
        "duration": 5,
        "start_time": "2023-06-20T08:03:39.435Z"
      },
      {
        "duration": 497,
        "start_time": "2023-06-20T08:03:39.441Z"
      },
      {
        "duration": 16,
        "start_time": "2023-06-20T08:03:39.940Z"
      },
      {
        "duration": 13,
        "start_time": "2023-06-20T08:03:39.971Z"
      },
      {
        "duration": 24,
        "start_time": "2023-06-20T08:03:39.988Z"
      },
      {
        "duration": 7,
        "start_time": "2023-06-20T08:03:40.014Z"
      },
      {
        "duration": 13,
        "start_time": "2023-06-20T08:03:40.022Z"
      },
      {
        "duration": 218,
        "start_time": "2023-06-20T08:03:40.037Z"
      },
      {
        "duration": 3,
        "start_time": "2023-06-20T08:03:40.256Z"
      },
      {
        "duration": 36,
        "start_time": "2023-06-20T08:03:40.272Z"
      },
      {
        "duration": 135,
        "start_time": "2023-06-20T08:03:40.310Z"
      },
      {
        "duration": 25,
        "start_time": "2023-06-20T08:03:40.446Z"
      },
      {
        "duration": 47,
        "start_time": "2023-06-20T08:03:40.474Z"
      },
      {
        "duration": 14,
        "start_time": "2023-06-20T08:03:40.523Z"
      },
      {
        "duration": 10,
        "start_time": "2023-06-20T08:03:40.539Z"
      },
      {
        "duration": 24,
        "start_time": "2023-06-20T08:03:40.551Z"
      },
      {
        "duration": 1878,
        "start_time": "2023-06-20T08:03:40.577Z"
      },
      {
        "duration": 1964,
        "start_time": "2023-06-20T08:03:42.456Z"
      },
      {
        "duration": 1930,
        "start_time": "2023-06-20T08:03:44.422Z"
      },
      {
        "duration": 2141,
        "start_time": "2023-06-20T08:03:46.354Z"
      },
      {
        "duration": 179,
        "start_time": "2023-06-20T08:03:48.497Z"
      },
      {
        "duration": 6,
        "start_time": "2023-06-20T08:03:48.682Z"
      },
      {
        "duration": 1053,
        "start_time": "2023-06-20T08:03:48.693Z"
      },
      {
        "duration": 4,
        "start_time": "2023-06-20T08:03:49.747Z"
      },
      {
        "duration": 36,
        "start_time": "2023-06-20T08:03:49.752Z"
      },
      {
        "duration": 2,
        "start_time": "2023-06-20T08:03:49.790Z"
      },
      {
        "duration": 5,
        "start_time": "2023-06-20T08:03:49.794Z"
      },
      {
        "duration": 5,
        "start_time": "2023-06-20T08:03:49.801Z"
      },
      {
        "duration": 5,
        "start_time": "2023-06-20T08:03:49.807Z"
      },
      {
        "duration": 5,
        "start_time": "2023-06-20T08:03:49.813Z"
      },
      {
        "duration": 26,
        "start_time": "2023-06-20T08:03:49.820Z"
      },
      {
        "duration": 38,
        "start_time": "2023-06-20T08:03:49.848Z"
      },
      {
        "duration": 5283,
        "start_time": "2023-06-20T08:03:49.888Z"
      },
      {
        "duration": 25483,
        "start_time": "2023-06-20T08:03:55.173Z"
      },
      {
        "duration": 830416,
        "start_time": "2023-06-20T08:04:20.658Z"
      },
      {
        "duration": 845907,
        "start_time": "2023-06-20T08:18:11.076Z"
      },
      {
        "duration": 13,
        "start_time": "2023-06-20T08:32:16.986Z"
      },
      {
        "duration": 12902,
        "start_time": "2023-06-20T08:32:17.001Z"
      },
      {
        "duration": 17236,
        "start_time": "2023-06-20T08:38:29.623Z"
      },
      {
        "duration": 17017,
        "start_time": "2023-06-20T08:39:37.081Z"
      },
      {
        "duration": 17,
        "start_time": "2023-06-20T09:00:40.805Z"
      },
      {
        "duration": 18561,
        "start_time": "2023-06-20T09:00:41.289Z"
      },
      {
        "duration": 33,
        "start_time": "2023-06-20T09:01:20.461Z"
      },
      {
        "duration": 18,
        "start_time": "2023-06-20T09:01:24.290Z"
      },
      {
        "duration": 19155,
        "start_time": "2023-06-20T09:01:24.797Z"
      },
      {
        "duration": 20,
        "start_time": "2023-06-20T09:05:12.362Z"
      },
      {
        "duration": 7,
        "start_time": "2023-06-20T09:05:54.271Z"
      },
      {
        "duration": 18,
        "start_time": "2023-06-20T09:05:58.727Z"
      },
      {
        "duration": 10,
        "start_time": "2023-06-20T09:06:08.033Z"
      },
      {
        "duration": 18,
        "start_time": "2023-06-20T09:06:12.368Z"
      },
      {
        "duration": 15,
        "start_time": "2023-06-20T09:06:41.332Z"
      },
      {
        "duration": 28,
        "start_time": "2023-06-20T09:06:54.306Z"
      },
      {
        "duration": 10,
        "start_time": "2023-06-20T09:06:59.342Z"
      },
      {
        "duration": 17843,
        "start_time": "2023-06-20T09:07:06.399Z"
      },
      {
        "duration": 15,
        "start_time": "2023-06-20T09:07:24.246Z"
      },
      {
        "duration": 15,
        "start_time": "2023-06-20T09:17:25.991Z"
      },
      {
        "duration": 16343,
        "start_time": "2023-06-20T09:17:28.768Z"
      },
      {
        "duration": 16,
        "start_time": "2023-06-20T09:17:45.113Z"
      },
      {
        "duration": 1767,
        "start_time": "2023-06-20T11:23:04.143Z"
      },
      {
        "duration": 1722,
        "start_time": "2023-06-20T11:23:05.912Z"
      },
      {
        "duration": 18,
        "start_time": "2023-06-20T11:23:07.636Z"
      },
      {
        "duration": 19,
        "start_time": "2023-06-20T11:23:07.656Z"
      },
      {
        "duration": 952,
        "start_time": "2023-06-20T11:23:07.677Z"
      },
      {
        "duration": 12,
        "start_time": "2023-06-20T11:23:08.631Z"
      },
      {
        "duration": 17,
        "start_time": "2023-06-20T11:23:08.645Z"
      },
      {
        "duration": 1864,
        "start_time": "2023-06-20T11:23:08.663Z"
      },
      {
        "duration": 17,
        "start_time": "2023-06-20T11:23:10.529Z"
      },
      {
        "duration": 13,
        "start_time": "2023-06-20T11:23:10.549Z"
      },
      {
        "duration": 37,
        "start_time": "2023-06-20T11:23:10.563Z"
      },
      {
        "duration": 5,
        "start_time": "2023-06-20T11:23:10.602Z"
      },
      {
        "duration": 17,
        "start_time": "2023-06-20T11:23:10.609Z"
      },
      {
        "duration": 193,
        "start_time": "2023-06-20T11:23:10.628Z"
      },
      {
        "duration": 3,
        "start_time": "2023-06-20T11:23:10.822Z"
      },
      {
        "duration": 36,
        "start_time": "2023-06-20T11:23:10.826Z"
      },
      {
        "duration": 150,
        "start_time": "2023-06-20T11:23:10.864Z"
      },
      {
        "duration": 23,
        "start_time": "2023-06-20T11:23:11.016Z"
      },
      {
        "duration": 63,
        "start_time": "2023-06-20T11:23:11.041Z"
      },
      {
        "duration": 14,
        "start_time": "2023-06-20T11:23:11.106Z"
      },
      {
        "duration": 9,
        "start_time": "2023-06-20T11:23:11.121Z"
      },
      {
        "duration": 10,
        "start_time": "2023-06-20T11:23:11.132Z"
      },
      {
        "duration": 2060,
        "start_time": "2023-06-20T11:23:11.143Z"
      },
      {
        "duration": 1908,
        "start_time": "2023-06-20T11:23:13.206Z"
      },
      {
        "duration": 1801,
        "start_time": "2023-06-20T11:23:15.116Z"
      },
      {
        "duration": 2116,
        "start_time": "2023-06-20T11:23:16.919Z"
      },
      {
        "duration": 179,
        "start_time": "2023-06-20T11:23:19.037Z"
      },
      {
        "duration": 5,
        "start_time": "2023-06-20T11:23:19.220Z"
      },
      {
        "duration": 1098,
        "start_time": "2023-06-20T11:23:19.227Z"
      },
      {
        "duration": 4,
        "start_time": "2023-06-20T11:23:20.327Z"
      },
      {
        "duration": 53,
        "start_time": "2023-06-20T11:23:20.332Z"
      },
      {
        "duration": 3,
        "start_time": "2023-06-20T11:23:20.390Z"
      },
      {
        "duration": 9,
        "start_time": "2023-06-20T11:23:20.395Z"
      },
      {
        "duration": 25,
        "start_time": "2023-06-20T11:23:20.406Z"
      },
      {
        "duration": 11,
        "start_time": "2023-06-20T11:23:20.433Z"
      },
      {
        "duration": 24,
        "start_time": "2023-06-20T11:23:20.445Z"
      },
      {
        "duration": 46,
        "start_time": "2023-06-20T11:23:20.474Z"
      },
      {
        "duration": 4649,
        "start_time": "2023-06-20T11:23:20.523Z"
      },
      {
        "duration": 25158,
        "start_time": "2023-06-20T11:23:25.174Z"
      },
      {
        "duration": 815134,
        "start_time": "2023-06-20T11:23:50.334Z"
      },
      {
        "duration": 794384,
        "start_time": "2023-06-20T11:37:25.470Z"
      },
      {
        "duration": 18,
        "start_time": "2023-06-20T11:50:39.856Z"
      },
      {
        "duration": 15785,
        "start_time": "2023-06-20T11:50:39.876Z"
      },
      {
        "duration": 21,
        "start_time": "2023-06-20T11:50:55.663Z"
      },
      {
        "duration": 7,
        "start_time": "2023-06-20T11:50:55.695Z"
      },
      {
        "duration": 7,
        "start_time": "2023-06-20T13:17:10.646Z"
      },
      {
        "duration": 142,
        "start_time": "2023-06-20T13:20:17.057Z"
      },
      {
        "duration": 17,
        "start_time": "2023-06-20T13:23:33.005Z"
      },
      {
        "duration": 20,
        "start_time": "2023-06-20T13:23:49.420Z"
      },
      {
        "duration": 19,
        "start_time": "2023-06-20T13:23:55.035Z"
      },
      {
        "duration": 1442,
        "start_time": "2023-06-20T13:24:21.708Z"
      },
      {
        "duration": 38,
        "start_time": "2023-06-20T13:24:49.763Z"
      },
      {
        "duration": 189,
        "start_time": "2023-06-20T13:25:06.547Z"
      },
      {
        "duration": 230,
        "start_time": "2023-06-20T13:25:52.534Z"
      },
      {
        "duration": 300,
        "start_time": "2023-06-20T13:26:47.821Z"
      },
      {
        "duration": 324,
        "start_time": "2023-06-20T13:26:59.136Z"
      },
      {
        "duration": 423,
        "start_time": "2023-06-20T13:27:09.706Z"
      },
      {
        "duration": 309,
        "start_time": "2023-06-20T13:32:18.204Z"
      },
      {
        "duration": 311,
        "start_time": "2023-06-20T13:32:30.907Z"
      },
      {
        "duration": 317,
        "start_time": "2023-06-20T13:32:47.125Z"
      },
      {
        "duration": 439,
        "start_time": "2023-06-20T13:32:58.773Z"
      },
      {
        "duration": 535,
        "start_time": "2023-06-20T13:33:37.947Z"
      },
      {
        "duration": 390,
        "start_time": "2023-06-20T13:33:54.222Z"
      },
      {
        "duration": 421,
        "start_time": "2023-06-20T13:34:57.901Z"
      },
      {
        "duration": 136,
        "start_time": "2023-06-20T13:35:06.322Z"
      },
      {
        "duration": 560,
        "start_time": "2023-06-20T13:35:16.393Z"
      },
      {
        "duration": 546,
        "start_time": "2023-06-20T13:35:37.142Z"
      },
      {
        "duration": 538,
        "start_time": "2023-06-20T13:36:18.301Z"
      },
      {
        "duration": 531,
        "start_time": "2023-06-20T13:36:36.124Z"
      },
      {
        "duration": 781,
        "start_time": "2023-06-20T13:38:38.147Z"
      },
      {
        "duration": 587,
        "start_time": "2023-06-20T13:38:46.822Z"
      },
      {
        "duration": 9,
        "start_time": "2023-06-20T13:38:51.366Z"
      },
      {
        "duration": 39,
        "start_time": "2023-06-20T13:38:52.774Z"
      },
      {
        "duration": 19,
        "start_time": "2023-06-20T13:48:10.708Z"
      },
      {
        "duration": 13,
        "start_time": "2023-06-20T13:48:21.293Z"
      },
      {
        "duration": 114,
        "start_time": "2023-06-20T13:48:35.018Z"
      },
      {
        "duration": 16,
        "start_time": "2023-06-20T13:48:38.103Z"
      },
      {
        "duration": 14,
        "start_time": "2023-06-20T13:48:43.389Z"
      },
      {
        "duration": 15,
        "start_time": "2023-06-20T13:48:47.582Z"
      },
      {
        "duration": 14,
        "start_time": "2023-06-20T13:48:52.681Z"
      },
      {
        "duration": 86,
        "start_time": "2023-06-20T13:48:58.807Z"
      },
      {
        "duration": 16,
        "start_time": "2023-06-20T13:49:00.940Z"
      },
      {
        "duration": 14,
        "start_time": "2023-06-20T13:49:08.787Z"
      },
      {
        "duration": 5,
        "start_time": "2023-06-20T13:49:32.224Z"
      },
      {
        "duration": 401,
        "start_time": "2023-06-20T13:49:32.233Z"
      },
      {
        "duration": 35,
        "start_time": "2023-06-20T13:49:32.637Z"
      },
      {
        "duration": 11,
        "start_time": "2023-06-20T13:49:32.674Z"
      },
      {
        "duration": 178,
        "start_time": "2023-06-20T13:49:32.688Z"
      },
      {
        "duration": 23,
        "start_time": "2023-06-20T13:49:32.871Z"
      },
      {
        "duration": 15,
        "start_time": "2023-06-20T13:49:32.896Z"
      },
      {
        "duration": 436,
        "start_time": "2023-06-20T13:49:32.913Z"
      },
      {
        "duration": 32,
        "start_time": "2023-06-20T13:49:33.351Z"
      },
      {
        "duration": 35,
        "start_time": "2023-06-20T13:49:33.386Z"
      },
      {
        "duration": 39,
        "start_time": "2023-06-20T13:49:33.424Z"
      },
      {
        "duration": 14,
        "start_time": "2023-06-20T13:49:33.466Z"
      },
      {
        "duration": 8,
        "start_time": "2023-06-20T13:49:33.485Z"
      },
      {
        "duration": 193,
        "start_time": "2023-06-20T13:49:33.495Z"
      },
      {
        "duration": 22,
        "start_time": "2023-06-20T13:49:33.691Z"
      },
      {
        "duration": 24,
        "start_time": "2023-06-20T13:49:43.763Z"
      },
      {
        "duration": 5,
        "start_time": "2023-06-20T13:50:05.431Z"
      },
      {
        "duration": 73,
        "start_time": "2023-06-20T14:07:58.586Z"
      },
      {
        "duration": 541,
        "start_time": "2023-06-20T14:08:02.614Z"
      },
      {
        "duration": 4,
        "start_time": "2023-06-20T14:08:27.445Z"
      },
      {
        "duration": 30,
        "start_time": "2023-06-20T14:08:27.655Z"
      },
      {
        "duration": 26,
        "start_time": "2023-06-20T14:08:30.363Z"
      },
      {
        "duration": 4,
        "start_time": "2023-06-20T14:08:45.387Z"
      },
      {
        "duration": 362,
        "start_time": "2023-06-20T14:08:45.393Z"
      },
      {
        "duration": 27,
        "start_time": "2023-06-20T14:08:45.757Z"
      },
      {
        "duration": 8,
        "start_time": "2023-06-20T14:08:45.785Z"
      },
      {
        "duration": 100,
        "start_time": "2023-06-20T14:08:45.795Z"
      },
      {
        "duration": 13,
        "start_time": "2023-06-20T14:08:45.897Z"
      },
      {
        "duration": 5,
        "start_time": "2023-06-20T14:08:45.913Z"
      },
      {
        "duration": 420,
        "start_time": "2023-06-20T14:08:45.920Z"
      },
      {
        "duration": 28,
        "start_time": "2023-06-20T14:08:46.341Z"
      },
      {
        "duration": 12,
        "start_time": "2023-06-20T14:08:46.371Z"
      },
      {
        "duration": 29,
        "start_time": "2023-06-20T14:08:46.385Z"
      },
      {
        "duration": 5,
        "start_time": "2023-06-20T14:08:46.416Z"
      },
      {
        "duration": 16,
        "start_time": "2023-06-20T14:08:46.425Z"
      },
      {
        "duration": 203,
        "start_time": "2023-06-20T14:08:46.443Z"
      },
      {
        "duration": 13,
        "start_time": "2023-06-20T14:08:46.648Z"
      },
      {
        "duration": 20,
        "start_time": "2023-06-20T14:08:46.666Z"
      },
      {
        "duration": 7,
        "start_time": "2023-06-20T14:08:46.687Z"
      },
      {
        "duration": 132,
        "start_time": "2023-06-20T14:08:46.695Z"
      },
      {
        "duration": 26,
        "start_time": "2023-06-20T14:08:46.829Z"
      },
      {
        "duration": 49,
        "start_time": "2023-06-20T14:08:46.867Z"
      },
      {
        "duration": 16,
        "start_time": "2023-06-20T14:08:46.918Z"
      },
      {
        "duration": 8,
        "start_time": "2023-06-20T14:08:46.935Z"
      },
      {
        "duration": 8,
        "start_time": "2023-06-20T14:08:46.967Z"
      },
      {
        "duration": 2155,
        "start_time": "2023-06-20T14:08:46.979Z"
      },
      {
        "duration": 1848,
        "start_time": "2023-06-20T14:08:49.136Z"
      },
      {
        "duration": 2254,
        "start_time": "2023-06-20T14:08:50.986Z"
      },
      {
        "duration": 2011,
        "start_time": "2023-06-20T14:08:53.243Z"
      },
      {
        "duration": 386,
        "start_time": "2023-06-20T14:08:55.256Z"
      },
      {
        "duration": 4,
        "start_time": "2023-06-20T14:08:55.645Z"
      },
      {
        "duration": 542,
        "start_time": "2023-06-20T14:08:55.651Z"
      },
      {
        "duration": 4,
        "start_time": "2023-06-20T14:08:56.195Z"
      },
      {
        "duration": 41,
        "start_time": "2023-06-20T14:08:56.201Z"
      },
      {
        "duration": 3,
        "start_time": "2023-06-20T14:08:56.244Z"
      },
      {
        "duration": 26,
        "start_time": "2023-06-20T14:08:56.249Z"
      },
      {
        "duration": 33,
        "start_time": "2023-06-20T14:08:56.277Z"
      },
      {
        "duration": 37,
        "start_time": "2023-06-20T14:08:56.312Z"
      },
      {
        "duration": 55,
        "start_time": "2023-06-20T14:08:56.353Z"
      },
      {
        "duration": 59,
        "start_time": "2023-06-20T14:08:56.410Z"
      },
      {
        "duration": 6998,
        "start_time": "2023-06-20T14:08:56.476Z"
      },
      {
        "duration": 24733,
        "start_time": "2023-06-20T14:09:03.476Z"
      },
      {
        "duration": 812518,
        "start_time": "2023-06-20T14:09:28.210Z"
      },
      {
        "duration": 800677,
        "start_time": "2023-06-20T14:23:00.730Z"
      },
      {
        "duration": 10,
        "start_time": "2023-06-20T14:36:21.409Z"
      },
      {
        "duration": 14919,
        "start_time": "2023-06-20T14:36:21.421Z"
      },
      {
        "duration": 14,
        "start_time": "2023-06-20T14:36:36.342Z"
      },
      {
        "duration": 1904,
        "start_time": "2023-06-20T14:36:42.038Z"
      },
      {
        "duration": 2725,
        "start_time": "2023-06-20T14:36:49.538Z"
      },
      {
        "duration": 60,
        "start_time": "2023-06-20T14:39:58.199Z"
      },
      {
        "duration": 1548,
        "start_time": "2023-06-21T06:32:31.853Z"
      },
      {
        "duration": 920,
        "start_time": "2023-06-21T06:32:33.403Z"
      },
      {
        "duration": 17,
        "start_time": "2023-06-21T06:32:34.324Z"
      },
      {
        "duration": 9,
        "start_time": "2023-06-21T06:32:34.343Z"
      },
      {
        "duration": 187,
        "start_time": "2023-06-21T06:32:34.354Z"
      },
      {
        "duration": 12,
        "start_time": "2023-06-21T06:32:34.543Z"
      },
      {
        "duration": 11,
        "start_time": "2023-06-21T06:32:34.556Z"
      },
      {
        "duration": 1171,
        "start_time": "2023-06-21T06:32:34.568Z"
      },
      {
        "duration": 16,
        "start_time": "2023-06-21T06:32:35.740Z"
      },
      {
        "duration": 7,
        "start_time": "2023-06-21T06:32:35.757Z"
      },
      {
        "duration": 19,
        "start_time": "2023-06-21T06:32:40.126Z"
      },
      {
        "duration": 116,
        "start_time": "2023-06-21T06:32:42.137Z"
      },
      {
        "duration": 13,
        "start_time": "2023-06-21T06:32:49.515Z"
      },
      {
        "duration": 4,
        "start_time": "2023-06-21T06:33:02.308Z"
      },
      {
        "duration": 350,
        "start_time": "2023-06-21T06:33:02.314Z"
      },
      {
        "duration": 15,
        "start_time": "2023-06-21T06:33:02.666Z"
      },
      {
        "duration": 22,
        "start_time": "2023-06-21T06:33:02.683Z"
      },
      {
        "duration": 114,
        "start_time": "2023-06-21T06:33:02.708Z"
      },
      {
        "duration": 11,
        "start_time": "2023-06-21T06:33:02.824Z"
      },
      {
        "duration": 30,
        "start_time": "2023-06-21T06:33:02.837Z"
      },
      {
        "duration": 389,
        "start_time": "2023-06-21T06:33:02.869Z"
      },
      {
        "duration": 15,
        "start_time": "2023-06-21T06:33:03.260Z"
      },
      {
        "duration": 27,
        "start_time": "2023-06-21T06:33:03.277Z"
      },
      {
        "duration": 22,
        "start_time": "2023-06-21T06:33:03.306Z"
      },
      {
        "duration": 14,
        "start_time": "2023-06-21T06:33:04.664Z"
      },
      {
        "duration": 18,
        "start_time": "2023-06-21T06:33:05.014Z"
      },
      {
        "duration": 13,
        "start_time": "2023-06-21T06:35:16.460Z"
      },
      {
        "duration": 4,
        "start_time": "2023-06-21T06:35:23.520Z"
      },
      {
        "duration": 317,
        "start_time": "2023-06-21T06:35:23.526Z"
      },
      {
        "duration": 15,
        "start_time": "2023-06-21T06:35:23.844Z"
      },
      {
        "duration": 10,
        "start_time": "2023-06-21T06:35:23.862Z"
      },
      {
        "duration": 102,
        "start_time": "2023-06-21T06:35:23.873Z"
      },
      {
        "duration": 11,
        "start_time": "2023-06-21T06:35:23.976Z"
      },
      {
        "duration": 14,
        "start_time": "2023-06-21T06:35:23.988Z"
      },
      {
        "duration": 375,
        "start_time": "2023-06-21T06:35:24.004Z"
      },
      {
        "duration": 21,
        "start_time": "2023-06-21T06:35:24.381Z"
      },
      {
        "duration": 9,
        "start_time": "2023-06-21T06:35:24.404Z"
      },
      {
        "duration": 16,
        "start_time": "2023-06-21T06:35:25.916Z"
      },
      {
        "duration": 17,
        "start_time": "2023-06-21T06:35:55.012Z"
      },
      {
        "duration": 13,
        "start_time": "2023-06-21T06:35:55.263Z"
      },
      {
        "duration": 15,
        "start_time": "2023-06-21T06:38:12.495Z"
      },
      {
        "duration": 13,
        "start_time": "2023-06-21T06:38:12.963Z"
      },
      {
        "duration": 4,
        "start_time": "2023-06-21T06:41:04.362Z"
      },
      {
        "duration": 339,
        "start_time": "2023-06-21T06:41:04.367Z"
      },
      {
        "duration": 15,
        "start_time": "2023-06-21T06:41:04.708Z"
      },
      {
        "duration": 5,
        "start_time": "2023-06-21T06:41:04.725Z"
      },
      {
        "duration": 103,
        "start_time": "2023-06-21T06:41:04.732Z"
      },
      {
        "duration": 11,
        "start_time": "2023-06-21T06:41:04.837Z"
      },
      {
        "duration": 14,
        "start_time": "2023-06-21T06:41:04.849Z"
      },
      {
        "duration": 360,
        "start_time": "2023-06-21T06:41:04.864Z"
      },
      {
        "duration": 15,
        "start_time": "2023-06-21T06:41:05.225Z"
      },
      {
        "duration": 9,
        "start_time": "2023-06-21T06:41:05.241Z"
      },
      {
        "duration": 17,
        "start_time": "2023-06-21T06:41:15.902Z"
      },
      {
        "duration": 2014,
        "start_time": "2023-06-21T06:41:19.105Z"
      },
      {
        "duration": 13,
        "start_time": "2023-06-21T06:41:30.526Z"
      },
      {
        "duration": 12,
        "start_time": "2023-06-21T06:44:21.423Z"
      },
      {
        "duration": 5,
        "start_time": "2023-06-21T06:44:22.003Z"
      }
    ],
    "kernelspec": {
      "display_name": "Python 3 (ipykernel)",
      "language": "python",
      "name": "python3"
    },
    "language_info": {
      "codemirror_mode": {
        "name": "ipython",
        "version": 3
      },
      "file_extension": ".py",
      "mimetype": "text/x-python",
      "name": "python",
      "nbconvert_exporter": "python",
      "pygments_lexer": "ipython3",
      "version": "3.9.5"
    },
    "toc": {
      "base_numbering": 1,
      "nav_menu": {},
      "number_sections": true,
      "sideBar": true,
      "skip_h1_title": true,
      "title_cell": "Содержание",
      "title_sidebar": "Contents",
      "toc_cell": true,
      "toc_position": {
        "height": "calc(100% - 180px)",
        "left": "10px",
        "top": "150px",
        "width": "165px"
      },
      "toc_section_display": true,
      "toc_window_display": true
    },
    "colab": {
      "provenance": []
    }
  },
  "nbformat": 4,
  "nbformat_minor": 0
}