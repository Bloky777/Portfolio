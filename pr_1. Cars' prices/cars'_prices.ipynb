{
  "cells": [
    {
      "cell_type": "markdown",
      "metadata": {
        "id": "HO9sJdEsMtWR"
      },
      "source": [
        "# Определение стоимости автомобилей"
      ]
    },
    {
      "cell_type": "markdown",
      "metadata": {
        "id": "hZDqnbFRMtWS"
      },
      "source": [
        "Сервис по продаже автомобилей с пробегом «Не бит, не крашен» разрабатывает приложение для привлечения новых клиентов. В нём можно быстро узнать рыночную стоимость своего автомобиля. В вашем распоряжении исторические данные: технические характеристики, комплектации и цены автомобилей. Вам нужно построить модель для определения стоимости.\n",
        "\n",
        "Заказчику важны:\n",
        "\n",
        "- качество предсказания;\n",
        "- скорость предсказания;\n",
        "- время обучения."
      ]
    },
    {
      "cell_type": "markdown",
      "metadata": {
        "id": "MHw_igsNMtWS"
      },
      "source": [
        "## Подготовка данных"
      ]
    },
    {
      "cell_type": "markdown",
      "metadata": {
        "id": "NBGjQeauMtWS"
      },
      "source": [
        "Загрузим все необходимые библиотеки. Прочитаем данные, выведем общую информацию и рассмотрим числовые признаки."
      ]
    },
    {
      "cell_type": "code",
      "execution_count": null,
      "metadata": {
        "id": "U36JkyaGMtWU"
      },
      "outputs": [],
      "source": [
        "import pandas as pd\n",
        "import matplotlib.pyplot as plt\n",
        "import numpy as np\n",
        "\n",
        "from sklearn.model_selection import GridSearchCV\n",
        "from sklearn.linear_model import LinearRegression\n",
        "from sklearn.model_selection import train_test_split\n",
        "from sklearn.metrics import mean_squared_error\n",
        "import lightgbm as lgb\n",
        "from lightgbm.plotting import plot_importance\n",
        "from catboost import CatBoostRegressor\n",
        "from catboost import Pool, cv\n",
        "from sklearn.compose import make_column_transformer\n",
        "from sklearn.preprocessing import (\n",
        "    OneHotEncoder,\n",
        "    StandardScaler\n",
        ")\n",
        "import time\n",
        "from sklearn.dummy import DummyRegressor\n",
        "from tqdm import tqdm"
      ]
    },
    {
      "cell_type": "code",
      "execution_count": null,
      "metadata": {
        "id": "JTLcV9dNMtWV"
      },
      "outputs": [],
      "source": [
        "df=pd.read_csv('/datasets/autos.csv')"
      ]
    },
    {
      "cell_type": "code",
      "execution_count": null,
      "metadata": {
        "id": "iHG4K4_BMtWW",
        "outputId": "fd53a3f2-3057-4135-b53a-2982812550da"
      },
      "outputs": [
        {
          "data": {
            "text/html": [
              "<div>\n",
              "<style scoped>\n",
              "    .dataframe tbody tr th:only-of-type {\n",
              "        vertical-align: middle;\n",
              "    }\n",
              "\n",
              "    .dataframe tbody tr th {\n",
              "        vertical-align: top;\n",
              "    }\n",
              "\n",
              "    .dataframe thead th {\n",
              "        text-align: right;\n",
              "    }\n",
              "</style>\n",
              "<table border=\"1\" class=\"dataframe\">\n",
              "  <thead>\n",
              "    <tr style=\"text-align: right;\">\n",
              "      <th></th>\n",
              "      <th>DateCrawled</th>\n",
              "      <th>Price</th>\n",
              "      <th>VehicleType</th>\n",
              "      <th>RegistrationYear</th>\n",
              "      <th>Gearbox</th>\n",
              "      <th>Power</th>\n",
              "      <th>Model</th>\n",
              "      <th>Kilometer</th>\n",
              "      <th>RegistrationMonth</th>\n",
              "      <th>FuelType</th>\n",
              "      <th>Brand</th>\n",
              "      <th>Repaired</th>\n",
              "      <th>DateCreated</th>\n",
              "      <th>NumberOfPictures</th>\n",
              "      <th>PostalCode</th>\n",
              "      <th>LastSeen</th>\n",
              "    </tr>\n",
              "  </thead>\n",
              "  <tbody>\n",
              "    <tr>\n",
              "      <th>0</th>\n",
              "      <td>2016-03-24 11:52:17</td>\n",
              "      <td>480</td>\n",
              "      <td>NaN</td>\n",
              "      <td>1993</td>\n",
              "      <td>manual</td>\n",
              "      <td>0</td>\n",
              "      <td>golf</td>\n",
              "      <td>150000</td>\n",
              "      <td>0</td>\n",
              "      <td>petrol</td>\n",
              "      <td>volkswagen</td>\n",
              "      <td>NaN</td>\n",
              "      <td>2016-03-24 00:00:00</td>\n",
              "      <td>0</td>\n",
              "      <td>70435</td>\n",
              "      <td>2016-04-07 03:16:57</td>\n",
              "    </tr>\n",
              "    <tr>\n",
              "      <th>1</th>\n",
              "      <td>2016-03-24 10:58:45</td>\n",
              "      <td>18300</td>\n",
              "      <td>coupe</td>\n",
              "      <td>2011</td>\n",
              "      <td>manual</td>\n",
              "      <td>190</td>\n",
              "      <td>NaN</td>\n",
              "      <td>125000</td>\n",
              "      <td>5</td>\n",
              "      <td>gasoline</td>\n",
              "      <td>audi</td>\n",
              "      <td>yes</td>\n",
              "      <td>2016-03-24 00:00:00</td>\n",
              "      <td>0</td>\n",
              "      <td>66954</td>\n",
              "      <td>2016-04-07 01:46:50</td>\n",
              "    </tr>\n",
              "    <tr>\n",
              "      <th>2</th>\n",
              "      <td>2016-03-14 12:52:21</td>\n",
              "      <td>9800</td>\n",
              "      <td>suv</td>\n",
              "      <td>2004</td>\n",
              "      <td>auto</td>\n",
              "      <td>163</td>\n",
              "      <td>grand</td>\n",
              "      <td>125000</td>\n",
              "      <td>8</td>\n",
              "      <td>gasoline</td>\n",
              "      <td>jeep</td>\n",
              "      <td>NaN</td>\n",
              "      <td>2016-03-14 00:00:00</td>\n",
              "      <td>0</td>\n",
              "      <td>90480</td>\n",
              "      <td>2016-04-05 12:47:46</td>\n",
              "    </tr>\n",
              "    <tr>\n",
              "      <th>3</th>\n",
              "      <td>2016-03-17 16:54:04</td>\n",
              "      <td>1500</td>\n",
              "      <td>small</td>\n",
              "      <td>2001</td>\n",
              "      <td>manual</td>\n",
              "      <td>75</td>\n",
              "      <td>golf</td>\n",
              "      <td>150000</td>\n",
              "      <td>6</td>\n",
              "      <td>petrol</td>\n",
              "      <td>volkswagen</td>\n",
              "      <td>no</td>\n",
              "      <td>2016-03-17 00:00:00</td>\n",
              "      <td>0</td>\n",
              "      <td>91074</td>\n",
              "      <td>2016-03-17 17:40:17</td>\n",
              "    </tr>\n",
              "    <tr>\n",
              "      <th>4</th>\n",
              "      <td>2016-03-31 17:25:20</td>\n",
              "      <td>3600</td>\n",
              "      <td>small</td>\n",
              "      <td>2008</td>\n",
              "      <td>manual</td>\n",
              "      <td>69</td>\n",
              "      <td>fabia</td>\n",
              "      <td>90000</td>\n",
              "      <td>7</td>\n",
              "      <td>gasoline</td>\n",
              "      <td>skoda</td>\n",
              "      <td>no</td>\n",
              "      <td>2016-03-31 00:00:00</td>\n",
              "      <td>0</td>\n",
              "      <td>60437</td>\n",
              "      <td>2016-04-06 10:17:21</td>\n",
              "    </tr>\n",
              "    <tr>\n",
              "      <th>...</th>\n",
              "      <td>...</td>\n",
              "      <td>...</td>\n",
              "      <td>...</td>\n",
              "      <td>...</td>\n",
              "      <td>...</td>\n",
              "      <td>...</td>\n",
              "      <td>...</td>\n",
              "      <td>...</td>\n",
              "      <td>...</td>\n",
              "      <td>...</td>\n",
              "      <td>...</td>\n",
              "      <td>...</td>\n",
              "      <td>...</td>\n",
              "      <td>...</td>\n",
              "      <td>...</td>\n",
              "      <td>...</td>\n",
              "    </tr>\n",
              "    <tr>\n",
              "      <th>354364</th>\n",
              "      <td>2016-03-21 09:50:58</td>\n",
              "      <td>0</td>\n",
              "      <td>NaN</td>\n",
              "      <td>2005</td>\n",
              "      <td>manual</td>\n",
              "      <td>0</td>\n",
              "      <td>colt</td>\n",
              "      <td>150000</td>\n",
              "      <td>7</td>\n",
              "      <td>petrol</td>\n",
              "      <td>mitsubishi</td>\n",
              "      <td>yes</td>\n",
              "      <td>2016-03-21 00:00:00</td>\n",
              "      <td>0</td>\n",
              "      <td>2694</td>\n",
              "      <td>2016-03-21 10:42:49</td>\n",
              "    </tr>\n",
              "    <tr>\n",
              "      <th>354365</th>\n",
              "      <td>2016-03-14 17:48:27</td>\n",
              "      <td>2200</td>\n",
              "      <td>NaN</td>\n",
              "      <td>2005</td>\n",
              "      <td>NaN</td>\n",
              "      <td>0</td>\n",
              "      <td>NaN</td>\n",
              "      <td>20000</td>\n",
              "      <td>1</td>\n",
              "      <td>NaN</td>\n",
              "      <td>sonstige_autos</td>\n",
              "      <td>NaN</td>\n",
              "      <td>2016-03-14 00:00:00</td>\n",
              "      <td>0</td>\n",
              "      <td>39576</td>\n",
              "      <td>2016-04-06 00:46:52</td>\n",
              "    </tr>\n",
              "    <tr>\n",
              "      <th>354366</th>\n",
              "      <td>2016-03-05 19:56:21</td>\n",
              "      <td>1199</td>\n",
              "      <td>convertible</td>\n",
              "      <td>2000</td>\n",
              "      <td>auto</td>\n",
              "      <td>101</td>\n",
              "      <td>fortwo</td>\n",
              "      <td>125000</td>\n",
              "      <td>3</td>\n",
              "      <td>petrol</td>\n",
              "      <td>smart</td>\n",
              "      <td>no</td>\n",
              "      <td>2016-03-05 00:00:00</td>\n",
              "      <td>0</td>\n",
              "      <td>26135</td>\n",
              "      <td>2016-03-11 18:17:12</td>\n",
              "    </tr>\n",
              "    <tr>\n",
              "      <th>354367</th>\n",
              "      <td>2016-03-19 18:57:12</td>\n",
              "      <td>9200</td>\n",
              "      <td>bus</td>\n",
              "      <td>1996</td>\n",
              "      <td>manual</td>\n",
              "      <td>102</td>\n",
              "      <td>transporter</td>\n",
              "      <td>150000</td>\n",
              "      <td>3</td>\n",
              "      <td>gasoline</td>\n",
              "      <td>volkswagen</td>\n",
              "      <td>no</td>\n",
              "      <td>2016-03-19 00:00:00</td>\n",
              "      <td>0</td>\n",
              "      <td>87439</td>\n",
              "      <td>2016-04-07 07:15:26</td>\n",
              "    </tr>\n",
              "    <tr>\n",
              "      <th>354368</th>\n",
              "      <td>2016-03-20 19:41:08</td>\n",
              "      <td>3400</td>\n",
              "      <td>wagon</td>\n",
              "      <td>2002</td>\n",
              "      <td>manual</td>\n",
              "      <td>100</td>\n",
              "      <td>golf</td>\n",
              "      <td>150000</td>\n",
              "      <td>6</td>\n",
              "      <td>gasoline</td>\n",
              "      <td>volkswagen</td>\n",
              "      <td>NaN</td>\n",
              "      <td>2016-03-20 00:00:00</td>\n",
              "      <td>0</td>\n",
              "      <td>40764</td>\n",
              "      <td>2016-03-24 12:45:21</td>\n",
              "    </tr>\n",
              "  </tbody>\n",
              "</table>\n",
              "<p>354369 rows × 16 columns</p>\n",
              "</div>"
            ],
            "text/plain": [
              "                DateCrawled  Price  VehicleType  RegistrationYear Gearbox  \\\n",
              "0       2016-03-24 11:52:17    480          NaN              1993  manual   \n",
              "1       2016-03-24 10:58:45  18300        coupe              2011  manual   \n",
              "2       2016-03-14 12:52:21   9800          suv              2004    auto   \n",
              "3       2016-03-17 16:54:04   1500        small              2001  manual   \n",
              "4       2016-03-31 17:25:20   3600        small              2008  manual   \n",
              "...                     ...    ...          ...               ...     ...   \n",
              "354364  2016-03-21 09:50:58      0          NaN              2005  manual   \n",
              "354365  2016-03-14 17:48:27   2200          NaN              2005     NaN   \n",
              "354366  2016-03-05 19:56:21   1199  convertible              2000    auto   \n",
              "354367  2016-03-19 18:57:12   9200          bus              1996  manual   \n",
              "354368  2016-03-20 19:41:08   3400        wagon              2002  manual   \n",
              "\n",
              "        Power        Model  Kilometer  RegistrationMonth  FuelType  \\\n",
              "0           0         golf     150000                  0    petrol   \n",
              "1         190          NaN     125000                  5  gasoline   \n",
              "2         163        grand     125000                  8  gasoline   \n",
              "3          75         golf     150000                  6    petrol   \n",
              "4          69        fabia      90000                  7  gasoline   \n",
              "...       ...          ...        ...                ...       ...   \n",
              "354364      0         colt     150000                  7    petrol   \n",
              "354365      0          NaN      20000                  1       NaN   \n",
              "354366    101       fortwo     125000                  3    petrol   \n",
              "354367    102  transporter     150000                  3  gasoline   \n",
              "354368    100         golf     150000                  6  gasoline   \n",
              "\n",
              "                 Brand Repaired          DateCreated  NumberOfPictures  \\\n",
              "0           volkswagen      NaN  2016-03-24 00:00:00                 0   \n",
              "1                 audi      yes  2016-03-24 00:00:00                 0   \n",
              "2                 jeep      NaN  2016-03-14 00:00:00                 0   \n",
              "3           volkswagen       no  2016-03-17 00:00:00                 0   \n",
              "4                skoda       no  2016-03-31 00:00:00                 0   \n",
              "...                ...      ...                  ...               ...   \n",
              "354364      mitsubishi      yes  2016-03-21 00:00:00                 0   \n",
              "354365  sonstige_autos      NaN  2016-03-14 00:00:00                 0   \n",
              "354366           smart       no  2016-03-05 00:00:00                 0   \n",
              "354367      volkswagen       no  2016-03-19 00:00:00                 0   \n",
              "354368      volkswagen      NaN  2016-03-20 00:00:00                 0   \n",
              "\n",
              "        PostalCode             LastSeen  \n",
              "0            70435  2016-04-07 03:16:57  \n",
              "1            66954  2016-04-07 01:46:50  \n",
              "2            90480  2016-04-05 12:47:46  \n",
              "3            91074  2016-03-17 17:40:17  \n",
              "4            60437  2016-04-06 10:17:21  \n",
              "...            ...                  ...  \n",
              "354364        2694  2016-03-21 10:42:49  \n",
              "354365       39576  2016-04-06 00:46:52  \n",
              "354366       26135  2016-03-11 18:17:12  \n",
              "354367       87439  2016-04-07 07:15:26  \n",
              "354368       40764  2016-03-24 12:45:21  \n",
              "\n",
              "[354369 rows x 16 columns]"
            ]
          },
          "execution_count": 4,
          "metadata": {},
          "output_type": "execute_result"
        }
      ],
      "source": [
        "df"
      ]
    },
    {
      "cell_type": "code",
      "execution_count": null,
      "metadata": {
        "id": "Ps6AI8UWMtWW",
        "outputId": "e29d0781-9092-4d40-bfcf-b3e701a13674"
      },
      "outputs": [
        {
          "name": "stdout",
          "output_type": "stream",
          "text": [
            "<class 'pandas.core.frame.DataFrame'>\n",
            "RangeIndex: 354369 entries, 0 to 354368\n",
            "Data columns (total 16 columns):\n",
            " #   Column             Non-Null Count   Dtype \n",
            "---  ------             --------------   ----- \n",
            " 0   DateCrawled        354369 non-null  object\n",
            " 1   Price              354369 non-null  int64 \n",
            " 2   VehicleType        316879 non-null  object\n",
            " 3   RegistrationYear   354369 non-null  int64 \n",
            " 4   Gearbox            334536 non-null  object\n",
            " 5   Power              354369 non-null  int64 \n",
            " 6   Model              334664 non-null  object\n",
            " 7   Kilometer          354369 non-null  int64 \n",
            " 8   RegistrationMonth  354369 non-null  int64 \n",
            " 9   FuelType           321474 non-null  object\n",
            " 10  Brand              354369 non-null  object\n",
            " 11  Repaired           283215 non-null  object\n",
            " 12  DateCreated        354369 non-null  object\n",
            " 13  NumberOfPictures   354369 non-null  int64 \n",
            " 14  PostalCode         354369 non-null  int64 \n",
            " 15  LastSeen           354369 non-null  object\n",
            "dtypes: int64(7), object(9)\n",
            "memory usage: 43.3+ MB\n"
          ]
        }
      ],
      "source": [
        "df.info()"
      ]
    },
    {
      "cell_type": "code",
      "execution_count": null,
      "metadata": {
        "scrolled": true,
        "id": "yRo6Y6mSMtWX",
        "outputId": "967356db-37fd-47f2-8022-e096f78f6255"
      },
      "outputs": [
        {
          "data": {
            "text/html": [
              "<div>\n",
              "<style scoped>\n",
              "    .dataframe tbody tr th:only-of-type {\n",
              "        vertical-align: middle;\n",
              "    }\n",
              "\n",
              "    .dataframe tbody tr th {\n",
              "        vertical-align: top;\n",
              "    }\n",
              "\n",
              "    .dataframe thead th {\n",
              "        text-align: right;\n",
              "    }\n",
              "</style>\n",
              "<table border=\"1\" class=\"dataframe\">\n",
              "  <thead>\n",
              "    <tr style=\"text-align: right;\">\n",
              "      <th></th>\n",
              "      <th>Price</th>\n",
              "      <th>RegistrationYear</th>\n",
              "      <th>Power</th>\n",
              "      <th>Kilometer</th>\n",
              "      <th>RegistrationMonth</th>\n",
              "      <th>NumberOfPictures</th>\n",
              "      <th>PostalCode</th>\n",
              "    </tr>\n",
              "  </thead>\n",
              "  <tbody>\n",
              "    <tr>\n",
              "      <th>count</th>\n",
              "      <td>354369.000000</td>\n",
              "      <td>354369.000000</td>\n",
              "      <td>354369.000000</td>\n",
              "      <td>354369.000000</td>\n",
              "      <td>354369.000000</td>\n",
              "      <td>354369.0</td>\n",
              "      <td>354369.000000</td>\n",
              "    </tr>\n",
              "    <tr>\n",
              "      <th>mean</th>\n",
              "      <td>4416.656776</td>\n",
              "      <td>2004.234448</td>\n",
              "      <td>110.094337</td>\n",
              "      <td>128211.172535</td>\n",
              "      <td>5.714645</td>\n",
              "      <td>0.0</td>\n",
              "      <td>50508.689087</td>\n",
              "    </tr>\n",
              "    <tr>\n",
              "      <th>std</th>\n",
              "      <td>4514.158514</td>\n",
              "      <td>90.227958</td>\n",
              "      <td>189.850405</td>\n",
              "      <td>37905.341530</td>\n",
              "      <td>3.726421</td>\n",
              "      <td>0.0</td>\n",
              "      <td>25783.096248</td>\n",
              "    </tr>\n",
              "    <tr>\n",
              "      <th>min</th>\n",
              "      <td>0.000000</td>\n",
              "      <td>1000.000000</td>\n",
              "      <td>0.000000</td>\n",
              "      <td>5000.000000</td>\n",
              "      <td>0.000000</td>\n",
              "      <td>0.0</td>\n",
              "      <td>1067.000000</td>\n",
              "    </tr>\n",
              "    <tr>\n",
              "      <th>25%</th>\n",
              "      <td>1050.000000</td>\n",
              "      <td>1999.000000</td>\n",
              "      <td>69.000000</td>\n",
              "      <td>125000.000000</td>\n",
              "      <td>3.000000</td>\n",
              "      <td>0.0</td>\n",
              "      <td>30165.000000</td>\n",
              "    </tr>\n",
              "    <tr>\n",
              "      <th>50%</th>\n",
              "      <td>2700.000000</td>\n",
              "      <td>2003.000000</td>\n",
              "      <td>105.000000</td>\n",
              "      <td>150000.000000</td>\n",
              "      <td>6.000000</td>\n",
              "      <td>0.0</td>\n",
              "      <td>49413.000000</td>\n",
              "    </tr>\n",
              "    <tr>\n",
              "      <th>75%</th>\n",
              "      <td>6400.000000</td>\n",
              "      <td>2008.000000</td>\n",
              "      <td>143.000000</td>\n",
              "      <td>150000.000000</td>\n",
              "      <td>9.000000</td>\n",
              "      <td>0.0</td>\n",
              "      <td>71083.000000</td>\n",
              "    </tr>\n",
              "    <tr>\n",
              "      <th>max</th>\n",
              "      <td>20000.000000</td>\n",
              "      <td>9999.000000</td>\n",
              "      <td>20000.000000</td>\n",
              "      <td>150000.000000</td>\n",
              "      <td>12.000000</td>\n",
              "      <td>0.0</td>\n",
              "      <td>99998.000000</td>\n",
              "    </tr>\n",
              "  </tbody>\n",
              "</table>\n",
              "</div>"
            ],
            "text/plain": [
              "               Price  RegistrationYear          Power      Kilometer  \\\n",
              "count  354369.000000     354369.000000  354369.000000  354369.000000   \n",
              "mean     4416.656776       2004.234448     110.094337  128211.172535   \n",
              "std      4514.158514         90.227958     189.850405   37905.341530   \n",
              "min         0.000000       1000.000000       0.000000    5000.000000   \n",
              "25%      1050.000000       1999.000000      69.000000  125000.000000   \n",
              "50%      2700.000000       2003.000000     105.000000  150000.000000   \n",
              "75%      6400.000000       2008.000000     143.000000  150000.000000   \n",
              "max     20000.000000       9999.000000   20000.000000  150000.000000   \n",
              "\n",
              "       RegistrationMonth  NumberOfPictures     PostalCode  \n",
              "count      354369.000000          354369.0  354369.000000  \n",
              "mean            5.714645               0.0   50508.689087  \n",
              "std             3.726421               0.0   25783.096248  \n",
              "min             0.000000               0.0    1067.000000  \n",
              "25%             3.000000               0.0   30165.000000  \n",
              "50%             6.000000               0.0   49413.000000  \n",
              "75%             9.000000               0.0   71083.000000  \n",
              "max            12.000000               0.0   99998.000000  "
            ]
          },
          "execution_count": 6,
          "metadata": {},
          "output_type": "execute_result"
        }
      ],
      "source": [
        "df.describe()"
      ]
    },
    {
      "cell_type": "code",
      "execution_count": null,
      "metadata": {
        "id": "skETBRyrMtWX",
        "outputId": "ad159f5f-bd76-4d57-97b9-17366f5a7f80"
      },
      "outputs": [
        {
          "data": {
            "text/html": [
              "<div>\n",
              "<style scoped>\n",
              "    .dataframe tbody tr th:only-of-type {\n",
              "        vertical-align: middle;\n",
              "    }\n",
              "\n",
              "    .dataframe tbody tr th {\n",
              "        vertical-align: top;\n",
              "    }\n",
              "\n",
              "    .dataframe thead th {\n",
              "        text-align: right;\n",
              "    }\n",
              "</style>\n",
              "<table border=\"1\" class=\"dataframe\">\n",
              "  <thead>\n",
              "    <tr style=\"text-align: right;\">\n",
              "      <th></th>\n",
              "      <th>Price</th>\n",
              "      <th>RegistrationYear</th>\n",
              "      <th>Power</th>\n",
              "      <th>Kilometer</th>\n",
              "      <th>RegistrationMonth</th>\n",
              "      <th>NumberOfPictures</th>\n",
              "      <th>PostalCode</th>\n",
              "    </tr>\n",
              "  </thead>\n",
              "  <tbody>\n",
              "    <tr>\n",
              "      <th>Price</th>\n",
              "      <td>1.000000</td>\n",
              "      <td>0.026916</td>\n",
              "      <td>0.158872</td>\n",
              "      <td>-0.333199</td>\n",
              "      <td>0.110581</td>\n",
              "      <td>NaN</td>\n",
              "      <td>0.076055</td>\n",
              "    </tr>\n",
              "    <tr>\n",
              "      <th>RegistrationYear</th>\n",
              "      <td>0.026916</td>\n",
              "      <td>1.000000</td>\n",
              "      <td>-0.000828</td>\n",
              "      <td>-0.053447</td>\n",
              "      <td>-0.011619</td>\n",
              "      <td>NaN</td>\n",
              "      <td>-0.003459</td>\n",
              "    </tr>\n",
              "    <tr>\n",
              "      <th>Power</th>\n",
              "      <td>0.158872</td>\n",
              "      <td>-0.000828</td>\n",
              "      <td>1.000000</td>\n",
              "      <td>0.024002</td>\n",
              "      <td>0.043380</td>\n",
              "      <td>NaN</td>\n",
              "      <td>0.021665</td>\n",
              "    </tr>\n",
              "    <tr>\n",
              "      <th>Kilometer</th>\n",
              "      <td>-0.333199</td>\n",
              "      <td>-0.053447</td>\n",
              "      <td>0.024002</td>\n",
              "      <td>1.000000</td>\n",
              "      <td>0.009571</td>\n",
              "      <td>NaN</td>\n",
              "      <td>-0.007698</td>\n",
              "    </tr>\n",
              "    <tr>\n",
              "      <th>RegistrationMonth</th>\n",
              "      <td>0.110581</td>\n",
              "      <td>-0.011619</td>\n",
              "      <td>0.043380</td>\n",
              "      <td>0.009571</td>\n",
              "      <td>1.000000</td>\n",
              "      <td>NaN</td>\n",
              "      <td>0.013995</td>\n",
              "    </tr>\n",
              "    <tr>\n",
              "      <th>NumberOfPictures</th>\n",
              "      <td>NaN</td>\n",
              "      <td>NaN</td>\n",
              "      <td>NaN</td>\n",
              "      <td>NaN</td>\n",
              "      <td>NaN</td>\n",
              "      <td>NaN</td>\n",
              "      <td>NaN</td>\n",
              "    </tr>\n",
              "    <tr>\n",
              "      <th>PostalCode</th>\n",
              "      <td>0.076055</td>\n",
              "      <td>-0.003459</td>\n",
              "      <td>0.021665</td>\n",
              "      <td>-0.007698</td>\n",
              "      <td>0.013995</td>\n",
              "      <td>NaN</td>\n",
              "      <td>1.000000</td>\n",
              "    </tr>\n",
              "  </tbody>\n",
              "</table>\n",
              "</div>"
            ],
            "text/plain": [
              "                      Price  RegistrationYear     Power  Kilometer  \\\n",
              "Price              1.000000          0.026916  0.158872  -0.333199   \n",
              "RegistrationYear   0.026916          1.000000 -0.000828  -0.053447   \n",
              "Power              0.158872         -0.000828  1.000000   0.024002   \n",
              "Kilometer         -0.333199         -0.053447  0.024002   1.000000   \n",
              "RegistrationMonth  0.110581         -0.011619  0.043380   0.009571   \n",
              "NumberOfPictures        NaN               NaN       NaN        NaN   \n",
              "PostalCode         0.076055         -0.003459  0.021665  -0.007698   \n",
              "\n",
              "                   RegistrationMonth  NumberOfPictures  PostalCode  \n",
              "Price                       0.110581               NaN    0.076055  \n",
              "RegistrationYear           -0.011619               NaN   -0.003459  \n",
              "Power                       0.043380               NaN    0.021665  \n",
              "Kilometer                   0.009571               NaN   -0.007698  \n",
              "RegistrationMonth           1.000000               NaN    0.013995  \n",
              "NumberOfPictures                 NaN               NaN         NaN  \n",
              "PostalCode                  0.013995               NaN    1.000000  "
            ]
          },
          "execution_count": 7,
          "metadata": {},
          "output_type": "execute_result"
        }
      ],
      "source": [
        "df.corr()"
      ]
    },
    {
      "cell_type": "markdown",
      "metadata": {
        "id": "oYxh8UEPMtWX"
      },
      "source": [
        "Перед нами датасет с большим количеством объектов, 15 признаками. Каждый объект представляет собой автомобиль выставленный на продажу.  \n",
        "Первое, что бросается в глаза это \"Верблюжий стиль\" написания названий признаков и неверный тип признаков в колонках с датами, также присутствуют аномальные значения и естьь пропуски в некоторых данных. -> Приведем все названия признаков к \"Змеиному регистру\" и изменим тип данных."
      ]
    },
    {
      "cell_type": "code",
      "execution_count": null,
      "metadata": {
        "scrolled": false,
        "id": "PT1T_58HMtWX"
      },
      "outputs": [],
      "source": [
        "cols={'DateCrawled':'Date_Crawled',\n",
        "     'VehicleType':'Vehicle_Type',\n",
        "     'RegistrationYear':'Registration_Year',\n",
        "     'RegistrationMonth':'Registration_Month',\n",
        "      'FuelType':'Fuel_Type',\n",
        "     'DateCreated':'Date_Created',\n",
        "     'NumberOfPictures':'Num_Of_Pics',\n",
        "     'PostalCode':'Postal_Code',\n",
        "     'LastSeen':'Last_Seen'\n",
        "    }\n",
        "df=df.rename(columns=cols)\n",
        "df.columns=df.columns.str.lower()"
      ]
    },
    {
      "cell_type": "code",
      "execution_count": null,
      "metadata": {
        "id": "Vlzwoam5MtWY"
      },
      "outputs": [],
      "source": [
        "df.date_crawled=pd.to_datetime(df.date_crawled)\n",
        "df.date_created=pd.to_datetime(df.date_created)\n",
        "df.last_seen=pd.to_datetime(df.last_seen)"
      ]
    },
    {
      "cell_type": "markdown",
      "metadata": {
        "id": "O-Uv1u7TMtWY"
      },
      "source": [
        "Рассмотрим подробнее пропуски:"
      ]
    },
    {
      "cell_type": "code",
      "execution_count": null,
      "metadata": {
        "scrolled": true,
        "id": "d5ILd7gqMtWY",
        "outputId": "5542874a-4a8e-4821-fb50-32d46b4361ab"
      },
      "outputs": [
        {
          "data": {
            "text/plain": [
              "date_crawled           0.00\n",
              "price                  0.00\n",
              "vehicle_type          10.58\n",
              "registration_year      0.00\n",
              "gearbox                5.60\n",
              "power                  0.00\n",
              "model                  5.56\n",
              "kilometer              0.00\n",
              "registration_month     0.00\n",
              "fuel_type              9.28\n",
              "brand                  0.00\n",
              "repaired              20.08\n",
              "date_created           0.00\n",
              "num_of_pics            0.00\n",
              "postal_code            0.00\n",
              "last_seen              0.00\n",
              "dtype: float64"
            ]
          },
          "execution_count": 10,
          "metadata": {},
          "output_type": "execute_result"
        }
      ],
      "source": [
        "round(df.isna().sum()/len(df)*100,2)"
      ]
    },
    {
      "cell_type": "markdown",
      "metadata": {
        "id": "K4RHl5-vMtWY"
      },
      "source": [
        "Наблюдаются пропуски в переменных 'vehicle_type' ~ 10.58%, 'gearbox' ~ 5.6%, 'model' ~ 5.56%, 'fuel_type' ~ 9.28% и 'repaired' ~ 20.08."
      ]
    },
    {
      "cell_type": "markdown",
      "metadata": {
        "id": "AhMeAI28MtWZ"
      },
      "source": [
        "Приступим к анализу каждого пизнака по порядку, начнем с цены:"
      ]
    },
    {
      "cell_type": "code",
      "execution_count": null,
      "metadata": {
        "id": "ZEsP75PCMtWZ",
        "outputId": "37ef9e87-08e1-4b01-abad-d8a5e4692bb1"
      },
      "outputs": [
        {
          "data": {
            "image/png": "[encoded data removed]",
            "text/plain": [
              "<Figure size 720x432 with 1 Axes>"
            ]
          },
          "metadata": {
            "needs_background": "light"
          },
          "output_type": "display_data"
        }
      ],
      "source": [
        "plt.figure(figsize=(10, 6))\n",
        "plt.hist(df['price'], bins=200,color='blue')\n",
        "plt.xlabel('Значение цены')\n",
        "plt.ylabel('Частота в данных')\n",
        "plt.title('Цена на авто',fontsize=16)\n",
        "plt.show()"
      ]
    },
    {
      "cell_type": "markdown",
      "metadata": {
        "id": "gaIahYrZMtWa"
      },
      "source": [
        "Внимание привлекают нулевые и околонулевые значения - это явно аномальные значения:"
      ]
    },
    {
      "cell_type": "code",
      "execution_count": null,
      "metadata": {
        "id": "lPufQs5RMtWa",
        "outputId": "4ffe4243-c1c8-4384-ea35-93291b0f2a92"
      },
      "outputs": [
        {
          "data": {
            "text/plain": [
              "3.0397692800442475"
            ]
          },
          "execution_count": 12,
          "metadata": {},
          "output_type": "execute_result"
        }
      ],
      "source": [
        "df.loc[df['price']==0]['price'].count()/len(df)*100"
      ]
    },
    {
      "cell_type": "markdown",
      "metadata": {
        "id": "JwLH5qXUMtWa"
      },
      "source": [
        "Всего около 3% нулевых значений цены, рассмотрим подробнее диапазоны от 0 до 1000 и выше 20000:"
      ]
    },
    {
      "cell_type": "code",
      "execution_count": null,
      "metadata": {
        "id": "WZoz6gkJMtWa",
        "outputId": "585a7d6a-867c-415d-fd9f-0721809a88c0"
      },
      "outputs": [
        {
          "data": {
            "image/png": "[encoded data removed]",
            "text/plain": [
              "<Figure size 1080x432 with 2 Axes>"
            ]
          },
          "metadata": {
            "needs_background": "light"
          },
          "output_type": "display_data"
        }
      ],
      "source": [
        "fig,(ax1, ax2)=plt.subplots(1,2,figsize=(15,6))\n",
        "fig.suptitle('Поиск аномальных значений цен', fontsize=16)\n",
        "ax1.hist(df.query('price<1000')['price'],bins=20)\n",
        "ax1.set_xlabel('Значение цены')\n",
        "ax1.set_ylabel('Частота')\n",
        "ax1.set_title('Диапазон от 0 до 1000')\n",
        "\n",
        "ax2.hist(df.query('price>19000')['price'],bins=20)\n",
        "ax2.set_xlabel('Значение цены')\n",
        "ax2.set_ylabel('Частота')\n",
        "ax2.set_title('Диапазон от 19000 и выше')\n",
        "\n",
        "plt.show()"
      ]
    },
    {
      "cell_type": "markdown",
      "metadata": {
        "id": "2Yd1T7SLMtWb"
      },
      "source": [
        "Думаю рацональным оставить цену за авто хотя бы выше 100 евро."
      ]
    },
    {
      "cell_type": "code",
      "execution_count": null,
      "metadata": {
        "id": "pN5MgStrMtWb"
      },
      "outputs": [],
      "source": [
        "df=df.query('price>100')"
      ]
    },
    {
      "cell_type": "markdown",
      "metadata": {
        "id": "jS4rUj6MMtWb"
      },
      "source": [
        "Расмотрим тип автомобильного кузова:"
      ]
    },
    {
      "cell_type": "code",
      "execution_count": null,
      "metadata": {
        "scrolled": false,
        "id": "z9-zEhRqMtWb",
        "outputId": "5f47fcab-f3e8-41e6-b969-3d222c19bf21"
      },
      "outputs": [
        {
          "data": {
            "image/png": "[encoded data removed]",
            "text/plain": [
              "<Figure size 720x720 with 1 Axes>"
            ]
          },
          "metadata": {
            "needs_background": "light"
          },
          "output_type": "display_data"
        }
      ],
      "source": [
        "df.vehicle_type.value_counts(dropna=False).plot(kind='bar', rot=0, figsize=(10,10))\n",
        "plt.title('Распределение типов кузова', fontsize=16)\n",
        "plt.xlabel('Тип кузова')\n",
        "plt.ylabel('Количество')\n",
        "plt.show()"
      ]
    },
    {
      "cell_type": "markdown",
      "metadata": {
        "id": "FiASntKlMtWk"
      },
      "source": [
        "В данном признаке присутствует около 40000 пропусков - заполним их \"заглушкой\"."
      ]
    },
    {
      "cell_type": "code",
      "execution_count": null,
      "metadata": {
        "id": "KXzfODzIMtWk"
      },
      "outputs": [],
      "source": [
        "df.vehicle_type=df.vehicle_type.fillna('unknown')"
      ]
    },
    {
      "cell_type": "markdown",
      "metadata": {
        "id": "9YRRVbDEMtWl"
      },
      "source": [
        "Изучим год регистрации:"
      ]
    },
    {
      "cell_type": "code",
      "execution_count": null,
      "metadata": {
        "id": "l_CTyqJYMtWl",
        "outputId": "7d7192d5-ade9-486f-c77a-f8d8cc1e102d"
      },
      "outputs": [
        {
          "data": {
            "image/png": "[encoded data removed]",
            "text/plain": [
              "<Figure size 720x720 with 1 Axes>"
            ]
          },
          "metadata": {
            "needs_background": "light"
          },
          "output_type": "display_data"
        }
      ],
      "source": [
        "df.registration_year.hist(figsize=(10,10))\n",
        "plt.title('Распределение по году регистрации', fontsize=16)\n",
        "plt.xlabel('Год регистрации')\n",
        "plt.ylabel('Количество')\n",
        "plt.show()"
      ]
    },
    {
      "cell_type": "markdown",
      "metadata": {
        "id": "x2l4uxP8MtWl"
      },
      "source": [
        "Разброс на оси x от 0 до 10000 предполагает наличие аномальных значений в признаке \"registration_year\". Найдем предполагаемый минимальный год регистрации (а не год выпуска!) - основываясь на здравом смысле отсекаем все даты до 1950 года :)"
      ]
    },
    {
      "cell_type": "code",
      "execution_count": null,
      "metadata": {
        "id": "w940jl1_MtWl",
        "outputId": "b72aafee-3cec-41e8-fb23-033118d4f1b6"
      },
      "outputs": [
        {
          "data": {
            "text/plain": [
              "array([1979, 1978, 1977, 1976, 1975, 1974, 1973, 1972, 1971, 1970, 1969,\n",
              "       1968, 1967, 1966, 1965, 1964, 1963, 1962, 1961, 1960, 1959, 1958,\n",
              "       1957, 1956, 1955, 1954, 1953, 1952, 1951, 1950, 1949, 1948, 1947,\n",
              "       1946, 1945, 1944, 1943, 1942, 1941, 1940, 1938, 1937, 1936, 1935,\n",
              "       1934, 1933, 1932, 1931, 1930, 1929, 1928, 1927, 1925, 1923, 1910,\n",
              "       1800, 1602, 1600, 1500, 1400, 1300, 1234, 1111, 1039, 1001, 1000])"
            ]
          },
          "execution_count": 18,
          "metadata": {},
          "output_type": "execute_result"
        }
      ],
      "source": [
        "np.sort(df.query('registration_year<1980')['registration_year'].unique())[::-1]"
      ]
    },
    {
      "cell_type": "code",
      "execution_count": null,
      "metadata": {
        "id": "5XrJsn2zMtWm"
      },
      "outputs": [],
      "source": [
        "min_year=1950"
      ]
    },
    {
      "cell_type": "markdown",
      "metadata": {
        "id": "mgNDJY87MtWm"
      },
      "source": [
        "А теперь максимальный (год регистрации не может быть больше года заполнения анкеты):"
      ]
    },
    {
      "cell_type": "code",
      "execution_count": null,
      "metadata": {
        "id": "p0iz2dRVMtWm",
        "outputId": "c54c3ed1-7f28-4cc8-8d8a-75d20d2634cf"
      },
      "outputs": [
        {
          "name": "stdout",
          "output_type": "stream",
          "text": [
            "Максимальное значение года анкетирования: 2016\n"
          ]
        }
      ],
      "source": [
        "max_year = df['date_crawled'].dt.year.max()\n",
        "print('Максимальное значение года анкетирования:',max_year)"
      ]
    },
    {
      "cell_type": "code",
      "execution_count": null,
      "metadata": {
        "id": "hVPl2tWuMtWm"
      },
      "outputs": [],
      "source": [
        "df=df.query('@min_year<=registration_year<=@max_year')"
      ]
    },
    {
      "cell_type": "markdown",
      "metadata": {
        "id": "JgSZxwd8MtWn"
      },
      "source": [
        "Пропуски в переменных \"gearbox\" и \"model\" предлагаю заполнить заглушкой:"
      ]
    },
    {
      "cell_type": "code",
      "execution_count": null,
      "metadata": {
        "id": "cbzTZvYcMtWn"
      },
      "outputs": [],
      "source": [
        "df.gearbox=df.gearbox.fillna('unknown')"
      ]
    },
    {
      "cell_type": "code",
      "execution_count": null,
      "metadata": {
        "id": "D5B1A4A8MtWn"
      },
      "outputs": [],
      "source": [
        "df.model=df.model.fillna('unknown')"
      ]
    },
    {
      "cell_type": "markdown",
      "metadata": {
        "id": "g6h0YRqaMtWo"
      },
      "source": [
        "Пропуски в переменной \"power\" заполним средним значением мощности по модели:"
      ]
    },
    {
      "cell_type": "code",
      "execution_count": null,
      "metadata": {
        "id": "1p_8ivHLMtWo"
      },
      "outputs": [],
      "source": [
        "df['power']=df.groupby('model')['power'].transform(lambda x: x.replace(0, x.mean()))"
      ]
    },
    {
      "cell_type": "markdown",
      "metadata": {
        "id": "jn1DlYeRMtWo"
      },
      "source": [
        "Проверим а наличие аномальных значений, нижний порог - 15 л.с., верхний - 1000 л.с."
      ]
    },
    {
      "cell_type": "code",
      "execution_count": null,
      "metadata": {
        "id": "DMo6YfQMMtWo",
        "outputId": "b135a83e-6660-4a90-bb97-b62cab9e6404"
      },
      "outputs": [
        {
          "data": {
            "image/png": "[encoded data removed]",
            "text/plain": [
              "<Figure size 1080x432 with 2 Axes>"
            ]
          },
          "metadata": {
            "needs_background": "light"
          },
          "output_type": "display_data"
        }
      ],
      "source": [
        "fig,(ax1,ax2)=plt.subplots(1,2,figsize=(15,6))\n",
        "fig.suptitle('Поиск аномальных значений мощности', fontsize=16)\n",
        "ax1.hist(df.query('power<15').power, bins=40)\n",
        "ax1.set_xlabel('Значение мощности')\n",
        "ax1.set_ylabel('Частота')\n",
        "ax1.set_title('Диапазон от 0 до 15')\n",
        "\n",
        "ax2.hist(df.query('power>1000').power, bins=40)\n",
        "ax2.set_xlabel('Значение мощности')\n",
        "ax2.set_ylabel('Частота')\n",
        "ax2.set_title('Диапазон от 1000 и выше')\n",
        "\n",
        "plt.show()"
      ]
    },
    {
      "cell_type": "markdown",
      "metadata": {
        "id": "Ji0yivhzMtWp"
      },
      "source": [
        "Аномальных значений достаточно - уберем их."
      ]
    },
    {
      "cell_type": "code",
      "execution_count": null,
      "metadata": {
        "id": "0-M4GybSMtWp"
      },
      "outputs": [],
      "source": [
        "df=df.query('15<power<1000')"
      ]
    },
    {
      "cell_type": "markdown",
      "metadata": {
        "id": "gZOqzdOqMtWp"
      },
      "source": [
        "Переменная - пробег - в порядке:"
      ]
    },
    {
      "cell_type": "code",
      "execution_count": null,
      "metadata": {
        "scrolled": false,
        "id": "HoOvD6JvMtWq",
        "outputId": "449e502d-6125-40d1-d876-46cab8f26227"
      },
      "outputs": [
        {
          "data": {
            "image/png": "[encoded data removed]",
            "text/plain": [
              "<Figure size 576x432 with 1 Axes>"
            ]
          },
          "metadata": {
            "needs_background": "light"
          },
          "output_type": "display_data"
        }
      ],
      "source": [
        "df['kilometer'].hist(bins=5,figsize=(8,6))\n",
        "plt.title('Распределение по пробегу', fontsize=16)\n",
        "plt.xlabel('Пробег')\n",
        "plt.ylabel('Количество')\n",
        "plt.show()"
      ]
    },
    {
      "cell_type": "markdown",
      "metadata": {
        "id": "YBCHgTZHMtWq"
      },
      "source": [
        "В переменной - месяц - присутствует месяц = 0 + коэф корреляции практически равен 0. На мой взгляд такой признак оставлять нет смысла - добавим его в список на удаление:"
      ]
    },
    {
      "cell_type": "code",
      "execution_count": null,
      "metadata": {
        "id": "Lniy6ZZ4MtWr",
        "outputId": "f4a88c2a-c5e9-43e3-8361-96acf37452d2"
      },
      "outputs": [
        {
          "data": {
            "text/plain": [
              "[0, 1, 2, 3, 4, 5, 6, 7, 8, 9, 10, 11, 12]"
            ]
          },
          "execution_count": 28,
          "metadata": {},
          "output_type": "execute_result"
        }
      ],
      "source": [
        "sorted(df.registration_month.unique())"
      ]
    },
    {
      "cell_type": "markdown",
      "metadata": {
        "id": "QYDjpOAfMtWr"
      },
      "source": [
        "Пропуски в \"fuel_type\" и \"repaired\" заполним заглушкой:"
      ]
    },
    {
      "cell_type": "code",
      "execution_count": null,
      "metadata": {
        "id": "J1Mn9csyMtWr",
        "outputId": "2c4d5c81-64c0-41c0-a61a-18785f50b5a4"
      },
      "outputs": [
        {
          "data": {
            "text/plain": [
              "petrol      202623\n",
              "gasoline     94415\n",
              "NaN          22668\n",
              "lpg           5008\n",
              "cng            527\n",
              "hybrid         219\n",
              "other          140\n",
              "electric        55\n",
              "Name: fuel_type, dtype: int64"
            ]
          },
          "execution_count": 29,
          "metadata": {},
          "output_type": "execute_result"
        }
      ],
      "source": [
        "df.fuel_type.value_counts(dropna=False)"
      ]
    },
    {
      "cell_type": "code",
      "execution_count": null,
      "metadata": {
        "id": "UXFLIpEdMtWr"
      },
      "outputs": [],
      "source": [
        "df.fuel_type=df.fuel_type.fillna('unknown')"
      ]
    },
    {
      "cell_type": "code",
      "execution_count": null,
      "metadata": {
        "id": "5l2FiZlDMtWr",
        "outputId": "9d0cd53c-e7e2-4206-e155-ce91d572b13e"
      },
      "outputs": [
        {
          "data": {
            "text/plain": [
              "no     235970\n",
              "NaN     57726\n",
              "yes     31959\n",
              "Name: repaired, dtype: int64"
            ]
          },
          "execution_count": 31,
          "metadata": {},
          "output_type": "execute_result"
        }
      ],
      "source": [
        "df.repaired.value_counts(dropna=False)"
      ]
    },
    {
      "cell_type": "code",
      "execution_count": null,
      "metadata": {
        "id": "LJr81loPMtWs"
      },
      "outputs": [],
      "source": [
        "df.repaired=df.repaired.fillna('unknown')"
      ]
    },
    {
      "cell_type": "markdown",
      "metadata": {
        "id": "aGBOHmNwMtWs"
      },
      "source": [
        "В переменной - количество изображений - всего 1 значение = 0. Добавим его в список на удаление:"
      ]
    },
    {
      "cell_type": "code",
      "execution_count": null,
      "metadata": {
        "id": "Yd21xIn9MtWs",
        "outputId": "48174ca8-999c-4021-dfe7-1d599d34ce5b"
      },
      "outputs": [
        {
          "data": {
            "text/plain": [
              "0    325655\n",
              "Name: num_of_pics, dtype: int64"
            ]
          },
          "execution_count": 33,
          "metadata": {},
          "output_type": "execute_result"
        }
      ],
      "source": [
        "df.num_of_pics.value_counts()"
      ]
    },
    {
      "cell_type": "markdown",
      "metadata": {
        "id": "6YY55kIiMtWs"
      },
      "source": [
        "Переменную -почтовый индекс- нет смысла использовать, как числовый признак, он скорее подходит, как категориальный:"
      ]
    },
    {
      "cell_type": "code",
      "execution_count": null,
      "metadata": {
        "id": "mBZ2I9CJMtWs",
        "outputId": "6a12f7f1-1e03-41d1-a909-4cfa212d7b32"
      },
      "outputs": [
        {
          "data": {
            "text/plain": [
              "8132"
            ]
          },
          "execution_count": 34,
          "metadata": {},
          "output_type": "execute_result"
        }
      ],
      "source": [
        "df.postal_code.nunique()"
      ]
    },
    {
      "cell_type": "markdown",
      "metadata": {
        "id": "wRXj9lf1MtWt"
      },
      "source": [
        "В нем аж 8132 уникальных значения, но коэф корреляции с целевым признаком практически = 0. Добавим эту переменную также в список на удаление + включем в него все переменные с датами."
      ]
    },
    {
      "cell_type": "code",
      "execution_count": null,
      "metadata": {
        "id": "luAidnZ_MtWt",
        "outputId": "28c7f75c-517e-4eb0-e9db-f241acaae21a"
      },
      "outputs": [
        {
          "name": "stdout",
          "output_type": "stream",
          "text": [
            "<class 'pandas.core.frame.DataFrame'>\n",
            "Int64Index: 325655 entries, 0 to 354368\n",
            "Data columns (total 10 columns):\n",
            " #   Column             Non-Null Count   Dtype  \n",
            "---  ------             --------------   -----  \n",
            " 0   price              325655 non-null  int64  \n",
            " 1   vehicle_type       325655 non-null  object \n",
            " 2   registration_year  325655 non-null  int64  \n",
            " 3   gearbox            325655 non-null  object \n",
            " 4   power              325655 non-null  float64\n",
            " 5   model              325655 non-null  object \n",
            " 6   kilometer          325655 non-null  int64  \n",
            " 7   fuel_type          325655 non-null  object \n",
            " 8   brand              325655 non-null  object \n",
            " 9   repaired           325655 non-null  object \n",
            "dtypes: float64(1), int64(3), object(6)\n",
            "memory usage: 27.3+ MB\n"
          ]
        }
      ],
      "source": [
        "cols=['date_crawled','date_created','last_seen','num_of_pics','registration_month','postal_code']\n",
        "df=df.drop(columns=cols)\n",
        "df.info()"
      ]
    },
    {
      "cell_type": "code",
      "execution_count": null,
      "metadata": {
        "id": "ISLD0ualMtWt",
        "outputId": "3f3fb620-5e1e-4866-c3ed-53e667aed398"
      },
      "outputs": [
        {
          "name": "stdout",
          "output_type": "stream",
          "text": [
            "По завершению обработки пропусков было удалено ~ 8.1 % данных.\n"
          ]
        }
      ],
      "source": [
        "percent=round(100-len(df)/len(pd.read_csv('/datasets/autos.csv'))*100,2)\n",
        "print(\"По завершению обработки пропусков было удалено ~\",percent,'% данных.')"
      ]
    },
    {
      "cell_type": "markdown",
      "metadata": {
        "id": "Dj9ION5kMtWu"
      },
      "source": [
        "**Вывод:** Проведена обработка данных, выполнен краткий анализ переменных, их взаимосвязи. Обнаружены и удалены аномальные значения и заполнены, где возмжно, пропуски в данных. Приступаем к поиску оптимальной модели."
      ]
    },
    {
      "cell_type": "markdown",
      "metadata": {
        "id": "2s7oHOL6MtWu"
      },
      "source": [
        "## Обучение моделей"
      ]
    },
    {
      "cell_type": "markdown",
      "metadata": {
        "id": "KuyxvfJcMtWu"
      },
      "source": [
        "Для начала разделим датасет на обучающую, валидационную и тестовую выборки, а также выделим категориальные и числовые признаки для дальнейшего использования по ходу обучения."
      ]
    },
    {
      "cell_type": "code",
      "execution_count": null,
      "metadata": {
        "id": "Pe1HyOWaMtWu"
      },
      "outputs": [],
      "source": [
        "y=df.price\n",
        "X=df.drop('price',axis=1)"
      ]
    },
    {
      "cell_type": "code",
      "execution_count": null,
      "metadata": {
        "id": "X74OLgRVMtWv"
      },
      "outputs": [],
      "source": [
        "X_train,X_test,y_train,y_test=train_test_split(X,y,test_size=0.4,random_state=42)"
      ]
    },
    {
      "cell_type": "code",
      "execution_count": null,
      "metadata": {
        "id": "r-chn-npMtWv"
      },
      "outputs": [],
      "source": [
        "cat_features=X_train.select_dtypes(include='object').columns.to_list()\n",
        "num_features=X_train.select_dtypes(exclude='object').columns.to_list()"
      ]
    },
    {
      "cell_type": "markdown",
      "metadata": {
        "id": "hEmbWR97MtWv"
      },
      "source": [
        "Для данного задания я выбрал три модели - LinearRegression, CatBoost, LightGBM. Обучим все три и проверим на валидационной выборке, сравним показатель RMSE."
      ]
    },
    {
      "cell_type": "markdown",
      "metadata": {
        "id": "-wuC_SCfMtWv"
      },
      "source": [
        "**Линейная регрессия:**"
      ]
    },
    {
      "cell_type": "markdown",
      "metadata": {
        "id": "gWxi5y78MtWw"
      },
      "source": [
        "Вызовем make_column_transformer - метод позволяющий проводить манипуляции над признаками - масштабировать непрерывные переменные и кодировать категориальные."
      ]
    },
    {
      "cell_type": "code",
      "execution_count": null,
      "metadata": {
        "id": "9XYD-_mwMtWw"
      },
      "outputs": [],
      "source": [
        "X_train_lr = X_train.copy()\n",
        "X_test_lr = X_test.copy()\n",
        "y_train_lr=y_train.copy()\n",
        "y_test_lr=y_test.copy()"
      ]
    },
    {
      "cell_type": "code",
      "execution_count": null,
      "metadata": {
        "id": "ygY5oz2lMtWw"
      },
      "outputs": [],
      "source": [
        "col_transformer_lr = make_column_transformer(\n",
        "    (OneHotEncoder(drop='first', handle_unknown='ignore'),cat_features),\n",
        "    (StandardScaler(), num_features),\n",
        "    verbose_feature_names_out=False)\n",
        "\n",
        "# трансформируем тренировочную выборку\n",
        "X_train_lr = pd.DataFrame.sparse.from_spmatrix(\n",
        "    col_transformer_lr.fit_transform(X_train_lr),\n",
        "    columns=col_transformer_lr.get_feature_names_out())"
      ]
    },
    {
      "cell_type": "code",
      "execution_count": null,
      "metadata": {
        "id": "S14elLXPMtWx"
      },
      "outputs": [],
      "source": [
        "# трансформируем тестовую выборку\n",
        "X_test_lr = pd.DataFrame.sparse.from_spmatrix(\n",
        "    col_transformer_lr.transform(X_test_lr),\n",
        "    columns=col_transformer_lr.get_feature_names_out()\n",
        ")"
      ]
    },
    {
      "cell_type": "markdown",
      "metadata": {
        "id": "OZozfHkNMtWy"
      },
      "source": [
        "Обучим линейную ререссию и вычислим время обучения и предсказаний c помощью метода GridSearchCV:"
      ]
    },
    {
      "cell_type": "code",
      "execution_count": null,
      "metadata": {
        "id": "04hS4J_5MtWy"
      },
      "outputs": [],
      "source": [
        "model_lr=LinearRegression()\n",
        "params_grid_lr={}\n",
        "grid_search_lr = GridSearchCV(model_lr, params_grid_lr, cv=3,scoring='neg_mean_squared_error', error_score='raise')"
      ]
    },
    {
      "cell_type": "code",
      "execution_count": null,
      "metadata": {
        "id": "kIB9E4WNMtWy",
        "outputId": "69e80b95-0636-489d-be2a-8f2ec788ba65"
      },
      "outputs": [
        {
          "name": "stdout",
          "output_type": "stream",
          "text": [
            "CPU times: user 37.8 s, sys: 1min 13s, total: 1min 51s\n",
            "Wall time: 1min 51s\n"
          ]
        },
        {
          "data": {
            "text/html": [
              "<style>#sk-container-id-1 {color: black;background-color: white;}#sk-container-id-1 pre{padding: 0;}#sk-container-id-1 div.sk-toggleable {background-color: white;}#sk-container-id-1 label.sk-toggleable__label {cursor: pointer;display: block;width: 100%;margin-bottom: 0;padding: 0.3em;box-sizing: border-box;text-align: center;}#sk-container-id-1 label.sk-toggleable__label-arrow:before {content: \"▸\";float: left;margin-right: 0.25em;color: #696969;}#sk-container-id-1 label.sk-toggleable__label-arrow:hover:before {color: black;}#sk-container-id-1 div.sk-estimator:hover label.sk-toggleable__label-arrow:before {color: black;}#sk-container-id-1 div.sk-toggleable__content {max-height: 0;max-width: 0;overflow: hidden;text-align: left;background-color: #f0f8ff;}#sk-container-id-1 div.sk-toggleable__content pre {margin: 0.2em;color: black;border-radius: 0.25em;background-color: #f0f8ff;}#sk-container-id-1 input.sk-toggleable__control:checked~div.sk-toggleable__content {max-height: 200px;max-width: 100%;overflow: auto;}#sk-container-id-1 input.sk-toggleable__control:checked~label.sk-toggleable__label-arrow:before {content: \"▾\";}#sk-container-id-1 div.sk-estimator input.sk-toggleable__control:checked~label.sk-toggleable__label {background-color: #d4ebff;}#sk-container-id-1 div.sk-label input.sk-toggleable__control:checked~label.sk-toggleable__label {background-color: #d4ebff;}#sk-container-id-1 input.sk-hidden--visually {border: 0;clip: rect(1px 1px 1px 1px);clip: rect(1px, 1px, 1px, 1px);height: 1px;margin: -1px;overflow: hidden;padding: 0;position: absolute;width: 1px;}#sk-container-id-1 div.sk-estimator {font-family: monospace;background-color: #f0f8ff;border: 1px dotted black;border-radius: 0.25em;box-sizing: border-box;margin-bottom: 0.5em;}#sk-container-id-1 div.sk-estimator:hover {background-color: #d4ebff;}#sk-container-id-1 div.sk-parallel-item::after {content: \"\";width: 100%;border-bottom: 1px solid gray;flex-grow: 1;}#sk-container-id-1 div.sk-label:hover label.sk-toggleable__label {background-color: #d4ebff;}#sk-container-id-1 div.sk-serial::before {content: \"\";position: absolute;border-left: 1px solid gray;box-sizing: border-box;top: 0;bottom: 0;left: 50%;z-index: 0;}#sk-container-id-1 div.sk-serial {display: flex;flex-direction: column;align-items: center;background-color: white;padding-right: 0.2em;padding-left: 0.2em;position: relative;}#sk-container-id-1 div.sk-item {position: relative;z-index: 1;}#sk-container-id-1 div.sk-parallel {display: flex;align-items: stretch;justify-content: center;background-color: white;position: relative;}#sk-container-id-1 div.sk-item::before, #sk-container-id-1 div.sk-parallel-item::before {content: \"\";position: absolute;border-left: 1px solid gray;box-sizing: border-box;top: 0;bottom: 0;left: 50%;z-index: -1;}#sk-container-id-1 div.sk-parallel-item {display: flex;flex-direction: column;z-index: 1;position: relative;background-color: white;}#sk-container-id-1 div.sk-parallel-item:first-child::after {align-self: flex-end;width: 50%;}#sk-container-id-1 div.sk-parallel-item:last-child::after {align-self: flex-start;width: 50%;}#sk-container-id-1 div.sk-parallel-item:only-child::after {width: 0;}#sk-container-id-1 div.sk-dashed-wrapped {border: 1px dashed gray;margin: 0 0.4em 0.5em 0.4em;box-sizing: border-box;padding-bottom: 0.4em;background-color: white;}#sk-container-id-1 div.sk-label label {font-family: monospace;font-weight: bold;display: inline-block;line-height: 1.2em;}#sk-container-id-1 div.sk-label-container {text-align: center;}#sk-container-id-1 div.sk-container {/* jupyter's `normalize.less` sets `[hidden] { display: none; }` but bootstrap.min.css set `[hidden] { display: none !important; }` so we also need the `!important` here to be able to override the default hidden behavior on the sphinx rendered scikit-learn.org. See: https://github.com/scikit-learn/scikit-learn/issues/21755 */display: inline-block !important;position: relative;}#sk-container-id-1 div.sk-text-repr-fallback {display: none;}</style><div id=\"sk-container-id-1\" class=\"sk-top-container\"><div class=\"sk-text-repr-fallback\"><pre>GridSearchCV(cv=3, error_score=&#x27;raise&#x27;, estimator=LinearRegression(),\n",
              "             param_grid={}, scoring=&#x27;neg_mean_squared_error&#x27;)</pre><b>In a Jupyter environment, please rerun this cell to show the HTML representation or trust the notebook. <br />On GitHub, the HTML representation is unable to render, please try loading this page with nbviewer.org.</b></div><div class=\"sk-container\" hidden><div class=\"sk-item sk-dashed-wrapped\"><div class=\"sk-label-container\"><div class=\"sk-label sk-toggleable\"><input class=\"sk-toggleable__control sk-hidden--visually\" id=\"sk-estimator-id-1\" type=\"checkbox\" ><label for=\"sk-estimator-id-1\" class=\"sk-toggleable__label sk-toggleable__label-arrow\">GridSearchCV</label><div class=\"sk-toggleable__content\"><pre>GridSearchCV(cv=3, error_score=&#x27;raise&#x27;, estimator=LinearRegression(),\n",
              "             param_grid={}, scoring=&#x27;neg_mean_squared_error&#x27;)</pre></div></div></div><div class=\"sk-parallel\"><div class=\"sk-parallel-item\"><div class=\"sk-item\"><div class=\"sk-label-container\"><div class=\"sk-label sk-toggleable\"><input class=\"sk-toggleable__control sk-hidden--visually\" id=\"sk-estimator-id-2\" type=\"checkbox\" ><label for=\"sk-estimator-id-2\" class=\"sk-toggleable__label sk-toggleable__label-arrow\">estimator: LinearRegression</label><div class=\"sk-toggleable__content\"><pre>LinearRegression()</pre></div></div></div><div class=\"sk-serial\"><div class=\"sk-item\"><div class=\"sk-estimator sk-toggleable\"><input class=\"sk-toggleable__control sk-hidden--visually\" id=\"sk-estimator-id-3\" type=\"checkbox\" ><label for=\"sk-estimator-id-3\" class=\"sk-toggleable__label sk-toggleable__label-arrow\">LinearRegression</label><div class=\"sk-toggleable__content\"><pre>LinearRegression()</pre></div></div></div></div></div></div></div></div></div></div>"
            ],
            "text/plain": [
              "GridSearchCV(cv=3, error_score='raise', estimator=LinearRegression(),\n",
              "             param_grid={}, scoring='neg_mean_squared_error')"
            ]
          },
          "execution_count": 50,
          "metadata": {},
          "output_type": "execute_result"
        }
      ],
      "source": [
        "%%time\n",
        "grid_search_lr.fit(X_train_lr, y_train_lr)"
      ]
    },
    {
      "cell_type": "markdown",
      "metadata": {
        "id": "eMZdLhHzMtWy"
      },
      "source": [
        "Найдем лучший показатель RMSE:"
      ]
    },
    {
      "cell_type": "code",
      "execution_count": null,
      "metadata": {
        "id": "WjiHGcA-MtWz",
        "outputId": "da20cb7b-108e-4248-d76f-05144775da8e"
      },
      "outputs": [
        {
          "name": "stdout",
          "output_type": "stream",
          "text": [
            "RMSE Linear Regression: 2636.54\n"
          ]
        }
      ],
      "source": [
        "rmse_lr=np.sqrt(-grid_search_lr.best_score_)\n",
        "print(\"RMSE Linear Regression:\", round(rmse_lr,2))"
      ]
    },
    {
      "cell_type": "markdown",
      "metadata": {
        "id": "XUYmbkYqMtWz"
      },
      "source": [
        "Рассчитаем время обучения и предсказания:"
      ]
    },
    {
      "cell_type": "code",
      "execution_count": null,
      "metadata": {
        "id": "u5NsCczRMtWz"
      },
      "outputs": [],
      "source": [
        "start_time=time.time()\n",
        "\n",
        "model_lr.fit(X_train_lr, y_train)\n",
        "\n",
        "end_time=time.time()\n",
        "\n",
        "time_fit_lr=end_time-start_time"
      ]
    },
    {
      "cell_type": "code",
      "execution_count": null,
      "metadata": {
        "id": "7BWJZ-mVMtWz",
        "outputId": "e35f8848-7611-428a-b16e-441012310b0d"
      },
      "outputs": [
        {
          "name": "stdout",
          "output_type": "stream",
          "text": [
            "Время обучения Linear Regression: 32.83 сек\n",
            "Время предсказания Linear Regression: 0.0341 сек\n"
          ]
        }
      ],
      "source": [
        "start_time=time.time()\n",
        "\n",
        "y_pred = model_lr.predict(X_train_lr)\n",
        "\n",
        "end_time=time.time()\n",
        "\n",
        "time_pred_lr=end_time-start_time\n",
        "\n",
        "print(\"Время обучения Linear Regression:\", round(time_fit_lr,2),'сек')\n",
        "print(\"Время предсказания Linear Regression:\", round(time_pred_lr,5),'сек')"
      ]
    },
    {
      "cell_type": "markdown",
      "metadata": {
        "id": "FVWyXkNXMtW0"
      },
      "source": [
        "**LightGBM:**"
      ]
    },
    {
      "cell_type": "markdown",
      "metadata": {
        "id": "2O0AVxELMtW0"
      },
      "source": [
        "Зададим категориальный тип переменным для обучения модели и заново разделим датасет на тренировочную и тестовую выборки:"
      ]
    },
    {
      "cell_type": "code",
      "execution_count": null,
      "metadata": {
        "id": "ZGedluoLMtW0"
      },
      "outputs": [],
      "source": [
        "for c in cat_features:\n",
        "    df[c]=df[c].astype('category')"
      ]
    },
    {
      "cell_type": "code",
      "execution_count": null,
      "metadata": {
        "id": "QofmsoLUMtW0"
      },
      "outputs": [],
      "source": [
        "y=df.price\n",
        "X=df.drop('price',axis=1)"
      ]
    },
    {
      "cell_type": "code",
      "execution_count": null,
      "metadata": {
        "id": "xjrrseoVMtW0"
      },
      "outputs": [],
      "source": [
        "X_train,X_test,y_train,y_test=train_test_split(X,y,test_size=0.4,random_state=42)"
      ]
    },
    {
      "cell_type": "markdown",
      "metadata": {
        "id": "4RixJY3zMtW0"
      },
      "source": [
        "Для поиска гиперпараметров модели применим GridSearchCV:"
      ]
    },
    {
      "cell_type": "code",
      "execution_count": null,
      "metadata": {
        "id": "khcdDPUQMtW0"
      },
      "outputs": [],
      "source": [
        "fixed_params = {\n",
        "    'boosting_type': 'gbdt',\n",
        "    'objective': 'regression',\n",
        "    'metric': 'rmse',\n",
        "    'random_state':42\n",
        "}\n",
        "\n",
        "param_grid = {\n",
        "    'num_leaves': [31, 50],\n",
        "    'learning_rate': [0.1, 0.2],\n",
        "}\n",
        "\n",
        "\n",
        "base_model = lgb.LGBMRegressor(**fixed_params)\n",
        "grid_search = GridSearchCV(estimator=base_model, param_grid=param_grid, scoring='neg_mean_squared_error',cv=3)"
      ]
    },
    {
      "cell_type": "code",
      "execution_count": null,
      "metadata": {
        "id": "SHHSZxbsMtW1",
        "outputId": "a48339c1-6c5a-412d-c336-65a4449ee4c3"
      },
      "outputs": [
        {
          "name": "stdout",
          "output_type": "stream",
          "text": [
            "Наилучшие параметры:  {'learning_rate': 0.2, 'num_leaves': 50}\n",
            "Наилучший результат RMSE LightGBM:  1604.9807307480821\n",
            "CPU times: user 1min 15s, sys: 0 ns, total: 1min 15s\n",
            "Wall time: 1min 15s\n"
          ]
        }
      ],
      "source": [
        "%%time\n",
        "grid_search.fit(X_train, y_train)\n",
        "\n",
        "rmse_lgb = np.sqrt(-grid_search.best_score_)\n",
        "print(\"Наилучшие параметры: \", grid_search.best_params_)\n",
        "print(\"Наилучший результат RMSE LightGBM: \", rmse_lgb )"
      ]
    },
    {
      "cell_type": "markdown",
      "metadata": {
        "id": "UA3UGqGvMtW1"
      },
      "source": [
        "Теперь обновим сетку гиперпараметров модели, создадим класс Dataset для обучения и запустим сам процесс обучения и предсказаний для фикцации времени:"
      ]
    },
    {
      "cell_type": "code",
      "execution_count": null,
      "metadata": {
        "id": "H37Fvg2cMtW2"
      },
      "outputs": [],
      "source": [
        "params_lgb = {\n",
        "    'learning_rate': 0.2,\n",
        "    'num_leaves': 50,\n",
        "    'boosting_type': 'gbdt',\n",
        "    'objective': 'regression',\n",
        "    'metric': 'rmse',\n",
        "    'random_state':42\n",
        "}"
      ]
    },
    {
      "cell_type": "code",
      "execution_count": null,
      "metadata": {
        "id": "n2y1X7ZFMtW2"
      },
      "outputs": [],
      "source": [
        "train_data = lgb.Dataset(X_train, label=y_train, categorical_feature=cat_features)"
      ]
    },
    {
      "cell_type": "code",
      "execution_count": null,
      "metadata": {
        "id": "HOrQEEgwMtW2",
        "outputId": "d98f81fe-6422-4780-f143-02d9d1443ba0"
      },
      "outputs": [
        {
          "name": "stderr",
          "output_type": "stream",
          "text": [
            "/opt/conda/lib/python3.9/site-packages/lightgbm/basic.py:2065: UserWarning: Using categorical_feature in Dataset.\n",
            "  _log_warning('Using categorical_feature in Dataset.')\n"
          ]
        },
        {
          "name": "stdout",
          "output_type": "stream",
          "text": [
            "[LightGBM] [Warning] Auto-choosing col-wise multi-threading, the overhead of testing was 0.096900 seconds.\n",
            "You can set `force_col_wise=true` to remove the overhead.\n",
            "[LightGBM] [Info] Total Bins 648\n",
            "[LightGBM] [Info] Number of data points in the train set: 195393, number of used features: 9\n",
            "[LightGBM] [Info] Start training from score 4662.238647\n"
          ]
        }
      ],
      "source": [
        "start_time=time.time()\n",
        "\n",
        "model_lgb = lgb.train(params_lgb, train_data, num_boost_round=100)\n",
        "\n",
        "end_time=time.time()\n",
        "\n",
        "time_train_lgb=end_time-start_time"
      ]
    },
    {
      "cell_type": "code",
      "execution_count": null,
      "metadata": {
        "id": "1GzCdWRfMtW2"
      },
      "outputs": [],
      "source": [
        "start_time=time.time()\n",
        "\n",
        "y_pred = model_lgb.predict(X_train)\n",
        "\n",
        "end_time=time.time()\n",
        "time_pred_lgb=end_time-start_time"
      ]
    },
    {
      "cell_type": "code",
      "execution_count": null,
      "metadata": {
        "id": "nPkex8nbMtW2",
        "outputId": "ebf38b4a-466f-4b0a-b8a9-591c71f8b8f3"
      },
      "outputs": [
        {
          "name": "stdout",
          "output_type": "stream",
          "text": [
            "Время обучения LightGBM: 14.17 сек\n",
            "Время предсказания LightGBM: 1.80124 сек\n"
          ]
        }
      ],
      "source": [
        "print(\"Время обучения LightGBM:\", round(time_train_lgb,2),'сек')\n",
        "print(\"Время предсказания LightGBM:\", round(time_pred_lgb,5),'сек')"
      ]
    },
    {
      "cell_type": "markdown",
      "metadata": {
        "id": "-MQYcXReMtW2"
      },
      "source": [
        "**CatBoostRegressor:**"
      ]
    },
    {
      "cell_type": "markdown",
      "metadata": {
        "id": "5ZtTB683MtW2"
      },
      "source": [
        "Подберем гипрепараметры для модели CatBoostRegressor **GridSearchCV**."
      ]
    },
    {
      "cell_type": "code",
      "execution_count": null,
      "metadata": {
        "id": "msZ20JfwMtW2"
      },
      "outputs": [],
      "source": [
        "param_fixed={'loss_function':'RMSE',\n",
        "             'random_seed':42,\n",
        "             'cat_features':cat_features,\n",
        "             'verbose':False}\n",
        "\n",
        "\n",
        "param_grid_cb = {'learning_rate': [0.1,0.2],\n",
        "              'depth': [6, 8]}\n",
        "\n",
        "model_cb = CatBoostRegressor(**param_fixed)"
      ]
    },
    {
      "cell_type": "code",
      "execution_count": null,
      "metadata": {
        "id": "DK81r_otMtW2",
        "outputId": "a525596e-7a8d-4e56-8ff3-3ea4e8ce42ef"
      },
      "outputs": [
        {
          "name": "stdout",
          "output_type": "stream",
          "text": [
            "CPU times: user 38min 50s, sys: 21.3 s, total: 39min 11s\n",
            "Wall time: 39min 35s\n"
          ]
        },
        {
          "data": {
            "text/html": [
              "<style>#sk-container-id-2 {color: black;background-color: white;}#sk-container-id-2 pre{padding: 0;}#sk-container-id-2 div.sk-toggleable {background-color: white;}#sk-container-id-2 label.sk-toggleable__label {cursor: pointer;display: block;width: 100%;margin-bottom: 0;padding: 0.3em;box-sizing: border-box;text-align: center;}#sk-container-id-2 label.sk-toggleable__label-arrow:before {content: \"▸\";float: left;margin-right: 0.25em;color: #696969;}#sk-container-id-2 label.sk-toggleable__label-arrow:hover:before {color: black;}#sk-container-id-2 div.sk-estimator:hover label.sk-toggleable__label-arrow:before {color: black;}#sk-container-id-2 div.sk-toggleable__content {max-height: 0;max-width: 0;overflow: hidden;text-align: left;background-color: #f0f8ff;}#sk-container-id-2 div.sk-toggleable__content pre {margin: 0.2em;color: black;border-radius: 0.25em;background-color: #f0f8ff;}#sk-container-id-2 input.sk-toggleable__control:checked~div.sk-toggleable__content {max-height: 200px;max-width: 100%;overflow: auto;}#sk-container-id-2 input.sk-toggleable__control:checked~label.sk-toggleable__label-arrow:before {content: \"▾\";}#sk-container-id-2 div.sk-estimator input.sk-toggleable__control:checked~label.sk-toggleable__label {background-color: #d4ebff;}#sk-container-id-2 div.sk-label input.sk-toggleable__control:checked~label.sk-toggleable__label {background-color: #d4ebff;}#sk-container-id-2 input.sk-hidden--visually {border: 0;clip: rect(1px 1px 1px 1px);clip: rect(1px, 1px, 1px, 1px);height: 1px;margin: -1px;overflow: hidden;padding: 0;position: absolute;width: 1px;}#sk-container-id-2 div.sk-estimator {font-family: monospace;background-color: #f0f8ff;border: 1px dotted black;border-radius: 0.25em;box-sizing: border-box;margin-bottom: 0.5em;}#sk-container-id-2 div.sk-estimator:hover {background-color: #d4ebff;}#sk-container-id-2 div.sk-parallel-item::after {content: \"\";width: 100%;border-bottom: 1px solid gray;flex-grow: 1;}#sk-container-id-2 div.sk-label:hover label.sk-toggleable__label {background-color: #d4ebff;}#sk-container-id-2 div.sk-serial::before {content: \"\";position: absolute;border-left: 1px solid gray;box-sizing: border-box;top: 0;bottom: 0;left: 50%;z-index: 0;}#sk-container-id-2 div.sk-serial {display: flex;flex-direction: column;align-items: center;background-color: white;padding-right: 0.2em;padding-left: 0.2em;position: relative;}#sk-container-id-2 div.sk-item {position: relative;z-index: 1;}#sk-container-id-2 div.sk-parallel {display: flex;align-items: stretch;justify-content: center;background-color: white;position: relative;}#sk-container-id-2 div.sk-item::before, #sk-container-id-2 div.sk-parallel-item::before {content: \"\";position: absolute;border-left: 1px solid gray;box-sizing: border-box;top: 0;bottom: 0;left: 50%;z-index: -1;}#sk-container-id-2 div.sk-parallel-item {display: flex;flex-direction: column;z-index: 1;position: relative;background-color: white;}#sk-container-id-2 div.sk-parallel-item:first-child::after {align-self: flex-end;width: 50%;}#sk-container-id-2 div.sk-parallel-item:last-child::after {align-self: flex-start;width: 50%;}#sk-container-id-2 div.sk-parallel-item:only-child::after {width: 0;}#sk-container-id-2 div.sk-dashed-wrapped {border: 1px dashed gray;margin: 0 0.4em 0.5em 0.4em;box-sizing: border-box;padding-bottom: 0.4em;background-color: white;}#sk-container-id-2 div.sk-label label {font-family: monospace;font-weight: bold;display: inline-block;line-height: 1.2em;}#sk-container-id-2 div.sk-label-container {text-align: center;}#sk-container-id-2 div.sk-container {/* jupyter's `normalize.less` sets `[hidden] { display: none; }` but bootstrap.min.css set `[hidden] { display: none !important; }` so we also need the `!important` here to be able to override the default hidden behavior on the sphinx rendered scikit-learn.org. See: https://github.com/scikit-learn/scikit-learn/issues/21755 */display: inline-block !important;position: relative;}#sk-container-id-2 div.sk-text-repr-fallback {display: none;}</style><div id=\"sk-container-id-2\" class=\"sk-top-container\"><div class=\"sk-text-repr-fallback\"><pre>GridSearchCV(cv=3, error_score=&#x27;raise&#x27;,\n",
              "             estimator=&lt;catboost.core.CatBoostRegressor object at 0x7f507b835ca0&gt;,\n",
              "             param_grid={&#x27;depth&#x27;: [6, 8], &#x27;learning_rate&#x27;: [0.1, 0.2]},\n",
              "             scoring=&#x27;neg_mean_squared_error&#x27;)</pre><b>In a Jupyter environment, please rerun this cell to show the HTML representation or trust the notebook. <br />On GitHub, the HTML representation is unable to render, please try loading this page with nbviewer.org.</b></div><div class=\"sk-container\" hidden><div class=\"sk-item sk-dashed-wrapped\"><div class=\"sk-label-container\"><div class=\"sk-label sk-toggleable\"><input class=\"sk-toggleable__control sk-hidden--visually\" id=\"sk-estimator-id-4\" type=\"checkbox\" ><label for=\"sk-estimator-id-4\" class=\"sk-toggleable__label sk-toggleable__label-arrow\">GridSearchCV</label><div class=\"sk-toggleable__content\"><pre>GridSearchCV(cv=3, error_score=&#x27;raise&#x27;,\n",
              "             estimator=&lt;catboost.core.CatBoostRegressor object at 0x7f507b835ca0&gt;,\n",
              "             param_grid={&#x27;depth&#x27;: [6, 8], &#x27;learning_rate&#x27;: [0.1, 0.2]},\n",
              "             scoring=&#x27;neg_mean_squared_error&#x27;)</pre></div></div></div><div class=\"sk-parallel\"><div class=\"sk-parallel-item\"><div class=\"sk-item\"><div class=\"sk-label-container\"><div class=\"sk-label sk-toggleable\"><input class=\"sk-toggleable__control sk-hidden--visually\" id=\"sk-estimator-id-5\" type=\"checkbox\" ><label for=\"sk-estimator-id-5\" class=\"sk-toggleable__label sk-toggleable__label-arrow\">estimator: CatBoostRegressor</label><div class=\"sk-toggleable__content\"><pre>&lt;catboost.core.CatBoostRegressor object at 0x7f507b835ca0&gt;</pre></div></div></div><div class=\"sk-serial\"><div class=\"sk-item\"><div class=\"sk-estimator sk-toggleable\"><input class=\"sk-toggleable__control sk-hidden--visually\" id=\"sk-estimator-id-6\" type=\"checkbox\" ><label for=\"sk-estimator-id-6\" class=\"sk-toggleable__label sk-toggleable__label-arrow\">CatBoostRegressor</label><div class=\"sk-toggleable__content\"><pre>&lt;catboost.core.CatBoostRegressor object at 0x7f507b835ca0&gt;</pre></div></div></div></div></div></div></div></div></div></div>"
            ],
            "text/plain": [
              "GridSearchCV(cv=3, error_score='raise',\n",
              "             estimator=<catboost.core.CatBoostRegressor object at 0x7f507b835ca0>,\n",
              "             param_grid={'depth': [6, 8], 'learning_rate': [0.1, 0.2]},\n",
              "             scoring='neg_mean_squared_error')"
            ]
          },
          "execution_count": 67,
          "metadata": {},
          "output_type": "execute_result"
        }
      ],
      "source": [
        "%%time\n",
        "grid_search_cb = GridSearchCV(model_cb, param_grid_cb, cv=3, scoring='neg_mean_squared_error',error_score='raise')\n",
        "grid_search_cb.fit(X_train, y_train)"
      ]
    },
    {
      "cell_type": "code",
      "execution_count": null,
      "metadata": {
        "id": "a0q7WmEDMtW3",
        "outputId": "0a1922d3-0878-4f63-841f-8c0b0e21234b"
      },
      "outputs": [
        {
          "name": "stdout",
          "output_type": "stream",
          "text": [
            "Наилучшие параметры: {'learning_rate': 0.2, 'num_leaves': 50}\n",
            "Наилучшее значение метрики: 1592.188362241379\n"
          ]
        }
      ],
      "source": [
        "rmse_cb = np.sqrt(-grid_search_cb.best_score_)\n",
        "print(\"Наилучшие параметры:\", grid_search.best_params_)\n",
        "print(\"Наилучшее значение метрики:\", rmse_cb)"
      ]
    },
    {
      "cell_type": "markdown",
      "metadata": {
        "id": "wJP3Hz_uMtW3"
      },
      "source": [
        "Теперь создадим ПУЛ и рассчитаем время обучения и предсказания."
      ]
    },
    {
      "cell_type": "code",
      "execution_count": null,
      "metadata": {
        "id": "5NyA8Kl5MtW3"
      },
      "outputs": [],
      "source": [
        "train_data=Pool(X_train,y_train,cat_features=cat_features)"
      ]
    },
    {
      "cell_type": "code",
      "execution_count": null,
      "metadata": {
        "id": "0ahcjYHSMtW3"
      },
      "outputs": [],
      "source": [
        "params_cb={\n",
        "    'learning_rate':0.2,\n",
        "    'depth':8,\n",
        "    'loss_function':'RMSE',\n",
        "    'random_seed':42\n",
        "}"
      ]
    },
    {
      "cell_type": "code",
      "execution_count": null,
      "metadata": {
        "id": "dbp2FFiQMtW3"
      },
      "outputs": [],
      "source": [
        "model_cb = CatBoostRegressor(**params_cb,verbose=False)"
      ]
    },
    {
      "cell_type": "code",
      "execution_count": null,
      "metadata": {
        "id": "u60bl1-iMtW3"
      },
      "outputs": [],
      "source": [
        "start_time=time.time()\n",
        "\n",
        "model_cb.fit(train_data)\n",
        "\n",
        "end_time=time.time()\n",
        "\n",
        "time_train_cb=end_time-start_time"
      ]
    },
    {
      "cell_type": "code",
      "execution_count": null,
      "metadata": {
        "id": "s_rk_peyMtW3"
      },
      "outputs": [],
      "source": [
        "start_time=time.time()\n",
        "\n",
        "y_pred=model_cb.predict(X_train)\n",
        "\n",
        "end_time=time.time()\n",
        "\n",
        "time_pred_cb=end_time-start_time"
      ]
    },
    {
      "cell_type": "code",
      "execution_count": null,
      "metadata": {
        "id": "khLvDT09MtW3",
        "outputId": "7de537e9-6b02-4737-f89b-088ff289c259"
      },
      "outputs": [
        {
          "name": "stdout",
          "output_type": "stream",
          "text": [
            "Время обучения CatBoostRegressor: 308.46 сек\n",
            "Время предсказания CatBoostRegressor: 3.28694 сек\n"
          ]
        }
      ],
      "source": [
        "print(\"Время обучения CatBoostRegressor:\", round(time_train_cb,2),'сек')\n",
        "print(\"Время предсказания CatBoostRegressor:\", round(time_pred_cb,5),'сек')"
      ]
    },
    {
      "cell_type": "markdown",
      "metadata": {
        "id": "C7_6LlR5MtW3"
      },
      "source": [
        "**Сравнение моделей:**"
      ]
    },
    {
      "cell_type": "code",
      "execution_count": null,
      "metadata": {
        "id": "GtKvtmzQMtW4",
        "outputId": "ba5b3ff1-3ed0-4790-ad23-3bdce5b13262"
      },
      "outputs": [
        {
          "data": {
            "text/html": [
              "<div>\n",
              "<style scoped>\n",
              "    .dataframe tbody tr th:only-of-type {\n",
              "        vertical-align: middle;\n",
              "    }\n",
              "\n",
              "    .dataframe tbody tr th {\n",
              "        vertical-align: top;\n",
              "    }\n",
              "\n",
              "    .dataframe thead th {\n",
              "        text-align: right;\n",
              "    }\n",
              "</style>\n",
              "<table border=\"1\" class=\"dataframe\">\n",
              "  <thead>\n",
              "    <tr style=\"text-align: right;\">\n",
              "      <th></th>\n",
              "      <th>Linear_Regression</th>\n",
              "      <th>LightGBM_Regression</th>\n",
              "      <th>CatBoost_Regression</th>\n",
              "    </tr>\n",
              "  </thead>\n",
              "  <tbody>\n",
              "    <tr>\n",
              "      <th>rmse</th>\n",
              "      <td>2636.5400</td>\n",
              "      <td>1604.98000</td>\n",
              "      <td>1592.19000</td>\n",
              "    </tr>\n",
              "    <tr>\n",
              "      <th>time_train</th>\n",
              "      <td>32.8300</td>\n",
              "      <td>14.17000</td>\n",
              "      <td>308.46000</td>\n",
              "    </tr>\n",
              "    <tr>\n",
              "      <th>time_pred</th>\n",
              "      <td>0.0341</td>\n",
              "      <td>1.80124</td>\n",
              "      <td>3.28694</td>\n",
              "    </tr>\n",
              "  </tbody>\n",
              "</table>\n",
              "</div>"
            ],
            "text/plain": [
              "            Linear_Regression  LightGBM_Regression  CatBoost_Regression\n",
              "rmse                2636.5400           1604.98000           1592.19000\n",
              "time_train            32.8300             14.17000            308.46000\n",
              "time_pred              0.0341              1.80124              3.28694"
            ]
          },
          "execution_count": 75,
          "metadata": {},
          "output_type": "execute_result"
        }
      ],
      "source": [
        "metrics=['rmse','time_train','time_pred']\n",
        "columns=['Linear_Regression','LightGBM_Regression', 'CatBoost_Regression']\n",
        "rmse=[round(rmse_lr,2),round(rmse_lgb,2), round(rmse_cb,2)]\n",
        "time_train=[round(time_fit_lr,2), round(time_train_lgb,2),round(time_train_cb,2)]\n",
        "time_pred=[round(time_pred_lr,5), round(time_pred_lgb,5),round(time_pred_cb,5)]\n",
        "\n",
        "comparassion=pd.DataFrame(data=[rmse,time_train,time_pred], columns=columns, index=metrics)\n",
        "comparassion"
      ]
    },
    {
      "cell_type": "markdown",
      "metadata": {
        "id": "_8ADluY6MtW4"
      },
      "source": [
        "**Вывод:** Обучив три модели, выделим лидера по RMSE - CatBoost. Хотя модель и обучается дольше остальных (но сравнительно недолго), метрика RMSE - самая лучшая. Переходим анализу лучшей модели."
      ]
    },
    {
      "cell_type": "markdown",
      "metadata": {
        "id": "IRmANcL_MtW4"
      },
      "source": [
        "## Анализ лучшей модели"
      ]
    },
    {
      "cell_type": "markdown",
      "metadata": {
        "id": "rw_QbeNVMtW4"
      },
      "source": [
        "**CatBoost:**"
      ]
    },
    {
      "cell_type": "code",
      "execution_count": null,
      "metadata": {
        "id": "1dXli5_NMtW4",
        "outputId": "6749dd6e-b42c-4bec-b420-1e9498fb430e"
      },
      "outputs": [
        {
          "name": "stdout",
          "output_type": "stream",
          "text": [
            "RMSE CatBoost на тестовой выборке: 1551.9187209922231\n"
          ]
        }
      ],
      "source": [
        "y_pred=model_cb.predict(X_test)\n",
        "rmse=np.sqrt(mean_squared_error(y_test,y_pred))\n",
        "print(\"RMSE CatBoost на тестовой выборке:\",rmse)"
      ]
    },
    {
      "cell_type": "code",
      "execution_count": null,
      "metadata": {
        "id": "C-KoywdbMtW5"
      },
      "outputs": [],
      "source": [
        "plt.figure(figsize=(10,10))\n",
        "plt.scatter(y_test, y_pred,alpha=0.3)\n",
        "plt.xlabel(\"Expected\")\n",
        "plt.ylabel(\"Predicted\")\n",
        "plt.title(\"Predicted vs Expected\")\n",
        "plt.show()"
      ]
    },
    {
      "cell_type": "code",
      "execution_count": null,
      "metadata": {
        "id": "HuHqgwDRMtW5"
      },
      "outputs": [],
      "source": [
        "importance = model_cb.feature_importances_\n",
        "names = X.columns\n",
        "feature_importance = pd.DataFrame({'feature': names, 'importance': importance})\n",
        "feature_importance.sort_values(by='importance', inplace=True)\n",
        "feature_importance.set_index('feature', inplace=True)\n",
        "feature_importance.plot(kind='barh', figsize=(5, 5))\n",
        "plt.xlabel('Importance')\n",
        "plt.title('Feature importance')\n",
        "plt.show()\n"
      ]
    },
    {
      "cell_type": "markdown",
      "metadata": {
        "id": "rlAA3HIYMtW5"
      },
      "source": [
        "* у модели самый лучший показатель RMSE\n",
        "* модель не очень хорошо предсказывает слишком маленькие и слишком большие значения (большой разброс в таргетах и предсказаниях на этих участках)\n",
        "* ключевые признаки это - \"registration year\", \"power\" и \"vehicle_type\""
      ]
    },
    {
      "cell_type": "markdown",
      "metadata": {
        "id": "U34HmlRXMtW5"
      },
      "source": [
        "Проверим модель на адекватность используя Dummy модель:"
      ]
    },
    {
      "cell_type": "code",
      "execution_count": null,
      "metadata": {
        "id": "o3aXQELiMtW5"
      },
      "outputs": [],
      "source": [
        "model= DummyRegressor()\n",
        "model.fit(X_train,y_train)\n",
        "y_pred=model.predict(X_test)\n",
        "rmse_dm=np.sqrt(mean_squared_error(y_test,y_pred))\n",
        "print('RMSE DummyRegressor:',rmse_dm)"
      ]
    },
    {
      "cell_type": "markdown",
      "metadata": {
        "id": "HaBTjjJ-MtW5"
      },
      "source": [
        "Значение полученной метрики в разы больше метрики нашей модели, что подтверждает адекватность CatBoostRegressor."
      ]
    },
    {
      "cell_type": "markdown",
      "metadata": {
        "id": "Bxf-WvZiMtW6"
      },
      "source": [
        "**Вывод:** Нам были переданы данные о стоимости и характеристиках автомобилей для сервиса \"Не бит, не крашен\". Задача - найти лучшую модель предсказаний цен на авто.  \n",
        "После предабработки данных, по ходу который мы:\n",
        "* избавились от аномальных значений в данных,\n",
        "* заполнили пропущенные значения, где это возможно,\n",
        "* оставили только реально важные признаки для обучения\n",
        "\n",
        "Был проведен этап обучения трех моделей: LinearRegression, CatBoost, LightGBM. Были подобраны оптимальные гиперпараметры для каждой.  \n",
        "Лучшую скорость обучения показала Линейная Регрессия, лучший показатель RMSE и скорость предсказаний - CatBoost.\n",
        "Далее проведен более подробный анализ на тестовой выборке - после которого лидерство CatBoost подтвердилось."
      ]
    }
  ],
  "metadata": {
    "ExecuteTimeLog": [
      {
        "duration": 451,
        "start_time": "2023-07-17T12:31:46.657Z"
      },
      {
        "duration": 1147,
        "start_time": "2023-07-17T12:32:18.697Z"
      },
      {
        "duration": 27,
        "start_time": "2023-07-17T12:32:26.055Z"
      },
      {
        "duration": 140,
        "start_time": "2023-07-17T12:33:10.250Z"
      },
      {
        "duration": 132,
        "start_time": "2023-07-17T12:33:32.795Z"
      },
      {
        "duration": 4,
        "start_time": "2023-07-17T12:33:39.391Z"
      },
      {
        "duration": 128,
        "start_time": "2023-07-17T12:33:47.806Z"
      },
      {
        "duration": 130,
        "start_time": "2023-07-17T12:34:03.420Z"
      },
      {
        "duration": 132,
        "start_time": "2023-07-17T12:34:18.507Z"
      },
      {
        "duration": 66,
        "start_time": "2023-07-17T12:39:51.571Z"
      },
      {
        "duration": 97,
        "start_time": "2023-07-17T12:40:01.550Z"
      },
      {
        "duration": 2,
        "start_time": "2023-07-17T12:40:41.859Z"
      },
      {
        "duration": 827,
        "start_time": "2023-07-17T12:40:41.864Z"
      },
      {
        "duration": 26,
        "start_time": "2023-07-17T12:40:42.692Z"
      },
      {
        "duration": 148,
        "start_time": "2023-07-17T12:40:42.720Z"
      },
      {
        "duration": 127,
        "start_time": "2023-07-17T12:40:42.874Z"
      },
      {
        "duration": 68,
        "start_time": "2023-07-17T12:42:50.317Z"
      },
      {
        "duration": 8,
        "start_time": "2023-07-17T12:45:58.763Z"
      },
      {
        "duration": 24,
        "start_time": "2023-07-17T12:46:02.549Z"
      },
      {
        "duration": 91,
        "start_time": "2023-07-17T12:46:32.187Z"
      },
      {
        "duration": 26,
        "start_time": "2023-07-17T12:47:30.659Z"
      },
      {
        "duration": 83,
        "start_time": "2023-07-17T12:47:45.474Z"
      },
      {
        "duration": 33,
        "start_time": "2023-07-17T12:51:09.491Z"
      },
      {
        "duration": 85,
        "start_time": "2023-07-17T12:51:14.672Z"
      },
      {
        "duration": 45,
        "start_time": "2023-07-17T12:52:09.367Z"
      },
      {
        "duration": 102,
        "start_time": "2023-07-17T12:52:12.442Z"
      },
      {
        "duration": 2,
        "start_time": "2023-07-17T12:53:30.751Z"
      },
      {
        "duration": 1050,
        "start_time": "2023-07-17T12:53:30.756Z"
      },
      {
        "duration": 26,
        "start_time": "2023-07-17T12:53:31.808Z"
      },
      {
        "duration": 207,
        "start_time": "2023-07-17T12:53:31.837Z"
      },
      {
        "duration": 46,
        "start_time": "2023-07-17T12:53:32.046Z"
      },
      {
        "duration": 133,
        "start_time": "2023-07-17T12:53:32.094Z"
      },
      {
        "duration": 1506,
        "start_time": "2023-07-17T12:54:11.160Z"
      },
      {
        "duration": 47,
        "start_time": "2023-07-17T12:54:33.865Z"
      },
      {
        "duration": 22,
        "start_time": "2023-07-17T12:54:52.249Z"
      },
      {
        "duration": 35,
        "start_time": "2023-07-17T12:55:00.495Z"
      },
      {
        "duration": 48,
        "start_time": "2023-07-17T12:55:50.600Z"
      },
      {
        "duration": 855,
        "start_time": "2023-07-17T12:56:07.967Z"
      },
      {
        "duration": 184,
        "start_time": "2023-07-17T12:56:21.660Z"
      },
      {
        "duration": 170,
        "start_time": "2023-07-17T12:56:29.346Z"
      },
      {
        "duration": 170,
        "start_time": "2023-07-17T12:56:32.746Z"
      },
      {
        "duration": 276,
        "start_time": "2023-07-17T12:56:45.042Z"
      },
      {
        "duration": 230,
        "start_time": "2023-07-17T12:57:10.159Z"
      },
      {
        "duration": 159,
        "start_time": "2023-07-17T12:59:10.955Z"
      },
      {
        "duration": 202,
        "start_time": "2023-07-17T12:59:22.913Z"
      },
      {
        "duration": 62,
        "start_time": "2023-07-17T12:59:54.279Z"
      },
      {
        "duration": 162,
        "start_time": "2023-07-17T13:00:03.084Z"
      },
      {
        "duration": 31,
        "start_time": "2023-07-17T13:00:13.654Z"
      },
      {
        "duration": 16,
        "start_time": "2023-07-17T13:00:35.591Z"
      },
      {
        "duration": 16,
        "start_time": "2023-07-17T13:02:01.678Z"
      },
      {
        "duration": 27,
        "start_time": "2023-07-17T13:02:08.387Z"
      },
      {
        "duration": 60,
        "start_time": "2023-07-17T13:05:42.381Z"
      },
      {
        "duration": 14,
        "start_time": "2023-07-17T13:05:51.362Z"
      },
      {
        "duration": 16,
        "start_time": "2023-07-17T13:08:36.715Z"
      },
      {
        "duration": 14,
        "start_time": "2023-07-17T13:08:45.760Z"
      },
      {
        "duration": 24,
        "start_time": "2023-07-17T13:08:49.080Z"
      },
      {
        "duration": 13,
        "start_time": "2023-07-17T13:09:09.070Z"
      },
      {
        "duration": 16,
        "start_time": "2023-07-17T13:09:26.483Z"
      },
      {
        "duration": 197,
        "start_time": "2023-07-17T13:09:40.156Z"
      },
      {
        "duration": 722,
        "start_time": "2023-07-17T13:10:10.915Z"
      },
      {
        "duration": 382,
        "start_time": "2023-07-17T13:10:34.406Z"
      },
      {
        "duration": 834,
        "start_time": "2023-07-17T13:10:34.790Z"
      },
      {
        "duration": 26,
        "start_time": "2023-07-17T13:10:35.625Z"
      },
      {
        "duration": 149,
        "start_time": "2023-07-17T13:10:35.653Z"
      },
      {
        "duration": 58,
        "start_time": "2023-07-17T13:10:35.804Z"
      },
      {
        "duration": 128,
        "start_time": "2023-07-17T13:10:35.863Z"
      },
      {
        "duration": 16146,
        "start_time": "2023-07-17T13:10:35.993Z"
      },
      {
        "duration": 0,
        "start_time": "2023-07-17T13:10:52.141Z"
      },
      {
        "duration": 0,
        "start_time": "2023-07-17T13:10:52.143Z"
      },
      {
        "duration": 641,
        "start_time": "2023-07-17T13:10:54.050Z"
      },
      {
        "duration": 16,
        "start_time": "2023-07-17T13:10:56.460Z"
      },
      {
        "duration": 173,
        "start_time": "2023-07-17T13:10:56.696Z"
      },
      {
        "duration": 174,
        "start_time": "2023-07-17T13:12:19.954Z"
      },
      {
        "duration": 127,
        "start_time": "2023-07-17T13:13:09.493Z"
      },
      {
        "duration": 8,
        "start_time": "2023-07-17T13:13:24.673Z"
      },
      {
        "duration": 357,
        "start_time": "2023-07-17T13:14:07.737Z"
      },
      {
        "duration": 16,
        "start_time": "2023-07-17T13:14:49.046Z"
      },
      {
        "duration": 2668,
        "start_time": "2023-07-17T13:15:54.601Z"
      },
      {
        "duration": 2709,
        "start_time": "2023-07-17T13:16:02.147Z"
      },
      {
        "duration": 15,
        "start_time": "2023-07-17T13:16:13.861Z"
      },
      {
        "duration": 31,
        "start_time": "2023-07-17T13:16:41.042Z"
      },
      {
        "duration": 17,
        "start_time": "2023-07-17T13:17:02.560Z"
      },
      {
        "duration": 67,
        "start_time": "2023-07-17T13:17:37.694Z"
      },
      {
        "duration": 12,
        "start_time": "2023-07-17T13:18:05.842Z"
      },
      {
        "duration": 9,
        "start_time": "2023-07-17T13:18:14.053Z"
      },
      {
        "duration": 8,
        "start_time": "2023-07-17T13:18:19.472Z"
      },
      {
        "duration": 65,
        "start_time": "2023-07-17T13:21:21.702Z"
      },
      {
        "duration": 6,
        "start_time": "2023-07-17T13:21:32.896Z"
      },
      {
        "duration": 75,
        "start_time": "2023-07-17T13:22:16.072Z"
      },
      {
        "duration": 4,
        "start_time": "2023-07-17T13:22:25.584Z"
      },
      {
        "duration": 4,
        "start_time": "2023-07-17T13:24:36.451Z"
      },
      {
        "duration": 943,
        "start_time": "2023-07-17T13:24:36.457Z"
      },
      {
        "duration": 24,
        "start_time": "2023-07-17T13:24:37.403Z"
      },
      {
        "duration": 149,
        "start_time": "2023-07-17T13:24:37.429Z"
      },
      {
        "duration": 25,
        "start_time": "2023-07-17T13:24:37.581Z"
      },
      {
        "duration": 142,
        "start_time": "2023-07-17T13:24:37.607Z"
      },
      {
        "duration": 183,
        "start_time": "2023-07-17T13:24:37.752Z"
      },
      {
        "duration": 13,
        "start_time": "2023-07-17T13:24:37.937Z"
      },
      {
        "duration": 218,
        "start_time": "2023-07-17T13:24:37.952Z"
      },
      {
        "duration": 15,
        "start_time": "2023-07-17T13:24:38.174Z"
      },
      {
        "duration": 46,
        "start_time": "2023-07-17T13:24:38.191Z"
      },
      {
        "duration": 4,
        "start_time": "2023-07-17T13:24:38.239Z"
      },
      {
        "duration": 279,
        "start_time": "2023-07-17T13:33:35.547Z"
      },
      {
        "duration": 142,
        "start_time": "2023-07-17T13:34:03.751Z"
      },
      {
        "duration": 22,
        "start_time": "2023-07-17T13:34:22.995Z"
      },
      {
        "duration": 14,
        "start_time": "2023-07-17T13:34:24.593Z"
      },
      {
        "duration": 45,
        "start_time": "2023-07-17T13:34:24.751Z"
      },
      {
        "duration": 3,
        "start_time": "2023-07-17T13:34:25.435Z"
      },
      {
        "duration": 36,
        "start_time": "2023-07-17T13:50:07.356Z"
      },
      {
        "duration": 33,
        "start_time": "2023-07-17T13:50:15.821Z"
      },
      {
        "duration": 155,
        "start_time": "2023-07-17T13:50:24.203Z"
      },
      {
        "duration": 130,
        "start_time": "2023-07-17T13:50:30.709Z"
      },
      {
        "duration": 140,
        "start_time": "2023-07-17T13:50:37.948Z"
      },
      {
        "duration": 142,
        "start_time": "2023-07-17T13:50:44.999Z"
      },
      {
        "duration": 21,
        "start_time": "2023-07-17T13:51:34.353Z"
      },
      {
        "duration": 28,
        "start_time": "2023-07-17T13:52:16.898Z"
      },
      {
        "duration": 34,
        "start_time": "2023-07-17T13:52:28.366Z"
      },
      {
        "duration": 44,
        "start_time": "2023-07-17T13:52:35.202Z"
      },
      {
        "duration": 183,
        "start_time": "2023-07-17T13:52:59.269Z"
      },
      {
        "duration": 178,
        "start_time": "2023-07-17T13:53:12.544Z"
      },
      {
        "duration": 0,
        "start_time": "2023-07-17T13:53:37.469Z"
      },
      {
        "duration": 417,
        "start_time": "2023-07-17T13:53:44.392Z"
      },
      {
        "duration": 839,
        "start_time": "2023-07-17T13:53:44.810Z"
      },
      {
        "duration": 35,
        "start_time": "2023-07-17T13:53:45.651Z"
      },
      {
        "duration": 148,
        "start_time": "2023-07-17T13:53:45.688Z"
      },
      {
        "duration": 68,
        "start_time": "2023-07-17T13:53:45.838Z"
      },
      {
        "duration": 132,
        "start_time": "2023-07-17T13:53:45.907Z"
      },
      {
        "duration": 461,
        "start_time": "2023-07-17T13:53:46.040Z"
      },
      {
        "duration": 15,
        "start_time": "2023-07-17T13:53:46.503Z"
      },
      {
        "duration": 187,
        "start_time": "2023-07-17T13:53:46.519Z"
      },
      {
        "duration": 21,
        "start_time": "2023-07-17T13:53:46.708Z"
      },
      {
        "duration": 26,
        "start_time": "2023-07-17T13:53:46.731Z"
      },
      {
        "duration": 75,
        "start_time": "2023-07-17T13:53:46.759Z"
      },
      {
        "duration": 4,
        "start_time": "2023-07-17T13:53:46.836Z"
      },
      {
        "duration": 173,
        "start_time": "2023-07-17T13:53:46.841Z"
      },
      {
        "duration": 26,
        "start_time": "2023-07-17T13:53:47.016Z"
      },
      {
        "duration": 241,
        "start_time": "2023-07-17T13:53:47.044Z"
      },
      {
        "duration": 72,
        "start_time": "2023-07-17T13:54:11.344Z"
      },
      {
        "duration": 8,
        "start_time": "2023-07-17T13:54:25.052Z"
      },
      {
        "duration": 216,
        "start_time": "2023-07-17T13:54:57.711Z"
      },
      {
        "duration": 15,
        "start_time": "2023-07-17T13:55:21.764Z"
      },
      {
        "duration": 151,
        "start_time": "2023-07-17T13:57:28.126Z"
      },
      {
        "duration": 15,
        "start_time": "2023-07-17T13:57:31.605Z"
      },
      {
        "duration": 8,
        "start_time": "2023-07-17T13:57:37.013Z"
      },
      {
        "duration": 26,
        "start_time": "2023-07-17T13:57:41.014Z"
      },
      {
        "duration": 10,
        "start_time": "2023-07-17T13:57:46.366Z"
      },
      {
        "duration": 11,
        "start_time": "2023-07-17T13:58:07.365Z"
      },
      {
        "duration": 225,
        "start_time": "2023-07-17T13:58:14.803Z"
      },
      {
        "duration": 137,
        "start_time": "2023-07-17T13:58:25.895Z"
      },
      {
        "duration": 35,
        "start_time": "2023-07-17T13:58:56.652Z"
      },
      {
        "duration": 48,
        "start_time": "2023-07-17T13:59:11.593Z"
      },
      {
        "duration": 34,
        "start_time": "2023-07-17T13:59:27.305Z"
      },
      {
        "duration": 37,
        "start_time": "2023-07-17T14:00:53.861Z"
      },
      {
        "duration": 37,
        "start_time": "2023-07-17T14:01:05.845Z"
      },
      {
        "duration": 38,
        "start_time": "2023-07-17T14:01:13.172Z"
      },
      {
        "duration": 35,
        "start_time": "2023-07-17T14:01:38.718Z"
      },
      {
        "duration": 37,
        "start_time": "2023-07-17T14:01:46.766Z"
      },
      {
        "duration": 35,
        "start_time": "2023-07-17T14:01:52.744Z"
      },
      {
        "duration": 34,
        "start_time": "2023-07-17T14:02:03.569Z"
      },
      {
        "duration": 3,
        "start_time": "2023-07-17T14:05:15.813Z"
      },
      {
        "duration": 3,
        "start_time": "2023-07-17T14:05:18.667Z"
      },
      {
        "duration": 882,
        "start_time": "2023-07-17T14:05:18.672Z"
      },
      {
        "duration": 31,
        "start_time": "2023-07-17T14:05:19.556Z"
      },
      {
        "duration": 159,
        "start_time": "2023-07-17T14:05:19.590Z"
      },
      {
        "duration": 63,
        "start_time": "2023-07-17T14:05:19.751Z"
      },
      {
        "duration": 139,
        "start_time": "2023-07-17T14:05:19.817Z"
      },
      {
        "duration": 168,
        "start_time": "2023-07-17T14:05:19.958Z"
      },
      {
        "duration": 15,
        "start_time": "2023-07-17T14:05:20.128Z"
      },
      {
        "duration": 209,
        "start_time": "2023-07-17T14:05:20.145Z"
      },
      {
        "duration": 25,
        "start_time": "2023-07-17T14:05:20.356Z"
      },
      {
        "duration": 19,
        "start_time": "2023-07-17T14:05:20.383Z"
      },
      {
        "duration": 2,
        "start_time": "2023-07-17T14:05:20.404Z"
      },
      {
        "duration": 64,
        "start_time": "2023-07-17T14:05:20.408Z"
      },
      {
        "duration": 129,
        "start_time": "2023-07-17T14:05:20.473Z"
      },
      {
        "duration": 20,
        "start_time": "2023-07-17T14:05:20.604Z"
      },
      {
        "duration": 174,
        "start_time": "2023-07-17T14:05:20.626Z"
      },
      {
        "duration": 43,
        "start_time": "2023-07-17T14:05:20.802Z"
      },
      {
        "duration": 4,
        "start_time": "2023-07-17T14:06:29.268Z"
      },
      {
        "duration": 5,
        "start_time": "2023-07-17T14:06:36.570Z"
      },
      {
        "duration": 32,
        "start_time": "2023-07-17T14:06:41.856Z"
      },
      {
        "duration": 35,
        "start_time": "2023-07-17T14:08:56.052Z"
      },
      {
        "duration": 30,
        "start_time": "2023-07-17T14:09:24.257Z"
      },
      {
        "duration": 37,
        "start_time": "2023-07-17T14:09:35.275Z"
      },
      {
        "duration": 39,
        "start_time": "2023-07-17T14:10:15.175Z"
      },
      {
        "duration": 9,
        "start_time": "2023-07-17T14:10:41.270Z"
      },
      {
        "duration": 38,
        "start_time": "2023-07-17T14:10:51.252Z"
      },
      {
        "duration": 39,
        "start_time": "2023-07-17T14:10:58.586Z"
      },
      {
        "duration": 155,
        "start_time": "2023-07-17T14:12:46.050Z"
      },
      {
        "duration": 24,
        "start_time": "2023-07-17T14:12:54.391Z"
      },
      {
        "duration": 21,
        "start_time": "2023-07-17T14:13:06.151Z"
      },
      {
        "duration": 21,
        "start_time": "2023-07-17T14:13:19.497Z"
      },
      {
        "duration": 78,
        "start_time": "2023-07-17T14:13:26.852Z"
      },
      {
        "duration": 23,
        "start_time": "2023-07-17T14:13:35.260Z"
      },
      {
        "duration": 23,
        "start_time": "2023-07-17T14:13:46.191Z"
      },
      {
        "duration": 896,
        "start_time": "2023-07-17T14:20:08.546Z"
      },
      {
        "duration": 3,
        "start_time": "2023-07-17T14:20:23.514Z"
      },
      {
        "duration": 845,
        "start_time": "2023-07-17T14:20:23.518Z"
      },
      {
        "duration": 31,
        "start_time": "2023-07-17T14:20:24.365Z"
      },
      {
        "duration": 137,
        "start_time": "2023-07-17T14:20:24.399Z"
      },
      {
        "duration": 24,
        "start_time": "2023-07-17T14:20:24.538Z"
      },
      {
        "duration": 122,
        "start_time": "2023-07-17T14:20:24.574Z"
      },
      {
        "duration": 171,
        "start_time": "2023-07-17T14:20:24.698Z"
      },
      {
        "duration": 15,
        "start_time": "2023-07-17T14:20:24.875Z"
      },
      {
        "duration": 185,
        "start_time": "2023-07-17T14:20:24.892Z"
      },
      {
        "duration": 20,
        "start_time": "2023-07-17T14:20:25.079Z"
      },
      {
        "duration": 20,
        "start_time": "2023-07-17T14:20:25.101Z"
      },
      {
        "duration": 2,
        "start_time": "2023-07-17T14:20:25.123Z"
      },
      {
        "duration": 9,
        "start_time": "2023-07-17T14:20:25.127Z"
      },
      {
        "duration": 153,
        "start_time": "2023-07-17T14:20:25.137Z"
      },
      {
        "duration": 20,
        "start_time": "2023-07-17T14:20:25.292Z"
      },
      {
        "duration": 46,
        "start_time": "2023-07-17T14:20:25.314Z"
      },
      {
        "duration": 34,
        "start_time": "2023-07-17T14:20:25.362Z"
      },
      {
        "duration": 21,
        "start_time": "2023-07-17T14:21:17.674Z"
      },
      {
        "duration": 241,
        "start_time": "2023-07-17T14:21:18.262Z"
      },
      {
        "duration": 45,
        "start_time": "2023-07-17T14:21:56.248Z"
      },
      {
        "duration": 339,
        "start_time": "2023-07-17T14:23:01.852Z"
      },
      {
        "duration": 21,
        "start_time": "2023-07-17T14:23:02.471Z"
      },
      {
        "duration": 2,
        "start_time": "2023-07-17T14:23:10.969Z"
      },
      {
        "duration": 838,
        "start_time": "2023-07-17T14:23:10.973Z"
      },
      {
        "duration": 22,
        "start_time": "2023-07-17T14:23:11.813Z"
      },
      {
        "duration": 158,
        "start_time": "2023-07-17T14:23:11.837Z"
      },
      {
        "duration": 24,
        "start_time": "2023-07-17T14:23:11.997Z"
      },
      {
        "duration": 139,
        "start_time": "2023-07-17T14:23:12.023Z"
      },
      {
        "duration": 161,
        "start_time": "2023-07-17T14:23:12.164Z"
      },
      {
        "duration": 15,
        "start_time": "2023-07-17T14:23:12.327Z"
      },
      {
        "duration": 176,
        "start_time": "2023-07-17T14:23:12.344Z"
      },
      {
        "duration": 21,
        "start_time": "2023-07-17T14:23:12.522Z"
      },
      {
        "duration": 34,
        "start_time": "2023-07-17T14:23:12.545Z"
      },
      {
        "duration": 3,
        "start_time": "2023-07-17T14:23:12.581Z"
      },
      {
        "duration": 21,
        "start_time": "2023-07-17T14:23:12.585Z"
      },
      {
        "duration": 121,
        "start_time": "2023-07-17T14:23:12.609Z"
      },
      {
        "duration": 21,
        "start_time": "2023-07-17T14:23:12.732Z"
      },
      {
        "duration": 107,
        "start_time": "2023-07-17T14:23:12.755Z"
      },
      {
        "duration": 23,
        "start_time": "2023-07-17T14:23:12.863Z"
      },
      {
        "duration": 19,
        "start_time": "2023-07-17T14:23:16.256Z"
      },
      {
        "duration": 325,
        "start_time": "2023-07-17T14:23:16.964Z"
      },
      {
        "duration": 21,
        "start_time": "2023-07-17T14:23:17.664Z"
      },
      {
        "duration": 9,
        "start_time": "2023-07-17T14:23:31.495Z"
      },
      {
        "duration": 20,
        "start_time": "2023-07-17T14:23:40.991Z"
      },
      {
        "duration": 49,
        "start_time": "2023-07-17T14:26:17.772Z"
      },
      {
        "duration": 2,
        "start_time": "2023-07-17T14:26:20.392Z"
      },
      {
        "duration": 801,
        "start_time": "2023-07-17T14:26:20.397Z"
      },
      {
        "duration": 22,
        "start_time": "2023-07-17T14:26:21.200Z"
      },
      {
        "duration": 153,
        "start_time": "2023-07-17T14:26:21.224Z"
      },
      {
        "duration": 26,
        "start_time": "2023-07-17T14:26:21.379Z"
      },
      {
        "duration": 141,
        "start_time": "2023-07-17T14:26:21.407Z"
      },
      {
        "duration": 176,
        "start_time": "2023-07-17T14:26:21.549Z"
      },
      {
        "duration": 15,
        "start_time": "2023-07-17T14:26:21.727Z"
      },
      {
        "duration": 62,
        "start_time": "2023-07-17T14:26:21.743Z"
      },
      {
        "duration": 171,
        "start_time": "2023-07-17T14:26:21.807Z"
      },
      {
        "duration": 21,
        "start_time": "2023-07-17T14:26:21.980Z"
      },
      {
        "duration": 42,
        "start_time": "2023-07-17T14:26:22.003Z"
      },
      {
        "duration": 19,
        "start_time": "2023-07-17T14:26:22.047Z"
      },
      {
        "duration": 26,
        "start_time": "2023-07-17T14:26:22.068Z"
      },
      {
        "duration": 164,
        "start_time": "2023-07-17T14:26:22.096Z"
      },
      {
        "duration": 24,
        "start_time": "2023-07-17T14:26:22.261Z"
      },
      {
        "duration": 23,
        "start_time": "2023-07-17T14:26:22.286Z"
      },
      {
        "duration": 21,
        "start_time": "2023-07-17T14:26:22.311Z"
      },
      {
        "duration": 335,
        "start_time": "2023-07-17T14:26:22.334Z"
      },
      {
        "duration": 18,
        "start_time": "2023-07-17T14:26:22.670Z"
      },
      {
        "duration": 3,
        "start_time": "2023-07-17T14:27:08.179Z"
      },
      {
        "duration": 800,
        "start_time": "2023-07-17T14:27:08.184Z"
      },
      {
        "duration": 24,
        "start_time": "2023-07-17T14:27:08.986Z"
      },
      {
        "duration": 158,
        "start_time": "2023-07-17T14:27:09.012Z"
      },
      {
        "duration": 23,
        "start_time": "2023-07-17T14:27:09.172Z"
      },
      {
        "duration": 142,
        "start_time": "2023-07-17T14:27:09.197Z"
      },
      {
        "duration": 152,
        "start_time": "2023-07-17T14:27:09.341Z"
      },
      {
        "duration": 13,
        "start_time": "2023-07-17T14:27:09.495Z"
      },
      {
        "duration": 77,
        "start_time": "2023-07-17T14:27:09.511Z"
      },
      {
        "duration": 178,
        "start_time": "2023-07-17T14:27:09.590Z"
      },
      {
        "duration": 25,
        "start_time": "2023-07-17T14:27:09.769Z"
      },
      {
        "duration": 39,
        "start_time": "2023-07-17T14:27:09.796Z"
      },
      {
        "duration": 40,
        "start_time": "2023-07-17T14:27:09.836Z"
      },
      {
        "duration": 22,
        "start_time": "2023-07-17T14:27:09.878Z"
      },
      {
        "duration": 173,
        "start_time": "2023-07-17T14:27:09.902Z"
      },
      {
        "duration": 21,
        "start_time": "2023-07-17T14:27:10.077Z"
      },
      {
        "duration": 37,
        "start_time": "2023-07-17T14:27:10.100Z"
      },
      {
        "duration": 33,
        "start_time": "2023-07-17T14:27:10.139Z"
      },
      {
        "duration": 363,
        "start_time": "2023-07-17T14:27:10.174Z"
      },
      {
        "duration": 16,
        "start_time": "2023-07-17T14:27:10.539Z"
      },
      {
        "duration": 9,
        "start_time": "2023-07-17T14:28:24.579Z"
      },
      {
        "duration": 2212,
        "start_time": "2023-07-17T14:28:30.804Z"
      },
      {
        "duration": 12,
        "start_time": "2023-07-17T14:29:56.348Z"
      },
      {
        "duration": 8,
        "start_time": "2023-07-17T14:30:29.581Z"
      },
      {
        "duration": 6,
        "start_time": "2023-07-17T14:30:35.880Z"
      },
      {
        "duration": 8,
        "start_time": "2023-07-17T14:32:18.714Z"
      },
      {
        "duration": 23,
        "start_time": "2023-07-17T14:32:26.011Z"
      },
      {
        "duration": 3,
        "start_time": "2023-07-17T14:32:53.479Z"
      },
      {
        "duration": 8,
        "start_time": "2023-07-17T14:33:03.952Z"
      },
      {
        "duration": 3,
        "start_time": "2023-07-17T14:33:08.344Z"
      },
      {
        "duration": 8,
        "start_time": "2023-07-17T14:33:18.752Z"
      },
      {
        "duration": 115,
        "start_time": "2023-07-17T14:34:20.689Z"
      },
      {
        "duration": 116,
        "start_time": "2023-07-17T14:34:42.019Z"
      },
      {
        "duration": 11,
        "start_time": "2023-07-17T14:34:56.602Z"
      },
      {
        "duration": 114,
        "start_time": "2023-07-17T14:35:00.388Z"
      },
      {
        "duration": 145,
        "start_time": "2023-07-17T14:36:51.560Z"
      },
      {
        "duration": 122,
        "start_time": "2023-07-17T14:37:37.756Z"
      },
      {
        "duration": 141,
        "start_time": "2023-07-17T14:37:46.248Z"
      },
      {
        "duration": 111,
        "start_time": "2023-07-17T14:37:56.984Z"
      },
      {
        "duration": 110,
        "start_time": "2023-07-17T14:38:04.610Z"
      },
      {
        "duration": 26,
        "start_time": "2023-07-17T14:39:38.752Z"
      },
      {
        "duration": 14,
        "start_time": "2023-07-17T14:39:43.792Z"
      },
      {
        "duration": 11,
        "start_time": "2023-07-17T14:39:54.993Z"
      },
      {
        "duration": 2,
        "start_time": "2023-07-17T14:41:42.105Z"
      },
      {
        "duration": 791,
        "start_time": "2023-07-17T14:41:42.109Z"
      },
      {
        "duration": 22,
        "start_time": "2023-07-17T14:41:42.902Z"
      },
      {
        "duration": 138,
        "start_time": "2023-07-17T14:41:42.925Z"
      },
      {
        "duration": 32,
        "start_time": "2023-07-17T14:41:43.065Z"
      },
      {
        "duration": 139,
        "start_time": "2023-07-17T14:41:43.098Z"
      },
      {
        "duration": 152,
        "start_time": "2023-07-17T14:41:43.239Z"
      },
      {
        "duration": 13,
        "start_time": "2023-07-17T14:41:43.393Z"
      },
      {
        "duration": 58,
        "start_time": "2023-07-17T14:41:43.407Z"
      },
      {
        "duration": 246,
        "start_time": "2023-07-17T14:41:43.467Z"
      },
      {
        "duration": 22,
        "start_time": "2023-07-17T14:41:43.715Z"
      },
      {
        "duration": 20,
        "start_time": "2023-07-17T14:41:43.739Z"
      },
      {
        "duration": 2,
        "start_time": "2023-07-17T14:41:43.776Z"
      },
      {
        "duration": 21,
        "start_time": "2023-07-17T14:41:43.780Z"
      },
      {
        "duration": 141,
        "start_time": "2023-07-17T14:41:43.803Z"
      },
      {
        "duration": 34,
        "start_time": "2023-07-17T14:41:43.946Z"
      },
      {
        "duration": 131,
        "start_time": "2023-07-17T14:41:43.981Z"
      },
      {
        "duration": 0,
        "start_time": "2023-07-17T14:41:44.113Z"
      },
      {
        "duration": 0,
        "start_time": "2023-07-17T14:41:44.114Z"
      },
      {
        "duration": 0,
        "start_time": "2023-07-17T14:41:44.115Z"
      },
      {
        "duration": 23,
        "start_time": "2023-07-17T14:41:52.536Z"
      },
      {
        "duration": 19,
        "start_time": "2023-07-17T14:41:52.682Z"
      },
      {
        "duration": 278,
        "start_time": "2023-07-17T14:41:52.860Z"
      },
      {
        "duration": 12,
        "start_time": "2023-07-17T14:41:53.263Z"
      },
      {
        "duration": 59,
        "start_time": "2023-07-17T14:42:24.771Z"
      },
      {
        "duration": 8,
        "start_time": "2023-07-17T14:42:55.989Z"
      },
      {
        "duration": 7,
        "start_time": "2023-07-17T14:43:12.852Z"
      },
      {
        "duration": 8,
        "start_time": "2023-07-17T14:43:20.448Z"
      },
      {
        "duration": 8,
        "start_time": "2023-07-17T14:43:20.652Z"
      },
      {
        "duration": 2,
        "start_time": "2023-07-17T14:43:25.963Z"
      },
      {
        "duration": 803,
        "start_time": "2023-07-17T14:43:25.967Z"
      },
      {
        "duration": 24,
        "start_time": "2023-07-17T14:43:26.774Z"
      },
      {
        "duration": 150,
        "start_time": "2023-07-17T14:43:26.800Z"
      },
      {
        "duration": 59,
        "start_time": "2023-07-17T14:43:26.953Z"
      },
      {
        "duration": 136,
        "start_time": "2023-07-17T14:43:27.014Z"
      },
      {
        "duration": 178,
        "start_time": "2023-07-17T14:43:27.152Z"
      },
      {
        "duration": 14,
        "start_time": "2023-07-17T14:43:27.332Z"
      },
      {
        "duration": 82,
        "start_time": "2023-07-17T14:43:27.347Z"
      },
      {
        "duration": 176,
        "start_time": "2023-07-17T14:43:27.431Z"
      },
      {
        "duration": 20,
        "start_time": "2023-07-17T14:43:27.609Z"
      },
      {
        "duration": 24,
        "start_time": "2023-07-17T14:43:27.631Z"
      },
      {
        "duration": 2,
        "start_time": "2023-07-17T14:43:27.657Z"
      },
      {
        "duration": 21,
        "start_time": "2023-07-17T14:43:27.661Z"
      },
      {
        "duration": 132,
        "start_time": "2023-07-17T14:43:27.683Z"
      },
      {
        "duration": 21,
        "start_time": "2023-07-17T14:43:27.817Z"
      },
      {
        "duration": 36,
        "start_time": "2023-07-17T14:43:27.840Z"
      },
      {
        "duration": 21,
        "start_time": "2023-07-17T14:43:27.878Z"
      },
      {
        "duration": 295,
        "start_time": "2023-07-17T14:43:27.901Z"
      },
      {
        "duration": 48,
        "start_time": "2023-07-17T14:43:28.197Z"
      },
      {
        "duration": 157,
        "start_time": "2023-07-17T14:43:28.246Z"
      },
      {
        "duration": 118,
        "start_time": "2023-07-17T14:44:00.567Z"
      },
      {
        "duration": 7,
        "start_time": "2023-07-17T14:44:12.278Z"
      },
      {
        "duration": 8,
        "start_time": "2023-07-17T14:44:26.652Z"
      },
      {
        "duration": 9,
        "start_time": "2023-07-17T14:44:45.452Z"
      },
      {
        "duration": 5,
        "start_time": "2023-07-17T14:44:51.484Z"
      },
      {
        "duration": 4,
        "start_time": "2023-07-17T14:45:07.380Z"
      },
      {
        "duration": 5,
        "start_time": "2023-07-17T14:45:21.274Z"
      },
      {
        "duration": 140,
        "start_time": "2023-07-17T14:45:26.274Z"
      },
      {
        "duration": 6,
        "start_time": "2023-07-17T14:45:39.748Z"
      },
      {
        "duration": 144,
        "start_time": "2023-07-17T14:46:09.201Z"
      },
      {
        "duration": 5,
        "start_time": "2023-07-17T14:46:38.183Z"
      },
      {
        "duration": 8,
        "start_time": "2023-07-17T14:46:50.396Z"
      },
      {
        "duration": 3,
        "start_time": "2023-07-17T14:48:11.820Z"
      },
      {
        "duration": 761,
        "start_time": "2023-07-17T14:48:11.825Z"
      },
      {
        "duration": 21,
        "start_time": "2023-07-17T14:48:12.588Z"
      },
      {
        "duration": 139,
        "start_time": "2023-07-17T14:48:12.610Z"
      },
      {
        "duration": 130,
        "start_time": "2023-07-17T14:48:12.752Z"
      },
      {
        "duration": 0,
        "start_time": "2023-07-17T14:48:12.884Z"
      },
      {
        "duration": 0,
        "start_time": "2023-07-17T14:48:12.885Z"
      },
      {
        "duration": 0,
        "start_time": "2023-07-17T14:48:12.887Z"
      },
      {
        "duration": 0,
        "start_time": "2023-07-17T14:48:12.888Z"
      },
      {
        "duration": 0,
        "start_time": "2023-07-17T14:48:12.889Z"
      },
      {
        "duration": 0,
        "start_time": "2023-07-17T14:48:12.890Z"
      },
      {
        "duration": 0,
        "start_time": "2023-07-17T14:48:12.891Z"
      },
      {
        "duration": 0,
        "start_time": "2023-07-17T14:48:12.893Z"
      },
      {
        "duration": 0,
        "start_time": "2023-07-17T14:48:12.894Z"
      },
      {
        "duration": 0,
        "start_time": "2023-07-17T14:48:12.895Z"
      },
      {
        "duration": 0,
        "start_time": "2023-07-17T14:48:12.896Z"
      },
      {
        "duration": 0,
        "start_time": "2023-07-17T14:48:12.898Z"
      },
      {
        "duration": 0,
        "start_time": "2023-07-17T14:48:12.899Z"
      },
      {
        "duration": 0,
        "start_time": "2023-07-17T14:48:12.900Z"
      },
      {
        "duration": 0,
        "start_time": "2023-07-17T14:48:12.901Z"
      },
      {
        "duration": 0,
        "start_time": "2023-07-17T14:48:12.903Z"
      },
      {
        "duration": 0,
        "start_time": "2023-07-17T14:48:12.904Z"
      },
      {
        "duration": 24,
        "start_time": "2023-07-17T14:48:20.152Z"
      },
      {
        "duration": 123,
        "start_time": "2023-07-17T14:48:20.869Z"
      },
      {
        "duration": 165,
        "start_time": "2023-07-17T14:48:21.192Z"
      },
      {
        "duration": 16,
        "start_time": "2023-07-17T14:48:21.364Z"
      },
      {
        "duration": 60,
        "start_time": "2023-07-17T14:48:21.698Z"
      },
      {
        "duration": 250,
        "start_time": "2023-07-17T14:48:21.944Z"
      },
      {
        "duration": 21,
        "start_time": "2023-07-17T14:48:22.682Z"
      },
      {
        "duration": 14,
        "start_time": "2023-07-17T14:48:22.906Z"
      },
      {
        "duration": 2,
        "start_time": "2023-07-17T14:48:22.994Z"
      },
      {
        "duration": 4,
        "start_time": "2023-07-17T14:48:23.307Z"
      },
      {
        "duration": 116,
        "start_time": "2023-07-17T14:48:23.448Z"
      },
      {
        "duration": 20,
        "start_time": "2023-07-17T14:48:23.778Z"
      },
      {
        "duration": 20,
        "start_time": "2023-07-17T14:48:24.002Z"
      },
      {
        "duration": 27,
        "start_time": "2023-07-17T14:48:24.148Z"
      },
      {
        "duration": 252,
        "start_time": "2023-07-17T14:48:24.197Z"
      },
      {
        "duration": 53,
        "start_time": "2023-07-17T14:48:24.451Z"
      },
      {
        "duration": 8,
        "start_time": "2023-07-17T14:48:24.505Z"
      },
      {
        "duration": 172,
        "start_time": "2023-07-17T14:48:24.554Z"
      },
      {
        "duration": 8,
        "start_time": "2023-07-17T14:48:41.756Z"
      },
      {
        "duration": 138,
        "start_time": "2023-07-17T14:49:00.857Z"
      },
      {
        "duration": 132,
        "start_time": "2023-07-17T14:50:19.648Z"
      },
      {
        "duration": 146,
        "start_time": "2023-07-17T14:50:25.553Z"
      },
      {
        "duration": 14,
        "start_time": "2023-07-17T14:50:36.276Z"
      },
      {
        "duration": 25,
        "start_time": "2023-07-17T14:50:42.992Z"
      },
      {
        "duration": 148,
        "start_time": "2023-07-17T14:50:47.548Z"
      },
      {
        "duration": 2,
        "start_time": "2023-07-17T14:51:08.013Z"
      },
      {
        "duration": 772,
        "start_time": "2023-07-17T14:51:08.017Z"
      },
      {
        "duration": 21,
        "start_time": "2023-07-17T14:51:08.791Z"
      },
      {
        "duration": 145,
        "start_time": "2023-07-17T14:51:08.814Z"
      },
      {
        "duration": 32,
        "start_time": "2023-07-17T14:51:08.961Z"
      },
      {
        "duration": 136,
        "start_time": "2023-07-17T14:51:08.995Z"
      },
      {
        "duration": 173,
        "start_time": "2023-07-17T14:51:09.132Z"
      },
      {
        "duration": 13,
        "start_time": "2023-07-17T14:51:09.307Z"
      },
      {
        "duration": 66,
        "start_time": "2023-07-17T14:51:09.321Z"
      },
      {
        "duration": 172,
        "start_time": "2023-07-17T14:51:09.388Z"
      },
      {
        "duration": 23,
        "start_time": "2023-07-17T14:51:09.562Z"
      },
      {
        "duration": 14,
        "start_time": "2023-07-17T14:51:09.587Z"
      },
      {
        "duration": 2,
        "start_time": "2023-07-17T14:51:09.604Z"
      },
      {
        "duration": 9,
        "start_time": "2023-07-17T14:51:09.607Z"
      },
      {
        "duration": 138,
        "start_time": "2023-07-17T14:51:09.617Z"
      },
      {
        "duration": 25,
        "start_time": "2023-07-17T14:51:09.756Z"
      },
      {
        "duration": 21,
        "start_time": "2023-07-17T14:51:09.782Z"
      },
      {
        "duration": 18,
        "start_time": "2023-07-17T14:51:09.805Z"
      },
      {
        "duration": 297,
        "start_time": "2023-07-17T14:51:09.825Z"
      },
      {
        "duration": 52,
        "start_time": "2023-07-17T14:51:10.124Z"
      },
      {
        "duration": 7,
        "start_time": "2023-07-17T14:51:10.178Z"
      },
      {
        "duration": 157,
        "start_time": "2023-07-17T14:51:10.187Z"
      },
      {
        "duration": 8,
        "start_time": "2023-07-17T14:51:40.575Z"
      },
      {
        "duration": 44,
        "start_time": "2023-07-17T20:03:05.895Z"
      },
      {
        "duration": 840,
        "start_time": "2023-07-17T20:03:10.989Z"
      },
      {
        "duration": 3262,
        "start_time": "2023-07-17T20:03:11.831Z"
      },
      {
        "duration": 27,
        "start_time": "2023-07-17T20:03:15.095Z"
      },
      {
        "duration": 134,
        "start_time": "2023-07-17T20:03:15.124Z"
      },
      {
        "duration": 57,
        "start_time": "2023-07-17T20:03:15.260Z"
      },
      {
        "duration": 159,
        "start_time": "2023-07-17T20:03:15.319Z"
      },
      {
        "duration": 177,
        "start_time": "2023-07-17T20:03:15.480Z"
      },
      {
        "duration": 26,
        "start_time": "2023-07-17T20:03:15.659Z"
      },
      {
        "duration": 63,
        "start_time": "2023-07-17T20:03:15.687Z"
      },
      {
        "duration": 220,
        "start_time": "2023-07-17T20:03:15.770Z"
      },
      {
        "duration": 22,
        "start_time": "2023-07-17T20:03:15.992Z"
      },
      {
        "duration": 15,
        "start_time": "2023-07-17T20:03:16.016Z"
      },
      {
        "duration": 3,
        "start_time": "2023-07-17T20:03:16.033Z"
      },
      {
        "duration": 30,
        "start_time": "2023-07-17T20:03:16.038Z"
      },
      {
        "duration": 166,
        "start_time": "2023-07-17T20:03:16.071Z"
      },
      {
        "duration": 20,
        "start_time": "2023-07-17T20:03:16.239Z"
      },
      {
        "duration": 30,
        "start_time": "2023-07-17T20:03:16.267Z"
      },
      {
        "duration": 23,
        "start_time": "2023-07-17T20:03:16.299Z"
      },
      {
        "duration": 344,
        "start_time": "2023-07-17T20:03:16.324Z"
      },
      {
        "duration": 65,
        "start_time": "2023-07-17T20:03:16.670Z"
      },
      {
        "duration": 69,
        "start_time": "2023-07-17T20:03:16.736Z"
      },
      {
        "duration": 0,
        "start_time": "2023-07-17T20:03:16.807Z"
      },
      {
        "duration": 0,
        "start_time": "2023-07-17T20:03:16.808Z"
      },
      {
        "duration": 0,
        "start_time": "2023-07-17T20:03:16.810Z"
      },
      {
        "duration": 1079,
        "start_time": "2023-07-17T20:03:23.671Z"
      },
      {
        "duration": 1059,
        "start_time": "2023-07-17T20:03:50.225Z"
      },
      {
        "duration": 9,
        "start_time": "2023-07-17T20:03:59.349Z"
      },
      {
        "duration": 34498,
        "start_time": "2023-07-17T20:04:49.204Z"
      },
      {
        "duration": 2064,
        "start_time": "2023-07-17T20:05:32.652Z"
      },
      {
        "duration": 165,
        "start_time": "2023-07-17T20:05:58.382Z"
      },
      {
        "duration": 261,
        "start_time": "2023-07-17T20:06:03.145Z"
      },
      {
        "duration": 148,
        "start_time": "2023-07-17T20:06:09.387Z"
      },
      {
        "duration": 131,
        "start_time": "2023-07-17T20:06:12.055Z"
      },
      {
        "duration": 143,
        "start_time": "2023-07-17T20:06:14.977Z"
      },
      {
        "duration": 177,
        "start_time": "2023-07-17T20:06:29.548Z"
      },
      {
        "duration": 181,
        "start_time": "2023-07-17T20:06:35.861Z"
      },
      {
        "duration": 155,
        "start_time": "2023-07-17T20:12:25.862Z"
      },
      {
        "duration": 6,
        "start_time": "2023-07-17T20:18:27.495Z"
      },
      {
        "duration": 313,
        "start_time": "2023-07-17T20:18:45.676Z"
      },
      {
        "duration": 41,
        "start_time": "2023-07-17T20:19:40.658Z"
      },
      {
        "duration": 47,
        "start_time": "2023-07-17T20:19:49.656Z"
      },
      {
        "duration": 31,
        "start_time": "2023-07-17T20:21:13.585Z"
      },
      {
        "duration": 32,
        "start_time": "2023-07-17T20:22:51.457Z"
      },
      {
        "duration": 871,
        "start_time": "2023-07-18T09:56:00.342Z"
      },
      {
        "duration": 1226,
        "start_time": "2023-07-18T09:56:01.216Z"
      },
      {
        "duration": 26,
        "start_time": "2023-07-18T09:56:02.444Z"
      },
      {
        "duration": 148,
        "start_time": "2023-07-18T09:56:02.472Z"
      },
      {
        "duration": 58,
        "start_time": "2023-07-18T09:56:02.622Z"
      },
      {
        "duration": 128,
        "start_time": "2023-07-18T09:56:02.682Z"
      },
      {
        "duration": 190,
        "start_time": "2023-07-18T09:56:02.811Z"
      },
      {
        "duration": 16,
        "start_time": "2023-07-18T09:56:03.003Z"
      },
      {
        "duration": 71,
        "start_time": "2023-07-18T09:56:03.021Z"
      },
      {
        "duration": 196,
        "start_time": "2023-07-18T09:56:03.095Z"
      },
      {
        "duration": 27,
        "start_time": "2023-07-18T09:56:03.293Z"
      },
      {
        "duration": 36,
        "start_time": "2023-07-18T09:56:03.322Z"
      },
      {
        "duration": 20,
        "start_time": "2023-07-18T09:56:03.360Z"
      },
      {
        "duration": 23,
        "start_time": "2023-07-18T09:56:03.382Z"
      },
      {
        "duration": 145,
        "start_time": "2023-07-18T09:56:03.407Z"
      },
      {
        "duration": 19,
        "start_time": "2023-07-18T09:56:03.553Z"
      },
      {
        "duration": 45,
        "start_time": "2023-07-18T09:56:03.573Z"
      },
      {
        "duration": 17,
        "start_time": "2023-07-18T09:56:03.620Z"
      },
      {
        "duration": 308,
        "start_time": "2023-07-18T09:56:03.639Z"
      },
      {
        "duration": 71,
        "start_time": "2023-07-18T09:56:03.949Z"
      },
      {
        "duration": 161,
        "start_time": "2023-07-18T09:56:04.022Z"
      },
      {
        "duration": 7,
        "start_time": "2023-07-18T09:56:04.185Z"
      },
      {
        "duration": 23,
        "start_time": "2023-07-18T09:56:04.193Z"
      },
      {
        "duration": 30,
        "start_time": "2023-07-18T09:56:04.218Z"
      },
      {
        "duration": 33,
        "start_time": "2023-07-18T09:56:04.250Z"
      },
      {
        "duration": 19,
        "start_time": "2023-07-18T09:58:51.167Z"
      },
      {
        "duration": 21,
        "start_time": "2023-07-18T09:59:10.358Z"
      },
      {
        "duration": 81,
        "start_time": "2023-07-18T10:02:21.836Z"
      },
      {
        "duration": 10,
        "start_time": "2023-07-18T10:02:34.320Z"
      },
      {
        "duration": 89,
        "start_time": "2023-07-18T10:02:53.747Z"
      },
      {
        "duration": 234,
        "start_time": "2023-07-18T10:03:31.869Z"
      },
      {
        "duration": 2,
        "start_time": "2023-07-18T10:03:37.241Z"
      },
      {
        "duration": 963,
        "start_time": "2023-07-18T10:03:37.246Z"
      },
      {
        "duration": 26,
        "start_time": "2023-07-18T10:03:38.211Z"
      },
      {
        "duration": 229,
        "start_time": "2023-07-18T10:03:38.238Z"
      },
      {
        "duration": 47,
        "start_time": "2023-07-18T10:03:38.470Z"
      },
      {
        "duration": 336,
        "start_time": "2023-07-18T10:03:38.520Z"
      },
      {
        "duration": 108,
        "start_time": "2023-07-18T10:03:38.858Z"
      },
      {
        "duration": 206,
        "start_time": "2023-07-18T10:03:38.967Z"
      },
      {
        "duration": 19,
        "start_time": "2023-07-18T10:03:39.175Z"
      },
      {
        "duration": 53,
        "start_time": "2023-07-18T10:03:39.210Z"
      },
      {
        "duration": 224,
        "start_time": "2023-07-18T10:03:39.268Z"
      },
      {
        "duration": 29,
        "start_time": "2023-07-18T10:03:39.495Z"
      },
      {
        "duration": 31,
        "start_time": "2023-07-18T10:03:39.527Z"
      },
      {
        "duration": 11,
        "start_time": "2023-07-18T10:03:39.561Z"
      },
      {
        "duration": 28,
        "start_time": "2023-07-18T10:03:39.575Z"
      },
      {
        "duration": 186,
        "start_time": "2023-07-18T10:03:39.605Z"
      },
      {
        "duration": 23,
        "start_time": "2023-07-18T10:03:39.792Z"
      },
      {
        "duration": 18,
        "start_time": "2023-07-18T10:03:39.817Z"
      },
      {
        "duration": 19,
        "start_time": "2023-07-18T10:03:39.837Z"
      },
      {
        "duration": 325,
        "start_time": "2023-07-18T10:03:39.858Z"
      },
      {
        "duration": 41,
        "start_time": "2023-07-18T10:03:40.185Z"
      },
      {
        "duration": 191,
        "start_time": "2023-07-18T10:03:40.228Z"
      },
      {
        "duration": 10,
        "start_time": "2023-07-18T10:03:40.421Z"
      },
      {
        "duration": 29,
        "start_time": "2023-07-18T10:03:40.433Z"
      },
      {
        "duration": 46,
        "start_time": "2023-07-18T10:03:40.464Z"
      },
      {
        "duration": 65,
        "start_time": "2023-07-18T10:03:40.511Z"
      },
      {
        "duration": 43,
        "start_time": "2023-07-18T10:03:40.579Z"
      },
      {
        "duration": 34,
        "start_time": "2023-07-18T10:03:40.624Z"
      },
      {
        "duration": 90,
        "start_time": "2023-07-18T10:03:55.084Z"
      },
      {
        "duration": 7,
        "start_time": "2023-07-18T10:04:42.559Z"
      },
      {
        "duration": 8,
        "start_time": "2023-07-18T10:05:03.000Z"
      },
      {
        "duration": 8,
        "start_time": "2023-07-18T10:05:25.437Z"
      },
      {
        "duration": 9,
        "start_time": "2023-07-18T10:05:39.516Z"
      },
      {
        "duration": 657,
        "start_time": "2023-07-18T10:07:11.381Z"
      },
      {
        "duration": 960,
        "start_time": "2023-07-18T10:07:35.538Z"
      },
      {
        "duration": 8,
        "start_time": "2023-07-18T10:10:25.554Z"
      },
      {
        "duration": 15,
        "start_time": "2023-07-18T10:10:44.443Z"
      },
      {
        "duration": 11,
        "start_time": "2023-07-18T10:10:52.911Z"
      },
      {
        "duration": 9,
        "start_time": "2023-07-18T10:11:00.042Z"
      },
      {
        "duration": 9,
        "start_time": "2023-07-18T10:11:11.654Z"
      },
      {
        "duration": 3,
        "start_time": "2023-07-18T10:12:30.876Z"
      },
      {
        "duration": 1004,
        "start_time": "2023-07-18T10:12:30.881Z"
      },
      {
        "duration": 33,
        "start_time": "2023-07-18T10:12:31.887Z"
      },
      {
        "duration": 136,
        "start_time": "2023-07-18T10:12:31.922Z"
      },
      {
        "duration": 27,
        "start_time": "2023-07-18T10:12:32.060Z"
      },
      {
        "duration": 287,
        "start_time": "2023-07-18T10:12:32.089Z"
      },
      {
        "duration": 91,
        "start_time": "2023-07-18T10:12:32.379Z"
      },
      {
        "duration": 192,
        "start_time": "2023-07-18T10:12:32.472Z"
      },
      {
        "duration": 17,
        "start_time": "2023-07-18T10:12:32.666Z"
      },
      {
        "duration": 53,
        "start_time": "2023-07-18T10:12:32.686Z"
      },
      {
        "duration": 258,
        "start_time": "2023-07-18T10:12:32.741Z"
      },
      {
        "duration": 20,
        "start_time": "2023-07-18T10:12:33.000Z"
      },
      {
        "duration": 216,
        "start_time": "2023-07-18T10:12:33.022Z"
      },
      {
        "duration": 486,
        "start_time": "2023-07-18T10:12:33.240Z"
      },
      {
        "duration": 243,
        "start_time": "2023-07-18T10:12:33.728Z"
      },
      {
        "duration": 281,
        "start_time": "2023-07-18T10:12:33.973Z"
      },
      {
        "duration": 172,
        "start_time": "2023-07-18T10:12:34.256Z"
      },
      {
        "duration": 385,
        "start_time": "2023-07-18T10:12:34.431Z"
      },
      {
        "duration": 36,
        "start_time": "2023-07-18T10:12:34.818Z"
      },
      {
        "duration": 170,
        "start_time": "2023-07-18T10:12:34.856Z"
      },
      {
        "duration": 10,
        "start_time": "2023-07-18T10:12:35.028Z"
      },
      {
        "duration": 37,
        "start_time": "2023-07-18T10:12:35.040Z"
      },
      {
        "duration": 33,
        "start_time": "2023-07-18T10:12:35.080Z"
      },
      {
        "duration": 23,
        "start_time": "2023-07-18T10:12:35.116Z"
      },
      {
        "duration": 44,
        "start_time": "2023-07-18T10:12:35.141Z"
      },
      {
        "duration": 32,
        "start_time": "2023-07-18T10:12:35.187Z"
      },
      {
        "duration": 101,
        "start_time": "2023-07-18T10:12:35.221Z"
      },
      {
        "duration": 7,
        "start_time": "2023-07-18T10:12:35.325Z"
      },
      {
        "duration": 44,
        "start_time": "2023-07-18T10:12:35.334Z"
      },
      {
        "duration": 35,
        "start_time": "2023-07-18T10:17:07.084Z"
      },
      {
        "duration": 12,
        "start_time": "2023-07-18T10:17:22.974Z"
      },
      {
        "duration": 173,
        "start_time": "2023-07-18T10:17:46.275Z"
      },
      {
        "duration": 189,
        "start_time": "2023-07-18T10:18:18.579Z"
      },
      {
        "duration": 210,
        "start_time": "2023-07-18T10:18:36.706Z"
      },
      {
        "duration": 186,
        "start_time": "2023-07-18T10:18:42.458Z"
      },
      {
        "duration": 201,
        "start_time": "2023-07-18T10:18:48.948Z"
      },
      {
        "duration": 3498,
        "start_time": "2023-07-18T10:20:02.165Z"
      },
      {
        "duration": 105,
        "start_time": "2023-07-18T10:21:09.361Z"
      },
      {
        "duration": 184,
        "start_time": "2023-07-18T10:21:52.588Z"
      },
      {
        "duration": 205,
        "start_time": "2023-07-18T10:22:01.885Z"
      },
      {
        "duration": 232,
        "start_time": "2023-07-18T10:22:05.944Z"
      },
      {
        "duration": 256,
        "start_time": "2023-07-18T10:22:09.440Z"
      },
      {
        "duration": 269,
        "start_time": "2023-07-18T10:22:16.899Z"
      },
      {
        "duration": 306,
        "start_time": "2023-07-18T10:22:21.213Z"
      },
      {
        "duration": 586,
        "start_time": "2023-07-18T10:22:27.497Z"
      },
      {
        "duration": 489,
        "start_time": "2023-07-18T10:22:39.710Z"
      },
      {
        "duration": 1851,
        "start_time": "2023-07-18T10:22:45.568Z"
      },
      {
        "duration": 361,
        "start_time": "2023-07-18T10:22:49.204Z"
      },
      {
        "duration": 792,
        "start_time": "2023-07-18T10:22:56.662Z"
      },
      {
        "duration": 36,
        "start_time": "2023-07-18T10:23:40.572Z"
      },
      {
        "duration": 3,
        "start_time": "2023-07-18T10:23:44.311Z"
      },
      {
        "duration": 940,
        "start_time": "2023-07-18T10:23:44.316Z"
      },
      {
        "duration": 25,
        "start_time": "2023-07-18T10:23:45.258Z"
      },
      {
        "duration": 168,
        "start_time": "2023-07-18T10:23:45.286Z"
      },
      {
        "duration": 124,
        "start_time": "2023-07-18T10:23:45.456Z"
      },
      {
        "duration": 36,
        "start_time": "2023-07-18T10:23:45.582Z"
      },
      {
        "duration": 294,
        "start_time": "2023-07-18T10:23:45.620Z"
      },
      {
        "duration": 112,
        "start_time": "2023-07-18T10:23:45.917Z"
      },
      {
        "duration": 669,
        "start_time": "2023-07-18T10:23:46.032Z"
      },
      {
        "duration": 20,
        "start_time": "2023-07-18T10:23:46.709Z"
      },
      {
        "duration": 37,
        "start_time": "2023-07-18T10:23:46.731Z"
      },
      {
        "duration": 212,
        "start_time": "2023-07-18T10:23:46.770Z"
      },
      {
        "duration": 26,
        "start_time": "2023-07-18T10:23:46.984Z"
      },
      {
        "duration": 13,
        "start_time": "2023-07-18T10:23:47.012Z"
      },
      {
        "duration": 148,
        "start_time": "2023-07-18T10:23:47.027Z"
      },
      {
        "duration": 39,
        "start_time": "2023-07-18T10:23:47.178Z"
      },
      {
        "duration": 26,
        "start_time": "2023-07-18T10:23:47.219Z"
      },
      {
        "duration": 18,
        "start_time": "2023-07-18T10:23:47.247Z"
      },
      {
        "duration": 324,
        "start_time": "2023-07-18T10:23:47.268Z"
      },
      {
        "duration": 40,
        "start_time": "2023-07-18T10:23:47.595Z"
      },
      {
        "duration": 176,
        "start_time": "2023-07-18T10:23:47.637Z"
      },
      {
        "duration": 8,
        "start_time": "2023-07-18T10:23:47.816Z"
      },
      {
        "duration": 33,
        "start_time": "2023-07-18T10:23:47.826Z"
      },
      {
        "duration": 45,
        "start_time": "2023-07-18T10:23:47.864Z"
      },
      {
        "duration": 31,
        "start_time": "2023-07-18T10:23:47.911Z"
      },
      {
        "duration": 46,
        "start_time": "2023-07-18T10:23:47.944Z"
      },
      {
        "duration": 38,
        "start_time": "2023-07-18T10:23:47.993Z"
      },
      {
        "duration": 119,
        "start_time": "2023-07-18T10:23:48.033Z"
      },
      {
        "duration": 8,
        "start_time": "2023-07-18T10:23:48.154Z"
      },
      {
        "duration": 110,
        "start_time": "2023-07-18T10:23:48.164Z"
      },
      {
        "duration": 301,
        "start_time": "2023-07-18T10:34:43.760Z"
      },
      {
        "duration": 8,
        "start_time": "2023-07-18T10:35:10.456Z"
      },
      {
        "duration": 9,
        "start_time": "2023-07-18T10:35:26.448Z"
      },
      {
        "duration": 8,
        "start_time": "2023-07-18T10:35:41.075Z"
      },
      {
        "duration": 156,
        "start_time": "2023-07-18T10:35:57.312Z"
      },
      {
        "duration": 173,
        "start_time": "2023-07-18T10:36:10.779Z"
      },
      {
        "duration": 1176,
        "start_time": "2023-07-18T10:37:09.408Z"
      },
      {
        "duration": 151,
        "start_time": "2023-07-18T10:37:24.971Z"
      },
      {
        "duration": 214,
        "start_time": "2023-07-18T10:37:56.179Z"
      },
      {
        "duration": 37,
        "start_time": "2023-07-18T10:38:49.560Z"
      },
      {
        "duration": 137,
        "start_time": "2023-07-18T10:38:53.376Z"
      },
      {
        "duration": 11,
        "start_time": "2023-07-18T10:39:03.576Z"
      },
      {
        "duration": 18,
        "start_time": "2023-07-18T10:39:03.764Z"
      },
      {
        "duration": 279,
        "start_time": "2023-07-18T10:39:03.856Z"
      },
      {
        "duration": 36,
        "start_time": "2023-07-18T10:39:04.137Z"
      },
      {
        "duration": 176,
        "start_time": "2023-07-18T10:39:04.175Z"
      },
      {
        "duration": 28,
        "start_time": "2023-07-18T10:39:04.353Z"
      },
      {
        "duration": 23,
        "start_time": "2023-07-18T10:39:04.415Z"
      },
      {
        "duration": 31,
        "start_time": "2023-07-18T10:39:04.515Z"
      },
      {
        "duration": 18,
        "start_time": "2023-07-18T10:39:04.644Z"
      },
      {
        "duration": 31,
        "start_time": "2023-07-18T10:39:04.851Z"
      },
      {
        "duration": 18,
        "start_time": "2023-07-18T10:39:05.047Z"
      },
      {
        "duration": 85,
        "start_time": "2023-07-18T10:39:05.155Z"
      },
      {
        "duration": 7,
        "start_time": "2023-07-18T10:39:05.368Z"
      },
      {
        "duration": 13,
        "start_time": "2023-07-18T10:39:05.891Z"
      },
      {
        "duration": 180,
        "start_time": "2023-07-18T10:43:45.189Z"
      },
      {
        "duration": 197,
        "start_time": "2023-07-18T10:44:09.272Z"
      },
      {
        "duration": 472,
        "start_time": "2023-07-18T10:44:15.691Z"
      },
      {
        "duration": 3772,
        "start_time": "2023-07-18T10:44:36.646Z"
      },
      {
        "duration": 406,
        "start_time": "2023-07-18T10:44:49.817Z"
      },
      {
        "duration": 166,
        "start_time": "2023-07-18T10:44:56.856Z"
      },
      {
        "duration": 389,
        "start_time": "2023-07-18T10:45:04.909Z"
      },
      {
        "duration": 181,
        "start_time": "2023-07-18T10:45:11.864Z"
      },
      {
        "duration": 202,
        "start_time": "2023-07-18T10:45:32.073Z"
      },
      {
        "duration": 188,
        "start_time": "2023-07-18T10:45:39.109Z"
      },
      {
        "duration": 36,
        "start_time": "2023-07-18T10:46:03.457Z"
      },
      {
        "duration": 20,
        "start_time": "2023-07-18T10:46:05.409Z"
      },
      {
        "duration": 188,
        "start_time": "2023-07-18T10:46:05.574Z"
      },
      {
        "duration": 35,
        "start_time": "2023-07-18T10:46:05.768Z"
      },
      {
        "duration": 171,
        "start_time": "2023-07-18T10:46:06.080Z"
      },
      {
        "duration": 28,
        "start_time": "2023-07-18T10:46:06.253Z"
      },
      {
        "duration": 42,
        "start_time": "2023-07-18T10:46:06.283Z"
      },
      {
        "duration": 31,
        "start_time": "2023-07-18T10:46:06.390Z"
      },
      {
        "duration": 18,
        "start_time": "2023-07-18T10:46:06.718Z"
      },
      {
        "duration": 32,
        "start_time": "2023-07-18T10:46:06.818Z"
      },
      {
        "duration": 18,
        "start_time": "2023-07-18T10:46:06.917Z"
      },
      {
        "duration": 87,
        "start_time": "2023-07-18T10:46:07.039Z"
      },
      {
        "duration": 9,
        "start_time": "2023-07-18T10:46:07.242Z"
      },
      {
        "duration": 11,
        "start_time": "2023-07-18T10:46:07.835Z"
      },
      {
        "duration": 24,
        "start_time": "2023-07-18T10:48:46.153Z"
      },
      {
        "duration": 82,
        "start_time": "2023-07-18T10:48:54.244Z"
      },
      {
        "duration": 5,
        "start_time": "2023-07-18T10:49:36.318Z"
      },
      {
        "duration": 19,
        "start_time": "2023-07-18T10:50:20.402Z"
      },
      {
        "duration": 3,
        "start_time": "2023-07-18T10:50:23.660Z"
      },
      {
        "duration": 833,
        "start_time": "2023-07-18T10:50:23.666Z"
      },
      {
        "duration": 28,
        "start_time": "2023-07-18T10:50:24.501Z"
      },
      {
        "duration": 137,
        "start_time": "2023-07-18T10:50:24.532Z"
      },
      {
        "duration": 110,
        "start_time": "2023-07-18T10:50:24.671Z"
      },
      {
        "duration": 68,
        "start_time": "2023-07-18T10:50:24.783Z"
      },
      {
        "duration": 240,
        "start_time": "2023-07-18T10:50:24.854Z"
      },
      {
        "duration": 89,
        "start_time": "2023-07-18T10:50:25.096Z"
      },
      {
        "duration": 556,
        "start_time": "2023-07-18T10:50:25.189Z"
      },
      {
        "duration": 17,
        "start_time": "2023-07-18T10:50:25.747Z"
      },
      {
        "duration": 73,
        "start_time": "2023-07-18T10:50:25.766Z"
      },
      {
        "duration": 256,
        "start_time": "2023-07-18T10:50:25.841Z"
      },
      {
        "duration": 31,
        "start_time": "2023-07-18T10:50:26.099Z"
      },
      {
        "duration": 188,
        "start_time": "2023-07-18T10:50:26.134Z"
      },
      {
        "duration": 208,
        "start_time": "2023-07-18T10:50:26.324Z"
      },
      {
        "duration": 33,
        "start_time": "2023-07-18T10:50:26.534Z"
      },
      {
        "duration": 150,
        "start_time": "2023-07-18T10:50:26.569Z"
      },
      {
        "duration": 19,
        "start_time": "2023-07-18T10:50:26.720Z"
      },
      {
        "duration": 200,
        "start_time": "2023-07-18T10:50:26.740Z"
      },
      {
        "duration": 190,
        "start_time": "2023-07-18T10:50:26.942Z"
      },
      {
        "duration": 31,
        "start_time": "2023-07-18T10:50:27.135Z"
      },
      {
        "duration": 18,
        "start_time": "2023-07-18T10:50:27.168Z"
      },
      {
        "duration": 182,
        "start_time": "2023-07-18T10:50:27.187Z"
      },
      {
        "duration": 38,
        "start_time": "2023-07-18T10:50:27.372Z"
      },
      {
        "duration": 161,
        "start_time": "2023-07-18T10:50:27.413Z"
      },
      {
        "duration": 8,
        "start_time": "2023-07-18T10:50:27.576Z"
      },
      {
        "duration": 32,
        "start_time": "2023-07-18T10:50:27.586Z"
      },
      {
        "duration": 29,
        "start_time": "2023-07-18T10:50:27.620Z"
      },
      {
        "duration": 27,
        "start_time": "2023-07-18T10:50:27.651Z"
      },
      {
        "duration": 43,
        "start_time": "2023-07-18T10:50:27.680Z"
      },
      {
        "duration": 25,
        "start_time": "2023-07-18T10:50:27.725Z"
      },
      {
        "duration": 99,
        "start_time": "2023-07-18T10:50:27.751Z"
      },
      {
        "duration": 7,
        "start_time": "2023-07-18T10:50:27.852Z"
      },
      {
        "duration": 9,
        "start_time": "2023-07-18T10:50:27.861Z"
      },
      {
        "duration": 38,
        "start_time": "2023-07-18T10:50:27.872Z"
      },
      {
        "duration": 0,
        "start_time": "2023-07-18T10:50:27.912Z"
      },
      {
        "duration": 45,
        "start_time": "2023-07-18T10:50:49.790Z"
      },
      {
        "duration": 70,
        "start_time": "2023-07-18T10:51:03.270Z"
      },
      {
        "duration": 3,
        "start_time": "2023-07-18T10:51:29.285Z"
      },
      {
        "duration": 1075,
        "start_time": "2023-07-18T10:51:29.290Z"
      },
      {
        "duration": 24,
        "start_time": "2023-07-18T10:51:30.366Z"
      },
      {
        "duration": 198,
        "start_time": "2023-07-18T10:51:30.392Z"
      },
      {
        "duration": 325,
        "start_time": "2023-07-18T10:51:30.592Z"
      },
      {
        "duration": 28,
        "start_time": "2023-07-18T10:51:30.919Z"
      },
      {
        "duration": 289,
        "start_time": "2023-07-18T10:51:30.949Z"
      },
      {
        "duration": 93,
        "start_time": "2023-07-18T10:51:31.240Z"
      },
      {
        "duration": 867,
        "start_time": "2023-07-18T10:51:31.337Z"
      },
      {
        "duration": 18,
        "start_time": "2023-07-18T10:51:32.208Z"
      },
      {
        "duration": 222,
        "start_time": "2023-07-18T10:51:32.228Z"
      },
      {
        "duration": 336,
        "start_time": "2023-07-18T10:51:32.453Z"
      },
      {
        "duration": 28,
        "start_time": "2023-07-18T10:51:32.791Z"
      },
      {
        "duration": 248,
        "start_time": "2023-07-18T10:51:32.822Z"
      },
      {
        "duration": 202,
        "start_time": "2023-07-18T10:51:33.072Z"
      },
      {
        "duration": 44,
        "start_time": "2023-07-18T10:51:33.277Z"
      },
      {
        "duration": 208,
        "start_time": "2023-07-18T10:51:33.323Z"
      },
      {
        "duration": 21,
        "start_time": "2023-07-18T10:51:33.533Z"
      },
      {
        "duration": 219,
        "start_time": "2023-07-18T10:51:33.556Z"
      },
      {
        "duration": 203,
        "start_time": "2023-07-18T10:51:33.778Z"
      },
      {
        "duration": 52,
        "start_time": "2023-07-18T10:51:33.983Z"
      },
      {
        "duration": 71,
        "start_time": "2023-07-18T10:51:34.038Z"
      },
      {
        "duration": 180,
        "start_time": "2023-07-18T10:51:34.120Z"
      },
      {
        "duration": 34,
        "start_time": "2023-07-18T10:51:34.304Z"
      },
      {
        "duration": 171,
        "start_time": "2023-07-18T10:51:34.340Z"
      },
      {
        "duration": 8,
        "start_time": "2023-07-18T10:51:34.513Z"
      },
      {
        "duration": 56,
        "start_time": "2023-07-18T10:51:34.522Z"
      },
      {
        "duration": 44,
        "start_time": "2023-07-18T10:51:34.580Z"
      },
      {
        "duration": 43,
        "start_time": "2023-07-18T10:51:34.626Z"
      },
      {
        "duration": 43,
        "start_time": "2023-07-18T10:51:34.671Z"
      },
      {
        "duration": 76,
        "start_time": "2023-07-18T10:51:34.717Z"
      },
      {
        "duration": 91,
        "start_time": "2023-07-18T10:51:34.795Z"
      },
      {
        "duration": 20,
        "start_time": "2023-07-18T10:51:34.889Z"
      },
      {
        "duration": 40,
        "start_time": "2023-07-18T10:51:34.911Z"
      },
      {
        "duration": 80,
        "start_time": "2023-07-18T10:51:34.953Z"
      },
      {
        "duration": 92,
        "start_time": "2023-07-18T10:51:35.036Z"
      },
      {
        "duration": 4,
        "start_time": "2023-07-18T10:52:20.259Z"
      },
      {
        "duration": 851,
        "start_time": "2023-07-18T10:52:20.266Z"
      },
      {
        "duration": 25,
        "start_time": "2023-07-18T10:52:21.120Z"
      },
      {
        "duration": 142,
        "start_time": "2023-07-18T10:52:21.147Z"
      },
      {
        "duration": 125,
        "start_time": "2023-07-18T10:52:21.292Z"
      },
      {
        "duration": 26,
        "start_time": "2023-07-18T10:52:21.419Z"
      },
      {
        "duration": 284,
        "start_time": "2023-07-18T10:52:21.447Z"
      },
      {
        "duration": 100,
        "start_time": "2023-07-18T10:52:21.733Z"
      },
      {
        "duration": 589,
        "start_time": "2023-07-18T10:52:21.835Z"
      },
      {
        "duration": 20,
        "start_time": "2023-07-18T10:52:22.427Z"
      },
      {
        "duration": 145,
        "start_time": "2023-07-18T10:52:22.451Z"
      },
      {
        "duration": 210,
        "start_time": "2023-07-18T10:52:22.599Z"
      },
      {
        "duration": 21,
        "start_time": "2023-07-18T10:52:22.811Z"
      },
      {
        "duration": 203,
        "start_time": "2023-07-18T10:52:22.835Z"
      },
      {
        "duration": 210,
        "start_time": "2023-07-18T10:52:23.039Z"
      },
      {
        "duration": 34,
        "start_time": "2023-07-18T10:52:23.251Z"
      },
      {
        "duration": 154,
        "start_time": "2023-07-18T10:52:23.288Z"
      },
      {
        "duration": 29,
        "start_time": "2023-07-18T10:52:23.444Z"
      },
      {
        "duration": 205,
        "start_time": "2023-07-18T10:52:23.476Z"
      },
      {
        "duration": 201,
        "start_time": "2023-07-18T10:52:23.683Z"
      },
      {
        "duration": 43,
        "start_time": "2023-07-18T10:52:23.886Z"
      },
      {
        "duration": 59,
        "start_time": "2023-07-18T10:52:23.932Z"
      },
      {
        "duration": 235,
        "start_time": "2023-07-18T10:52:23.994Z"
      },
      {
        "duration": 32,
        "start_time": "2023-07-18T10:52:24.231Z"
      },
      {
        "duration": 200,
        "start_time": "2023-07-18T10:52:24.265Z"
      },
      {
        "duration": 8,
        "start_time": "2023-07-18T10:52:24.468Z"
      },
      {
        "duration": 104,
        "start_time": "2023-07-18T10:52:24.478Z"
      },
      {
        "duration": 39,
        "start_time": "2023-07-18T10:52:24.585Z"
      },
      {
        "duration": 71,
        "start_time": "2023-07-18T10:52:24.628Z"
      },
      {
        "duration": 44,
        "start_time": "2023-07-18T10:52:24.702Z"
      },
      {
        "duration": 54,
        "start_time": "2023-07-18T10:52:24.748Z"
      },
      {
        "duration": 111,
        "start_time": "2023-07-18T10:52:24.804Z"
      },
      {
        "duration": 10,
        "start_time": "2023-07-18T10:52:24.918Z"
      },
      {
        "duration": 31,
        "start_time": "2023-07-18T10:52:24.930Z"
      },
      {
        "duration": 48,
        "start_time": "2023-07-18T10:52:24.963Z"
      },
      {
        "duration": 76,
        "start_time": "2023-07-18T10:52:25.014Z"
      },
      {
        "duration": 3,
        "start_time": "2023-07-18T10:53:13.248Z"
      },
      {
        "duration": 865,
        "start_time": "2023-07-18T10:53:13.253Z"
      },
      {
        "duration": 26,
        "start_time": "2023-07-18T10:53:14.120Z"
      },
      {
        "duration": 132,
        "start_time": "2023-07-18T10:53:14.149Z"
      },
      {
        "duration": 124,
        "start_time": "2023-07-18T10:53:14.284Z"
      },
      {
        "duration": 28,
        "start_time": "2023-07-18T10:53:14.410Z"
      },
      {
        "duration": 273,
        "start_time": "2023-07-18T10:53:14.440Z"
      },
      {
        "duration": 79,
        "start_time": "2023-07-18T10:53:14.715Z"
      },
      {
        "duration": 844,
        "start_time": "2023-07-18T10:53:14.810Z"
      },
      {
        "duration": 17,
        "start_time": "2023-07-18T10:53:15.658Z"
      },
      {
        "duration": 55,
        "start_time": "2023-07-18T10:53:15.676Z"
      },
      {
        "duration": 189,
        "start_time": "2023-07-18T10:53:15.734Z"
      },
      {
        "duration": 22,
        "start_time": "2023-07-18T10:53:15.925Z"
      },
      {
        "duration": 193,
        "start_time": "2023-07-18T10:53:15.949Z"
      },
      {
        "duration": 206,
        "start_time": "2023-07-18T10:53:16.144Z"
      },
      {
        "duration": 32,
        "start_time": "2023-07-18T10:53:16.352Z"
      },
      {
        "duration": 181,
        "start_time": "2023-07-18T10:53:16.386Z"
      },
      {
        "duration": 25,
        "start_time": "2023-07-18T10:53:16.569Z"
      },
      {
        "duration": 225,
        "start_time": "2023-07-18T10:53:16.612Z"
      },
      {
        "duration": 193,
        "start_time": "2023-07-18T10:53:16.839Z"
      },
      {
        "duration": 18,
        "start_time": "2023-07-18T10:53:17.034Z"
      },
      {
        "duration": 286,
        "start_time": "2023-07-18T10:53:17.054Z"
      },
      {
        "duration": 36,
        "start_time": "2023-07-18T10:53:17.342Z"
      },
      {
        "duration": 170,
        "start_time": "2023-07-18T10:53:17.380Z"
      },
      {
        "duration": 8,
        "start_time": "2023-07-18T10:53:17.553Z"
      },
      {
        "duration": 14,
        "start_time": "2023-07-18T10:53:17.562Z"
      },
      {
        "duration": 105,
        "start_time": "2023-07-18T10:53:17.578Z"
      },
      {
        "duration": 37,
        "start_time": "2023-07-18T10:53:17.686Z"
      },
      {
        "duration": 42,
        "start_time": "2023-07-18T10:53:17.724Z"
      },
      {
        "duration": 101,
        "start_time": "2023-07-18T10:53:17.768Z"
      },
      {
        "duration": 147,
        "start_time": "2023-07-18T10:53:17.871Z"
      },
      {
        "duration": 7,
        "start_time": "2023-07-18T10:53:18.020Z"
      },
      {
        "duration": 34,
        "start_time": "2023-07-18T10:53:18.028Z"
      },
      {
        "duration": 76,
        "start_time": "2023-07-18T10:53:18.063Z"
      },
      {
        "duration": 84,
        "start_time": "2023-07-18T10:53:18.141Z"
      },
      {
        "duration": 3,
        "start_time": "2023-07-18T10:54:13.581Z"
      },
      {
        "duration": 920,
        "start_time": "2023-07-18T10:54:13.586Z"
      },
      {
        "duration": 26,
        "start_time": "2023-07-18T10:54:14.508Z"
      },
      {
        "duration": 150,
        "start_time": "2023-07-18T10:54:14.536Z"
      },
      {
        "duration": 123,
        "start_time": "2023-07-18T10:54:14.688Z"
      },
      {
        "duration": 28,
        "start_time": "2023-07-18T10:54:14.813Z"
      },
      {
        "duration": 280,
        "start_time": "2023-07-18T10:54:14.843Z"
      },
      {
        "duration": 83,
        "start_time": "2023-07-18T10:54:15.126Z"
      },
      {
        "duration": 561,
        "start_time": "2023-07-18T10:54:15.212Z"
      },
      {
        "duration": 17,
        "start_time": "2023-07-18T10:54:15.775Z"
      },
      {
        "duration": 55,
        "start_time": "2023-07-18T10:54:15.794Z"
      },
      {
        "duration": 252,
        "start_time": "2023-07-18T10:54:15.863Z"
      },
      {
        "duration": 26,
        "start_time": "2023-07-18T10:54:16.118Z"
      },
      {
        "duration": 193,
        "start_time": "2023-07-18T10:54:16.147Z"
      },
      {
        "duration": 209,
        "start_time": "2023-07-18T10:54:16.341Z"
      },
      {
        "duration": 34,
        "start_time": "2023-07-18T10:54:16.552Z"
      },
      {
        "duration": 154,
        "start_time": "2023-07-18T10:54:16.588Z"
      },
      {
        "duration": 21,
        "start_time": "2023-07-18T10:54:16.744Z"
      },
      {
        "duration": 46,
        "start_time": "2023-07-18T10:54:16.768Z"
      },
      {
        "duration": 29,
        "start_time": "2023-07-18T10:54:18.367Z"
      },
      {
        "duration": 14,
        "start_time": "2023-07-18T10:54:18.880Z"
      },
      {
        "duration": 278,
        "start_time": "2023-07-18T10:54:23.407Z"
      },
      {
        "duration": 33,
        "start_time": "2023-07-18T10:54:24.521Z"
      },
      {
        "duration": 160,
        "start_time": "2023-07-18T10:54:24.991Z"
      },
      {
        "duration": 11,
        "start_time": "2023-07-18T10:54:26.002Z"
      },
      {
        "duration": 18,
        "start_time": "2023-07-18T10:54:26.153Z"
      },
      {
        "duration": 32,
        "start_time": "2023-07-18T10:54:26.354Z"
      },
      {
        "duration": 19,
        "start_time": "2023-07-18T10:54:26.459Z"
      },
      {
        "duration": 30,
        "start_time": "2023-07-18T10:54:26.756Z"
      },
      {
        "duration": 21,
        "start_time": "2023-07-18T10:54:26.860Z"
      },
      {
        "duration": 102,
        "start_time": "2023-07-18T10:54:27.059Z"
      },
      {
        "duration": 7,
        "start_time": "2023-07-18T10:54:27.163Z"
      },
      {
        "duration": 9,
        "start_time": "2023-07-18T10:54:27.259Z"
      },
      {
        "duration": 71,
        "start_time": "2023-07-18T10:54:27.472Z"
      },
      {
        "duration": 85,
        "start_time": "2023-07-18T10:54:27.563Z"
      },
      {
        "duration": 159,
        "start_time": "2023-07-18T11:02:04.264Z"
      },
      {
        "duration": 26,
        "start_time": "2023-07-18T11:02:04.426Z"
      },
      {
        "duration": 32,
        "start_time": "2023-07-18T11:02:04.454Z"
      },
      {
        "duration": 31,
        "start_time": "2023-07-18T11:02:05.311Z"
      },
      {
        "duration": 52,
        "start_time": "2023-07-18T11:02:05.344Z"
      },
      {
        "duration": 42,
        "start_time": "2023-07-18T11:02:05.399Z"
      },
      {
        "duration": 34,
        "start_time": "2023-07-18T11:02:05.443Z"
      },
      {
        "duration": 87,
        "start_time": "2023-07-18T11:02:05.479Z"
      },
      {
        "duration": 16,
        "start_time": "2023-07-18T11:02:05.568Z"
      },
      {
        "duration": 0,
        "start_time": "2023-07-18T11:02:05.586Z"
      },
      {
        "duration": 0,
        "start_time": "2023-07-18T11:02:05.587Z"
      },
      {
        "duration": 3,
        "start_time": "2023-07-18T11:02:11.344Z"
      },
      {
        "duration": 892,
        "start_time": "2023-07-18T11:02:11.350Z"
      },
      {
        "duration": 24,
        "start_time": "2023-07-18T11:02:12.244Z"
      },
      {
        "duration": 149,
        "start_time": "2023-07-18T11:02:12.270Z"
      },
      {
        "duration": 117,
        "start_time": "2023-07-18T11:02:12.422Z"
      },
      {
        "duration": 69,
        "start_time": "2023-07-18T11:02:12.541Z"
      },
      {
        "duration": 274,
        "start_time": "2023-07-18T11:02:12.612Z"
      },
      {
        "duration": 85,
        "start_time": "2023-07-18T11:02:12.888Z"
      },
      {
        "duration": 896,
        "start_time": "2023-07-18T11:02:12.974Z"
      },
      {
        "duration": 19,
        "start_time": "2023-07-18T11:02:13.872Z"
      },
      {
        "duration": 49,
        "start_time": "2023-07-18T11:02:13.893Z"
      },
      {
        "duration": 206,
        "start_time": "2023-07-18T11:02:13.944Z"
      },
      {
        "duration": 21,
        "start_time": "2023-07-18T11:02:14.153Z"
      },
      {
        "duration": 186,
        "start_time": "2023-07-18T11:02:14.178Z"
      },
      {
        "duration": 206,
        "start_time": "2023-07-18T11:02:14.366Z"
      },
      {
        "duration": 40,
        "start_time": "2023-07-18T11:02:14.574Z"
      },
      {
        "duration": 137,
        "start_time": "2023-07-18T11:02:14.616Z"
      },
      {
        "duration": 21,
        "start_time": "2023-07-18T11:02:14.754Z"
      },
      {
        "duration": 37,
        "start_time": "2023-07-18T11:02:14.777Z"
      },
      {
        "duration": 318,
        "start_time": "2023-07-18T11:02:14.816Z"
      },
      {
        "duration": 36,
        "start_time": "2023-07-18T11:02:15.136Z"
      },
      {
        "duration": 167,
        "start_time": "2023-07-18T11:02:15.174Z"
      },
      {
        "duration": 8,
        "start_time": "2023-07-18T11:02:15.343Z"
      },
      {
        "duration": 35,
        "start_time": "2023-07-18T11:02:15.353Z"
      },
      {
        "duration": 33,
        "start_time": "2023-07-18T11:02:15.390Z"
      },
      {
        "duration": 47,
        "start_time": "2023-07-18T11:02:15.424Z"
      },
      {
        "duration": 44,
        "start_time": "2023-07-18T11:02:15.472Z"
      },
      {
        "duration": 30,
        "start_time": "2023-07-18T11:02:15.518Z"
      },
      {
        "duration": 86,
        "start_time": "2023-07-18T11:02:15.550Z"
      },
      {
        "duration": 7,
        "start_time": "2023-07-18T11:02:15.638Z"
      },
      {
        "duration": 15,
        "start_time": "2023-07-18T11:02:15.647Z"
      },
      {
        "duration": 64,
        "start_time": "2023-07-18T11:02:15.664Z"
      },
      {
        "duration": 14,
        "start_time": "2023-07-18T11:02:35.419Z"
      },
      {
        "duration": 3,
        "start_time": "2023-07-18T11:02:38.048Z"
      },
      {
        "duration": 875,
        "start_time": "2023-07-18T11:02:38.053Z"
      },
      {
        "duration": 25,
        "start_time": "2023-07-18T11:02:38.930Z"
      },
      {
        "duration": 182,
        "start_time": "2023-07-18T11:02:38.957Z"
      },
      {
        "duration": 118,
        "start_time": "2023-07-18T11:02:39.141Z"
      },
      {
        "duration": 62,
        "start_time": "2023-07-18T11:02:39.261Z"
      },
      {
        "duration": 294,
        "start_time": "2023-07-18T11:02:39.325Z"
      },
      {
        "duration": 89,
        "start_time": "2023-07-18T11:02:39.621Z"
      },
      {
        "duration": 582,
        "start_time": "2023-07-18T11:02:39.712Z"
      },
      {
        "duration": 25,
        "start_time": "2023-07-18T11:02:40.296Z"
      },
      {
        "duration": 37,
        "start_time": "2023-07-18T11:02:40.323Z"
      },
      {
        "duration": 198,
        "start_time": "2023-07-18T11:02:40.362Z"
      },
      {
        "duration": 19,
        "start_time": "2023-07-18T11:02:40.562Z"
      },
      {
        "duration": 169,
        "start_time": "2023-07-18T11:02:40.584Z"
      },
      {
        "duration": 199,
        "start_time": "2023-07-18T11:02:40.755Z"
      },
      {
        "duration": 34,
        "start_time": "2023-07-18T11:02:40.956Z"
      },
      {
        "duration": 149,
        "start_time": "2023-07-18T11:02:40.992Z"
      },
      {
        "duration": 18,
        "start_time": "2023-07-18T11:02:41.143Z"
      },
      {
        "duration": 28,
        "start_time": "2023-07-18T11:02:41.163Z"
      },
      {
        "duration": 293,
        "start_time": "2023-07-18T11:02:41.193Z"
      },
      {
        "duration": 53,
        "start_time": "2023-07-18T11:02:41.488Z"
      },
      {
        "duration": 167,
        "start_time": "2023-07-18T11:02:41.544Z"
      },
      {
        "duration": 8,
        "start_time": "2023-07-18T11:02:41.713Z"
      },
      {
        "duration": 26,
        "start_time": "2023-07-18T11:02:41.723Z"
      },
      {
        "duration": 30,
        "start_time": "2023-07-18T11:02:41.751Z"
      },
      {
        "duration": 43,
        "start_time": "2023-07-18T11:02:41.783Z"
      },
      {
        "duration": 30,
        "start_time": "2023-07-18T11:02:41.828Z"
      },
      {
        "duration": 23,
        "start_time": "2023-07-18T11:02:41.860Z"
      },
      {
        "duration": 123,
        "start_time": "2023-07-18T11:02:41.885Z"
      },
      {
        "duration": 9,
        "start_time": "2023-07-18T11:02:42.010Z"
      },
      {
        "duration": 11,
        "start_time": "2023-07-18T11:02:42.021Z"
      },
      {
        "duration": 196,
        "start_time": "2023-07-18T11:02:42.034Z"
      },
      {
        "duration": 3,
        "start_time": "2023-07-18T11:03:23.904Z"
      },
      {
        "duration": 867,
        "start_time": "2023-07-18T11:03:23.910Z"
      },
      {
        "duration": 33,
        "start_time": "2023-07-18T11:03:24.779Z"
      },
      {
        "duration": 362,
        "start_time": "2023-07-18T11:03:24.814Z"
      },
      {
        "duration": 668,
        "start_time": "2023-07-18T11:03:25.179Z"
      },
      {
        "duration": 60,
        "start_time": "2023-07-18T11:03:25.849Z"
      },
      {
        "duration": 320,
        "start_time": "2023-07-18T11:03:25.911Z"
      },
      {
        "duration": 140,
        "start_time": "2023-07-18T11:03:26.234Z"
      },
      {
        "duration": 675,
        "start_time": "2023-07-18T11:03:26.378Z"
      },
      {
        "duration": 19,
        "start_time": "2023-07-18T11:03:27.055Z"
      },
      {
        "duration": 105,
        "start_time": "2023-07-18T11:03:27.076Z"
      },
      {
        "duration": 196,
        "start_time": "2023-07-18T11:03:27.182Z"
      },
      {
        "duration": 32,
        "start_time": "2023-07-18T11:03:27.380Z"
      },
      {
        "duration": 180,
        "start_time": "2023-07-18T11:03:27.416Z"
      },
      {
        "duration": 214,
        "start_time": "2023-07-18T11:03:27.599Z"
      },
      {
        "duration": 33,
        "start_time": "2023-07-18T11:03:27.815Z"
      },
      {
        "duration": 515,
        "start_time": "2023-07-18T11:03:27.850Z"
      },
      {
        "duration": 28,
        "start_time": "2023-07-18T11:03:28.368Z"
      },
      {
        "duration": 52,
        "start_time": "2023-07-18T11:03:28.408Z"
      },
      {
        "duration": 293,
        "start_time": "2023-07-18T11:03:28.462Z"
      },
      {
        "duration": 1272,
        "start_time": "2023-07-18T11:03:28.757Z"
      },
      {
        "duration": 35,
        "start_time": "2023-07-18T11:03:30.032Z"
      },
      {
        "duration": 198,
        "start_time": "2023-07-18T11:03:30.070Z"
      },
      {
        "duration": 8,
        "start_time": "2023-07-18T11:03:30.271Z"
      },
      {
        "duration": 121,
        "start_time": "2023-07-18T11:03:30.281Z"
      },
      {
        "duration": 217,
        "start_time": "2023-07-18T11:03:30.404Z"
      },
      {
        "duration": 56,
        "start_time": "2023-07-18T11:03:30.623Z"
      },
      {
        "duration": 58,
        "start_time": "2023-07-18T11:03:30.680Z"
      },
      {
        "duration": 86,
        "start_time": "2023-07-18T11:03:30.740Z"
      },
      {
        "duration": 127,
        "start_time": "2023-07-18T11:03:30.828Z"
      },
      {
        "duration": 10,
        "start_time": "2023-07-18T11:03:30.957Z"
      },
      {
        "duration": 59,
        "start_time": "2023-07-18T11:03:30.969Z"
      },
      {
        "duration": 190,
        "start_time": "2023-07-18T11:03:31.030Z"
      },
      {
        "duration": 236,
        "start_time": "2023-07-18T11:04:35.852Z"
      },
      {
        "duration": 160,
        "start_time": "2023-07-18T11:04:46.274Z"
      },
      {
        "duration": 3,
        "start_time": "2023-07-18T11:05:02.565Z"
      },
      {
        "duration": 918,
        "start_time": "2023-07-18T11:05:02.571Z"
      },
      {
        "duration": 32,
        "start_time": "2023-07-18T11:05:03.491Z"
      },
      {
        "duration": 133,
        "start_time": "2023-07-18T11:05:03.525Z"
      },
      {
        "duration": 104,
        "start_time": "2023-07-18T11:05:03.660Z"
      },
      {
        "duration": 63,
        "start_time": "2023-07-18T11:05:03.767Z"
      },
      {
        "duration": 264,
        "start_time": "2023-07-18T11:05:03.832Z"
      },
      {
        "duration": 77,
        "start_time": "2023-07-18T11:05:04.098Z"
      },
      {
        "duration": 565,
        "start_time": "2023-07-18T11:05:04.177Z"
      },
      {
        "duration": 17,
        "start_time": "2023-07-18T11:05:04.743Z"
      },
      {
        "duration": 52,
        "start_time": "2023-07-18T11:05:04.762Z"
      },
      {
        "duration": 183,
        "start_time": "2023-07-18T11:05:04.816Z"
      },
      {
        "duration": 19,
        "start_time": "2023-07-18T11:05:05.008Z"
      },
      {
        "duration": 164,
        "start_time": "2023-07-18T11:05:05.029Z"
      },
      {
        "duration": 247,
        "start_time": "2023-07-18T11:05:05.196Z"
      },
      {
        "duration": 33,
        "start_time": "2023-07-18T11:05:05.445Z"
      },
      {
        "duration": 139,
        "start_time": "2023-07-18T11:05:05.480Z"
      },
      {
        "duration": 19,
        "start_time": "2023-07-18T11:05:05.621Z"
      },
      {
        "duration": 47,
        "start_time": "2023-07-18T11:05:05.642Z"
      },
      {
        "duration": 294,
        "start_time": "2023-07-18T11:05:05.692Z"
      },
      {
        "duration": 1496,
        "start_time": "2023-07-18T11:05:05.988Z"
      },
      {
        "duration": 39,
        "start_time": "2023-07-18T11:05:07.486Z"
      },
      {
        "duration": 169,
        "start_time": "2023-07-18T11:05:07.527Z"
      },
      {
        "duration": 16,
        "start_time": "2023-07-18T11:05:07.698Z"
      },
      {
        "duration": 22,
        "start_time": "2023-07-18T11:05:07.717Z"
      },
      {
        "duration": 35,
        "start_time": "2023-07-18T11:05:07.742Z"
      },
      {
        "duration": 43,
        "start_time": "2023-07-18T11:05:07.779Z"
      },
      {
        "duration": 33,
        "start_time": "2023-07-18T11:05:07.824Z"
      },
      {
        "duration": 33,
        "start_time": "2023-07-18T11:05:07.858Z"
      },
      {
        "duration": 101,
        "start_time": "2023-07-18T11:05:07.893Z"
      },
      {
        "duration": 13,
        "start_time": "2023-07-18T11:05:07.996Z"
      },
      {
        "duration": 21,
        "start_time": "2023-07-18T11:05:08.011Z"
      },
      {
        "duration": 134,
        "start_time": "2023-07-18T11:05:08.034Z"
      },
      {
        "duration": 4,
        "start_time": "2023-07-18T11:05:42.082Z"
      },
      {
        "duration": 874,
        "start_time": "2023-07-18T11:05:42.089Z"
      },
      {
        "duration": 26,
        "start_time": "2023-07-18T11:05:42.965Z"
      },
      {
        "duration": 132,
        "start_time": "2023-07-18T11:05:42.993Z"
      },
      {
        "duration": 121,
        "start_time": "2023-07-18T11:05:43.127Z"
      },
      {
        "duration": 62,
        "start_time": "2023-07-18T11:05:43.250Z"
      },
      {
        "duration": 266,
        "start_time": "2023-07-18T11:05:43.315Z"
      },
      {
        "duration": 81,
        "start_time": "2023-07-18T11:05:43.584Z"
      },
      {
        "duration": 565,
        "start_time": "2023-07-18T11:05:43.667Z"
      },
      {
        "duration": 17,
        "start_time": "2023-07-18T11:05:44.234Z"
      },
      {
        "duration": 52,
        "start_time": "2023-07-18T11:05:44.256Z"
      },
      {
        "duration": 202,
        "start_time": "2023-07-18T11:05:44.310Z"
      },
      {
        "duration": 20,
        "start_time": "2023-07-18T11:05:44.514Z"
      },
      {
        "duration": 182,
        "start_time": "2023-07-18T11:05:44.536Z"
      },
      {
        "duration": 256,
        "start_time": "2023-07-18T11:05:44.721Z"
      },
      {
        "duration": 40,
        "start_time": "2023-07-18T11:05:44.979Z"
      },
      {
        "duration": 177,
        "start_time": "2023-07-18T11:05:45.022Z"
      },
      {
        "duration": 22,
        "start_time": "2023-07-18T11:05:45.201Z"
      },
      {
        "duration": 38,
        "start_time": "2023-07-18T11:05:45.225Z"
      },
      {
        "duration": 280,
        "start_time": "2023-07-18T11:05:45.266Z"
      },
      {
        "duration": 220,
        "start_time": "2023-07-18T11:05:45.548Z"
      },
      {
        "duration": 48,
        "start_time": "2023-07-18T11:05:45.770Z"
      },
      {
        "duration": 215,
        "start_time": "2023-07-18T11:05:45.820Z"
      },
      {
        "duration": 9,
        "start_time": "2023-07-18T11:05:46.038Z"
      },
      {
        "duration": 32,
        "start_time": "2023-07-18T11:05:46.050Z"
      },
      {
        "duration": 45,
        "start_time": "2023-07-18T11:05:46.084Z"
      },
      {
        "duration": 52,
        "start_time": "2023-07-18T11:05:46.131Z"
      },
      {
        "duration": 69,
        "start_time": "2023-07-18T11:05:46.185Z"
      },
      {
        "duration": 39,
        "start_time": "2023-07-18T11:05:46.257Z"
      },
      {
        "duration": 127,
        "start_time": "2023-07-18T11:05:46.299Z"
      },
      {
        "duration": 8,
        "start_time": "2023-07-18T11:05:46.428Z"
      },
      {
        "duration": 37,
        "start_time": "2023-07-18T11:05:46.438Z"
      },
      {
        "duration": 140,
        "start_time": "2023-07-18T11:05:46.477Z"
      },
      {
        "duration": 136,
        "start_time": "2023-07-18T11:05:52.978Z"
      },
      {
        "duration": 3,
        "start_time": "2023-07-18T11:05:56.452Z"
      },
      {
        "duration": 876,
        "start_time": "2023-07-18T11:05:56.457Z"
      },
      {
        "duration": 24,
        "start_time": "2023-07-18T11:05:57.335Z"
      },
      {
        "duration": 163,
        "start_time": "2023-07-18T11:05:57.361Z"
      },
      {
        "duration": 109,
        "start_time": "2023-07-18T11:05:57.527Z"
      },
      {
        "duration": 51,
        "start_time": "2023-07-18T11:05:57.639Z"
      },
      {
        "duration": 274,
        "start_time": "2023-07-18T11:05:57.692Z"
      },
      {
        "duration": 86,
        "start_time": "2023-07-18T11:05:57.968Z"
      },
      {
        "duration": 539,
        "start_time": "2023-07-18T11:05:58.055Z"
      },
      {
        "duration": 24,
        "start_time": "2023-07-18T11:05:58.596Z"
      },
      {
        "duration": 33,
        "start_time": "2023-07-18T11:05:58.622Z"
      },
      {
        "duration": 191,
        "start_time": "2023-07-18T11:05:58.657Z"
      },
      {
        "duration": 18,
        "start_time": "2023-07-18T11:05:58.850Z"
      },
      {
        "duration": 165,
        "start_time": "2023-07-18T11:05:58.872Z"
      },
      {
        "duration": 252,
        "start_time": "2023-07-18T11:05:59.039Z"
      },
      {
        "duration": 41,
        "start_time": "2023-07-18T11:05:59.293Z"
      },
      {
        "duration": 165,
        "start_time": "2023-07-18T11:05:59.336Z"
      },
      {
        "duration": 21,
        "start_time": "2023-07-18T11:05:59.503Z"
      },
      {
        "duration": 21,
        "start_time": "2023-07-18T11:05:59.526Z"
      },
      {
        "duration": 298,
        "start_time": "2023-07-18T11:05:59.549Z"
      },
      {
        "duration": 159,
        "start_time": "2023-07-18T11:05:59.849Z"
      },
      {
        "duration": 41,
        "start_time": "2023-07-18T11:06:00.010Z"
      },
      {
        "duration": 214,
        "start_time": "2023-07-18T11:06:00.053Z"
      },
      {
        "duration": 8,
        "start_time": "2023-07-18T11:06:00.269Z"
      },
      {
        "duration": 56,
        "start_time": "2023-07-18T11:06:00.279Z"
      },
      {
        "duration": 41,
        "start_time": "2023-07-18T11:06:00.336Z"
      },
      {
        "duration": 46,
        "start_time": "2023-07-18T11:06:00.378Z"
      },
      {
        "duration": 63,
        "start_time": "2023-07-18T11:06:00.425Z"
      },
      {
        "duration": 61,
        "start_time": "2023-07-18T11:06:00.490Z"
      },
      {
        "duration": 116,
        "start_time": "2023-07-18T11:06:00.553Z"
      },
      {
        "duration": 7,
        "start_time": "2023-07-18T11:06:00.671Z"
      },
      {
        "duration": 44,
        "start_time": "2023-07-18T11:06:00.680Z"
      },
      {
        "duration": 208,
        "start_time": "2023-07-18T11:06:00.726Z"
      },
      {
        "duration": 5,
        "start_time": "2023-07-18T11:07:45.379Z"
      },
      {
        "duration": 2,
        "start_time": "2023-07-18T11:40:47.838Z"
      },
      {
        "duration": 935,
        "start_time": "2023-07-18T11:40:47.842Z"
      },
      {
        "duration": 34,
        "start_time": "2023-07-18T11:40:48.779Z"
      },
      {
        "duration": 146,
        "start_time": "2023-07-18T11:40:48.816Z"
      },
      {
        "duration": 572,
        "start_time": "2023-07-18T11:40:48.965Z"
      },
      {
        "duration": 54,
        "start_time": "2023-07-18T11:40:49.539Z"
      },
      {
        "duration": 300,
        "start_time": "2023-07-18T11:40:49.595Z"
      },
      {
        "duration": 92,
        "start_time": "2023-07-18T11:40:49.897Z"
      },
      {
        "duration": 636,
        "start_time": "2023-07-18T11:40:49.991Z"
      },
      {
        "duration": 17,
        "start_time": "2023-07-18T11:40:50.629Z"
      },
      {
        "duration": 81,
        "start_time": "2023-07-18T11:40:50.648Z"
      },
      {
        "duration": 242,
        "start_time": "2023-07-18T11:40:50.731Z"
      },
      {
        "duration": 93,
        "start_time": "2023-07-18T11:40:50.976Z"
      },
      {
        "duration": 198,
        "start_time": "2023-07-18T11:40:51.071Z"
      },
      {
        "duration": 261,
        "start_time": "2023-07-18T11:40:51.271Z"
      },
      {
        "duration": 34,
        "start_time": "2023-07-18T11:40:51.535Z"
      },
      {
        "duration": 279,
        "start_time": "2023-07-18T11:40:51.571Z"
      },
      {
        "duration": 49,
        "start_time": "2023-07-18T11:40:51.852Z"
      },
      {
        "duration": 97,
        "start_time": "2023-07-18T11:40:51.903Z"
      },
      {
        "duration": 421,
        "start_time": "2023-07-18T11:40:52.002Z"
      },
      {
        "duration": 159,
        "start_time": "2023-07-18T11:40:52.425Z"
      },
      {
        "duration": 52,
        "start_time": "2023-07-18T11:40:52.586Z"
      },
      {
        "duration": 174,
        "start_time": "2023-07-18T11:40:52.639Z"
      },
      {
        "duration": 12,
        "start_time": "2023-07-18T11:40:52.817Z"
      },
      {
        "duration": 21,
        "start_time": "2023-07-18T11:40:52.831Z"
      },
      {
        "duration": 46,
        "start_time": "2023-07-18T11:40:52.854Z"
      },
      {
        "duration": 35,
        "start_time": "2023-07-18T11:40:52.902Z"
      },
      {
        "duration": 38,
        "start_time": "2023-07-18T11:40:52.939Z"
      },
      {
        "duration": 41,
        "start_time": "2023-07-18T11:40:52.979Z"
      },
      {
        "duration": 118,
        "start_time": "2023-07-18T11:40:53.022Z"
      },
      {
        "duration": 7,
        "start_time": "2023-07-18T11:40:53.142Z"
      },
      {
        "duration": 40,
        "start_time": "2023-07-18T11:40:53.151Z"
      },
      {
        "duration": 186,
        "start_time": "2023-07-18T11:40:53.192Z"
      },
      {
        "duration": 894,
        "start_time": "2023-07-18T11:40:53.380Z"
      },
      {
        "duration": 996,
        "start_time": "2023-07-18T11:41:25.505Z"
      },
      {
        "duration": 883,
        "start_time": "2023-07-18T11:42:33.553Z"
      },
      {
        "duration": 917,
        "start_time": "2023-07-18T11:43:26.270Z"
      },
      {
        "duration": 917,
        "start_time": "2023-07-18T11:43:35.004Z"
      },
      {
        "duration": 3,
        "start_time": "2023-07-18T11:45:49.916Z"
      },
      {
        "duration": 874,
        "start_time": "2023-07-18T11:45:49.922Z"
      },
      {
        "duration": 35,
        "start_time": "2023-07-18T11:45:50.798Z"
      },
      {
        "duration": 145,
        "start_time": "2023-07-18T11:45:50.835Z"
      },
      {
        "duration": 113,
        "start_time": "2023-07-18T11:45:50.982Z"
      },
      {
        "duration": 61,
        "start_time": "2023-07-18T11:45:51.097Z"
      },
      {
        "duration": 288,
        "start_time": "2023-07-18T11:45:51.160Z"
      },
      {
        "duration": 88,
        "start_time": "2023-07-18T11:45:51.450Z"
      },
      {
        "duration": 576,
        "start_time": "2023-07-18T11:45:51.540Z"
      },
      {
        "duration": 23,
        "start_time": "2023-07-18T11:45:52.120Z"
      },
      {
        "duration": 35,
        "start_time": "2023-07-18T11:45:52.146Z"
      },
      {
        "duration": 215,
        "start_time": "2023-07-18T11:45:52.183Z"
      },
      {
        "duration": 30,
        "start_time": "2023-07-18T11:45:52.401Z"
      },
      {
        "duration": 193,
        "start_time": "2023-07-18T11:45:52.433Z"
      },
      {
        "duration": 165,
        "start_time": "2023-07-18T11:46:00.490Z"
      },
      {
        "duration": 41,
        "start_time": "2023-07-18T11:46:11.492Z"
      },
      {
        "duration": 31,
        "start_time": "2023-07-18T11:46:22.953Z"
      },
      {
        "duration": 271,
        "start_time": "2023-07-18T11:46:39.875Z"
      },
      {
        "duration": 3,
        "start_time": "2023-07-18T11:47:46.942Z"
      },
      {
        "duration": 1053,
        "start_time": "2023-07-18T11:47:46.948Z"
      },
      {
        "duration": 31,
        "start_time": "2023-07-18T11:47:48.003Z"
      },
      {
        "duration": 175,
        "start_time": "2023-07-18T11:47:48.036Z"
      },
      {
        "duration": 129,
        "start_time": "2023-07-18T11:47:48.214Z"
      },
      {
        "duration": 74,
        "start_time": "2023-07-18T11:47:48.346Z"
      },
      {
        "duration": 272,
        "start_time": "2023-07-18T11:47:48.423Z"
      },
      {
        "duration": 104,
        "start_time": "2023-07-18T11:47:48.697Z"
      },
      {
        "duration": 656,
        "start_time": "2023-07-18T11:47:48.803Z"
      },
      {
        "duration": 21,
        "start_time": "2023-07-18T11:47:49.462Z"
      },
      {
        "duration": 68,
        "start_time": "2023-07-18T11:47:49.486Z"
      },
      {
        "duration": 190,
        "start_time": "2023-07-18T11:47:49.557Z"
      },
      {
        "duration": 19,
        "start_time": "2023-07-18T11:47:49.750Z"
      },
      {
        "duration": 680,
        "start_time": "2023-07-18T11:47:49.771Z"
      },
      {
        "duration": 34,
        "start_time": "2023-07-18T11:47:50.453Z"
      },
      {
        "duration": 288,
        "start_time": "2023-07-18T11:47:50.489Z"
      },
      {
        "duration": 46,
        "start_time": "2023-07-18T11:47:50.779Z"
      },
      {
        "duration": 151,
        "start_time": "2023-07-18T11:47:50.828Z"
      },
      {
        "duration": 28,
        "start_time": "2023-07-18T11:47:50.982Z"
      },
      {
        "duration": 51,
        "start_time": "2023-07-18T11:47:51.013Z"
      },
      {
        "duration": 329,
        "start_time": "2023-07-18T11:47:51.066Z"
      },
      {
        "duration": 191,
        "start_time": "2023-07-18T11:47:51.398Z"
      },
      {
        "duration": 57,
        "start_time": "2023-07-18T11:47:51.591Z"
      },
      {
        "duration": 192,
        "start_time": "2023-07-18T11:47:51.650Z"
      },
      {
        "duration": 9,
        "start_time": "2023-07-18T11:47:51.844Z"
      },
      {
        "duration": 80,
        "start_time": "2023-07-18T11:47:51.855Z"
      },
      {
        "duration": 60,
        "start_time": "2023-07-18T11:47:51.937Z"
      },
      {
        "duration": 71,
        "start_time": "2023-07-18T11:47:52.000Z"
      },
      {
        "duration": 60,
        "start_time": "2023-07-18T11:47:52.073Z"
      },
      {
        "duration": 44,
        "start_time": "2023-07-18T11:47:52.135Z"
      },
      {
        "duration": 125,
        "start_time": "2023-07-18T11:47:52.181Z"
      },
      {
        "duration": 11,
        "start_time": "2023-07-18T11:47:52.307Z"
      },
      {
        "duration": 75,
        "start_time": "2023-07-18T11:47:52.320Z"
      },
      {
        "duration": 172,
        "start_time": "2023-07-18T11:47:52.397Z"
      },
      {
        "duration": 965,
        "start_time": "2023-07-18T11:47:52.571Z"
      },
      {
        "duration": 883,
        "start_time": "2023-07-18T11:50:07.752Z"
      },
      {
        "duration": 4,
        "start_time": "2023-07-18T11:51:10.256Z"
      },
      {
        "duration": 3,
        "start_time": "2023-07-18T11:51:31.156Z"
      },
      {
        "duration": 19,
        "start_time": "2023-07-18T11:52:00.497Z"
      },
      {
        "duration": 87,
        "start_time": "2023-07-18T11:52:52.692Z"
      },
      {
        "duration": 1291,
        "start_time": "2023-07-18T11:55:33.855Z"
      },
      {
        "duration": 232,
        "start_time": "2023-07-18T11:55:35.148Z"
      },
      {
        "duration": 398,
        "start_time": "2023-07-18T11:55:35.383Z"
      },
      {
        "duration": 4,
        "start_time": "2023-07-18T11:58:12.095Z"
      },
      {
        "duration": 1812,
        "start_time": "2023-07-18T12:00:18.592Z"
      },
      {
        "duration": 1479,
        "start_time": "2023-07-18T12:00:20.406Z"
      },
      {
        "duration": 38,
        "start_time": "2023-07-18T12:00:21.887Z"
      },
      {
        "duration": 156,
        "start_time": "2023-07-18T12:00:21.927Z"
      },
      {
        "duration": 141,
        "start_time": "2023-07-18T12:00:22.086Z"
      },
      {
        "duration": 62,
        "start_time": "2023-07-18T12:00:22.230Z"
      },
      {
        "duration": 356,
        "start_time": "2023-07-18T12:00:22.309Z"
      },
      {
        "duration": 97,
        "start_time": "2023-07-18T12:00:22.667Z"
      },
      {
        "duration": 632,
        "start_time": "2023-07-18T12:00:22.767Z"
      },
      {
        "duration": 21,
        "start_time": "2023-07-18T12:00:23.408Z"
      },
      {
        "duration": 73,
        "start_time": "2023-07-18T12:00:23.431Z"
      },
      {
        "duration": 221,
        "start_time": "2023-07-18T12:00:23.507Z"
      },
      {
        "duration": 20,
        "start_time": "2023-07-18T12:00:23.731Z"
      },
      {
        "duration": 325,
        "start_time": "2023-07-18T12:00:23.755Z"
      },
      {
        "duration": 51,
        "start_time": "2023-07-18T12:00:24.083Z"
      },
      {
        "duration": 289,
        "start_time": "2023-07-18T12:00:24.136Z"
      },
      {
        "duration": 44,
        "start_time": "2023-07-18T12:00:24.427Z"
      },
      {
        "duration": 168,
        "start_time": "2023-07-18T12:00:24.473Z"
      },
      {
        "duration": 18,
        "start_time": "2023-07-18T12:00:24.643Z"
      },
      {
        "duration": 62,
        "start_time": "2023-07-18T12:00:24.663Z"
      },
      {
        "duration": 366,
        "start_time": "2023-07-18T12:00:24.727Z"
      },
      {
        "duration": 184,
        "start_time": "2023-07-18T12:00:25.095Z"
      },
      {
        "duration": 49,
        "start_time": "2023-07-18T12:00:25.281Z"
      },
      {
        "duration": 183,
        "start_time": "2023-07-18T12:00:25.333Z"
      },
      {
        "duration": 14,
        "start_time": "2023-07-18T12:00:25.518Z"
      },
      {
        "duration": 32,
        "start_time": "2023-07-18T12:00:25.534Z"
      },
      {
        "duration": 31,
        "start_time": "2023-07-18T12:00:25.568Z"
      },
      {
        "duration": 30,
        "start_time": "2023-07-18T12:00:25.613Z"
      },
      {
        "duration": 61,
        "start_time": "2023-07-18T12:00:25.645Z"
      },
      {
        "duration": 44,
        "start_time": "2023-07-18T12:00:25.708Z"
      },
      {
        "duration": 103,
        "start_time": "2023-07-18T12:00:25.755Z"
      },
      {
        "duration": 7,
        "start_time": "2023-07-18T12:00:25.860Z"
      },
      {
        "duration": 31,
        "start_time": "2023-07-18T12:00:25.869Z"
      },
      {
        "duration": 264,
        "start_time": "2023-07-18T12:00:25.902Z"
      },
      {
        "duration": 1123,
        "start_time": "2023-07-18T12:00:26.168Z"
      },
      {
        "duration": 1404,
        "start_time": "2023-07-18T12:00:27.293Z"
      },
      {
        "duration": 259,
        "start_time": "2023-07-18T12:00:28.699Z"
      },
      {
        "duration": 489,
        "start_time": "2023-07-18T12:00:28.961Z"
      },
      {
        "duration": 90461,
        "start_time": "2023-07-18T12:00:29.453Z"
      },
      {
        "duration": 6,
        "start_time": "2023-07-18T12:02:25.214Z"
      },
      {
        "duration": 6,
        "start_time": "2023-07-18T12:02:40.638Z"
      },
      {
        "duration": 3,
        "start_time": "2023-07-18T12:05:53.562Z"
      },
      {
        "duration": 978,
        "start_time": "2023-07-18T12:05:53.568Z"
      },
      {
        "duration": 26,
        "start_time": "2023-07-18T12:05:54.548Z"
      },
      {
        "duration": 147,
        "start_time": "2023-07-18T12:05:54.577Z"
      },
      {
        "duration": 124,
        "start_time": "2023-07-18T12:05:54.726Z"
      },
      {
        "duration": 27,
        "start_time": "2023-07-18T12:05:54.852Z"
      },
      {
        "duration": 287,
        "start_time": "2023-07-18T12:05:54.881Z"
      },
      {
        "duration": 81,
        "start_time": "2023-07-18T12:05:55.170Z"
      },
      {
        "duration": 584,
        "start_time": "2023-07-18T12:05:55.254Z"
      },
      {
        "duration": 18,
        "start_time": "2023-07-18T12:05:55.840Z"
      },
      {
        "duration": 56,
        "start_time": "2023-07-18T12:05:55.860Z"
      },
      {
        "duration": 250,
        "start_time": "2023-07-18T12:05:55.918Z"
      },
      {
        "duration": 40,
        "start_time": "2023-07-18T12:05:56.172Z"
      },
      {
        "duration": 349,
        "start_time": "2023-07-18T12:05:56.215Z"
      },
      {
        "duration": 46,
        "start_time": "2023-07-18T12:05:56.566Z"
      },
      {
        "duration": 280,
        "start_time": "2023-07-18T12:05:56.614Z"
      },
      {
        "duration": 47,
        "start_time": "2023-07-18T12:05:56.895Z"
      },
      {
        "duration": 151,
        "start_time": "2023-07-18T12:05:56.943Z"
      },
      {
        "duration": 23,
        "start_time": "2023-07-18T12:05:57.097Z"
      },
      {
        "duration": 26,
        "start_time": "2023-07-18T12:05:57.122Z"
      },
      {
        "duration": 330,
        "start_time": "2023-07-18T12:05:57.150Z"
      },
      {
        "duration": 166,
        "start_time": "2023-07-18T12:05:57.482Z"
      },
      {
        "duration": 37,
        "start_time": "2023-07-18T12:05:57.650Z"
      },
      {
        "duration": 188,
        "start_time": "2023-07-18T12:05:57.692Z"
      },
      {
        "duration": 10,
        "start_time": "2023-07-18T12:05:57.882Z"
      },
      {
        "duration": 30,
        "start_time": "2023-07-18T12:05:57.894Z"
      },
      {
        "duration": 44,
        "start_time": "2023-07-18T12:05:57.926Z"
      },
      {
        "duration": 36,
        "start_time": "2023-07-18T12:05:57.972Z"
      },
      {
        "duration": 35,
        "start_time": "2023-07-18T12:05:58.010Z"
      },
      {
        "duration": 26,
        "start_time": "2023-07-18T12:05:58.046Z"
      },
      {
        "duration": 107,
        "start_time": "2023-07-18T12:05:58.075Z"
      },
      {
        "duration": 8,
        "start_time": "2023-07-18T12:05:58.184Z"
      },
      {
        "duration": 30,
        "start_time": "2023-07-18T12:05:58.194Z"
      },
      {
        "duration": 143,
        "start_time": "2023-07-18T12:05:58.227Z"
      },
      {
        "duration": 938,
        "start_time": "2023-07-18T12:05:58.372Z"
      },
      {
        "duration": 1297,
        "start_time": "2023-07-18T12:05:59.312Z"
      },
      {
        "duration": 240,
        "start_time": "2023-07-18T12:06:00.611Z"
      },
      {
        "duration": 382,
        "start_time": "2023-07-18T12:06:00.854Z"
      },
      {
        "duration": 81579,
        "start_time": "2023-07-18T12:06:01.238Z"
      },
      {
        "duration": 91,
        "start_time": "2023-07-18T12:07:22.821Z"
      },
      {
        "duration": 66,
        "start_time": "2023-07-18T12:13:53.446Z"
      },
      {
        "duration": 20,
        "start_time": "2023-07-18T12:29:17.639Z"
      },
      {
        "duration": 86,
        "start_time": "2023-07-18T12:29:25.256Z"
      },
      {
        "duration": 4,
        "start_time": "2023-07-18T12:30:01.656Z"
      },
      {
        "duration": 145,
        "start_time": "2023-07-18T12:30:35.950Z"
      },
      {
        "duration": 5,
        "start_time": "2023-07-18T12:31:05.440Z"
      },
      {
        "duration": 14,
        "start_time": "2023-07-18T12:31:06.035Z"
      },
      {
        "duration": 13,
        "start_time": "2023-07-18T12:31:41.986Z"
      },
      {
        "duration": 2613,
        "start_time": "2023-07-18T12:33:52.786Z"
      },
      {
        "duration": 5,
        "start_time": "2023-07-18T12:34:04.848Z"
      },
      {
        "duration": 15,
        "start_time": "2023-07-18T12:34:09.042Z"
      },
      {
        "duration": 4,
        "start_time": "2023-07-18T12:34:15.088Z"
      },
      {
        "duration": 3,
        "start_time": "2023-07-18T12:34:15.468Z"
      },
      {
        "duration": 29,
        "start_time": "2023-07-18T12:34:15.643Z"
      },
      {
        "duration": 1239,
        "start_time": "2023-07-18T12:34:41.140Z"
      },
      {
        "duration": 227,
        "start_time": "2023-07-18T12:34:42.381Z"
      },
      {
        "duration": 3,
        "start_time": "2023-07-18T12:34:45.489Z"
      },
      {
        "duration": 4,
        "start_time": "2023-07-18T12:34:45.654Z"
      },
      {
        "duration": 31,
        "start_time": "2023-07-18T12:34:45.842Z"
      },
      {
        "duration": 11,
        "start_time": "2023-07-18T12:35:23.460Z"
      },
      {
        "duration": 12,
        "start_time": "2023-07-18T12:35:26.504Z"
      },
      {
        "duration": 13,
        "start_time": "2023-07-18T12:35:35.851Z"
      },
      {
        "duration": 198,
        "start_time": "2023-07-18T12:35:39.188Z"
      },
      {
        "duration": 12,
        "start_time": "2023-07-18T12:35:41.356Z"
      },
      {
        "duration": 10,
        "start_time": "2023-07-18T12:36:16.060Z"
      },
      {
        "duration": 12,
        "start_time": "2023-07-18T12:36:27.386Z"
      },
      {
        "duration": 61,
        "start_time": "2023-07-18T12:36:46.487Z"
      },
      {
        "duration": 1151,
        "start_time": "2023-07-18T12:37:12.543Z"
      },
      {
        "duration": 28,
        "start_time": "2023-07-18T12:37:24.348Z"
      },
      {
        "duration": 224,
        "start_time": "2023-07-18T12:37:41.900Z"
      },
      {
        "duration": 342,
        "start_time": "2023-07-18T12:37:43.086Z"
      },
      {
        "duration": 22,
        "start_time": "2023-07-18T12:37:46.078Z"
      },
      {
        "duration": 6,
        "start_time": "2023-07-18T12:37:47.776Z"
      },
      {
        "duration": 3,
        "start_time": "2023-07-18T12:37:48.320Z"
      },
      {
        "duration": 352362,
        "start_time": "2023-07-18T12:37:49.147Z"
      },
      {
        "duration": 7531,
        "start_time": "2023-07-18T12:43:41.511Z"
      },
      {
        "duration": 4,
        "start_time": "2023-07-18T12:44:18.266Z"
      },
      {
        "duration": 7502,
        "start_time": "2023-07-18T12:48:20.649Z"
      },
      {
        "duration": 186,
        "start_time": "2023-07-18T12:48:44.692Z"
      },
      {
        "duration": 7565,
        "start_time": "2023-07-18T12:48:47.168Z"
      },
      {
        "duration": 265,
        "start_time": "2023-07-18T12:50:05.067Z"
      },
      {
        "duration": 21,
        "start_time": "2023-07-18T12:51:56.075Z"
      },
      {
        "duration": 296,
        "start_time": "2023-07-18T12:52:43.745Z"
      },
      {
        "duration": 29,
        "start_time": "2023-07-18T12:56:33.848Z"
      },
      {
        "duration": 27,
        "start_time": "2023-07-18T12:57:04.793Z"
      },
      {
        "duration": 132,
        "start_time": "2023-07-18T13:05:06.744Z"
      },
      {
        "duration": 3,
        "start_time": "2023-07-18T13:05:07.488Z"
      },
      {
        "duration": 6,
        "start_time": "2023-07-18T13:05:14.696Z"
      },
      {
        "duration": 3,
        "start_time": "2023-07-18T13:05:16.160Z"
      },
      {
        "duration": 27,
        "start_time": "2023-07-18T13:05:17.307Z"
      },
      {
        "duration": 13,
        "start_time": "2023-07-18T13:05:48.452Z"
      },
      {
        "duration": 4,
        "start_time": "2023-07-18T13:06:26.499Z"
      },
      {
        "duration": 2318,
        "start_time": "2023-07-18T13:06:26.506Z"
      },
      {
        "duration": 889,
        "start_time": "2023-07-18T13:06:28.827Z"
      },
      {
        "duration": 30,
        "start_time": "2023-07-18T13:06:29.718Z"
      },
      {
        "duration": 178,
        "start_time": "2023-07-18T13:06:29.750Z"
      },
      {
        "duration": 132,
        "start_time": "2023-07-18T13:06:29.931Z"
      },
      {
        "duration": 32,
        "start_time": "2023-07-18T13:06:30.065Z"
      },
      {
        "duration": 429,
        "start_time": "2023-07-18T13:06:30.109Z"
      },
      {
        "duration": 87,
        "start_time": "2023-07-18T13:06:30.540Z"
      },
      {
        "duration": 756,
        "start_time": "2023-07-18T13:06:30.628Z"
      },
      {
        "duration": 28,
        "start_time": "2023-07-18T13:06:31.387Z"
      },
      {
        "duration": 134,
        "start_time": "2023-07-18T13:06:31.417Z"
      },
      {
        "duration": 215,
        "start_time": "2023-07-18T13:06:31.553Z"
      },
      {
        "duration": 20,
        "start_time": "2023-07-18T13:06:31.770Z"
      },
      {
        "duration": 180,
        "start_time": "2023-07-18T13:06:31.792Z"
      },
      {
        "duration": 44,
        "start_time": "2023-07-18T13:06:31.976Z"
      },
      {
        "duration": 283,
        "start_time": "2023-07-18T13:06:32.022Z"
      },
      {
        "duration": 34,
        "start_time": "2023-07-18T13:06:32.309Z"
      },
      {
        "duration": 166,
        "start_time": "2023-07-18T13:06:32.345Z"
      },
      {
        "duration": 19,
        "start_time": "2023-07-18T13:06:32.514Z"
      },
      {
        "duration": 27,
        "start_time": "2023-07-18T13:06:32.535Z"
      },
      {
        "duration": 290,
        "start_time": "2023-07-18T13:06:32.564Z"
      },
      {
        "duration": 197,
        "start_time": "2023-07-18T13:06:32.856Z"
      },
      {
        "duration": 34,
        "start_time": "2023-07-18T13:06:33.055Z"
      },
      {
        "duration": 184,
        "start_time": "2023-07-18T13:06:33.091Z"
      },
      {
        "duration": 8,
        "start_time": "2023-07-18T13:06:33.277Z"
      },
      {
        "duration": 39,
        "start_time": "2023-07-18T13:06:33.286Z"
      },
      {
        "duration": 35,
        "start_time": "2023-07-18T13:06:33.329Z"
      },
      {
        "duration": 48,
        "start_time": "2023-07-18T13:06:33.369Z"
      },
      {
        "duration": 45,
        "start_time": "2023-07-18T13:06:33.419Z"
      },
      {
        "duration": 71,
        "start_time": "2023-07-18T13:06:33.466Z"
      },
      {
        "duration": 166,
        "start_time": "2023-07-18T13:06:33.539Z"
      },
      {
        "duration": 7,
        "start_time": "2023-07-18T13:06:33.707Z"
      },
      {
        "duration": 24,
        "start_time": "2023-07-18T13:06:33.716Z"
      },
      {
        "duration": 152,
        "start_time": "2023-07-18T13:06:33.741Z"
      },
      {
        "duration": 883,
        "start_time": "2023-07-18T13:06:33.895Z"
      },
      {
        "duration": 1228,
        "start_time": "2023-07-18T13:06:34.780Z"
      },
      {
        "duration": 234,
        "start_time": "2023-07-18T13:06:36.011Z"
      },
      {
        "duration": 355,
        "start_time": "2023-07-18T13:06:36.247Z"
      },
      {
        "duration": 26904,
        "start_time": "2023-07-18T13:06:36.608Z"
      },
      {
        "duration": 96,
        "start_time": "2023-07-18T13:07:03.514Z"
      },
      {
        "duration": 103,
        "start_time": "2023-07-18T13:07:07.955Z"
      },
      {
        "duration": 3,
        "start_time": "2023-07-18T13:07:08.518Z"
      },
      {
        "duration": 5,
        "start_time": "2023-07-18T13:07:09.079Z"
      },
      {
        "duration": 4,
        "start_time": "2023-07-18T13:07:09.865Z"
      },
      {
        "duration": 29,
        "start_time": "2023-07-18T13:07:10.577Z"
      },
      {
        "duration": 4,
        "start_time": "2023-07-18T13:07:31.584Z"
      },
      {
        "duration": 9,
        "start_time": "2023-07-18T13:07:38.156Z"
      },
      {
        "duration": 3,
        "start_time": "2023-07-18T13:07:54.873Z"
      },
      {
        "duration": 4,
        "start_time": "2023-07-18T13:07:55.583Z"
      },
      {
        "duration": 26,
        "start_time": "2023-07-18T13:07:56.743Z"
      },
      {
        "duration": 3,
        "start_time": "2023-07-18T13:09:26.737Z"
      },
      {
        "duration": 3,
        "start_time": "2023-07-18T13:09:27.653Z"
      },
      {
        "duration": 26,
        "start_time": "2023-07-18T13:09:29.249Z"
      },
      {
        "duration": 1135,
        "start_time": "2023-07-18T13:10:33.288Z"
      },
      {
        "duration": 226,
        "start_time": "2023-07-18T13:10:34.426Z"
      },
      {
        "duration": 3,
        "start_time": "2023-07-18T13:10:37.392Z"
      },
      {
        "duration": 3,
        "start_time": "2023-07-18T13:10:37.604Z"
      },
      {
        "duration": 26,
        "start_time": "2023-07-18T13:10:38.217Z"
      },
      {
        "duration": 39,
        "start_time": "2023-07-18T13:10:39.389Z"
      },
      {
        "duration": 299,
        "start_time": "2023-07-18T13:10:39.980Z"
      },
      {
        "duration": 1162,
        "start_time": "2023-07-18T13:10:58.206Z"
      },
      {
        "duration": 222,
        "start_time": "2023-07-18T13:11:00.236Z"
      },
      {
        "duration": 3,
        "start_time": "2023-07-18T13:11:12.072Z"
      },
      {
        "duration": 3,
        "start_time": "2023-07-18T13:11:12.776Z"
      },
      {
        "duration": 26,
        "start_time": "2023-07-18T13:11:13.503Z"
      },
      {
        "duration": 33,
        "start_time": "2023-07-18T13:11:14.283Z"
      },
      {
        "duration": 1517,
        "start_time": "2023-07-18T13:11:23.438Z"
      },
      {
        "duration": 2419,
        "start_time": "2023-07-18T13:11:24.958Z"
      },
      {
        "duration": 997,
        "start_time": "2023-07-18T13:11:27.379Z"
      },
      {
        "duration": 37,
        "start_time": "2023-07-18T13:11:28.379Z"
      },
      {
        "duration": 139,
        "start_time": "2023-07-18T13:11:28.417Z"
      },
      {
        "duration": 122,
        "start_time": "2023-07-18T13:11:28.557Z"
      },
      {
        "duration": 70,
        "start_time": "2023-07-18T13:11:28.681Z"
      },
      {
        "duration": 311,
        "start_time": "2023-07-18T13:11:28.753Z"
      },
      {
        "duration": 81,
        "start_time": "2023-07-18T13:11:29.066Z"
      },
      {
        "duration": 624,
        "start_time": "2023-07-18T13:11:29.151Z"
      },
      {
        "duration": 18,
        "start_time": "2023-07-18T13:11:29.777Z"
      },
      {
        "duration": 46,
        "start_time": "2023-07-18T13:11:29.808Z"
      },
      {
        "duration": 204,
        "start_time": "2023-07-18T13:11:29.856Z"
      },
      {
        "duration": 19,
        "start_time": "2023-07-18T13:11:30.062Z"
      },
      {
        "duration": 278,
        "start_time": "2023-07-18T13:11:30.083Z"
      },
      {
        "duration": 48,
        "start_time": "2023-07-18T13:11:30.363Z"
      },
      {
        "duration": 248,
        "start_time": "2023-07-18T13:11:30.413Z"
      },
      {
        "duration": 46,
        "start_time": "2023-07-18T13:11:30.663Z"
      },
      {
        "duration": 137,
        "start_time": "2023-07-18T13:11:30.711Z"
      },
      {
        "duration": 20,
        "start_time": "2023-07-18T13:11:30.850Z"
      },
      {
        "duration": 51,
        "start_time": "2023-07-18T13:11:30.872Z"
      },
      {
        "duration": 338,
        "start_time": "2023-07-18T13:11:30.925Z"
      },
      {
        "duration": 164,
        "start_time": "2023-07-18T13:11:31.265Z"
      },
      {
        "duration": 37,
        "start_time": "2023-07-18T13:11:31.431Z"
      },
      {
        "duration": 174,
        "start_time": "2023-07-18T13:11:31.470Z"
      },
      {
        "duration": 9,
        "start_time": "2023-07-18T13:11:31.646Z"
      },
      {
        "duration": 36,
        "start_time": "2023-07-18T13:11:31.656Z"
      },
      {
        "duration": 39,
        "start_time": "2023-07-18T13:11:31.696Z"
      },
      {
        "duration": 29,
        "start_time": "2023-07-18T13:11:31.736Z"
      },
      {
        "duration": 45,
        "start_time": "2023-07-18T13:11:31.767Z"
      },
      {
        "duration": 20,
        "start_time": "2023-07-18T13:11:31.814Z"
      },
      {
        "duration": 94,
        "start_time": "2023-07-18T13:11:31.836Z"
      },
      {
        "duration": 7,
        "start_time": "2023-07-18T13:11:31.932Z"
      },
      {
        "duration": 25,
        "start_time": "2023-07-18T13:11:31.941Z"
      },
      {
        "duration": 404,
        "start_time": "2023-07-18T13:11:31.968Z"
      },
      {
        "duration": 943,
        "start_time": "2023-07-18T13:11:32.374Z"
      },
      {
        "duration": 1176,
        "start_time": "2023-07-18T13:11:33.319Z"
      },
      {
        "duration": 219,
        "start_time": "2023-07-18T13:11:34.497Z"
      },
      {
        "duration": 359,
        "start_time": "2023-07-18T13:11:34.718Z"
      },
      {
        "duration": 27032,
        "start_time": "2023-07-18T13:11:35.079Z"
      },
      {
        "duration": 96,
        "start_time": "2023-07-18T13:12:02.114Z"
      },
      {
        "duration": 41,
        "start_time": "2023-07-18T13:12:02.212Z"
      },
      {
        "duration": 164,
        "start_time": "2023-07-18T13:12:02.255Z"
      },
      {
        "duration": 356412,
        "start_time": "2023-07-18T13:12:02.421Z"
      },
      {
        "duration": 7675,
        "start_time": "2023-07-18T13:17:58.836Z"
      },
      {
        "duration": 316,
        "start_time": "2023-07-18T13:18:06.513Z"
      },
      {
        "duration": 132,
        "start_time": "2023-07-18T13:18:15.746Z"
      },
      {
        "duration": 142,
        "start_time": "2023-07-18T13:18:26.735Z"
      },
      {
        "duration": 344,
        "start_time": "2023-07-18T13:18:32.571Z"
      },
      {
        "duration": 335,
        "start_time": "2023-07-18T13:18:36.744Z"
      },
      {
        "duration": 1220,
        "start_time": "2023-07-18T13:53:52.576Z"
      },
      {
        "duration": 236,
        "start_time": "2023-07-18T13:53:53.799Z"
      },
      {
        "duration": 355,
        "start_time": "2023-07-18T13:53:54.037Z"
      },
      {
        "duration": 28135,
        "start_time": "2023-07-18T13:53:54.395Z"
      },
      {
        "duration": 7,
        "start_time": "2023-07-18T13:54:22.609Z"
      },
      {
        "duration": 422,
        "start_time": "2023-07-18T13:54:22.618Z"
      },
      {
        "duration": 337,
        "start_time": "2023-07-18T13:55:58.882Z"
      },
      {
        "duration": 201,
        "start_time": "2023-07-18T15:09:29.791Z"
      },
      {
        "duration": 25,
        "start_time": "2023-07-18T15:11:52.820Z"
      },
      {
        "duration": 18,
        "start_time": "2023-07-18T15:12:29.084Z"
      },
      {
        "duration": 14,
        "start_time": "2023-07-18T15:12:31.143Z"
      },
      {
        "duration": 73,
        "start_time": "2023-07-18T15:12:53.625Z"
      },
      {
        "duration": 20,
        "start_time": "2023-07-18T15:14:02.550Z"
      },
      {
        "duration": 16,
        "start_time": "2023-07-18T15:14:03.260Z"
      },
      {
        "duration": 21,
        "start_time": "2023-07-18T15:14:30.539Z"
      },
      {
        "duration": 89,
        "start_time": "2023-07-18T15:15:37.586Z"
      },
      {
        "duration": 266,
        "start_time": "2023-07-18T15:15:40.115Z"
      },
      {
        "duration": 4,
        "start_time": "2023-07-18T18:11:46.410Z"
      },
      {
        "duration": 2306,
        "start_time": "2023-07-18T18:11:46.416Z"
      },
      {
        "duration": 823,
        "start_time": "2023-07-18T18:11:48.725Z"
      },
      {
        "duration": 30,
        "start_time": "2023-07-18T18:11:49.551Z"
      },
      {
        "duration": 147,
        "start_time": "2023-07-18T18:11:49.583Z"
      },
      {
        "duration": 104,
        "start_time": "2023-07-18T18:11:49.732Z"
      },
      {
        "duration": 70,
        "start_time": "2023-07-18T18:11:49.839Z"
      },
      {
        "duration": 310,
        "start_time": "2023-07-18T18:11:49.910Z"
      },
      {
        "duration": 87,
        "start_time": "2023-07-18T18:11:50.224Z"
      },
      {
        "duration": 703,
        "start_time": "2023-07-18T18:11:50.313Z"
      },
      {
        "duration": 19,
        "start_time": "2023-07-18T18:11:51.018Z"
      },
      {
        "duration": 79,
        "start_time": "2023-07-18T18:11:51.040Z"
      },
      {
        "duration": 183,
        "start_time": "2023-07-18T18:11:51.121Z"
      },
      {
        "duration": 27,
        "start_time": "2023-07-18T18:11:51.308Z"
      },
      {
        "duration": 228,
        "start_time": "2023-07-18T18:11:51.337Z"
      },
      {
        "duration": 33,
        "start_time": "2023-07-18T18:11:51.567Z"
      },
      {
        "duration": 252,
        "start_time": "2023-07-18T18:11:51.609Z"
      },
      {
        "duration": 35,
        "start_time": "2023-07-18T18:11:51.863Z"
      },
      {
        "duration": 134,
        "start_time": "2023-07-18T18:11:51.908Z"
      },
      {
        "duration": 17,
        "start_time": "2023-07-18T18:11:52.044Z"
      },
      {
        "duration": 27,
        "start_time": "2023-07-18T18:11:52.063Z"
      },
      {
        "duration": 289,
        "start_time": "2023-07-18T18:11:52.092Z"
      },
      {
        "duration": 154,
        "start_time": "2023-07-18T18:11:52.384Z"
      },
      {
        "duration": 35,
        "start_time": "2023-07-18T18:11:52.542Z"
      },
      {
        "duration": 303,
        "start_time": "2023-07-18T18:11:52.579Z"
      },
      {
        "duration": 9,
        "start_time": "2023-07-18T18:11:52.884Z"
      },
      {
        "duration": 32,
        "start_time": "2023-07-18T18:11:52.894Z"
      },
      {
        "duration": 43,
        "start_time": "2023-07-18T18:11:52.928Z"
      },
      {
        "duration": 42,
        "start_time": "2023-07-18T18:11:52.973Z"
      },
      {
        "duration": 55,
        "start_time": "2023-07-18T18:11:53.018Z"
      },
      {
        "duration": 72,
        "start_time": "2023-07-18T18:11:53.075Z"
      },
      {
        "duration": 116,
        "start_time": "2023-07-18T18:11:53.149Z"
      },
      {
        "duration": 9,
        "start_time": "2023-07-18T18:11:53.267Z"
      },
      {
        "duration": 17,
        "start_time": "2023-07-18T18:11:53.278Z"
      },
      {
        "duration": 151,
        "start_time": "2023-07-18T18:11:53.296Z"
      },
      {
        "duration": 817,
        "start_time": "2023-07-18T18:11:53.449Z"
      },
      {
        "duration": 927,
        "start_time": "2023-07-18T18:11:54.268Z"
      },
      {
        "duration": 228,
        "start_time": "2023-07-18T18:11:55.198Z"
      },
      {
        "duration": 364,
        "start_time": "2023-07-18T18:11:55.429Z"
      },
      {
        "duration": 26546,
        "start_time": "2023-07-18T18:11:55.795Z"
      },
      {
        "duration": 8,
        "start_time": "2023-07-18T18:12:22.409Z"
      },
      {
        "duration": 351,
        "start_time": "2023-07-18T18:12:22.509Z"
      },
      {
        "duration": 6,
        "start_time": "2023-07-18T18:12:22.861Z"
      },
      {
        "duration": 33,
        "start_time": "2023-07-18T18:12:22.868Z"
      },
      {
        "duration": 1673,
        "start_time": "2023-07-18T18:34:27.111Z"
      },
      {
        "duration": 2405,
        "start_time": "2023-07-18T18:34:28.786Z"
      },
      {
        "duration": 1003,
        "start_time": "2023-07-18T18:34:31.193Z"
      },
      {
        "duration": 34,
        "start_time": "2023-07-18T18:34:32.199Z"
      },
      {
        "duration": 183,
        "start_time": "2023-07-18T18:34:32.235Z"
      },
      {
        "duration": 161,
        "start_time": "2023-07-18T18:34:32.420Z"
      },
      {
        "duration": 68,
        "start_time": "2023-07-18T18:34:32.585Z"
      },
      {
        "duration": 319,
        "start_time": "2023-07-18T18:34:32.655Z"
      },
      {
        "duration": 89,
        "start_time": "2023-07-18T18:34:32.976Z"
      },
      {
        "duration": 629,
        "start_time": "2023-07-18T18:34:33.069Z"
      },
      {
        "duration": 23,
        "start_time": "2023-07-18T18:34:33.700Z"
      },
      {
        "duration": 63,
        "start_time": "2023-07-18T18:34:33.725Z"
      },
      {
        "duration": 368,
        "start_time": "2023-07-18T18:34:33.790Z"
      },
      {
        "duration": 20,
        "start_time": "2023-07-18T18:34:34.161Z"
      },
      {
        "duration": 193,
        "start_time": "2023-07-18T18:34:34.183Z"
      },
      {
        "duration": 41,
        "start_time": "2023-07-18T18:34:34.378Z"
      },
      {
        "duration": 258,
        "start_time": "2023-07-18T18:34:34.422Z"
      },
      {
        "duration": 44,
        "start_time": "2023-07-18T18:34:34.682Z"
      },
      {
        "duration": 146,
        "start_time": "2023-07-18T18:34:34.728Z"
      },
      {
        "duration": 21,
        "start_time": "2023-07-18T18:34:34.876Z"
      },
      {
        "duration": 47,
        "start_time": "2023-07-18T18:34:34.908Z"
      },
      {
        "duration": 351,
        "start_time": "2023-07-18T18:34:34.957Z"
      },
      {
        "duration": 158,
        "start_time": "2023-07-18T18:34:35.311Z"
      },
      {
        "duration": 41,
        "start_time": "2023-07-18T18:34:35.471Z"
      },
      {
        "duration": 176,
        "start_time": "2023-07-18T18:34:35.515Z"
      },
      {
        "duration": 17,
        "start_time": "2023-07-18T18:34:35.693Z"
      },
      {
        "duration": 76,
        "start_time": "2023-07-18T18:34:35.712Z"
      },
      {
        "duration": 93,
        "start_time": "2023-07-18T18:34:35.793Z"
      },
      {
        "duration": 52,
        "start_time": "2023-07-18T18:34:35.889Z"
      },
      {
        "duration": 113,
        "start_time": "2023-07-18T18:34:35.943Z"
      },
      {
        "duration": 39,
        "start_time": "2023-07-18T18:34:36.058Z"
      },
      {
        "duration": 121,
        "start_time": "2023-07-18T18:34:36.098Z"
      },
      {
        "duration": 10,
        "start_time": "2023-07-18T18:34:36.221Z"
      },
      {
        "duration": 44,
        "start_time": "2023-07-18T18:34:36.234Z"
      },
      {
        "duration": 148,
        "start_time": "2023-07-18T18:34:36.279Z"
      },
      {
        "duration": 867,
        "start_time": "2023-07-18T18:34:36.429Z"
      },
      {
        "duration": 1140,
        "start_time": "2023-07-18T18:34:37.298Z"
      },
      {
        "duration": 231,
        "start_time": "2023-07-18T18:34:38.440Z"
      },
      {
        "duration": 365,
        "start_time": "2023-07-18T18:34:38.672Z"
      },
      {
        "duration": 32587,
        "start_time": "2023-07-18T18:34:39.039Z"
      },
      {
        "duration": 8,
        "start_time": "2023-07-18T18:35:11.710Z"
      },
      {
        "duration": 464,
        "start_time": "2023-07-18T18:35:11.719Z"
      },
      {
        "duration": 4,
        "start_time": "2023-07-18T18:35:12.186Z"
      },
      {
        "duration": 9,
        "start_time": "2023-07-18T18:35:12.193Z"
      },
      {
        "duration": 1607,
        "start_time": "2023-07-18T18:37:37.176Z"
      },
      {
        "duration": 2199,
        "start_time": "2023-07-18T18:37:38.785Z"
      },
      {
        "duration": 955,
        "start_time": "2023-07-18T18:37:40.986Z"
      },
      {
        "duration": 29,
        "start_time": "2023-07-18T18:37:41.943Z"
      },
      {
        "duration": 146,
        "start_time": "2023-07-18T18:37:41.974Z"
      },
      {
        "duration": 124,
        "start_time": "2023-07-18T18:37:42.122Z"
      },
      {
        "duration": 76,
        "start_time": "2023-07-18T18:37:42.247Z"
      },
      {
        "duration": 321,
        "start_time": "2023-07-18T18:37:42.325Z"
      },
      {
        "duration": 80,
        "start_time": "2023-07-18T18:37:42.648Z"
      },
      {
        "duration": 559,
        "start_time": "2023-07-18T18:37:42.730Z"
      },
      {
        "duration": 25,
        "start_time": "2023-07-18T18:37:43.291Z"
      },
      {
        "duration": 45,
        "start_time": "2023-07-18T18:37:43.318Z"
      },
      {
        "duration": 300,
        "start_time": "2023-07-18T18:37:43.365Z"
      },
      {
        "duration": 19,
        "start_time": "2023-07-18T18:37:43.667Z"
      },
      {
        "duration": 167,
        "start_time": "2023-07-18T18:37:43.688Z"
      },
      {
        "duration": 34,
        "start_time": "2023-07-18T18:37:43.857Z"
      },
      {
        "duration": 250,
        "start_time": "2023-07-18T18:37:43.893Z"
      },
      {
        "duration": 38,
        "start_time": "2023-07-18T18:37:44.145Z"
      },
      {
        "duration": 141,
        "start_time": "2023-07-18T18:37:44.185Z"
      },
      {
        "duration": 18,
        "start_time": "2023-07-18T18:37:44.328Z"
      },
      {
        "duration": 29,
        "start_time": "2023-07-18T18:37:44.347Z"
      },
      {
        "duration": 279,
        "start_time": "2023-07-18T18:37:44.378Z"
      },
      {
        "duration": 150,
        "start_time": "2023-07-18T18:37:44.658Z"
      },
      {
        "duration": 34,
        "start_time": "2023-07-18T18:37:44.810Z"
      },
      {
        "duration": 166,
        "start_time": "2023-07-18T18:37:44.846Z"
      },
      {
        "duration": 8,
        "start_time": "2023-07-18T18:37:45.014Z"
      },
      {
        "duration": 32,
        "start_time": "2023-07-18T18:37:45.024Z"
      },
      {
        "duration": 31,
        "start_time": "2023-07-18T18:37:45.060Z"
      },
      {
        "duration": 26,
        "start_time": "2023-07-18T18:37:45.093Z"
      },
      {
        "duration": 32,
        "start_time": "2023-07-18T18:37:45.121Z"
      },
      {
        "duration": 21,
        "start_time": "2023-07-18T18:37:45.155Z"
      },
      {
        "duration": 100,
        "start_time": "2023-07-18T18:37:45.178Z"
      },
      {
        "duration": 7,
        "start_time": "2023-07-18T18:37:45.280Z"
      },
      {
        "duration": 25,
        "start_time": "2023-07-18T18:37:45.289Z"
      },
      {
        "duration": 125,
        "start_time": "2023-07-18T18:37:45.316Z"
      },
      {
        "duration": 882,
        "start_time": "2023-07-18T18:37:45.443Z"
      },
      {
        "duration": 1026,
        "start_time": "2023-07-18T18:37:46.327Z"
      },
      {
        "duration": 226,
        "start_time": "2023-07-18T18:37:47.355Z"
      },
      {
        "duration": 352,
        "start_time": "2023-07-18T18:37:47.582Z"
      },
      {
        "duration": 26073,
        "start_time": "2023-07-18T18:37:47.936Z"
      },
      {
        "duration": 97,
        "start_time": "2023-07-18T18:38:14.014Z"
      },
      {
        "duration": 346,
        "start_time": "2023-07-18T18:38:14.112Z"
      },
      {
        "duration": 3,
        "start_time": "2023-07-18T18:38:14.460Z"
      },
      {
        "duration": 7,
        "start_time": "2023-07-18T18:38:14.464Z"
      },
      {
        "duration": 1591,
        "start_time": "2023-07-18T18:59:04.502Z"
      },
      {
        "duration": 2376,
        "start_time": "2023-07-18T18:59:06.095Z"
      },
      {
        "duration": 964,
        "start_time": "2023-07-18T18:59:08.474Z"
      },
      {
        "duration": 39,
        "start_time": "2023-07-18T18:59:09.440Z"
      },
      {
        "duration": 161,
        "start_time": "2023-07-18T18:59:09.482Z"
      },
      {
        "duration": 114,
        "start_time": "2023-07-18T18:59:09.645Z"
      },
      {
        "duration": 71,
        "start_time": "2023-07-18T18:59:09.761Z"
      },
      {
        "duration": 328,
        "start_time": "2023-07-18T18:59:09.834Z"
      },
      {
        "duration": 99,
        "start_time": "2023-07-18T18:59:10.164Z"
      },
      {
        "duration": 597,
        "start_time": "2023-07-18T18:59:10.265Z"
      },
      {
        "duration": 19,
        "start_time": "2023-07-18T18:59:10.865Z"
      },
      {
        "duration": 65,
        "start_time": "2023-07-18T18:59:10.886Z"
      },
      {
        "duration": 297,
        "start_time": "2023-07-18T18:59:10.953Z"
      },
      {
        "duration": 19,
        "start_time": "2023-07-18T18:59:11.253Z"
      },
      {
        "duration": 176,
        "start_time": "2023-07-18T18:59:11.274Z"
      },
      {
        "duration": 33,
        "start_time": "2023-07-18T18:59:11.452Z"
      },
      {
        "duration": 266,
        "start_time": "2023-07-18T18:59:11.487Z"
      },
      {
        "duration": 38,
        "start_time": "2023-07-18T18:59:11.755Z"
      },
      {
        "duration": 155,
        "start_time": "2023-07-18T18:59:11.794Z"
      },
      {
        "duration": 19,
        "start_time": "2023-07-18T18:59:11.951Z"
      },
      {
        "duration": 21,
        "start_time": "2023-07-18T18:59:11.972Z"
      },
      {
        "duration": 306,
        "start_time": "2023-07-18T18:59:12.011Z"
      },
      {
        "duration": 154,
        "start_time": "2023-07-18T18:59:12.319Z"
      },
      {
        "duration": 50,
        "start_time": "2023-07-18T18:59:12.475Z"
      },
      {
        "duration": 166,
        "start_time": "2023-07-18T18:59:12.528Z"
      },
      {
        "duration": 29,
        "start_time": "2023-07-18T18:59:12.695Z"
      },
      {
        "duration": 83,
        "start_time": "2023-07-18T18:59:12.725Z"
      },
      {
        "duration": 127,
        "start_time": "2023-07-18T18:59:12.809Z"
      },
      {
        "duration": 85,
        "start_time": "2023-07-18T18:59:12.938Z"
      },
      {
        "duration": 101,
        "start_time": "2023-07-18T18:59:13.025Z"
      },
      {
        "duration": 46,
        "start_time": "2023-07-18T18:59:13.128Z"
      },
      {
        "duration": 115,
        "start_time": "2023-07-18T18:59:13.175Z"
      },
      {
        "duration": 17,
        "start_time": "2023-07-18T18:59:13.292Z"
      },
      {
        "duration": 11,
        "start_time": "2023-07-18T18:59:13.323Z"
      },
      {
        "duration": 141,
        "start_time": "2023-07-18T18:59:13.335Z"
      },
      {
        "duration": 870,
        "start_time": "2023-07-18T18:59:13.478Z"
      },
      {
        "duration": 973,
        "start_time": "2023-07-18T18:59:14.349Z"
      },
      {
        "duration": 221,
        "start_time": "2023-07-18T18:59:15.323Z"
      },
      {
        "duration": 357,
        "start_time": "2023-07-18T18:59:15.546Z"
      },
      {
        "duration": 40613,
        "start_time": "2023-07-18T18:59:15.905Z"
      },
      {
        "duration": 91,
        "start_time": "2023-07-18T18:59:56.524Z"
      },
      {
        "duration": 470,
        "start_time": "2023-07-18T18:59:56.617Z"
      },
      {
        "duration": 21,
        "start_time": "2023-07-18T19:00:02.324Z"
      },
      {
        "duration": 23,
        "start_time": "2023-07-18T19:00:07.146Z"
      },
      {
        "duration": 99,
        "start_time": "2023-07-18T19:01:45.945Z"
      },
      {
        "duration": 4,
        "start_time": "2023-07-18T19:01:51.360Z"
      },
      {
        "duration": 14,
        "start_time": "2023-07-18T19:02:13.242Z"
      },
      {
        "duration": 33,
        "start_time": "2023-07-18T19:02:17.727Z"
      },
      {
        "duration": 130,
        "start_time": "2023-07-18T19:02:26.418Z"
      },
      {
        "duration": 22,
        "start_time": "2023-07-18T19:02:32.557Z"
      },
      {
        "duration": 20,
        "start_time": "2023-07-18T19:02:38.889Z"
      },
      {
        "duration": 20,
        "start_time": "2023-07-18T19:02:42.256Z"
      },
      {
        "duration": 17,
        "start_time": "2023-07-18T19:02:55.220Z"
      },
      {
        "duration": 3,
        "start_time": "2023-07-18T19:05:46.856Z"
      },
      {
        "duration": 151,
        "start_time": "2023-07-18T19:05:51.591Z"
      },
      {
        "duration": 3,
        "start_time": "2023-07-18T19:06:27.023Z"
      },
      {
        "duration": 3,
        "start_time": "2023-07-18T19:06:34.478Z"
      },
      {
        "duration": 157,
        "start_time": "2023-07-18T19:06:34.917Z"
      },
      {
        "duration": 180,
        "start_time": "2023-07-18T19:14:55.380Z"
      },
      {
        "duration": 9,
        "start_time": "2023-07-18T19:15:36.822Z"
      },
      {
        "duration": 6,
        "start_time": "2023-07-18T19:15:37.266Z"
      },
      {
        "duration": 50,
        "start_time": "2023-07-18T19:15:37.678Z"
      },
      {
        "duration": 5,
        "start_time": "2023-07-18T19:15:38.158Z"
      },
      {
        "duration": 10,
        "start_time": "2023-07-18T19:17:01.459Z"
      },
      {
        "duration": 4,
        "start_time": "2023-07-18T19:17:12.636Z"
      },
      {
        "duration": 2256,
        "start_time": "2023-07-18T19:17:12.643Z"
      },
      {
        "duration": 843,
        "start_time": "2023-07-18T19:17:14.901Z"
      },
      {
        "duration": 26,
        "start_time": "2023-07-18T19:17:15.746Z"
      },
      {
        "duration": 169,
        "start_time": "2023-07-18T19:17:15.773Z"
      },
      {
        "duration": 124,
        "start_time": "2023-07-18T19:17:15.944Z"
      },
      {
        "duration": 28,
        "start_time": "2023-07-18T19:17:16.070Z"
      },
      {
        "duration": 299,
        "start_time": "2023-07-18T19:17:16.108Z"
      },
      {
        "duration": 77,
        "start_time": "2023-07-18T19:17:16.410Z"
      },
      {
        "duration": 735,
        "start_time": "2023-07-18T19:17:16.489Z"
      },
      {
        "duration": 20,
        "start_time": "2023-07-18T19:17:17.227Z"
      },
      {
        "duration": 61,
        "start_time": "2023-07-18T19:17:17.249Z"
      },
      {
        "duration": 199,
        "start_time": "2023-07-18T19:17:17.312Z"
      },
      {
        "duration": 19,
        "start_time": "2023-07-18T19:17:17.512Z"
      },
      {
        "duration": 175,
        "start_time": "2023-07-18T19:17:17.533Z"
      },
      {
        "duration": 33,
        "start_time": "2023-07-18T19:17:17.710Z"
      },
      {
        "duration": 262,
        "start_time": "2023-07-18T19:17:17.745Z"
      },
      {
        "duration": 35,
        "start_time": "2023-07-18T19:17:18.009Z"
      },
      {
        "duration": 152,
        "start_time": "2023-07-18T19:17:18.046Z"
      },
      {
        "duration": 22,
        "start_time": "2023-07-18T19:17:18.201Z"
      },
      {
        "duration": 57,
        "start_time": "2023-07-18T19:17:18.224Z"
      },
      {
        "duration": 330,
        "start_time": "2023-07-18T19:17:18.283Z"
      },
      {
        "duration": 152,
        "start_time": "2023-07-18T19:17:18.615Z"
      },
      {
        "duration": 39,
        "start_time": "2023-07-18T19:17:18.771Z"
      },
      {
        "duration": 157,
        "start_time": "2023-07-18T19:17:18.812Z"
      },
      {
        "duration": 7,
        "start_time": "2023-07-18T19:17:18.971Z"
      },
      {
        "duration": 29,
        "start_time": "2023-07-18T19:17:18.980Z"
      },
      {
        "duration": 33,
        "start_time": "2023-07-18T19:17:19.011Z"
      },
      {
        "duration": 25,
        "start_time": "2023-07-18T19:17:19.046Z"
      },
      {
        "duration": 42,
        "start_time": "2023-07-18T19:17:19.073Z"
      },
      {
        "duration": 21,
        "start_time": "2023-07-18T19:17:19.117Z"
      },
      {
        "duration": 113,
        "start_time": "2023-07-18T19:17:19.140Z"
      },
      {
        "duration": 8,
        "start_time": "2023-07-18T19:17:19.255Z"
      },
      {
        "duration": 43,
        "start_time": "2023-07-18T19:17:19.264Z"
      },
      {
        "duration": 147,
        "start_time": "2023-07-18T19:17:19.309Z"
      },
      {
        "duration": 857,
        "start_time": "2023-07-18T19:17:19.459Z"
      },
      {
        "duration": 1016,
        "start_time": "2023-07-18T19:17:20.319Z"
      },
      {
        "duration": 233,
        "start_time": "2023-07-18T19:17:21.337Z"
      },
      {
        "duration": 343,
        "start_time": "2023-07-18T19:17:21.572Z"
      },
      {
        "duration": 26592,
        "start_time": "2023-07-18T19:17:21.917Z"
      },
      {
        "duration": 97,
        "start_time": "2023-07-18T19:17:48.511Z"
      },
      {
        "duration": 327,
        "start_time": "2023-07-18T19:17:48.610Z"
      },
      {
        "duration": 21,
        "start_time": "2023-07-18T19:17:51.577Z"
      },
      {
        "duration": 164,
        "start_time": "2023-07-18T19:17:56.760Z"
      },
      {
        "duration": 9,
        "start_time": "2023-07-18T19:17:59.320Z"
      },
      {
        "duration": 49,
        "start_time": "2023-07-18T19:17:59.763Z"
      },
      {
        "duration": 5,
        "start_time": "2023-07-18T19:18:00.124Z"
      },
      {
        "duration": 12,
        "start_time": "2023-07-18T19:18:03.766Z"
      },
      {
        "duration": 3,
        "start_time": "2023-07-18T19:19:13.909Z"
      },
      {
        "duration": 4,
        "start_time": "2023-07-18T19:19:26.685Z"
      },
      {
        "duration": 2208,
        "start_time": "2023-07-18T19:19:26.691Z"
      },
      {
        "duration": 826,
        "start_time": "2023-07-18T19:19:28.901Z"
      },
      {
        "duration": 24,
        "start_time": "2023-07-18T19:19:29.729Z"
      },
      {
        "duration": 128,
        "start_time": "2023-07-18T19:19:29.755Z"
      },
      {
        "duration": 124,
        "start_time": "2023-07-18T19:19:29.884Z"
      },
      {
        "duration": 28,
        "start_time": "2023-07-18T19:19:30.011Z"
      },
      {
        "duration": 265,
        "start_time": "2023-07-18T19:19:30.041Z"
      },
      {
        "duration": 79,
        "start_time": "2023-07-18T19:19:30.310Z"
      },
      {
        "duration": 710,
        "start_time": "2023-07-18T19:19:30.390Z"
      },
      {
        "duration": 22,
        "start_time": "2023-07-18T19:19:31.102Z"
      },
      {
        "duration": 47,
        "start_time": "2023-07-18T19:19:31.125Z"
      },
      {
        "duration": 201,
        "start_time": "2023-07-18T19:19:31.174Z"
      },
      {
        "duration": 31,
        "start_time": "2023-07-18T19:19:31.378Z"
      },
      {
        "duration": 175,
        "start_time": "2023-07-18T19:19:31.411Z"
      },
      {
        "duration": 40,
        "start_time": "2023-07-18T19:19:31.588Z"
      },
      {
        "duration": 249,
        "start_time": "2023-07-18T19:19:31.630Z"
      },
      {
        "duration": 41,
        "start_time": "2023-07-18T19:19:31.881Z"
      },
      {
        "duration": 171,
        "start_time": "2023-07-18T19:19:31.924Z"
      },
      {
        "duration": 22,
        "start_time": "2023-07-18T19:19:32.097Z"
      },
      {
        "duration": 42,
        "start_time": "2023-07-18T19:19:32.121Z"
      },
      {
        "duration": 318,
        "start_time": "2023-07-18T19:19:32.165Z"
      },
      {
        "duration": 174,
        "start_time": "2023-07-18T19:19:32.484Z"
      },
      {
        "duration": 46,
        "start_time": "2023-07-18T19:19:32.662Z"
      },
      {
        "duration": 157,
        "start_time": "2023-07-18T19:19:32.710Z"
      },
      {
        "duration": 8,
        "start_time": "2023-07-18T19:19:32.869Z"
      },
      {
        "duration": 30,
        "start_time": "2023-07-18T19:19:32.879Z"
      },
      {
        "duration": 29,
        "start_time": "2023-07-18T19:19:32.911Z"
      },
      {
        "duration": 19,
        "start_time": "2023-07-18T19:19:32.942Z"
      },
      {
        "duration": 48,
        "start_time": "2023-07-18T19:19:32.963Z"
      },
      {
        "duration": 19,
        "start_time": "2023-07-18T19:19:33.013Z"
      },
      {
        "duration": 96,
        "start_time": "2023-07-18T19:19:33.034Z"
      },
      {
        "duration": 7,
        "start_time": "2023-07-18T19:19:33.132Z"
      },
      {
        "duration": 15,
        "start_time": "2023-07-18T19:19:33.141Z"
      },
      {
        "duration": 126,
        "start_time": "2023-07-18T19:19:33.158Z"
      },
      {
        "duration": 809,
        "start_time": "2023-07-18T19:19:33.286Z"
      },
      {
        "duration": 984,
        "start_time": "2023-07-18T19:19:34.096Z"
      },
      {
        "duration": 221,
        "start_time": "2023-07-18T19:19:35.082Z"
      },
      {
        "duration": 351,
        "start_time": "2023-07-18T19:19:35.305Z"
      },
      {
        "duration": 26551,
        "start_time": "2023-07-18T19:19:35.658Z"
      },
      {
        "duration": 97,
        "start_time": "2023-07-18T19:20:02.215Z"
      },
      {
        "duration": 364,
        "start_time": "2023-07-18T19:20:02.314Z"
      },
      {
        "duration": 4,
        "start_time": "2023-07-18T19:26:36.324Z"
      },
      {
        "duration": 2191,
        "start_time": "2023-07-18T19:26:36.329Z"
      },
      {
        "duration": 786,
        "start_time": "2023-07-18T19:26:38.522Z"
      },
      {
        "duration": 28,
        "start_time": "2023-07-18T19:26:39.310Z"
      },
      {
        "duration": 157,
        "start_time": "2023-07-18T19:26:39.341Z"
      },
      {
        "duration": 112,
        "start_time": "2023-07-18T19:26:39.499Z"
      },
      {
        "duration": 27,
        "start_time": "2023-07-18T19:26:39.613Z"
      },
      {
        "duration": 268,
        "start_time": "2023-07-18T19:26:39.642Z"
      },
      {
        "duration": 76,
        "start_time": "2023-07-18T19:26:39.912Z"
      },
      {
        "duration": 708,
        "start_time": "2023-07-18T19:26:39.990Z"
      },
      {
        "duration": 22,
        "start_time": "2023-07-18T19:26:40.700Z"
      },
      {
        "duration": 36,
        "start_time": "2023-07-18T19:26:40.724Z"
      },
      {
        "duration": 206,
        "start_time": "2023-07-18T19:26:40.763Z"
      },
      {
        "duration": 20,
        "start_time": "2023-07-18T19:26:40.971Z"
      },
      {
        "duration": 176,
        "start_time": "2023-07-18T19:26:40.993Z"
      },
      {
        "duration": 44,
        "start_time": "2023-07-18T19:26:41.172Z"
      },
      {
        "duration": 246,
        "start_time": "2023-07-18T19:26:41.218Z"
      },
      {
        "duration": 43,
        "start_time": "2023-07-18T19:26:41.466Z"
      },
      {
        "duration": 127,
        "start_time": "2023-07-18T19:26:41.511Z"
      },
      {
        "duration": 17,
        "start_time": "2023-07-18T19:26:41.640Z"
      },
      {
        "duration": 17,
        "start_time": "2023-07-18T19:26:41.659Z"
      },
      {
        "duration": 287,
        "start_time": "2023-07-18T19:26:41.678Z"
      },
      {
        "duration": 150,
        "start_time": "2023-07-18T19:26:41.967Z"
      },
      {
        "duration": 35,
        "start_time": "2023-07-18T19:26:42.119Z"
      },
      {
        "duration": 168,
        "start_time": "2023-07-18T19:26:42.156Z"
      },
      {
        "duration": 9,
        "start_time": "2023-07-18T19:26:42.326Z"
      },
      {
        "duration": 15,
        "start_time": "2023-07-18T19:26:42.336Z"
      },
      {
        "duration": 31,
        "start_time": "2023-07-18T19:26:42.352Z"
      },
      {
        "duration": 18,
        "start_time": "2023-07-18T19:26:42.408Z"
      },
      {
        "duration": 29,
        "start_time": "2023-07-18T19:26:42.429Z"
      },
      {
        "duration": 19,
        "start_time": "2023-07-18T19:26:42.460Z"
      },
      {
        "duration": 110,
        "start_time": "2023-07-18T19:26:42.481Z"
      },
      {
        "duration": 18,
        "start_time": "2023-07-18T19:26:42.593Z"
      },
      {
        "duration": 9,
        "start_time": "2023-07-18T19:26:42.612Z"
      },
      {
        "duration": 123,
        "start_time": "2023-07-18T19:26:42.623Z"
      },
      {
        "duration": 818,
        "start_time": "2023-07-18T19:26:42.748Z"
      },
      {
        "duration": 905,
        "start_time": "2023-07-18T19:26:43.570Z"
      },
      {
        "duration": 223,
        "start_time": "2023-07-18T19:26:44.476Z"
      },
      {
        "duration": 346,
        "start_time": "2023-07-18T19:26:44.700Z"
      },
      {
        "duration": 25968,
        "start_time": "2023-07-18T19:26:45.047Z"
      },
      {
        "duration": 99,
        "start_time": "2023-07-18T19:27:11.017Z"
      },
      {
        "duration": 412,
        "start_time": "2023-07-18T19:27:11.118Z"
      },
      {
        "duration": 19,
        "start_time": "2023-07-18T19:28:17.128Z"
      },
      {
        "duration": 80,
        "start_time": "2023-07-18T19:28:17.338Z"
      },
      {
        "duration": 3,
        "start_time": "2023-07-18T19:28:17.547Z"
      },
      {
        "duration": 4,
        "start_time": "2023-07-18T19:36:14.703Z"
      },
      {
        "duration": 2271,
        "start_time": "2023-07-18T19:36:14.709Z"
      },
      {
        "duration": 768,
        "start_time": "2023-07-18T19:36:16.982Z"
      },
      {
        "duration": 23,
        "start_time": "2023-07-18T19:36:17.753Z"
      },
      {
        "duration": 139,
        "start_time": "2023-07-18T19:36:17.778Z"
      },
      {
        "duration": 247,
        "start_time": "2023-07-18T19:36:17.919Z"
      },
      {
        "duration": 60,
        "start_time": "2023-07-18T19:36:18.168Z"
      },
      {
        "duration": 250,
        "start_time": "2023-07-18T19:36:18.229Z"
      },
      {
        "duration": 78,
        "start_time": "2023-07-18T19:36:18.481Z"
      },
      {
        "duration": 512,
        "start_time": "2023-07-18T19:36:18.561Z"
      },
      {
        "duration": 17,
        "start_time": "2023-07-18T19:36:19.075Z"
      },
      {
        "duration": 42,
        "start_time": "2023-07-18T19:36:19.094Z"
      },
      {
        "duration": 170,
        "start_time": "2023-07-18T19:36:19.138Z"
      },
      {
        "duration": 17,
        "start_time": "2023-07-18T19:36:19.310Z"
      },
      {
        "duration": 182,
        "start_time": "2023-07-18T19:36:19.329Z"
      },
      {
        "duration": 32,
        "start_time": "2023-07-18T19:36:19.512Z"
      },
      {
        "duration": 259,
        "start_time": "2023-07-18T19:36:19.546Z"
      },
      {
        "duration": 32,
        "start_time": "2023-07-18T19:36:19.809Z"
      },
      {
        "duration": 140,
        "start_time": "2023-07-18T19:36:19.842Z"
      },
      {
        "duration": 25,
        "start_time": "2023-07-18T19:36:19.984Z"
      },
      {
        "duration": 47,
        "start_time": "2023-07-18T19:36:20.011Z"
      },
      {
        "duration": 273,
        "start_time": "2023-07-18T19:36:20.060Z"
      },
      {
        "duration": 147,
        "start_time": "2023-07-18T19:36:20.335Z"
      },
      {
        "duration": 41,
        "start_time": "2023-07-18T19:36:20.485Z"
      },
      {
        "duration": 164,
        "start_time": "2023-07-18T19:36:20.528Z"
      },
      {
        "duration": 8,
        "start_time": "2023-07-18T19:36:20.694Z"
      },
      {
        "duration": 31,
        "start_time": "2023-07-18T19:36:20.709Z"
      },
      {
        "duration": 45,
        "start_time": "2023-07-18T19:36:20.742Z"
      },
      {
        "duration": 29,
        "start_time": "2023-07-18T19:36:20.789Z"
      },
      {
        "duration": 31,
        "start_time": "2023-07-18T19:36:20.820Z"
      },
      {
        "duration": 21,
        "start_time": "2023-07-18T19:36:20.853Z"
      },
      {
        "duration": 100,
        "start_time": "2023-07-18T19:36:20.876Z"
      },
      {
        "duration": 7,
        "start_time": "2023-07-18T19:36:20.978Z"
      },
      {
        "duration": 29,
        "start_time": "2023-07-18T19:36:20.986Z"
      },
      {
        "duration": 156,
        "start_time": "2023-07-18T19:36:21.017Z"
      },
      {
        "duration": 807,
        "start_time": "2023-07-18T19:36:21.175Z"
      },
      {
        "duration": 940,
        "start_time": "2023-07-18T19:36:21.983Z"
      },
      {
        "duration": 218,
        "start_time": "2023-07-18T19:36:22.925Z"
      },
      {
        "duration": 338,
        "start_time": "2023-07-18T19:36:23.145Z"
      },
      {
        "duration": 33723,
        "start_time": "2023-07-18T19:36:23.485Z"
      },
      {
        "duration": 97,
        "start_time": "2023-07-18T19:36:57.214Z"
      },
      {
        "duration": 313,
        "start_time": "2023-07-18T19:36:57.312Z"
      },
      {
        "duration": 72,
        "start_time": "2023-07-18T19:38:13.155Z"
      },
      {
        "duration": 19,
        "start_time": "2023-07-18T19:38:14.003Z"
      },
      {
        "duration": 76,
        "start_time": "2023-07-18T19:38:14.786Z"
      },
      {
        "duration": 242,
        "start_time": "2023-07-18T19:38:15.324Z"
      },
      {
        "duration": 4,
        "start_time": "2023-07-18T19:38:16.014Z"
      },
      {
        "duration": 16,
        "start_time": "2023-07-18T19:44:54.799Z"
      },
      {
        "duration": 11,
        "start_time": "2023-07-18T19:45:02.650Z"
      },
      {
        "duration": 1397,
        "start_time": "2023-07-18T19:45:32.365Z"
      },
      {
        "duration": 3,
        "start_time": "2023-07-18T19:45:48.606Z"
      },
      {
        "duration": 1616,
        "start_time": "2023-07-18T19:48:38.318Z"
      },
      {
        "duration": 2184,
        "start_time": "2023-07-18T19:48:39.936Z"
      },
      {
        "duration": 906,
        "start_time": "2023-07-18T19:48:42.122Z"
      },
      {
        "duration": 28,
        "start_time": "2023-07-18T19:48:43.030Z"
      },
      {
        "duration": 142,
        "start_time": "2023-07-18T19:48:43.060Z"
      },
      {
        "duration": 112,
        "start_time": "2023-07-18T19:48:43.203Z"
      },
      {
        "duration": 61,
        "start_time": "2023-07-18T19:48:43.317Z"
      },
      {
        "duration": 323,
        "start_time": "2023-07-18T19:48:43.379Z"
      },
      {
        "duration": 81,
        "start_time": "2023-07-18T19:48:43.703Z"
      },
      {
        "duration": 566,
        "start_time": "2023-07-18T19:48:43.787Z"
      },
      {
        "duration": 17,
        "start_time": "2023-07-18T19:48:44.354Z"
      },
      {
        "duration": 64,
        "start_time": "2023-07-18T19:48:44.373Z"
      },
      {
        "duration": 288,
        "start_time": "2023-07-18T19:48:44.438Z"
      },
      {
        "duration": 18,
        "start_time": "2023-07-18T19:48:44.728Z"
      },
      {
        "duration": 170,
        "start_time": "2023-07-18T19:48:44.748Z"
      },
      {
        "duration": 34,
        "start_time": "2023-07-18T19:48:44.919Z"
      },
      {
        "duration": 250,
        "start_time": "2023-07-18T19:48:44.955Z"
      },
      {
        "duration": 40,
        "start_time": "2023-07-18T19:48:45.208Z"
      },
      {
        "duration": 142,
        "start_time": "2023-07-18T19:48:45.250Z"
      },
      {
        "duration": 22,
        "start_time": "2023-07-18T19:48:45.394Z"
      },
      {
        "duration": 28,
        "start_time": "2023-07-18T19:48:45.418Z"
      },
      {
        "duration": 290,
        "start_time": "2023-07-18T19:48:45.448Z"
      },
      {
        "duration": 163,
        "start_time": "2023-07-18T19:48:45.739Z"
      },
      {
        "duration": 39,
        "start_time": "2023-07-18T19:48:45.909Z"
      },
      {
        "duration": 207,
        "start_time": "2023-07-18T19:48:45.950Z"
      },
      {
        "duration": 9,
        "start_time": "2023-07-18T19:48:46.159Z"
      },
      {
        "duration": 15,
        "start_time": "2023-07-18T19:48:46.170Z"
      },
      {
        "duration": 29,
        "start_time": "2023-07-18T19:48:46.209Z"
      },
      {
        "duration": 18,
        "start_time": "2023-07-18T19:48:46.240Z"
      },
      {
        "duration": 49,
        "start_time": "2023-07-18T19:48:46.260Z"
      },
      {
        "duration": 19,
        "start_time": "2023-07-18T19:48:46.311Z"
      },
      {
        "duration": 99,
        "start_time": "2023-07-18T19:48:46.332Z"
      },
      {
        "duration": 7,
        "start_time": "2023-07-18T19:48:46.433Z"
      },
      {
        "duration": 52,
        "start_time": "2023-07-18T19:48:46.442Z"
      },
      {
        "duration": 141,
        "start_time": "2023-07-18T19:48:46.496Z"
      },
      {
        "duration": 909,
        "start_time": "2023-07-18T19:48:46.638Z"
      },
      {
        "duration": 984,
        "start_time": "2023-07-18T19:48:47.549Z"
      },
      {
        "duration": 221,
        "start_time": "2023-07-18T19:48:48.535Z"
      },
      {
        "duration": 345,
        "start_time": "2023-07-18T19:48:48.758Z"
      },
      {
        "duration": 25723,
        "start_time": "2023-07-18T19:48:49.105Z"
      },
      {
        "duration": 101,
        "start_time": "2023-07-18T19:49:14.908Z"
      },
      {
        "duration": 376,
        "start_time": "2023-07-18T19:49:15.011Z"
      },
      {
        "duration": 70,
        "start_time": "2023-07-18T19:49:15.389Z"
      },
      {
        "duration": 19,
        "start_time": "2023-07-18T19:49:15.461Z"
      },
      {
        "duration": 110,
        "start_time": "2023-07-18T19:49:15.482Z"
      },
      {
        "duration": 265,
        "start_time": "2023-07-18T19:49:15.594Z"
      },
      {
        "duration": 6,
        "start_time": "2023-07-18T19:49:15.861Z"
      },
      {
        "duration": 102511,
        "start_time": "2023-07-18T19:49:15.869Z"
      },
      {
        "duration": 10,
        "start_time": "2023-07-18T19:51:32.960Z"
      },
      {
        "duration": 3,
        "start_time": "2023-07-18T19:51:39.492Z"
      },
      {
        "duration": 283051,
        "start_time": "2023-07-18T19:51:52.984Z"
      },
      {
        "duration": 780,
        "start_time": "2023-07-18T19:59:06.836Z"
      },
      {
        "duration": 743,
        "start_time": "2023-07-18T19:59:16.489Z"
      },
      {
        "duration": 776,
        "start_time": "2023-07-18T19:59:43.044Z"
      },
      {
        "duration": 777,
        "start_time": "2023-07-18T19:59:59.973Z"
      },
      {
        "duration": 798,
        "start_time": "2023-07-18T20:00:15.884Z"
      },
      {
        "duration": 13,
        "start_time": "2023-07-18T20:00:45.928Z"
      },
      {
        "duration": 13782,
        "start_time": "2023-07-18T20:01:08.166Z"
      },
      {
        "duration": 96,
        "start_time": "2023-07-18T20:01:21.951Z"
      },
      {
        "duration": 2305,
        "start_time": "2023-07-18T20:01:51.337Z"
      },
      {
        "duration": 4,
        "start_time": "2023-07-18T20:01:53.645Z"
      },
      {
        "duration": 2335,
        "start_time": "2023-07-18T20:01:53.650Z"
      },
      {
        "duration": 852,
        "start_time": "2023-07-18T20:01:55.989Z"
      },
      {
        "duration": 25,
        "start_time": "2023-07-18T20:01:56.843Z"
      },
      {
        "duration": 173,
        "start_time": "2023-07-18T20:01:56.870Z"
      },
      {
        "duration": 141,
        "start_time": "2023-07-18T20:01:57.045Z"
      },
      {
        "duration": 32,
        "start_time": "2023-07-18T20:01:57.188Z"
      },
      {
        "duration": 247,
        "start_time": "2023-07-18T20:01:57.222Z"
      },
      {
        "duration": 181,
        "start_time": "2023-07-18T20:01:57.472Z"
      },
      {
        "duration": 737,
        "start_time": "2023-07-18T20:01:57.654Z"
      },
      {
        "duration": 20,
        "start_time": "2023-07-18T20:01:58.393Z"
      },
      {
        "duration": 49,
        "start_time": "2023-07-18T20:01:58.415Z"
      },
      {
        "duration": 178,
        "start_time": "2023-07-18T20:01:58.465Z"
      },
      {
        "duration": 19,
        "start_time": "2023-07-18T20:01:58.645Z"
      },
      {
        "duration": 163,
        "start_time": "2023-07-18T20:01:58.666Z"
      },
      {
        "duration": 33,
        "start_time": "2023-07-18T20:01:58.830Z"
      },
      {
        "duration": 253,
        "start_time": "2023-07-18T20:01:58.865Z"
      },
      {
        "duration": 38,
        "start_time": "2023-07-18T20:01:59.120Z"
      },
      {
        "duration": 138,
        "start_time": "2023-07-18T20:01:59.160Z"
      },
      {
        "duration": 21,
        "start_time": "2023-07-18T20:01:59.300Z"
      },
      {
        "duration": 35,
        "start_time": "2023-07-18T20:01:59.323Z"
      },
      {
        "duration": 310,
        "start_time": "2023-07-18T20:01:59.361Z"
      },
      {
        "duration": 148,
        "start_time": "2023-07-18T20:01:59.673Z"
      },
      {
        "duration": 34,
        "start_time": "2023-07-18T20:01:59.823Z"
      },
      {
        "duration": 182,
        "start_time": "2023-07-18T20:01:59.858Z"
      },
      {
        "duration": 8,
        "start_time": "2023-07-18T20:02:00.042Z"
      },
      {
        "duration": 49,
        "start_time": "2023-07-18T20:02:00.053Z"
      },
      {
        "duration": 45,
        "start_time": "2023-07-18T20:02:00.104Z"
      },
      {
        "duration": 56,
        "start_time": "2023-07-18T20:02:00.151Z"
      },
      {
        "duration": 68,
        "start_time": "2023-07-18T20:02:00.209Z"
      },
      {
        "duration": 64,
        "start_time": "2023-07-18T20:02:00.279Z"
      },
      {
        "duration": 103,
        "start_time": "2023-07-18T20:02:00.345Z"
      },
      {
        "duration": 7,
        "start_time": "2023-07-18T20:02:00.450Z"
      },
      {
        "duration": 59,
        "start_time": "2023-07-18T20:02:00.459Z"
      },
      {
        "duration": 175,
        "start_time": "2023-07-18T20:02:00.520Z"
      },
      {
        "duration": 3,
        "start_time": "2023-07-18T20:02:56.771Z"
      },
      {
        "duration": 13,
        "start_time": "2023-07-18T20:03:22.360Z"
      },
      {
        "duration": 11,
        "start_time": "2023-07-18T20:03:27.022Z"
      },
      {
        "duration": 3,
        "start_time": "2023-07-18T20:03:31.644Z"
      },
      {
        "duration": 4,
        "start_time": "2023-07-18T20:03:35.904Z"
      },
      {
        "duration": 615,
        "start_time": "2023-07-18T20:03:36.193Z"
      },
      {
        "duration": 2316,
        "start_time": "2023-07-18T20:03:49.641Z"
      },
      {
        "duration": 4,
        "start_time": "2023-07-18T20:03:51.960Z"
      },
      {
        "duration": 2357,
        "start_time": "2023-07-18T20:03:51.966Z"
      },
      {
        "duration": 795,
        "start_time": "2023-07-18T20:03:54.327Z"
      },
      {
        "duration": 26,
        "start_time": "2023-07-18T20:03:55.124Z"
      },
      {
        "duration": 127,
        "start_time": "2023-07-18T20:03:55.152Z"
      },
      {
        "duration": 115,
        "start_time": "2023-07-18T20:03:55.282Z"
      },
      {
        "duration": 30,
        "start_time": "2023-07-18T20:03:55.399Z"
      },
      {
        "duration": 246,
        "start_time": "2023-07-18T20:03:55.431Z"
      },
      {
        "duration": 86,
        "start_time": "2023-07-18T20:03:55.681Z"
      },
      {
        "duration": 905,
        "start_time": "2023-07-18T20:03:55.769Z"
      },
      {
        "duration": 18,
        "start_time": "2023-07-18T20:03:56.676Z"
      },
      {
        "duration": 59,
        "start_time": "2023-07-18T20:03:56.695Z"
      },
      {
        "duration": 176,
        "start_time": "2023-07-18T20:03:56.756Z"
      },
      {
        "duration": 19,
        "start_time": "2023-07-18T20:03:56.934Z"
      },
      {
        "duration": 203,
        "start_time": "2023-07-18T20:03:56.954Z"
      },
      {
        "duration": 30,
        "start_time": "2023-07-18T20:03:57.159Z"
      },
      {
        "duration": 378,
        "start_time": "2023-07-18T20:03:57.191Z"
      },
      {
        "duration": 69,
        "start_time": "2023-07-18T20:03:57.571Z"
      },
      {
        "duration": 150,
        "start_time": "2023-07-18T20:03:57.642Z"
      },
      {
        "duration": 21,
        "start_time": "2023-07-18T20:03:57.794Z"
      },
      {
        "duration": 165,
        "start_time": "2023-07-18T20:03:57.817Z"
      },
      {
        "duration": 324,
        "start_time": "2023-07-18T20:03:57.985Z"
      },
      {
        "duration": 160,
        "start_time": "2023-07-18T20:03:58.311Z"
      },
      {
        "duration": 46,
        "start_time": "2023-07-18T20:03:58.473Z"
      },
      {
        "duration": 158,
        "start_time": "2023-07-18T20:03:58.521Z"
      },
      {
        "duration": 7,
        "start_time": "2023-07-18T20:03:58.681Z"
      },
      {
        "duration": 15,
        "start_time": "2023-07-18T20:03:58.708Z"
      },
      {
        "duration": 29,
        "start_time": "2023-07-18T20:03:58.725Z"
      },
      {
        "duration": 31,
        "start_time": "2023-07-18T20:03:58.756Z"
      },
      {
        "duration": 34,
        "start_time": "2023-07-18T20:03:58.789Z"
      },
      {
        "duration": 22,
        "start_time": "2023-07-18T20:03:58.825Z"
      },
      {
        "duration": 95,
        "start_time": "2023-07-18T20:03:58.849Z"
      },
      {
        "duration": 8,
        "start_time": "2023-07-18T20:03:58.947Z"
      },
      {
        "duration": 30,
        "start_time": "2023-07-18T20:03:58.956Z"
      },
      {
        "duration": 134,
        "start_time": "2023-07-18T20:03:58.988Z"
      },
      {
        "duration": 3,
        "start_time": "2023-07-18T20:03:59.124Z"
      },
      {
        "duration": 5,
        "start_time": "2023-07-18T20:04:05.644Z"
      },
      {
        "duration": 551,
        "start_time": "2023-07-18T20:04:06.185Z"
      },
      {
        "duration": 7,
        "start_time": "2023-07-18T20:04:21.428Z"
      },
      {
        "duration": 692,
        "start_time": "2023-07-18T20:04:41.796Z"
      },
      {
        "duration": 3,
        "start_time": "2023-07-18T20:04:53.064Z"
      },
      {
        "duration": 6,
        "start_time": "2023-07-18T20:04:53.316Z"
      },
      {
        "duration": 570,
        "start_time": "2023-07-18T20:04:53.522Z"
      },
      {
        "duration": 4,
        "start_time": "2023-07-18T20:05:47.772Z"
      },
      {
        "duration": 6,
        "start_time": "2023-07-18T20:05:48.458Z"
      },
      {
        "duration": 582,
        "start_time": "2023-07-18T20:05:49.926Z"
      },
      {
        "duration": 4,
        "start_time": "2023-07-18T20:06:19.374Z"
      },
      {
        "duration": 2301,
        "start_time": "2023-07-18T20:06:19.565Z"
      },
      {
        "duration": 792,
        "start_time": "2023-07-18T20:06:21.870Z"
      },
      {
        "duration": 26,
        "start_time": "2023-07-18T20:06:22.664Z"
      },
      {
        "duration": 113,
        "start_time": "2023-07-18T20:06:22.708Z"
      },
      {
        "duration": 123,
        "start_time": "2023-07-18T20:06:22.823Z"
      },
      {
        "duration": 96,
        "start_time": "2023-07-18T20:06:30.483Z"
      },
      {
        "duration": 27,
        "start_time": "2023-07-18T20:06:31.440Z"
      },
      {
        "duration": 251,
        "start_time": "2023-07-18T20:06:32.056Z"
      },
      {
        "duration": 76,
        "start_time": "2023-07-18T20:06:33.847Z"
      },
      {
        "duration": 3,
        "start_time": "2023-07-18T20:06:41.949Z"
      },
      {
        "duration": 637,
        "start_time": "2023-07-18T20:06:57.133Z"
      },
      {
        "duration": 14,
        "start_time": "2023-07-18T20:07:25.582Z"
      },
      {
        "duration": 11,
        "start_time": "2023-07-18T20:08:31.127Z"
      },
      {
        "duration": 3345,
        "start_time": "2023-07-18T20:09:07.021Z"
      },
      {
        "duration": 84,
        "start_time": "2023-07-18T20:09:12.107Z"
      },
      {
        "duration": 2268,
        "start_time": "2023-07-18T20:09:17.716Z"
      },
      {
        "duration": 5,
        "start_time": "2023-07-18T20:09:19.987Z"
      },
      {
        "duration": 2235,
        "start_time": "2023-07-18T20:09:19.994Z"
      },
      {
        "duration": 762,
        "start_time": "2023-07-18T20:09:22.232Z"
      },
      {
        "duration": 30,
        "start_time": "2023-07-18T20:09:22.996Z"
      },
      {
        "duration": 131,
        "start_time": "2023-07-18T20:09:23.028Z"
      },
      {
        "duration": 103,
        "start_time": "2023-07-18T20:09:23.160Z"
      },
      {
        "duration": 27,
        "start_time": "2023-07-18T20:09:23.264Z"
      },
      {
        "duration": 238,
        "start_time": "2023-07-18T20:09:23.293Z"
      },
      {
        "duration": 2142,
        "start_time": "2023-07-18T20:09:23.533Z"
      },
      {
        "duration": 4,
        "start_time": "2023-07-18T20:09:29.645Z"
      },
      {
        "duration": 1881,
        "start_time": "2023-07-19T10:36:48.866Z"
      },
      {
        "duration": 2545,
        "start_time": "2023-07-19T10:36:50.749Z"
      },
      {
        "duration": 935,
        "start_time": "2023-07-19T10:36:53.295Z"
      },
      {
        "duration": 24,
        "start_time": "2023-07-19T10:36:54.231Z"
      },
      {
        "duration": 112,
        "start_time": "2023-07-19T10:36:54.256Z"
      },
      {
        "duration": 92,
        "start_time": "2023-07-19T10:36:54.369Z"
      },
      {
        "duration": 50,
        "start_time": "2023-07-19T10:36:54.463Z"
      },
      {
        "duration": 262,
        "start_time": "2023-07-19T10:36:54.514Z"
      },
      {
        "duration": 73,
        "start_time": "2023-07-19T10:36:54.778Z"
      },
      {
        "duration": 432,
        "start_time": "2023-07-19T10:36:54.853Z"
      },
      {
        "duration": 16,
        "start_time": "2023-07-19T10:36:55.287Z"
      },
      {
        "duration": 35,
        "start_time": "2023-07-19T10:36:55.305Z"
      },
      {
        "duration": 235,
        "start_time": "2023-07-19T10:36:55.342Z"
      },
      {
        "duration": 22,
        "start_time": "2023-07-19T10:36:55.578Z"
      },
      {
        "duration": 142,
        "start_time": "2023-07-19T10:36:55.601Z"
      },
      {
        "duration": 16,
        "start_time": "2023-07-19T10:36:55.745Z"
      },
      {
        "duration": 222,
        "start_time": "2023-07-19T10:36:55.762Z"
      },
      {
        "duration": 41,
        "start_time": "2023-07-19T10:36:55.986Z"
      },
      {
        "duration": 136,
        "start_time": "2023-07-19T10:36:56.029Z"
      },
      {
        "duration": 22,
        "start_time": "2023-07-19T10:36:56.166Z"
      },
      {
        "duration": 23,
        "start_time": "2023-07-19T10:36:56.189Z"
      },
      {
        "duration": 228,
        "start_time": "2023-07-19T10:36:56.213Z"
      },
      {
        "duration": 119,
        "start_time": "2023-07-19T10:36:56.442Z"
      },
      {
        "duration": 26,
        "start_time": "2023-07-19T10:36:56.562Z"
      },
      {
        "duration": 133,
        "start_time": "2023-07-19T10:36:56.590Z"
      },
      {
        "duration": 7,
        "start_time": "2023-07-19T10:36:56.724Z"
      },
      {
        "duration": 11,
        "start_time": "2023-07-19T10:36:56.732Z"
      },
      {
        "duration": 30,
        "start_time": "2023-07-19T10:36:56.746Z"
      },
      {
        "duration": 16,
        "start_time": "2023-07-19T10:36:56.799Z"
      },
      {
        "duration": 26,
        "start_time": "2023-07-19T10:36:56.816Z"
      },
      {
        "duration": 60,
        "start_time": "2023-07-19T10:36:56.843Z"
      },
      {
        "duration": 77,
        "start_time": "2023-07-19T10:36:56.905Z"
      },
      {
        "duration": 7,
        "start_time": "2023-07-19T10:36:56.983Z"
      },
      {
        "duration": 7,
        "start_time": "2023-07-19T10:36:56.999Z"
      },
      {
        "duration": 109,
        "start_time": "2023-07-19T10:36:57.007Z"
      },
      {
        "duration": 708,
        "start_time": "2023-07-19T10:36:57.118Z"
      },
      {
        "duration": 482,
        "start_time": "2023-07-19T10:36:57.828Z"
      },
      {
        "duration": 148,
        "start_time": "2023-07-19T10:36:58.312Z"
      },
      {
        "duration": 209,
        "start_time": "2023-07-19T10:36:58.462Z"
      },
      {
        "duration": 20827,
        "start_time": "2023-07-19T10:36:58.673Z"
      },
      {
        "duration": 8,
        "start_time": "2023-07-19T10:37:19.503Z"
      },
      {
        "duration": 351,
        "start_time": "2023-07-19T10:37:19.599Z"
      },
      {
        "duration": 69,
        "start_time": "2023-07-19T10:37:19.952Z"
      },
      {
        "duration": 15,
        "start_time": "2023-07-19T10:37:20.023Z"
      },
      {
        "duration": 64,
        "start_time": "2023-07-19T10:37:20.040Z"
      },
      {
        "duration": 256,
        "start_time": "2023-07-19T10:37:20.106Z"
      },
      {
        "duration": 2,
        "start_time": "2023-07-19T10:37:20.364Z"
      },
      {
        "duration": 258543,
        "start_time": "2023-07-19T10:37:20.367Z"
      },
      {
        "duration": 647,
        "start_time": "2023-07-19T10:41:38.912Z"
      },
      {
        "duration": 3,
        "start_time": "2023-07-19T10:41:39.560Z"
      },
      {
        "duration": 279,
        "start_time": "2023-07-19T10:51:02.064Z"
      },
      {
        "duration": 3,
        "start_time": "2023-07-19T10:51:07.300Z"
      },
      {
        "duration": 3,
        "start_time": "2023-07-19T10:52:13.967Z"
      },
      {
        "duration": 3,
        "start_time": "2023-07-19T10:52:15.051Z"
      },
      {
        "duration": 122,
        "start_time": "2023-07-19T10:52:30.138Z"
      },
      {
        "duration": 8,
        "start_time": "2023-07-19T11:05:12.759Z"
      },
      {
        "duration": 1710,
        "start_time": "2023-07-19T11:05:18.982Z"
      },
      {
        "duration": 24,
        "start_time": "2023-07-19T11:05:36.924Z"
      },
      {
        "duration": 3,
        "start_time": "2023-07-19T11:05:37.471Z"
      },
      {
        "duration": 2,
        "start_time": "2023-07-19T11:05:37.875Z"
      },
      {
        "duration": 17,
        "start_time": "2023-07-19T11:05:38.369Z"
      },
      {
        "duration": 3,
        "start_time": "2023-07-19T11:05:55.815Z"
      },
      {
        "duration": 6,
        "start_time": "2023-07-19T11:05:55.820Z"
      },
      {
        "duration": 32,
        "start_time": "2023-07-19T11:05:55.827Z"
      },
      {
        "duration": 65,
        "start_time": "2023-07-19T11:06:07.560Z"
      },
      {
        "duration": 178,
        "start_time": "2023-07-19T11:06:59.166Z"
      },
      {
        "duration": 26,
        "start_time": "2023-07-19T11:06:59.996Z"
      },
      {
        "duration": 24,
        "start_time": "2023-07-19T11:07:00.248Z"
      },
      {
        "duration": 2,
        "start_time": "2023-07-19T11:07:00.553Z"
      },
      {
        "duration": 2,
        "start_time": "2023-07-19T11:07:00.993Z"
      },
      {
        "duration": 22,
        "start_time": "2023-07-19T11:07:01.441Z"
      },
      {
        "duration": 3,
        "start_time": "2023-07-19T11:07:22.811Z"
      },
      {
        "duration": 3,
        "start_time": "2023-07-19T11:07:23.181Z"
      },
      {
        "duration": 30,
        "start_time": "2023-07-19T11:07:23.985Z"
      },
      {
        "duration": 2,
        "start_time": "2023-07-19T11:07:50.016Z"
      },
      {
        "duration": 3,
        "start_time": "2023-07-19T11:07:50.337Z"
      },
      {
        "duration": 17,
        "start_time": "2023-07-19T11:07:50.711Z"
      },
      {
        "duration": 4,
        "start_time": "2023-07-19T11:08:03.163Z"
      },
      {
        "duration": 863,
        "start_time": "2023-07-19T11:08:03.169Z"
      },
      {
        "duration": 17,
        "start_time": "2023-07-19T11:08:04.034Z"
      },
      {
        "duration": 124,
        "start_time": "2023-07-19T11:08:04.053Z"
      },
      {
        "duration": 93,
        "start_time": "2023-07-19T11:08:04.179Z"
      },
      {
        "duration": 36,
        "start_time": "2023-07-19T11:08:04.274Z"
      },
      {
        "duration": 231,
        "start_time": "2023-07-19T11:08:04.311Z"
      },
      {
        "duration": 74,
        "start_time": "2023-07-19T11:08:04.544Z"
      },
      {
        "duration": 501,
        "start_time": "2023-07-19T11:08:04.619Z"
      },
      {
        "duration": 10,
        "start_time": "2023-07-19T11:08:05.122Z"
      },
      {
        "duration": 32,
        "start_time": "2023-07-19T11:08:05.135Z"
      },
      {
        "duration": 173,
        "start_time": "2023-07-19T11:08:05.169Z"
      },
      {
        "duration": 23,
        "start_time": "2023-07-19T11:08:05.344Z"
      },
      {
        "duration": 152,
        "start_time": "2023-07-19T11:08:05.368Z"
      },
      {
        "duration": 19,
        "start_time": "2023-07-19T11:08:05.522Z"
      },
      {
        "duration": 208,
        "start_time": "2023-07-19T11:08:05.543Z"
      },
      {
        "duration": 26,
        "start_time": "2023-07-19T11:08:05.752Z"
      },
      {
        "duration": 116,
        "start_time": "2023-07-19T11:08:05.780Z"
      },
      {
        "duration": 23,
        "start_time": "2023-07-19T11:08:05.897Z"
      },
      {
        "duration": 15,
        "start_time": "2023-07-19T11:08:05.922Z"
      },
      {
        "duration": 280,
        "start_time": "2023-07-19T11:08:05.938Z"
      },
      {
        "duration": 139,
        "start_time": "2023-07-19T11:08:06.219Z"
      },
      {
        "duration": 26,
        "start_time": "2023-07-19T11:08:06.359Z"
      },
      {
        "duration": 139,
        "start_time": "2023-07-19T11:08:06.387Z"
      },
      {
        "duration": 8,
        "start_time": "2023-07-19T11:08:06.527Z"
      },
      {
        "duration": 17,
        "start_time": "2023-07-19T11:08:06.536Z"
      },
      {
        "duration": 28,
        "start_time": "2023-07-19T11:08:06.554Z"
      },
      {
        "duration": 44,
        "start_time": "2023-07-19T11:08:06.584Z"
      },
      {
        "duration": 28,
        "start_time": "2023-07-19T11:08:06.631Z"
      },
      {
        "duration": 17,
        "start_time": "2023-07-19T11:08:06.661Z"
      },
      {
        "duration": 92,
        "start_time": "2023-07-19T11:08:06.679Z"
      },
      {
        "duration": 7,
        "start_time": "2023-07-19T11:08:06.772Z"
      },
      {
        "duration": 8,
        "start_time": "2023-07-19T11:08:06.780Z"
      },
      {
        "duration": 121,
        "start_time": "2023-07-19T11:08:06.789Z"
      },
      {
        "duration": 702,
        "start_time": "2023-07-19T11:08:06.911Z"
      },
      {
        "duration": 458,
        "start_time": "2023-07-19T11:08:07.615Z"
      },
      {
        "duration": 160,
        "start_time": "2023-07-19T11:08:08.075Z"
      },
      {
        "duration": 1416,
        "start_time": "2023-07-19T11:08:10.912Z"
      },
      {
        "duration": 703,
        "start_time": "2023-07-19T11:08:12.329Z"
      },
      {
        "duration": 22,
        "start_time": "2023-07-19T11:08:13.034Z"
      },
      {
        "duration": 121,
        "start_time": "2023-07-19T11:08:13.058Z"
      },
      {
        "duration": 89,
        "start_time": "2023-07-19T11:08:13.181Z"
      },
      {
        "duration": 52,
        "start_time": "2023-07-19T11:08:13.272Z"
      },
      {
        "duration": 272,
        "start_time": "2023-07-19T11:08:13.325Z"
      },
      {
        "duration": 81,
        "start_time": "2023-07-19T11:08:13.599Z"
      },
      {
        "duration": 452,
        "start_time": "2023-07-19T11:08:13.681Z"
      },
      {
        "duration": 11,
        "start_time": "2023-07-19T11:08:14.135Z"
      },
      {
        "duration": 104,
        "start_time": "2023-07-19T11:08:14.148Z"
      },
      {
        "duration": 161,
        "start_time": "2023-07-19T11:08:14.253Z"
      },
      {
        "duration": 16,
        "start_time": "2023-07-19T11:08:14.415Z"
      },
      {
        "duration": 136,
        "start_time": "2023-07-19T11:08:14.432Z"
      },
      {
        "duration": 16,
        "start_time": "2023-07-19T11:08:14.569Z"
      },
      {
        "duration": 206,
        "start_time": "2023-07-19T11:08:14.586Z"
      },
      {
        "duration": 34,
        "start_time": "2023-07-19T11:08:14.794Z"
      },
      {
        "duration": 112,
        "start_time": "2023-07-19T11:08:14.829Z"
      },
      {
        "duration": 17,
        "start_time": "2023-07-19T11:08:14.942Z"
      },
      {
        "duration": 14,
        "start_time": "2023-07-19T11:08:14.960Z"
      },
      {
        "duration": 241,
        "start_time": "2023-07-19T11:08:14.976Z"
      },
      {
        "duration": 123,
        "start_time": "2023-07-19T11:08:15.218Z"
      },
      {
        "duration": 27,
        "start_time": "2023-07-19T11:08:15.343Z"
      },
      {
        "duration": 144,
        "start_time": "2023-07-19T11:08:15.371Z"
      },
      {
        "duration": 7,
        "start_time": "2023-07-19T11:08:15.517Z"
      },
      {
        "duration": 18,
        "start_time": "2023-07-19T11:08:15.525Z"
      },
      {
        "duration": 41,
        "start_time": "2023-07-19T11:08:15.545Z"
      },
      {
        "duration": 38,
        "start_time": "2023-07-19T11:08:15.589Z"
      },
      {
        "duration": 27,
        "start_time": "2023-07-19T11:08:15.628Z"
      },
      {
        "duration": 31,
        "start_time": "2023-07-19T11:08:15.656Z"
      },
      {
        "duration": 122,
        "start_time": "2023-07-19T11:08:15.688Z"
      },
      {
        "duration": 8,
        "start_time": "2023-07-19T11:08:15.811Z"
      },
      {
        "duration": 11,
        "start_time": "2023-07-19T11:08:15.821Z"
      },
      {
        "duration": 137,
        "start_time": "2023-07-19T11:08:15.833Z"
      },
      {
        "duration": 719,
        "start_time": "2023-07-19T11:08:15.971Z"
      },
      {
        "duration": 478,
        "start_time": "2023-07-19T11:08:16.691Z"
      },
      {
        "duration": 145,
        "start_time": "2023-07-19T11:08:17.170Z"
      },
      {
        "duration": 226,
        "start_time": "2023-07-19T11:08:17.316Z"
      },
      {
        "duration": 24159,
        "start_time": "2023-07-19T11:08:17.544Z"
      },
      {
        "duration": 95,
        "start_time": "2023-07-19T11:08:41.705Z"
      },
      {
        "duration": 448,
        "start_time": "2023-07-19T11:08:41.802Z"
      },
      {
        "duration": 66,
        "start_time": "2023-07-19T11:08:42.252Z"
      },
      {
        "duration": 16,
        "start_time": "2023-07-19T11:08:42.319Z"
      },
      {
        "duration": 66,
        "start_time": "2023-07-19T11:08:42.336Z"
      },
      {
        "duration": 249,
        "start_time": "2023-07-19T11:08:42.404Z"
      },
      {
        "duration": 30,
        "start_time": "2023-07-19T11:08:42.655Z"
      },
      {
        "duration": 1389,
        "start_time": "2023-07-19T11:09:16.941Z"
      },
      {
        "duration": 731,
        "start_time": "2023-07-19T11:09:18.332Z"
      },
      {
        "duration": 24,
        "start_time": "2023-07-19T11:09:19.065Z"
      },
      {
        "duration": 142,
        "start_time": "2023-07-19T11:09:19.111Z"
      },
      {
        "duration": 92,
        "start_time": "2023-07-19T11:09:19.254Z"
      },
      {
        "duration": 57,
        "start_time": "2023-07-19T11:09:19.348Z"
      },
      {
        "duration": 279,
        "start_time": "2023-07-19T11:09:19.411Z"
      },
      {
        "duration": 94,
        "start_time": "2023-07-19T11:09:19.692Z"
      },
      {
        "duration": 499,
        "start_time": "2023-07-19T11:09:19.788Z"
      },
      {
        "duration": 26,
        "start_time": "2023-07-19T11:09:20.290Z"
      },
      {
        "duration": 130,
        "start_time": "2023-07-19T11:09:20.317Z"
      },
      {
        "duration": 172,
        "start_time": "2023-07-19T11:09:20.449Z"
      },
      {
        "duration": 18,
        "start_time": "2023-07-19T11:09:20.623Z"
      },
      {
        "duration": 175,
        "start_time": "2023-07-19T11:09:20.643Z"
      },
      {
        "duration": 16,
        "start_time": "2023-07-19T11:09:20.820Z"
      },
      {
        "duration": 216,
        "start_time": "2023-07-19T11:09:20.838Z"
      },
      {
        "duration": 32,
        "start_time": "2023-07-19T11:09:21.056Z"
      },
      {
        "duration": 146,
        "start_time": "2023-07-19T11:09:21.089Z"
      },
      {
        "duration": 19,
        "start_time": "2023-07-19T11:09:21.237Z"
      },
      {
        "duration": 30,
        "start_time": "2023-07-19T11:09:21.258Z"
      },
      {
        "duration": 268,
        "start_time": "2023-07-19T11:09:21.290Z"
      },
      {
        "duration": 132,
        "start_time": "2023-07-19T11:09:21.560Z"
      },
      {
        "duration": 30,
        "start_time": "2023-07-19T11:09:21.694Z"
      },
      {
        "duration": 139,
        "start_time": "2023-07-19T11:09:21.726Z"
      },
      {
        "duration": 7,
        "start_time": "2023-07-19T11:09:21.866Z"
      },
      {
        "duration": 13,
        "start_time": "2023-07-19T11:09:21.874Z"
      },
      {
        "duration": 34,
        "start_time": "2023-07-19T11:09:21.899Z"
      },
      {
        "duration": 25,
        "start_time": "2023-07-19T11:09:21.936Z"
      },
      {
        "duration": 27,
        "start_time": "2023-07-19T11:09:21.962Z"
      },
      {
        "duration": 35,
        "start_time": "2023-07-19T11:09:21.990Z"
      },
      {
        "duration": 87,
        "start_time": "2023-07-19T11:09:22.027Z"
      },
      {
        "duration": 7,
        "start_time": "2023-07-19T11:09:22.116Z"
      },
      {
        "duration": 16,
        "start_time": "2023-07-19T11:09:22.124Z"
      },
      {
        "duration": 136,
        "start_time": "2023-07-19T11:09:22.142Z"
      },
      {
        "duration": 707,
        "start_time": "2023-07-19T11:09:22.279Z"
      },
      {
        "duration": 500,
        "start_time": "2023-07-19T11:09:22.987Z"
      },
      {
        "duration": 156,
        "start_time": "2023-07-19T11:09:23.489Z"
      },
      {
        "duration": 227,
        "start_time": "2023-07-19T11:09:23.646Z"
      },
      {
        "duration": 1523,
        "start_time": "2023-07-19T11:09:58.049Z"
      },
      {
        "duration": 736,
        "start_time": "2023-07-19T11:09:59.574Z"
      },
      {
        "duration": 24,
        "start_time": "2023-07-19T11:10:00.311Z"
      },
      {
        "duration": 138,
        "start_time": "2023-07-19T11:10:00.337Z"
      },
      {
        "duration": 98,
        "start_time": "2023-07-19T11:10:00.476Z"
      },
      {
        "duration": 55,
        "start_time": "2023-07-19T11:10:00.576Z"
      },
      {
        "duration": 263,
        "start_time": "2023-07-19T11:10:00.632Z"
      },
      {
        "duration": 82,
        "start_time": "2023-07-19T11:10:00.896Z"
      },
      {
        "duration": 475,
        "start_time": "2023-07-19T11:10:00.979Z"
      },
      {
        "duration": 11,
        "start_time": "2023-07-19T11:10:01.456Z"
      },
      {
        "duration": 142,
        "start_time": "2023-07-19T11:10:01.468Z"
      },
      {
        "duration": 163,
        "start_time": "2023-07-19T11:10:01.611Z"
      },
      {
        "duration": 34,
        "start_time": "2023-07-19T11:10:01.776Z"
      },
      {
        "duration": 174,
        "start_time": "2023-07-19T11:10:01.813Z"
      },
      {
        "duration": 24,
        "start_time": "2023-07-19T11:10:01.989Z"
      },
      {
        "duration": 220,
        "start_time": "2023-07-19T11:10:02.015Z"
      },
      {
        "duration": 31,
        "start_time": "2023-07-19T11:10:02.236Z"
      },
      {
        "duration": 140,
        "start_time": "2023-07-19T11:10:02.269Z"
      },
      {
        "duration": 20,
        "start_time": "2023-07-19T11:10:02.411Z"
      },
      {
        "duration": 129,
        "start_time": "2023-07-19T11:10:02.432Z"
      },
      {
        "duration": 293,
        "start_time": "2023-07-19T11:10:02.562Z"
      },
      {
        "duration": 131,
        "start_time": "2023-07-19T11:10:02.856Z"
      },
      {
        "duration": 28,
        "start_time": "2023-07-19T11:10:02.989Z"
      },
      {
        "duration": 146,
        "start_time": "2023-07-19T11:10:03.018Z"
      },
      {
        "duration": 8,
        "start_time": "2023-07-19T11:10:03.166Z"
      },
      {
        "duration": 25,
        "start_time": "2023-07-19T11:10:03.176Z"
      },
      {
        "duration": 29,
        "start_time": "2023-07-19T11:10:03.210Z"
      },
      {
        "duration": 41,
        "start_time": "2023-07-19T11:10:03.241Z"
      },
      {
        "duration": 41,
        "start_time": "2023-07-19T11:10:03.283Z"
      },
      {
        "duration": 18,
        "start_time": "2023-07-19T11:10:03.326Z"
      },
      {
        "duration": 82,
        "start_time": "2023-07-19T11:10:03.345Z"
      },
      {
        "duration": 7,
        "start_time": "2023-07-19T11:10:03.428Z"
      },
      {
        "duration": 13,
        "start_time": "2023-07-19T11:10:03.436Z"
      },
      {
        "duration": 147,
        "start_time": "2023-07-19T11:10:03.451Z"
      },
      {
        "duration": 714,
        "start_time": "2023-07-19T11:10:03.600Z"
      },
      {
        "duration": 120,
        "start_time": "2023-07-19T11:10:04.316Z"
      },
      {
        "duration": 0,
        "start_time": "2023-07-19T11:10:04.437Z"
      },
      {
        "duration": 0,
        "start_time": "2023-07-19T11:10:04.438Z"
      },
      {
        "duration": 0,
        "start_time": "2023-07-19T11:10:04.439Z"
      },
      {
        "duration": 0,
        "start_time": "2023-07-19T11:10:04.440Z"
      },
      {
        "duration": 0,
        "start_time": "2023-07-19T11:10:04.441Z"
      },
      {
        "duration": 3,
        "start_time": "2023-07-19T11:10:50.416Z"
      },
      {
        "duration": 159,
        "start_time": "2023-07-19T11:10:50.949Z"
      },
      {
        "duration": 20,
        "start_time": "2023-07-19T11:10:51.743Z"
      },
      {
        "duration": 6,
        "start_time": "2023-07-19T11:10:54.326Z"
      },
      {
        "duration": 8,
        "start_time": "2023-07-19T11:10:54.990Z"
      },
      {
        "duration": 28,
        "start_time": "2023-07-19T11:11:15.842Z"
      },
      {
        "duration": 3,
        "start_time": "2023-07-19T11:11:16.862Z"
      },
      {
        "duration": 4,
        "start_time": "2023-07-19T11:11:19.081Z"
      },
      {
        "duration": 147106,
        "start_time": "2023-07-19T11:11:19.714Z"
      },
      {
        "duration": 807,
        "start_time": "2023-07-19T11:14:14.815Z"
      },
      {
        "duration": 4,
        "start_time": "2023-07-19T11:14:26.781Z"
      },
      {
        "duration": 103,
        "start_time": "2023-07-19T11:19:41.628Z"
      },
      {
        "duration": 3,
        "start_time": "2023-07-19T11:20:06.518Z"
      },
      {
        "duration": 6668,
        "start_time": "2023-07-19T11:20:17.751Z"
      },
      {
        "duration": 3,
        "start_time": "2023-07-19T11:20:36.513Z"
      },
      {
        "duration": 258213,
        "start_time": "2023-07-19T11:20:40.260Z"
      },
      {
        "duration": 3,
        "start_time": "2023-07-19T11:44:31.650Z"
      },
      {
        "duration": 713,
        "start_time": "2023-07-19T11:44:31.655Z"
      },
      {
        "duration": 22,
        "start_time": "2023-07-19T11:44:32.369Z"
      },
      {
        "duration": 125,
        "start_time": "2023-07-19T11:44:32.400Z"
      },
      {
        "duration": 86,
        "start_time": "2023-07-19T11:44:32.527Z"
      },
      {
        "duration": 17,
        "start_time": "2023-07-19T11:44:32.614Z"
      },
      {
        "duration": 235,
        "start_time": "2023-07-19T11:44:32.633Z"
      },
      {
        "duration": 77,
        "start_time": "2023-07-19T11:44:32.869Z"
      },
      {
        "duration": 444,
        "start_time": "2023-07-19T11:44:32.947Z"
      },
      {
        "duration": 15,
        "start_time": "2023-07-19T11:44:33.393Z"
      },
      {
        "duration": 44,
        "start_time": "2023-07-19T11:44:33.410Z"
      },
      {
        "duration": 240,
        "start_time": "2023-07-19T11:44:33.456Z"
      },
      {
        "duration": 19,
        "start_time": "2023-07-19T11:44:33.702Z"
      },
      {
        "duration": 141,
        "start_time": "2023-07-19T11:44:33.723Z"
      },
      {
        "duration": 16,
        "start_time": "2023-07-19T11:44:33.865Z"
      },
      {
        "duration": 207,
        "start_time": "2023-07-19T11:44:33.882Z"
      },
      {
        "duration": 32,
        "start_time": "2023-07-19T11:44:34.090Z"
      },
      {
        "duration": 114,
        "start_time": "2023-07-19T11:44:34.124Z"
      },
      {
        "duration": 17,
        "start_time": "2023-07-19T11:44:34.239Z"
      },
      {
        "duration": 15,
        "start_time": "2023-07-19T11:44:34.257Z"
      },
      {
        "duration": 231,
        "start_time": "2023-07-19T11:44:34.274Z"
      },
      {
        "duration": 116,
        "start_time": "2023-07-19T11:44:34.506Z"
      },
      {
        "duration": 27,
        "start_time": "2023-07-19T11:44:34.624Z"
      },
      {
        "duration": 136,
        "start_time": "2023-07-19T11:44:34.653Z"
      },
      {
        "duration": 10,
        "start_time": "2023-07-19T11:44:34.790Z"
      },
      {
        "duration": 13,
        "start_time": "2023-07-19T11:44:34.801Z"
      },
      {
        "duration": 36,
        "start_time": "2023-07-19T11:44:34.815Z"
      },
      {
        "duration": 16,
        "start_time": "2023-07-19T11:44:34.852Z"
      },
      {
        "duration": 47,
        "start_time": "2023-07-19T11:44:34.870Z"
      },
      {
        "duration": 43,
        "start_time": "2023-07-19T11:44:34.918Z"
      },
      {
        "duration": 97,
        "start_time": "2023-07-19T11:44:34.962Z"
      },
      {
        "duration": 7,
        "start_time": "2023-07-19T11:44:35.060Z"
      },
      {
        "duration": 37,
        "start_time": "2023-07-19T11:44:35.068Z"
      },
      {
        "duration": 127,
        "start_time": "2023-07-19T11:44:35.106Z"
      },
      {
        "duration": 693,
        "start_time": "2023-07-19T11:44:35.235Z"
      },
      {
        "duration": 3,
        "start_time": "2023-07-19T11:44:35.929Z"
      },
      {
        "duration": 173,
        "start_time": "2023-07-19T11:44:35.935Z"
      },
      {
        "duration": 18,
        "start_time": "2023-07-19T11:44:36.110Z"
      },
      {
        "duration": 5,
        "start_time": "2023-07-19T11:44:36.129Z"
      },
      {
        "duration": 50,
        "start_time": "2023-07-19T11:44:36.136Z"
      },
      {
        "duration": 2,
        "start_time": "2023-07-19T11:44:36.187Z"
      },
      {
        "duration": 23,
        "start_time": "2023-07-19T11:44:36.191Z"
      },
      {
        "duration": 8390,
        "start_time": "2023-07-19T11:44:36.215Z"
      },
      {
        "duration": 817,
        "start_time": "2023-07-19T11:44:44.699Z"
      },
      {
        "duration": 82,
        "start_time": "2023-07-19T11:44:45.518Z"
      },
      {
        "duration": 417,
        "start_time": "2023-07-19T11:44:45.601Z"
      },
      {
        "duration": 132,
        "start_time": "2023-07-19T11:44:46.020Z"
      },
      {
        "duration": 4,
        "start_time": "2023-07-19T11:44:46.154Z"
      },
      {
        "duration": 259471,
        "start_time": "2023-07-19T11:44:46.159Z"
      },
      {
        "duration": 601,
        "start_time": "2023-07-19T11:49:05.632Z"
      },
      {
        "duration": 365,
        "start_time": "2023-07-19T11:49:06.236Z"
      },
      {
        "duration": 10,
        "start_time": "2023-07-19T11:52:22.045Z"
      },
      {
        "duration": 3,
        "start_time": "2023-07-19T11:52:47.558Z"
      },
      {
        "duration": 40028,
        "start_time": "2023-07-19T11:53:02.114Z"
      },
      {
        "duration": 3,
        "start_time": "2023-07-19T11:57:21.085Z"
      },
      {
        "duration": 10,
        "start_time": "2023-07-19T11:57:21.982Z"
      },
      {
        "duration": 3,
        "start_time": "2023-07-19T11:57:54.347Z"
      },
      {
        "duration": 1392,
        "start_time": "2023-07-19T13:11:58.694Z"
      },
      {
        "duration": 735,
        "start_time": "2023-07-19T13:12:00.088Z"
      },
      {
        "duration": 22,
        "start_time": "2023-07-19T13:12:00.825Z"
      },
      {
        "duration": 192,
        "start_time": "2023-07-19T13:12:00.848Z"
      },
      {
        "duration": 90,
        "start_time": "2023-07-19T13:12:01.042Z"
      },
      {
        "duration": 57,
        "start_time": "2023-07-19T13:12:01.134Z"
      },
      {
        "duration": 308,
        "start_time": "2023-07-19T13:12:01.192Z"
      },
      {
        "duration": 74,
        "start_time": "2023-07-19T13:12:01.502Z"
      },
      {
        "duration": 523,
        "start_time": "2023-07-19T13:12:01.578Z"
      },
      {
        "duration": 12,
        "start_time": "2023-07-19T13:12:02.103Z"
      },
      {
        "duration": 148,
        "start_time": "2023-07-19T13:12:02.116Z"
      },
      {
        "duration": 275,
        "start_time": "2023-07-19T13:12:02.265Z"
      },
      {
        "duration": 20,
        "start_time": "2023-07-19T13:12:02.541Z"
      },
      {
        "duration": 217,
        "start_time": "2023-07-19T13:12:02.564Z"
      },
      {
        "duration": 18,
        "start_time": "2023-07-19T13:12:02.782Z"
      },
      {
        "duration": 253,
        "start_time": "2023-07-19T13:12:02.802Z"
      },
      {
        "duration": 43,
        "start_time": "2023-07-19T13:12:03.056Z"
      },
      {
        "duration": 107,
        "start_time": "2023-07-19T13:12:03.101Z"
      },
      {
        "duration": 17,
        "start_time": "2023-07-19T13:12:03.209Z"
      },
      {
        "duration": 46,
        "start_time": "2023-07-19T13:12:03.228Z"
      },
      {
        "duration": 243,
        "start_time": "2023-07-19T13:12:03.276Z"
      },
      {
        "duration": 119,
        "start_time": "2023-07-19T13:12:03.521Z"
      },
      {
        "duration": 28,
        "start_time": "2023-07-19T13:12:03.642Z"
      },
      {
        "duration": 138,
        "start_time": "2023-07-19T13:12:03.672Z"
      },
      {
        "duration": 7,
        "start_time": "2023-07-19T13:12:03.811Z"
      },
      {
        "duration": 30,
        "start_time": "2023-07-19T13:12:03.820Z"
      },
      {
        "duration": 43,
        "start_time": "2023-07-19T13:12:03.851Z"
      },
      {
        "duration": 28,
        "start_time": "2023-07-19T13:12:03.895Z"
      },
      {
        "duration": 37,
        "start_time": "2023-07-19T13:12:03.924Z"
      },
      {
        "duration": 18,
        "start_time": "2023-07-19T13:12:03.962Z"
      },
      {
        "duration": 95,
        "start_time": "2023-07-19T13:12:03.982Z"
      },
      {
        "duration": 6,
        "start_time": "2023-07-19T13:12:04.079Z"
      },
      {
        "duration": 25,
        "start_time": "2023-07-19T13:12:04.087Z"
      },
      {
        "duration": 108,
        "start_time": "2023-07-19T13:12:04.114Z"
      },
      {
        "duration": 737,
        "start_time": "2023-07-19T13:12:04.223Z"
      },
      {
        "duration": 520,
        "start_time": "2023-07-19T13:12:04.962Z"
      },
      {
        "duration": 155,
        "start_time": "2023-07-19T13:12:05.484Z"
      },
      {
        "duration": 266,
        "start_time": "2023-07-19T13:12:05.640Z"
      },
      {
        "duration": 27598,
        "start_time": "2023-07-19T13:12:05.908Z"
      },
      {
        "duration": 93,
        "start_time": "2023-07-19T13:12:33.508Z"
      },
      {
        "duration": 338,
        "start_time": "2023-07-19T13:12:33.604Z"
      },
      {
        "duration": 2,
        "start_time": "2023-07-19T13:12:33.944Z"
      },
      {
        "duration": 166,
        "start_time": "2023-07-19T13:12:33.947Z"
      },
      {
        "duration": 6,
        "start_time": "2023-07-19T13:12:34.115Z"
      },
      {
        "duration": 38,
        "start_time": "2023-07-19T13:12:34.122Z"
      },
      {
        "duration": 3,
        "start_time": "2023-07-19T13:12:34.162Z"
      },
      {
        "duration": 27,
        "start_time": "2023-07-19T13:12:34.167Z"
      },
      {
        "duration": 29412,
        "start_time": "2023-07-19T13:12:34.195Z"
      },
      {
        "duration": 1091,
        "start_time": "2023-07-19T13:13:03.609Z"
      },
      {
        "duration": 4,
        "start_time": "2023-07-19T13:13:04.702Z"
      },
      {
        "duration": 401,
        "start_time": "2023-07-19T13:13:04.707Z"
      },
      {
        "duration": 124,
        "start_time": "2023-07-19T13:13:05.109Z"
      },
      {
        "duration": 35,
        "start_time": "2023-07-19T13:13:05.235Z"
      },
      {
        "duration": 258499,
        "start_time": "2023-07-19T13:13:05.272Z"
      },
      {
        "duration": 565,
        "start_time": "2023-07-19T13:17:23.773Z"
      },
      {
        "duration": 326,
        "start_time": "2023-07-19T13:17:24.340Z"
      },
      {
        "duration": 272,
        "start_time": "2023-07-19T13:18:24.172Z"
      },
      {
        "duration": 26,
        "start_time": "2023-07-19T13:19:40.411Z"
      },
      {
        "duration": 88,
        "start_time": "2023-07-19T13:20:20.363Z"
      },
      {
        "duration": 216,
        "start_time": "2023-07-19T13:20:20.453Z"
      },
      {
        "duration": 382086,
        "start_time": "2023-07-19T13:20:31.872Z"
      },
      {
        "duration": 0,
        "start_time": "2023-07-19T13:26:53.960Z"
      },
      {
        "duration": 0,
        "start_time": "2023-07-19T13:26:53.960Z"
      },
      {
        "duration": 364,
        "start_time": "2023-07-19T13:30:51.205Z"
      },
      {
        "duration": 152,
        "start_time": "2023-07-19T13:30:51.571Z"
      },
      {
        "duration": 231,
        "start_time": "2023-07-19T13:30:52.079Z"
      },
      {
        "duration": 217,
        "start_time": "2023-07-19T13:30:53.340Z"
      },
      {
        "duration": 363,
        "start_time": "2023-07-19T13:31:02.120Z"
      },
      {
        "duration": 138,
        "start_time": "2023-07-19T13:31:03.015Z"
      },
      {
        "duration": 204,
        "start_time": "2023-07-19T13:31:03.762Z"
      },
      {
        "duration": 218,
        "start_time": "2023-07-19T13:31:04.440Z"
      },
      {
        "duration": 80,
        "start_time": "2023-07-19T13:31:33.585Z"
      },
      {
        "duration": 214,
        "start_time": "2023-07-19T13:31:34.599Z"
      },
      {
        "duration": 73,
        "start_time": "2023-07-19T13:31:35.044Z"
      },
      {
        "duration": 15499,
        "start_time": "2023-07-19T13:31:58.644Z"
      },
      {
        "duration": 3,
        "start_time": "2023-07-19T13:32:24.629Z"
      },
      {
        "duration": 701,
        "start_time": "2023-07-19T13:32:24.634Z"
      },
      {
        "duration": 21,
        "start_time": "2023-07-19T13:32:25.337Z"
      },
      {
        "duration": 181,
        "start_time": "2023-07-19T13:32:25.359Z"
      },
      {
        "duration": 104,
        "start_time": "2023-07-19T13:32:25.542Z"
      },
      {
        "duration": 45,
        "start_time": "2023-07-19T13:32:25.647Z"
      },
      {
        "duration": 243,
        "start_time": "2023-07-19T13:32:25.699Z"
      },
      {
        "duration": 94,
        "start_time": "2023-07-19T13:32:25.943Z"
      },
      {
        "duration": 509,
        "start_time": "2023-07-19T13:32:26.039Z"
      },
      {
        "duration": 12,
        "start_time": "2023-07-19T13:32:26.549Z"
      },
      {
        "duration": 55,
        "start_time": "2023-07-19T13:32:26.563Z"
      },
      {
        "duration": 172,
        "start_time": "2023-07-19T13:32:26.620Z"
      },
      {
        "duration": 20,
        "start_time": "2023-07-19T13:32:26.793Z"
      },
      {
        "duration": 145,
        "start_time": "2023-07-19T13:32:26.814Z"
      },
      {
        "duration": 17,
        "start_time": "2023-07-19T13:32:26.960Z"
      },
      {
        "duration": 219,
        "start_time": "2023-07-19T13:32:26.978Z"
      },
      {
        "duration": 31,
        "start_time": "2023-07-19T13:32:27.199Z"
      },
      {
        "duration": 128,
        "start_time": "2023-07-19T13:32:27.232Z"
      },
      {
        "duration": 24,
        "start_time": "2023-07-19T13:32:27.362Z"
      },
      {
        "duration": 23,
        "start_time": "2023-07-19T13:32:27.387Z"
      },
      {
        "duration": 249,
        "start_time": "2023-07-19T13:32:27.412Z"
      },
      {
        "duration": 122,
        "start_time": "2023-07-19T13:32:27.662Z"
      },
      {
        "duration": 35,
        "start_time": "2023-07-19T13:32:27.786Z"
      },
      {
        "duration": 136,
        "start_time": "2023-07-19T13:32:27.824Z"
      },
      {
        "duration": 7,
        "start_time": "2023-07-19T13:32:27.961Z"
      },
      {
        "duration": 12,
        "start_time": "2023-07-19T13:32:27.969Z"
      },
      {
        "duration": 43,
        "start_time": "2023-07-19T13:32:27.982Z"
      },
      {
        "duration": 27,
        "start_time": "2023-07-19T13:32:28.026Z"
      },
      {
        "duration": 32,
        "start_time": "2023-07-19T13:32:28.056Z"
      },
      {
        "duration": 44,
        "start_time": "2023-07-19T13:32:28.090Z"
      },
      {
        "duration": 94,
        "start_time": "2023-07-19T13:32:28.136Z"
      },
      {
        "duration": 7,
        "start_time": "2023-07-19T13:32:28.232Z"
      },
      {
        "duration": 38,
        "start_time": "2023-07-19T13:32:28.240Z"
      },
      {
        "duration": 146,
        "start_time": "2023-07-19T13:32:28.279Z"
      },
      {
        "duration": 694,
        "start_time": "2023-07-19T13:32:28.427Z"
      },
      {
        "duration": 447,
        "start_time": "2023-07-19T13:32:32.983Z"
      },
      {
        "duration": 145,
        "start_time": "2023-07-19T13:32:38.000Z"
      },
      {
        "duration": 37,
        "start_time": "2023-07-19T13:32:53.360Z"
      },
      {
        "duration": 14040,
        "start_time": "2023-07-19T13:33:20.789Z"
      },
      {
        "duration": 5,
        "start_time": "2023-07-19T13:33:41.243Z"
      },
      {
        "duration": 208,
        "start_time": "2023-07-19T13:33:44.777Z"
      },
      {
        "duration": 295,
        "start_time": "2023-07-19T13:33:55.870Z"
      },
      {
        "duration": 2,
        "start_time": "2023-07-19T13:34:12.291Z"
      },
      {
        "duration": 144,
        "start_time": "2023-07-19T13:34:12.760Z"
      },
      {
        "duration": 7,
        "start_time": "2023-07-19T13:34:14.446Z"
      },
      {
        "duration": 30,
        "start_time": "2023-07-19T13:34:19.866Z"
      },
      {
        "duration": 28,
        "start_time": "2023-07-19T13:34:34.040Z"
      },
      {
        "duration": 20,
        "start_time": "2023-07-19T13:35:00.174Z"
      },
      {
        "duration": 3,
        "start_time": "2023-07-19T13:35:07.705Z"
      },
      {
        "duration": 3,
        "start_time": "2023-07-19T13:35:09.608Z"
      },
      {
        "duration": 174662,
        "start_time": "2023-07-19T13:35:21.051Z"
      },
      {
        "duration": 719,
        "start_time": "2023-07-19T13:38:15.804Z"
      },
      {
        "duration": 4,
        "start_time": "2023-07-19T13:38:16.524Z"
      },
      {
        "duration": 146,
        "start_time": "2023-07-19T13:38:24.886Z"
      },
      {
        "duration": 331,
        "start_time": "2023-07-19T13:38:30.585Z"
      },
      {
        "duration": 110,
        "start_time": "2023-07-19T13:39:11.570Z"
      },
      {
        "duration": 3,
        "start_time": "2023-07-19T13:39:11.911Z"
      },
      {
        "duration": 212899,
        "start_time": "2023-07-19T13:39:16.743Z"
      },
      {
        "duration": 525,
        "start_time": "2023-07-19T13:42:49.643Z"
      },
      {
        "duration": 312,
        "start_time": "2023-07-19T13:42:50.170Z"
      },
      {
        "duration": 25,
        "start_time": "2023-07-19T13:45:39.071Z"
      },
      {
        "duration": 691,
        "start_time": "2023-07-19T13:46:17.835Z"
      },
      {
        "duration": 477,
        "start_time": "2023-07-19T13:46:34.894Z"
      },
      {
        "duration": 477,
        "start_time": "2023-07-19T14:19:08.133Z"
      },
      {
        "duration": 13,
        "start_time": "2023-07-19T14:19:08.612Z"
      },
      {
        "duration": 320,
        "start_time": "2023-07-19T14:19:15.366Z"
      },
      {
        "duration": 32,
        "start_time": "2023-07-19T14:20:01.122Z"
      },
      {
        "duration": 123,
        "start_time": "2023-07-19T14:20:01.379Z"
      },
      {
        "duration": 257,
        "start_time": "2023-07-19T14:20:30.105Z"
      },
      {
        "duration": 9,
        "start_time": "2023-07-19T14:20:40.828Z"
      },
      {
        "duration": 490,
        "start_time": "2023-07-19T14:20:48.455Z"
      },
      {
        "duration": 198,
        "start_time": "2023-07-19T14:20:48.947Z"
      },
      {
        "duration": 325,
        "start_time": "2023-07-19T14:20:54.679Z"
      },
      {
        "duration": 71,
        "start_time": "2023-07-19T14:20:55.006Z"
      },
      {
        "duration": 184,
        "start_time": "2023-07-19T14:20:55.106Z"
      },
      {
        "duration": 74,
        "start_time": "2023-07-19T14:20:55.292Z"
      },
      {
        "duration": 18061,
        "start_time": "2023-07-19T14:20:55.368Z"
      },
      {
        "duration": 8,
        "start_time": "2023-07-19T14:21:13.503Z"
      },
      {
        "duration": 402,
        "start_time": "2023-07-19T14:21:13.513Z"
      },
      {
        "duration": 3,
        "start_time": "2023-07-19T14:21:13.916Z"
      },
      {
        "duration": 13,
        "start_time": "2023-07-19T14:21:13.921Z"
      },
      {
        "duration": 11,
        "start_time": "2023-07-19T14:21:13.935Z"
      },
      {
        "duration": 34,
        "start_time": "2023-07-19T14:21:13.947Z"
      },
      {
        "duration": 16,
        "start_time": "2023-07-19T14:21:13.983Z"
      },
      {
        "duration": 3,
        "start_time": "2023-07-19T14:21:14.001Z"
      },
      {
        "duration": 19,
        "start_time": "2023-07-19T14:21:14.008Z"
      },
      {
        "duration": 329092,
        "start_time": "2023-07-19T14:21:14.029Z"
      },
      {
        "duration": 715,
        "start_time": "2023-07-19T14:26:43.204Z"
      },
      {
        "duration": 4,
        "start_time": "2023-07-19T14:26:44.010Z"
      },
      {
        "duration": 336,
        "start_time": "2023-07-19T14:26:44.016Z"
      },
      {
        "duration": 104,
        "start_time": "2023-07-19T14:26:44.354Z"
      },
      {
        "duration": 13,
        "start_time": "2023-07-19T14:26:44.459Z"
      },
      {
        "duration": 213182,
        "start_time": "2023-07-19T14:26:44.474Z"
      },
      {
        "duration": 507,
        "start_time": "2023-07-19T14:30:17.658Z"
      },
      {
        "duration": 11,
        "start_time": "2023-07-19T14:30:18.167Z"
      },
      {
        "duration": 0,
        "start_time": "2023-07-19T14:30:18.179Z"
      },
      {
        "duration": 0,
        "start_time": "2023-07-19T14:30:18.181Z"
      },
      {
        "duration": 0,
        "start_time": "2023-07-19T14:30:18.182Z"
      },
      {
        "duration": 0,
        "start_time": "2023-07-19T14:30:18.184Z"
      },
      {
        "duration": 0,
        "start_time": "2023-07-19T14:30:18.185Z"
      },
      {
        "duration": 123,
        "start_time": "2023-07-19T14:30:41.691Z"
      },
      {
        "duration": 77,
        "start_time": "2023-07-19T14:30:53.022Z"
      },
      {
        "duration": 282,
        "start_time": "2023-07-19T14:30:53.611Z"
      },
      {
        "duration": 675,
        "start_time": "2023-07-19T14:30:59.940Z"
      },
      {
        "duration": 327,
        "start_time": "2023-07-19T14:31:14.964Z"
      },
      {
        "duration": 487,
        "start_time": "2023-07-19T14:31:17.748Z"
      },
      {
        "duration": 308,
        "start_time": "2023-07-19T14:31:18.237Z"
      },
      {
        "duration": 7,
        "start_time": "2023-07-19T14:31:54.032Z"
      },
      {
        "duration": 4,
        "start_time": "2023-07-19T14:32:45.534Z"
      },
      {
        "duration": 4,
        "start_time": "2023-07-19T14:33:10.450Z"
      },
      {
        "duration": 5,
        "start_time": "2023-07-19T14:33:17.735Z"
      },
      {
        "duration": 8,
        "start_time": "2023-07-19T14:33:58.744Z"
      },
      {
        "duration": 8,
        "start_time": "2023-07-19T14:34:08.454Z"
      },
      {
        "duration": 5,
        "start_time": "2023-07-19T14:36:08.330Z"
      },
      {
        "duration": 7,
        "start_time": "2023-07-19T14:36:32.999Z"
      },
      {
        "duration": 8,
        "start_time": "2023-07-19T14:37:38.915Z"
      },
      {
        "duration": 10,
        "start_time": "2023-07-19T14:38:02.249Z"
      },
      {
        "duration": 8,
        "start_time": "2023-07-19T14:39:27.646Z"
      },
      {
        "duration": 10,
        "start_time": "2023-07-19T14:40:59.002Z"
      },
      {
        "duration": 2,
        "start_time": "2023-07-19T14:41:13.962Z"
      },
      {
        "duration": 191,
        "start_time": "2023-07-19T14:41:14.357Z"
      },
      {
        "duration": 21,
        "start_time": "2023-07-19T14:43:28.715Z"
      },
      {
        "duration": 12,
        "start_time": "2023-07-19T14:43:50.118Z"
      },
      {
        "duration": 4,
        "start_time": "2023-07-19T14:44:00.615Z"
      },
      {
        "duration": 4,
        "start_time": "2023-07-19T14:44:09.831Z"
      },
      {
        "duration": 25,
        "start_time": "2023-07-19T14:44:32.398Z"
      },
      {
        "duration": 6,
        "start_time": "2023-07-19T14:44:41.630Z"
      },
      {
        "duration": 250,
        "start_time": "2023-07-19T14:44:49.231Z"
      },
      {
        "duration": 258,
        "start_time": "2023-07-19T14:45:00.499Z"
      },
      {
        "duration": 335,
        "start_time": "2023-07-19T14:45:17.999Z"
      },
      {
        "duration": 187,
        "start_time": "2023-07-19T14:45:24.591Z"
      },
      {
        "duration": 156,
        "start_time": "2023-07-19T14:56:27.848Z"
      },
      {
        "duration": 3,
        "start_time": "2023-07-19T15:04:33.147Z"
      },
      {
        "duration": 760,
        "start_time": "2023-07-19T15:04:33.300Z"
      },
      {
        "duration": 20,
        "start_time": "2023-07-19T15:04:34.061Z"
      },
      {
        "duration": 187,
        "start_time": "2023-07-19T15:04:34.082Z"
      },
      {
        "duration": 89,
        "start_time": "2023-07-19T15:04:34.272Z"
      },
      {
        "duration": 18,
        "start_time": "2023-07-19T15:04:34.363Z"
      },
      {
        "duration": 235,
        "start_time": "2023-07-19T15:04:34.726Z"
      },
      {
        "duration": 109,
        "start_time": "2023-07-19T15:04:35.129Z"
      },
      {
        "duration": 501,
        "start_time": "2023-07-19T15:04:38.299Z"
      },
      {
        "duration": 12,
        "start_time": "2023-07-19T15:04:38.802Z"
      },
      {
        "duration": 39,
        "start_time": "2023-07-19T15:04:39.578Z"
      },
      {
        "duration": 165,
        "start_time": "2023-07-19T15:04:40.531Z"
      },
      {
        "duration": 16,
        "start_time": "2023-07-19T15:04:42.678Z"
      },
      {
        "duration": 11,
        "start_time": "2023-07-19T15:05:30.155Z"
      },
      {
        "duration": 183,
        "start_time": "2023-07-19T15:05:38.991Z"
      },
      {
        "duration": 1654,
        "start_time": "2023-07-19T19:28:38.220Z"
      },
      {
        "duration": 3175,
        "start_time": "2023-07-19T19:28:39.877Z"
      },
      {
        "duration": 28,
        "start_time": "2023-07-19T19:28:43.054Z"
      },
      {
        "duration": 127,
        "start_time": "2023-07-19T19:28:43.084Z"
      },
      {
        "duration": 146,
        "start_time": "2023-07-19T19:28:43.213Z"
      },
      {
        "duration": 52,
        "start_time": "2023-07-19T19:28:43.361Z"
      },
      {
        "duration": 309,
        "start_time": "2023-07-19T19:28:43.415Z"
      },
      {
        "duration": 75,
        "start_time": "2023-07-19T19:28:43.726Z"
      },
      {
        "duration": 583,
        "start_time": "2023-07-19T19:28:47.331Z"
      },
      {
        "duration": 16,
        "start_time": "2023-07-19T19:28:49.238Z"
      },
      {
        "duration": 52,
        "start_time": "2023-07-19T19:29:39.628Z"
      },
      {
        "duration": 167,
        "start_time": "2023-07-19T19:29:41.661Z"
      },
      {
        "duration": 17,
        "start_time": "2023-07-19T19:29:50.203Z"
      },
      {
        "duration": 149,
        "start_time": "2023-07-19T19:29:51.997Z"
      },
      {
        "duration": 130,
        "start_time": "2023-07-19T19:34:10.045Z"
      },
      {
        "duration": 183,
        "start_time": "2023-07-19T19:34:15.507Z"
      },
      {
        "duration": 25,
        "start_time": "2023-07-19T19:34:30.902Z"
      },
      {
        "duration": 18,
        "start_time": "2023-07-19T19:34:43.946Z"
      },
      {
        "duration": 16,
        "start_time": "2023-07-19T19:34:47.398Z"
      },
      {
        "duration": 13,
        "start_time": "2023-07-19T19:34:52.243Z"
      },
      {
        "duration": 11,
        "start_time": "2023-07-19T19:34:55.361Z"
      },
      {
        "duration": 18,
        "start_time": "2023-07-19T19:35:40.675Z"
      },
      {
        "duration": 17,
        "start_time": "2023-07-19T19:35:51.136Z"
      },
      {
        "duration": 11,
        "start_time": "2023-07-19T19:35:56.417Z"
      },
      {
        "duration": 11,
        "start_time": "2023-07-19T19:36:06.220Z"
      },
      {
        "duration": 17,
        "start_time": "2023-07-19T19:40:15.695Z"
      },
      {
        "duration": 15,
        "start_time": "2023-07-19T19:41:23.244Z"
      },
      {
        "duration": 11,
        "start_time": "2023-07-19T19:41:37.395Z"
      },
      {
        "duration": 15,
        "start_time": "2023-07-19T19:41:44.832Z"
      },
      {
        "duration": 8,
        "start_time": "2023-07-19T19:41:48.805Z"
      },
      {
        "duration": 9,
        "start_time": "2023-07-19T19:41:52.503Z"
      },
      {
        "duration": 11,
        "start_time": "2023-07-19T19:41:58.111Z"
      },
      {
        "duration": 15,
        "start_time": "2023-07-19T19:42:12.125Z"
      },
      {
        "duration": 11,
        "start_time": "2023-07-19T19:42:19.801Z"
      },
      {
        "duration": 11,
        "start_time": "2023-07-19T19:43:58.433Z"
      },
      {
        "duration": 11,
        "start_time": "2023-07-19T19:44:08.749Z"
      },
      {
        "duration": 19,
        "start_time": "2023-07-19T19:44:29.281Z"
      },
      {
        "duration": 20,
        "start_time": "2023-07-19T19:44:34.226Z"
      },
      {
        "duration": 11,
        "start_time": "2023-07-19T19:44:37.337Z"
      },
      {
        "duration": 9,
        "start_time": "2023-07-19T19:47:06.820Z"
      },
      {
        "duration": 9,
        "start_time": "2023-07-19T19:48:23.589Z"
      },
      {
        "duration": 9,
        "start_time": "2023-07-19T19:48:38.034Z"
      },
      {
        "duration": 19,
        "start_time": "2023-07-19T19:49:44.356Z"
      },
      {
        "duration": 10,
        "start_time": "2023-07-19T19:50:03.450Z"
      },
      {
        "duration": 14,
        "start_time": "2023-07-19T19:52:06.876Z"
      },
      {
        "duration": 7,
        "start_time": "2023-07-19T19:53:02.771Z"
      },
      {
        "duration": 9,
        "start_time": "2023-07-19T19:53:12.782Z"
      },
      {
        "duration": 9,
        "start_time": "2023-07-19T19:53:20.899Z"
      },
      {
        "duration": 10,
        "start_time": "2023-07-19T19:53:39.465Z"
      },
      {
        "duration": 10,
        "start_time": "2023-07-19T19:54:55.589Z"
      },
      {
        "duration": 126,
        "start_time": "2023-07-19T19:56:47.417Z"
      },
      {
        "duration": 14,
        "start_time": "2023-07-19T19:56:52.265Z"
      },
      {
        "duration": 14,
        "start_time": "2023-07-19T19:57:16.181Z"
      },
      {
        "duration": 3,
        "start_time": "2023-07-19T20:01:50.513Z"
      },
      {
        "duration": 38,
        "start_time": "2023-07-19T20:02:16.067Z"
      },
      {
        "duration": 65,
        "start_time": "2023-07-19T20:02:21.181Z"
      },
      {
        "duration": 30,
        "start_time": "2023-07-19T20:02:36.985Z"
      },
      {
        "duration": 32,
        "start_time": "2023-07-19T20:02:48.986Z"
      },
      {
        "duration": 37,
        "start_time": "2023-07-19T20:02:49.651Z"
      },
      {
        "duration": 43,
        "start_time": "2023-07-19T20:03:05.729Z"
      },
      {
        "duration": 121,
        "start_time": "2023-07-19T20:03:07.427Z"
      },
      {
        "duration": 165,
        "start_time": "2023-07-19T20:04:32.160Z"
      },
      {
        "duration": 28,
        "start_time": "2023-07-19T20:04:32.613Z"
      },
      {
        "duration": 27,
        "start_time": "2023-07-19T20:04:33.336Z"
      },
      {
        "duration": 328,
        "start_time": "2023-07-19T20:04:33.860Z"
      },
      {
        "duration": 175,
        "start_time": "2023-07-19T20:04:35.922Z"
      },
      {
        "duration": 33,
        "start_time": "2023-07-19T20:04:38.911Z"
      },
      {
        "duration": 147,
        "start_time": "2023-07-19T20:04:39.629Z"
      },
      {
        "duration": 7,
        "start_time": "2023-07-19T20:04:40.217Z"
      },
      {
        "duration": 17,
        "start_time": "2023-07-19T20:04:40.838Z"
      },
      {
        "duration": 32,
        "start_time": "2023-07-19T20:04:41.676Z"
      },
      {
        "duration": 17,
        "start_time": "2023-07-19T20:04:42.479Z"
      },
      {
        "duration": 31,
        "start_time": "2023-07-19T20:04:43.048Z"
      },
      {
        "duration": 18,
        "start_time": "2023-07-19T20:04:43.510Z"
      },
      {
        "duration": 82,
        "start_time": "2023-07-19T20:04:44.408Z"
      },
      {
        "duration": 7,
        "start_time": "2023-07-19T20:04:45.070Z"
      },
      {
        "duration": 10,
        "start_time": "2023-07-19T20:04:45.990Z"
      },
      {
        "duration": 108,
        "start_time": "2023-07-19T20:04:46.839Z"
      },
      {
        "duration": 782,
        "start_time": "2023-07-19T20:04:47.221Z"
      },
      {
        "duration": 816,
        "start_time": "2023-07-19T20:04:51.855Z"
      },
      {
        "duration": 226,
        "start_time": "2023-07-19T20:04:52.673Z"
      },
      {
        "duration": 358,
        "start_time": "2023-07-19T20:04:52.901Z"
      },
      {
        "duration": 116,
        "start_time": "2023-07-19T20:04:53.261Z"
      },
      {
        "duration": 27190,
        "start_time": "2023-07-19T20:04:53.379Z"
      },
      {
        "duration": 7,
        "start_time": "2023-07-19T20:05:20.660Z"
      },
      {
        "duration": 90,
        "start_time": "2023-07-19T20:05:20.669Z"
      },
      {
        "duration": 150,
        "start_time": "2023-07-19T20:05:20.762Z"
      },
      {
        "duration": 7,
        "start_time": "2023-07-19T20:05:20.914Z"
      },
      {
        "duration": 65,
        "start_time": "2023-07-19T20:05:20.923Z"
      },
      {
        "duration": 18,
        "start_time": "2023-07-19T20:05:20.990Z"
      },
      {
        "duration": 3,
        "start_time": "2023-07-19T20:05:21.010Z"
      },
      {
        "duration": 13,
        "start_time": "2023-07-19T20:05:21.015Z"
      },
      {
        "duration": 149734,
        "start_time": "2023-07-19T20:05:21.031Z"
      },
      {
        "duration": 799,
        "start_time": "2023-07-19T20:07:50.767Z"
      },
      {
        "duration": 3,
        "start_time": "2023-07-19T20:07:51.568Z"
      },
      {
        "duration": 420,
        "start_time": "2023-07-19T20:07:51.573Z"
      },
      {
        "duration": 98,
        "start_time": "2023-07-19T20:07:51.995Z"
      },
      {
        "duration": 23,
        "start_time": "2023-07-19T20:07:52.095Z"
      },
      {
        "duration": 215503,
        "start_time": "2023-07-19T20:07:52.120Z"
      },
      {
        "duration": 614,
        "start_time": "2023-07-19T20:11:27.624Z"
      },
      {
        "duration": 128,
        "start_time": "2023-07-19T20:11:28.240Z"
      },
      {
        "duration": 399,
        "start_time": "2023-07-19T20:11:28.460Z"
      },
      {
        "duration": 722,
        "start_time": "2023-07-19T20:11:28.861Z"
      },
      {
        "duration": 3,
        "start_time": "2023-07-19T20:11:29.585Z"
      },
      {
        "duration": 248,
        "start_time": "2023-07-19T20:11:29.590Z"
      },
      {
        "duration": 3,
        "start_time": "2023-07-19T20:11:29.840Z"
      },
      {
        "duration": 349,
        "start_time": "2023-07-19T20:11:29.844Z"
      },
      {
        "duration": 598,
        "start_time": "2023-07-19T20:11:30.194Z"
      },
      {
        "duration": 466,
        "start_time": "2023-07-19T20:11:30.794Z"
      },
      {
        "duration": 193,
        "start_time": "2023-07-19T20:11:31.262Z"
      },
      {
        "duration": 3,
        "start_time": "2023-07-19T20:13:52.074Z"
      },
      {
        "duration": 742,
        "start_time": "2023-07-19T20:13:52.202Z"
      },
      {
        "duration": 28,
        "start_time": "2023-07-19T20:13:52.946Z"
      },
      {
        "duration": 136,
        "start_time": "2023-07-19T20:13:52.976Z"
      },
      {
        "duration": 96,
        "start_time": "2023-07-19T20:13:53.115Z"
      },
      {
        "duration": 25,
        "start_time": "2023-07-19T20:13:53.213Z"
      },
      {
        "duration": 242,
        "start_time": "2023-07-19T20:13:53.496Z"
      },
      {
        "duration": 79,
        "start_time": "2023-07-19T20:13:54.265Z"
      },
      {
        "duration": 500,
        "start_time": "2023-07-19T20:13:55.539Z"
      },
      {
        "duration": 40,
        "start_time": "2023-07-19T20:16:03.542Z"
      },
      {
        "duration": 1140,
        "start_time": "2023-07-19T20:16:08.095Z"
      },
      {
        "duration": 142,
        "start_time": "2023-07-19T20:16:23.778Z"
      },
      {
        "duration": 172,
        "start_time": "2023-07-19T20:16:32.695Z"
      },
      {
        "duration": 167,
        "start_time": "2023-07-19T20:16:36.303Z"
      },
      {
        "duration": 159,
        "start_time": "2023-07-19T20:16:39.750Z"
      },
      {
        "duration": 20,
        "start_time": "2023-07-19T20:17:49.049Z"
      },
      {
        "duration": 149,
        "start_time": "2023-07-19T20:17:50.424Z"
      },
      {
        "duration": 8,
        "start_time": "2023-07-19T20:17:50.753Z"
      },
      {
        "duration": 136,
        "start_time": "2023-07-19T20:17:51.018Z"
      },
      {
        "duration": 10,
        "start_time": "2023-07-19T20:17:51.345Z"
      },
      {
        "duration": 3,
        "start_time": "2023-07-19T20:17:51.567Z"
      },
      {
        "duration": 10,
        "start_time": "2023-07-19T20:17:52.003Z"
      },
      {
        "duration": 12,
        "start_time": "2023-07-19T20:17:52.203Z"
      },
      {
        "duration": 110,
        "start_time": "2023-07-19T20:17:52.631Z"
      },
      {
        "duration": 7,
        "start_time": "2023-07-19T20:17:52.743Z"
      },
      {
        "duration": 7,
        "start_time": "2023-07-19T20:17:52.964Z"
      },
      {
        "duration": 144,
        "start_time": "2023-07-19T20:17:53.173Z"
      },
      {
        "duration": 138,
        "start_time": "2023-07-19T20:17:53.387Z"
      },
      {
        "duration": 12,
        "start_time": "2023-07-19T20:17:53.773Z"
      },
      {
        "duration": 153,
        "start_time": "2023-07-19T20:17:53.897Z"
      },
      {
        "duration": 8,
        "start_time": "2023-07-19T20:17:54.155Z"
      },
      {
        "duration": 7,
        "start_time": "2023-07-19T20:17:54.353Z"
      },
      {
        "duration": 12,
        "start_time": "2023-07-19T20:17:54.535Z"
      },
      {
        "duration": 11,
        "start_time": "2023-07-19T20:17:54.664Z"
      },
      {
        "duration": 16,
        "start_time": "2023-07-19T20:17:54.886Z"
      },
      {
        "duration": 8,
        "start_time": "2023-07-19T20:17:55.050Z"
      },
      {
        "duration": 29,
        "start_time": "2023-07-19T20:17:55.294Z"
      },
      {
        "duration": 7,
        "start_time": "2023-07-19T20:17:55.444Z"
      },
      {
        "duration": 6,
        "start_time": "2023-07-19T20:17:55.650Z"
      },
      {
        "duration": 34,
        "start_time": "2023-07-19T20:17:55.889Z"
      },
      {
        "duration": 732,
        "start_time": "2023-07-19T20:17:56.092Z"
      },
      {
        "duration": 138,
        "start_time": "2023-07-19T20:17:56.826Z"
      },
      {
        "duration": 4,
        "start_time": "2023-07-19T20:18:18.750Z"
      },
      {
        "duration": 779,
        "start_time": "2023-07-19T20:18:18.756Z"
      },
      {
        "duration": 28,
        "start_time": "2023-07-19T20:18:19.538Z"
      },
      {
        "duration": 118,
        "start_time": "2023-07-19T20:18:19.567Z"
      },
      {
        "duration": 103,
        "start_time": "2023-07-19T20:18:19.687Z"
      },
      {
        "duration": 52,
        "start_time": "2023-07-19T20:18:19.792Z"
      },
      {
        "duration": 263,
        "start_time": "2023-07-19T20:18:19.846Z"
      },
      {
        "duration": 77,
        "start_time": "2023-07-19T20:18:20.111Z"
      },
      {
        "duration": 658,
        "start_time": "2023-07-19T20:18:20.190Z"
      },
      {
        "duration": 24,
        "start_time": "2023-07-19T20:18:20.850Z"
      },
      {
        "duration": 180,
        "start_time": "2023-07-19T20:18:20.877Z"
      },
      {
        "duration": 30,
        "start_time": "2023-07-19T20:18:21.059Z"
      },
      {
        "duration": 188,
        "start_time": "2023-07-19T20:18:21.091Z"
      },
      {
        "duration": 14,
        "start_time": "2023-07-19T20:18:21.281Z"
      },
      {
        "duration": 148,
        "start_time": "2023-07-19T20:18:21.297Z"
      },
      {
        "duration": 20,
        "start_time": "2023-07-19T20:18:21.447Z"
      },
      {
        "duration": 3,
        "start_time": "2023-07-19T20:18:21.469Z"
      },
      {
        "duration": 40,
        "start_time": "2023-07-19T20:18:21.474Z"
      },
      {
        "duration": 43,
        "start_time": "2023-07-19T20:18:21.516Z"
      },
      {
        "duration": 128,
        "start_time": "2023-07-19T20:18:21.561Z"
      },
      {
        "duration": 15,
        "start_time": "2023-07-19T20:18:21.691Z"
      },
      {
        "duration": 14,
        "start_time": "2023-07-19T20:18:21.707Z"
      },
      {
        "duration": 257,
        "start_time": "2023-07-19T20:18:21.723Z"
      },
      {
        "duration": 145,
        "start_time": "2023-07-19T20:18:21.981Z"
      },
      {
        "duration": 40,
        "start_time": "2023-07-19T20:18:22.127Z"
      },
      {
        "duration": 153,
        "start_time": "2023-07-19T20:18:22.169Z"
      },
      {
        "duration": 6,
        "start_time": "2023-07-19T20:18:22.324Z"
      },
      {
        "duration": 10,
        "start_time": "2023-07-19T20:18:22.332Z"
      },
      {
        "duration": 24,
        "start_time": "2023-07-19T20:18:22.361Z"
      },
      {
        "duration": 14,
        "start_time": "2023-07-19T20:18:22.386Z"
      },
      {
        "duration": 26,
        "start_time": "2023-07-19T20:18:22.401Z"
      },
      {
        "duration": 34,
        "start_time": "2023-07-19T20:18:22.429Z"
      },
      {
        "duration": 64,
        "start_time": "2023-07-19T20:18:22.465Z"
      },
      {
        "duration": 6,
        "start_time": "2023-07-19T20:18:22.531Z"
      },
      {
        "duration": 24,
        "start_time": "2023-07-19T20:18:22.538Z"
      },
      {
        "duration": 113,
        "start_time": "2023-07-19T20:18:22.563Z"
      },
      {
        "duration": 758,
        "start_time": "2023-07-19T20:18:22.678Z"
      },
      {
        "duration": 607,
        "start_time": "2023-07-19T20:18:23.438Z"
      },
      {
        "duration": 177,
        "start_time": "2023-07-19T20:18:24.047Z"
      },
      {
        "duration": 290,
        "start_time": "2023-07-19T20:18:24.227Z"
      },
      {
        "duration": 82,
        "start_time": "2023-07-19T20:18:24.518Z"
      },
      {
        "duration": 1489,
        "start_time": "2023-07-19T20:18:50.829Z"
      },
      {
        "duration": 785,
        "start_time": "2023-07-19T20:18:52.320Z"
      },
      {
        "duration": 29,
        "start_time": "2023-07-19T20:18:53.107Z"
      },
      {
        "duration": 123,
        "start_time": "2023-07-19T20:18:53.138Z"
      },
      {
        "duration": 104,
        "start_time": "2023-07-19T20:18:53.263Z"
      },
      {
        "duration": 54,
        "start_time": "2023-07-19T20:18:53.368Z"
      },
      {
        "duration": 294,
        "start_time": "2023-07-19T20:18:53.424Z"
      },
      {
        "duration": 84,
        "start_time": "2023-07-19T20:18:53.720Z"
      },
      {
        "duration": 642,
        "start_time": "2023-07-19T20:18:53.806Z"
      },
      {
        "duration": 22,
        "start_time": "2023-07-19T20:18:54.450Z"
      },
      {
        "duration": 273,
        "start_time": "2023-07-19T20:18:54.474Z"
      },
      {
        "duration": 48,
        "start_time": "2023-07-19T20:18:54.749Z"
      },
      {
        "duration": 166,
        "start_time": "2023-07-19T20:18:54.805Z"
      },
      {
        "duration": 18,
        "start_time": "2023-07-19T20:18:54.975Z"
      },
      {
        "duration": 141,
        "start_time": "2023-07-19T20:18:54.994Z"
      },
      {
        "duration": 23,
        "start_time": "2023-07-19T20:18:55.136Z"
      },
      {
        "duration": 3,
        "start_time": "2023-07-19T20:18:55.160Z"
      },
      {
        "duration": 33,
        "start_time": "2023-07-19T20:18:55.164Z"
      },
      {
        "duration": 35,
        "start_time": "2023-07-19T20:18:55.199Z"
      },
      {
        "duration": 149,
        "start_time": "2023-07-19T20:18:55.236Z"
      },
      {
        "duration": 16,
        "start_time": "2023-07-19T20:18:55.386Z"
      },
      {
        "duration": 27,
        "start_time": "2023-07-19T20:18:55.404Z"
      },
      {
        "duration": 275,
        "start_time": "2023-07-19T20:18:55.433Z"
      },
      {
        "duration": 139,
        "start_time": "2023-07-19T20:18:55.710Z"
      },
      {
        "duration": 34,
        "start_time": "2023-07-19T20:18:55.851Z"
      },
      {
        "duration": 149,
        "start_time": "2023-07-19T20:18:55.887Z"
      },
      {
        "duration": 8,
        "start_time": "2023-07-19T20:18:56.037Z"
      },
      {
        "duration": 26,
        "start_time": "2023-07-19T20:18:56.046Z"
      },
      {
        "duration": 43,
        "start_time": "2023-07-19T20:18:56.074Z"
      },
      {
        "duration": 18,
        "start_time": "2023-07-19T20:18:56.118Z"
      },
      {
        "duration": 39,
        "start_time": "2023-07-19T20:18:56.137Z"
      },
      {
        "duration": 22,
        "start_time": "2023-07-19T20:18:56.178Z"
      },
      {
        "duration": 87,
        "start_time": "2023-07-19T20:18:56.202Z"
      },
      {
        "duration": 7,
        "start_time": "2023-07-19T20:18:56.290Z"
      },
      {
        "duration": 17,
        "start_time": "2023-07-19T20:18:56.298Z"
      },
      {
        "duration": 117,
        "start_time": "2023-07-19T20:18:56.316Z"
      },
      {
        "duration": 749,
        "start_time": "2023-07-19T20:18:56.435Z"
      },
      {
        "duration": 779,
        "start_time": "2023-07-19T20:18:57.187Z"
      },
      {
        "duration": 216,
        "start_time": "2023-07-19T20:18:57.968Z"
      },
      {
        "duration": 337,
        "start_time": "2023-07-19T20:18:58.186Z"
      },
      {
        "duration": 101,
        "start_time": "2023-07-19T20:18:58.528Z"
      },
      {
        "duration": 1808,
        "start_time": "2023-07-20T11:28:05.005Z"
      },
      {
        "duration": 2936,
        "start_time": "2023-07-20T11:28:06.815Z"
      },
      {
        "duration": 35,
        "start_time": "2023-07-20T11:28:09.754Z"
      },
      {
        "duration": 141,
        "start_time": "2023-07-20T11:28:09.792Z"
      },
      {
        "duration": 105,
        "start_time": "2023-07-20T11:28:09.935Z"
      },
      {
        "duration": 52,
        "start_time": "2023-07-20T11:28:10.042Z"
      },
      {
        "duration": 288,
        "start_time": "2023-07-20T11:28:10.095Z"
      },
      {
        "duration": 79,
        "start_time": "2023-07-20T11:28:10.384Z"
      },
      {
        "duration": 574,
        "start_time": "2023-07-20T11:28:10.464Z"
      },
      {
        "duration": 14,
        "start_time": "2023-07-20T11:28:11.041Z"
      },
      {
        "duration": 243,
        "start_time": "2023-07-20T11:28:11.057Z"
      },
      {
        "duration": 48,
        "start_time": "2023-07-20T11:28:11.302Z"
      },
      {
        "duration": 176,
        "start_time": "2023-07-20T11:28:11.352Z"
      },
      {
        "duration": 17,
        "start_time": "2023-07-20T11:28:11.530Z"
      },
      {
        "duration": 142,
        "start_time": "2023-07-20T11:28:11.549Z"
      },
      {
        "duration": 22,
        "start_time": "2023-07-20T11:28:11.693Z"
      },
      {
        "duration": 3,
        "start_time": "2023-07-20T11:28:11.717Z"
      },
      {
        "duration": 38,
        "start_time": "2023-07-20T11:28:11.721Z"
      },
      {
        "duration": 35,
        "start_time": "2023-07-20T11:28:11.761Z"
      },
      {
        "duration": 138,
        "start_time": "2023-07-20T11:28:11.797Z"
      },
      {
        "duration": 18,
        "start_time": "2023-07-20T11:28:11.936Z"
      },
      {
        "duration": 22,
        "start_time": "2023-07-20T11:28:11.956Z"
      },
      {
        "duration": 273,
        "start_time": "2023-07-20T11:28:11.980Z"
      },
      {
        "duration": 172,
        "start_time": "2023-07-20T11:28:12.255Z"
      },
      {
        "duration": 30,
        "start_time": "2023-07-20T11:28:12.429Z"
      },
      {
        "duration": 167,
        "start_time": "2023-07-20T11:28:12.461Z"
      },
      {
        "duration": 7,
        "start_time": "2023-07-20T11:28:12.630Z"
      },
      {
        "duration": 24,
        "start_time": "2023-07-20T11:28:12.641Z"
      },
      {
        "duration": 30,
        "start_time": "2023-07-20T11:28:12.667Z"
      },
      {
        "duration": 32,
        "start_time": "2023-07-20T11:28:12.698Z"
      },
      {
        "duration": 29,
        "start_time": "2023-07-20T11:28:12.732Z"
      },
      {
        "duration": 34,
        "start_time": "2023-07-20T11:28:12.763Z"
      },
      {
        "duration": 91,
        "start_time": "2023-07-20T11:28:12.799Z"
      },
      {
        "duration": 7,
        "start_time": "2023-07-20T11:28:12.892Z"
      },
      {
        "duration": 9,
        "start_time": "2023-07-20T11:28:12.914Z"
      },
      {
        "duration": 143,
        "start_time": "2023-07-20T11:28:12.925Z"
      },
      {
        "duration": 823,
        "start_time": "2023-07-20T11:28:13.070Z"
      },
      {
        "duration": 762,
        "start_time": "2023-07-20T11:28:13.895Z"
      },
      {
        "duration": 206,
        "start_time": "2023-07-20T11:28:14.658Z"
      },
      {
        "duration": 323,
        "start_time": "2023-07-20T11:28:14.865Z"
      },
      {
        "duration": 116,
        "start_time": "2023-07-20T11:28:15.190Z"
      },
      {
        "duration": 18013,
        "start_time": "2023-07-20T11:28:15.307Z"
      },
      {
        "duration": 8,
        "start_time": "2023-07-20T11:28:33.412Z"
      },
      {
        "duration": 28,
        "start_time": "2023-07-20T11:28:33.422Z"
      },
      {
        "duration": 167,
        "start_time": "2023-07-20T11:28:33.452Z"
      },
      {
        "duration": 7,
        "start_time": "2023-07-20T11:28:33.621Z"
      },
      {
        "duration": 44,
        "start_time": "2023-07-20T11:28:33.630Z"
      },
      {
        "duration": 38,
        "start_time": "2023-07-20T11:28:33.676Z"
      },
      {
        "duration": 3,
        "start_time": "2023-07-20T11:28:33.715Z"
      },
      {
        "duration": 8,
        "start_time": "2023-07-20T11:28:33.720Z"
      },
      {
        "duration": 6186,
        "start_time": "2023-07-20T11:28:33.730Z"
      },
      {
        "duration": 712,
        "start_time": "2023-07-20T11:28:39.918Z"
      },
      {
        "duration": 4,
        "start_time": "2023-07-20T11:28:40.713Z"
      },
      {
        "duration": 108,
        "start_time": "2023-07-20T11:28:40.719Z"
      },
      {
        "duration": 33,
        "start_time": "2023-07-20T11:28:40.829Z"
      },
      {
        "duration": 205524,
        "start_time": "2023-07-20T11:28:40.864Z"
      },
      {
        "duration": 575,
        "start_time": "2023-07-20T11:32:06.389Z"
      },
      {
        "duration": 148,
        "start_time": "2023-07-20T11:32:06.966Z"
      },
      {
        "duration": 435,
        "start_time": "2023-07-20T11:32:07.116Z"
      },
      {
        "duration": 767,
        "start_time": "2023-07-20T11:32:07.552Z"
      },
      {
        "duration": 3,
        "start_time": "2023-07-20T11:32:08.321Z"
      },
      {
        "duration": 206,
        "start_time": "2023-07-20T11:32:08.326Z"
      },
      {
        "duration": 3,
        "start_time": "2023-07-20T11:32:08.534Z"
      },
      {
        "duration": 346,
        "start_time": "2023-07-20T11:32:08.539Z"
      },
      {
        "duration": 562,
        "start_time": "2023-07-20T11:32:08.887Z"
      },
      {
        "duration": 370,
        "start_time": "2023-07-20T11:32:09.451Z"
      },
      {
        "duration": 192,
        "start_time": "2023-07-20T11:32:09.823Z"
      },
      {
        "duration": 3180,
        "start_time": "2023-07-20T12:20:40.180Z"
      },
      {
        "duration": 3187,
        "start_time": "2023-07-20T12:21:01.270Z"
      },
      {
        "duration": 3376,
        "start_time": "2023-07-20T12:21:09.052Z"
      },
      {
        "duration": 3382,
        "start_time": "2023-07-20T12:21:21.354Z"
      },
      {
        "duration": 3217,
        "start_time": "2023-07-20T12:21:40.016Z"
      },
      {
        "duration": 8,
        "start_time": "2023-07-20T12:21:59.504Z"
      },
      {
        "duration": 7,
        "start_time": "2023-07-20T12:22:16.714Z"
      },
      {
        "duration": 7,
        "start_time": "2023-07-20T12:22:20.241Z"
      },
      {
        "duration": 5,
        "start_time": "2023-07-20T12:22:37.385Z"
      },
      {
        "duration": 4,
        "start_time": "2023-07-20T12:22:41.982Z"
      },
      {
        "duration": 5,
        "start_time": "2023-07-20T12:22:42.183Z"
      },
      {
        "duration": 4,
        "start_time": "2023-07-20T12:22:56.288Z"
      },
      {
        "duration": 803,
        "start_time": "2023-07-20T12:22:56.443Z"
      },
      {
        "duration": 24,
        "start_time": "2023-07-20T12:22:57.248Z"
      },
      {
        "duration": 124,
        "start_time": "2023-07-20T12:22:57.274Z"
      },
      {
        "duration": 102,
        "start_time": "2023-07-20T12:22:57.400Z"
      },
      {
        "duration": 26,
        "start_time": "2023-07-20T12:22:57.504Z"
      },
      {
        "duration": 267,
        "start_time": "2023-07-20T12:22:57.532Z"
      },
      {
        "duration": 75,
        "start_time": "2023-07-20T12:22:57.839Z"
      },
      {
        "duration": 643,
        "start_time": "2023-07-20T12:22:58.819Z"
      },
      {
        "duration": 18,
        "start_time": "2023-07-20T12:22:59.668Z"
      },
      {
        "duration": 160,
        "start_time": "2023-07-20T12:22:59.959Z"
      },
      {
        "duration": 32,
        "start_time": "2023-07-20T12:23:00.389Z"
      },
      {
        "duration": 173,
        "start_time": "2023-07-20T12:23:01.200Z"
      },
      {
        "duration": 20,
        "start_time": "2023-07-20T12:23:02.203Z"
      },
      {
        "duration": 152,
        "start_time": "2023-07-20T12:23:03.611Z"
      },
      {
        "duration": 14,
        "start_time": "2023-07-20T12:23:08.865Z"
      },
      {
        "duration": 8,
        "start_time": "2023-07-20T12:23:08.881Z"
      },
      {
        "duration": 32,
        "start_time": "2023-07-20T12:23:09.160Z"
      },
      {
        "duration": 29,
        "start_time": "2023-07-20T12:23:09.336Z"
      },
      {
        "duration": 151,
        "start_time": "2023-07-20T12:23:09.759Z"
      },
      {
        "duration": 18,
        "start_time": "2023-07-20T12:23:09.913Z"
      },
      {
        "duration": 17,
        "start_time": "2023-07-20T12:23:10.516Z"
      },
      {
        "duration": 17,
        "start_time": "2023-07-20T12:23:10.982Z"
      },
      {
        "duration": 269,
        "start_time": "2023-07-20T12:23:11.326Z"
      },
      {
        "duration": 15,
        "start_time": "2023-07-20T12:23:24.874Z"
      },
      {
        "duration": 148,
        "start_time": "2023-07-20T12:26:04.243Z"
      },
      {
        "duration": 5,
        "start_time": "2023-07-20T12:27:54.957Z"
      },
      {
        "duration": 5,
        "start_time": "2023-07-20T12:31:27.063Z"
      },
      {
        "duration": 59,
        "start_time": "2023-07-20T12:35:04.176Z"
      },
      {
        "duration": 121,
        "start_time": "2023-07-20T12:35:54.605Z"
      },
      {
        "duration": 63,
        "start_time": "2023-07-20T12:39:18.819Z"
      },
      {
        "duration": 3,
        "start_time": "2023-07-20T13:08:23.937Z"
      },
      {
        "duration": 3,
        "start_time": "2023-07-20T13:35:49.473Z"
      },
      {
        "duration": 953,
        "start_time": "2023-07-20T13:35:49.478Z"
      },
      {
        "duration": 23,
        "start_time": "2023-07-20T13:35:50.433Z"
      },
      {
        "duration": 133,
        "start_time": "2023-07-20T13:35:50.458Z"
      },
      {
        "duration": 98,
        "start_time": "2023-07-20T13:35:50.593Z"
      },
      {
        "duration": 85,
        "start_time": "2023-07-20T13:35:50.693Z"
      },
      {
        "duration": 35,
        "start_time": "2023-07-20T13:35:50.780Z"
      },
      {
        "duration": 258,
        "start_time": "2023-07-20T13:35:50.817Z"
      },
      {
        "duration": 88,
        "start_time": "2023-07-20T13:35:51.078Z"
      },
      {
        "duration": 582,
        "start_time": "2023-07-20T13:35:51.168Z"
      },
      {
        "duration": 15,
        "start_time": "2023-07-20T13:35:51.752Z"
      },
      {
        "duration": 180,
        "start_time": "2023-07-20T13:35:51.769Z"
      },
      {
        "duration": 34,
        "start_time": "2023-07-20T13:35:51.951Z"
      },
      {
        "duration": 194,
        "start_time": "2023-07-20T13:35:51.987Z"
      },
      {
        "duration": 37,
        "start_time": "2023-07-20T13:35:52.183Z"
      },
      {
        "duration": 147,
        "start_time": "2023-07-20T13:35:52.227Z"
      },
      {
        "duration": 13,
        "start_time": "2023-07-20T13:35:52.376Z"
      },
      {
        "duration": 31,
        "start_time": "2023-07-20T13:35:52.391Z"
      },
      {
        "duration": 55,
        "start_time": "2023-07-20T13:35:52.427Z"
      },
      {
        "duration": 43,
        "start_time": "2023-07-20T13:35:52.484Z"
      },
      {
        "duration": 125,
        "start_time": "2023-07-20T13:35:52.529Z"
      },
      {
        "duration": 18,
        "start_time": "2023-07-20T13:35:52.656Z"
      },
      {
        "duration": 31,
        "start_time": "2023-07-20T13:35:52.676Z"
      },
      {
        "duration": 287,
        "start_time": "2023-07-20T13:35:52.715Z"
      },
      {
        "duration": 155,
        "start_time": "2023-07-20T13:35:53.004Z"
      },
      {
        "duration": 350,
        "start_time": "2023-07-20T13:35:53.162Z"
      },
      {
        "duration": 33,
        "start_time": "2023-07-20T13:35:53.514Z"
      },
      {
        "duration": 201,
        "start_time": "2023-07-20T13:35:53.549Z"
      },
      {
        "duration": 7,
        "start_time": "2023-07-20T13:35:53.753Z"
      },
      {
        "duration": 67,
        "start_time": "2023-07-20T13:35:53.762Z"
      },
      {
        "duration": 19,
        "start_time": "2023-07-20T13:35:53.831Z"
      },
      {
        "duration": 83,
        "start_time": "2023-07-20T13:35:53.852Z"
      },
      {
        "duration": 33,
        "start_time": "2023-07-20T13:35:53.938Z"
      },
      {
        "duration": 26,
        "start_time": "2023-07-20T13:35:53.973Z"
      },
      {
        "duration": 17,
        "start_time": "2023-07-20T13:35:54.001Z"
      },
      {
        "duration": 108,
        "start_time": "2023-07-20T13:35:54.021Z"
      },
      {
        "duration": 834,
        "start_time": "2023-07-20T13:35:54.131Z"
      },
      {
        "duration": 906,
        "start_time": "2023-07-20T13:35:54.966Z"
      },
      {
        "duration": 240,
        "start_time": "2023-07-20T13:35:55.874Z"
      },
      {
        "duration": 327,
        "start_time": "2023-07-20T13:35:56.121Z"
      },
      {
        "duration": 105,
        "start_time": "2023-07-20T13:35:56.450Z"
      },
      {
        "duration": 32959,
        "start_time": "2023-07-20T13:35:56.556Z"
      },
      {
        "duration": 5,
        "start_time": "2023-07-20T13:36:29.517Z"
      },
      {
        "duration": 23,
        "start_time": "2023-07-20T13:36:29.524Z"
      },
      {
        "duration": 221,
        "start_time": "2023-07-20T13:36:29.549Z"
      },
      {
        "duration": 9,
        "start_time": "2023-07-20T13:36:29.773Z"
      },
      {
        "duration": 86,
        "start_time": "2023-07-20T13:36:29.785Z"
      },
      {
        "duration": 27,
        "start_time": "2023-07-20T13:36:29.873Z"
      },
      {
        "duration": 21,
        "start_time": "2023-07-20T13:36:29.903Z"
      },
      {
        "duration": 35,
        "start_time": "2023-07-20T13:36:29.926Z"
      },
      {
        "duration": 492168,
        "start_time": "2023-07-20T13:36:29.964Z"
      },
      {
        "duration": 727,
        "start_time": "2023-07-20T13:44:42.212Z"
      },
      {
        "duration": 3,
        "start_time": "2023-07-20T13:44:42.941Z"
      },
      {
        "duration": 145,
        "start_time": "2023-07-20T13:44:42.946Z"
      },
      {
        "duration": 3,
        "start_time": "2023-07-20T13:44:43.093Z"
      },
      {
        "duration": 210081,
        "start_time": "2023-07-20T13:44:43.098Z"
      },
      {
        "duration": 640,
        "start_time": "2023-07-20T13:48:13.182Z"
      },
      {
        "duration": 100,
        "start_time": "2023-07-20T13:48:13.824Z"
      },
      {
        "duration": 535,
        "start_time": "2023-07-20T13:48:13.925Z"
      },
      {
        "duration": 778,
        "start_time": "2023-07-20T13:48:14.463Z"
      },
      {
        "duration": 254,
        "start_time": "2023-07-20T13:48:15.243Z"
      },
      {
        "duration": 373,
        "start_time": "2023-07-20T13:48:15.499Z"
      },
      {
        "duration": 607,
        "start_time": "2023-07-20T13:48:15.874Z"
      },
      {
        "duration": 351,
        "start_time": "2023-07-20T13:48:16.482Z"
      },
      {
        "duration": 204,
        "start_time": "2023-07-20T13:48:16.835Z"
      },
      {
        "duration": 1589,
        "start_time": "2023-07-21T11:04:37.049Z"
      },
      {
        "duration": 2803,
        "start_time": "2023-07-21T11:04:38.640Z"
      },
      {
        "duration": 24,
        "start_time": "2023-07-21T11:04:41.444Z"
      },
      {
        "duration": 113,
        "start_time": "2023-07-21T11:04:41.470Z"
      },
      {
        "duration": 94,
        "start_time": "2023-07-21T11:04:41.584Z"
      },
      {
        "duration": 89,
        "start_time": "2023-07-21T11:04:41.680Z"
      },
      {
        "duration": 51,
        "start_time": "2023-07-21T11:04:41.771Z"
      },
      {
        "duration": 275,
        "start_time": "2023-07-21T11:04:41.824Z"
      },
      {
        "duration": 74,
        "start_time": "2023-07-21T11:04:42.101Z"
      },
      {
        "duration": 594,
        "start_time": "2023-07-21T11:04:42.177Z"
      },
      {
        "duration": 15,
        "start_time": "2023-07-21T11:04:42.772Z"
      },
      {
        "duration": 180,
        "start_time": "2023-07-21T11:04:42.789Z"
      },
      {
        "duration": 41,
        "start_time": "2023-07-21T11:04:42.971Z"
      },
      {
        "duration": 193,
        "start_time": "2023-07-21T11:04:43.014Z"
      },
      {
        "duration": 17,
        "start_time": "2023-07-21T11:04:43.209Z"
      },
      {
        "duration": 150,
        "start_time": "2023-07-21T11:04:43.228Z"
      },
      {
        "duration": 11,
        "start_time": "2023-07-21T11:04:43.381Z"
      },
      {
        "duration": 25,
        "start_time": "2023-07-21T11:04:43.394Z"
      },
      {
        "duration": 47,
        "start_time": "2023-07-21T11:04:43.421Z"
      },
      {
        "duration": 32,
        "start_time": "2023-07-21T11:04:43.470Z"
      },
      {
        "duration": 124,
        "start_time": "2023-07-21T11:04:43.504Z"
      },
      {
        "duration": 16,
        "start_time": "2023-07-21T11:04:43.630Z"
      },
      {
        "duration": 22,
        "start_time": "2023-07-21T11:04:43.647Z"
      },
      {
        "duration": 278,
        "start_time": "2023-07-21T11:04:43.671Z"
      },
      {
        "duration": 156,
        "start_time": "2023-07-21T11:04:43.951Z"
      },
      {
        "duration": 190,
        "start_time": "2023-07-21T11:04:44.109Z"
      },
      {
        "duration": 32,
        "start_time": "2023-07-21T11:04:44.302Z"
      },
      {
        "duration": 160,
        "start_time": "2023-07-21T11:04:44.339Z"
      },
      {
        "duration": 6,
        "start_time": "2023-07-21T11:04:44.500Z"
      },
      {
        "duration": 43,
        "start_time": "2023-07-21T11:04:44.508Z"
      },
      {
        "duration": 20,
        "start_time": "2023-07-21T11:04:44.552Z"
      },
      {
        "duration": 38,
        "start_time": "2023-07-21T11:04:44.574Z"
      },
      {
        "duration": 31,
        "start_time": "2023-07-21T11:04:44.614Z"
      },
      {
        "duration": 15,
        "start_time": "2023-07-21T11:04:44.648Z"
      },
      {
        "duration": 11,
        "start_time": "2023-07-21T11:04:44.665Z"
      },
      {
        "duration": 97,
        "start_time": "2023-07-21T11:04:44.678Z"
      },
      {
        "duration": 768,
        "start_time": "2023-07-21T11:04:44.777Z"
      },
      {
        "duration": 805,
        "start_time": "2023-07-21T11:04:45.547Z"
      },
      {
        "duration": 221,
        "start_time": "2023-07-21T11:04:46.354Z"
      },
      {
        "duration": 334,
        "start_time": "2023-07-21T11:04:46.577Z"
      },
      {
        "duration": 111,
        "start_time": "2023-07-21T11:04:46.913Z"
      },
      {
        "duration": 23244,
        "start_time": "2023-07-21T11:04:47.026Z"
      },
      {
        "duration": 89,
        "start_time": "2023-07-21T11:05:10.272Z"
      },
      {
        "duration": 93,
        "start_time": "2023-07-21T11:05:10.366Z"
      },
      {
        "duration": 157,
        "start_time": "2023-07-21T11:05:10.461Z"
      },
      {
        "duration": 7,
        "start_time": "2023-07-21T11:05:10.621Z"
      },
      {
        "duration": 137,
        "start_time": "2023-07-21T11:05:10.630Z"
      },
      {
        "duration": 24,
        "start_time": "2023-07-21T11:05:10.769Z"
      },
      {
        "duration": 13,
        "start_time": "2023-07-21T11:05:10.795Z"
      },
      {
        "duration": 29,
        "start_time": "2023-07-21T11:05:10.809Z"
      },
      {
        "duration": 6725,
        "start_time": "2023-07-21T11:05:10.839Z"
      },
      {
        "duration": 721,
        "start_time": "2023-07-21T11:05:17.565Z"
      },
      {
        "duration": 73,
        "start_time": "2023-07-21T11:05:18.288Z"
      },
      {
        "duration": 103,
        "start_time": "2023-07-21T11:05:18.363Z"
      },
      {
        "duration": 2,
        "start_time": "2023-07-21T11:05:18.468Z"
      },
      {
        "duration": 203654,
        "start_time": "2023-07-21T11:05:18.472Z"
      },
      {
        "duration": 588,
        "start_time": "2023-07-21T11:08:42.128Z"
      },
      {
        "duration": 149,
        "start_time": "2023-07-21T11:08:42.717Z"
      },
      {
        "duration": 451,
        "start_time": "2023-07-21T11:08:42.870Z"
      },
      {
        "duration": 736,
        "start_time": "2023-07-21T11:08:43.323Z"
      },
      {
        "duration": 236,
        "start_time": "2023-07-21T11:08:44.062Z"
      },
      {
        "duration": 354,
        "start_time": "2023-07-21T11:08:44.300Z"
      },
      {
        "duration": 610,
        "start_time": "2023-07-21T11:08:44.659Z"
      },
      {
        "duration": 444,
        "start_time": "2023-07-21T11:08:45.271Z"
      },
      {
        "duration": 186,
        "start_time": "2023-07-21T11:08:45.717Z"
      },
      {
        "duration": 9,
        "start_time": "2023-07-21T11:27:38.218Z"
      },
      {
        "duration": 880,
        "start_time": "2023-07-21T11:27:38.230Z"
      },
      {
        "duration": 26,
        "start_time": "2023-07-21T11:27:39.112Z"
      },
      {
        "duration": 128,
        "start_time": "2023-07-21T11:27:39.139Z"
      },
      {
        "duration": 100,
        "start_time": "2023-07-21T11:27:39.270Z"
      },
      {
        "duration": 69,
        "start_time": "2023-07-21T11:27:39.371Z"
      },
      {
        "duration": 36,
        "start_time": "2023-07-21T11:27:39.442Z"
      },
      {
        "duration": 245,
        "start_time": "2023-07-21T11:27:39.480Z"
      },
      {
        "duration": 73,
        "start_time": "2023-07-21T11:27:39.727Z"
      },
      {
        "duration": 637,
        "start_time": "2023-07-21T11:28:18.279Z"
      },
      {
        "duration": 9,
        "start_time": "2023-07-21T11:29:17.242Z"
      },
      {
        "duration": 110,
        "start_time": "2023-07-21T11:31:26.333Z"
      },
      {
        "duration": 521,
        "start_time": "2023-07-21T11:31:46.596Z"
      },
      {
        "duration": 143,
        "start_time": "2023-07-21T11:33:04.882Z"
      },
      {
        "duration": 171,
        "start_time": "2023-07-21T11:33:34.701Z"
      },
      {
        "duration": 156,
        "start_time": "2023-07-21T11:34:29.463Z"
      },
      {
        "duration": 284,
        "start_time": "2023-07-21T11:34:46.996Z"
      },
      {
        "duration": 179,
        "start_time": "2023-07-21T11:34:58.742Z"
      },
      {
        "duration": 216,
        "start_time": "2023-07-21T11:35:02.096Z"
      },
      {
        "duration": 190,
        "start_time": "2023-07-21T11:35:05.516Z"
      },
      {
        "duration": 293,
        "start_time": "2023-07-21T11:35:11.940Z"
      },
      {
        "duration": 379,
        "start_time": "2023-07-21T11:35:16.300Z"
      },
      {
        "duration": 498,
        "start_time": "2023-07-21T11:35:27.155Z"
      },
      {
        "duration": 391,
        "start_time": "2023-07-21T11:35:31.407Z"
      },
      {
        "duration": 385,
        "start_time": "2023-07-21T11:36:09.340Z"
      },
      {
        "duration": 414,
        "start_time": "2023-07-21T11:36:32.702Z"
      },
      {
        "duration": 615,
        "start_time": "2023-07-21T11:36:46.639Z"
      },
      {
        "duration": 402,
        "start_time": "2023-07-21T11:36:50.345Z"
      },
      {
        "duration": 447,
        "start_time": "2023-07-21T11:37:19.606Z"
      },
      {
        "duration": 451,
        "start_time": "2023-07-21T11:37:28.454Z"
      },
      {
        "duration": 616,
        "start_time": "2023-07-21T11:37:39.899Z"
      },
      {
        "duration": 20,
        "start_time": "2023-07-21T11:38:29.859Z"
      },
      {
        "duration": 16,
        "start_time": "2023-07-21T11:38:33.677Z"
      },
      {
        "duration": 174,
        "start_time": "2023-07-21T11:38:36.858Z"
      },
      {
        "duration": 260,
        "start_time": "2023-07-21T11:38:40.420Z"
      },
      {
        "duration": 228,
        "start_time": "2023-07-21T11:41:58.343Z"
      },
      {
        "duration": 242,
        "start_time": "2023-07-21T11:42:14.643Z"
      },
      {
        "duration": 230,
        "start_time": "2023-07-21T11:42:46.816Z"
      },
      {
        "duration": 262,
        "start_time": "2023-07-21T11:43:04.822Z"
      },
      {
        "duration": 297,
        "start_time": "2023-07-21T11:43:09.577Z"
      },
      {
        "duration": 276,
        "start_time": "2023-07-21T11:43:13.750Z"
      },
      {
        "duration": 463,
        "start_time": "2023-07-21T11:43:59.823Z"
      },
      {
        "duration": 320,
        "start_time": "2023-07-21T11:44:24.058Z"
      },
      {
        "duration": 196,
        "start_time": "2023-07-21T11:45:19.440Z"
      },
      {
        "duration": 348,
        "start_time": "2023-07-21T11:45:54.145Z"
      },
      {
        "duration": 351,
        "start_time": "2023-07-21T11:46:05.104Z"
      },
      {
        "duration": 294,
        "start_time": "2023-07-21T11:46:38.451Z"
      },
      {
        "duration": 311,
        "start_time": "2023-07-21T12:11:35.343Z"
      },
      {
        "duration": 332,
        "start_time": "2023-07-21T12:12:31.345Z"
      },
      {
        "duration": 358,
        "start_time": "2023-07-21T12:12:42.120Z"
      },
      {
        "duration": 404,
        "start_time": "2023-07-21T12:12:53.789Z"
      },
      {
        "duration": 586,
        "start_time": "2023-07-21T12:13:06.056Z"
      },
      {
        "duration": 393,
        "start_time": "2023-07-21T12:13:30.702Z"
      },
      {
        "duration": 391,
        "start_time": "2023-07-21T12:13:39.951Z"
      },
      {
        "duration": 377,
        "start_time": "2023-07-21T12:14:03.565Z"
      },
      {
        "duration": 390,
        "start_time": "2023-07-21T12:14:09.351Z"
      },
      {
        "duration": 377,
        "start_time": "2023-07-21T12:14:20.952Z"
      },
      {
        "duration": 335,
        "start_time": "2023-07-21T12:16:16.303Z"
      },
      {
        "duration": 498,
        "start_time": "2023-07-21T12:16:25.643Z"
      },
      {
        "duration": 464,
        "start_time": "2023-07-21T12:16:34.926Z"
      },
      {
        "duration": 392,
        "start_time": "2023-07-21T12:16:45.967Z"
      },
      {
        "duration": 303,
        "start_time": "2023-07-21T12:24:02.013Z"
      },
      {
        "duration": 517,
        "start_time": "2023-07-21T12:24:22.552Z"
      },
      {
        "duration": 311,
        "start_time": "2023-07-21T12:24:46.401Z"
      },
      {
        "duration": 331,
        "start_time": "2023-07-21T12:27:34.381Z"
      },
      {
        "duration": 467,
        "start_time": "2023-07-21T12:28:17.749Z"
      },
      {
        "duration": 437,
        "start_time": "2023-07-21T12:28:37.371Z"
      },
      {
        "duration": 513,
        "start_time": "2023-07-21T12:29:04.177Z"
      },
      {
        "duration": 440,
        "start_time": "2023-07-21T12:30:02.647Z"
      },
      {
        "duration": 391,
        "start_time": "2023-07-21T12:30:12.978Z"
      },
      {
        "duration": 430,
        "start_time": "2023-07-21T12:30:37.439Z"
      },
      {
        "duration": 159,
        "start_time": "2023-07-21T12:31:24.646Z"
      },
      {
        "duration": 11,
        "start_time": "2023-07-21T12:32:07.342Z"
      },
      {
        "duration": 12,
        "start_time": "2023-07-21T12:32:12.948Z"
      },
      {
        "duration": 35,
        "start_time": "2023-07-21T12:34:05.918Z"
      },
      {
        "duration": 157,
        "start_time": "2023-07-21T12:36:02.381Z"
      },
      {
        "duration": 4,
        "start_time": "2023-07-21T13:26:36.975Z"
      },
      {
        "duration": 860,
        "start_time": "2023-07-21T13:26:36.981Z"
      },
      {
        "duration": 26,
        "start_time": "2023-07-21T13:26:37.843Z"
      },
      {
        "duration": 117,
        "start_time": "2023-07-21T13:26:37.871Z"
      },
      {
        "duration": 100,
        "start_time": "2023-07-21T13:26:37.990Z"
      },
      {
        "duration": 81,
        "start_time": "2023-07-21T13:26:38.092Z"
      },
      {
        "duration": 23,
        "start_time": "2023-07-21T13:26:38.175Z"
      },
      {
        "duration": 224,
        "start_time": "2023-07-21T13:26:38.200Z"
      },
      {
        "duration": 76,
        "start_time": "2023-07-21T13:26:38.426Z"
      },
      {
        "duration": 717,
        "start_time": "2023-07-21T13:26:38.504Z"
      },
      {
        "duration": 19,
        "start_time": "2023-07-21T13:26:39.225Z"
      },
      {
        "duration": 371,
        "start_time": "2023-07-21T13:26:39.259Z"
      },
      {
        "duration": 42,
        "start_time": "2023-07-21T13:26:39.632Z"
      },
      {
        "duration": 185,
        "start_time": "2023-07-21T13:26:39.676Z"
      },
      {
        "duration": 28,
        "start_time": "2023-07-21T13:26:39.864Z"
      },
      {
        "duration": 210,
        "start_time": "2023-07-21T13:26:39.894Z"
      },
      {
        "duration": 13,
        "start_time": "2023-07-21T13:26:40.107Z"
      },
      {
        "duration": 15,
        "start_time": "2023-07-21T13:26:40.122Z"
      },
      {
        "duration": 52,
        "start_time": "2023-07-21T13:26:40.139Z"
      },
      {
        "duration": 32,
        "start_time": "2023-07-21T13:26:40.193Z"
      },
      {
        "duration": 162,
        "start_time": "2023-07-21T13:26:40.227Z"
      },
      {
        "duration": 17,
        "start_time": "2023-07-21T13:26:40.391Z"
      },
      {
        "duration": 21,
        "start_time": "2023-07-21T13:26:40.410Z"
      },
      {
        "duration": 312,
        "start_time": "2023-07-21T13:26:40.433Z"
      },
      {
        "duration": 388,
        "start_time": "2023-07-21T13:26:40.747Z"
      },
      {
        "duration": 35,
        "start_time": "2023-07-21T13:26:41.137Z"
      },
      {
        "duration": 166,
        "start_time": "2023-07-21T13:26:41.174Z"
      },
      {
        "duration": 18,
        "start_time": "2023-07-21T13:26:41.342Z"
      },
      {
        "duration": 37,
        "start_time": "2023-07-21T13:26:41.365Z"
      },
      {
        "duration": 27,
        "start_time": "2023-07-21T13:26:41.403Z"
      },
      {
        "duration": 45,
        "start_time": "2023-07-21T13:26:41.432Z"
      },
      {
        "duration": 18,
        "start_time": "2023-07-21T13:26:41.479Z"
      },
      {
        "duration": 8,
        "start_time": "2023-07-21T13:26:41.499Z"
      },
      {
        "duration": 8,
        "start_time": "2023-07-21T13:26:41.509Z"
      },
      {
        "duration": 156,
        "start_time": "2023-07-21T13:26:41.519Z"
      },
      {
        "duration": 772,
        "start_time": "2023-07-21T13:26:41.677Z"
      },
      {
        "duration": 17,
        "start_time": "2023-07-21T13:27:11.249Z"
      },
      {
        "duration": 102,
        "start_time": "2023-07-21T13:59:39.810Z"
      },
      {
        "duration": 37,
        "start_time": "2023-07-21T13:59:41.593Z"
      },
      {
        "duration": 16,
        "start_time": "2023-07-21T13:59:42.784Z"
      },
      {
        "duration": 4,
        "start_time": "2023-07-21T14:00:16.676Z"
      },
      {
        "duration": 3,
        "start_time": "2023-07-21T14:00:26.993Z"
      },
      {
        "duration": 16,
        "start_time": "2023-07-21T14:13:14.833Z"
      },
      {
        "duration": 7,
        "start_time": "2023-07-21T14:14:09.749Z"
      },
      {
        "duration": 81,
        "start_time": "2023-07-21T14:16:23.293Z"
      },
      {
        "duration": 7,
        "start_time": "2023-07-21T14:20:07.950Z"
      },
      {
        "duration": 7,
        "start_time": "2023-07-21T14:20:20.165Z"
      },
      {
        "duration": 8,
        "start_time": "2023-07-21T14:30:30.842Z"
      },
      {
        "duration": 19,
        "start_time": "2023-07-21T14:32:57.761Z"
      },
      {
        "duration": 19,
        "start_time": "2023-07-21T14:33:13.579Z"
      },
      {
        "duration": 12,
        "start_time": "2023-07-21T14:34:14.353Z"
      },
      {
        "duration": 18,
        "start_time": "2023-07-21T14:34:20.667Z"
      },
      {
        "duration": 103,
        "start_time": "2023-07-21T14:34:34.149Z"
      },
      {
        "duration": 40,
        "start_time": "2023-07-21T14:34:34.337Z"
      },
      {
        "duration": 3,
        "start_time": "2023-07-21T14:34:34.515Z"
      },
      {
        "duration": 30,
        "start_time": "2023-07-21T14:34:34.705Z"
      },
      {
        "duration": 22,
        "start_time": "2023-07-21T14:34:34.963Z"
      },
      {
        "duration": 18,
        "start_time": "2023-07-21T14:34:35.255Z"
      },
      {
        "duration": 13,
        "start_time": "2023-07-21T14:35:06.733Z"
      },
      {
        "duration": 20,
        "start_time": "2023-07-21T14:35:07.232Z"
      },
      {
        "duration": 19,
        "start_time": "2023-07-21T14:35:07.521Z"
      },
      {
        "duration": 4,
        "start_time": "2023-07-21T14:36:30.098Z"
      },
      {
        "duration": 3,
        "start_time": "2023-07-21T14:42:36.677Z"
      },
      {
        "duration": 95,
        "start_time": "2023-07-21T14:42:38.998Z"
      },
      {
        "duration": 63,
        "start_time": "2023-07-21T14:43:57.301Z"
      },
      {
        "duration": 53,
        "start_time": "2023-07-21T14:44:04.909Z"
      },
      {
        "duration": 1107,
        "start_time": "2023-07-21T14:44:18.676Z"
      },
      {
        "duration": 12,
        "start_time": "2023-07-21T14:46:02.618Z"
      },
      {
        "duration": 2316,
        "start_time": "2023-07-21T14:46:12.494Z"
      },
      {
        "duration": 49,
        "start_time": "2023-07-21T14:47:50.078Z"
      },
      {
        "duration": 8,
        "start_time": "2023-07-21T14:47:55.276Z"
      },
      {
        "duration": 1526,
        "start_time": "2023-07-21T14:48:06.599Z"
      },
      {
        "duration": 2933,
        "start_time": "2023-07-21T14:48:08.127Z"
      },
      {
        "duration": 28,
        "start_time": "2023-07-21T14:48:11.062Z"
      },
      {
        "duration": 133,
        "start_time": "2023-07-21T14:48:11.092Z"
      },
      {
        "duration": 122,
        "start_time": "2023-07-21T14:48:11.227Z"
      },
      {
        "duration": 118,
        "start_time": "2023-07-21T14:48:11.359Z"
      },
      {
        "duration": 61,
        "start_time": "2023-07-21T14:48:11.479Z"
      },
      {
        "duration": 316,
        "start_time": "2023-07-21T14:48:11.542Z"
      },
      {
        "duration": 77,
        "start_time": "2023-07-21T14:48:11.860Z"
      },
      {
        "duration": 451,
        "start_time": "2023-07-21T14:48:11.940Z"
      },
      {
        "duration": 18,
        "start_time": "2023-07-21T14:48:12.393Z"
      },
      {
        "duration": 436,
        "start_time": "2023-07-21T14:48:12.412Z"
      },
      {
        "duration": 47,
        "start_time": "2023-07-21T14:48:12.850Z"
      },
      {
        "duration": 192,
        "start_time": "2023-07-21T14:48:12.899Z"
      },
      {
        "duration": 20,
        "start_time": "2023-07-21T14:48:13.093Z"
      },
      {
        "duration": 147,
        "start_time": "2023-07-21T14:48:13.115Z"
      },
      {
        "duration": 13,
        "start_time": "2023-07-21T14:48:13.263Z"
      },
      {
        "duration": 3,
        "start_time": "2023-07-21T14:48:13.278Z"
      },
      {
        "duration": 52,
        "start_time": "2023-07-21T14:48:13.282Z"
      },
      {
        "duration": 42,
        "start_time": "2023-07-21T14:48:13.336Z"
      },
      {
        "duration": 141,
        "start_time": "2023-07-21T14:48:13.380Z"
      },
      {
        "duration": 17,
        "start_time": "2023-07-21T14:48:13.522Z"
      },
      {
        "duration": 32,
        "start_time": "2023-07-21T14:48:13.541Z"
      },
      {
        "duration": 268,
        "start_time": "2023-07-21T14:48:13.574Z"
      },
      {
        "duration": 440,
        "start_time": "2023-07-21T14:48:13.844Z"
      },
      {
        "duration": 31,
        "start_time": "2023-07-21T14:48:14.286Z"
      },
      {
        "duration": 162,
        "start_time": "2023-07-21T14:48:14.319Z"
      },
      {
        "duration": 7,
        "start_time": "2023-07-21T14:48:14.484Z"
      },
      {
        "duration": 38,
        "start_time": "2023-07-21T14:48:14.492Z"
      },
      {
        "duration": 38,
        "start_time": "2023-07-21T14:48:14.532Z"
      },
      {
        "duration": 38,
        "start_time": "2023-07-21T14:48:14.572Z"
      },
      {
        "duration": 23,
        "start_time": "2023-07-21T14:48:14.612Z"
      },
      {
        "duration": 15,
        "start_time": "2023-07-21T14:48:14.636Z"
      },
      {
        "duration": 10,
        "start_time": "2023-07-21T14:48:14.653Z"
      },
      {
        "duration": 94,
        "start_time": "2023-07-21T14:48:14.665Z"
      },
      {
        "duration": 788,
        "start_time": "2023-07-21T14:48:14.761Z"
      },
      {
        "duration": 20,
        "start_time": "2023-07-21T14:48:15.550Z"
      },
      {
        "duration": 96,
        "start_time": "2023-07-21T14:48:15.572Z"
      },
      {
        "duration": 38,
        "start_time": "2023-07-21T14:48:15.670Z"
      },
      {
        "duration": 5,
        "start_time": "2023-07-21T14:48:15.710Z"
      },
      {
        "duration": 49,
        "start_time": "2023-07-21T14:48:15.717Z"
      },
      {
        "duration": 2154,
        "start_time": "2023-07-21T14:48:15.768Z"
      },
      {
        "duration": 5,
        "start_time": "2023-07-21T14:48:17.924Z"
      },
      {
        "duration": 285,
        "start_time": "2023-07-21T14:48:17.931Z"
      },
      {
        "duration": 118,
        "start_time": "2023-07-21T14:48:18.218Z"
      },
      {
        "duration": 3,
        "start_time": "2023-07-21T14:48:18.338Z"
      },
      {
        "duration": 144,
        "start_time": "2023-07-21T14:48:18.343Z"
      },
      {
        "duration": 9,
        "start_time": "2023-07-21T14:48:18.489Z"
      },
      {
        "duration": 53,
        "start_time": "2023-07-21T14:48:18.499Z"
      },
      {
        "duration": 22,
        "start_time": "2023-07-21T14:48:18.553Z"
      },
      {
        "duration": 14,
        "start_time": "2023-07-21T14:48:18.577Z"
      },
      {
        "duration": 38,
        "start_time": "2023-07-21T14:48:18.593Z"
      },
      {
        "duration": 7211,
        "start_time": "2023-07-21T14:50:22.147Z"
      },
      {
        "duration": 1284,
        "start_time": "2023-07-21T14:50:29.361Z"
      },
      {
        "duration": 874,
        "start_time": "2023-07-21T14:50:30.647Z"
      },
      {
        "duration": 36,
        "start_time": "2023-07-21T14:50:31.524Z"
      },
      {
        "duration": 149,
        "start_time": "2023-07-21T14:50:31.562Z"
      },
      {
        "duration": 110,
        "start_time": "2023-07-21T14:50:31.713Z"
      },
      {
        "duration": 87,
        "start_time": "2023-07-21T14:50:31.825Z"
      },
      {
        "duration": 68,
        "start_time": "2023-07-21T14:50:31.913Z"
      },
      {
        "duration": 297,
        "start_time": "2023-07-21T14:50:31.983Z"
      },
      {
        "duration": 87,
        "start_time": "2023-07-21T14:50:32.283Z"
      },
      {
        "duration": 452,
        "start_time": "2023-07-21T14:50:32.372Z"
      },
      {
        "duration": 18,
        "start_time": "2023-07-21T14:50:32.826Z"
      },
      {
        "duration": 344,
        "start_time": "2023-07-21T14:50:32.858Z"
      },
      {
        "duration": 43,
        "start_time": "2023-07-21T14:50:33.203Z"
      },
      {
        "duration": 188,
        "start_time": "2023-07-21T14:50:33.247Z"
      },
      {
        "duration": 25,
        "start_time": "2023-07-21T14:50:33.436Z"
      },
      {
        "duration": 233,
        "start_time": "2023-07-21T14:50:33.463Z"
      },
      {
        "duration": 13,
        "start_time": "2023-07-21T14:50:33.698Z"
      },
      {
        "duration": 3,
        "start_time": "2023-07-21T14:50:33.713Z"
      },
      {
        "duration": 53,
        "start_time": "2023-07-21T14:50:33.717Z"
      },
      {
        "duration": 30,
        "start_time": "2023-07-21T14:50:33.772Z"
      },
      {
        "duration": 157,
        "start_time": "2023-07-21T14:50:33.804Z"
      },
      {
        "duration": 18,
        "start_time": "2023-07-21T14:50:33.962Z"
      },
      {
        "duration": 38,
        "start_time": "2023-07-21T14:50:33.982Z"
      },
      {
        "duration": 358,
        "start_time": "2023-07-21T14:50:34.022Z"
      },
      {
        "duration": 378,
        "start_time": "2023-07-21T14:50:34.382Z"
      },
      {
        "duration": 31,
        "start_time": "2023-07-21T14:50:34.763Z"
      },
      {
        "duration": 159,
        "start_time": "2023-07-21T14:50:34.800Z"
      },
      {
        "duration": 8,
        "start_time": "2023-07-21T14:50:34.961Z"
      },
      {
        "duration": 57,
        "start_time": "2023-07-21T14:50:34.971Z"
      },
      {
        "duration": 32,
        "start_time": "2023-07-21T14:50:35.029Z"
      },
      {
        "duration": 40,
        "start_time": "2023-07-21T14:50:35.063Z"
      },
      {
        "duration": 51,
        "start_time": "2023-07-21T14:50:35.105Z"
      },
      {
        "duration": 29,
        "start_time": "2023-07-21T14:50:35.158Z"
      },
      {
        "duration": 24,
        "start_time": "2023-07-21T14:50:35.189Z"
      },
      {
        "duration": 101,
        "start_time": "2023-07-21T14:50:35.215Z"
      },
      {
        "duration": 790,
        "start_time": "2023-07-21T14:50:35.318Z"
      },
      {
        "duration": 16,
        "start_time": "2023-07-21T14:50:36.110Z"
      },
      {
        "duration": 122,
        "start_time": "2023-07-21T14:50:36.127Z"
      },
      {
        "duration": 35,
        "start_time": "2023-07-21T14:50:36.250Z"
      },
      {
        "duration": 3,
        "start_time": "2023-07-21T14:50:36.286Z"
      },
      {
        "duration": 19,
        "start_time": "2023-07-21T14:50:36.291Z"
      },
      {
        "duration": 2151,
        "start_time": "2023-07-21T14:50:36.311Z"
      },
      {
        "duration": 5,
        "start_time": "2023-07-21T14:50:38.464Z"
      },
      {
        "duration": 331,
        "start_time": "2023-07-21T14:50:38.471Z"
      },
      {
        "duration": 124,
        "start_time": "2023-07-21T14:50:38.804Z"
      },
      {
        "duration": 3,
        "start_time": "2023-07-21T14:50:38.929Z"
      },
      {
        "duration": 143,
        "start_time": "2023-07-21T14:50:38.933Z"
      },
      {
        "duration": 9,
        "start_time": "2023-07-21T14:50:39.077Z"
      },
      {
        "duration": 42,
        "start_time": "2023-07-21T14:50:39.088Z"
      },
      {
        "duration": 34,
        "start_time": "2023-07-21T14:50:39.131Z"
      },
      {
        "duration": 3,
        "start_time": "2023-07-21T14:50:39.167Z"
      },
      {
        "duration": 10,
        "start_time": "2023-07-21T14:50:39.172Z"
      },
      {
        "duration": 7592,
        "start_time": "2023-07-22T11:24:55.062Z"
      },
      {
        "duration": 1367,
        "start_time": "2023-07-22T11:25:02.656Z"
      },
      {
        "duration": 989,
        "start_time": "2023-07-22T11:25:04.025Z"
      },
      {
        "duration": 25,
        "start_time": "2023-07-22T11:25:05.016Z"
      },
      {
        "duration": 161,
        "start_time": "2023-07-22T11:25:05.043Z"
      },
      {
        "duration": 95,
        "start_time": "2023-07-22T11:25:05.205Z"
      },
      {
        "duration": 81,
        "start_time": "2023-07-22T11:25:05.302Z"
      },
      {
        "duration": 59,
        "start_time": "2023-07-22T11:25:05.384Z"
      },
      {
        "duration": 268,
        "start_time": "2023-07-22T11:25:05.445Z"
      },
      {
        "duration": 84,
        "start_time": "2023-07-22T11:25:05.715Z"
      },
      {
        "duration": 435,
        "start_time": "2023-07-22T11:25:05.801Z"
      },
      {
        "duration": 16,
        "start_time": "2023-07-22T11:25:06.237Z"
      },
      {
        "duration": 352,
        "start_time": "2023-07-22T11:25:06.254Z"
      },
      {
        "duration": 50,
        "start_time": "2023-07-22T11:25:06.609Z"
      },
      {
        "duration": 198,
        "start_time": "2023-07-22T11:25:06.661Z"
      },
      {
        "duration": 20,
        "start_time": "2023-07-22T11:25:06.861Z"
      },
      {
        "duration": 227,
        "start_time": "2023-07-22T11:25:06.883Z"
      },
      {
        "duration": 21,
        "start_time": "2023-07-22T11:25:07.112Z"
      },
      {
        "duration": 70,
        "start_time": "2023-07-22T11:25:07.134Z"
      },
      {
        "duration": 173,
        "start_time": "2023-07-22T11:25:07.206Z"
      },
      {
        "duration": 27,
        "start_time": "2023-07-22T11:25:07.381Z"
      },
      {
        "duration": 132,
        "start_time": "2023-07-22T11:25:07.410Z"
      },
      {
        "duration": 20,
        "start_time": "2023-07-22T11:25:07.544Z"
      },
      {
        "duration": 51,
        "start_time": "2023-07-22T11:25:07.565Z"
      },
      {
        "duration": 311,
        "start_time": "2023-07-22T11:25:07.617Z"
      },
      {
        "duration": 326,
        "start_time": "2023-07-22T11:25:07.932Z"
      },
      {
        "duration": 26,
        "start_time": "2023-07-22T11:25:08.260Z"
      },
      {
        "duration": 137,
        "start_time": "2023-07-22T11:25:08.288Z"
      },
      {
        "duration": 5,
        "start_time": "2023-07-22T11:25:08.431Z"
      },
      {
        "duration": 42,
        "start_time": "2023-07-22T11:25:08.437Z"
      },
      {
        "duration": 21,
        "start_time": "2023-07-22T11:25:08.481Z"
      },
      {
        "duration": 31,
        "start_time": "2023-07-22T11:25:08.504Z"
      },
      {
        "duration": 23,
        "start_time": "2023-07-22T11:25:08.536Z"
      },
      {
        "duration": 21,
        "start_time": "2023-07-22T11:25:08.562Z"
      },
      {
        "duration": 23,
        "start_time": "2023-07-22T11:25:08.584Z"
      },
      {
        "duration": 94,
        "start_time": "2023-07-22T11:25:08.608Z"
      },
      {
        "duration": 704,
        "start_time": "2023-07-22T11:25:08.703Z"
      },
      {
        "duration": 13,
        "start_time": "2023-07-22T11:25:09.408Z"
      },
      {
        "duration": 81,
        "start_time": "2023-07-22T11:25:09.423Z"
      },
      {
        "duration": 48,
        "start_time": "2023-07-22T11:25:09.505Z"
      },
      {
        "duration": 3,
        "start_time": "2023-07-22T11:25:09.556Z"
      },
      {
        "duration": 18,
        "start_time": "2023-07-22T11:25:09.560Z"
      },
      {
        "duration": 2027,
        "start_time": "2023-07-22T11:25:09.580Z"
      },
      {
        "duration": 4,
        "start_time": "2023-07-22T11:25:11.609Z"
      },
      {
        "duration": 253,
        "start_time": "2023-07-22T11:25:11.614Z"
      },
      {
        "duration": 126,
        "start_time": "2023-07-22T11:25:11.868Z"
      },
      {
        "duration": 3,
        "start_time": "2023-07-22T11:25:11.996Z"
      },
      {
        "duration": 153,
        "start_time": "2023-07-22T11:25:12.000Z"
      },
      {
        "duration": 8,
        "start_time": "2023-07-22T11:25:12.155Z"
      },
      {
        "duration": 43,
        "start_time": "2023-07-22T11:25:12.165Z"
      },
      {
        "duration": 28,
        "start_time": "2023-07-22T11:25:12.210Z"
      },
      {
        "duration": 2,
        "start_time": "2023-07-22T11:25:12.240Z"
      },
      {
        "duration": 8,
        "start_time": "2023-07-22T11:25:12.244Z"
      },
      {
        "duration": 4689,
        "start_time": "2023-07-22T11:25:12.254Z"
      },
      {
        "duration": 702,
        "start_time": "2023-07-22T11:25:16.944Z"
      },
      {
        "duration": 5,
        "start_time": "2023-07-22T11:25:17.648Z"
      },
      {
        "duration": 182,
        "start_time": "2023-07-22T11:25:17.654Z"
      },
      {
        "duration": 94,
        "start_time": "2023-07-22T11:25:17.837Z"
      },
      {
        "duration": 2030,
        "start_time": "2023-07-22T11:26:54.470Z"
      },
      {
        "duration": 1193,
        "start_time": "2023-07-22T11:26:56.502Z"
      },
      {
        "duration": 743,
        "start_time": "2023-07-22T11:26:57.697Z"
      },
      {
        "duration": 23,
        "start_time": "2023-07-22T11:26:58.441Z"
      },
      {
        "duration": 137,
        "start_time": "2023-07-22T11:26:58.466Z"
      },
      {
        "duration": 88,
        "start_time": "2023-07-22T11:26:58.604Z"
      },
      {
        "duration": 83,
        "start_time": "2023-07-22T11:26:58.694Z"
      },
      {
        "duration": 54,
        "start_time": "2023-07-22T11:26:58.779Z"
      },
      {
        "duration": 272,
        "start_time": "2023-07-22T11:26:58.834Z"
      },
      {
        "duration": 88,
        "start_time": "2023-07-22T11:26:59.107Z"
      },
      {
        "duration": 364,
        "start_time": "2023-07-22T11:26:59.196Z"
      },
      {
        "duration": 13,
        "start_time": "2023-07-22T11:26:59.561Z"
      },
      {
        "duration": 302,
        "start_time": "2023-07-22T11:26:59.576Z"
      },
      {
        "duration": 37,
        "start_time": "2023-07-22T11:26:59.882Z"
      },
      {
        "duration": 173,
        "start_time": "2023-07-22T11:26:59.921Z"
      },
      {
        "duration": 17,
        "start_time": "2023-07-22T11:27:00.096Z"
      },
      {
        "duration": 213,
        "start_time": "2023-07-22T11:27:00.115Z"
      },
      {
        "duration": 12,
        "start_time": "2023-07-22T11:27:00.331Z"
      },
      {
        "duration": 83,
        "start_time": "2023-07-22T11:27:00.345Z"
      },
      {
        "duration": 67,
        "start_time": "2023-07-22T11:27:00.430Z"
      },
      {
        "duration": 71,
        "start_time": "2023-07-22T11:27:00.498Z"
      },
      {
        "duration": 28,
        "start_time": "2023-07-22T11:27:00.571Z"
      },
      {
        "duration": 47,
        "start_time": "2023-07-22T11:27:00.600Z"
      },
      {
        "duration": 294,
        "start_time": "2023-07-22T11:27:00.649Z"
      },
      {
        "duration": 340,
        "start_time": "2023-07-22T11:27:00.945Z"
      },
      {
        "duration": 27,
        "start_time": "2023-07-22T11:27:01.286Z"
      },
      {
        "duration": 366,
        "start_time": "2023-07-22T11:27:01.315Z"
      },
      {
        "duration": 5,
        "start_time": "2023-07-22T11:27:01.683Z"
      },
      {
        "duration": 139,
        "start_time": "2023-07-22T11:27:01.690Z"
      },
      {
        "duration": 408,
        "start_time": "2023-07-22T11:27:01.831Z"
      },
      {
        "duration": 170,
        "start_time": "2023-07-22T11:27:02.240Z"
      },
      {
        "duration": 70,
        "start_time": "2023-07-22T11:27:02.412Z"
      },
      {
        "duration": 19,
        "start_time": "2023-07-22T11:27:02.483Z"
      },
      {
        "duration": 52,
        "start_time": "2023-07-22T11:27:02.503Z"
      },
      {
        "duration": 119,
        "start_time": "2023-07-22T11:27:02.557Z"
      },
      {
        "duration": 763,
        "start_time": "2023-07-22T11:27:02.677Z"
      },
      {
        "duration": 19,
        "start_time": "2023-07-22T11:27:03.441Z"
      },
      {
        "duration": 99,
        "start_time": "2023-07-22T11:27:03.462Z"
      },
      {
        "duration": 30,
        "start_time": "2023-07-22T11:27:03.562Z"
      },
      {
        "duration": 2,
        "start_time": "2023-07-22T11:27:03.594Z"
      },
      {
        "duration": 20,
        "start_time": "2023-07-22T11:27:03.600Z"
      },
      {
        "duration": 2094,
        "start_time": "2023-07-22T11:27:03.632Z"
      },
      {
        "duration": 7,
        "start_time": "2023-07-22T11:27:05.727Z"
      },
      {
        "duration": 329,
        "start_time": "2023-07-22T11:27:05.735Z"
      },
      {
        "duration": 114,
        "start_time": "2023-07-22T11:27:06.066Z"
      },
      {
        "duration": 25,
        "start_time": "2023-07-22T11:27:06.182Z"
      },
      {
        "duration": 175,
        "start_time": "2023-07-22T11:27:06.209Z"
      },
      {
        "duration": 8,
        "start_time": "2023-07-22T11:27:06.386Z"
      },
      {
        "duration": 62,
        "start_time": "2023-07-22T11:27:06.396Z"
      },
      {
        "duration": 18,
        "start_time": "2023-07-22T11:27:06.460Z"
      },
      {
        "duration": 10,
        "start_time": "2023-07-22T11:27:06.480Z"
      },
      {
        "duration": 8,
        "start_time": "2023-07-22T11:27:06.491Z"
      },
      {
        "duration": 5036,
        "start_time": "2023-07-22T11:27:06.500Z"
      },
      {
        "duration": 802,
        "start_time": "2023-07-22T11:27:11.538Z"
      },
      {
        "duration": 4,
        "start_time": "2023-07-22T11:27:12.341Z"
      },
      {
        "duration": 136,
        "start_time": "2023-07-22T11:27:12.347Z"
      },
      {
        "duration": 3,
        "start_time": "2023-07-22T11:27:12.485Z"
      },
      {
        "duration": 183052,
        "start_time": "2023-07-22T11:27:12.490Z"
      },
      {
        "duration": 525,
        "start_time": "2023-07-22T11:30:15.543Z"
      },
      {
        "duration": 26,
        "start_time": "2023-07-22T11:30:16.069Z"
      },
      {
        "duration": 0,
        "start_time": "2023-07-22T11:30:16.097Z"
      },
      {
        "duration": 0,
        "start_time": "2023-07-22T11:30:16.098Z"
      },
      {
        "duration": 0,
        "start_time": "2023-07-22T11:30:16.099Z"
      },
      {
        "duration": 0,
        "start_time": "2023-07-22T11:30:16.100Z"
      },
      {
        "duration": 0,
        "start_time": "2023-07-22T11:30:16.102Z"
      },
      {
        "duration": 0,
        "start_time": "2023-07-22T11:30:16.103Z"
      },
      {
        "duration": 0,
        "start_time": "2023-07-22T11:30:16.105Z"
      },
      {
        "duration": 0,
        "start_time": "2023-07-22T11:30:16.106Z"
      },
      {
        "duration": 830,
        "start_time": "2023-07-22T11:33:18.351Z"
      },
      {
        "duration": 5,
        "start_time": "2023-07-22T11:33:30.854Z"
      },
      {
        "duration": 5,
        "start_time": "2023-07-22T11:34:20.348Z"
      },
      {
        "duration": 36,
        "start_time": "2023-07-22T11:34:20.724Z"
      },
      {
        "duration": 16,
        "start_time": "2023-07-22T11:34:21.038Z"
      },
      {
        "duration": 3,
        "start_time": "2023-07-22T11:34:21.339Z"
      },
      {
        "duration": 11,
        "start_time": "2023-07-22T11:34:21.623Z"
      },
      {
        "duration": 27,
        "start_time": "2023-07-22T11:34:21.900Z"
      },
      {
        "duration": 266,
        "start_time": "2023-07-22T11:34:22.975Z"
      },
      {
        "duration": 5,
        "start_time": "2023-07-22T11:34:29.021Z"
      },
      {
        "duration": 5,
        "start_time": "2023-07-22T11:34:58.665Z"
      },
      {
        "duration": 34,
        "start_time": "2023-07-22T11:34:58.844Z"
      },
      {
        "duration": 16,
        "start_time": "2023-07-22T11:34:59.004Z"
      },
      {
        "duration": 2,
        "start_time": "2023-07-22T11:34:59.155Z"
      },
      {
        "duration": 11,
        "start_time": "2023-07-22T11:34:59.228Z"
      },
      {
        "duration": 5,
        "start_time": "2023-07-22T11:34:59.464Z"
      },
      {
        "duration": 19,
        "start_time": "2023-07-22T11:35:44.366Z"
      },
      {
        "duration": 7,
        "start_time": "2023-07-22T11:35:56.135Z"
      },
      {
        "duration": 4,
        "start_time": "2023-07-22T11:36:58.537Z"
      },
      {
        "duration": 2,
        "start_time": "2023-07-22T11:37:19.844Z"
      },
      {
        "duration": 9,
        "start_time": "2023-07-22T11:37:41.407Z"
      },
      {
        "duration": 54,
        "start_time": "2023-07-22T11:37:51.260Z"
      },
      {
        "duration": 3,
        "start_time": "2023-07-22T11:38:15.660Z"
      },
      {
        "duration": 4,
        "start_time": "2023-07-22T11:38:31.153Z"
      },
      {
        "duration": 2212,
        "start_time": "2023-07-22T11:38:47.389Z"
      },
      {
        "duration": 4,
        "start_time": "2023-07-22T11:38:49.604Z"
      },
      {
        "duration": 694,
        "start_time": "2023-07-22T11:38:49.610Z"
      },
      {
        "duration": 33,
        "start_time": "2023-07-22T11:38:50.306Z"
      },
      {
        "duration": 123,
        "start_time": "2023-07-22T11:38:50.341Z"
      },
      {
        "duration": 83,
        "start_time": "2023-07-22T11:38:50.466Z"
      },
      {
        "duration": 61,
        "start_time": "2023-07-22T11:38:50.551Z"
      },
      {
        "duration": 35,
        "start_time": "2023-07-22T11:38:50.614Z"
      },
      {
        "duration": 355,
        "start_time": "2023-07-22T11:38:50.651Z"
      },
      {
        "duration": 87,
        "start_time": "2023-07-22T11:38:51.009Z"
      },
      {
        "duration": 491,
        "start_time": "2023-07-22T11:38:51.098Z"
      },
      {
        "duration": 46,
        "start_time": "2023-07-22T11:38:51.591Z"
      },
      {
        "duration": 308,
        "start_time": "2023-07-22T11:38:51.639Z"
      },
      {
        "duration": 31,
        "start_time": "2023-07-22T11:38:51.949Z"
      },
      {
        "duration": 175,
        "start_time": "2023-07-22T11:38:51.981Z"
      },
      {
        "duration": 17,
        "start_time": "2023-07-22T11:38:52.158Z"
      },
      {
        "duration": 230,
        "start_time": "2023-07-22T11:38:52.177Z"
      },
      {
        "duration": 11,
        "start_time": "2023-07-22T11:38:52.408Z"
      },
      {
        "duration": 22,
        "start_time": "2023-07-22T11:38:52.420Z"
      },
      {
        "duration": 42,
        "start_time": "2023-07-22T11:38:52.444Z"
      },
      {
        "duration": 28,
        "start_time": "2023-07-22T11:38:52.487Z"
      },
      {
        "duration": 18,
        "start_time": "2023-07-22T11:38:52.516Z"
      },
      {
        "duration": 34,
        "start_time": "2023-07-22T11:38:52.535Z"
      },
      {
        "duration": 244,
        "start_time": "2023-07-22T11:38:52.571Z"
      },
      {
        "duration": 332,
        "start_time": "2023-07-22T11:38:52.816Z"
      },
      {
        "duration": 26,
        "start_time": "2023-07-22T11:38:53.150Z"
      },
      {
        "duration": 145,
        "start_time": "2023-07-22T11:38:53.178Z"
      },
      {
        "duration": 10,
        "start_time": "2023-07-22T11:38:53.325Z"
      },
      {
        "duration": 33,
        "start_time": "2023-07-22T11:38:53.336Z"
      },
      {
        "duration": 33,
        "start_time": "2023-07-22T11:38:53.370Z"
      },
      {
        "duration": 40,
        "start_time": "2023-07-22T11:38:53.405Z"
      },
      {
        "duration": 19,
        "start_time": "2023-07-22T11:38:53.447Z"
      },
      {
        "duration": 30,
        "start_time": "2023-07-22T11:38:53.467Z"
      },
      {
        "duration": 16,
        "start_time": "2023-07-22T11:38:53.499Z"
      },
      {
        "duration": 90,
        "start_time": "2023-07-22T11:38:53.516Z"
      },
      {
        "duration": 711,
        "start_time": "2023-07-22T11:38:53.608Z"
      },
      {
        "duration": 17,
        "start_time": "2023-07-22T11:38:54.320Z"
      },
      {
        "duration": 236,
        "start_time": "2023-07-22T11:38:54.339Z"
      },
      {
        "duration": 31,
        "start_time": "2023-07-22T11:38:54.577Z"
      },
      {
        "duration": 2,
        "start_time": "2023-07-22T11:38:54.610Z"
      },
      {
        "duration": 47,
        "start_time": "2023-07-22T11:38:54.614Z"
      },
      {
        "duration": 12,
        "start_time": "2023-07-22T11:38:56.119Z"
      },
      {
        "duration": 4,
        "start_time": "2023-07-22T11:38:56.544Z"
      },
      {
        "duration": 4,
        "start_time": "2023-07-22T11:39:10.736Z"
      },
      {
        "duration": 949,
        "start_time": "2023-07-22T11:39:11.832Z"
      },
      {
        "duration": 65,
        "start_time": "2023-07-22T11:39:24.686Z"
      },
      {
        "duration": 7,
        "start_time": "2023-07-22T11:39:28.340Z"
      },
      {
        "duration": 2104,
        "start_time": "2023-07-22T11:39:33.930Z"
      },
      {
        "duration": 1627,
        "start_time": "2023-07-22T11:39:36.037Z"
      },
      {
        "duration": 998,
        "start_time": "2023-07-22T11:39:37.665Z"
      },
      {
        "duration": 25,
        "start_time": "2023-07-22T11:39:38.665Z"
      },
      {
        "duration": 133,
        "start_time": "2023-07-22T11:39:38.691Z"
      },
      {
        "duration": 95,
        "start_time": "2023-07-22T11:39:38.826Z"
      },
      {
        "duration": 80,
        "start_time": "2023-07-22T11:39:38.923Z"
      },
      {
        "duration": 62,
        "start_time": "2023-07-22T11:39:39.004Z"
      },
      {
        "duration": 277,
        "start_time": "2023-07-22T11:39:39.068Z"
      },
      {
        "duration": 85,
        "start_time": "2023-07-22T11:39:39.347Z"
      },
      {
        "duration": 403,
        "start_time": "2023-07-22T11:39:39.433Z"
      },
      {
        "duration": 14,
        "start_time": "2023-07-22T11:39:39.838Z"
      },
      {
        "duration": 322,
        "start_time": "2023-07-22T11:39:39.854Z"
      },
      {
        "duration": 40,
        "start_time": "2023-07-22T11:39:40.178Z"
      },
      {
        "duration": 184,
        "start_time": "2023-07-22T11:39:40.219Z"
      },
      {
        "duration": 27,
        "start_time": "2023-07-22T11:39:40.405Z"
      },
      {
        "duration": 205,
        "start_time": "2023-07-22T11:39:40.434Z"
      },
      {
        "duration": 13,
        "start_time": "2023-07-22T11:39:40.642Z"
      },
      {
        "duration": 4,
        "start_time": "2023-07-22T11:39:40.657Z"
      },
      {
        "duration": 36,
        "start_time": "2023-07-22T11:39:40.663Z"
      },
      {
        "duration": 43,
        "start_time": "2023-07-22T11:39:40.701Z"
      },
      {
        "duration": 19,
        "start_time": "2023-07-22T11:39:40.746Z"
      },
      {
        "duration": 30,
        "start_time": "2023-07-22T11:39:40.767Z"
      },
      {
        "duration": 264,
        "start_time": "2023-07-22T11:39:40.799Z"
      },
      {
        "duration": 340,
        "start_time": "2023-07-22T11:39:41.065Z"
      },
      {
        "duration": 39,
        "start_time": "2023-07-22T11:39:41.407Z"
      },
      {
        "duration": 135,
        "start_time": "2023-07-22T11:39:41.447Z"
      },
      {
        "duration": 5,
        "start_time": "2023-07-22T11:39:41.586Z"
      },
      {
        "duration": 45,
        "start_time": "2023-07-22T11:39:41.593Z"
      },
      {
        "duration": 34,
        "start_time": "2023-07-22T11:39:41.639Z"
      },
      {
        "duration": 44,
        "start_time": "2023-07-22T11:39:41.674Z"
      },
      {
        "duration": 25,
        "start_time": "2023-07-22T11:39:41.719Z"
      },
      {
        "duration": 17,
        "start_time": "2023-07-22T11:39:41.745Z"
      },
      {
        "duration": 12,
        "start_time": "2023-07-22T11:39:41.763Z"
      },
      {
        "duration": 91,
        "start_time": "2023-07-22T11:39:41.777Z"
      },
      {
        "duration": 697,
        "start_time": "2023-07-22T11:39:41.870Z"
      },
      {
        "duration": 13,
        "start_time": "2023-07-22T11:39:42.569Z"
      },
      {
        "duration": 87,
        "start_time": "2023-07-22T11:39:42.584Z"
      },
      {
        "duration": 33,
        "start_time": "2023-07-22T11:39:42.672Z"
      },
      {
        "duration": 3,
        "start_time": "2023-07-22T11:39:42.707Z"
      },
      {
        "duration": 32,
        "start_time": "2023-07-22T11:39:42.712Z"
      },
      {
        "duration": 15,
        "start_time": "2023-07-22T11:39:42.745Z"
      },
      {
        "duration": 6,
        "start_time": "2023-07-22T11:39:42.761Z"
      },
      {
        "duration": 851,
        "start_time": "2023-07-22T11:39:42.768Z"
      },
      {
        "duration": 907,
        "start_time": "2023-07-22T11:39:44.783Z"
      },
      {
        "duration": 46,
        "start_time": "2023-07-22T11:40:18.841Z"
      },
      {
        "duration": 7,
        "start_time": "2023-07-22T11:40:22.109Z"
      },
      {
        "duration": 6,
        "start_time": "2023-07-22T11:40:29.684Z"
      },
      {
        "duration": 2097,
        "start_time": "2023-07-22T11:40:36.792Z"
      },
      {
        "duration": 1575,
        "start_time": "2023-07-22T11:40:38.892Z"
      },
      {
        "duration": 991,
        "start_time": "2023-07-22T11:40:40.468Z"
      },
      {
        "duration": 22,
        "start_time": "2023-07-22T11:40:41.461Z"
      },
      {
        "duration": 204,
        "start_time": "2023-07-22T11:40:41.485Z"
      },
      {
        "duration": 97,
        "start_time": "2023-07-22T11:40:41.691Z"
      },
      {
        "duration": 79,
        "start_time": "2023-07-22T11:40:41.789Z"
      },
      {
        "duration": 64,
        "start_time": "2023-07-22T11:40:41.870Z"
      },
      {
        "duration": 267,
        "start_time": "2023-07-22T11:40:41.935Z"
      },
      {
        "duration": 84,
        "start_time": "2023-07-22T11:40:42.205Z"
      },
      {
        "duration": 428,
        "start_time": "2023-07-22T11:40:42.291Z"
      },
      {
        "duration": 22,
        "start_time": "2023-07-22T11:40:42.721Z"
      },
      {
        "duration": 342,
        "start_time": "2023-07-22T11:40:42.745Z"
      },
      {
        "duration": 48,
        "start_time": "2023-07-22T11:40:43.089Z"
      },
      {
        "duration": 195,
        "start_time": "2023-07-22T11:40:43.139Z"
      },
      {
        "duration": 24,
        "start_time": "2023-07-22T11:40:43.335Z"
      },
      {
        "duration": 232,
        "start_time": "2023-07-22T11:40:43.361Z"
      },
      {
        "duration": 12,
        "start_time": "2023-07-22T11:40:43.595Z"
      },
      {
        "duration": 5,
        "start_time": "2023-07-22T11:40:43.608Z"
      },
      {
        "duration": 47,
        "start_time": "2023-07-22T11:40:43.615Z"
      },
      {
        "duration": 30,
        "start_time": "2023-07-22T11:40:43.665Z"
      },
      {
        "duration": 40,
        "start_time": "2023-07-22T11:40:43.697Z"
      },
      {
        "duration": 19,
        "start_time": "2023-07-22T11:40:43.739Z"
      },
      {
        "duration": 266,
        "start_time": "2023-07-22T11:40:43.759Z"
      },
      {
        "duration": 375,
        "start_time": "2023-07-22T11:40:44.026Z"
      },
      {
        "duration": 37,
        "start_time": "2023-07-22T11:40:44.402Z"
      },
      {
        "duration": 156,
        "start_time": "2023-07-22T11:40:44.441Z"
      },
      {
        "duration": 6,
        "start_time": "2023-07-22T11:40:44.601Z"
      },
      {
        "duration": 48,
        "start_time": "2023-07-22T11:40:44.608Z"
      },
      {
        "duration": 21,
        "start_time": "2023-07-22T11:40:44.658Z"
      },
      {
        "duration": 31,
        "start_time": "2023-07-22T11:40:44.681Z"
      },
      {
        "duration": 35,
        "start_time": "2023-07-22T11:40:44.713Z"
      },
      {
        "duration": 8,
        "start_time": "2023-07-22T11:40:44.751Z"
      },
      {
        "duration": 25,
        "start_time": "2023-07-22T11:40:44.761Z"
      },
      {
        "duration": 151,
        "start_time": "2023-07-22T11:40:44.788Z"
      },
      {
        "duration": 784,
        "start_time": "2023-07-22T11:40:44.942Z"
      },
      {
        "duration": 17,
        "start_time": "2023-07-22T11:40:45.727Z"
      },
      {
        "duration": 70,
        "start_time": "2023-07-22T11:40:45.746Z"
      },
      {
        "duration": 40,
        "start_time": "2023-07-22T11:40:45.818Z"
      },
      {
        "duration": 8,
        "start_time": "2023-07-22T11:40:45.859Z"
      },
      {
        "duration": 34,
        "start_time": "2023-07-22T11:40:45.869Z"
      },
      {
        "duration": 24,
        "start_time": "2023-07-22T11:40:45.905Z"
      },
      {
        "duration": 17,
        "start_time": "2023-07-22T11:40:45.931Z"
      },
      {
        "duration": 915,
        "start_time": "2023-07-22T11:40:45.950Z"
      },
      {
        "duration": 46,
        "start_time": "2023-07-22T11:42:00.249Z"
      },
      {
        "duration": 2201,
        "start_time": "2023-07-22T11:44:14.195Z"
      },
      {
        "duration": 1782,
        "start_time": "2023-07-22T11:44:16.399Z"
      },
      {
        "duration": 979,
        "start_time": "2023-07-22T11:44:18.183Z"
      },
      {
        "duration": 22,
        "start_time": "2023-07-22T11:44:19.164Z"
      },
      {
        "duration": 122,
        "start_time": "2023-07-22T11:44:19.188Z"
      },
      {
        "duration": 89,
        "start_time": "2023-07-22T11:44:19.312Z"
      },
      {
        "duration": 82,
        "start_time": "2023-07-22T11:44:19.403Z"
      },
      {
        "duration": 57,
        "start_time": "2023-07-22T11:44:19.486Z"
      },
      {
        "duration": 253,
        "start_time": "2023-07-22T11:44:19.544Z"
      },
      {
        "duration": 83,
        "start_time": "2023-07-22T11:44:19.798Z"
      },
      {
        "duration": 368,
        "start_time": "2023-07-22T11:44:19.883Z"
      },
      {
        "duration": 14,
        "start_time": "2023-07-22T11:44:20.253Z"
      },
      {
        "duration": 312,
        "start_time": "2023-07-22T11:44:20.269Z"
      },
      {
        "duration": 38,
        "start_time": "2023-07-22T11:44:20.585Z"
      },
      {
        "duration": 166,
        "start_time": "2023-07-22T11:44:20.632Z"
      },
      {
        "duration": 17,
        "start_time": "2023-07-22T11:44:20.800Z"
      },
      {
        "duration": 204,
        "start_time": "2023-07-22T11:44:20.819Z"
      },
      {
        "duration": 14,
        "start_time": "2023-07-22T11:44:21.025Z"
      },
      {
        "duration": 14,
        "start_time": "2023-07-22T11:44:21.040Z"
      },
      {
        "duration": 32,
        "start_time": "2023-07-22T11:44:21.055Z"
      },
      {
        "duration": 26,
        "start_time": "2023-07-22T11:44:21.088Z"
      },
      {
        "duration": 29,
        "start_time": "2023-07-22T11:44:21.116Z"
      },
      {
        "duration": 21,
        "start_time": "2023-07-22T11:44:21.146Z"
      },
      {
        "duration": 246,
        "start_time": "2023-07-22T11:44:21.169Z"
      },
      {
        "duration": 356,
        "start_time": "2023-07-22T11:44:21.417Z"
      },
      {
        "duration": 27,
        "start_time": "2023-07-22T11:44:21.775Z"
      },
      {
        "duration": 144,
        "start_time": "2023-07-22T11:44:21.803Z"
      },
      {
        "duration": 7,
        "start_time": "2023-07-22T11:44:21.948Z"
      },
      {
        "duration": 35,
        "start_time": "2023-07-22T11:44:21.957Z"
      },
      {
        "duration": 19,
        "start_time": "2023-07-22T11:44:21.994Z"
      },
      {
        "duration": 30,
        "start_time": "2023-07-22T11:44:22.031Z"
      },
      {
        "duration": 27,
        "start_time": "2023-07-22T11:44:22.063Z"
      },
      {
        "duration": 8,
        "start_time": "2023-07-22T11:44:22.091Z"
      },
      {
        "duration": 8,
        "start_time": "2023-07-22T11:44:22.101Z"
      },
      {
        "duration": 104,
        "start_time": "2023-07-22T11:44:22.111Z"
      },
      {
        "duration": 709,
        "start_time": "2023-07-22T11:44:22.217Z"
      },
      {
        "duration": 13,
        "start_time": "2023-07-22T11:44:22.931Z"
      },
      {
        "duration": 85,
        "start_time": "2023-07-22T11:44:22.946Z"
      },
      {
        "duration": 30,
        "start_time": "2023-07-22T11:44:23.033Z"
      },
      {
        "duration": 106,
        "start_time": "2023-07-22T11:44:23.064Z"
      },
      {
        "duration": 0,
        "start_time": "2023-07-22T11:44:23.173Z"
      },
      {
        "duration": 0,
        "start_time": "2023-07-22T11:44:23.174Z"
      },
      {
        "duration": 0,
        "start_time": "2023-07-22T11:44:23.175Z"
      },
      {
        "duration": 0,
        "start_time": "2023-07-22T11:44:23.176Z"
      },
      {
        "duration": 0,
        "start_time": "2023-07-22T11:44:23.177Z"
      },
      {
        "duration": 0,
        "start_time": "2023-07-22T11:44:23.178Z"
      },
      {
        "duration": 0,
        "start_time": "2023-07-22T11:44:23.179Z"
      },
      {
        "duration": 0,
        "start_time": "2023-07-22T11:44:23.180Z"
      },
      {
        "duration": 0,
        "start_time": "2023-07-22T11:44:23.181Z"
      },
      {
        "duration": 0,
        "start_time": "2023-07-22T11:44:23.182Z"
      },
      {
        "duration": 0,
        "start_time": "2023-07-22T11:44:23.183Z"
      },
      {
        "duration": 0,
        "start_time": "2023-07-22T11:44:23.184Z"
      },
      {
        "duration": 0,
        "start_time": "2023-07-22T11:44:23.185Z"
      },
      {
        "duration": 0,
        "start_time": "2023-07-22T11:44:23.186Z"
      },
      {
        "duration": 0,
        "start_time": "2023-07-22T11:44:23.186Z"
      },
      {
        "duration": 0,
        "start_time": "2023-07-22T11:44:23.188Z"
      },
      {
        "duration": 0,
        "start_time": "2023-07-22T11:44:23.189Z"
      },
      {
        "duration": 0,
        "start_time": "2023-07-22T11:44:23.189Z"
      },
      {
        "duration": 0,
        "start_time": "2023-07-22T11:44:23.190Z"
      },
      {
        "duration": 0,
        "start_time": "2023-07-22T11:44:23.191Z"
      },
      {
        "duration": 0,
        "start_time": "2023-07-22T11:44:23.231Z"
      },
      {
        "duration": 0,
        "start_time": "2023-07-22T11:44:23.232Z"
      },
      {
        "duration": 0,
        "start_time": "2023-07-22T11:44:23.233Z"
      },
      {
        "duration": 0,
        "start_time": "2023-07-22T11:44:23.235Z"
      },
      {
        "duration": 1,
        "start_time": "2023-07-22T11:44:23.235Z"
      },
      {
        "duration": 0,
        "start_time": "2023-07-22T11:44:23.236Z"
      },
      {
        "duration": 0,
        "start_time": "2023-07-22T11:44:23.237Z"
      },
      {
        "duration": 10,
        "start_time": "2023-07-22T11:44:48.943Z"
      },
      {
        "duration": 17,
        "start_time": "2023-07-22T11:44:59.007Z"
      },
      {
        "duration": 2,
        "start_time": "2023-07-22T11:44:59.771Z"
      },
      {
        "duration": 5,
        "start_time": "2023-07-22T11:45:00.382Z"
      },
      {
        "duration": 9,
        "start_time": "2023-07-22T11:45:02.516Z"
      },
      {
        "duration": 9,
        "start_time": "2023-07-22T11:45:03.785Z"
      },
      {
        "duration": 15,
        "start_time": "2023-07-22T11:45:29.052Z"
      },
      {
        "duration": 484,
        "start_time": "2023-07-22T11:45:29.323Z"
      },
      {
        "duration": 178,
        "start_time": "2023-07-22T11:46:57.926Z"
      },
      {
        "duration": 3,
        "start_time": "2023-07-22T11:53:57.465Z"
      },
      {
        "duration": 215,
        "start_time": "2023-07-22T11:55:21.512Z"
      },
      {
        "duration": 10,
        "start_time": "2023-07-22T11:55:25.009Z"
      },
      {
        "duration": 467,
        "start_time": "2023-07-22T11:55:28.353Z"
      },
      {
        "duration": 35,
        "start_time": "2023-07-22T11:55:49.039Z"
      },
      {
        "duration": 220,
        "start_time": "2023-07-22T11:56:11.324Z"
      },
      {
        "duration": 12,
        "start_time": "2023-07-22T11:58:33.939Z"
      },
      {
        "duration": 478,
        "start_time": "2023-07-22T11:58:36.905Z"
      },
      {
        "duration": 118,
        "start_time": "2023-07-22T12:00:48.322Z"
      },
      {
        "duration": 175,
        "start_time": "2023-07-22T12:00:54.860Z"
      },
      {
        "duration": 11319,
        "start_time": "2023-07-22T12:02:12.232Z"
      },
      {
        "duration": 5,
        "start_time": "2023-07-22T12:02:42.327Z"
      },
      {
        "duration": 10,
        "start_time": "2023-07-22T12:06:03.721Z"
      },
      {
        "duration": 508,
        "start_time": "2023-07-22T12:06:04.225Z"
      },
      {
        "duration": 215,
        "start_time": "2023-07-22T12:06:05.397Z"
      },
      {
        "duration": 299,
        "start_time": "2023-07-22T12:06:05.947Z"
      },
      {
        "duration": 12608,
        "start_time": "2023-07-22T12:06:07.637Z"
      },
      {
        "duration": 5,
        "start_time": "2023-07-22T12:06:20.247Z"
      },
      {
        "duration": 126,
        "start_time": "2023-07-22T12:07:47.212Z"
      },
      {
        "duration": 3,
        "start_time": "2023-07-22T12:07:48.429Z"
      },
      {
        "duration": 3,
        "start_time": "2023-07-22T12:07:51.347Z"
      },
      {
        "duration": 239,
        "start_time": "2023-07-22T12:07:52.205Z"
      },
      {
        "duration": 59,
        "start_time": "2023-07-22T12:08:52.542Z"
      },
      {
        "duration": 25,
        "start_time": "2023-07-22T12:08:53.040Z"
      },
      {
        "duration": 3,
        "start_time": "2023-07-22T12:08:55.189Z"
      },
      {
        "duration": 3,
        "start_time": "2023-07-22T12:08:55.638Z"
      },
      {
        "duration": 125,
        "start_time": "2023-07-22T12:08:56.166Z"
      },
      {
        "duration": 2156,
        "start_time": "2023-07-22T12:09:07.751Z"
      },
      {
        "duration": 5,
        "start_time": "2023-07-22T12:09:09.909Z"
      },
      {
        "duration": 724,
        "start_time": "2023-07-22T12:09:09.916Z"
      },
      {
        "duration": 21,
        "start_time": "2023-07-22T12:09:10.642Z"
      },
      {
        "duration": 136,
        "start_time": "2023-07-22T12:09:10.666Z"
      },
      {
        "duration": 90,
        "start_time": "2023-07-22T12:09:10.804Z"
      },
      {
        "duration": 70,
        "start_time": "2023-07-22T12:09:10.896Z"
      },
      {
        "duration": 23,
        "start_time": "2023-07-22T12:09:10.968Z"
      },
      {
        "duration": 241,
        "start_time": "2023-07-22T12:09:10.993Z"
      },
      {
        "duration": 80,
        "start_time": "2023-07-22T12:09:11.235Z"
      },
      {
        "duration": 409,
        "start_time": "2023-07-22T12:09:11.317Z"
      },
      {
        "duration": 15,
        "start_time": "2023-07-22T12:09:11.728Z"
      },
      {
        "duration": 339,
        "start_time": "2023-07-22T12:09:11.745Z"
      },
      {
        "duration": 52,
        "start_time": "2023-07-22T12:09:12.089Z"
      },
      {
        "duration": 182,
        "start_time": "2023-07-22T12:09:12.143Z"
      },
      {
        "duration": 20,
        "start_time": "2023-07-22T12:09:12.331Z"
      },
      {
        "duration": 153,
        "start_time": "2023-07-22T12:09:12.353Z"
      },
      {
        "duration": 11,
        "start_time": "2023-07-22T12:09:12.508Z"
      },
      {
        "duration": 2,
        "start_time": "2023-07-22T12:09:12.532Z"
      },
      {
        "duration": 35,
        "start_time": "2023-07-22T12:09:12.536Z"
      },
      {
        "duration": 30,
        "start_time": "2023-07-22T12:09:12.573Z"
      },
      {
        "duration": 41,
        "start_time": "2023-07-22T12:09:12.604Z"
      },
      {
        "duration": 22,
        "start_time": "2023-07-22T12:09:12.647Z"
      },
      {
        "duration": 276,
        "start_time": "2023-07-22T12:09:12.671Z"
      },
      {
        "duration": 375,
        "start_time": "2023-07-22T12:09:12.949Z"
      },
      {
        "duration": 35,
        "start_time": "2023-07-22T12:09:13.325Z"
      },
      {
        "duration": 267,
        "start_time": "2023-07-22T12:09:13.362Z"
      },
      {
        "duration": 6,
        "start_time": "2023-07-22T12:09:13.632Z"
      },
      {
        "duration": 64,
        "start_time": "2023-07-22T12:09:13.639Z"
      },
      {
        "duration": 28,
        "start_time": "2023-07-22T12:09:13.704Z"
      },
      {
        "duration": 38,
        "start_time": "2023-07-22T12:09:13.734Z"
      },
      {
        "duration": 29,
        "start_time": "2023-07-22T12:09:13.774Z"
      },
      {
        "duration": 16,
        "start_time": "2023-07-22T12:09:13.805Z"
      },
      {
        "duration": 7,
        "start_time": "2023-07-22T12:09:13.823Z"
      },
      {
        "duration": 101,
        "start_time": "2023-07-22T12:09:13.832Z"
      },
      {
        "duration": 799,
        "start_time": "2023-07-22T12:09:13.935Z"
      },
      {
        "duration": 20,
        "start_time": "2023-07-22T12:09:14.736Z"
      },
      {
        "duration": 93,
        "start_time": "2023-07-22T12:09:14.758Z"
      },
      {
        "duration": 34,
        "start_time": "2023-07-22T12:09:14.853Z"
      },
      {
        "duration": 16,
        "start_time": "2023-07-22T12:09:14.889Z"
      },
      {
        "duration": 33,
        "start_time": "2023-07-22T12:09:14.910Z"
      },
      {
        "duration": 515,
        "start_time": "2023-07-22T12:09:14.944Z"
      },
      {
        "duration": 197,
        "start_time": "2023-07-22T12:09:15.461Z"
      },
      {
        "duration": 188,
        "start_time": "2023-07-22T12:09:15.660Z"
      },
      {
        "duration": 10591,
        "start_time": "2023-07-22T12:09:15.850Z"
      },
      {
        "duration": 5,
        "start_time": "2023-07-22T12:09:26.443Z"
      },
      {
        "duration": 17,
        "start_time": "2023-07-22T12:09:45.585Z"
      },
      {
        "duration": 140,
        "start_time": "2023-07-22T12:09:46.115Z"
      },
      {
        "duration": 64,
        "start_time": "2023-07-22T12:09:46.464Z"
      },
      {
        "duration": 25,
        "start_time": "2023-07-22T12:09:46.756Z"
      },
      {
        "duration": 3,
        "start_time": "2023-07-22T12:09:47.509Z"
      },
      {
        "duration": 3,
        "start_time": "2023-07-22T12:09:48.017Z"
      },
      {
        "duration": 148,
        "start_time": "2023-07-22T12:09:48.465Z"
      },
      {
        "duration": 7,
        "start_time": "2023-07-22T12:10:09.471Z"
      },
      {
        "duration": 4,
        "start_time": "2023-07-22T12:10:09.798Z"
      },
      {
        "duration": 67,
        "start_time": "2023-07-22T12:10:10.079Z"
      },
      {
        "duration": 25,
        "start_time": "2023-07-22T12:10:10.408Z"
      },
      {
        "duration": 6,
        "start_time": "2023-07-22T12:10:19.767Z"
      },
      {
        "duration": 9,
        "start_time": "2023-07-22T12:10:19.938Z"
      },
      {
        "duration": 37,
        "start_time": "2023-07-22T12:10:20.179Z"
      },
      {
        "duration": 18,
        "start_time": "2023-07-22T12:10:20.279Z"
      },
      {
        "duration": 3,
        "start_time": "2023-07-22T12:10:20.467Z"
      },
      {
        "duration": 2,
        "start_time": "2023-07-22T12:10:20.565Z"
      },
      {
        "duration": 332528,
        "start_time": "2023-07-22T12:10:20.705Z"
      },
      {
        "duration": 713,
        "start_time": "2023-07-22T12:15:53.235Z"
      },
      {
        "duration": 4,
        "start_time": "2023-07-22T12:15:53.950Z"
      },
      {
        "duration": 38068,
        "start_time": "2023-07-22T12:17:50.671Z"
      },
      {
        "duration": 5,
        "start_time": "2023-07-22T12:18:28.740Z"
      },
      {
        "duration": 5,
        "start_time": "2023-07-22T12:21:49.243Z"
      },
      {
        "duration": 45,
        "start_time": "2023-07-22T12:21:54.690Z"
      },
      {
        "duration": 21,
        "start_time": "2023-07-22T12:21:55.115Z"
      },
      {
        "duration": 18,
        "start_time": "2023-07-22T12:21:55.437Z"
      },
      {
        "duration": 5,
        "start_time": "2023-07-22T12:21:55.971Z"
      },
      {
        "duration": 84,
        "start_time": "2023-07-22T12:21:56.678Z"
      },
      {
        "duration": 2226,
        "start_time": "2023-07-22T12:22:02.307Z"
      },
      {
        "duration": 4,
        "start_time": "2023-07-22T12:22:04.535Z"
      },
      {
        "duration": 746,
        "start_time": "2023-07-22T12:22:04.541Z"
      },
      {
        "duration": 21,
        "start_time": "2023-07-22T12:22:05.289Z"
      },
      {
        "duration": 183,
        "start_time": "2023-07-22T12:22:05.311Z"
      },
      {
        "duration": 88,
        "start_time": "2023-07-22T12:22:05.495Z"
      },
      {
        "duration": 77,
        "start_time": "2023-07-22T12:22:05.584Z"
      },
      {
        "duration": 25,
        "start_time": "2023-07-22T12:22:05.662Z"
      },
      {
        "duration": 249,
        "start_time": "2023-07-22T12:22:05.689Z"
      },
      {
        "duration": 98,
        "start_time": "2023-07-22T12:22:05.941Z"
      },
      {
        "duration": 439,
        "start_time": "2023-07-22T12:22:06.041Z"
      },
      {
        "duration": 15,
        "start_time": "2023-07-22T12:22:06.482Z"
      },
      {
        "duration": 334,
        "start_time": "2023-07-22T12:22:06.499Z"
      },
      {
        "duration": 26,
        "start_time": "2023-07-22T12:22:06.835Z"
      },
      {
        "duration": 189,
        "start_time": "2023-07-22T12:22:06.863Z"
      },
      {
        "duration": 20,
        "start_time": "2023-07-22T12:22:07.054Z"
      },
      {
        "duration": 156,
        "start_time": "2023-07-22T12:22:07.076Z"
      },
      {
        "duration": 12,
        "start_time": "2023-07-22T12:22:07.234Z"
      },
      {
        "duration": 76,
        "start_time": "2023-07-22T12:22:07.248Z"
      },
      {
        "duration": 74,
        "start_time": "2023-07-22T12:22:07.326Z"
      },
      {
        "duration": 29,
        "start_time": "2023-07-22T12:22:07.402Z"
      },
      {
        "duration": 97,
        "start_time": "2023-07-22T12:22:07.433Z"
      },
      {
        "duration": 20,
        "start_time": "2023-07-22T12:22:07.532Z"
      },
      {
        "duration": 398,
        "start_time": "2023-07-22T12:22:07.554Z"
      },
      {
        "duration": 345,
        "start_time": "2023-07-22T12:22:07.954Z"
      },
      {
        "duration": 39,
        "start_time": "2023-07-22T12:22:08.301Z"
      },
      {
        "duration": 139,
        "start_time": "2023-07-22T12:22:08.342Z"
      },
      {
        "duration": 5,
        "start_time": "2023-07-22T12:22:08.484Z"
      },
      {
        "duration": 44,
        "start_time": "2023-07-22T12:22:08.491Z"
      },
      {
        "duration": 35,
        "start_time": "2023-07-22T12:22:08.537Z"
      },
      {
        "duration": 45,
        "start_time": "2023-07-22T12:22:08.574Z"
      },
      {
        "duration": 24,
        "start_time": "2023-07-22T12:22:08.621Z"
      },
      {
        "duration": 19,
        "start_time": "2023-07-22T12:22:08.646Z"
      },
      {
        "duration": 25,
        "start_time": "2023-07-22T12:22:08.666Z"
      },
      {
        "duration": 99,
        "start_time": "2023-07-22T12:22:08.693Z"
      },
      {
        "duration": 713,
        "start_time": "2023-07-22T12:22:08.794Z"
      },
      {
        "duration": 14,
        "start_time": "2023-07-22T12:22:09.509Z"
      },
      {
        "duration": 68,
        "start_time": "2023-07-22T12:22:09.525Z"
      },
      {
        "duration": 38,
        "start_time": "2023-07-22T12:22:09.595Z"
      },
      {
        "duration": 11,
        "start_time": "2023-07-22T12:22:09.635Z"
      },
      {
        "duration": 9,
        "start_time": "2023-07-22T12:22:09.648Z"
      },
      {
        "duration": 13,
        "start_time": "2023-07-22T12:22:15.857Z"
      },
      {
        "duration": 412,
        "start_time": "2023-07-22T12:22:16.173Z"
      },
      {
        "duration": 137,
        "start_time": "2023-07-22T12:22:17.790Z"
      },
      {
        "duration": 126,
        "start_time": "2023-07-22T12:22:18.659Z"
      },
      {
        "duration": 37523,
        "start_time": "2023-07-22T12:22:22.924Z"
      },
      {
        "duration": 5,
        "start_time": "2023-07-22T12:23:00.449Z"
      },
      {
        "duration": 223,
        "start_time": "2023-07-22T12:24:03.238Z"
      },
      {
        "duration": 5,
        "start_time": "2023-07-22T12:24:03.947Z"
      },
      {
        "duration": 189960,
        "start_time": "2023-07-22T12:24:04.717Z"
      },
      {
        "duration": 635,
        "start_time": "2023-07-22T12:27:14.679Z"
      },
      {
        "duration": 3,
        "start_time": "2023-07-22T12:46:25.405Z"
      },
      {
        "duration": 2086,
        "start_time": "2023-07-22T12:57:48.994Z"
      },
      {
        "duration": 5,
        "start_time": "2023-07-22T12:57:51.082Z"
      },
      {
        "duration": 688,
        "start_time": "2023-07-22T12:57:51.089Z"
      },
      {
        "duration": 20,
        "start_time": "2023-07-22T12:57:51.779Z"
      },
      {
        "duration": 131,
        "start_time": "2023-07-22T12:57:51.801Z"
      },
      {
        "duration": 77,
        "start_time": "2023-07-22T12:57:51.934Z"
      },
      {
        "duration": 78,
        "start_time": "2023-07-22T12:57:52.012Z"
      },
      {
        "duration": 26,
        "start_time": "2023-07-22T12:57:52.092Z"
      },
      {
        "duration": 229,
        "start_time": "2023-07-22T12:57:52.120Z"
      },
      {
        "duration": 88,
        "start_time": "2023-07-22T12:57:52.350Z"
      },
      {
        "duration": 363,
        "start_time": "2023-07-22T12:57:52.439Z"
      },
      {
        "duration": 13,
        "start_time": "2023-07-22T12:57:52.804Z"
      },
      {
        "duration": 319,
        "start_time": "2023-07-22T12:57:52.819Z"
      },
      {
        "duration": 27,
        "start_time": "2023-07-22T12:57:53.141Z"
      },
      {
        "duration": 296,
        "start_time": "2023-07-22T12:57:53.170Z"
      },
      {
        "duration": 17,
        "start_time": "2023-07-22T12:57:53.467Z"
      },
      {
        "duration": 125,
        "start_time": "2023-07-22T12:57:53.486Z"
      },
      {
        "duration": 19,
        "start_time": "2023-07-22T12:57:53.613Z"
      },
      {
        "duration": 3,
        "start_time": "2023-07-22T12:57:53.633Z"
      },
      {
        "duration": 51,
        "start_time": "2023-07-22T12:57:53.637Z"
      },
      {
        "duration": 27,
        "start_time": "2023-07-22T12:57:53.690Z"
      },
      {
        "duration": 18,
        "start_time": "2023-07-22T12:57:53.719Z"
      },
      {
        "duration": 31,
        "start_time": "2023-07-22T12:57:53.739Z"
      },
      {
        "duration": 240,
        "start_time": "2023-07-22T12:57:53.772Z"
      },
      {
        "duration": 331,
        "start_time": "2023-07-22T12:57:54.013Z"
      },
      {
        "duration": 31,
        "start_time": "2023-07-22T12:57:54.346Z"
      },
      {
        "duration": 142,
        "start_time": "2023-07-22T12:57:54.379Z"
      },
      {
        "duration": 10,
        "start_time": "2023-07-22T12:57:54.523Z"
      },
      {
        "duration": 31,
        "start_time": "2023-07-22T12:57:54.535Z"
      },
      {
        "duration": 22,
        "start_time": "2023-07-22T12:57:54.568Z"
      },
      {
        "duration": 43,
        "start_time": "2023-07-22T12:57:54.592Z"
      },
      {
        "duration": 29,
        "start_time": "2023-07-22T12:57:54.637Z"
      },
      {
        "duration": 15,
        "start_time": "2023-07-22T12:57:54.667Z"
      },
      {
        "duration": 8,
        "start_time": "2023-07-22T12:57:54.684Z"
      },
      {
        "duration": 110,
        "start_time": "2023-07-22T12:57:54.694Z"
      },
      {
        "duration": 719,
        "start_time": "2023-07-22T12:57:54.806Z"
      },
      {
        "duration": 16,
        "start_time": "2023-07-22T12:57:55.526Z"
      },
      {
        "duration": 62,
        "start_time": "2023-07-22T12:57:55.543Z"
      },
      {
        "duration": 42,
        "start_time": "2023-07-22T12:57:55.607Z"
      },
      {
        "duration": 12,
        "start_time": "2023-07-22T12:57:55.650Z"
      },
      {
        "duration": 8,
        "start_time": "2023-07-22T12:57:55.666Z"
      },
      {
        "duration": 398,
        "start_time": "2023-07-22T12:57:55.676Z"
      },
      {
        "duration": 126,
        "start_time": "2023-07-22T12:57:56.075Z"
      },
      {
        "duration": 124,
        "start_time": "2023-07-22T12:57:56.203Z"
      },
      {
        "duration": 39314,
        "start_time": "2023-07-22T12:57:56.332Z"
      },
      {
        "duration": 5,
        "start_time": "2023-07-22T12:58:35.648Z"
      },
      {
        "duration": 6,
        "start_time": "2023-07-22T13:00:22.910Z"
      },
      {
        "duration": 6,
        "start_time": "2023-07-22T13:00:26.909Z"
      },
      {
        "duration": 4,
        "start_time": "2023-07-22T13:13:16.510Z"
      },
      {
        "duration": 10,
        "start_time": "2023-07-22T13:16:50.852Z"
      },
      {
        "duration": 9,
        "start_time": "2023-07-22T13:17:18.151Z"
      },
      {
        "duration": 15,
        "start_time": "2023-07-22T13:17:26.363Z"
      },
      {
        "duration": 2169,
        "start_time": "2023-07-22T13:17:33.635Z"
      },
      {
        "duration": 5,
        "start_time": "2023-07-22T13:17:35.806Z"
      },
      {
        "duration": 705,
        "start_time": "2023-07-22T13:17:35.812Z"
      },
      {
        "duration": 28,
        "start_time": "2023-07-22T13:17:36.520Z"
      },
      {
        "duration": 135,
        "start_time": "2023-07-22T13:17:36.550Z"
      },
      {
        "duration": 93,
        "start_time": "2023-07-22T13:17:36.686Z"
      },
      {
        "duration": 75,
        "start_time": "2023-07-22T13:17:36.780Z"
      },
      {
        "duration": 28,
        "start_time": "2023-07-22T13:17:36.857Z"
      },
      {
        "duration": 233,
        "start_time": "2023-07-22T13:17:36.887Z"
      },
      {
        "duration": 88,
        "start_time": "2023-07-22T13:17:37.123Z"
      },
      {
        "duration": 370,
        "start_time": "2023-07-22T13:17:37.212Z"
      },
      {
        "duration": 14,
        "start_time": "2023-07-22T13:17:37.584Z"
      },
      {
        "duration": 446,
        "start_time": "2023-07-22T13:17:37.600Z"
      },
      {
        "duration": 29,
        "start_time": "2023-07-22T13:17:38.047Z"
      },
      {
        "duration": 168,
        "start_time": "2023-07-22T13:17:38.078Z"
      },
      {
        "duration": 18,
        "start_time": "2023-07-22T13:17:38.247Z"
      },
      {
        "duration": 135,
        "start_time": "2023-07-22T13:17:38.267Z"
      },
      {
        "duration": 11,
        "start_time": "2023-07-22T13:17:38.404Z"
      },
      {
        "duration": 6,
        "start_time": "2023-07-22T13:17:38.416Z"
      },
      {
        "duration": 30,
        "start_time": "2023-07-22T13:17:38.432Z"
      },
      {
        "duration": 30,
        "start_time": "2023-07-22T13:17:38.464Z"
      },
      {
        "duration": 36,
        "start_time": "2023-07-22T13:17:38.496Z"
      },
      {
        "duration": 16,
        "start_time": "2023-07-22T13:17:38.533Z"
      },
      {
        "duration": 247,
        "start_time": "2023-07-22T13:17:38.551Z"
      },
      {
        "duration": 332,
        "start_time": "2023-07-22T13:17:38.799Z"
      },
      {
        "duration": 26,
        "start_time": "2023-07-22T13:17:39.133Z"
      },
      {
        "duration": 144,
        "start_time": "2023-07-22T13:17:39.161Z"
      },
      {
        "duration": 5,
        "start_time": "2023-07-22T13:17:39.309Z"
      },
      {
        "duration": 46,
        "start_time": "2023-07-22T13:17:39.315Z"
      },
      {
        "duration": 27,
        "start_time": "2023-07-22T13:17:39.363Z"
      },
      {
        "duration": 30,
        "start_time": "2023-07-22T13:17:39.392Z"
      },
      {
        "duration": 23,
        "start_time": "2023-07-22T13:17:39.423Z"
      },
      {
        "duration": 7,
        "start_time": "2023-07-22T13:17:39.447Z"
      },
      {
        "duration": 8,
        "start_time": "2023-07-22T13:17:39.456Z"
      },
      {
        "duration": 104,
        "start_time": "2023-07-22T13:17:39.466Z"
      },
      {
        "duration": 703,
        "start_time": "2023-07-22T13:17:39.572Z"
      },
      {
        "duration": 15,
        "start_time": "2023-07-22T13:17:40.277Z"
      },
      {
        "duration": 76,
        "start_time": "2023-07-22T13:17:40.293Z"
      },
      {
        "duration": 30,
        "start_time": "2023-07-22T13:17:40.371Z"
      },
      {
        "duration": 12,
        "start_time": "2023-07-22T13:17:40.403Z"
      },
      {
        "duration": 23,
        "start_time": "2023-07-22T13:17:40.417Z"
      },
      {
        "duration": 390,
        "start_time": "2023-07-22T13:17:40.441Z"
      },
      {
        "duration": 121,
        "start_time": "2023-07-22T13:17:40.833Z"
      },
      {
        "duration": 137,
        "start_time": "2023-07-22T13:17:40.955Z"
      },
      {
        "duration": 39347,
        "start_time": "2023-07-22T13:17:41.094Z"
      },
      {
        "duration": 6,
        "start_time": "2023-07-22T13:18:20.443Z"
      },
      {
        "duration": 158,
        "start_time": "2023-07-22T13:18:20.451Z"
      },
      {
        "duration": 8,
        "start_time": "2023-07-22T13:18:20.611Z"
      },
      {
        "duration": 84,
        "start_time": "2023-07-22T13:18:20.620Z"
      },
      {
        "duration": 17,
        "start_time": "2023-07-22T13:18:20.705Z"
      },
      {
        "duration": 76,
        "start_time": "2023-07-22T13:18:20.724Z"
      },
      {
        "duration": 38,
        "start_time": "2023-07-22T13:18:20.802Z"
      },
      {
        "duration": 4993,
        "start_time": "2023-07-22T13:18:20.841Z"
      },
      {
        "duration": 700,
        "start_time": "2023-07-22T13:18:25.835Z"
      },
      {
        "duration": 4,
        "start_time": "2023-07-22T13:18:26.537Z"
      },
      {
        "duration": 106,
        "start_time": "2023-07-22T13:18:26.542Z"
      },
      {
        "duration": 3,
        "start_time": "2023-07-22T13:18:26.649Z"
      },
      {
        "duration": 185658,
        "start_time": "2023-07-22T13:18:26.654Z"
      },
      {
        "duration": 511,
        "start_time": "2023-07-22T13:21:32.313Z"
      },
      {
        "duration": 8,
        "start_time": "2023-07-22T13:21:32.826Z"
      },
      {
        "duration": 12,
        "start_time": "2023-07-22T13:21:32.835Z"
      },
      {
        "duration": 29,
        "start_time": "2023-07-22T13:21:32.848Z"
      },
      {
        "duration": 0,
        "start_time": "2023-07-22T13:21:32.879Z"
      },
      {
        "duration": 0,
        "start_time": "2023-07-22T13:21:32.880Z"
      },
      {
        "duration": 0,
        "start_time": "2023-07-22T13:21:32.881Z"
      },
      {
        "duration": 0,
        "start_time": "2023-07-22T13:21:32.882Z"
      },
      {
        "duration": 0,
        "start_time": "2023-07-22T13:21:32.883Z"
      },
      {
        "duration": 0,
        "start_time": "2023-07-22T13:21:32.884Z"
      },
      {
        "duration": 0,
        "start_time": "2023-07-22T13:21:32.885Z"
      },
      {
        "duration": 151,
        "start_time": "2023-07-22T13:23:33.711Z"
      },
      {
        "duration": 12,
        "start_time": "2023-07-22T13:23:44.225Z"
      },
      {
        "duration": 10,
        "start_time": "2023-07-22T13:24:19.419Z"
      },
      {
        "duration": 493,
        "start_time": "2023-07-22T13:24:22.005Z"
      },
      {
        "duration": 4,
        "start_time": "2023-07-22T13:24:22.500Z"
      },
      {
        "duration": 4,
        "start_time": "2023-07-22T13:24:24.456Z"
      },
      {
        "duration": 9,
        "start_time": "2023-07-22T13:24:31.060Z"
      },
      {
        "duration": 22,
        "start_time": "2023-07-22T13:24:45.686Z"
      },
      {
        "duration": 9,
        "start_time": "2023-07-22T13:24:59.619Z"
      },
      {
        "duration": 9,
        "start_time": "2023-07-22T13:25:04.456Z"
      },
      {
        "duration": 9,
        "start_time": "2023-07-22T13:25:40.198Z"
      },
      {
        "duration": 11,
        "start_time": "2023-07-22T13:25:52.156Z"
      },
      {
        "duration": 10,
        "start_time": "2023-07-22T13:29:44.628Z"
      },
      {
        "duration": 10,
        "start_time": "2023-07-22T13:30:26.983Z"
      },
      {
        "duration": 10,
        "start_time": "2023-07-22T13:30:38.074Z"
      },
      {
        "duration": 14,
        "start_time": "2023-07-22T13:30:43.780Z"
      },
      {
        "duration": 10,
        "start_time": "2023-07-22T13:31:22.979Z"
      },
      {
        "duration": 10,
        "start_time": "2023-07-22T13:31:35.387Z"
      },
      {
        "duration": 10,
        "start_time": "2023-07-22T13:31:52.670Z"
      },
      {
        "duration": 2356,
        "start_time": "2023-07-22T13:32:43.689Z"
      },
      {
        "duration": 1247,
        "start_time": "2023-07-22T13:32:46.048Z"
      },
      {
        "duration": 781,
        "start_time": "2023-07-22T13:32:47.296Z"
      },
      {
        "duration": 26,
        "start_time": "2023-07-22T13:32:48.079Z"
      },
      {
        "duration": 141,
        "start_time": "2023-07-22T13:32:48.106Z"
      },
      {
        "duration": 94,
        "start_time": "2023-07-22T13:32:48.248Z"
      },
      {
        "duration": 70,
        "start_time": "2023-07-22T13:32:48.344Z"
      },
      {
        "duration": 65,
        "start_time": "2023-07-22T13:32:48.416Z"
      },
      {
        "duration": 282,
        "start_time": "2023-07-22T13:32:48.482Z"
      },
      {
        "duration": 84,
        "start_time": "2023-07-22T13:32:48.766Z"
      },
      {
        "duration": 376,
        "start_time": "2023-07-22T13:32:48.851Z"
      },
      {
        "duration": 15,
        "start_time": "2023-07-22T13:32:49.229Z"
      },
      {
        "duration": 318,
        "start_time": "2023-07-22T13:32:49.245Z"
      },
      {
        "duration": 37,
        "start_time": "2023-07-22T13:32:49.565Z"
      },
      {
        "duration": 178,
        "start_time": "2023-07-22T13:32:49.604Z"
      },
      {
        "duration": 19,
        "start_time": "2023-07-22T13:32:49.784Z"
      },
      {
        "duration": 207,
        "start_time": "2023-07-22T13:32:49.804Z"
      },
      {
        "duration": 19,
        "start_time": "2023-07-22T13:32:50.013Z"
      },
      {
        "duration": 3,
        "start_time": "2023-07-22T13:32:50.033Z"
      },
      {
        "duration": 49,
        "start_time": "2023-07-22T13:32:50.037Z"
      },
      {
        "duration": 31,
        "start_time": "2023-07-22T13:32:50.087Z"
      },
      {
        "duration": 17,
        "start_time": "2023-07-22T13:32:50.119Z"
      },
      {
        "duration": 30,
        "start_time": "2023-07-22T13:32:50.138Z"
      },
      {
        "duration": 273,
        "start_time": "2023-07-22T13:32:50.169Z"
      },
      {
        "duration": 350,
        "start_time": "2023-07-22T13:32:50.443Z"
      },
      {
        "duration": 37,
        "start_time": "2023-07-22T13:32:50.795Z"
      },
      {
        "duration": 157,
        "start_time": "2023-07-22T13:32:50.834Z"
      },
      {
        "duration": 7,
        "start_time": "2023-07-22T13:32:50.996Z"
      },
      {
        "duration": 45,
        "start_time": "2023-07-22T13:32:51.005Z"
      },
      {
        "duration": 28,
        "start_time": "2023-07-22T13:32:51.052Z"
      },
      {
        "duration": 50,
        "start_time": "2023-07-22T13:32:51.082Z"
      },
      {
        "duration": 20,
        "start_time": "2023-07-22T13:32:51.134Z"
      },
      {
        "duration": 13,
        "start_time": "2023-07-22T13:32:51.155Z"
      },
      {
        "duration": 8,
        "start_time": "2023-07-22T13:32:51.170Z"
      },
      {
        "duration": 112,
        "start_time": "2023-07-22T13:32:51.180Z"
      },
      {
        "duration": 817,
        "start_time": "2023-07-22T13:32:51.293Z"
      },
      {
        "duration": 22,
        "start_time": "2023-07-22T13:32:52.111Z"
      },
      {
        "duration": 112,
        "start_time": "2023-07-22T13:32:52.135Z"
      },
      {
        "duration": 83,
        "start_time": "2023-07-22T13:32:52.249Z"
      },
      {
        "duration": 18,
        "start_time": "2023-07-22T13:32:52.333Z"
      },
      {
        "duration": 31,
        "start_time": "2023-07-22T13:32:52.352Z"
      },
      {
        "duration": 517,
        "start_time": "2023-07-22T13:32:52.384Z"
      },
      {
        "duration": 128,
        "start_time": "2023-07-22T13:32:52.902Z"
      },
      {
        "duration": 131,
        "start_time": "2023-07-22T13:32:53.031Z"
      },
      {
        "duration": 39778,
        "start_time": "2023-07-22T13:32:53.164Z"
      },
      {
        "duration": 7,
        "start_time": "2023-07-22T13:33:32.944Z"
      },
      {
        "duration": 169,
        "start_time": "2023-07-22T13:33:32.953Z"
      },
      {
        "duration": 12,
        "start_time": "2023-07-22T13:33:33.124Z"
      },
      {
        "duration": 85,
        "start_time": "2023-07-22T13:33:33.137Z"
      },
      {
        "duration": 15,
        "start_time": "2023-07-22T13:33:33.224Z"
      },
      {
        "duration": 46,
        "start_time": "2023-07-22T13:33:33.241Z"
      },
      {
        "duration": 11,
        "start_time": "2023-07-22T13:33:33.288Z"
      },
      {
        "duration": 4838,
        "start_time": "2023-07-22T13:33:33.300Z"
      },
      {
        "duration": 710,
        "start_time": "2023-07-22T13:33:38.140Z"
      },
      {
        "duration": 4,
        "start_time": "2023-07-22T13:33:38.851Z"
      },
      {
        "duration": 130,
        "start_time": "2023-07-22T13:33:38.857Z"
      },
      {
        "duration": 3,
        "start_time": "2023-07-22T13:33:38.989Z"
      },
      {
        "duration": 2158,
        "start_time": "2023-07-22T13:35:42.940Z"
      },
      {
        "duration": 1226,
        "start_time": "2023-07-22T13:35:45.100Z"
      },
      {
        "duration": 829,
        "start_time": "2023-07-22T13:35:46.327Z"
      },
      {
        "duration": 25,
        "start_time": "2023-07-22T13:35:47.158Z"
      },
      {
        "duration": 151,
        "start_time": "2023-07-22T13:35:47.185Z"
      },
      {
        "duration": 104,
        "start_time": "2023-07-22T13:35:47.338Z"
      },
      {
        "duration": 75,
        "start_time": "2023-07-22T13:35:47.444Z"
      },
      {
        "duration": 65,
        "start_time": "2023-07-22T13:35:47.521Z"
      },
      {
        "duration": 308,
        "start_time": "2023-07-22T13:35:47.588Z"
      },
      {
        "duration": 87,
        "start_time": "2023-07-22T13:35:47.898Z"
      },
      {
        "duration": 374,
        "start_time": "2023-07-22T13:35:47.987Z"
      },
      {
        "duration": 14,
        "start_time": "2023-07-22T13:35:48.363Z"
      },
      {
        "duration": 315,
        "start_time": "2023-07-22T13:35:48.379Z"
      },
      {
        "duration": 47,
        "start_time": "2023-07-22T13:35:48.697Z"
      },
      {
        "duration": 168,
        "start_time": "2023-07-22T13:35:48.746Z"
      },
      {
        "duration": 26,
        "start_time": "2023-07-22T13:35:48.916Z"
      },
      {
        "duration": 203,
        "start_time": "2023-07-22T13:35:48.944Z"
      },
      {
        "duration": 12,
        "start_time": "2023-07-22T13:35:49.148Z"
      },
      {
        "duration": 3,
        "start_time": "2023-07-22T13:35:49.161Z"
      },
      {
        "duration": 40,
        "start_time": "2023-07-22T13:35:49.166Z"
      },
      {
        "duration": 40,
        "start_time": "2023-07-22T13:35:49.208Z"
      },
      {
        "duration": 19,
        "start_time": "2023-07-22T13:35:49.249Z"
      },
      {
        "duration": 23,
        "start_time": "2023-07-22T13:35:49.269Z"
      },
      {
        "duration": 254,
        "start_time": "2023-07-22T13:35:49.293Z"
      },
      {
        "duration": 355,
        "start_time": "2023-07-22T13:35:49.548Z"
      },
      {
        "duration": 36,
        "start_time": "2023-07-22T13:35:49.905Z"
      },
      {
        "duration": 138,
        "start_time": "2023-07-22T13:35:49.942Z"
      },
      {
        "duration": 7,
        "start_time": "2023-07-22T13:35:50.082Z"
      },
      {
        "duration": 59,
        "start_time": "2023-07-22T13:35:50.091Z"
      },
      {
        "duration": 42,
        "start_time": "2023-07-22T13:35:50.151Z"
      },
      {
        "duration": 41,
        "start_time": "2023-07-22T13:35:50.195Z"
      },
      {
        "duration": 19,
        "start_time": "2023-07-22T13:35:50.237Z"
      },
      {
        "duration": 17,
        "start_time": "2023-07-22T13:35:50.257Z"
      },
      {
        "duration": 7,
        "start_time": "2023-07-22T13:35:50.276Z"
      },
      {
        "duration": 104,
        "start_time": "2023-07-22T13:35:50.285Z"
      },
      {
        "duration": 717,
        "start_time": "2023-07-22T13:35:50.391Z"
      },
      {
        "duration": 21,
        "start_time": "2023-07-22T13:35:51.110Z"
      },
      {
        "duration": 79,
        "start_time": "2023-07-22T13:35:51.133Z"
      },
      {
        "duration": 41,
        "start_time": "2023-07-22T13:35:51.214Z"
      },
      {
        "duration": 20,
        "start_time": "2023-07-22T13:35:51.257Z"
      },
      {
        "duration": 25,
        "start_time": "2023-07-22T13:35:51.281Z"
      },
      {
        "duration": 412,
        "start_time": "2023-07-22T13:35:51.308Z"
      },
      {
        "duration": 119,
        "start_time": "2023-07-22T13:35:51.722Z"
      },
      {
        "duration": 123,
        "start_time": "2023-07-22T13:35:51.843Z"
      },
      {
        "duration": 38674,
        "start_time": "2023-07-22T13:35:51.968Z"
      },
      {
        "duration": 6,
        "start_time": "2023-07-22T13:36:30.644Z"
      },
      {
        "duration": 181,
        "start_time": "2023-07-22T13:36:30.651Z"
      },
      {
        "duration": 8,
        "start_time": "2023-07-22T13:36:30.834Z"
      },
      {
        "duration": 62,
        "start_time": "2023-07-22T13:36:30.843Z"
      },
      {
        "duration": 18,
        "start_time": "2023-07-22T13:36:30.907Z"
      },
      {
        "duration": 16,
        "start_time": "2023-07-22T13:36:30.926Z"
      },
      {
        "duration": 38,
        "start_time": "2023-07-22T13:36:30.943Z"
      },
      {
        "duration": 5154,
        "start_time": "2023-07-22T13:36:30.982Z"
      },
      {
        "duration": 706,
        "start_time": "2023-07-22T13:36:36.138Z"
      },
      {
        "duration": 4,
        "start_time": "2023-07-22T13:36:36.845Z"
      },
      {
        "duration": 131,
        "start_time": "2023-07-22T13:36:36.850Z"
      },
      {
        "duration": 3,
        "start_time": "2023-07-22T13:36:36.983Z"
      },
      {
        "duration": 185746,
        "start_time": "2023-07-22T13:36:36.987Z"
      },
      {
        "duration": 521,
        "start_time": "2023-07-22T13:39:42.735Z"
      },
      {
        "duration": 5,
        "start_time": "2023-07-22T13:39:43.257Z"
      },
      {
        "duration": 14,
        "start_time": "2023-07-22T13:39:43.264Z"
      },
      {
        "duration": 114,
        "start_time": "2023-07-22T13:39:43.279Z"
      },
      {
        "duration": 0,
        "start_time": "2023-07-22T13:39:43.395Z"
      },
      {
        "duration": 0,
        "start_time": "2023-07-22T13:39:43.396Z"
      },
      {
        "duration": 0,
        "start_time": "2023-07-22T13:39:43.397Z"
      },
      {
        "duration": 0,
        "start_time": "2023-07-22T13:39:43.398Z"
      },
      {
        "duration": 0,
        "start_time": "2023-07-22T13:39:43.399Z"
      },
      {
        "duration": 0,
        "start_time": "2023-07-22T13:39:43.400Z"
      },
      {
        "duration": 0,
        "start_time": "2023-07-22T13:39:43.401Z"
      },
      {
        "duration": 3,
        "start_time": "2023-07-22T13:57:13.309Z"
      },
      {
        "duration": 0,
        "start_time": "2023-07-22T13:57:57.666Z"
      },
      {
        "duration": 0,
        "start_time": "2023-07-22T13:57:57.667Z"
      },
      {
        "duration": 4,
        "start_time": "2023-07-22T13:58:07.101Z"
      },
      {
        "duration": 61388,
        "start_time": "2023-07-22T13:58:07.947Z"
      },
      {
        "duration": 4,
        "start_time": "2023-07-22T13:59:10.757Z"
      },
      {
        "duration": 72845,
        "start_time": "2023-07-22T13:59:18.297Z"
      },
      {
        "duration": 4,
        "start_time": "2023-07-22T14:03:30.493Z"
      },
      {
        "duration": 3,
        "start_time": "2023-07-22T14:03:58.328Z"
      },
      {
        "duration": 107643,
        "start_time": "2023-07-22T14:03:58.693Z"
      },
      {
        "duration": 4,
        "start_time": "2023-07-22T14:06:10.371Z"
      },
      {
        "duration": 1217,
        "start_time": "2023-07-22T14:08:36.031Z"
      },
      {
        "duration": 2293,
        "start_time": "2023-07-22T14:09:06.649Z"
      },
      {
        "duration": 510,
        "start_time": "2023-07-22T14:09:14.646Z"
      },
      {
        "duration": 5,
        "start_time": "2023-07-22T14:09:21.160Z"
      },
      {
        "duration": 89,
        "start_time": "2023-07-22T14:14:07.187Z"
      },
      {
        "duration": 5,
        "start_time": "2023-07-22T14:15:13.130Z"
      },
      {
        "duration": 6209,
        "start_time": "2023-07-22T14:15:22.103Z"
      },
      {
        "duration": 5,
        "start_time": "2023-07-22T14:15:31.137Z"
      },
      {
        "duration": 5977,
        "start_time": "2023-07-22T14:15:49.571Z"
      },
      {
        "duration": 5,
        "start_time": "2023-07-22T14:16:24.937Z"
      },
      {
        "duration": 1621,
        "start_time": "2023-07-22T14:16:27.535Z"
      },
      {
        "duration": 106,
        "start_time": "2023-07-22T14:16:48.488Z"
      },
      {
        "duration": 4,
        "start_time": "2023-07-22T14:17:20.298Z"
      },
      {
        "duration": 4172948,
        "start_time": "2023-07-22T14:17:30.279Z"
      },
      {
        "duration": 8145,
        "start_time": "2023-07-23T13:58:04.633Z"
      },
      {
        "duration": 1444,
        "start_time": "2023-07-23T13:58:12.780Z"
      },
      {
        "duration": 1078,
        "start_time": "2023-07-23T13:58:14.226Z"
      },
      {
        "duration": 25,
        "start_time": "2023-07-23T13:58:15.306Z"
      },
      {
        "duration": 137,
        "start_time": "2023-07-23T13:58:15.333Z"
      },
      {
        "duration": 111,
        "start_time": "2023-07-23T13:58:15.473Z"
      },
      {
        "duration": 89,
        "start_time": "2023-07-23T13:58:15.585Z"
      },
      {
        "duration": 63,
        "start_time": "2023-07-23T13:58:15.675Z"
      },
      {
        "duration": 344,
        "start_time": "2023-07-23T13:58:15.739Z"
      },
      {
        "duration": 82,
        "start_time": "2023-07-23T13:58:16.085Z"
      },
      {
        "duration": 458,
        "start_time": "2023-07-23T13:58:16.168Z"
      },
      {
        "duration": 16,
        "start_time": "2023-07-23T13:58:16.628Z"
      },
      {
        "duration": 388,
        "start_time": "2023-07-23T13:58:16.646Z"
      },
      {
        "duration": 44,
        "start_time": "2023-07-23T13:58:17.037Z"
      },
      {
        "duration": 200,
        "start_time": "2023-07-23T13:58:17.083Z"
      },
      {
        "duration": 24,
        "start_time": "2023-07-23T13:58:17.285Z"
      },
      {
        "duration": 255,
        "start_time": "2023-07-23T13:58:17.311Z"
      },
      {
        "duration": 12,
        "start_time": "2023-07-23T13:58:17.568Z"
      },
      {
        "duration": 11,
        "start_time": "2023-07-23T13:58:17.582Z"
      },
      {
        "duration": 41,
        "start_time": "2023-07-23T13:58:17.595Z"
      },
      {
        "duration": 34,
        "start_time": "2023-07-23T13:58:17.638Z"
      },
      {
        "duration": 39,
        "start_time": "2023-07-23T13:58:17.674Z"
      },
      {
        "duration": 16,
        "start_time": "2023-07-23T13:58:17.715Z"
      },
      {
        "duration": 275,
        "start_time": "2023-07-23T13:58:17.732Z"
      },
      {
        "duration": 376,
        "start_time": "2023-07-23T13:58:18.008Z"
      },
      {
        "duration": 43,
        "start_time": "2023-07-23T13:58:18.386Z"
      },
      {
        "duration": 164,
        "start_time": "2023-07-23T13:58:18.431Z"
      },
      {
        "duration": 13,
        "start_time": "2023-07-23T13:58:18.598Z"
      },
      {
        "duration": 47,
        "start_time": "2023-07-23T13:58:18.613Z"
      },
      {
        "duration": 24,
        "start_time": "2023-07-23T13:58:18.662Z"
      },
      {
        "duration": 54,
        "start_time": "2023-07-23T13:58:18.688Z"
      },
      {
        "duration": 20,
        "start_time": "2023-07-23T13:58:18.744Z"
      },
      {
        "duration": 22,
        "start_time": "2023-07-23T13:58:18.767Z"
      },
      {
        "duration": 20,
        "start_time": "2023-07-23T13:58:18.790Z"
      },
      {
        "duration": 87,
        "start_time": "2023-07-23T13:58:18.812Z"
      },
      {
        "duration": 825,
        "start_time": "2023-07-23T13:58:18.908Z"
      },
      {
        "duration": 18,
        "start_time": "2023-07-23T13:58:19.735Z"
      },
      {
        "duration": 174,
        "start_time": "2023-07-23T13:58:19.755Z"
      },
      {
        "duration": 16,
        "start_time": "2023-07-23T13:58:19.931Z"
      },
      {
        "duration": 261,
        "start_time": "2023-07-23T13:58:19.949Z"
      },
      {
        "duration": 447,
        "start_time": "2023-07-23T13:58:20.214Z"
      },
      {
        "duration": 137,
        "start_time": "2023-07-23T13:58:20.663Z"
      },
      {
        "duration": 139,
        "start_time": "2023-07-23T13:58:20.802Z"
      },
      {
        "duration": 38684,
        "start_time": "2023-07-23T13:58:20.943Z"
      },
      {
        "duration": 7,
        "start_time": "2023-07-23T13:58:59.629Z"
      },
      {
        "duration": 173,
        "start_time": "2023-07-23T13:58:59.638Z"
      },
      {
        "duration": 9,
        "start_time": "2023-07-23T13:58:59.812Z"
      },
      {
        "duration": 69,
        "start_time": "2023-07-23T13:58:59.823Z"
      },
      {
        "duration": 22,
        "start_time": "2023-07-23T13:58:59.894Z"
      },
      {
        "duration": 4,
        "start_time": "2023-07-23T13:58:59.918Z"
      },
      {
        "duration": 12,
        "start_time": "2023-07-23T13:58:59.924Z"
      },
      {
        "duration": 5477,
        "start_time": "2023-07-23T13:58:59.938Z"
      },
      {
        "duration": 792,
        "start_time": "2023-07-23T13:59:05.417Z"
      },
      {
        "duration": 4,
        "start_time": "2023-07-23T13:59:06.211Z"
      },
      {
        "duration": 106,
        "start_time": "2023-07-23T13:59:06.216Z"
      },
      {
        "duration": 94,
        "start_time": "2023-07-23T13:59:06.324Z"
      },
      {
        "duration": 0,
        "start_time": "2023-07-23T13:59:06.420Z"
      },
      {
        "duration": 0,
        "start_time": "2023-07-23T13:59:06.421Z"
      },
      {
        "duration": 0,
        "start_time": "2023-07-23T13:59:06.423Z"
      },
      {
        "duration": 0,
        "start_time": "2023-07-23T13:59:06.424Z"
      },
      {
        "duration": 0,
        "start_time": "2023-07-23T13:59:06.426Z"
      },
      {
        "duration": 0,
        "start_time": "2023-07-23T13:59:06.427Z"
      },
      {
        "duration": 0,
        "start_time": "2023-07-23T13:59:06.428Z"
      },
      {
        "duration": 0,
        "start_time": "2023-07-23T13:59:06.430Z"
      },
      {
        "duration": 0,
        "start_time": "2023-07-23T13:59:06.432Z"
      },
      {
        "duration": 0,
        "start_time": "2023-07-23T13:59:06.433Z"
      },
      {
        "duration": 0,
        "start_time": "2023-07-23T13:59:06.435Z"
      },
      {
        "duration": 0,
        "start_time": "2023-07-23T13:59:06.437Z"
      },
      {
        "duration": 0,
        "start_time": "2023-07-23T13:59:06.438Z"
      },
      {
        "duration": 0,
        "start_time": "2023-07-23T13:59:06.440Z"
      },
      {
        "duration": 0,
        "start_time": "2023-07-23T13:59:06.441Z"
      },
      {
        "duration": 0,
        "start_time": "2023-07-23T13:59:06.444Z"
      },
      {
        "duration": 4,
        "start_time": "2023-07-23T14:16:44.412Z"
      },
      {
        "duration": 318423,
        "start_time": "2023-07-23T14:16:46.690Z"
      },
      {
        "duration": 1232,
        "start_time": "2023-07-23T14:22:05.115Z"
      },
      {
        "duration": 6,
        "start_time": "2023-07-23T14:22:06.349Z"
      },
      {
        "duration": 16,
        "start_time": "2023-07-23T14:22:06.358Z"
      },
      {
        "duration": 3,
        "start_time": "2023-07-23T14:24:28.031Z"
      },
      {
        "duration": 950766,
        "start_time": "2023-07-23T14:24:28.749Z"
      },
      {
        "duration": 4,
        "start_time": "2023-07-23T14:40:19.517Z"
      },
      {
        "duration": 41,
        "start_time": "2023-07-23T14:40:19.523Z"
      },
      {
        "duration": 659,
        "start_time": "2023-07-23T14:40:19.566Z"
      },
      {
        "duration": 5,
        "start_time": "2023-07-23T14:40:20.227Z"
      },
      {
        "duration": 4,
        "start_time": "2023-07-23T14:40:39.937Z"
      },
      {
        "duration": 4,
        "start_time": "2023-07-23T14:41:18.665Z"
      },
      {
        "duration": 5,
        "start_time": "2023-07-23T14:52:19.427Z"
      },
      {
        "duration": 99,
        "start_time": "2023-07-23T14:53:52.194Z"
      },
      {
        "duration": 3,
        "start_time": "2023-07-23T14:55:08.693Z"
      },
      {
        "duration": 132,
        "start_time": "2023-07-23T14:55:40.663Z"
      },
      {
        "duration": 10,
        "start_time": "2023-07-23T14:59:06.539Z"
      },
      {
        "duration": 22591,
        "start_time": "2023-07-23T14:59:22.382Z"
      },
      {
        "duration": 4,
        "start_time": "2023-07-23T15:00:02.094Z"
      },
      {
        "duration": 554828,
        "start_time": "2023-07-23T15:00:02.597Z"
      },
      {
        "duration": 4,
        "start_time": "2023-07-23T15:11:53.007Z"
      },
      {
        "duration": 811479,
        "start_time": "2023-07-23T15:11:55.380Z"
      },
      {
        "duration": 14,
        "start_time": "2023-07-23T15:26:32.326Z"
      },
      {
        "duration": 5,
        "start_time": "2023-07-23T15:27:08.372Z"
      },
      {
        "duration": 127,
        "start_time": "2023-07-23T15:33:56.695Z"
      },
      {
        "duration": 3,
        "start_time": "2023-07-23T15:34:11.300Z"
      },
      {
        "duration": 3,
        "start_time": "2023-07-23T15:35:13.304Z"
      },
      {
        "duration": 3,
        "start_time": "2023-07-23T15:35:15.778Z"
      },
      {
        "duration": 68,
        "start_time": "2023-07-23T15:35:17.265Z"
      },
      {
        "duration": 3,
        "start_time": "2023-07-23T15:36:10.089Z"
      },
      {
        "duration": 4,
        "start_time": "2023-07-23T15:36:10.514Z"
      },
      {
        "duration": 306137,
        "start_time": "2023-07-23T15:36:10.985Z"
      },
      {
        "duration": 715,
        "start_time": "2023-07-23T15:41:17.124Z"
      },
      {
        "duration": 6,
        "start_time": "2023-07-23T15:41:17.840Z"
      },
      {
        "duration": 16,
        "start_time": "2023-07-23T15:41:53.970Z"
      },
      {
        "duration": 143,
        "start_time": "2023-07-23T15:47:36.741Z"
      },
      {
        "duration": 3,
        "start_time": "2023-07-23T15:47:53.567Z"
      },
      {
        "duration": 110,
        "start_time": "2023-07-23T15:47:54.459Z"
      },
      {
        "duration": 100,
        "start_time": "2023-07-23T15:48:22.501Z"
      },
      {
        "duration": 4,
        "start_time": "2023-07-23T15:48:23.217Z"
      },
      {
        "duration": 231963,
        "start_time": "2023-07-23T15:48:23.842Z"
      },
      {
        "duration": 5,
        "start_time": "2023-07-23T15:52:39.939Z"
      },
      {
        "duration": 2209,
        "start_time": "2023-07-23T15:55:38.748Z"
      },
      {
        "duration": 1447,
        "start_time": "2023-07-23T15:55:40.959Z"
      },
      {
        "duration": 926,
        "start_time": "2023-07-23T15:55:42.408Z"
      },
      {
        "duration": 28,
        "start_time": "2023-07-23T15:55:43.336Z"
      },
      {
        "duration": 139,
        "start_time": "2023-07-23T15:55:43.366Z"
      },
      {
        "duration": 119,
        "start_time": "2023-07-23T15:55:43.507Z"
      },
      {
        "duration": 95,
        "start_time": "2023-07-23T15:55:43.628Z"
      },
      {
        "duration": 62,
        "start_time": "2023-07-23T15:55:43.725Z"
      },
      {
        "duration": 322,
        "start_time": "2023-07-23T15:55:43.789Z"
      },
      {
        "duration": 78,
        "start_time": "2023-07-23T15:55:44.113Z"
      },
      {
        "duration": 434,
        "start_time": "2023-07-23T15:55:44.193Z"
      },
      {
        "duration": 18,
        "start_time": "2023-07-23T15:55:44.629Z"
      },
      {
        "duration": 359,
        "start_time": "2023-07-23T15:55:44.649Z"
      },
      {
        "duration": 44,
        "start_time": "2023-07-23T15:55:45.012Z"
      },
      {
        "duration": 209,
        "start_time": "2023-07-23T15:55:45.058Z"
      },
      {
        "duration": 19,
        "start_time": "2023-07-23T15:55:45.269Z"
      },
      {
        "duration": 265,
        "start_time": "2023-07-23T15:55:45.289Z"
      },
      {
        "duration": 13,
        "start_time": "2023-07-23T15:55:45.556Z"
      },
      {
        "duration": 11,
        "start_time": "2023-07-23T15:55:45.571Z"
      },
      {
        "duration": 74,
        "start_time": "2023-07-23T15:55:45.584Z"
      },
      {
        "duration": 38,
        "start_time": "2023-07-23T15:55:45.660Z"
      },
      {
        "duration": 20,
        "start_time": "2023-07-23T15:55:45.700Z"
      },
      {
        "duration": 42,
        "start_time": "2023-07-23T15:55:45.722Z"
      },
      {
        "duration": 296,
        "start_time": "2023-07-23T15:55:45.766Z"
      },
      {
        "duration": 374,
        "start_time": "2023-07-23T15:55:46.064Z"
      },
      {
        "duration": 31,
        "start_time": "2023-07-23T15:55:46.440Z"
      },
      {
        "duration": 158,
        "start_time": "2023-07-23T15:55:46.473Z"
      },
      {
        "duration": 6,
        "start_time": "2023-07-23T15:55:46.632Z"
      },
      {
        "duration": 32,
        "start_time": "2023-07-23T15:55:46.639Z"
      },
      {
        "duration": 37,
        "start_time": "2023-07-23T15:55:46.672Z"
      },
      {
        "duration": 27,
        "start_time": "2023-07-23T15:55:46.711Z"
      },
      {
        "duration": 25,
        "start_time": "2023-07-23T15:55:46.741Z"
      },
      {
        "duration": 17,
        "start_time": "2023-07-23T15:55:46.768Z"
      },
      {
        "duration": 14,
        "start_time": "2023-07-23T15:55:46.787Z"
      },
      {
        "duration": 96,
        "start_time": "2023-07-23T15:55:46.809Z"
      },
      {
        "duration": 859,
        "start_time": "2023-07-23T15:55:46.909Z"
      },
      {
        "duration": 25,
        "start_time": "2023-07-23T15:55:47.770Z"
      },
      {
        "duration": 148,
        "start_time": "2023-07-23T15:55:47.798Z"
      },
      {
        "duration": 20,
        "start_time": "2023-07-23T15:55:47.948Z"
      },
      {
        "duration": 19,
        "start_time": "2023-07-23T15:55:47.971Z"
      },
      {
        "duration": 441,
        "start_time": "2023-07-23T15:55:47.995Z"
      },
      {
        "duration": 137,
        "start_time": "2023-07-23T15:55:48.438Z"
      },
      {
        "duration": 138,
        "start_time": "2023-07-23T15:55:48.577Z"
      },
      {
        "duration": 35000,
        "start_time": "2023-07-23T15:55:48.717Z"
      },
      {
        "duration": 7,
        "start_time": "2023-07-23T15:56:23.719Z"
      },
      {
        "duration": 158,
        "start_time": "2023-07-23T15:56:23.727Z"
      },
      {
        "duration": 10,
        "start_time": "2023-07-23T15:56:23.887Z"
      },
      {
        "duration": 65,
        "start_time": "2023-07-23T15:56:23.909Z"
      },
      {
        "duration": 23,
        "start_time": "2023-07-23T15:56:23.976Z"
      },
      {
        "duration": 33,
        "start_time": "2023-07-23T15:56:24.000Z"
      },
      {
        "duration": 2147,
        "start_time": "2023-07-23T15:58:11.693Z"
      },
      {
        "duration": 1291,
        "start_time": "2023-07-23T15:58:13.843Z"
      },
      {
        "duration": 890,
        "start_time": "2023-07-23T15:58:15.136Z"
      },
      {
        "duration": 27,
        "start_time": "2023-07-23T15:58:16.027Z"
      },
      {
        "duration": 153,
        "start_time": "2023-07-23T15:58:16.056Z"
      },
      {
        "duration": 119,
        "start_time": "2023-07-23T15:58:16.210Z"
      },
      {
        "duration": 92,
        "start_time": "2023-07-23T15:58:16.331Z"
      },
      {
        "duration": 58,
        "start_time": "2023-07-23T15:58:16.425Z"
      },
      {
        "duration": 319,
        "start_time": "2023-07-23T15:58:16.485Z"
      },
      {
        "duration": 79,
        "start_time": "2023-07-23T15:58:16.805Z"
      },
      {
        "duration": 447,
        "start_time": "2023-07-23T15:58:16.886Z"
      },
      {
        "duration": 18,
        "start_time": "2023-07-23T15:58:17.335Z"
      },
      {
        "duration": 356,
        "start_time": "2023-07-23T15:58:17.355Z"
      },
      {
        "duration": 43,
        "start_time": "2023-07-23T15:58:17.714Z"
      },
      {
        "duration": 220,
        "start_time": "2023-07-23T15:58:19.731Z"
      },
      {
        "duration": 299,
        "start_time": "2023-07-23T15:58:29.652Z"
      },
      {
        "duration": 197,
        "start_time": "2023-07-23T15:58:42.996Z"
      },
      {
        "duration": 288,
        "start_time": "2023-07-23T15:59:47.944Z"
      },
      {
        "duration": 189,
        "start_time": "2023-07-23T15:59:54.647Z"
      },
      {
        "duration": 165,
        "start_time": "2023-07-23T16:00:36.510Z"
      },
      {
        "duration": 188,
        "start_time": "2023-07-23T16:00:56.690Z"
      },
      {
        "duration": 180,
        "start_time": "2023-07-23T16:01:23.732Z"
      },
      {
        "duration": 184,
        "start_time": "2023-07-23T16:02:01.912Z"
      },
      {
        "duration": 2178,
        "start_time": "2023-07-23T16:07:11.920Z"
      },
      {
        "duration": 1337,
        "start_time": "2023-07-23T16:07:14.100Z"
      },
      {
        "duration": 895,
        "start_time": "2023-07-23T16:07:15.439Z"
      },
      {
        "duration": 27,
        "start_time": "2023-07-23T16:07:16.335Z"
      },
      {
        "duration": 141,
        "start_time": "2023-07-23T16:07:16.365Z"
      },
      {
        "duration": 115,
        "start_time": "2023-07-23T16:07:16.509Z"
      },
      {
        "duration": 96,
        "start_time": "2023-07-23T16:07:16.626Z"
      },
      {
        "duration": 61,
        "start_time": "2023-07-23T16:07:16.723Z"
      },
      {
        "duration": 310,
        "start_time": "2023-07-23T16:07:16.786Z"
      },
      {
        "duration": 80,
        "start_time": "2023-07-23T16:07:17.098Z"
      },
      {
        "duration": 432,
        "start_time": "2023-07-23T16:07:17.180Z"
      },
      {
        "duration": 17,
        "start_time": "2023-07-23T16:07:17.614Z"
      },
      {
        "duration": 372,
        "start_time": "2023-07-23T16:07:17.633Z"
      },
      {
        "duration": 46,
        "start_time": "2023-07-23T16:07:18.010Z"
      },
      {
        "duration": 206,
        "start_time": "2023-07-23T16:07:18.058Z"
      },
      {
        "duration": 19,
        "start_time": "2023-07-23T16:07:18.265Z"
      },
      {
        "duration": 295,
        "start_time": "2023-07-23T16:07:18.286Z"
      },
      {
        "duration": 13,
        "start_time": "2023-07-23T16:07:18.583Z"
      },
      {
        "duration": 38,
        "start_time": "2023-07-23T16:07:18.609Z"
      },
      {
        "duration": 47,
        "start_time": "2023-07-23T16:07:18.649Z"
      },
      {
        "duration": 34,
        "start_time": "2023-07-23T16:07:18.698Z"
      },
      {
        "duration": 20,
        "start_time": "2023-07-23T16:07:18.734Z"
      },
      {
        "duration": 40,
        "start_time": "2023-07-23T16:07:18.756Z"
      },
      {
        "duration": 293,
        "start_time": "2023-07-23T16:07:18.798Z"
      },
      {
        "duration": 411,
        "start_time": "2023-07-23T16:07:19.093Z"
      },
      {
        "duration": 42,
        "start_time": "2023-07-23T16:07:19.508Z"
      },
      {
        "duration": 183,
        "start_time": "2023-07-23T16:07:19.552Z"
      },
      {
        "duration": 5,
        "start_time": "2023-07-23T16:07:19.737Z"
      },
      {
        "duration": 44,
        "start_time": "2023-07-23T16:07:19.744Z"
      },
      {
        "duration": 28,
        "start_time": "2023-07-23T16:07:19.790Z"
      },
      {
        "duration": 30,
        "start_time": "2023-07-23T16:07:19.820Z"
      },
      {
        "duration": 39,
        "start_time": "2023-07-23T16:07:19.852Z"
      },
      {
        "duration": 23,
        "start_time": "2023-07-23T16:07:19.892Z"
      },
      {
        "duration": 16,
        "start_time": "2023-07-23T16:07:19.917Z"
      },
      {
        "duration": 114,
        "start_time": "2023-07-23T16:07:19.934Z"
      },
      {
        "duration": 813,
        "start_time": "2023-07-23T16:07:20.050Z"
      },
      {
        "duration": 16,
        "start_time": "2023-07-23T16:07:20.865Z"
      },
      {
        "duration": 138,
        "start_time": "2023-07-23T16:07:20.883Z"
      },
      {
        "duration": 21,
        "start_time": "2023-07-23T16:07:21.023Z"
      },
      {
        "duration": 36,
        "start_time": "2023-07-23T16:07:21.046Z"
      },
      {
        "duration": 443,
        "start_time": "2023-07-23T16:07:21.086Z"
      },
      {
        "duration": 142,
        "start_time": "2023-07-23T16:07:21.531Z"
      },
      {
        "duration": 141,
        "start_time": "2023-07-23T16:07:21.675Z"
      },
      {
        "duration": 42707,
        "start_time": "2023-07-23T16:07:21.818Z"
      },
      {
        "duration": 7,
        "start_time": "2023-07-23T16:08:04.527Z"
      },
      {
        "duration": 174,
        "start_time": "2023-07-23T16:08:04.536Z"
      },
      {
        "duration": 9,
        "start_time": "2023-07-23T16:08:04.712Z"
      },
      {
        "duration": 59,
        "start_time": "2023-07-23T16:08:04.723Z"
      },
      {
        "duration": 24,
        "start_time": "2023-07-23T16:08:04.784Z"
      },
      {
        "duration": 4,
        "start_time": "2023-07-23T16:08:04.810Z"
      },
      {
        "duration": 2080,
        "start_time": "2023-07-23T16:43:09.766Z"
      },
      {
        "duration": 1267,
        "start_time": "2023-07-23T16:43:11.849Z"
      },
      {
        "duration": 834,
        "start_time": "2023-07-23T16:43:13.118Z"
      },
      {
        "duration": 29,
        "start_time": "2023-07-23T16:43:13.954Z"
      },
      {
        "duration": 128,
        "start_time": "2023-07-23T16:43:13.986Z"
      },
      {
        "duration": 136,
        "start_time": "2023-07-23T16:43:14.116Z"
      },
      {
        "duration": 88,
        "start_time": "2023-07-23T16:43:14.253Z"
      },
      {
        "duration": 54,
        "start_time": "2023-07-23T16:43:14.342Z"
      },
      {
        "duration": 302,
        "start_time": "2023-07-23T16:43:14.398Z"
      },
      {
        "duration": 78,
        "start_time": "2023-07-23T16:43:14.702Z"
      },
      {
        "duration": 413,
        "start_time": "2023-07-23T16:43:14.782Z"
      },
      {
        "duration": 26,
        "start_time": "2023-07-23T16:43:15.197Z"
      },
      {
        "duration": 350,
        "start_time": "2023-07-23T16:43:15.226Z"
      },
      {
        "duration": 52,
        "start_time": "2023-07-23T16:43:15.579Z"
      },
      {
        "duration": 219,
        "start_time": "2023-07-23T16:43:15.632Z"
      },
      {
        "duration": 20,
        "start_time": "2023-07-23T16:43:15.853Z"
      },
      {
        "duration": 277,
        "start_time": "2023-07-23T16:43:15.874Z"
      },
      {
        "duration": 11,
        "start_time": "2023-07-23T16:43:16.153Z"
      },
      {
        "duration": 48,
        "start_time": "2023-07-23T16:43:16.166Z"
      },
      {
        "duration": 57,
        "start_time": "2023-07-23T16:43:16.216Z"
      },
      {
        "duration": 32,
        "start_time": "2023-07-23T16:43:16.275Z"
      },
      {
        "duration": 18,
        "start_time": "2023-07-23T16:43:16.309Z"
      },
      {
        "duration": 72,
        "start_time": "2023-07-23T16:43:16.329Z"
      },
      {
        "duration": 270,
        "start_time": "2023-07-23T16:43:16.403Z"
      },
      {
        "duration": 362,
        "start_time": "2023-07-23T16:43:16.675Z"
      },
      {
        "duration": 34,
        "start_time": "2023-07-23T16:43:17.039Z"
      },
      {
        "duration": 175,
        "start_time": "2023-07-23T16:43:17.075Z"
      },
      {
        "duration": 6,
        "start_time": "2023-07-23T16:43:17.252Z"
      },
      {
        "duration": 45,
        "start_time": "2023-07-23T16:43:17.259Z"
      },
      {
        "duration": 26,
        "start_time": "2023-07-23T16:43:17.306Z"
      },
      {
        "duration": 42,
        "start_time": "2023-07-23T16:43:17.334Z"
      },
      {
        "duration": 25,
        "start_time": "2023-07-23T16:43:17.377Z"
      },
      {
        "duration": 26,
        "start_time": "2023-07-23T16:43:17.404Z"
      },
      {
        "duration": 20,
        "start_time": "2023-07-23T16:43:17.431Z"
      },
      {
        "duration": 109,
        "start_time": "2023-07-23T16:43:17.453Z"
      },
      {
        "duration": 804,
        "start_time": "2023-07-23T16:43:17.564Z"
      },
      {
        "duration": 22,
        "start_time": "2023-07-23T16:43:18.370Z"
      },
      {
        "duration": 138,
        "start_time": "2023-07-23T16:43:18.394Z"
      },
      {
        "duration": 17,
        "start_time": "2023-07-23T16:43:18.534Z"
      },
      {
        "duration": 28,
        "start_time": "2023-07-23T16:43:18.553Z"
      },
      {
        "duration": 442,
        "start_time": "2023-07-23T16:43:18.587Z"
      },
      {
        "duration": 140,
        "start_time": "2023-07-23T16:43:19.031Z"
      },
      {
        "duration": 141,
        "start_time": "2023-07-23T16:43:19.173Z"
      },
      {
        "duration": 39713,
        "start_time": "2023-07-23T16:43:19.316Z"
      },
      {
        "duration": 83,
        "start_time": "2023-07-23T16:43:59.030Z"
      },
      {
        "duration": 170,
        "start_time": "2023-07-23T16:43:59.116Z"
      },
      {
        "duration": 10,
        "start_time": "2023-07-23T16:43:59.288Z"
      },
      {
        "duration": 60,
        "start_time": "2023-07-23T16:43:59.299Z"
      },
      {
        "duration": 26,
        "start_time": "2023-07-23T16:43:59.360Z"
      },
      {
        "duration": 3,
        "start_time": "2023-07-23T16:43:59.388Z"
      },
      {
        "duration": 2249,
        "start_time": "2023-07-23T16:46:09.009Z"
      },
      {
        "duration": 1310,
        "start_time": "2023-07-23T16:46:11.260Z"
      },
      {
        "duration": 831,
        "start_time": "2023-07-23T16:46:12.572Z"
      },
      {
        "duration": 27,
        "start_time": "2023-07-23T16:46:13.405Z"
      },
      {
        "duration": 137,
        "start_time": "2023-07-23T16:46:13.434Z"
      },
      {
        "duration": 112,
        "start_time": "2023-07-23T16:46:13.573Z"
      },
      {
        "duration": 87,
        "start_time": "2023-07-23T16:46:13.687Z"
      },
      {
        "duration": 70,
        "start_time": "2023-07-23T16:46:13.776Z"
      },
      {
        "duration": 281,
        "start_time": "2023-07-23T16:46:13.848Z"
      },
      {
        "duration": 87,
        "start_time": "2023-07-23T16:46:14.133Z"
      },
      {
        "duration": 408,
        "start_time": "2023-07-23T16:46:14.222Z"
      },
      {
        "duration": 18,
        "start_time": "2023-07-23T16:46:14.632Z"
      },
      {
        "duration": 344,
        "start_time": "2023-07-23T16:46:14.652Z"
      },
      {
        "duration": 45,
        "start_time": "2023-07-23T16:46:15.009Z"
      },
      {
        "duration": 199,
        "start_time": "2023-07-23T16:46:15.056Z"
      },
      {
        "duration": 19,
        "start_time": "2023-07-23T16:46:15.256Z"
      },
      {
        "duration": 279,
        "start_time": "2023-07-23T16:46:15.277Z"
      },
      {
        "duration": 12,
        "start_time": "2023-07-23T16:46:15.558Z"
      },
      {
        "duration": 3,
        "start_time": "2023-07-23T16:46:15.572Z"
      },
      {
        "duration": 50,
        "start_time": "2023-07-23T16:46:15.576Z"
      },
      {
        "duration": 45,
        "start_time": "2023-07-23T16:46:15.628Z"
      },
      {
        "duration": 18,
        "start_time": "2023-07-23T16:46:15.675Z"
      },
      {
        "duration": 34,
        "start_time": "2023-07-23T16:46:15.695Z"
      },
      {
        "duration": 303,
        "start_time": "2023-07-23T16:46:15.731Z"
      },
      {
        "duration": 373,
        "start_time": "2023-07-23T16:46:16.036Z"
      },
      {
        "duration": 34,
        "start_time": "2023-07-23T16:46:16.411Z"
      },
      {
        "duration": 173,
        "start_time": "2023-07-23T16:46:16.448Z"
      },
      {
        "duration": 6,
        "start_time": "2023-07-23T16:46:16.625Z"
      },
      {
        "duration": 88,
        "start_time": "2023-07-23T16:46:16.632Z"
      },
      {
        "duration": 27,
        "start_time": "2023-07-23T16:46:16.721Z"
      },
      {
        "duration": 30,
        "start_time": "2023-07-23T16:46:16.750Z"
      },
      {
        "duration": 28,
        "start_time": "2023-07-23T16:46:16.782Z"
      },
      {
        "duration": 27,
        "start_time": "2023-07-23T16:46:16.812Z"
      },
      {
        "duration": 9,
        "start_time": "2023-07-23T16:46:16.841Z"
      },
      {
        "duration": 85,
        "start_time": "2023-07-23T16:46:16.852Z"
      },
      {
        "duration": 767,
        "start_time": "2023-07-23T16:46:16.939Z"
      },
      {
        "duration": 16,
        "start_time": "2023-07-23T16:46:17.708Z"
      },
      {
        "duration": 129,
        "start_time": "2023-07-23T16:46:17.726Z"
      },
      {
        "duration": 18,
        "start_time": "2023-07-23T16:46:17.858Z"
      },
      {
        "duration": 28,
        "start_time": "2023-07-23T16:46:17.878Z"
      },
      {
        "duration": 447,
        "start_time": "2023-07-23T16:46:17.908Z"
      },
      {
        "duration": 133,
        "start_time": "2023-07-23T16:46:18.357Z"
      },
      {
        "duration": 148,
        "start_time": "2023-07-23T16:46:18.492Z"
      },
      {
        "duration": 34390,
        "start_time": "2023-07-23T16:46:18.641Z"
      },
      {
        "duration": 6,
        "start_time": "2023-07-23T16:46:53.033Z"
      },
      {
        "duration": 143,
        "start_time": "2023-07-23T16:46:53.108Z"
      },
      {
        "duration": 8,
        "start_time": "2023-07-23T16:46:53.253Z"
      },
      {
        "duration": 52,
        "start_time": "2023-07-23T16:46:53.263Z"
      },
      {
        "duration": 20,
        "start_time": "2023-07-23T16:46:53.316Z"
      },
      {
        "duration": 4,
        "start_time": "2023-07-23T16:46:53.338Z"
      },
      {
        "duration": 2229,
        "start_time": "2023-07-23T16:51:52.504Z"
      },
      {
        "duration": 1387,
        "start_time": "2023-07-23T16:51:54.735Z"
      },
      {
        "duration": 962,
        "start_time": "2023-07-23T16:51:56.124Z"
      },
      {
        "duration": 48,
        "start_time": "2023-07-23T16:51:57.089Z"
      },
      {
        "duration": 137,
        "start_time": "2023-07-23T16:51:57.139Z"
      },
      {
        "duration": 134,
        "start_time": "2023-07-23T16:51:57.278Z"
      },
      {
        "duration": 102,
        "start_time": "2023-07-23T16:51:57.414Z"
      },
      {
        "duration": 65,
        "start_time": "2023-07-23T16:51:57.518Z"
      },
      {
        "duration": 397,
        "start_time": "2023-07-23T16:51:57.585Z"
      },
      {
        "duration": 89,
        "start_time": "2023-07-23T16:51:57.986Z"
      },
      {
        "duration": 479,
        "start_time": "2023-07-23T16:51:58.078Z"
      },
      {
        "duration": 20,
        "start_time": "2023-07-23T16:51:58.559Z"
      },
      {
        "duration": 388,
        "start_time": "2023-07-23T16:51:58.581Z"
      },
      {
        "duration": 74,
        "start_time": "2023-07-23T16:51:58.971Z"
      },
      {
        "duration": 210,
        "start_time": "2023-07-23T16:51:59.047Z"
      },
      {
        "duration": 19,
        "start_time": "2023-07-23T16:51:59.258Z"
      },
      {
        "duration": 352,
        "start_time": "2023-07-23T16:51:59.279Z"
      },
      {
        "duration": 15,
        "start_time": "2023-07-23T16:51:59.634Z"
      },
      {
        "duration": 17,
        "start_time": "2023-07-23T16:51:59.651Z"
      },
      {
        "duration": 63,
        "start_time": "2023-07-23T16:51:59.670Z"
      },
      {
        "duration": 40,
        "start_time": "2023-07-23T16:51:59.735Z"
      },
      {
        "duration": 35,
        "start_time": "2023-07-23T16:51:59.777Z"
      },
      {
        "duration": 35,
        "start_time": "2023-07-23T16:51:59.814Z"
      },
      {
        "duration": 287,
        "start_time": "2023-07-23T16:51:59.851Z"
      },
      {
        "duration": 409,
        "start_time": "2023-07-23T16:52:00.140Z"
      },
      {
        "duration": 37,
        "start_time": "2023-07-23T16:52:00.551Z"
      },
      {
        "duration": 193,
        "start_time": "2023-07-23T16:52:00.591Z"
      },
      {
        "duration": 7,
        "start_time": "2023-07-23T16:52:00.789Z"
      },
      {
        "duration": 86,
        "start_time": "2023-07-23T16:52:00.798Z"
      },
      {
        "duration": 64,
        "start_time": "2023-07-23T16:52:00.885Z"
      },
      {
        "duration": 98,
        "start_time": "2023-07-23T16:52:00.951Z"
      },
      {
        "duration": 70,
        "start_time": "2023-07-23T16:52:01.051Z"
      },
      {
        "duration": 41,
        "start_time": "2023-07-23T16:52:01.123Z"
      },
      {
        "duration": 94,
        "start_time": "2023-07-23T16:52:01.167Z"
      },
      {
        "duration": 140,
        "start_time": "2023-07-23T16:52:01.264Z"
      },
      {
        "duration": 920,
        "start_time": "2023-07-23T16:52:01.409Z"
      },
      {
        "duration": 25,
        "start_time": "2023-07-23T16:52:02.332Z"
      },
      {
        "duration": 197,
        "start_time": "2023-07-23T16:52:02.360Z"
      },
      {
        "duration": 18,
        "start_time": "2023-07-23T16:52:02.559Z"
      },
      {
        "duration": 42,
        "start_time": "2023-07-23T16:52:02.579Z"
      },
      {
        "duration": 558,
        "start_time": "2023-07-23T16:52:02.623Z"
      },
      {
        "duration": 149,
        "start_time": "2023-07-23T16:52:03.183Z"
      },
      {
        "duration": 150,
        "start_time": "2023-07-23T16:52:03.334Z"
      },
      {
        "duration": 37329,
        "start_time": "2023-07-23T16:52:03.485Z"
      },
      {
        "duration": 8,
        "start_time": "2023-07-23T16:52:40.816Z"
      },
      {
        "duration": 170,
        "start_time": "2023-07-23T16:52:40.825Z"
      },
      {
        "duration": 10,
        "start_time": "2023-07-23T16:52:40.997Z"
      },
      {
        "duration": 62,
        "start_time": "2023-07-23T16:52:41.008Z"
      },
      {
        "duration": 21,
        "start_time": "2023-07-23T16:52:41.072Z"
      },
      {
        "duration": 5,
        "start_time": "2023-07-23T16:52:41.094Z"
      },
      {
        "duration": 231817,
        "start_time": "2023-07-23T16:52:41.100Z"
      },
      {
        "duration": 3,
        "start_time": "2023-07-23T16:56:32.918Z"
      },
      {
        "duration": 21,
        "start_time": "2023-07-23T16:56:32.923Z"
      },
      {
        "duration": 9964,
        "start_time": "2023-07-23T16:56:32.945Z"
      },
      {
        "duration": 611,
        "start_time": "2023-07-23T16:56:42.911Z"
      },
      {
        "duration": 4,
        "start_time": "2023-07-23T16:56:43.524Z"
      },
      {
        "duration": 126,
        "start_time": "2023-07-23T16:56:43.530Z"
      },
      {
        "duration": 3,
        "start_time": "2023-07-23T16:56:43.658Z"
      },
      {
        "duration": 729608,
        "start_time": "2023-07-23T16:56:43.663Z"
      },
      {
        "duration": 4,
        "start_time": "2023-07-23T17:08:53.273Z"
      },
      {
        "duration": 35,
        "start_time": "2023-07-23T17:08:53.278Z"
      },
      {
        "duration": 300315,
        "start_time": "2023-07-23T17:08:53.314Z"
      },
      {
        "duration": 1092,
        "start_time": "2023-07-23T17:13:53.631Z"
      },
      {
        "duration": 5,
        "start_time": "2023-07-23T17:13:54.724Z"
      },
      {
        "duration": 50,
        "start_time": "2023-07-23T17:13:54.731Z"
      },
      {
        "duration": 632,
        "start_time": "2023-07-23T17:13:54.783Z"
      },
      {
        "duration": 203,
        "start_time": "2023-07-23T17:13:55.417Z"
      },
      {
        "duration": 357,
        "start_time": "2023-07-23T17:13:55.622Z"
      },
      {
        "duration": 1102,
        "start_time": "2023-07-23T17:13:55.982Z"
      },
      {
        "duration": 323,
        "start_time": "2023-07-23T17:13:57.085Z"
      },
      {
        "duration": 186,
        "start_time": "2023-07-23T17:13:57.411Z"
      },
      {
        "duration": 107,
        "start_time": "2023-07-23T17:18:46.396Z"
      },
      {
        "duration": 5,
        "start_time": "2023-07-23T17:23:32.769Z"
      },
      {
        "duration": 6,
        "start_time": "2023-07-23T17:26:11.415Z"
      },
      {
        "duration": 4,
        "start_time": "2023-07-23T17:26:35.341Z"
      },
      {
        "duration": 5,
        "start_time": "2023-07-23T17:27:14.349Z"
      },
      {
        "duration": 7,
        "start_time": "2023-07-23T17:27:29.861Z"
      },
      {
        "duration": 7,
        "start_time": "2023-07-23T17:28:06.041Z"
      },
      {
        "duration": 6932,
        "start_time": "2023-07-24T18:25:56.191Z"
      },
      {
        "duration": 1452,
        "start_time": "2023-07-24T18:26:03.125Z"
      },
      {
        "duration": 1122,
        "start_time": "2023-07-24T18:26:04.579Z"
      },
      {
        "duration": 27,
        "start_time": "2023-07-24T18:26:05.703Z"
      },
      {
        "duration": 127,
        "start_time": "2023-07-24T18:26:05.732Z"
      },
      {
        "duration": 108,
        "start_time": "2023-07-24T18:26:05.861Z"
      },
      {
        "duration": 98,
        "start_time": "2023-07-24T18:26:05.971Z"
      },
      {
        "duration": 56,
        "start_time": "2023-07-24T18:26:06.071Z"
      },
      {
        "duration": 310,
        "start_time": "2023-07-24T18:26:06.129Z"
      },
      {
        "duration": 80,
        "start_time": "2023-07-24T18:26:06.441Z"
      },
      {
        "duration": 451,
        "start_time": "2023-07-24T18:26:06.523Z"
      },
      {
        "duration": 17,
        "start_time": "2023-07-24T18:26:06.976Z"
      },
      {
        "duration": 436,
        "start_time": "2023-07-24T18:26:06.995Z"
      },
      {
        "duration": 49,
        "start_time": "2023-07-24T18:26:07.434Z"
      },
      {
        "duration": 208,
        "start_time": "2023-07-24T18:26:07.485Z"
      },
      {
        "duration": 18,
        "start_time": "2023-07-24T18:26:07.695Z"
      },
      {
        "duration": 291,
        "start_time": "2023-07-24T18:26:07.715Z"
      },
      {
        "duration": 13,
        "start_time": "2023-07-24T18:26:08.008Z"
      },
      {
        "duration": 16,
        "start_time": "2023-07-24T18:26:08.023Z"
      },
      {
        "duration": 43,
        "start_time": "2023-07-24T18:26:08.041Z"
      },
      {
        "duration": 36,
        "start_time": "2023-07-24T18:26:08.086Z"
      },
      {
        "duration": 34,
        "start_time": "2023-07-24T18:26:08.124Z"
      },
      {
        "duration": 27,
        "start_time": "2023-07-24T18:26:08.159Z"
      },
      {
        "duration": 398,
        "start_time": "2023-07-24T18:26:08.188Z"
      },
      {
        "duration": 390,
        "start_time": "2023-07-24T18:26:08.588Z"
      },
      {
        "duration": 31,
        "start_time": "2023-07-24T18:26:08.980Z"
      },
      {
        "duration": 186,
        "start_time": "2023-07-24T18:26:09.013Z"
      },
      {
        "duration": 7,
        "start_time": "2023-07-24T18:26:09.200Z"
      },
      {
        "duration": 46,
        "start_time": "2023-07-24T18:26:09.208Z"
      },
      {
        "duration": 17,
        "start_time": "2023-07-24T18:26:09.256Z"
      },
      {
        "duration": 38,
        "start_time": "2023-07-24T18:26:09.275Z"
      },
      {
        "duration": 37,
        "start_time": "2023-07-24T18:26:09.315Z"
      },
      {
        "duration": 8,
        "start_time": "2023-07-24T18:26:09.354Z"
      },
      {
        "duration": 8,
        "start_time": "2023-07-24T18:26:09.363Z"
      },
      {
        "duration": 104,
        "start_time": "2023-07-24T18:26:09.373Z"
      },
      {
        "duration": 794,
        "start_time": "2023-07-24T18:26:09.479Z"
      },
      {
        "duration": 15,
        "start_time": "2023-07-24T18:26:10.275Z"
      },
      {
        "duration": 217,
        "start_time": "2023-07-24T18:26:10.292Z"
      },
      {
        "duration": 15,
        "start_time": "2023-07-24T18:26:10.511Z"
      },
      {
        "duration": 53,
        "start_time": "2023-07-24T18:26:10.528Z"
      },
      {
        "duration": 609,
        "start_time": "2023-07-24T18:26:10.585Z"
      },
      {
        "duration": 139,
        "start_time": "2023-07-24T18:26:11.196Z"
      },
      {
        "duration": 136,
        "start_time": "2023-07-24T18:26:11.337Z"
      },
      {
        "duration": 0,
        "start_time": "2023-07-24T18:26:11.474Z"
      },
      {
        "duration": 0,
        "start_time": "2023-07-24T18:26:11.475Z"
      },
      {
        "duration": 0,
        "start_time": "2023-07-24T18:26:11.477Z"
      },
      {
        "duration": 0,
        "start_time": "2023-07-24T18:26:11.478Z"
      },
      {
        "duration": 0,
        "start_time": "2023-07-24T18:26:11.479Z"
      },
      {
        "duration": 0,
        "start_time": "2023-07-24T18:26:11.480Z"
      },
      {
        "duration": 0,
        "start_time": "2023-07-24T18:26:11.481Z"
      },
      {
        "duration": 131,
        "start_time": "2023-07-24T18:27:09.429Z"
      },
      {
        "duration": 38162,
        "start_time": "2023-07-24T18:28:01.304Z"
      },
      {
        "duration": 6,
        "start_time": "2023-07-24T18:28:39.469Z"
      },
      {
        "duration": 156,
        "start_time": "2023-07-24T18:28:59.249Z"
      },
      {
        "duration": 8,
        "start_time": "2023-07-24T18:28:59.580Z"
      },
      {
        "duration": 43,
        "start_time": "2023-07-24T18:28:59.835Z"
      },
      {
        "duration": 19,
        "start_time": "2023-07-24T18:29:00.085Z"
      },
      {
        "duration": 31,
        "start_time": "2023-07-24T18:30:38.420Z"
      },
      {
        "duration": 4,
        "start_time": "2023-07-24T18:32:05.079Z"
      },
      {
        "duration": 4,
        "start_time": "2023-07-24T18:44:29.645Z"
      },
      {
        "duration": 611887,
        "start_time": "2023-07-24T18:44:36.590Z"
      },
      {
        "duration": 4,
        "start_time": "2023-07-24T18:54:57.346Z"
      },
      {
        "duration": 275932,
        "start_time": "2023-07-24T18:55:01.131Z"
      },
      {
        "duration": 2255,
        "start_time": "2023-07-24T19:00:11.350Z"
      },
      {
        "duration": 1269,
        "start_time": "2023-07-24T19:00:13.608Z"
      },
      {
        "duration": 876,
        "start_time": "2023-07-24T19:00:14.879Z"
      },
      {
        "duration": 28,
        "start_time": "2023-07-24T19:00:15.757Z"
      },
      {
        "duration": 140,
        "start_time": "2023-07-24T19:00:15.787Z"
      },
      {
        "duration": 108,
        "start_time": "2023-07-24T19:00:15.928Z"
      },
      {
        "duration": 92,
        "start_time": "2023-07-24T19:00:16.038Z"
      },
      {
        "duration": 67,
        "start_time": "2023-07-24T19:00:16.132Z"
      },
      {
        "duration": 308,
        "start_time": "2023-07-24T19:00:16.201Z"
      },
      {
        "duration": 82,
        "start_time": "2023-07-24T19:00:16.512Z"
      },
      {
        "duration": 453,
        "start_time": "2023-07-24T19:00:16.596Z"
      },
      {
        "duration": 17,
        "start_time": "2023-07-24T19:00:17.052Z"
      },
      {
        "duration": 366,
        "start_time": "2023-07-24T19:00:17.071Z"
      },
      {
        "duration": 50,
        "start_time": "2023-07-24T19:00:17.439Z"
      },
      {
        "duration": 213,
        "start_time": "2023-07-24T19:00:17.491Z"
      },
      {
        "duration": 18,
        "start_time": "2023-07-24T19:00:17.706Z"
      },
      {
        "duration": 285,
        "start_time": "2023-07-24T19:00:17.726Z"
      },
      {
        "duration": 13,
        "start_time": "2023-07-24T19:00:18.013Z"
      },
      {
        "duration": 3,
        "start_time": "2023-07-24T19:00:18.027Z"
      },
      {
        "duration": 50,
        "start_time": "2023-07-24T19:00:18.031Z"
      },
      {
        "duration": 32,
        "start_time": "2023-07-24T19:00:18.083Z"
      },
      {
        "duration": 37,
        "start_time": "2023-07-24T19:00:18.117Z"
      },
      {
        "duration": 17,
        "start_time": "2023-07-24T19:00:18.156Z"
      },
      {
        "duration": 325,
        "start_time": "2023-07-24T19:00:18.175Z"
      },
      {
        "duration": 433,
        "start_time": "2023-07-24T19:00:18.502Z"
      },
      {
        "duration": 40,
        "start_time": "2023-07-24T19:00:18.937Z"
      },
      {
        "duration": 179,
        "start_time": "2023-07-24T19:00:18.978Z"
      },
      {
        "duration": 6,
        "start_time": "2023-07-24T19:00:19.161Z"
      },
      {
        "duration": 41,
        "start_time": "2023-07-24T19:00:19.169Z"
      },
      {
        "duration": 18,
        "start_time": "2023-07-24T19:00:19.212Z"
      },
      {
        "duration": 40,
        "start_time": "2023-07-24T19:00:19.232Z"
      },
      {
        "duration": 36,
        "start_time": "2023-07-24T19:00:19.274Z"
      },
      {
        "duration": 16,
        "start_time": "2023-07-24T19:00:19.312Z"
      },
      {
        "duration": 19,
        "start_time": "2023-07-24T19:00:19.330Z"
      },
      {
        "duration": 130,
        "start_time": "2023-07-24T19:00:19.352Z"
      },
      {
        "duration": 819,
        "start_time": "2023-07-24T19:00:19.484Z"
      },
      {
        "duration": 16,
        "start_time": "2023-07-24T19:00:20.305Z"
      },
      {
        "duration": 135,
        "start_time": "2023-07-24T19:00:20.324Z"
      },
      {
        "duration": 20,
        "start_time": "2023-07-24T19:00:20.461Z"
      },
      {
        "duration": 34,
        "start_time": "2023-07-24T19:00:20.484Z"
      },
      {
        "duration": 462,
        "start_time": "2023-07-24T19:00:20.520Z"
      },
      {
        "duration": 146,
        "start_time": "2023-07-24T19:00:20.985Z"
      },
      {
        "duration": 149,
        "start_time": "2023-07-24T19:00:21.133Z"
      },
      {
        "duration": 34980,
        "start_time": "2023-07-24T19:00:21.284Z"
      },
      {
        "duration": 7,
        "start_time": "2023-07-24T19:00:56.266Z"
      },
      {
        "duration": 170,
        "start_time": "2023-07-24T19:00:56.274Z"
      },
      {
        "duration": 11,
        "start_time": "2023-07-24T19:00:56.446Z"
      },
      {
        "duration": 48,
        "start_time": "2023-07-24T19:00:56.459Z"
      },
      {
        "duration": 21,
        "start_time": "2023-07-24T19:00:56.509Z"
      },
      {
        "duration": 22,
        "start_time": "2023-07-24T19:00:56.532Z"
      },
      {
        "duration": 2499,
        "start_time": "2023-07-24T19:13:06.623Z"
      },
      {
        "duration": 1482,
        "start_time": "2023-07-24T19:13:09.125Z"
      },
      {
        "duration": 1000,
        "start_time": "2023-07-24T19:13:10.609Z"
      },
      {
        "duration": 26,
        "start_time": "2023-07-24T19:13:11.611Z"
      },
      {
        "duration": 146,
        "start_time": "2023-07-24T19:13:11.639Z"
      },
      {
        "duration": 168,
        "start_time": "2023-07-24T19:13:11.787Z"
      },
      {
        "duration": 94,
        "start_time": "2023-07-24T19:13:11.963Z"
      },
      {
        "duration": 60,
        "start_time": "2023-07-24T19:13:12.062Z"
      },
      {
        "duration": 346,
        "start_time": "2023-07-24T19:13:12.123Z"
      },
      {
        "duration": 86,
        "start_time": "2023-07-24T19:13:12.471Z"
      },
      {
        "duration": 471,
        "start_time": "2023-07-24T19:13:12.559Z"
      },
      {
        "duration": 35,
        "start_time": "2023-07-24T19:13:13.031Z"
      },
      {
        "duration": 428,
        "start_time": "2023-07-24T19:13:13.068Z"
      },
      {
        "duration": 54,
        "start_time": "2023-07-24T19:13:13.501Z"
      },
      {
        "duration": 222,
        "start_time": "2023-07-24T19:13:13.559Z"
      },
      {
        "duration": 25,
        "start_time": "2023-07-24T19:13:13.783Z"
      },
      {
        "duration": 354,
        "start_time": "2023-07-24T19:13:13.810Z"
      },
      {
        "duration": 14,
        "start_time": "2023-07-24T19:13:14.167Z"
      },
      {
        "duration": 5,
        "start_time": "2023-07-24T19:13:14.183Z"
      },
      {
        "duration": 50,
        "start_time": "2023-07-24T19:13:14.190Z"
      },
      {
        "duration": 38,
        "start_time": "2023-07-24T19:13:14.242Z"
      },
      {
        "duration": 27,
        "start_time": "2023-07-24T19:13:14.282Z"
      },
      {
        "duration": 17,
        "start_time": "2023-07-24T19:13:14.312Z"
      },
      {
        "duration": 339,
        "start_time": "2023-07-24T19:13:14.330Z"
      },
      {
        "duration": 429,
        "start_time": "2023-07-24T19:13:14.671Z"
      },
      {
        "duration": 37,
        "start_time": "2023-07-24T19:13:15.103Z"
      },
      {
        "duration": 208,
        "start_time": "2023-07-24T19:13:15.152Z"
      },
      {
        "duration": 8,
        "start_time": "2023-07-24T19:13:15.363Z"
      },
      {
        "duration": 48,
        "start_time": "2023-07-24T19:13:15.374Z"
      },
      {
        "duration": 37,
        "start_time": "2023-07-24T19:13:15.424Z"
      },
      {
        "duration": 34,
        "start_time": "2023-07-24T19:13:15.463Z"
      },
      {
        "duration": 22,
        "start_time": "2023-07-24T19:13:15.499Z"
      },
      {
        "duration": 31,
        "start_time": "2023-07-24T19:13:15.523Z"
      },
      {
        "duration": 19,
        "start_time": "2023-07-24T19:13:15.556Z"
      },
      {
        "duration": 109,
        "start_time": "2023-07-24T19:13:15.577Z"
      },
      {
        "duration": 928,
        "start_time": "2023-07-24T19:13:15.687Z"
      },
      {
        "duration": 22,
        "start_time": "2023-07-24T19:13:16.616Z"
      },
      {
        "duration": 146,
        "start_time": "2023-07-24T19:13:16.640Z"
      },
      {
        "duration": 15,
        "start_time": "2023-07-24T19:13:16.788Z"
      },
      {
        "duration": 20,
        "start_time": "2023-07-24T19:13:16.805Z"
      },
      {
        "duration": 500,
        "start_time": "2023-07-24T19:13:16.830Z"
      },
      {
        "duration": 161,
        "start_time": "2023-07-24T19:13:17.332Z"
      },
      {
        "duration": 152,
        "start_time": "2023-07-24T19:13:17.495Z"
      },
      {
        "duration": 34815,
        "start_time": "2023-07-24T19:13:17.649Z"
      },
      {
        "duration": 7,
        "start_time": "2023-07-24T19:13:52.466Z"
      },
      {
        "duration": 168,
        "start_time": "2023-07-24T19:13:52.475Z"
      },
      {
        "duration": 13,
        "start_time": "2023-07-24T19:13:52.645Z"
      },
      {
        "duration": 49,
        "start_time": "2023-07-24T19:13:52.660Z"
      },
      {
        "duration": 27,
        "start_time": "2023-07-24T19:13:52.711Z"
      },
      {
        "duration": 14,
        "start_time": "2023-07-24T19:13:52.740Z"
      },
      {
        "duration": 250433,
        "start_time": "2023-07-24T19:13:52.757Z"
      },
      {
        "duration": 4,
        "start_time": "2023-07-24T19:18:03.192Z"
      },
      {
        "duration": 17,
        "start_time": "2023-07-24T19:18:03.198Z"
      },
      {
        "duration": 26853,
        "start_time": "2023-07-24T19:18:03.217Z"
      },
      {
        "duration": 0,
        "start_time": "2023-07-24T19:18:30.072Z"
      },
      {
        "duration": 0,
        "start_time": "2023-07-24T19:18:30.075Z"
      },
      {
        "duration": 0,
        "start_time": "2023-07-24T19:18:30.077Z"
      },
      {
        "duration": 0,
        "start_time": "2023-07-24T19:18:30.079Z"
      },
      {
        "duration": 0,
        "start_time": "2023-07-24T19:18:30.080Z"
      },
      {
        "duration": 0,
        "start_time": "2023-07-24T19:18:30.082Z"
      },
      {
        "duration": 0,
        "start_time": "2023-07-24T19:18:30.083Z"
      },
      {
        "duration": 0,
        "start_time": "2023-07-24T19:18:30.086Z"
      },
      {
        "duration": 0,
        "start_time": "2023-07-24T19:18:30.088Z"
      },
      {
        "duration": 0,
        "start_time": "2023-07-24T19:18:30.153Z"
      },
      {
        "duration": 1,
        "start_time": "2023-07-24T19:18:30.154Z"
      },
      {
        "duration": 0,
        "start_time": "2023-07-24T19:18:30.156Z"
      },
      {
        "duration": 0,
        "start_time": "2023-07-24T19:18:30.158Z"
      },
      {
        "duration": 0,
        "start_time": "2023-07-24T19:18:30.159Z"
      },
      {
        "duration": 0,
        "start_time": "2023-07-24T19:18:30.161Z"
      },
      {
        "duration": 0,
        "start_time": "2023-07-24T19:18:30.167Z"
      },
      {
        "duration": 0,
        "start_time": "2023-07-24T19:18:30.169Z"
      },
      {
        "duration": 7,
        "start_time": "2023-07-24T19:18:33.274Z"
      },
      {
        "duration": 2394,
        "start_time": "2023-07-24T19:30:25.367Z"
      },
      {
        "duration": 1498,
        "start_time": "2023-07-24T19:30:27.764Z"
      },
      {
        "duration": 969,
        "start_time": "2023-07-24T19:30:29.264Z"
      },
      {
        "duration": 36,
        "start_time": "2023-07-24T19:30:30.235Z"
      },
      {
        "duration": 160,
        "start_time": "2023-07-24T19:30:30.275Z"
      },
      {
        "duration": 224,
        "start_time": "2023-07-24T19:30:30.438Z"
      },
      {
        "duration": 99,
        "start_time": "2023-07-24T19:30:30.664Z"
      },
      {
        "duration": 57,
        "start_time": "2023-07-24T19:30:30.765Z"
      },
      {
        "duration": 339,
        "start_time": "2023-07-24T19:30:30.824Z"
      },
      {
        "duration": 93,
        "start_time": "2023-07-24T19:30:31.165Z"
      },
      {
        "duration": 491,
        "start_time": "2023-07-24T19:30:31.260Z"
      },
      {
        "duration": 17,
        "start_time": "2023-07-24T19:30:31.754Z"
      },
      {
        "duration": 381,
        "start_time": "2023-07-24T19:30:31.773Z"
      },
      {
        "duration": 48,
        "start_time": "2023-07-24T19:30:32.158Z"
      },
      {
        "duration": 266,
        "start_time": "2023-07-24T19:30:32.208Z"
      },
      {
        "duration": 25,
        "start_time": "2023-07-24T19:30:32.476Z"
      },
      {
        "duration": 332,
        "start_time": "2023-07-24T19:30:32.504Z"
      },
      {
        "duration": 19,
        "start_time": "2023-07-24T19:30:32.837Z"
      },
      {
        "duration": 2,
        "start_time": "2023-07-24T19:30:32.858Z"
      },
      {
        "duration": 79,
        "start_time": "2023-07-24T19:30:32.862Z"
      },
      {
        "duration": 37,
        "start_time": "2023-07-24T19:30:32.943Z"
      },
      {
        "duration": 23,
        "start_time": "2023-07-24T19:30:32.981Z"
      },
      {
        "duration": 29,
        "start_time": "2023-07-24T19:30:33.006Z"
      },
      {
        "duration": 286,
        "start_time": "2023-07-24T19:30:33.036Z"
      },
      {
        "duration": 402,
        "start_time": "2023-07-24T19:30:33.324Z"
      },
      {
        "duration": 44,
        "start_time": "2023-07-24T19:30:33.727Z"
      },
      {
        "duration": 179,
        "start_time": "2023-07-24T19:30:33.773Z"
      },
      {
        "duration": 6,
        "start_time": "2023-07-24T19:30:33.954Z"
      },
      {
        "duration": 48,
        "start_time": "2023-07-24T19:30:33.962Z"
      },
      {
        "duration": 24,
        "start_time": "2023-07-24T19:30:34.012Z"
      },
      {
        "duration": 32,
        "start_time": "2023-07-24T19:30:34.038Z"
      },
      {
        "duration": 42,
        "start_time": "2023-07-24T19:30:34.072Z"
      },
      {
        "duration": 13,
        "start_time": "2023-07-24T19:30:34.116Z"
      },
      {
        "duration": 23,
        "start_time": "2023-07-24T19:30:34.130Z"
      },
      {
        "duration": 119,
        "start_time": "2023-07-24T19:30:34.154Z"
      },
      {
        "duration": 895,
        "start_time": "2023-07-24T19:30:34.275Z"
      },
      {
        "duration": 20,
        "start_time": "2023-07-24T19:30:35.172Z"
      },
      {
        "duration": 212,
        "start_time": "2023-07-24T19:30:35.194Z"
      },
      {
        "duration": 24,
        "start_time": "2023-07-24T19:30:35.409Z"
      },
      {
        "duration": 46,
        "start_time": "2023-07-24T19:30:35.435Z"
      },
      {
        "duration": 472,
        "start_time": "2023-07-24T19:30:35.487Z"
      },
      {
        "duration": 139,
        "start_time": "2023-07-24T19:30:35.961Z"
      },
      {
        "duration": 165,
        "start_time": "2023-07-24T19:30:36.102Z"
      },
      {
        "duration": 35388,
        "start_time": "2023-07-24T19:30:36.269Z"
      },
      {
        "duration": 8,
        "start_time": "2023-07-24T19:31:11.660Z"
      },
      {
        "duration": 177,
        "start_time": "2023-07-24T19:31:11.672Z"
      },
      {
        "duration": 11,
        "start_time": "2023-07-24T19:31:11.851Z"
      },
      {
        "duration": 105,
        "start_time": "2023-07-24T19:31:11.864Z"
      },
      {
        "duration": 21,
        "start_time": "2023-07-24T19:31:11.971Z"
      },
      {
        "duration": 4,
        "start_time": "2023-07-24T19:31:11.994Z"
      },
      {
        "duration": 580456,
        "start_time": "2023-07-24T19:31:11.999Z"
      },
      {
        "duration": 3,
        "start_time": "2023-07-24T19:40:52.457Z"
      },
      {
        "duration": 16,
        "start_time": "2023-07-24T19:40:52.462Z"
      },
      {
        "duration": 7174,
        "start_time": "2023-07-24T19:40:52.480Z"
      },
      {
        "duration": 1928,
        "start_time": "2023-07-24T19:40:59.656Z"
      },
      {
        "duration": 5,
        "start_time": "2023-07-24T19:41:01.586Z"
      },
      {
        "duration": 181,
        "start_time": "2023-07-24T19:41:01.593Z"
      },
      {
        "duration": 4,
        "start_time": "2023-07-24T19:41:01.776Z"
      },
      {
        "duration": 2118,
        "start_time": "2023-07-24T19:43:06.019Z"
      },
      {
        "duration": 1368,
        "start_time": "2023-07-24T19:43:08.140Z"
      },
      {
        "duration": 861,
        "start_time": "2023-07-24T19:43:09.510Z"
      },
      {
        "duration": 35,
        "start_time": "2023-07-24T19:43:10.373Z"
      },
      {
        "duration": 135,
        "start_time": "2023-07-24T19:43:10.417Z"
      },
      {
        "duration": 109,
        "start_time": "2023-07-24T19:43:10.554Z"
      },
      {
        "duration": 96,
        "start_time": "2023-07-24T19:43:10.665Z"
      },
      {
        "duration": 61,
        "start_time": "2023-07-24T19:43:10.763Z"
      },
      {
        "duration": 324,
        "start_time": "2023-07-24T19:43:10.826Z"
      },
      {
        "duration": 95,
        "start_time": "2023-07-24T19:43:11.152Z"
      },
      {
        "duration": 433,
        "start_time": "2023-07-24T19:43:11.249Z"
      },
      {
        "duration": 17,
        "start_time": "2023-07-24T19:43:11.683Z"
      },
      {
        "duration": 407,
        "start_time": "2023-07-24T19:43:11.702Z"
      },
      {
        "duration": 55,
        "start_time": "2023-07-24T19:43:12.113Z"
      },
      {
        "duration": 211,
        "start_time": "2023-07-24T19:43:12.170Z"
      },
      {
        "duration": 19,
        "start_time": "2023-07-24T19:43:12.383Z"
      },
      {
        "duration": 299,
        "start_time": "2023-07-24T19:43:12.404Z"
      },
      {
        "duration": 13,
        "start_time": "2023-07-24T19:43:12.705Z"
      },
      {
        "duration": 2,
        "start_time": "2023-07-24T19:43:12.720Z"
      },
      {
        "duration": 50,
        "start_time": "2023-07-24T19:43:12.724Z"
      },
      {
        "duration": 33,
        "start_time": "2023-07-24T19:43:12.776Z"
      },
      {
        "duration": 18,
        "start_time": "2023-07-24T19:43:12.811Z"
      },
      {
        "duration": 35,
        "start_time": "2023-07-24T19:43:12.831Z"
      },
      {
        "duration": 286,
        "start_time": "2023-07-24T19:43:12.868Z"
      },
      {
        "duration": 407,
        "start_time": "2023-07-24T19:43:13.156Z"
      },
      {
        "duration": 34,
        "start_time": "2023-07-24T19:43:13.566Z"
      },
      {
        "duration": 205,
        "start_time": "2023-07-24T19:43:13.602Z"
      },
      {
        "duration": 6,
        "start_time": "2023-07-24T19:43:13.810Z"
      },
      {
        "duration": 447,
        "start_time": "2023-07-24T19:43:13.818Z"
      },
      {
        "duration": 20,
        "start_time": "2023-07-24T19:43:14.267Z"
      },
      {
        "duration": 30,
        "start_time": "2023-07-24T19:43:14.289Z"
      },
      {
        "duration": 38,
        "start_time": "2023-07-24T19:43:14.320Z"
      },
      {
        "duration": 8,
        "start_time": "2023-07-24T19:43:14.360Z"
      },
      {
        "duration": 12,
        "start_time": "2023-07-24T19:43:14.370Z"
      },
      {
        "duration": 111,
        "start_time": "2023-07-24T19:43:14.384Z"
      },
      {
        "duration": 870,
        "start_time": "2023-07-24T19:43:14.497Z"
      },
      {
        "duration": 18,
        "start_time": "2023-07-24T19:43:15.369Z"
      },
      {
        "duration": 145,
        "start_time": "2023-07-24T19:43:15.388Z"
      },
      {
        "duration": 21,
        "start_time": "2023-07-24T19:43:15.535Z"
      },
      {
        "duration": 21,
        "start_time": "2023-07-24T19:43:15.558Z"
      },
      {
        "duration": 490,
        "start_time": "2023-07-24T19:43:15.583Z"
      },
      {
        "duration": 145,
        "start_time": "2023-07-24T19:43:16.075Z"
      },
      {
        "duration": 148,
        "start_time": "2023-07-24T19:43:16.223Z"
      },
      {
        "duration": 2188,
        "start_time": "2023-07-24T19:43:34.389Z"
      },
      {
        "duration": 1294,
        "start_time": "2023-07-24T19:43:36.580Z"
      },
      {
        "duration": 939,
        "start_time": "2023-07-24T19:43:37.876Z"
      },
      {
        "duration": 36,
        "start_time": "2023-07-24T19:43:38.817Z"
      },
      {
        "duration": 140,
        "start_time": "2023-07-24T19:43:38.856Z"
      },
      {
        "duration": 123,
        "start_time": "2023-07-24T19:43:38.997Z"
      },
      {
        "duration": 91,
        "start_time": "2023-07-24T19:43:39.122Z"
      },
      {
        "duration": 66,
        "start_time": "2023-07-24T19:43:39.215Z"
      },
      {
        "duration": 315,
        "start_time": "2023-07-24T19:43:39.282Z"
      },
      {
        "duration": 84,
        "start_time": "2023-07-24T19:43:39.599Z"
      },
      {
        "duration": 600,
        "start_time": "2023-07-24T19:43:39.684Z"
      },
      {
        "duration": 19,
        "start_time": "2023-07-24T19:43:40.286Z"
      },
      {
        "duration": 373,
        "start_time": "2023-07-24T19:43:40.306Z"
      },
      {
        "duration": 47,
        "start_time": "2023-07-24T19:43:40.682Z"
      },
      {
        "duration": 209,
        "start_time": "2023-07-24T19:43:40.731Z"
      },
      {
        "duration": 20,
        "start_time": "2023-07-24T19:43:40.942Z"
      },
      {
        "duration": 293,
        "start_time": "2023-07-24T19:43:40.964Z"
      },
      {
        "duration": 14,
        "start_time": "2023-07-24T19:43:41.258Z"
      },
      {
        "duration": 10,
        "start_time": "2023-07-24T19:43:41.273Z"
      },
      {
        "duration": 50,
        "start_time": "2023-07-24T19:43:41.285Z"
      },
      {
        "duration": 36,
        "start_time": "2023-07-24T19:43:41.337Z"
      },
      {
        "duration": 18,
        "start_time": "2023-07-24T19:43:41.374Z"
      },
      {
        "duration": 17,
        "start_time": "2023-07-24T19:43:41.393Z"
      },
      {
        "duration": 280,
        "start_time": "2023-07-24T19:43:41.411Z"
      },
      {
        "duration": 385,
        "start_time": "2023-07-24T19:43:41.693Z"
      },
      {
        "duration": 36,
        "start_time": "2023-07-24T19:43:42.080Z"
      },
      {
        "duration": 177,
        "start_time": "2023-07-24T19:43:42.118Z"
      },
      {
        "duration": 6,
        "start_time": "2023-07-24T19:43:42.297Z"
      },
      {
        "duration": 48,
        "start_time": "2023-07-24T19:43:42.305Z"
      },
      {
        "duration": 19,
        "start_time": "2023-07-24T19:43:42.357Z"
      },
      {
        "duration": 29,
        "start_time": "2023-07-24T19:43:42.378Z"
      },
      {
        "duration": 44,
        "start_time": "2023-07-24T19:43:42.408Z"
      },
      {
        "duration": 7,
        "start_time": "2023-07-24T19:43:42.454Z"
      },
      {
        "duration": 9,
        "start_time": "2023-07-24T19:43:42.463Z"
      },
      {
        "duration": 105,
        "start_time": "2023-07-24T19:43:42.474Z"
      },
      {
        "duration": 820,
        "start_time": "2023-07-24T19:43:42.581Z"
      },
      {
        "duration": 16,
        "start_time": "2023-07-24T19:43:43.403Z"
      },
      {
        "duration": 131,
        "start_time": "2023-07-24T19:43:43.421Z"
      },
      {
        "duration": 14,
        "start_time": "2023-07-24T19:43:43.554Z"
      },
      {
        "duration": 71,
        "start_time": "2023-07-24T19:43:43.570Z"
      },
      {
        "duration": 449,
        "start_time": "2023-07-24T19:43:43.647Z"
      },
      {
        "duration": 141,
        "start_time": "2023-07-24T19:43:44.098Z"
      },
      {
        "duration": 147,
        "start_time": "2023-07-24T19:43:44.241Z"
      },
      {
        "duration": 39670,
        "start_time": "2023-07-24T19:43:44.390Z"
      },
      {
        "duration": 7,
        "start_time": "2023-07-24T19:44:24.062Z"
      },
      {
        "duration": 169,
        "start_time": "2023-07-24T19:44:24.070Z"
      },
      {
        "duration": 9,
        "start_time": "2023-07-24T19:44:24.241Z"
      },
      {
        "duration": 62,
        "start_time": "2023-07-24T19:44:24.252Z"
      },
      {
        "duration": 19,
        "start_time": "2023-07-24T19:44:24.316Z"
      },
      {
        "duration": 4,
        "start_time": "2023-07-24T19:44:24.337Z"
      },
      {
        "duration": 71218,
        "start_time": "2023-07-24T19:44:24.343Z"
      },
      {
        "duration": 3,
        "start_time": "2023-07-24T19:45:35.563Z"
      },
      {
        "duration": 23,
        "start_time": "2023-07-24T19:45:35.568Z"
      },
      {
        "duration": 5761,
        "start_time": "2023-07-24T19:45:35.593Z"
      },
      {
        "duration": 1816,
        "start_time": "2023-07-24T19:45:41.356Z"
      },
      {
        "duration": 5,
        "start_time": "2023-07-24T19:45:43.174Z"
      },
      {
        "duration": 104,
        "start_time": "2023-07-24T19:45:43.252Z"
      },
      {
        "duration": 4,
        "start_time": "2023-07-24T19:45:43.358Z"
      },
      {
        "duration": 762816,
        "start_time": "2023-07-24T19:45:43.364Z"
      },
      {
        "duration": 5,
        "start_time": "2023-07-24T19:58:26.182Z"
      },
      {
        "duration": 6,
        "start_time": "2023-07-24T19:58:26.189Z"
      },
      {
        "duration": 319359,
        "start_time": "2023-07-24T19:58:26.197Z"
      },
      {
        "duration": 1160,
        "start_time": "2023-07-24T20:03:45.558Z"
      },
      {
        "duration": 5,
        "start_time": "2023-07-24T20:03:46.720Z"
      },
      {
        "duration": 28,
        "start_time": "2023-07-24T20:03:46.727Z"
      },
      {
        "duration": 1143,
        "start_time": "2023-07-24T20:03:46.756Z"
      },
      {
        "duration": 357,
        "start_time": "2023-07-24T20:03:47.901Z"
      },
      {
        "duration": 319,
        "start_time": "2023-07-24T20:03:48.261Z"
      },
      {
        "duration": 7,
        "start_time": "2023-07-24T20:03:48.583Z"
      },
      {
        "duration": 292,
        "start_time": "2023-07-24T20:03:48.596Z"
      },
      {
        "duration": 4,
        "start_time": "2023-07-24T20:14:16.291Z"
      },
      {
        "duration": 7,
        "start_time": "2023-07-24T20:14:16.297Z"
      },
      {
        "duration": 12,
        "start_time": "2023-07-24T20:14:21.447Z"
      },
      {
        "duration": 5,
        "start_time": "2023-07-24T20:14:45.283Z"
      },
      {
        "duration": 44,
        "start_time": "2023-07-24T20:16:39.368Z"
      },
      {
        "duration": 2198,
        "start_time": "2023-07-24T20:16:49.832Z"
      },
      {
        "duration": 469,
        "start_time": "2023-07-24T20:16:53.795Z"
      },
      {
        "duration": 198,
        "start_time": "2023-07-24T20:16:54.267Z"
      },
      {
        "duration": 6,
        "start_time": "2023-07-24T20:16:56.061Z"
      },
      {
        "duration": 12,
        "start_time": "2023-07-24T20:17:38.895Z"
      },
      {
        "duration": 4,
        "start_time": "2023-07-24T20:18:05.853Z"
      },
      {
        "duration": 6856,
        "start_time": "2023-07-26T00:16:47.270Z"
      },
      {
        "duration": 1683,
        "start_time": "2023-07-26T00:16:54.128Z"
      },
      {
        "duration": 1213,
        "start_time": "2023-07-26T00:16:55.812Z"
      },
      {
        "duration": 25,
        "start_time": "2023-07-26T00:16:57.026Z"
      },
      {
        "duration": 131,
        "start_time": "2023-07-26T00:16:57.054Z"
      },
      {
        "duration": 104,
        "start_time": "2023-07-26T00:16:57.187Z"
      },
      {
        "duration": 104,
        "start_time": "2023-07-26T00:16:57.292Z"
      },
      {
        "duration": 51,
        "start_time": "2023-07-26T00:16:57.398Z"
      },
      {
        "duration": 299,
        "start_time": "2023-07-26T00:16:57.451Z"
      },
      {
        "duration": 83,
        "start_time": "2023-07-26T00:16:57.752Z"
      },
      {
        "duration": 398,
        "start_time": "2023-07-26T00:16:57.836Z"
      },
      {
        "duration": 11,
        "start_time": "2023-07-26T00:16:58.235Z"
      },
      {
        "duration": 307,
        "start_time": "2023-07-26T00:16:58.248Z"
      },
      {
        "duration": 52,
        "start_time": "2023-07-26T00:16:58.559Z"
      },
      {
        "duration": 204,
        "start_time": "2023-07-26T00:16:58.614Z"
      },
      {
        "duration": 28,
        "start_time": "2023-07-26T00:16:58.821Z"
      },
      {
        "duration": 241,
        "start_time": "2023-07-26T00:16:58.851Z"
      },
      {
        "duration": 23,
        "start_time": "2023-07-26T00:16:59.093Z"
      },
      {
        "duration": 2,
        "start_time": "2023-07-26T00:16:59.118Z"
      },
      {
        "duration": 17,
        "start_time": "2023-07-26T00:16:59.122Z"
      },
      {
        "duration": 28,
        "start_time": "2023-07-26T00:16:59.141Z"
      },
      {
        "duration": 44,
        "start_time": "2023-07-26T00:16:59.170Z"
      },
      {
        "duration": 29,
        "start_time": "2023-07-26T00:16:59.216Z"
      },
      {
        "duration": 270,
        "start_time": "2023-07-26T00:16:59.247Z"
      },
      {
        "duration": 327,
        "start_time": "2023-07-26T00:16:59.519Z"
      },
      {
        "duration": 28,
        "start_time": "2023-07-26T00:16:59.848Z"
      },
      {
        "duration": 162,
        "start_time": "2023-07-26T00:16:59.877Z"
      },
      {
        "duration": 5,
        "start_time": "2023-07-26T00:17:00.041Z"
      },
      {
        "duration": 91,
        "start_time": "2023-07-26T00:17:00.047Z"
      },
      {
        "duration": 41,
        "start_time": "2023-07-26T00:17:00.140Z"
      },
      {
        "duration": 66,
        "start_time": "2023-07-26T00:17:00.182Z"
      },
      {
        "duration": 112,
        "start_time": "2023-07-26T00:17:00.250Z"
      },
      {
        "duration": 72,
        "start_time": "2023-07-26T00:17:00.364Z"
      },
      {
        "duration": 34,
        "start_time": "2023-07-26T00:17:00.437Z"
      },
      {
        "duration": 109,
        "start_time": "2023-07-26T00:17:00.473Z"
      },
      {
        "duration": 758,
        "start_time": "2023-07-26T00:17:00.583Z"
      },
      {
        "duration": 14,
        "start_time": "2023-07-26T00:17:01.342Z"
      },
      {
        "duration": 127,
        "start_time": "2023-07-26T00:17:01.358Z"
      },
      {
        "duration": 18,
        "start_time": "2023-07-26T00:17:01.487Z"
      },
      {
        "duration": 85,
        "start_time": "2023-07-26T00:17:01.506Z"
      },
      {
        "duration": 492,
        "start_time": "2023-07-26T00:17:01.595Z"
      },
      {
        "duration": 152,
        "start_time": "2023-07-26T00:17:02.089Z"
      },
      {
        "duration": 144,
        "start_time": "2023-07-26T00:17:02.242Z"
      },
      {
        "duration": 26725,
        "start_time": "2023-07-26T00:17:02.387Z"
      },
      {
        "duration": 7,
        "start_time": "2023-07-26T00:17:29.115Z"
      },
      {
        "duration": 168,
        "start_time": "2023-07-26T00:17:29.124Z"
      },
      {
        "duration": 21,
        "start_time": "2023-07-26T00:17:29.293Z"
      },
      {
        "duration": 33,
        "start_time": "2023-07-26T00:18:11.227Z"
      },
      {
        "duration": 3,
        "start_time": "2023-07-26T00:18:18.330Z"
      },
      {
        "duration": 3151,
        "start_time": "2023-07-26T00:18:19.621Z"
      },
      {
        "duration": 1995,
        "start_time": "2023-07-26T00:18:58.430Z"
      },
      {
        "duration": 4,
        "start_time": "2023-07-26T00:19:53.811Z"
      },
      {
        "duration": 127,
        "start_time": "2023-07-26T00:19:54.246Z"
      },
      {
        "duration": 4,
        "start_time": "2023-07-26T00:20:02.749Z"
      },
      {
        "duration": 9867,
        "start_time": "2023-07-26T00:20:03.146Z"
      },
      {
        "duration": 4,
        "start_time": "2023-07-26T00:20:29.115Z"
      },
      {
        "duration": 2497,
        "start_time": "2023-07-26T00:22:18.722Z"
      },
      {
        "duration": 1449,
        "start_time": "2023-07-26T00:22:21.222Z"
      },
      {
        "duration": 853,
        "start_time": "2023-07-26T00:22:22.672Z"
      },
      {
        "duration": 37,
        "start_time": "2023-07-26T00:22:23.531Z"
      },
      {
        "duration": 152,
        "start_time": "2023-07-26T00:22:23.570Z"
      },
      {
        "duration": 108,
        "start_time": "2023-07-26T00:22:23.731Z"
      },
      {
        "duration": 93,
        "start_time": "2023-07-26T00:22:23.841Z"
      },
      {
        "duration": 49,
        "start_time": "2023-07-26T00:22:23.935Z"
      },
      {
        "duration": 337,
        "start_time": "2023-07-26T00:22:23.986Z"
      },
      {
        "duration": 106,
        "start_time": "2023-07-26T00:22:24.325Z"
      },
      {
        "duration": 406,
        "start_time": "2023-07-26T00:22:24.432Z"
      },
      {
        "duration": 14,
        "start_time": "2023-07-26T00:22:24.840Z"
      },
      {
        "duration": 325,
        "start_time": "2023-07-26T00:22:24.856Z"
      },
      {
        "duration": 50,
        "start_time": "2023-07-26T00:22:25.184Z"
      },
      {
        "duration": 205,
        "start_time": "2023-07-26T00:22:25.236Z"
      },
      {
        "duration": 18,
        "start_time": "2023-07-26T00:22:25.443Z"
      },
      {
        "duration": 261,
        "start_time": "2023-07-26T00:22:25.462Z"
      },
      {
        "duration": 14,
        "start_time": "2023-07-26T00:22:25.725Z"
      },
      {
        "duration": 4,
        "start_time": "2023-07-26T00:22:25.742Z"
      },
      {
        "duration": 19,
        "start_time": "2023-07-26T00:22:25.749Z"
      },
      {
        "duration": 69,
        "start_time": "2023-07-26T00:22:25.770Z"
      },
      {
        "duration": 18,
        "start_time": "2023-07-26T00:22:25.841Z"
      },
      {
        "duration": 17,
        "start_time": "2023-07-26T00:22:25.860Z"
      },
      {
        "duration": 346,
        "start_time": "2023-07-26T00:22:25.879Z"
      },
      {
        "duration": 358,
        "start_time": "2023-07-26T00:22:26.230Z"
      },
      {
        "duration": 50,
        "start_time": "2023-07-26T00:22:26.589Z"
      },
      {
        "duration": 153,
        "start_time": "2023-07-26T00:22:26.641Z"
      },
      {
        "duration": 7,
        "start_time": "2023-07-26T00:22:26.799Z"
      },
      {
        "duration": 46,
        "start_time": "2023-07-26T00:22:26.808Z"
      },
      {
        "duration": 17,
        "start_time": "2023-07-26T00:22:26.856Z"
      },
      {
        "duration": 66,
        "start_time": "2023-07-26T00:22:26.875Z"
      },
      {
        "duration": 19,
        "start_time": "2023-07-26T00:22:26.942Z"
      },
      {
        "duration": 7,
        "start_time": "2023-07-26T00:22:26.963Z"
      },
      {
        "duration": 10,
        "start_time": "2023-07-26T00:22:26.972Z"
      },
      {
        "duration": 110,
        "start_time": "2023-07-26T00:22:26.983Z"
      },
      {
        "duration": 838,
        "start_time": "2023-07-26T00:22:27.095Z"
      },
      {
        "duration": 18,
        "start_time": "2023-07-26T00:22:27.935Z"
      },
      {
        "duration": 119,
        "start_time": "2023-07-26T00:22:27.955Z"
      },
      {
        "duration": 13,
        "start_time": "2023-07-26T00:22:28.075Z"
      },
      {
        "duration": 54,
        "start_time": "2023-07-26T00:22:28.089Z"
      },
      {
        "duration": 488,
        "start_time": "2023-07-26T00:22:28.148Z"
      },
      {
        "duration": 140,
        "start_time": "2023-07-26T00:22:28.638Z"
      },
      {
        "duration": 151,
        "start_time": "2023-07-26T00:22:28.779Z"
      },
      {
        "duration": 32693,
        "start_time": "2023-07-26T00:22:28.931Z"
      },
      {
        "duration": 8,
        "start_time": "2023-07-26T00:23:01.626Z"
      },
      {
        "duration": 198,
        "start_time": "2023-07-26T00:23:01.636Z"
      },
      {
        "duration": 10,
        "start_time": "2023-07-26T00:23:01.835Z"
      },
      {
        "duration": 85,
        "start_time": "2023-07-26T00:23:01.847Z"
      },
      {
        "duration": 23,
        "start_time": "2023-07-26T00:23:01.934Z"
      },
      {
        "duration": 2801,
        "start_time": "2023-07-26T06:00:32.647Z"
      },
      {
        "duration": 1558,
        "start_time": "2023-07-26T06:00:35.450Z"
      },
      {
        "duration": 820,
        "start_time": "2023-07-26T06:00:37.014Z"
      },
      {
        "duration": 24,
        "start_time": "2023-07-26T06:00:37.836Z"
      },
      {
        "duration": 151,
        "start_time": "2023-07-26T06:00:37.863Z"
      },
      {
        "duration": 115,
        "start_time": "2023-07-26T06:00:38.018Z"
      },
      {
        "duration": 89,
        "start_time": "2023-07-26T06:00:38.135Z"
      },
      {
        "duration": 90,
        "start_time": "2023-07-26T06:00:38.228Z"
      },
      {
        "duration": 357,
        "start_time": "2023-07-26T06:00:38.320Z"
      },
      {
        "duration": 88,
        "start_time": "2023-07-26T06:00:38.679Z"
      },
      {
        "duration": 391,
        "start_time": "2023-07-26T06:00:38.769Z"
      },
      {
        "duration": 14,
        "start_time": "2023-07-26T06:00:39.163Z"
      },
      {
        "duration": 341,
        "start_time": "2023-07-26T06:00:39.179Z"
      },
      {
        "duration": 45,
        "start_time": "2023-07-26T06:00:39.524Z"
      },
      {
        "duration": 205,
        "start_time": "2023-07-26T06:00:39.571Z"
      },
      {
        "duration": 41,
        "start_time": "2023-07-26T06:00:39.778Z"
      },
      {
        "duration": 264,
        "start_time": "2023-07-26T06:00:39.821Z"
      },
      {
        "duration": 19,
        "start_time": "2023-07-26T06:00:40.086Z"
      },
      {
        "duration": 13,
        "start_time": "2023-07-26T06:00:40.106Z"
      },
      {
        "duration": 25,
        "start_time": "2023-07-26T06:00:40.121Z"
      },
      {
        "duration": 28,
        "start_time": "2023-07-26T06:00:40.148Z"
      },
      {
        "duration": 31,
        "start_time": "2023-07-26T06:00:40.178Z"
      },
      {
        "duration": 22,
        "start_time": "2023-07-26T06:00:40.210Z"
      },
      {
        "duration": 262,
        "start_time": "2023-07-26T06:00:40.234Z"
      },
      {
        "duration": 359,
        "start_time": "2023-07-26T06:00:40.498Z"
      },
      {
        "duration": 46,
        "start_time": "2023-07-26T06:00:40.859Z"
      },
      {
        "duration": 166,
        "start_time": "2023-07-26T06:00:40.906Z"
      },
      {
        "duration": 7,
        "start_time": "2023-07-26T06:00:41.074Z"
      },
      {
        "duration": 57,
        "start_time": "2023-07-26T06:00:41.083Z"
      },
      {
        "duration": 20,
        "start_time": "2023-07-26T06:00:41.141Z"
      },
      {
        "duration": 43,
        "start_time": "2023-07-26T06:00:41.162Z"
      },
      {
        "duration": 35,
        "start_time": "2023-07-26T06:00:41.218Z"
      },
      {
        "duration": 27,
        "start_time": "2023-07-26T06:00:41.255Z"
      },
      {
        "duration": 17,
        "start_time": "2023-07-26T06:00:41.284Z"
      },
      {
        "duration": 133,
        "start_time": "2023-07-26T06:00:41.302Z"
      },
      {
        "duration": 812,
        "start_time": "2023-07-26T06:00:41.437Z"
      },
      {
        "duration": 15,
        "start_time": "2023-07-26T06:00:42.250Z"
      },
      {
        "duration": 108,
        "start_time": "2023-07-26T06:00:42.267Z"
      },
      {
        "duration": 28,
        "start_time": "2023-07-26T06:00:42.377Z"
      },
      {
        "duration": 23,
        "start_time": "2023-07-26T06:00:42.418Z"
      },
      {
        "duration": 499,
        "start_time": "2023-07-26T06:00:42.447Z"
      },
      {
        "duration": 142,
        "start_time": "2023-07-26T06:00:42.947Z"
      },
      {
        "duration": 143,
        "start_time": "2023-07-26T06:00:43.091Z"
      },
      {
        "duration": 27370,
        "start_time": "2023-07-26T06:00:43.235Z"
      },
      {
        "duration": 8,
        "start_time": "2023-07-26T06:01:10.607Z"
      },
      {
        "duration": 157,
        "start_time": "2023-07-26T06:01:10.618Z"
      },
      {
        "duration": 9,
        "start_time": "2023-07-26T06:01:10.777Z"
      },
      {
        "duration": 59,
        "start_time": "2023-07-26T06:01:10.787Z"
      },
      {
        "duration": 5,
        "start_time": "2023-07-26T06:01:10.848Z"
      },
      {
        "duration": 2384,
        "start_time": "2023-07-26T06:19:20.977Z"
      },
      {
        "duration": 1276,
        "start_time": "2023-07-26T06:19:23.364Z"
      },
      {
        "duration": 907,
        "start_time": "2023-07-26T06:19:24.643Z"
      },
      {
        "duration": 43,
        "start_time": "2023-07-26T06:19:25.552Z"
      },
      {
        "duration": 169,
        "start_time": "2023-07-26T06:19:25.598Z"
      },
      {
        "duration": 112,
        "start_time": "2023-07-26T06:19:25.769Z"
      },
      {
        "duration": 110,
        "start_time": "2023-07-26T06:19:25.882Z"
      },
      {
        "duration": 59,
        "start_time": "2023-07-26T06:19:25.994Z"
      },
      {
        "duration": 398,
        "start_time": "2023-07-26T06:19:26.055Z"
      },
      {
        "duration": 97,
        "start_time": "2023-07-26T06:19:26.455Z"
      },
      {
        "duration": 389,
        "start_time": "2023-07-26T06:19:26.554Z"
      },
      {
        "duration": 12,
        "start_time": "2023-07-26T06:19:26.944Z"
      },
      {
        "duration": 332,
        "start_time": "2023-07-26T06:19:26.958Z"
      },
      {
        "duration": 47,
        "start_time": "2023-07-26T06:19:27.293Z"
      },
      {
        "duration": 244,
        "start_time": "2023-07-26T06:19:27.343Z"
      },
      {
        "duration": 36,
        "start_time": "2023-07-26T06:19:27.589Z"
      },
      {
        "duration": 289,
        "start_time": "2023-07-26T06:19:27.627Z"
      },
      {
        "duration": 11,
        "start_time": "2023-07-26T06:19:27.922Z"
      },
      {
        "duration": 42,
        "start_time": "2023-07-26T06:19:27.934Z"
      },
      {
        "duration": 57,
        "start_time": "2023-07-26T06:19:27.978Z"
      },
      {
        "duration": 36,
        "start_time": "2023-07-26T06:19:28.036Z"
      },
      {
        "duration": 21,
        "start_time": "2023-07-26T06:19:28.074Z"
      },
      {
        "duration": 32,
        "start_time": "2023-07-26T06:19:28.097Z"
      },
      {
        "duration": 302,
        "start_time": "2023-07-26T06:19:28.132Z"
      },
      {
        "duration": 377,
        "start_time": "2023-07-26T06:19:28.436Z"
      },
      {
        "duration": 36,
        "start_time": "2023-07-26T06:19:28.814Z"
      },
      {
        "duration": 172,
        "start_time": "2023-07-26T06:19:28.852Z"
      },
      {
        "duration": 9,
        "start_time": "2023-07-26T06:19:29.026Z"
      },
      {
        "duration": 60,
        "start_time": "2023-07-26T06:19:29.038Z"
      },
      {
        "duration": 53,
        "start_time": "2023-07-26T06:19:29.100Z"
      },
      {
        "duration": 52,
        "start_time": "2023-07-26T06:19:29.154Z"
      },
      {
        "duration": 69,
        "start_time": "2023-07-26T06:19:29.208Z"
      },
      {
        "duration": 15,
        "start_time": "2023-07-26T06:19:29.279Z"
      },
      {
        "duration": 64,
        "start_time": "2023-07-26T06:19:29.295Z"
      },
      {
        "duration": 141,
        "start_time": "2023-07-26T06:19:29.361Z"
      },
      {
        "duration": 844,
        "start_time": "2023-07-26T06:19:29.504Z"
      },
      {
        "duration": 15,
        "start_time": "2023-07-26T06:19:30.349Z"
      },
      {
        "duration": 178,
        "start_time": "2023-07-26T06:19:30.366Z"
      },
      {
        "duration": 16,
        "start_time": "2023-07-26T06:19:30.546Z"
      },
      {
        "duration": 66,
        "start_time": "2023-07-26T06:19:30.564Z"
      },
      {
        "duration": 585,
        "start_time": "2023-07-26T06:19:30.636Z"
      },
      {
        "duration": 171,
        "start_time": "2023-07-26T06:19:31.230Z"
      },
      {
        "duration": 186,
        "start_time": "2023-07-26T06:19:31.407Z"
      },
      {
        "duration": 25522,
        "start_time": "2023-07-26T06:19:31.595Z"
      },
      {
        "duration": 17,
        "start_time": "2023-07-26T06:19:57.119Z"
      },
      {
        "duration": 284,
        "start_time": "2023-07-26T06:19:57.138Z"
      },
      {
        "duration": 11,
        "start_time": "2023-07-26T06:19:57.424Z"
      },
      {
        "duration": 53,
        "start_time": "2023-07-26T06:19:57.437Z"
      },
      {
        "duration": 34,
        "start_time": "2023-07-26T06:19:57.492Z"
      },
      {
        "duration": 2225,
        "start_time": "2023-07-26T08:38:43.835Z"
      },
      {
        "duration": 1244,
        "start_time": "2023-07-26T08:38:46.063Z"
      },
      {
        "duration": 965,
        "start_time": "2023-07-26T08:38:50.385Z"
      },
      {
        "duration": 22,
        "start_time": "2023-07-26T08:38:53.545Z"
      },
      {
        "duration": 132,
        "start_time": "2023-07-26T08:38:54.145Z"
      },
      {
        "duration": 98,
        "start_time": "2023-07-26T08:38:54.983Z"
      },
      {
        "duration": 81,
        "start_time": "2023-07-26T08:38:55.687Z"
      },
      {
        "duration": 50,
        "start_time": "2023-07-26T08:38:56.927Z"
      },
      {
        "duration": 326,
        "start_time": "2023-07-26T08:38:57.471Z"
      },
      {
        "duration": 91,
        "start_time": "2023-07-26T08:38:59.174Z"
      },
      {
        "duration": 390,
        "start_time": "2023-07-26T08:39:00.573Z"
      },
      {
        "duration": 12,
        "start_time": "2023-07-26T08:39:01.462Z"
      },
      {
        "duration": 338,
        "start_time": "2023-07-26T08:39:01.818Z"
      },
      {
        "duration": 53,
        "start_time": "2023-07-26T08:39:02.158Z"
      },
      {
        "duration": 211,
        "start_time": "2023-07-26T08:39:02.799Z"
      },
      {
        "duration": 17,
        "start_time": "2023-07-26T08:39:03.136Z"
      },
      {
        "duration": 254,
        "start_time": "2023-07-26T08:39:03.637Z"
      },
      {
        "duration": 14,
        "start_time": "2023-07-26T08:39:04.015Z"
      },
      {
        "duration": 2,
        "start_time": "2023-07-26T08:39:04.463Z"
      },
      {
        "duration": 16,
        "start_time": "2023-07-26T08:39:05.582Z"
      },
      {
        "duration": 32,
        "start_time": "2023-07-26T08:39:05.939Z"
      },
      {
        "duration": 18,
        "start_time": "2023-07-26T08:39:06.776Z"
      },
      {
        "duration": 16,
        "start_time": "2023-07-26T08:39:07.231Z"
      },
      {
        "duration": 272,
        "start_time": "2023-07-26T08:39:08.011Z"
      },
      {
        "duration": 335,
        "start_time": "2023-07-26T08:39:09.111Z"
      },
      {
        "duration": 29,
        "start_time": "2023-07-26T08:39:10.155Z"
      },
      {
        "duration": 149,
        "start_time": "2023-07-26T08:39:11.500Z"
      },
      {
        "duration": 6,
        "start_time": "2023-07-26T08:39:14.383Z"
      },
      {
        "duration": 38,
        "start_time": "2023-07-26T08:39:14.391Z"
      },
      {
        "duration": 16,
        "start_time": "2023-07-26T08:39:14.430Z"
      },
      {
        "duration": 25,
        "start_time": "2023-07-26T08:39:14.448Z"
      },
      {
        "duration": 21,
        "start_time": "2023-07-26T08:39:14.665Z"
      },
      {
        "duration": 7,
        "start_time": "2023-07-26T08:39:15.918Z"
      },
      {
        "duration": 8,
        "start_time": "2023-07-26T08:39:16.750Z"
      },
      {
        "duration": 90,
        "start_time": "2023-07-26T08:39:17.661Z"
      },
      {
        "duration": 720,
        "start_time": "2023-07-26T08:39:18.619Z"
      },
      {
        "duration": 15,
        "start_time": "2023-07-26T08:39:20.815Z"
      },
      {
        "duration": 83,
        "start_time": "2023-07-26T08:39:21.279Z"
      },
      {
        "duration": 13,
        "start_time": "2023-07-26T08:39:21.614Z"
      },
      {
        "duration": 18,
        "start_time": "2023-07-26T08:39:24.847Z"
      },
      {
        "duration": 465,
        "start_time": "2023-07-26T08:39:25.272Z"
      },
      {
        "duration": 138,
        "start_time": "2023-07-26T08:39:25.756Z"
      },
      {
        "duration": 126,
        "start_time": "2023-07-26T08:39:27.327Z"
      },
      {
        "duration": 42421,
        "start_time": "2023-07-26T08:39:29.984Z"
      },
      {
        "duration": 8,
        "start_time": "2023-07-26T08:43:34.778Z"
      },
      {
        "duration": 183,
        "start_time": "2023-07-26T08:43:35.826Z"
      },
      {
        "duration": 12,
        "start_time": "2023-07-26T08:43:36.239Z"
      },
      {
        "duration": 32,
        "start_time": "2023-07-26T08:43:36.730Z"
      },
      {
        "duration": 3,
        "start_time": "2023-07-26T08:43:38.093Z"
      },
      {
        "duration": 10269,
        "start_time": "2023-07-26T10:12:15.623Z"
      },
      {
        "duration": 1749,
        "start_time": "2023-07-26T10:12:25.895Z"
      },
      {
        "duration": 1261,
        "start_time": "2023-07-26T10:12:27.646Z"
      },
      {
        "duration": 27,
        "start_time": "2023-07-26T10:12:28.910Z"
      },
      {
        "duration": 137,
        "start_time": "2023-07-26T10:12:28.939Z"
      },
      {
        "duration": 128,
        "start_time": "2023-07-26T10:12:29.078Z"
      },
      {
        "duration": 98,
        "start_time": "2023-07-26T10:12:29.208Z"
      },
      {
        "duration": 80,
        "start_time": "2023-07-26T10:12:29.308Z"
      },
      {
        "duration": 313,
        "start_time": "2023-07-26T10:12:29.391Z"
      },
      {
        "duration": 86,
        "start_time": "2023-07-26T10:12:29.708Z"
      },
      {
        "duration": 453,
        "start_time": "2023-07-26T10:12:29.796Z"
      },
      {
        "duration": 18,
        "start_time": "2023-07-26T10:12:30.251Z"
      },
      {
        "duration": 397,
        "start_time": "2023-07-26T10:12:30.271Z"
      },
      {
        "duration": 43,
        "start_time": "2023-07-26T10:12:30.671Z"
      },
      {
        "duration": 224,
        "start_time": "2023-07-26T10:12:30.716Z"
      },
      {
        "duration": 24,
        "start_time": "2023-07-26T10:12:30.942Z"
      },
      {
        "duration": 374,
        "start_time": "2023-07-26T10:12:30.968Z"
      },
      {
        "duration": 16,
        "start_time": "2023-07-26T10:12:31.345Z"
      },
      {
        "duration": 53,
        "start_time": "2023-07-26T10:12:31.363Z"
      },
      {
        "duration": 104,
        "start_time": "2023-07-26T10:12:31.419Z"
      },
      {
        "duration": 85,
        "start_time": "2023-07-26T10:12:31.525Z"
      },
      {
        "duration": 29,
        "start_time": "2023-07-26T10:12:31.612Z"
      },
      {
        "duration": 156,
        "start_time": "2023-07-26T10:12:31.643Z"
      },
      {
        "duration": 300,
        "start_time": "2023-07-26T10:12:31.800Z"
      },
      {
        "duration": 425,
        "start_time": "2023-07-26T10:12:32.103Z"
      },
      {
        "duration": 43,
        "start_time": "2023-07-26T10:12:32.530Z"
      },
      {
        "duration": 177,
        "start_time": "2023-07-26T10:12:32.575Z"
      },
      {
        "duration": 6,
        "start_time": "2023-07-26T10:12:32.757Z"
      },
      {
        "duration": 59,
        "start_time": "2023-07-26T10:12:32.764Z"
      },
      {
        "duration": 35,
        "start_time": "2023-07-26T10:12:32.825Z"
      },
      {
        "duration": 47,
        "start_time": "2023-07-26T10:12:32.862Z"
      },
      {
        "duration": 47,
        "start_time": "2023-07-26T10:12:32.911Z"
      },
      {
        "duration": 20,
        "start_time": "2023-07-26T10:12:32.960Z"
      },
      {
        "duration": 14,
        "start_time": "2023-07-26T10:12:32.982Z"
      },
      {
        "duration": 91,
        "start_time": "2023-07-26T10:12:32.997Z"
      },
      {
        "duration": 769,
        "start_time": "2023-07-26T10:12:33.090Z"
      },
      {
        "duration": 16,
        "start_time": "2023-07-26T10:12:33.861Z"
      },
      {
        "duration": 129,
        "start_time": "2023-07-26T10:12:33.879Z"
      },
      {
        "duration": 19,
        "start_time": "2023-07-26T10:12:34.010Z"
      },
      {
        "duration": 53,
        "start_time": "2023-07-26T10:12:34.031Z"
      },
      {
        "duration": 461,
        "start_time": "2023-07-26T10:12:34.087Z"
      },
      {
        "duration": 142,
        "start_time": "2023-07-26T10:12:34.551Z"
      },
      {
        "duration": 155,
        "start_time": "2023-07-26T10:12:34.695Z"
      },
      {
        "duration": 36106,
        "start_time": "2023-07-26T10:12:34.853Z"
      },
      {
        "duration": 7,
        "start_time": "2023-07-26T10:13:10.961Z"
      },
      {
        "duration": 167,
        "start_time": "2023-07-26T10:13:10.970Z"
      },
      {
        "duration": 16,
        "start_time": "2023-07-26T10:13:11.139Z"
      },
      {
        "duration": 58,
        "start_time": "2023-07-26T10:13:11.157Z"
      },
      {
        "duration": 4,
        "start_time": "2023-07-26T10:13:11.217Z"
      },
      {
        "duration": 1176648,
        "start_time": "2023-07-26T10:13:11.223Z"
      },
      {
        "duration": 3,
        "start_time": "2023-07-26T10:32:47.873Z"
      },
      {
        "duration": 11,
        "start_time": "2023-07-26T10:32:47.878Z"
      },
      {
        "duration": 58572,
        "start_time": "2023-07-26T10:32:47.891Z"
      },
      {
        "duration": 1921,
        "start_time": "2023-07-26T10:33:46.472Z"
      },
      {
        "duration": 60,
        "start_time": "2023-07-26T10:33:48.396Z"
      },
      {
        "duration": 48,
        "start_time": "2023-07-26T10:33:48.471Z"
      },
      {
        "duration": 2854268,
        "start_time": "2023-07-26T10:33:48.522Z"
      },
      {
        "duration": 5,
        "start_time": "2023-07-26T11:21:22.792Z"
      },
      {
        "duration": 134,
        "start_time": "2023-07-26T11:21:22.798Z"
      },
      {
        "duration": 4,
        "start_time": "2023-07-26T11:21:22.935Z"
      },
      {
        "duration": 33,
        "start_time": "2023-07-26T11:21:22.941Z"
      },
      {
        "duration": 242137,
        "start_time": "2023-07-26T11:21:22.976Z"
      },
      {
        "duration": 0,
        "start_time": "2023-07-26T11:25:25.116Z"
      },
      {
        "duration": 0,
        "start_time": "2023-07-26T11:25:25.118Z"
      },
      {
        "duration": 0,
        "start_time": "2023-07-26T11:25:25.120Z"
      },
      {
        "duration": 1,
        "start_time": "2023-07-26T11:25:25.122Z"
      },
      {
        "duration": 0,
        "start_time": "2023-07-26T11:25:25.124Z"
      },
      {
        "duration": 0,
        "start_time": "2023-07-26T11:25:25.126Z"
      },
      {
        "duration": 0,
        "start_time": "2023-07-26T11:25:25.128Z"
      },
      {
        "duration": 445150,
        "start_time": "2023-07-26T11:25:26.138Z"
      },
      {
        "duration": 5945,
        "start_time": "2023-07-26T11:32:51.296Z"
      },
      {
        "duration": 22,
        "start_time": "2023-07-26T11:32:57.243Z"
      },
      {
        "duration": 124,
        "start_time": "2023-07-26T11:32:57.268Z"
      },
      {
        "duration": 4127,
        "start_time": "2023-07-26T11:32:57.394Z"
      },
      {
        "duration": 663,
        "start_time": "2023-07-26T11:33:01.528Z"
      },
      {
        "duration": 315,
        "start_time": "2023-07-26T11:33:02.194Z"
      },
      {
        "duration": 23,
        "start_time": "2023-07-26T11:33:02.516Z"
      },
      {
        "duration": 19,
        "start_time": "2023-07-26T11:38:51.128Z"
      },
      {
        "duration": 50,
        "start_time": "2023-07-27T12:49:40.504Z"
      },
      {
        "duration": 9590,
        "start_time": "2023-07-27T12:58:15.472Z"
      },
      {
        "duration": 1515,
        "start_time": "2023-07-27T12:58:25.064Z"
      },
      {
        "duration": 2928,
        "start_time": "2023-07-27T12:58:26.581Z"
      },
      {
        "duration": 27,
        "start_time": "2023-07-27T12:58:29.511Z"
      },
      {
        "duration": 125,
        "start_time": "2023-07-27T12:58:29.541Z"
      },
      {
        "duration": 122,
        "start_time": "2023-07-27T12:58:29.670Z"
      },
      {
        "duration": 89,
        "start_time": "2023-07-27T12:58:29.794Z"
      },
      {
        "duration": 53,
        "start_time": "2023-07-27T12:58:29.885Z"
      },
      {
        "duration": 303,
        "start_time": "2023-07-27T12:58:29.940Z"
      },
      {
        "duration": 80,
        "start_time": "2023-07-27T12:58:30.246Z"
      },
      {
        "duration": 459,
        "start_time": "2023-07-27T12:58:30.327Z"
      },
      {
        "duration": 17,
        "start_time": "2023-07-27T12:58:30.788Z"
      },
      {
        "duration": 369,
        "start_time": "2023-07-27T12:58:30.806Z"
      },
      {
        "duration": 51,
        "start_time": "2023-07-27T12:58:31.177Z"
      },
      {
        "duration": 301,
        "start_time": "2023-07-27T12:58:31.835Z"
      },
      {
        "duration": 19,
        "start_time": "2023-07-27T12:58:32.678Z"
      },
      {
        "duration": 240,
        "start_time": "2023-07-27T12:58:34.067Z"
      },
      {
        "duration": 15,
        "start_time": "2023-07-27T12:58:35.803Z"
      },
      {
        "duration": 4,
        "start_time": "2023-07-27T12:58:36.107Z"
      },
      {
        "duration": 32,
        "start_time": "2023-07-27T12:58:36.958Z"
      },
      {
        "duration": 31,
        "start_time": "2023-07-27T12:58:37.398Z"
      },
      {
        "duration": 19,
        "start_time": "2023-07-27T12:58:38.458Z"
      },
      {
        "duration": 17,
        "start_time": "2023-07-27T12:58:38.750Z"
      },
      {
        "duration": 268,
        "start_time": "2023-07-27T12:58:39.332Z"
      },
      {
        "duration": 389,
        "start_time": "2023-07-27T12:58:40.090Z"
      },
      {
        "duration": 36,
        "start_time": "2023-07-27T12:58:40.946Z"
      },
      {
        "duration": 171,
        "start_time": "2023-07-27T12:58:42.378Z"
      },
      {
        "duration": 7,
        "start_time": "2023-07-27T12:58:43.881Z"
      },
      {
        "duration": 30,
        "start_time": "2023-07-27T12:58:45.046Z"
      },
      {
        "duration": 19,
        "start_time": "2023-07-27T12:58:45.817Z"
      },
      {
        "duration": 28,
        "start_time": "2023-07-27T12:58:46.570Z"
      },
      {
        "duration": 19,
        "start_time": "2023-07-27T12:58:47.287Z"
      },
      {
        "duration": 8,
        "start_time": "2023-07-27T12:58:48.906Z"
      },
      {
        "duration": 11,
        "start_time": "2023-07-27T12:58:49.878Z"
      },
      {
        "duration": 93,
        "start_time": "2023-07-27T12:58:50.978Z"
      },
      {
        "duration": 856,
        "start_time": "2023-07-27T12:58:51.879Z"
      },
      {
        "duration": 15,
        "start_time": "2023-07-27T12:58:53.546Z"
      },
      {
        "duration": 119,
        "start_time": "2023-07-27T12:58:54.254Z"
      },
      {
        "duration": 26,
        "start_time": "2023-07-27T12:58:55.006Z"
      },
      {
        "duration": 24,
        "start_time": "2023-07-27T12:59:01.081Z"
      },
      {
        "duration": 468,
        "start_time": "2023-07-27T12:59:02.078Z"
      },
      {
        "duration": 245,
        "start_time": "2023-07-27T12:59:08.386Z"
      },
      {
        "duration": 109,
        "start_time": "2023-07-27T12:59:11.654Z"
      },
      {
        "duration": 10,
        "start_time": "2023-07-27T12:59:23.154Z"
      },
      {
        "duration": 3,
        "start_time": "2023-07-27T12:59:29.227Z"
      },
      {
        "duration": 130,
        "start_time": "2023-07-27T12:59:33.311Z"
      },
      {
        "duration": 252,
        "start_time": "2023-07-27T12:59:39.262Z"
      },
      {
        "duration": 3,
        "start_time": "2023-07-27T13:00:01.794Z"
      },
      {
        "duration": 197,
        "start_time": "2023-07-27T13:00:02.084Z"
      },
      {
        "duration": 111471,
        "start_time": "2023-07-27T13:00:35.590Z"
      },
      {
        "duration": 104,
        "start_time": "2023-07-27T13:02:27.063Z"
      },
      {
        "duration": 0,
        "start_time": "2023-07-27T13:02:27.169Z"
      },
      {
        "duration": 0,
        "start_time": "2023-07-27T13:02:27.170Z"
      },
      {
        "duration": 0,
        "start_time": "2023-07-27T13:02:27.171Z"
      },
      {
        "duration": 0,
        "start_time": "2023-07-27T13:02:27.172Z"
      },
      {
        "duration": 0,
        "start_time": "2023-07-27T13:02:27.173Z"
      },
      {
        "duration": 0,
        "start_time": "2023-07-27T13:02:27.174Z"
      },
      {
        "duration": 0,
        "start_time": "2023-07-27T13:02:27.175Z"
      },
      {
        "duration": 0,
        "start_time": "2023-07-27T13:02:27.176Z"
      },
      {
        "duration": 0,
        "start_time": "2023-07-27T13:02:27.177Z"
      },
      {
        "duration": 0,
        "start_time": "2023-07-27T13:02:27.178Z"
      },
      {
        "duration": 0,
        "start_time": "2023-07-27T13:02:27.180Z"
      },
      {
        "duration": 0,
        "start_time": "2023-07-27T13:02:27.181Z"
      },
      {
        "duration": 0,
        "start_time": "2023-07-27T13:02:27.181Z"
      },
      {
        "duration": 0,
        "start_time": "2023-07-27T13:02:27.182Z"
      },
      {
        "duration": 0,
        "start_time": "2023-07-27T13:02:27.183Z"
      },
      {
        "duration": 0,
        "start_time": "2023-07-27T13:02:27.184Z"
      },
      {
        "duration": 0,
        "start_time": "2023-07-27T13:02:27.185Z"
      },
      {
        "duration": 0,
        "start_time": "2023-07-27T13:02:27.186Z"
      },
      {
        "duration": 0,
        "start_time": "2023-07-27T13:02:27.187Z"
      },
      {
        "duration": 0,
        "start_time": "2023-07-27T13:02:27.188Z"
      },
      {
        "duration": 0,
        "start_time": "2023-07-27T13:02:27.189Z"
      },
      {
        "duration": 0,
        "start_time": "2023-07-27T13:02:27.191Z"
      },
      {
        "duration": 0,
        "start_time": "2023-07-27T13:02:27.192Z"
      },
      {
        "duration": 0,
        "start_time": "2023-07-27T13:02:27.193Z"
      },
      {
        "duration": 0,
        "start_time": "2023-07-27T13:02:27.194Z"
      },
      {
        "duration": 0,
        "start_time": "2023-07-27T13:02:27.195Z"
      },
      {
        "duration": 5,
        "start_time": "2023-07-27T13:02:54.162Z"
      },
      {
        "duration": 32925,
        "start_time": "2023-07-27T13:03:00.634Z"
      },
      {
        "duration": 99,
        "start_time": "2023-07-27T13:03:33.562Z"
      },
      {
        "duration": 0,
        "start_time": "2023-07-27T13:03:33.663Z"
      },
      {
        "duration": 0,
        "start_time": "2023-07-27T13:03:33.665Z"
      },
      {
        "duration": 0,
        "start_time": "2023-07-27T13:03:33.666Z"
      },
      {
        "duration": 0,
        "start_time": "2023-07-27T13:03:33.667Z"
      },
      {
        "duration": 0,
        "start_time": "2023-07-27T13:03:33.668Z"
      },
      {
        "duration": 0,
        "start_time": "2023-07-27T13:03:33.669Z"
      },
      {
        "duration": 0,
        "start_time": "2023-07-27T13:03:33.670Z"
      },
      {
        "duration": 0,
        "start_time": "2023-07-27T13:03:33.671Z"
      },
      {
        "duration": 0,
        "start_time": "2023-07-27T13:03:33.672Z"
      },
      {
        "duration": 0,
        "start_time": "2023-07-27T13:03:33.673Z"
      },
      {
        "duration": 0,
        "start_time": "2023-07-27T13:03:33.675Z"
      },
      {
        "duration": 0,
        "start_time": "2023-07-27T13:03:33.675Z"
      },
      {
        "duration": 0,
        "start_time": "2023-07-27T13:03:33.676Z"
      },
      {
        "duration": 0,
        "start_time": "2023-07-27T13:03:33.677Z"
      },
      {
        "duration": 0,
        "start_time": "2023-07-27T13:03:33.678Z"
      },
      {
        "duration": 0,
        "start_time": "2023-07-27T13:03:33.679Z"
      },
      {
        "duration": 0,
        "start_time": "2023-07-27T13:03:33.680Z"
      },
      {
        "duration": 0,
        "start_time": "2023-07-27T13:03:33.681Z"
      },
      {
        "duration": 0,
        "start_time": "2023-07-27T13:03:33.682Z"
      },
      {
        "duration": 0,
        "start_time": "2023-07-27T13:03:33.682Z"
      },
      {
        "duration": 0,
        "start_time": "2023-07-27T13:03:33.684Z"
      },
      {
        "duration": 0,
        "start_time": "2023-07-27T13:03:33.685Z"
      },
      {
        "duration": 0,
        "start_time": "2023-07-27T13:03:33.686Z"
      },
      {
        "duration": 0,
        "start_time": "2023-07-27T13:03:33.687Z"
      },
      {
        "duration": 38,
        "start_time": "2023-07-27T13:03:51.646Z"
      },
      {
        "duration": 136,
        "start_time": "2023-07-27T13:03:55.546Z"
      },
      {
        "duration": 9,
        "start_time": "2023-07-27T13:03:55.829Z"
      },
      {
        "duration": 43,
        "start_time": "2023-07-27T13:03:56.673Z"
      },
      {
        "duration": 6,
        "start_time": "2023-07-27T13:03:57.541Z"
      },
      {
        "duration": 75874,
        "start_time": "2023-07-27T13:03:58.792Z"
      },
      {
        "duration": 3,
        "start_time": "2023-07-27T13:05:14.669Z"
      },
      {
        "duration": 8,
        "start_time": "2023-07-27T13:05:14.673Z"
      },
      {
        "duration": 14180,
        "start_time": "2023-07-27T13:05:14.683Z"
      },
      {
        "duration": 1804,
        "start_time": "2023-07-27T13:05:28.865Z"
      },
      {
        "duration": 4,
        "start_time": "2023-07-27T13:05:30.671Z"
      },
      {
        "duration": 82,
        "start_time": "2023-07-27T13:05:30.677Z"
      },
      {
        "duration": 2375484,
        "start_time": "2023-07-27T13:05:30.761Z"
      },
      {
        "duration": 4,
        "start_time": "2023-07-27T13:45:06.247Z"
      },
      {
        "duration": 90,
        "start_time": "2023-07-27T13:45:06.253Z"
      },
      {
        "duration": 2,
        "start_time": "2023-07-27T13:45:06.345Z"
      },
      {
        "duration": 23,
        "start_time": "2023-07-27T13:45:06.349Z"
      },
      {
        "duration": 308460,
        "start_time": "2023-07-27T13:45:06.374Z"
      },
      {
        "duration": 3290,
        "start_time": "2023-07-27T13:50:14.836Z"
      },
      {
        "duration": 4,
        "start_time": "2023-07-27T13:50:18.127Z"
      },
      {
        "duration": 22,
        "start_time": "2023-07-27T13:50:18.133Z"
      },
      {
        "duration": 2196,
        "start_time": "2023-07-27T13:50:18.160Z"
      },
      {
        "duration": 442,
        "start_time": "2023-07-27T13:50:20.359Z"
      },
      {
        "duration": 171,
        "start_time": "2023-07-27T13:50:20.803Z"
      },
      {
        "duration": 6,
        "start_time": "2023-07-27T13:50:20.976Z"
      }
    ],
    "kernelspec": {
      "display_name": "Python 3 (ipykernel)",
      "language": "python",
      "name": "python3"
    },
    "language_info": {
      "codemirror_mode": {
        "name": "ipython",
        "version": 3
      },
      "file_extension": ".py",
      "mimetype": "text/x-python",
      "name": "python",
      "nbconvert_exporter": "python",
      "pygments_lexer": "ipython3",
      "version": "3.9.5"
    },
    "toc": {
      "base_numbering": 1,
      "nav_menu": {},
      "number_sections": true,
      "sideBar": true,
      "skip_h1_title": true,
      "title_cell": "Table of Contents",
      "title_sidebar": "Contents",
      "toc_cell": false,
      "toc_position": {},
      "toc_section_display": true,
      "toc_window_display": false
    },
    "colab": {
      "provenance": []
    }
  },
  "nbformat": 4,
  "nbformat_minor": 0
}